{
 "cells": [
  {
   "attachments": {},
   "cell_type": "markdown",
   "id": "00b19b39",
   "metadata": {},
   "source": [
    "손실함수(loss function)\n",
    "- 비용함수(cost function)이라고도 불림\n",
    "- 입력값이 모델을 통해 예측값으로 나오는데, 이 예측값과 실제 값의 차이를 판단하는 기준\n",
    "- 한마디로 모델 성능의 \"나쁨\"을 나타내는 지표\n",
    "\n",
    "회귀 타입에 사용되는 손실함수는 MAE, MSE, RMSE, R-squared가 있다\n",
    "- MAE(Mean Absolute Error: 평균 절대 오차): 직관적이다\n",
    "    - 예측 값과 정답 값 차이에 절대값을 평균 한 거\n",
    "    - 절대값이라 차이가 음수인지 양수인지 알 수가 없다\n",
    "    - 최적 값에 가까워져도 이동거리가 일정하여 최적 값에 수렴하기 어렵다\n",
    "\n",
    "- MSE(Mean Squared Error: 평균 제곱 오차)\n",
    "    - 예측 값과 실제 값 차이에 평균을 제곱한 후 평균을 낸 값\n",
    "    - 제곱 연산이라 차이가 커지면 더욱 찾기 쉽다\n",
    "    - 제곱 연산이라 이상치(outlier)에 민감\n",
    "    - 값을 제곱해서 1 미만이면 더 작아지고 그 이상은 더 커진다\n",
    "\n",
    "- RMSE(Root Mean Squared Error: 평균 제곱근 오차)\n",
    "    - MSE에 제곱근을 씌운 거\n",
    "    - 제곱 연산 후 루트를 씌워서 제곱값으로 생기는 왜곡이 줄어듬\n",
    "    - 오차를 보다 직관적으로 보여줌\n",
    "    - MAE보다 이상치에 강하다(robust)\n",
    "\n",
    "- R-squared(Coefficient of determination: 결정계수)\n",
    "    - represents the coefficient of how well the values fit compared to the original values. The value from 0 to 1 interpreted as percentages. The higher the value is, the better the model is."
   ]
  },
  {
   "cell_type": "markdown",
   "id": "2d0594a0",
   "metadata": {},
   "source": [
    "![Above formulas](https://4.bp.blogspot.com/-wG7IbjTfE6k/XGUvqm7TCVI/AAAAAAAAAZU/vpH1kuKTIooKTcVlnm1EVRCXLVZM9cPNgCLcBGAs/s1600/formula-MAE-MSE-RMSE-RSquared.JPG)"
   ]
  },
  {
   "cell_type": "code",
   "execution_count": null,
   "id": "bd3ac96d",
   "metadata": {},
   "outputs": [],
   "source": []
  }
 ],
 "metadata": {
  "kernelspec": {
   "display_name": "Python 3 (ipykernel)",
   "language": "python",
   "name": "python3"
  },
  "language_info": {
   "codemirror_mode": {
    "name": "ipython",
    "version": 3
   },
   "file_extension": ".py",
   "mimetype": "text/x-python",
   "name": "python",
   "nbconvert_exporter": "python",
   "pygments_lexer": "ipython3",
   "version": "3.9.12"
  }
 },
 "nbformat": 4,
 "nbformat_minor": 5
}
