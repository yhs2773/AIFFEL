{
 "cells": [
  {
   "cell_type": "code",
   "execution_count": 10,
   "id": "d7e917c0",
   "metadata": {},
   "outputs": [
    {
     "data": {
      "text/plain": [
       "dict_keys(['data', 'target', 'frame', 'feature_names', 'target_names', 'images', 'DESCR'])"
      ]
     },
     "execution_count": 10,
     "metadata": {},
     "output_type": "execute_result"
    }
   ],
   "source": [
    "# import required libraries\n",
    "from sklearn.datasets import load_digits\n",
    "from sklearn.model_selection import train_test_split\n",
    "from sklearn.metrics import classification_report\n",
    "from sklearn.metrics import confusion_matrix\n",
    "\n",
    "# set data to a variable\n",
    "digits = load_digits()\n",
    "digits.keys()"
   ]
  },
  {
   "cell_type": "code",
   "execution_count": 11,
   "id": "6ddf8373",
   "metadata": {},
   "outputs": [
    {
     "name": "stdout",
     "output_type": "stream",
     "text": [
      "[0 1 2 3 4 5 6 7 8 9]\n",
      ".. _digits_dataset:\n",
      "\n",
      "Optical recognition of handwritten digits dataset\n",
      "--------------------------------------------------\n",
      "\n",
      "**Data Set Characteristics:**\n",
      "\n",
      "    :Number of Instances: 1797\n",
      "    :Number of Attributes: 64\n",
      "    :Attribute Information: 8x8 image of integer pixels in the range 0..16.\n",
      "    :Missing Attribute Values: None\n",
      "    :Creator: E. Alpaydin (alpaydin '@' boun.edu.tr)\n",
      "    :Date: July; 1998\n",
      "\n",
      "This is a copy of the test set of the UCI ML hand-written digits datasets\n",
      "https://archive.ics.uci.edu/ml/datasets/Optical+Recognition+of+Handwritten+Digits\n",
      "\n",
      "The data set contains images of hand-written digits: 10 classes where\n",
      "each class refers to a digit.\n",
      "\n",
      "Preprocessing programs made available by NIST were used to extract\n",
      "normalized bitmaps of handwritten digits from a preprinted form. From a\n",
      "total of 43 people, 30 contributed to the training set and different 13\n",
      "to the test set. 32x32 bitmaps are divided into nonoverlapping blocks of\n",
      "4x4 and the number of on pixels are counted in each block. This generates\n",
      "an input matrix of 8x8 where each element is an integer in the range\n",
      "0..16. This reduces dimensionality and gives invariance to small\n",
      "distortions.\n",
      "\n",
      "For info on NIST preprocessing routines, see M. D. Garris, J. L. Blue, G.\n",
      "T. Candela, D. L. Dimmick, J. Geist, P. J. Grother, S. A. Janet, and C.\n",
      "L. Wilson, NIST Form-Based Handprint Recognition System, NISTIR 5469,\n",
      "1994.\n",
      "\n",
      ".. topic:: References\n",
      "\n",
      "  - C. Kaynak (1995) Methods of Combining Multiple Classifiers and Their\n",
      "    Applications to Handwritten Digit Recognition, MSc Thesis, Institute of\n",
      "    Graduate Studies in Science and Engineering, Bogazici University.\n",
      "  - E. Alpaydin, C. Kaynak (1998) Cascading Classifiers, Kybernetika.\n",
      "  - Ken Tang and Ponnuthurai N. Suganthan and Xi Yao and A. Kai Qin.\n",
      "    Linear dimensionalityreduction using relevance weighted LDA. School of\n",
      "    Electrical and Electronic Engineering Nanyang Technological University.\n",
      "    2005.\n",
      "  - Claudio Gentile. A New Approximate Maximal Margin Classification\n",
      "    Algorithm. NIPS. 2000.\n",
      "\n"
     ]
    }
   ],
   "source": [
    "# set data to a variable\n",
    "digits_data = digits.data\n",
    "digits_label = digits.target\n",
    "\n",
    "# check names of the labels and details of the data\n",
    "print(digits.target_names)\n",
    "print(digits.DESCR)"
   ]
  },
  {
   "cell_type": "code",
   "execution_count": 2,
   "id": "a8ac0215",
   "metadata": {},
   "outputs": [
    {
     "name": "stdout",
     "output_type": "stream",
     "text": [
      "(1437, 64) (360, 64) (1437,) (360,)\n"
     ]
    }
   ],
   "source": [
    "# use train test split method to split dataset\n",
    "X_train, X_test, y_train, y_test = train_test_split(digits_data,\n",
    "                                                    digits_label,\n",
    "                                                    test_size=0.2,\n",
    "                                                    random_state=12)\n",
    "\n",
    "print(X_train.shape, X_test.shape, y_train.shape, y_test.shape)"
   ]
  },
  {
   "cell_type": "code",
   "execution_count": 3,
   "id": "5f03e90d",
   "metadata": {},
   "outputs": [
    {
     "name": "stdout",
     "output_type": "stream",
     "text": [
      "              precision    recall  f1-score   support\n",
      "\n",
      "           0       0.93      1.00      0.96        37\n",
      "           1       0.86      0.78      0.82        32\n",
      "           2       0.73      0.92      0.81        38\n",
      "           3       0.91      0.91      0.91        43\n",
      "           4       0.92      0.85      0.88        39\n",
      "           5       0.90      0.82      0.86        34\n",
      "           6       1.00      0.93      0.96        29\n",
      "           7       0.82      0.76      0.79        42\n",
      "           8       0.69      0.62      0.66        32\n",
      "           9       0.76      0.85      0.81        34\n",
      "\n",
      "    accuracy                           0.85       360\n",
      "   macro avg       0.85      0.84      0.85       360\n",
      "weighted avg       0.85      0.85      0.85       360\n",
      "\n"
     ]
    }
   ],
   "source": [
    "# use decision tree classifier\n",
    "from sklearn.tree import DecisionTreeClassifier\n",
    "\n",
    "decision_tree = DecisionTreeClassifier(random_state=28)\n",
    "decision_tree.fit(X_train, y_train)\n",
    "y_pred = decision_tree.predict(X_test)\n",
    "\n",
    "print(classification_report(y_test, y_pred))"
   ]
  },
  {
   "cell_type": "code",
   "execution_count": 4,
   "id": "0cd5c8ec",
   "metadata": {},
   "outputs": [
    {
     "name": "stdout",
     "output_type": "stream",
     "text": [
      "              precision    recall  f1-score   support\n",
      "\n",
      "           0       1.00      1.00      1.00        37\n",
      "           1       1.00      1.00      1.00        32\n",
      "           2       1.00      1.00      1.00        38\n",
      "           3       0.98      1.00      0.99        43\n",
      "           4       1.00      0.92      0.96        39\n",
      "           5       0.97      0.94      0.96        34\n",
      "           6       1.00      0.97      0.98        29\n",
      "           7       0.95      1.00      0.98        42\n",
      "           8       1.00      1.00      1.00        32\n",
      "           9       0.92      0.97      0.94        34\n",
      "\n",
      "    accuracy                           0.98       360\n",
      "   macro avg       0.98      0.98      0.98       360\n",
      "weighted avg       0.98      0.98      0.98       360\n",
      "\n"
     ]
    }
   ],
   "source": [
    "# use random forest classifier\n",
    "from sklearn.ensemble import RandomForestClassifier\n",
    "\n",
    "random_forest = RandomForestClassifier(random_state=28)\n",
    "random_forest.fit(X_train, y_train)\n",
    "y_pred2 = random_forest.predict(X_test)\n",
    "\n",
    "print(classification_report(y_test, y_pred2))"
   ]
  },
  {
   "cell_type": "code",
   "execution_count": 5,
   "id": "f2b95f75",
   "metadata": {},
   "outputs": [
    {
     "name": "stdout",
     "output_type": "stream",
     "text": [
      "              precision    recall  f1-score   support\n",
      "\n",
      "           0       1.00      1.00      1.00        37\n",
      "           1       1.00      1.00      1.00        32\n",
      "           2       1.00      1.00      1.00        38\n",
      "           3       1.00      1.00      1.00        43\n",
      "           4       1.00      0.97      0.99        39\n",
      "           5       1.00      0.94      0.97        34\n",
      "           6       1.00      1.00      1.00        29\n",
      "           7       1.00      1.00      1.00        42\n",
      "           8       1.00      1.00      1.00        32\n",
      "           9       0.92      1.00      0.96        34\n",
      "\n",
      "    accuracy                           0.99       360\n",
      "   macro avg       0.99      0.99      0.99       360\n",
      "weighted avg       0.99      0.99      0.99       360\n",
      "\n"
     ]
    }
   ],
   "source": [
    "# use support vector machine\n",
    "from sklearn import svm\n",
    "\n",
    "svm_model = svm.SVC(random_state=28)\n",
    "svm_model.fit(X_train, y_train)\n",
    "y_pred3 = svm_model.predict(X_test)\n",
    "\n",
    "print(classification_report(y_test, y_pred3))"
   ]
  },
  {
   "cell_type": "code",
   "execution_count": 6,
   "id": "80a869a2",
   "metadata": {},
   "outputs": [
    {
     "name": "stdout",
     "output_type": "stream",
     "text": [
      "              precision    recall  f1-score   support\n",
      "\n",
      "           0       1.00      0.95      0.97        37\n",
      "           1       0.89      0.78      0.83        32\n",
      "           2       1.00      1.00      1.00        38\n",
      "           3       0.86      1.00      0.92        43\n",
      "           4       0.97      0.92      0.95        39\n",
      "           5       0.94      0.91      0.93        34\n",
      "           6       0.97      0.97      0.97        29\n",
      "           7       0.85      0.95      0.90        42\n",
      "           8       0.84      0.97      0.90        32\n",
      "           9       0.96      0.74      0.83        34\n",
      "\n",
      "    accuracy                           0.92       360\n",
      "   macro avg       0.93      0.92      0.92       360\n",
      "weighted avg       0.93      0.92      0.92       360\n",
      "\n"
     ]
    }
   ],
   "source": [
    "# use stochastic gradient descent classifier\n",
    "from sklearn.linear_model import SGDClassifier\n",
    "\n",
    "sgd_model = SGDClassifier(random_state=28)\n",
    "sgd_model.fit(X_train, y_train)\n",
    "y_pred4 = sgd_model.predict(X_test)\n",
    "\n",
    "print(classification_report(y_test, y_pred4))"
   ]
  },
  {
   "cell_type": "code",
   "execution_count": 9,
   "id": "fd9d5b9b",
   "metadata": {},
   "outputs": [
    {
     "name": "stdout",
     "output_type": "stream",
     "text": [
      "              precision    recall  f1-score   support\n",
      "\n",
      "           0       1.00      0.97      0.99        37\n",
      "           1       0.94      0.97      0.95        32\n",
      "           2       0.97      0.97      0.97        38\n",
      "           3       1.00      1.00      1.00        43\n",
      "           4       1.00      0.97      0.99        39\n",
      "           5       0.94      0.91      0.93        34\n",
      "           6       1.00      0.97      0.98        29\n",
      "           7       0.95      0.98      0.96        42\n",
      "           8       0.97      0.91      0.94        32\n",
      "           9       0.89      1.00      0.94        34\n",
      "\n",
      "    accuracy                           0.97       360\n",
      "   macro avg       0.97      0.96      0.97       360\n",
      "weighted avg       0.97      0.97      0.97       360\n",
      "\n"
     ]
    }
   ],
   "source": [
    "# use logistic regression\n",
    "from sklearn.linear_model import LogisticRegression\n",
    "\n",
    "logistic_model = LogisticRegression(random_state=28, max_iter=1900)\n",
    "logistic_model.fit(X_train, y_train)\n",
    "y_pred5 = logistic_model.predict(X_test)\n",
    "\n",
    "print(classification_report(y_test, y_pred5))"
   ]
  },
  {
   "cell_type": "markdown",
   "id": "87aa329b",
   "metadata": {},
   "source": [
    "Classification Report:\n",
    "- 베스트 모델: SVM\n",
    "- 워스트 모델: Decision Tree Classifier\n",
    "\n",
    "정확도로만 성능을 척도하기엔 불균형한 데이터도 정확도가 높게 나오기 때문에 정확도로만 성능을 척도하는 건 좋은 생각이 아니다.\n",
    "\n",
    "f1-score, precision, recall, 그리고 accuracy 도 확인할 수 있는 classification report가 유용하다.\n",
    "\n",
    "그 중에서도 precision와 recall에 balance를 맞춘 f1-score를 중점적으로 봐서 모델을 정했다.\n",
    "\n",
    "f1-score가 높다는 뜻은 precision과 recall도 높다는 뜻이기에 f1-score를 제일 중요하게 봤다."
   ]
  },
  {
   "cell_type": "code",
   "execution_count": null,
   "id": "1c17e0e3",
   "metadata": {},
   "outputs": [],
   "source": []
  }
 ],
 "metadata": {
  "kernelspec": {
   "display_name": "Python 3 (ipykernel)",
   "language": "python",
   "name": "python3"
  },
  "language_info": {
   "codemirror_mode": {
    "name": "ipython",
    "version": 3
   },
   "file_extension": ".py",
   "mimetype": "text/x-python",
   "name": "python",
   "nbconvert_exporter": "python",
   "pygments_lexer": "ipython3",
   "version": "3.9.7"
  }
 },
 "nbformat": 4,
 "nbformat_minor": 5
}
