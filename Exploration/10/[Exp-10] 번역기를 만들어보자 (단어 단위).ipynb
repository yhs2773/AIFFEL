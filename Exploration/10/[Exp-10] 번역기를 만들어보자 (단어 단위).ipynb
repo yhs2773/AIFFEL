{
 "cells": [
  {
   "cell_type": "markdown",
   "id": "e69b1faf",
   "metadata": {},
   "source": [
    "# Preprocessing"
   ]
  },
  {
   "cell_type": "markdown",
   "id": "36902515",
   "metadata": {},
   "source": [
    "### Load libraries, load file, and add sos/eos tokens"
   ]
  },
  {
   "cell_type": "code",
   "execution_count": 1,
   "id": "3f57070e",
   "metadata": {},
   "outputs": [],
   "source": [
    "# load libraries\n",
    "import pandas as pd\n",
    "import numpy as np\n",
    "import tensorflow\n",
    "import os, re, string\n",
    "import matplotlib.pyplot as plt\n",
    "\n",
    "from tensorflow.keras.callbacks import EarlyStopping\n",
    "from tensorflow.keras.preprocessing.text import Tokenizer\n",
    "from tensorflow.keras.preprocessing.sequence import pad_sequences\n",
    "from tensorflow.keras.utils import to_categorical\n",
    "from tensorflow.keras.layers import Input, LSTM, Embedding, Dense, Masking\n",
    "from tensorflow.keras.models import Model"
   ]
  },
  {
   "cell_type": "code",
   "execution_count": 2,
   "id": "cbcfdfe0",
   "metadata": {},
   "outputs": [
    {
     "name": "stdout",
     "output_type": "stream",
     "text": [
      "전체 샘플의 수 : 197463\n"
     ]
    },
    {
     "data": {
      "text/html": [
       "<div>\n",
       "<style scoped>\n",
       "    .dataframe tbody tr th:only-of-type {\n",
       "        vertical-align: middle;\n",
       "    }\n",
       "\n",
       "    .dataframe tbody tr th {\n",
       "        vertical-align: top;\n",
       "    }\n",
       "\n",
       "    .dataframe thead th {\n",
       "        text-align: right;\n",
       "    }\n",
       "</style>\n",
       "<table border=\"1\" class=\"dataframe\">\n",
       "  <thead>\n",
       "    <tr style=\"text-align: right;\">\n",
       "      <th></th>\n",
       "      <th>eng</th>\n",
       "      <th>fra</th>\n",
       "      <th>cc</th>\n",
       "    </tr>\n",
       "  </thead>\n",
       "  <tbody>\n",
       "    <tr>\n",
       "      <th>134232</th>\n",
       "      <td>Could you tell me what time it is?</td>\n",
       "      <td>Pourrais-tu me donner l'heure ?</td>\n",
       "      <td>CC-BY 2.0 (France) Attribution: tatoeba.org #6...</td>\n",
       "    </tr>\n",
       "    <tr>\n",
       "      <th>94654</th>\n",
       "      <td>I couldn't sleep last night.</td>\n",
       "      <td>Je n'ai pu dormir la nuit dernière.</td>\n",
       "      <td>CC-BY 2.0 (France) Attribution: tatoeba.org #2...</td>\n",
       "    </tr>\n",
       "    <tr>\n",
       "      <th>133052</th>\n",
       "      <td>We don't have a landline anymore.</td>\n",
       "      <td>Nous n'avons plus de ligne fixe.</td>\n",
       "      <td>CC-BY 2.0 (France) Attribution: tatoeba.org #1...</td>\n",
       "    </tr>\n",
       "    <tr>\n",
       "      <th>107686</th>\n",
       "      <td>You should get your hair cut.</td>\n",
       "      <td>Tu devrais te couper les cheveux.</td>\n",
       "      <td>CC-BY 2.0 (France) Attribution: tatoeba.org #1...</td>\n",
       "    </tr>\n",
       "    <tr>\n",
       "      <th>133454</th>\n",
       "      <td>Who knows what's going to happen?</td>\n",
       "      <td>Qui sait ce qui va avoir lieu ?</td>\n",
       "      <td>CC-BY 2.0 (France) Attribution: tatoeba.org #3...</td>\n",
       "    </tr>\n",
       "  </tbody>\n",
       "</table>\n",
       "</div>"
      ],
      "text/plain": [
       "                                       eng  \\\n",
       "134232  Could you tell me what time it is?   \n",
       "94654         I couldn't sleep last night.   \n",
       "133052   We don't have a landline anymore.   \n",
       "107686       You should get your hair cut.   \n",
       "133454   Who knows what's going to happen?   \n",
       "\n",
       "                                        fra  \\\n",
       "134232      Pourrais-tu me donner l'heure ?   \n",
       "94654   Je n'ai pu dormir la nuit dernière.   \n",
       "133052     Nous n'avons plus de ligne fixe.   \n",
       "107686    Tu devrais te couper les cheveux.   \n",
       "133454      Qui sait ce qui va avoir lieu ?   \n",
       "\n",
       "                                                       cc  \n",
       "134232  CC-BY 2.0 (France) Attribution: tatoeba.org #6...  \n",
       "94654   CC-BY 2.0 (France) Attribution: tatoeba.org #2...  \n",
       "133052  CC-BY 2.0 (France) Attribution: tatoeba.org #1...  \n",
       "107686  CC-BY 2.0 (France) Attribution: tatoeba.org #1...  \n",
       "133454  CC-BY 2.0 (France) Attribution: tatoeba.org #3...  "
      ]
     },
     "execution_count": 2,
     "metadata": {},
     "output_type": "execute_result"
    }
   ],
   "source": [
    "# load file\n",
    "file_path = os.getenv('HOME')+'/aiffel/translator_seq2seq/data/fra.txt'\n",
    "lines = pd.read_csv(file_path, names=['eng', 'fra', 'cc'], sep='\\t')\n",
    "print('전체 샘플의 수 :',len(lines))\n",
    "lines.sample(5) # print 5 random samples/rows"
   ]
  },
  {
   "cell_type": "code",
   "execution_count": 3,
   "id": "2b65d5f8",
   "metadata": {},
   "outputs": [
    {
     "data": {
      "text/html": [
       "<div>\n",
       "<style scoped>\n",
       "    .dataframe tbody tr th:only-of-type {\n",
       "        vertical-align: middle;\n",
       "    }\n",
       "\n",
       "    .dataframe tbody tr th {\n",
       "        vertical-align: top;\n",
       "    }\n",
       "\n",
       "    .dataframe thead th {\n",
       "        text-align: right;\n",
       "    }\n",
       "</style>\n",
       "<table border=\"1\" class=\"dataframe\">\n",
       "  <thead>\n",
       "    <tr style=\"text-align: right;\">\n",
       "      <th></th>\n",
       "      <th>eng</th>\n",
       "      <th>fra</th>\n",
       "    </tr>\n",
       "  </thead>\n",
       "  <tbody>\n",
       "    <tr>\n",
       "      <th>13638</th>\n",
       "      <td>Guys are stupid.</td>\n",
       "      <td>Les mecs sont stupides.</td>\n",
       "    </tr>\n",
       "    <tr>\n",
       "      <th>23375</th>\n",
       "      <td>He lives frugally.</td>\n",
       "      <td>Il vit de manière frugale.</td>\n",
       "    </tr>\n",
       "    <tr>\n",
       "      <th>7456</th>\n",
       "      <td>I made a list.</td>\n",
       "      <td>Je fis une liste.</td>\n",
       "    </tr>\n",
       "    <tr>\n",
       "      <th>24022</th>\n",
       "      <td>I hope this works.</td>\n",
       "      <td>J'espère que ça fonctionne.</td>\n",
       "    </tr>\n",
       "    <tr>\n",
       "      <th>1566</th>\n",
       "      <td>Try it on.</td>\n",
       "      <td>Essaie-le !</td>\n",
       "    </tr>\n",
       "  </tbody>\n",
       "</table>\n",
       "</div>"
      ],
      "text/plain": [
       "                      eng                          fra\n",
       "13638    Guys are stupid.      Les mecs sont stupides.\n",
       "23375  He lives frugally.   Il vit de manière frugale.\n",
       "7456       I made a list.            Je fis une liste.\n",
       "24022  I hope this works.  J'espère que ça fonctionne.\n",
       "1566           Try it on.                  Essaie-le !"
      ]
     },
     "execution_count": 3,
     "metadata": {},
     "output_type": "execute_result"
    }
   ],
   "source": [
    "lines = lines[['eng', 'fra']][:33000] # 33000 rows to be used\n",
    "lines.sample(5)"
   ]
  },
  {
   "cell_type": "code",
   "execution_count": 4,
   "id": "60bf12a2",
   "metadata": {},
   "outputs": [
    {
     "name": "stdout",
     "output_type": "stream",
     "text": [
      "전체 샘플의 수 : 33000\n"
     ]
    },
    {
     "data": {
      "text/html": [
       "<div>\n",
       "<style scoped>\n",
       "    .dataframe tbody tr th:only-of-type {\n",
       "        vertical-align: middle;\n",
       "    }\n",
       "\n",
       "    .dataframe tbody tr th {\n",
       "        vertical-align: top;\n",
       "    }\n",
       "\n",
       "    .dataframe thead th {\n",
       "        text-align: right;\n",
       "    }\n",
       "</style>\n",
       "<table border=\"1\" class=\"dataframe\">\n",
       "  <thead>\n",
       "    <tr style=\"text-align: right;\">\n",
       "      <th></th>\n",
       "      <th>eng</th>\n",
       "      <th>fra</th>\n",
       "    </tr>\n",
       "  </thead>\n",
       "  <tbody>\n",
       "    <tr>\n",
       "      <th>24294</th>\n",
       "      <td>I owe you a favor.</td>\n",
       "      <td>\\t Je vous dois une faveur. \\n</td>\n",
       "    </tr>\n",
       "    <tr>\n",
       "      <th>9558</th>\n",
       "      <td>You're sleepy.</td>\n",
       "      <td>\\t Tu es endormie. \\n</td>\n",
       "    </tr>\n",
       "    <tr>\n",
       "      <th>22865</th>\n",
       "      <td>Did you know that?</td>\n",
       "      <td>\\t Le savais-tu ? \\n</td>\n",
       "    </tr>\n",
       "    <tr>\n",
       "      <th>18428</th>\n",
       "      <td>I am out of work.</td>\n",
       "      <td>\\t Je suis sans travail. \\n</td>\n",
       "    </tr>\n",
       "    <tr>\n",
       "      <th>21652</th>\n",
       "      <td>We're dozing off.</td>\n",
       "      <td>\\t Nous nous assoupissons. \\n</td>\n",
       "    </tr>\n",
       "  </tbody>\n",
       "</table>\n",
       "</div>"
      ],
      "text/plain": [
       "                      eng                             fra\n",
       "24294  I owe you a favor.  \\t Je vous dois une faveur. \\n\n",
       "9558       You're sleepy.           \\t Tu es endormie. \\n\n",
       "22865  Did you know that?            \\t Le savais-tu ? \\n\n",
       "18428   I am out of work.     \\t Je suis sans travail. \\n\n",
       "21652   We're dozing off.   \\t Nous nous assoupissons. \\n"
      ]
     },
     "execution_count": 4,
     "metadata": {},
     "output_type": "execute_result"
    }
   ],
   "source": [
    "# add sos and eos tokens\n",
    "sos_token = '\\t'\n",
    "eos_token = '\\n'\n",
    "lines.fra = lines.fra.apply(lambda x : '\\t '+ x + ' \\n')\n",
    "print('전체 샘플의 수 :',len(lines))\n",
    "lines.sample(5)"
   ]
  },
  {
   "cell_type": "code",
   "execution_count": 5,
   "id": "474eadd1",
   "metadata": {},
   "outputs": [
    {
     "data": {
      "text/html": [
       "<div>\n",
       "<style scoped>\n",
       "    .dataframe tbody tr th:only-of-type {\n",
       "        vertical-align: middle;\n",
       "    }\n",
       "\n",
       "    .dataframe tbody tr th {\n",
       "        vertical-align: top;\n",
       "    }\n",
       "\n",
       "    .dataframe thead th {\n",
       "        text-align: right;\n",
       "    }\n",
       "</style>\n",
       "<table border=\"1\" class=\"dataframe\">\n",
       "  <thead>\n",
       "    <tr style=\"text-align: right;\">\n",
       "      <th></th>\n",
       "      <th>eng</th>\n",
       "      <th>fra</th>\n",
       "    </tr>\n",
       "  </thead>\n",
       "  <tbody>\n",
       "    <tr>\n",
       "      <th>0</th>\n",
       "      <td>Go.</td>\n",
       "      <td>\\t Va ! \\n</td>\n",
       "    </tr>\n",
       "    <tr>\n",
       "      <th>1</th>\n",
       "      <td>Go.</td>\n",
       "      <td>\\t Marche. \\n</td>\n",
       "    </tr>\n",
       "    <tr>\n",
       "      <th>2</th>\n",
       "      <td>Go.</td>\n",
       "      <td>\\t En route ! \\n</td>\n",
       "    </tr>\n",
       "    <tr>\n",
       "      <th>3</th>\n",
       "      <td>Go.</td>\n",
       "      <td>\\t Bouge ! \\n</td>\n",
       "    </tr>\n",
       "    <tr>\n",
       "      <th>4</th>\n",
       "      <td>Hi.</td>\n",
       "      <td>\\t Salut ! \\n</td>\n",
       "    </tr>\n",
       "    <tr>\n",
       "      <th>5</th>\n",
       "      <td>Hi.</td>\n",
       "      <td>\\t Salut. \\n</td>\n",
       "    </tr>\n",
       "    <tr>\n",
       "      <th>6</th>\n",
       "      <td>Run!</td>\n",
       "      <td>\\t Cours ! \\n</td>\n",
       "    </tr>\n",
       "    <tr>\n",
       "      <th>7</th>\n",
       "      <td>Run!</td>\n",
       "      <td>\\t Courez ! \\n</td>\n",
       "    </tr>\n",
       "  </tbody>\n",
       "</table>\n",
       "</div>"
      ],
      "text/plain": [
       "    eng               fra\n",
       "0   Go.        \\t Va ! \\n\n",
       "1   Go.     \\t Marche. \\n\n",
       "2   Go.  \\t En route ! \\n\n",
       "3   Go.     \\t Bouge ! \\n\n",
       "4   Hi.     \\t Salut ! \\n\n",
       "5   Hi.      \\t Salut. \\n\n",
       "6  Run!     \\t Cours ! \\n\n",
       "7  Run!    \\t Courez ! \\n"
      ]
     },
     "execution_count": 5,
     "metadata": {},
     "output_type": "execute_result"
    }
   ],
   "source": [
    "lines.head(8)"
   ]
  },
  {
   "cell_type": "markdown",
   "id": "10bc6f57",
   "metadata": {},
   "source": [
    "# Regex"
   ]
  },
  {
   "cell_type": "markdown",
   "id": "072b71b6",
   "metadata": {},
   "source": [
    "### 2 functions used for regex: 1 for English punctuations and 1 for French punctuations"
   ]
  },
  {
   "cell_type": "code",
   "execution_count": 6,
   "id": "e597697d",
   "metadata": {},
   "outputs": [],
   "source": [
    "# regex reference: https://stackoverflow.com/questions/64125019/how-to-tokenize-punctuations-using-the-tokenizer-function-tensorflow\n",
    "def pad_punctuation(s): return re.sub(f\"([{string.punctuation}])\", r' \\1 ', s)\n",
    "\n",
    "# regex French punctuations\n",
    "def french_punctuations(s):\n",
    "    s = re.sub('[\\u202f\\u2009\\xa0]', '', s)\n",
    "    s = re.sub('’', \" ' \", s)\n",
    "    s = re.sub('[—––]', ' - ', s)\n",
    "    s = re.sub('[«»]', ' \" ', s)\n",
    "    return s"
   ]
  },
  {
   "cell_type": "code",
   "execution_count": 7,
   "id": "8bbda3c2",
   "metadata": {},
   "outputs": [],
   "source": [
    "# French punctuations and unicode spaces found in French list\n",
    "# \\u202f # unicode whitespace\n",
    "# \\u2009 # unicode whitespace\n",
    "# \\xa0 # unicode whitespace\n",
    "# ’ # French apostrophe\n",
    "# — # French hyphen\n",
    "# – # French hyphen\n",
    "# – # French hyphen\n",
    "# «, » # French double quotes\n",
    "# \\u202f\\u2009\\xa0’—––«»"
   ]
  },
  {
   "cell_type": "code",
   "execution_count": 8,
   "id": "0e542b6d",
   "metadata": {},
   "outputs": [
    {
     "data": {
      "text/plain": [
       "50              \\t Bonjour  !  \\n\n",
       "51                \\t Salut  !  \\n\n",
       "52          \\t Je comprends .  \\n\n",
       "53                   \\t Aha .  \\n\n",
       "54            \\t J ' essaye .  \\n\n",
       "55         \\t J ' ai gagné  !  \\n\n",
       "56    \\t Je l ' ai emporté  !  \\n\n",
       "57            \\t J’ai gagné .  \\n\n",
       "58               \\t Oh non  !  \\n\n",
       "59           \\t Calme - toi .  \\n\n",
       "Name: fra, dtype: object"
      ]
     },
     "execution_count": 8,
     "metadata": {},
     "output_type": "execute_result"
    }
   ],
   "source": [
    "# create a full list from lines.fra and separate by common punctuation\n",
    "lines.fra = [pad_punctuation(s) for s in lines.fra]\n",
    "lines.fra[50:60]"
   ]
  },
  {
   "cell_type": "code",
   "execution_count": 9,
   "id": "59a37b55",
   "metadata": {},
   "outputs": [
    {
     "data": {
      "text/plain": [
       "50              \\t Bonjour  !  \\n\n",
       "51                \\t Salut  !  \\n\n",
       "52          \\t Je comprends .  \\n\n",
       "53                   \\t Aha .  \\n\n",
       "54            \\t J ' essaye .  \\n\n",
       "55         \\t J ' ai gagné  !  \\n\n",
       "56    \\t Je l ' ai emporté  !  \\n\n",
       "57          \\t J ' ai gagné .  \\n\n",
       "58               \\t Oh non  !  \\n\n",
       "59           \\t Calme - toi .  \\n\n",
       "Name: fra, dtype: object"
      ]
     },
     "execution_count": 9,
     "metadata": {},
     "output_type": "execute_result"
    }
   ],
   "source": [
    "# create a full list from lines.fra and separate by French punctuation\n",
    "lines.fra = [french_punctuations(s) for s in lines.fra]\n",
    "lines.fra[50:60]"
   ]
  },
  {
   "cell_type": "code",
   "execution_count": 10,
   "id": "30d29b4c",
   "metadata": {},
   "outputs": [
    {
     "data": {
      "text/plain": [
       "0    Go . \n",
       "1    Go . \n",
       "2    Go . \n",
       "3    Go . \n",
       "4    Hi . \n",
       "Name: eng, dtype: object"
      ]
     },
     "execution_count": 10,
     "metadata": {},
     "output_type": "execute_result"
    }
   ],
   "source": [
    "# create a full list from lines.eng and separate by punctuation\n",
    "lines.eng = [pad_punctuation(s) for s in lines.eng]\n",
    "lines.eng.head()"
   ]
  },
  {
   "cell_type": "markdown",
   "id": "af29cbea",
   "metadata": {},
   "source": [
    "# Tokenization"
   ]
  },
  {
   "cell_type": "markdown",
   "id": "cb052968",
   "metadata": {},
   "source": [
    "### Tokenizing English & French data, find vocab, and length of the longest sentence"
   ]
  },
  {
   "cell_type": "code",
   "execution_count": 11,
   "id": "ebcab624",
   "metadata": {},
   "outputs": [
    {
     "data": {
      "text/plain": [
       "[[29, 1], [29, 1], [29, 1]]"
      ]
     },
     "execution_count": 11,
     "metadata": {},
     "output_type": "execute_result"
    }
   ],
   "source": [
    "eng_tokenizer = Tokenizer(filters='')                       # Tokenizing by word\n",
    "eng_tokenizer.fit_on_texts(lines.eng)                       # Tokenizing 33000 Eng rows\n",
    "input_text = eng_tokenizer.texts_to_sequences(lines.eng)    # words into num sequence\n",
    "input_text[:3]"
   ]
  },
  {
   "cell_type": "code",
   "execution_count": 12,
   "id": "b11e9612",
   "metadata": {},
   "outputs": [
    {
     "data": {
      "text/plain": [
       "('tom', '?', '.')"
      ]
     },
     "execution_count": 12,
     "metadata": {},
     "output_type": "execute_result"
    }
   ],
   "source": [
    "eng_tokenizer.index_word[6], eng_tokenizer.index_word[5], eng_tokenizer.index_word[1]"
   ]
  },
  {
   "cell_type": "code",
   "execution_count": 13,
   "id": "6827efae",
   "metadata": {},
   "outputs": [
    {
     "data": {
      "text/plain": [
       "[[1, 74, 10, 2], [1, 339, 3, 2], [1, 27, 489, 10, 2]]"
      ]
     },
     "execution_count": 13,
     "metadata": {},
     "output_type": "execute_result"
    }
   ],
   "source": [
    "fra_tokenizer = Tokenizer(filters='')                         # Tokenizing by word\n",
    "fra_tokenizer.fit_on_texts(lines.fra)                         # Tokenizing 33000 Eng rows\n",
    "target_text = fra_tokenizer.texts_to_sequences(lines.fra)     # words into num sequence\n",
    "target_text[:3]"
   ]
  },
  {
   "cell_type": "code",
   "execution_count": 14,
   "id": "fe97b31e",
   "metadata": {},
   "outputs": [
    {
     "data": {
      "text/plain": [
       "('\\t', '\\n')"
      ]
     },
     "execution_count": 14,
     "metadata": {},
     "output_type": "execute_result"
    }
   ],
   "source": [
    "fra_tokenizer.index_word[1], fra_tokenizer.index_word[2]"
   ]
  },
  {
   "cell_type": "code",
   "execution_count": 15,
   "id": "eb35d889",
   "metadata": {},
   "outputs": [
    {
     "name": "stdout",
     "output_type": "stream",
     "text": [
      "영어 단어장의 크기 : 4713\n",
      "프랑스어 단어장의 크기 : 8595\n"
     ]
    }
   ],
   "source": [
    "# find vocab size\n",
    "eng_vocab_size = len(eng_tokenizer.word_index) + 1\n",
    "fra_vocab_size = len(fra_tokenizer.word_index) + 1\n",
    "print('영어 단어장의 크기 :', eng_vocab_size)\n",
    "print('프랑스어 단어장의 크기 :', fra_vocab_size)"
   ]
  },
  {
   "cell_type": "code",
   "execution_count": 16,
   "id": "5afa1ec0",
   "metadata": {},
   "outputs": [
    {
     "name": "stdout",
     "output_type": "stream",
     "text": [
      "영어 시퀀스의 최대 길이 10\n",
      "프랑스어 시퀀스의 최대 길이 20\n"
     ]
    }
   ],
   "source": [
    "# find the length of the longest sentence\n",
    "max_eng_seq_len = max([len(line) for line in input_text])\n",
    "max_fra_seq_len = max([len(line) for line in target_text])\n",
    "print('영어 시퀀스의 최대 길이', max_eng_seq_len)\n",
    "print('프랑스어 시퀀스의 최대 길이', max_fra_seq_len)"
   ]
  },
  {
   "cell_type": "code",
   "execution_count": 17,
   "id": "b052ff65",
   "metadata": {},
   "outputs": [
    {
     "name": "stdout",
     "output_type": "stream",
     "text": [
      "전체 샘플의 수 : 33000\n",
      "영어 단어장의 크기 : 4713\n",
      "프랑스어 단어장의 크기 : 8595\n",
      "영어 시퀀스의 최대 길이 10\n",
      "프랑스어 시퀀스의 최대 길이 20\n"
     ]
    }
   ],
   "source": [
    "# stats of English and French\n",
    "print('전체 샘플의 수 :',len(lines))\n",
    "print('영어 단어장의 크기 :', eng_vocab_size)\n",
    "print('프랑스어 단어장의 크기 :', fra_vocab_size)\n",
    "print('영어 시퀀스의 최대 길이', max_eng_seq_len)\n",
    "print('프랑스어 시퀀스의 최대 길이', max_fra_seq_len)"
   ]
  },
  {
   "cell_type": "markdown",
   "id": "6c012d40",
   "metadata": {},
   "source": [
    "### Ender and decoder preprocessing with removing tokens and adding padding seq"
   ]
  },
  {
   "cell_type": "code",
   "execution_count": 18,
   "id": "a28ac66f",
   "metadata": {},
   "outputs": [],
   "source": [
    "# raw input of English\n",
    "encoder_input = input_text\n",
    "# removing eos token for Fr input\n",
    "decoder_input = [[ char for char in line if char != fra_tokenizer.word_index[eos_token] ] for line in target_text] \n",
    "# removing sos token for Fr target\n",
    "decoder_target = [[ char for char in line if char != fra_tokenizer.word_index[sos_token] ] for line in target_text]"
   ]
  },
  {
   "cell_type": "code",
   "execution_count": 19,
   "id": "ad0f3f29",
   "metadata": {},
   "outputs": [
    {
     "name": "stdout",
     "output_type": "stream",
     "text": [
      "[[1, 74, 10], [1, 339, 3], [1, 27, 489, 10]]\n",
      "[[74, 10, 2], [339, 3, 2], [27, 489, 10, 2]]\n"
     ]
    }
   ],
   "source": [
    "print(decoder_input[:3])\n",
    "print(decoder_target[:3])"
   ]
  },
  {
   "cell_type": "code",
   "execution_count": 20,
   "id": "dbbc770a",
   "metadata": {},
   "outputs": [
    {
     "name": "stdout",
     "output_type": "stream",
     "text": [
      "영어 데이터의 크기(shape) : (33000, 10)\n",
      "프랑스어 입력데이터의 크기(shape) : (33000, 20)\n",
      "프랑스어 출력데이터의 크기(shape) : (33000, 20)\n"
     ]
    }
   ],
   "source": [
    "# add padding sequence\n",
    "encoder_input = pad_sequences(encoder_input, maxlen = max_eng_seq_len, padding='post')\n",
    "decoder_input = pad_sequences(decoder_input, maxlen = max_fra_seq_len, padding='post')\n",
    "decoder_target = pad_sequences(decoder_target, maxlen = max_fra_seq_len, padding='post')\n",
    "print('영어 데이터의 크기(shape) :',np.shape(encoder_input))\n",
    "print('프랑스어 입력데이터의 크기(shape) :',np.shape(decoder_input))\n",
    "print('프랑스어 출력데이터의 크기(shape) :',np.shape(decoder_target))"
   ]
  },
  {
   "cell_type": "code",
   "execution_count": 21,
   "id": "07449a7e",
   "metadata": {},
   "outputs": [
    {
     "name": "stdout",
     "output_type": "stream",
     "text": [
      "[29  1  0  0  0  0  0  0  0  0]\n"
     ]
    }
   ],
   "source": [
    "print(encoder_input[0])"
   ]
  },
  {
   "cell_type": "code",
   "execution_count": 22,
   "id": "3f26d382",
   "metadata": {},
   "outputs": [],
   "source": [
    "# used for one-hot-encoding. This loads all data to a memory, use with caution as it can shutdown the kernel during overflow\n",
    "# when used, loss func to be categorical_crossentropy instead of sparse_categorical_crossentropy, since ohe already done\n",
    "\n",
    "# encoder_input = to_categorical(encoder_input)\n",
    "# decoder_input = to_categorical(decoder_input)\n",
    "# decoder_target = to_categorical(decoder_target)\n",
    "# print('영어 데이터의 크기(shape) :',np.shape(encoder_input))\n",
    "# print('프랑스어 입력데이터의 크기(shape) :',np.shape(decoder_input))\n",
    "# print('프랑스어 출력데이터의 크기(shape) :',np.shape(decoder_target))"
   ]
  },
  {
   "cell_type": "markdown",
   "id": "94a1aab2",
   "metadata": {},
   "source": [
    "### Splitting encoder and decoder data"
   ]
  },
  {
   "cell_type": "code",
   "execution_count": 23,
   "id": "2ed5a8fb",
   "metadata": {},
   "outputs": [
    {
     "name": "stdout",
     "output_type": "stream",
     "text": [
      "영어 학습데이터의 크기(shape) : (33000, 10)\n",
      "프랑스어 학습 입력데이터의 크기(shape) : (33000, 20)\n",
      "프랑스어 학습 출력데이터의 크기(shape) : (33000, 20)\n",
      "enc_inp_tr (30000, 10)\n",
      "dec_inp_tr (30000, 20)\n",
      "dec_tgt_tr (30000, 20)\n",
      "enc_inp_ts (3000, 10)\n",
      "dec_inp_ts (3000, 20)\n",
      "dec_tgt_ts (3000, 20)\n"
     ]
    }
   ],
   "source": [
    "# split encoder decoder train and test\n",
    "n_of_val = 3000\n",
    "\n",
    "encoder_input_train = encoder_input[:-n_of_val]\n",
    "decoder_input_train = decoder_input[:-n_of_val]\n",
    "decoder_target_train = decoder_target[:-n_of_val]\n",
    "\n",
    "encoder_input_test = encoder_input[-n_of_val:]\n",
    "decoder_input_test = decoder_input[-n_of_val:]\n",
    "decoder_target_test = decoder_target[-n_of_val:]\n",
    "\n",
    "print('영어 학습데이터의 크기(shape) :',np.shape(encoder_input))\n",
    "print('프랑스어 학습 입력데이터의 크기(shape) :',np.shape(decoder_input))\n",
    "print('프랑스어 학습 출력데이터의 크기(shape) :',np.shape(decoder_target))\n",
    "print('enc_inp_tr', np.shape(encoder_input_train))\n",
    "print('dec_inp_tr', np.shape(decoder_input_train))\n",
    "print('dec_tgt_tr', np.shape(decoder_target_train))\n",
    "print('enc_inp_ts', np.shape(encoder_input_test))\n",
    "print('dec_inp_ts', np.shape(decoder_input_test))\n",
    "print('dec_tgt_ts', np.shape(decoder_target_test))"
   ]
  },
  {
   "cell_type": "markdown",
   "id": "e1e69aea",
   "metadata": {},
   "source": [
    "# Training model"
   ]
  },
  {
   "cell_type": "code",
   "execution_count": 24,
   "id": "0c30e3c4",
   "metadata": {
    "scrolled": true
   },
   "outputs": [],
   "source": [
    "# encoder model\n",
    "encoder_inputs = Input(shape=(None,))\n",
    "enc_emb = Embedding(eng_vocab_size, 300, input_length=max_eng_seq_len)(encoder_inputs)\n",
    "encoder_lstm = LSTM(256, return_state=True, dropout=0.2)\n",
    "encoder_outputs, state_h, state_c = encoder_lstm(enc_emb)\n",
    "encoder_states = [state_h, state_c]"
   ]
  },
  {
   "cell_type": "code",
   "execution_count": 25,
   "id": "b0a8bec4",
   "metadata": {
    "scrolled": true
   },
   "outputs": [],
   "source": [
    "# decoder model\n",
    "# input tensor\n",
    "decoder_inputs = Input(shape=(None,))\n",
    "dec_emb = Embedding(fra_vocab_size, 300, input_length=max_fra_seq_len)(decoder_inputs)\n",
    "# LSTM with 256 units of hidden size\n",
    "decoder_lstm = LSTM(256, return_sequences = True, return_state=True, dropout=0.2)\n",
    "# decoder_outputs is all time steps hidden state\n",
    "decoder_outputs, _, _= decoder_lstm(dec_emb, initial_state = encoder_states)"
   ]
  },
  {
   "cell_type": "code",
   "execution_count": 26,
   "id": "accbb349",
   "metadata": {},
   "outputs": [],
   "source": [
    "# softmax for classification\n",
    "decoder_softmax_layer = Dense(fra_vocab_size, activation='softmax')\n",
    "decoder_outputs = decoder_softmax_layer(decoder_outputs)"
   ]
  },
  {
   "cell_type": "code",
   "execution_count": 27,
   "id": "6a84750b",
   "metadata": {},
   "outputs": [
    {
     "name": "stdout",
     "output_type": "stream",
     "text": [
      "Model: \"model\"\n",
      "__________________________________________________________________________________________________\n",
      "Layer (type)                    Output Shape         Param #     Connected to                     \n",
      "==================================================================================================\n",
      "input_1 (InputLayer)            [(None, None)]       0                                            \n",
      "__________________________________________________________________________________________________\n",
      "input_2 (InputLayer)            [(None, None)]       0                                            \n",
      "__________________________________________________________________________________________________\n",
      "embedding (Embedding)           (None, None, 300)    1413900     input_1[0][0]                    \n",
      "__________________________________________________________________________________________________\n",
      "embedding_1 (Embedding)         (None, None, 300)    2578500     input_2[0][0]                    \n",
      "__________________________________________________________________________________________________\n",
      "lstm (LSTM)                     [(None, 256), (None, 570368      embedding[0][0]                  \n",
      "__________________________________________________________________________________________________\n",
      "lstm_1 (LSTM)                   [(None, None, 256),  570368      embedding_1[0][0]                \n",
      "                                                                 lstm[0][1]                       \n",
      "                                                                 lstm[0][2]                       \n",
      "__________________________________________________________________________________________________\n",
      "dense (Dense)                   (None, None, 8595)   2208915     lstm_1[0][0]                     \n",
      "==================================================================================================\n",
      "Total params: 7,342,051\n",
      "Trainable params: 7,342,051\n",
      "Non-trainable params: 0\n",
      "__________________________________________________________________________________________________\n"
     ]
    }
   ],
   "source": [
    "model = Model([encoder_inputs, decoder_inputs], decoder_outputs)\n",
    "model.compile(optimizer=\"rmsprop\", loss=\"sparse_categorical_crossentropy\")\n",
    "model.summary()"
   ]
  },
  {
   "cell_type": "code",
   "execution_count": 28,
   "id": "ebdaad8b",
   "metadata": {},
   "outputs": [
    {
     "name": "stdout",
     "output_type": "stream",
     "text": [
      "Epoch 1/150\n",
      "59/59 [==============================] - 10s 91ms/step - loss: 2.3437 - val_loss: 1.8368\n",
      "Epoch 2/150\n",
      "59/59 [==============================] - 5s 81ms/step - loss: 1.4621 - val_loss: 1.5863\n",
      "Epoch 3/150\n",
      "59/59 [==============================] - 5s 82ms/step - loss: 1.2641 - val_loss: 1.4584\n",
      "Epoch 4/150\n",
      "59/59 [==============================] - 5s 83ms/step - loss: 1.1282 - val_loss: 1.3469\n",
      "Epoch 5/150\n",
      "59/59 [==============================] - 5s 85ms/step - loss: 1.0318 - val_loss: 1.2771\n",
      "Epoch 6/150\n",
      "59/59 [==============================] - 5s 84ms/step - loss: 0.9643 - val_loss: 1.2187\n",
      "Epoch 7/150\n",
      "59/59 [==============================] - 5s 85ms/step - loss: 0.9046 - val_loss: 1.1787\n",
      "Epoch 8/150\n",
      "59/59 [==============================] - 5s 85ms/step - loss: 0.8487 - val_loss: 1.1398\n",
      "Epoch 9/150\n",
      "59/59 [==============================] - 5s 85ms/step - loss: 0.8010 - val_loss: 1.1010\n",
      "Epoch 10/150\n",
      "59/59 [==============================] - 5s 85ms/step - loss: 0.7603 - val_loss: 1.0699\n",
      "Epoch 11/150\n",
      "59/59 [==============================] - 5s 85ms/step - loss: 0.7248 - val_loss: 1.0460\n",
      "Epoch 12/150\n",
      "59/59 [==============================] - 5s 87ms/step - loss: 0.6933 - val_loss: 1.0225\n",
      "Epoch 13/150\n",
      "59/59 [==============================] - 5s 88ms/step - loss: 0.6644 - val_loss: 1.0043\n",
      "Epoch 14/150\n",
      "59/59 [==============================] - 5s 87ms/step - loss: 0.6375 - val_loss: 0.9926\n",
      "Epoch 15/150\n",
      "59/59 [==============================] - 5s 85ms/step - loss: 0.6121 - val_loss: 0.9811\n",
      "Epoch 16/150\n",
      "59/59 [==============================] - 5s 85ms/step - loss: 0.5890 - val_loss: 0.9646\n",
      "Epoch 17/150\n",
      "59/59 [==============================] - 5s 85ms/step - loss: 0.5659 - val_loss: 0.9539\n",
      "Epoch 18/150\n",
      "59/59 [==============================] - 5s 85ms/step - loss: 0.5459 - val_loss: 0.9453\n",
      "Epoch 19/150\n",
      "59/59 [==============================] - 5s 85ms/step - loss: 0.5258 - val_loss: 0.9298\n",
      "Epoch 20/150\n",
      "59/59 [==============================] - 5s 85ms/step - loss: 0.5075 - val_loss: 0.9272\n",
      "Epoch 21/150\n",
      "59/59 [==============================] - 5s 85ms/step - loss: 0.4896 - val_loss: 0.9180\n",
      "Epoch 22/150\n",
      "59/59 [==============================] - 5s 85ms/step - loss: 0.4722 - val_loss: 0.9143\n",
      "Epoch 23/150\n",
      "59/59 [==============================] - 5s 85ms/step - loss: 0.4556 - val_loss: 0.9041\n",
      "Epoch 24/150\n",
      "59/59 [==============================] - 5s 85ms/step - loss: 0.4397 - val_loss: 0.8936\n",
      "Epoch 25/150\n",
      "59/59 [==============================] - 5s 85ms/step - loss: 0.4243 - val_loss: 0.8953\n",
      "Epoch 26/150\n",
      "59/59 [==============================] - 5s 85ms/step - loss: 0.4100 - val_loss: 0.8868\n",
      "Epoch 27/150\n",
      "59/59 [==============================] - 5s 85ms/step - loss: 0.3957 - val_loss: 0.8840\n",
      "Epoch 28/150\n",
      "59/59 [==============================] - 5s 85ms/step - loss: 0.3820 - val_loss: 0.8808\n",
      "Epoch 29/150\n",
      "59/59 [==============================] - 5s 85ms/step - loss: 0.3691 - val_loss: 0.8827\n",
      "Epoch 30/150\n",
      "59/59 [==============================] - 5s 85ms/step - loss: 0.3562 - val_loss: 0.8689\n",
      "Epoch 31/150\n",
      "59/59 [==============================] - 5s 85ms/step - loss: 0.3434 - val_loss: 0.8791\n",
      "Epoch 32/150\n",
      "59/59 [==============================] - 5s 85ms/step - loss: 0.3317 - val_loss: 0.8712\n",
      "Epoch 33/150\n",
      "59/59 [==============================] - 5s 85ms/step - loss: 0.3205 - val_loss: 0.8683\n",
      "Epoch 34/150\n",
      "59/59 [==============================] - 5s 85ms/step - loss: 0.3092 - val_loss: 0.8663\n",
      "Epoch 35/150\n",
      "59/59 [==============================] - 5s 85ms/step - loss: 0.2986 - val_loss: 0.8787\n",
      "Epoch 36/150\n",
      "59/59 [==============================] - 5s 85ms/step - loss: 0.2878 - val_loss: 0.8701\n",
      "Epoch 37/150\n",
      "59/59 [==============================] - 5s 85ms/step - loss: 0.2784 - val_loss: 0.8621\n",
      "Epoch 38/150\n",
      "59/59 [==============================] - 5s 85ms/step - loss: 0.2686 - val_loss: 0.8653\n",
      "Epoch 39/150\n",
      "59/59 [==============================] - 5s 85ms/step - loss: 0.2596 - val_loss: 0.8766\n",
      "Epoch 40/150\n",
      "59/59 [==============================] - 5s 85ms/step - loss: 0.2506 - val_loss: 0.8599\n",
      "Epoch 41/150\n",
      "59/59 [==============================] - 5s 85ms/step - loss: 0.2419 - val_loss: 0.8618\n",
      "Epoch 42/150\n",
      "59/59 [==============================] - 5s 85ms/step - loss: 0.2335 - val_loss: 0.8605\n",
      "Epoch 43/150\n",
      "59/59 [==============================] - 5s 85ms/step - loss: 0.2256 - val_loss: 0.8642\n",
      "Epoch 44/150\n",
      "59/59 [==============================] - 5s 85ms/step - loss: 0.2182 - val_loss: 0.8633\n"
     ]
    }
   ],
   "source": [
    "# model train\n",
    "early_stopping = EarlyStopping(patience=4) # add early stopping\n",
    "\n",
    "history = model.fit(x=[encoder_input_train, decoder_input_train], y=decoder_target_train, \\\n",
    "          validation_data = ([encoder_input_test, decoder_input_test], decoder_target_test),\n",
    "          batch_size=512, epochs=150, callbacks=early_stopping) # batch size changed from 128 to 256 to 512"
   ]
  },
  {
   "cell_type": "code",
   "execution_count": 29,
   "id": "9e90d329",
   "metadata": {},
   "outputs": [
    {
     "name": "stdout",
     "output_type": "stream",
     "text": [
      "dict_keys(['loss', 'val_loss'])\n"
     ]
    },
    {
     "data": {
      "image/png": "[encoded data removed]",
      "text/plain": [
       "<Figure size 432x288 with 1 Axes>"
      ]
     },
     "metadata": {
      "needs_background": "light"
     },
     "output_type": "display_data"
    }
   ],
   "source": [
    "# plot loss\n",
    "history_dict = history.history\n",
    "print(history_dict.keys()) # keys to check parameters for plotting\n",
    "\n",
    "# acc = history_dict['accuracy']\n",
    "# val_acc = history_dict['val_accuracy']\n",
    "loss = history_dict['loss']\n",
    "val_loss = history_dict['val_loss']\n",
    "\n",
    "epochs = range(1, len(loss) + 1)\n",
    "\n",
    "# \"bo\" is \"dotted blue\"\n",
    "plt.plot(epochs, loss, 'bo', label='Training loss')\n",
    "# \"b\" is \"blue line\"\n",
    "plt.plot(epochs, val_loss, 'b', label='Validation loss')\n",
    "plt.title('Training and validation loss')\n",
    "plt.xlabel('Epochs')\n",
    "plt.ylabel('Loss')\n",
    "plt.legend()\n",
    "\n",
    "plt.show()"
   ]
  },
  {
   "cell_type": "markdown",
   "id": "b84d3714",
   "metadata": {},
   "source": [
    "# Testing model"
   ]
  },
  {
   "cell_type": "code",
   "execution_count": 30,
   "id": "5f913eb4",
   "metadata": {},
   "outputs": [
    {
     "name": "stdout",
     "output_type": "stream",
     "text": [
      "Model: \"model_1\"\n",
      "_________________________________________________________________\n",
      "Layer (type)                 Output Shape              Param #   \n",
      "=================================================================\n",
      "input_1 (InputLayer)         [(None, None)]            0         \n",
      "_________________________________________________________________\n",
      "embedding (Embedding)        (None, None, 300)         1413900   \n",
      "_________________________________________________________________\n",
      "lstm (LSTM)                  [(None, 256), (None, 256) 570368    \n",
      "=================================================================\n",
      "Total params: 1,984,268\n",
      "Trainable params: 1,984,268\n",
      "Non-trainable params: 0\n",
      "_________________________________________________________________\n"
     ]
    }
   ],
   "source": [
    "# encoder model: use encoder_inputs and encoder_states defined earlier \n",
    "encoder_model = Model(inputs = encoder_inputs, outputs = encoder_states)\n",
    "encoder_model.summary()"
   ]
  },
  {
   "cell_type": "code",
   "execution_count": 31,
   "id": "2a401b52",
   "metadata": {},
   "outputs": [],
   "source": [
    "# decoder model\n",
    "# previous time step's tensor with hidden state\n",
    "decoder_state_input_h = Input(shape=(256,))\n",
    "# previous time step's tensor with cell state\n",
    "decoder_state_input_c = Input(shape=(256,))\n",
    "# previous time step's tensor with hidden state and cell state in one variable\n",
    "decoder_states_inputs = [decoder_state_input_h, decoder_state_input_c]\n",
    "\n",
    "# decoder_states_inputs: use current time step as inital data/time step\n",
    "decoder_outputs, state_h, state_c = decoder_lstm(dec_emb, initial_state = decoder_states_inputs)\n",
    "# curernt time step's hidden state and cell state into decoder_states\n",
    "decoder_states = [state_h, state_c]"
   ]
  },
  {
   "cell_type": "code",
   "execution_count": 32,
   "id": "9c2af95f",
   "metadata": {},
   "outputs": [
    {
     "name": "stdout",
     "output_type": "stream",
     "text": [
      "Model: \"model_2\"\n",
      "__________________________________________________________________________________________________\n",
      "Layer (type)                    Output Shape         Param #     Connected to                     \n",
      "==================================================================================================\n",
      "input_2 (InputLayer)            [(None, None)]       0                                            \n",
      "__________________________________________________________________________________________________\n",
      "embedding_1 (Embedding)         (None, None, 300)    2578500     input_2[0][0]                    \n",
      "__________________________________________________________________________________________________\n",
      "input_3 (InputLayer)            [(None, 256)]        0                                            \n",
      "__________________________________________________________________________________________________\n",
      "input_4 (InputLayer)            [(None, 256)]        0                                            \n",
      "__________________________________________________________________________________________________\n",
      "lstm_1 (LSTM)                   [(None, None, 256),  570368      embedding_1[0][0]                \n",
      "                                                                 input_3[0][0]                    \n",
      "                                                                 input_4[0][0]                    \n",
      "__________________________________________________________________________________________________\n",
      "dense (Dense)                   (None, None, 8595)   2208915     lstm_1[1][0]                     \n",
      "==================================================================================================\n",
      "Total params: 5,357,783\n",
      "Trainable params: 5,357,783\n",
      "Non-trainable params: 0\n",
      "__________________________________________________________________________________________________\n"
     ]
    }
   ],
   "source": [
    "# decoder's output model\n",
    "decoder_outputs = decoder_softmax_layer(decoder_outputs)\n",
    "decoder_model = Model(inputs=[decoder_inputs] + decoder_states_inputs, outputs=[decoder_outputs] + decoder_states)\n",
    "decoder_model.summary()"
   ]
  },
  {
   "cell_type": "code",
   "execution_count": 33,
   "id": "368b6539",
   "metadata": {},
   "outputs": [],
   "source": [
    "# dictionary for word to index and index to word for both English and French from eng_tokenizer and fra_tokenizer\n",
    "# needed to understand test results\n",
    "eng2idx = eng_tokenizer.word_index\n",
    "fra2idx = fra_tokenizer.word_index\n",
    "idx2eng = eng_tokenizer.index_word\n",
    "idx2fra = fra_tokenizer.index_word"
   ]
  },
  {
   "cell_type": "code",
   "execution_count": 34,
   "id": "449b3f5b",
   "metadata": {},
   "outputs": [],
   "source": [
    "# define decode_sequence function for prediction/translation\n",
    "# decode_sequence()'s input is integer sequence of to be translated sentence\n",
    "# decode_sequence() has encoder model inside for encoding\n",
    "# when entered 'input_seq'(sentence int seq to be translated), encoder_model returns last hidden state\n",
    "# 'this' hidden state becomes decoder's first hidden state and decoder predicts to create translated sentence\n",
    "# during decoder pred process, model uses previous predicted words as current state's input\n",
    "# this process ends when met with eos token or becomes longer than the length of the longest French sentence, which is 20\n",
    "def decode_sequence(input_seq):\n",
    "    # receives encoder state as input\n",
    "    states_value = encoder_model.predict(input_seq)\n",
    "\n",
    "    # creates one-hot-vector for <SOS>\n",
    "    target_seq = np.zeros((1, 1))\n",
    "    target_seq[0, 0] = fra2idx['\\t']\n",
    "\n",
    "    stop_condition = False\n",
    "    decoded_sentence = \"\"\n",
    "\n",
    "    # run while loop until stop_condition becomes True\n",
    "    while not stop_condition:\n",
    "        # previous states_value to be used as current initial state\n",
    "        output_tokens, h, c = decoder_model.predict([target_seq] + states_value)\n",
    "\n",
    "        # change pred result into words\n",
    "        sampled_token_index = np.argmax(output_tokens[0, -1, :])\n",
    "        sampled_char = idx2fra[sampled_token_index]\n",
    "\n",
    "        # add pred words to predicted sentence\n",
    "        decoded_sentence += ' ' + sampled_char\n",
    "\n",
    "        # end when reached <eos> or length of the longest French sentence, which is 20\n",
    "        if (sampled_char == '\\n' or len(decoded_sentence) > max_fra_seq_len):\n",
    "            stop_condition = True\n",
    "\n",
    "        # current state's pred result saved to be used as next state's input\n",
    "        target_seq = np.zeros((1, 1))\n",
    "        target_seq[0, 0] = sampled_token_index\n",
    "\n",
    "        # current state saved to be used as next state\n",
    "        states_value = [h, c]\n",
    "\n",
    "    return decoded_sentence"
   ]
  },
  {
   "cell_type": "code",
   "execution_count": 35,
   "id": "bc6e7157",
   "metadata": {
    "scrolled": false
   },
   "outputs": [
    {
     "name": "stdout",
     "output_type": "stream",
     "text": [
      "-----------------------------------\n",
      "입력 문장: Go . \n",
      "정답 문장:  Marche .  \n",
      "번역기가 번역한 문장:  en route ! \n",
      "-----------------------------------\n",
      "입력 문장: Run ! \n",
      "정답 문장:  Filez  !  \n",
      "번역기가 번역한 문장:  cours ! \n",
      "-----------------------------------\n",
      "입력 문장: Help ! \n",
      "정답 문장:  À l ' aide !  \n",
      "번역기가 번역한 문장:  aide ! \n",
      "-----------------------------------\n",
      "입력 문장: Hello ! \n",
      "정답 문장:  Bonjour  !  \n",
      "번역기가 번역한 문장:  salut ! \n",
      "-----------------------------------\n",
      "입력 문장: Relax . \n",
      "정답 문장:  Cool ,  Raoul !  \n",
      "번역기가 번역한 문장:  tranquille . \n",
      "-----------------------------------\n",
      "입력 문장: Buy it . \n",
      "정답 문장:  Achète - le  !  \n",
      "번역기가 번역한 문장:  achète - la ! \n",
      "-----------------------------------\n",
      "입력 문장: Got it ? \n",
      "정답 문장:  Pigé ?  \n",
      "번역기가 번역한 문장:  est - ce que ça a gagn\n",
      "-----------------------------------\n",
      "입력 문장: I ' m 19 . \n",
      "정답 문장:  J ' ai 19 ans .  \n",
      "번역기가 번역한 문장:  j ' ai 19 ans . \n",
      "-----------------------------------\n",
      "입력 문장: Shut up ! \n",
      "정답 문장:  Ferme - la !  \n",
      "번역기가 번역한 문장:  ferme - la ! \n",
      "-----------------------------------\n",
      "입력 문장: They won . \n",
      "정답 문장:  Ils ont gagné .  \n",
      "번역기가 번역한 문장:  ils ont gagné . \n"
     ]
    }
   ],
   "source": [
    "# use for loop to input random samples word index and predict output results\n",
    "for seq_index in [1,10,30,50,63,80,98,120,400,801]: # input words' index\n",
    "    input_seq = encoder_input[seq_index: seq_index + 1]\n",
    "    decoded_sentence = decode_sequence(input_seq)\n",
    "    print(35 * \"-\")\n",
    "    print('입력 문장:', lines.eng[seq_index])\n",
    "    print('정답 문장:', lines.fra[seq_index][1:len(lines.fra[seq_index])-1]) # print without sos and eos tokens\n",
    "    print('번역기가 번역한 문장:', decoded_sentence[:len(decoded_sentence)-1]) # print without sos token"
   ]
  },
  {
   "attachments": {
    "image-2.png": {
     "image/png": "[encoded data removed]"
    }
   },
   "cell_type": "markdown",
   "id": "7386e51e",
   "metadata": {},
   "source": [
    "# 회고\n",
    "\n",
    "1회차\n",
    "- TypeError: Inputs to a layer should be tensors. Got: <keras.layers.embeddings.Embedding object at 0x7f05a2a51d30> 문제가 계속 생겼었다.\n",
    "    - 타입 에러가 뭔지는 알지만, 고치는 방법을 찾지 못했었다.\n",
    "    - https://blog.keras.io/a-ten-minute-introduction-to-sequence-to-sequence-learning-in-keras.html 여기를 가서 모델 빌딩을 따라해 보자는 마음가짐으로 한번 훑어보다가 고치는 방법을 알아내었다. Shape을 정해주고 난 후에 (encoder_inputs)을 옆에 붙여줌으로써 해결하였다.\n",
    "- TypeError: int() argument must be a string, a bytes-like object or a number, not 'NoneType' 라는 문제가 decoding model을 만드는 과정에서 에러가 생겼다.\n",
    "    - 하도 에러가 계속 나서 천천히 훑어보고 모델링 셀을 다 지우고 다시 차분히 만들어 보니 잘 되었다.\n",
    "- 모델을 결국 만들고 나서 학습을 시켜보려고 하니 커널이 죽어버렸다... 다음 회차때 해결해봐야 겠다.\n",
    "\n",
    "2회차\n",
    "- 커널이 죽는 이유를 도움을 받아 알아냈다. tf module중 to_categorical이란 셀이 있는데, one-hot-encoding을 하는 기능을 가지고 있는데, 이 셀을 실행하고 나서 계속 진행하려고 하면, 메모리 초과로 모델 학습을 못하고 커널이 죽어버리는 현상이 일어났었다.\n",
    "    - 이 셀을 없애고 모델의 metrics를 categorical_crossentropy에서 sparse_categorical_crossentropy로 바꿔주니 잘 학습이 되었다.\n",
    "- 프로젝트를 진행하다가 french list에서 이상한 문장들이 있다는 것을 알아냈다.\n",
    "    - '\\u202f\\u2009\\xa0’—––«»' 이 문자들이 있었고, 구두점만 단어와 분리해놨어서 따로 추가 전처리가 필요해졌다.\n",
    "    - project 06 에서 배운 regex re.sub을 이용해 성공적으로 전처리를 하였다.\n",
    "- 학습 진행 후, 시각화를 해 보았다.\n",
    "\n",
    "![image-2.png](attachment:image-2.png)\n",
    "\n",
    "3회차\n",
    "- test 모델을 만들어 진행해 보았다.\n",
    "    - test modeling 부분에서 계속 에러가 났다.\n",
    "        - ValueError: Input 0 of layer lstm_1 is incompatible with the layer: expected ndim=3, found ndim=4. Full shape received: (None, 1, 8595, 100)\n",
    "\n",
    "4회차\n",
    "- 마지막 셀, 번역 결과를 보는 코드에서 3회차부터 계속 에러가 났었다\n",
    "    - 모델에서 여러가지를 더하고 바꿔보고 하다가 결국 노드에 코드를 보고선 구현할 수 있었다.\n",
    "    - 번역 결과는 대부분 틀리는 것을 볼수가 있었다.\n",
    "- epoch을 많이 올려 과적합을 하니 val_loss는 내려가다 올라갔지만, 번역 문장 결과는 오히려 좋은 결과를 나타내어 혼란을 가중시켰다.\n",
    "    - 6개 이상을 맞추는 결과를 볼 수가 있어서 많이 헷갈렸다.\n",
    "    - 과적합으로 인해 test 결과가 안좋아야 하는데 번역이 더 좋아지고 더 많이 맞춘다는 것이 이해가 가지 않았다.\n",
    "\n",
    "5회차\n",
    "- 생각한 목표대로 val_loss를 줄이기 위해 여러 hyperparameter를 바꿔봤다.\n",
    "    - early stopping 추가\n",
    "    - model.fit batch_size를 128에서 256으로 그리고 512로 바꾸기\n",
    "    - encoder and decoder LSTM에 dropout 0.2 추가\n",
    "    - embedding output dim 100에서 200으로 바꾸기\n",
    "    - lstm unit을 계속 올려봤지만, 결과가 오히려 떨어지는 형태를 보여, 256으로 맞춰주었다.\n",
    "- val_loss를 0.90 언저리로 만들수 있었지만, 10개의 문장을 번역해 보았을 때, 반 정도만 말이 되는 번역으로 출력되었다.\n",
    "    - embedding output dim을 300으로 바꿔주며 val_loss를 0.85정도로 맞추니, 1번째와 7번째 문장만 틀리고 나머지 8개를 맞추는 결과를 볼수가 있었다.\n",
    "    - learning_rate를 다양하게 두고 모델을 돌려봐도 비슷한 결과를 나타내었다."
   ]
  },
  {
   "cell_type": "markdown",
   "id": "88c3cf3b",
   "metadata": {},
   "source": [
    "# 배운점\n",
    "\n",
    "- hyperparameter를 어떻게 설정하느냐에 따라 모델의 학습결과와 번역 문장의 결과가 비슷하게 또는 천차만별로 다르게 나타나는 것을 볼수가 있었다.\n",
    "    - 모델을 설계할 시, hyperparameter를 적당히 설정해야 한다는 것을 배웠다.\n",
    "    - 극단적인 설정은 오히려 결과를 나쁘게 하는 결과를 보였다.\n",
    "- 이번에 사용한 것이 저번 프로젝트랑은 다르게 functional API 였는데, 처음 사용하는 것이라 많이 버벅거렸다.\n",
    "    - Sequential API가 좀더 쉽게 설계한다는 생각이 들었다.\n",
    "    "
   ]
  },
  {
   "cell_type": "markdown",
   "id": "0f271313",
   "metadata": {},
   "source": [
    "# 추가\n",
    "\n",
    "- 왜 과적합시 hyperparameter를 설정하기 전보다 더 좋은 결과를 초래했을까?\n",
    "- 모델 설계 과정?"
   ]
  },
  {
   "cell_type": "code",
   "execution_count": null,
   "id": "da2b7ea2",
   "metadata": {},
   "outputs": [],
   "source": []
  }
 ],
 "metadata": {
  "kernelspec": {
   "display_name": "Python 3 (ipykernel)",
   "language": "python",
   "name": "python3"
  },
  "language_info": {
   "codemirror_mode": {
    "name": "ipython",
    "version": 3
   },
   "file_extension": ".py",
   "mimetype": "text/x-python",
   "name": "python",
   "nbconvert_exporter": "python",
   "pygments_lexer": "ipython3",
   "version": "3.9.7"
  }
 },
 "nbformat": 4,
 "nbformat_minor": 5
}
