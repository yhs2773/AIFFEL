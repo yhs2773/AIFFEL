{
 "cells": [
  {
   "cell_type": "markdown",
   "id": "bb33bea2",
   "metadata": {},
   "source": [
    "# Preprocessing"
   ]
  },
  {
   "cell_type": "code",
   "execution_count": 1,
   "id": "0f710315",
   "metadata": {},
   "outputs": [],
   "source": [
    "import pandas as pd\n",
    "import numpy as np\n",
    "import tensorflow as tf\n",
    "import os, re, string\n",
    "import matplotlib.pyplot as plt\n",
    "\n",
    "from tensorflow.keras.callbacks import EarlyStopping\n",
    "from tensorflow.keras.preprocessing.text import Tokenizer\n",
    "from tensorflow.keras.preprocessing.sequence import pad_sequences\n",
    "from tensorflow.keras.utils import to_categorical\n",
    "from tensorflow.keras.layers import Input, LSTM, Embedding, Dense, Masking\n",
    "from tensorflow.keras.models import Model"
   ]
  },
  {
   "cell_type": "code",
   "execution_count": 2,
   "id": "9c5634ae",
   "metadata": {},
   "outputs": [
    {
     "name": "stdout",
     "output_type": "stream",
     "text": [
      "전체 샘플의 수 : 197463\n"
     ]
    },
    {
     "data": {
      "text/html": [
       "<div>\n",
       "<style scoped>\n",
       "    .dataframe tbody tr th:only-of-type {\n",
       "        vertical-align: middle;\n",
       "    }\n",
       "\n",
       "    .dataframe tbody tr th {\n",
       "        vertical-align: top;\n",
       "    }\n",
       "\n",
       "    .dataframe thead th {\n",
       "        text-align: right;\n",
       "    }\n",
       "</style>\n",
       "<table border=\"1\" class=\"dataframe\">\n",
       "  <thead>\n",
       "    <tr style=\"text-align: right;\">\n",
       "      <th></th>\n",
       "      <th>eng</th>\n",
       "      <th>fra</th>\n",
       "      <th>cc</th>\n",
       "    </tr>\n",
       "  </thead>\n",
       "  <tbody>\n",
       "    <tr>\n",
       "      <th>1844</th>\n",
       "      <td>Get moving.</td>\n",
       "      <td>Déplacez-vous.</td>\n",
       "      <td>CC-BY 2.0 (France) Attribution: tatoeba.org #2...</td>\n",
       "    </tr>\n",
       "    <tr>\n",
       "      <th>113431</th>\n",
       "      <td>Tom must go back to Australia.</td>\n",
       "      <td>Tom doit retourner en Australie.</td>\n",
       "      <td>CC-BY 2.0 (France) Attribution: tatoeba.org #5...</td>\n",
       "    </tr>\n",
       "    <tr>\n",
       "      <th>28955</th>\n",
       "      <td>Give me your shirt.</td>\n",
       "      <td>Donne-moi ta chemise !</td>\n",
       "      <td>CC-BY 2.0 (France) Attribution: tatoeba.org #1...</td>\n",
       "    </tr>\n",
       "    <tr>\n",
       "      <th>166182</th>\n",
       "      <td>I'm going to stay with my uncle in Kyoto.</td>\n",
       "      <td>Je vais rester avec mon oncle à Kyoto.</td>\n",
       "      <td>CC-BY 2.0 (France) Attribution: tatoeba.org #2...</td>\n",
       "    </tr>\n",
       "    <tr>\n",
       "      <th>117290</th>\n",
       "      <td>I made him carry the briefcase.</td>\n",
       "      <td>Je lui ai fait porter le cartable.</td>\n",
       "      <td>CC-BY 2.0 (France) Attribution: tatoeba.org #9...</td>\n",
       "    </tr>\n",
       "  </tbody>\n",
       "</table>\n",
       "</div>"
      ],
      "text/plain": [
       "                                              eng  \\\n",
       "1844                                  Get moving.   \n",
       "113431             Tom must go back to Australia.   \n",
       "28955                         Give me your shirt.   \n",
       "166182  I'm going to stay with my uncle in Kyoto.   \n",
       "117290            I made him carry the briefcase.   \n",
       "\n",
       "                                           fra  \\\n",
       "1844                            Déplacez-vous.   \n",
       "113431        Tom doit retourner en Australie.   \n",
       "28955                   Donne-moi ta chemise !   \n",
       "166182  Je vais rester avec mon oncle à Kyoto.   \n",
       "117290      Je lui ai fait porter le cartable.   \n",
       "\n",
       "                                                       cc  \n",
       "1844    CC-BY 2.0 (France) Attribution: tatoeba.org #2...  \n",
       "113431  CC-BY 2.0 (France) Attribution: tatoeba.org #5...  \n",
       "28955   CC-BY 2.0 (France) Attribution: tatoeba.org #1...  \n",
       "166182  CC-BY 2.0 (France) Attribution: tatoeba.org #2...  \n",
       "117290  CC-BY 2.0 (France) Attribution: tatoeba.org #9...  "
      ]
     },
     "execution_count": 2,
     "metadata": {},
     "output_type": "execute_result"
    }
   ],
   "source": [
    "# load file\n",
    "file_path = os.getenv('HOME')+'/aiffel/translator_seq2seq/data/fra.txt'\n",
    "lines = pd.read_csv(file_path, names=['eng', 'fra', 'cc'], sep='\\t')\n",
    "print('전체 샘플의 수 :',len(lines))\n",
    "lines.sample(5) #샘플 5개 출력"
   ]
  },
  {
   "cell_type": "code",
   "execution_count": 3,
   "id": "f2c506cb",
   "metadata": {},
   "outputs": [
    {
     "data": {
      "text/html": [
       "<div>\n",
       "<style scoped>\n",
       "    .dataframe tbody tr th:only-of-type {\n",
       "        vertical-align: middle;\n",
       "    }\n",
       "\n",
       "    .dataframe tbody tr th {\n",
       "        vertical-align: top;\n",
       "    }\n",
       "\n",
       "    .dataframe thead th {\n",
       "        text-align: right;\n",
       "    }\n",
       "</style>\n",
       "<table border=\"1\" class=\"dataframe\">\n",
       "  <thead>\n",
       "    <tr style=\"text-align: right;\">\n",
       "      <th></th>\n",
       "      <th>eng</th>\n",
       "      <th>fra</th>\n",
       "    </tr>\n",
       "  </thead>\n",
       "  <tbody>\n",
       "    <tr>\n",
       "      <th>8644</th>\n",
       "      <td>They must die.</td>\n",
       "      <td>Ils doivent mourir.</td>\n",
       "    </tr>\n",
       "    <tr>\n",
       "      <th>1805</th>\n",
       "      <td>Don't rush.</td>\n",
       "      <td>Ne te précipite pas.</td>\n",
       "    </tr>\n",
       "    <tr>\n",
       "      <th>22688</th>\n",
       "      <td>Be nice to others.</td>\n",
       "      <td>Soyez aimable avec autrui !</td>\n",
       "    </tr>\n",
       "    <tr>\n",
       "      <th>32871</th>\n",
       "      <td>Tom wants to speak.</td>\n",
       "      <td>Tom voudrait parler.</td>\n",
       "    </tr>\n",
       "    <tr>\n",
       "      <th>31096</th>\n",
       "      <td>It's not that cold.</td>\n",
       "      <td>Il ne fait pas si froid.</td>\n",
       "    </tr>\n",
       "  </tbody>\n",
       "</table>\n",
       "</div>"
      ],
      "text/plain": [
       "                       eng                          fra\n",
       "8644        They must die.          Ils doivent mourir.\n",
       "1805           Don't rush.         Ne te précipite pas.\n",
       "22688   Be nice to others.  Soyez aimable avec autrui !\n",
       "32871  Tom wants to speak.         Tom voudrait parler.\n",
       "31096  It's not that cold.     Il ne fait pas si froid."
      ]
     },
     "execution_count": 3,
     "metadata": {},
     "output_type": "execute_result"
    }
   ],
   "source": [
    "lines = lines[['eng', 'fra']][:33000] # 5만개 샘플 사용\n",
    "lines.sample(5) # 5744, 29273"
   ]
  },
  {
   "cell_type": "code",
   "execution_count": 4,
   "id": "912917c5",
   "metadata": {},
   "outputs": [
    {
     "name": "stdout",
     "output_type": "stream",
     "text": [
      "전체 샘플의 수 : 33000\n"
     ]
    },
    {
     "data": {
      "text/html": [
       "<div>\n",
       "<style scoped>\n",
       "    .dataframe tbody tr th:only-of-type {\n",
       "        vertical-align: middle;\n",
       "    }\n",
       "\n",
       "    .dataframe tbody tr th {\n",
       "        vertical-align: top;\n",
       "    }\n",
       "\n",
       "    .dataframe thead th {\n",
       "        text-align: right;\n",
       "    }\n",
       "</style>\n",
       "<table border=\"1\" class=\"dataframe\">\n",
       "  <thead>\n",
       "    <tr style=\"text-align: right;\">\n",
       "      <th></th>\n",
       "      <th>eng</th>\n",
       "      <th>fra</th>\n",
       "    </tr>\n",
       "  </thead>\n",
       "  <tbody>\n",
       "    <tr>\n",
       "      <th>18664</th>\n",
       "      <td>I got paid today.</td>\n",
       "      <td>\\t J'ai été payé aujourd'hui. \\n</td>\n",
       "    </tr>\n",
       "    <tr>\n",
       "      <th>5237</th>\n",
       "      <td>I'm bleeding.</td>\n",
       "      <td>\\t Je suis en train de saigner. \\n</td>\n",
       "    </tr>\n",
       "    <tr>\n",
       "      <th>12445</th>\n",
       "      <td>We all laughed.</td>\n",
       "      <td>\\t Nous avons tous ri. \\n</td>\n",
       "    </tr>\n",
       "    <tr>\n",
       "      <th>12606</th>\n",
       "      <td>We're not sure.</td>\n",
       "      <td>\\t Nous ne sommes pas sûres. \\n</td>\n",
       "    </tr>\n",
       "    <tr>\n",
       "      <th>18449</th>\n",
       "      <td>I bought bananas.</td>\n",
       "      <td>\\t J'ai acheté des bananes. \\n</td>\n",
       "    </tr>\n",
       "  </tbody>\n",
       "</table>\n",
       "</div>"
      ],
      "text/plain": [
       "                     eng                                 fra\n",
       "18664  I got paid today.    \\t J'ai été payé aujourd'hui. \\n\n",
       "5237       I'm bleeding.  \\t Je suis en train de saigner. \\n\n",
       "12445    We all laughed.           \\t Nous avons tous ri. \\n\n",
       "12606    We're not sure.     \\t Nous ne sommes pas sûres. \\n\n",
       "18449  I bought bananas.      \\t J'ai acheté des bananes. \\n"
      ]
     },
     "execution_count": 4,
     "metadata": {},
     "output_type": "execute_result"
    }
   ],
   "source": [
    "# 시작 토큰과 종료 토큰 추가\n",
    "sos_token = '\\t'\n",
    "eos_token = '\\n'\n",
    "lines.fra = lines.fra.apply(lambda x : '\\t '+ x + ' \\n')\n",
    "print('전체 샘플의 수 :',len(lines))\n",
    "lines.sample(5)"
   ]
  },
  {
   "cell_type": "code",
   "execution_count": 5,
   "id": "9beea282",
   "metadata": {},
   "outputs": [
    {
     "data": {
      "text/html": [
       "<div>\n",
       "<style scoped>\n",
       "    .dataframe tbody tr th:only-of-type {\n",
       "        vertical-align: middle;\n",
       "    }\n",
       "\n",
       "    .dataframe tbody tr th {\n",
       "        vertical-align: top;\n",
       "    }\n",
       "\n",
       "    .dataframe thead th {\n",
       "        text-align: right;\n",
       "    }\n",
       "</style>\n",
       "<table border=\"1\" class=\"dataframe\">\n",
       "  <thead>\n",
       "    <tr style=\"text-align: right;\">\n",
       "      <th></th>\n",
       "      <th>eng</th>\n",
       "      <th>fra</th>\n",
       "    </tr>\n",
       "  </thead>\n",
       "  <tbody>\n",
       "    <tr>\n",
       "      <th>0</th>\n",
       "      <td>Go.</td>\n",
       "      <td>\\t Va ! \\n</td>\n",
       "    </tr>\n",
       "    <tr>\n",
       "      <th>1</th>\n",
       "      <td>Go.</td>\n",
       "      <td>\\t Marche. \\n</td>\n",
       "    </tr>\n",
       "    <tr>\n",
       "      <th>2</th>\n",
       "      <td>Go.</td>\n",
       "      <td>\\t En route ! \\n</td>\n",
       "    </tr>\n",
       "    <tr>\n",
       "      <th>3</th>\n",
       "      <td>Go.</td>\n",
       "      <td>\\t Bouge ! \\n</td>\n",
       "    </tr>\n",
       "    <tr>\n",
       "      <th>4</th>\n",
       "      <td>Hi.</td>\n",
       "      <td>\\t Salut ! \\n</td>\n",
       "    </tr>\n",
       "    <tr>\n",
       "      <th>5</th>\n",
       "      <td>Hi.</td>\n",
       "      <td>\\t Salut. \\n</td>\n",
       "    </tr>\n",
       "    <tr>\n",
       "      <th>6</th>\n",
       "      <td>Run!</td>\n",
       "      <td>\\t Cours ! \\n</td>\n",
       "    </tr>\n",
       "    <tr>\n",
       "      <th>7</th>\n",
       "      <td>Run!</td>\n",
       "      <td>\\t Courez ! \\n</td>\n",
       "    </tr>\n",
       "  </tbody>\n",
       "</table>\n",
       "</div>"
      ],
      "text/plain": [
       "    eng               fra\n",
       "0   Go.        \\t Va ! \\n\n",
       "1   Go.     \\t Marche. \\n\n",
       "2   Go.  \\t En route ! \\n\n",
       "3   Go.     \\t Bouge ! \\n\n",
       "4   Hi.     \\t Salut ! \\n\n",
       "5   Hi.      \\t Salut. \\n\n",
       "6  Run!     \\t Cours ! \\n\n",
       "7  Run!    \\t Courez ! \\n"
      ]
     },
     "execution_count": 5,
     "metadata": {},
     "output_type": "execute_result"
    }
   ],
   "source": [
    "lines.head(8)"
   ]
  },
  {
   "cell_type": "markdown",
   "id": "d61ff08d",
   "metadata": {},
   "source": [
    "# Regex"
   ]
  },
  {
   "cell_type": "code",
   "execution_count": 6,
   "id": "26856ca2",
   "metadata": {},
   "outputs": [],
   "source": [
    "# regex reference: https://stackoverflow.com/questions/64125019/how-to-tokenize-punctuations-using-the-tokenizer-function-tensorflow\n",
    "def pad_punctuation(s): return re.sub(f\"([{string.punctuation}])\", r' \\1 ', s)\n",
    "\n",
    "# also need to regex French punctuations\n",
    "def french_punctuations(s):\n",
    "    s = re.sub('[\\u202f\\u2009\\xa0]', '', s)\n",
    "    s = re.sub('’', \" ' \", s)\n",
    "    s = re.sub('[—––]', ' - ', s)\n",
    "    s = re.sub('[«»]', ' \" ', s)\n",
    "    return s"
   ]
  },
  {
   "cell_type": "code",
   "execution_count": 7,
   "id": "fbd9e8cd",
   "metadata": {},
   "outputs": [],
   "source": [
    "# French punctuations and unicode spaces found in French list\n",
    "# \\u202f # unicode whitespace\n",
    "# \\u2009 # unicode whitespace\n",
    "# \\xa0 # unicode whitespace\n",
    "# ’ # French apostrophe\n",
    "# — # French hyphen\n",
    "# – # French hyphen\n",
    "# – # French hyphen\n",
    "# «, » # French double quotes\n",
    "# \\u202f\\u2009\\xa0’—––«»"
   ]
  },
  {
   "cell_type": "code",
   "execution_count": 8,
   "id": "2472a2bd",
   "metadata": {},
   "outputs": [
    {
     "data": {
      "text/plain": [
       "50              \\t Bonjour  !  \\n\n",
       "51                \\t Salut  !  \\n\n",
       "52          \\t Je comprends .  \\n\n",
       "53                   \\t Aha .  \\n\n",
       "54            \\t J ' essaye .  \\n\n",
       "55         \\t J ' ai gagné  !  \\n\n",
       "56    \\t Je l ' ai emporté  !  \\n\n",
       "57            \\t J’ai gagné .  \\n\n",
       "58               \\t Oh non  !  \\n\n",
       "59           \\t Calme - toi .  \\n\n",
       "Name: fra, dtype: object"
      ]
     },
     "execution_count": 8,
     "metadata": {},
     "output_type": "execute_result"
    }
   ],
   "source": [
    "lines.fra = [pad_punctuation(s) for s in lines.fra]\n",
    "lines.fra[50:60]"
   ]
  },
  {
   "cell_type": "code",
   "execution_count": 9,
   "id": "89e88b34",
   "metadata": {},
   "outputs": [
    {
     "data": {
      "text/plain": [
       "50              \\t Bonjour  !  \\n\n",
       "51                \\t Salut  !  \\n\n",
       "52          \\t Je comprends .  \\n\n",
       "53                   \\t Aha .  \\n\n",
       "54            \\t J ' essaye .  \\n\n",
       "55         \\t J ' ai gagné  !  \\n\n",
       "56    \\t Je l ' ai emporté  !  \\n\n",
       "57          \\t J ' ai gagné .  \\n\n",
       "58               \\t Oh non  !  \\n\n",
       "59           \\t Calme - toi .  \\n\n",
       "Name: fra, dtype: object"
      ]
     },
     "execution_count": 9,
     "metadata": {},
     "output_type": "execute_result"
    }
   ],
   "source": [
    "lines.fra = [french_punctuations(s) for s in lines.fra]\n",
    "lines.fra[50:60]"
   ]
  },
  {
   "cell_type": "code",
   "execution_count": 10,
   "id": "fe1b49e2",
   "metadata": {},
   "outputs": [
    {
     "data": {
      "text/plain": [
       "0    Go . \n",
       "1    Go . \n",
       "2    Go . \n",
       "3    Go . \n",
       "4    Hi . \n",
       "Name: eng, dtype: object"
      ]
     },
     "execution_count": 10,
     "metadata": {},
     "output_type": "execute_result"
    }
   ],
   "source": [
    "# create a full list from lines.eng and separate by punctuation\n",
    "lines.eng = [pad_punctuation(s) for s in lines.eng]\n",
    "lines.eng.head()"
   ]
  },
  {
   "cell_type": "markdown",
   "id": "c64dceee",
   "metadata": {},
   "source": [
    "# Tokenization"
   ]
  },
  {
   "cell_type": "code",
   "execution_count": 11,
   "id": "a32189ec",
   "metadata": {},
   "outputs": [
    {
     "data": {
      "text/plain": [
       "[[29, 1], [29, 1], [29, 1]]"
      ]
     },
     "execution_count": 11,
     "metadata": {},
     "output_type": "execute_result"
    }
   ],
   "source": [
    "eng_tokenizer = Tokenizer(filters='')    # 문자 단위로 Tokenizer를 생성합니다. \n",
    "eng_tokenizer.fit_on_texts(lines.eng)               # 50000개의 행을 가진 eng의 각 행에 토큰화를 수행\n",
    "input_text = eng_tokenizer.texts_to_sequences(lines.eng)    # 단어를 숫자값 인덱스로 변환하여 저장\n",
    "input_text[:3]"
   ]
  },
  {
   "cell_type": "code",
   "execution_count": 12,
   "id": "e136a2d7",
   "metadata": {},
   "outputs": [
    {
     "data": {
      "text/plain": [
       "('tom', '?', '.')"
      ]
     },
     "execution_count": 12,
     "metadata": {},
     "output_type": "execute_result"
    }
   ],
   "source": [
    "eng_tokenizer.index_word[6], eng_tokenizer.index_word[5], eng_tokenizer.index_word[1]"
   ]
  },
  {
   "cell_type": "code",
   "execution_count": 13,
   "id": "db8e5518",
   "metadata": {},
   "outputs": [
    {
     "data": {
      "text/plain": [
       "[[1, 74, 10, 2], [1, 339, 3, 2], [1, 27, 489, 10, 2]]"
      ]
     },
     "execution_count": 13,
     "metadata": {},
     "output_type": "execute_result"
    }
   ],
   "source": [
    "fra_tokenizer = Tokenizer(filters='')   # 문자 단위로 Tokenizer를 생성합니다. \n",
    "fra_tokenizer.fit_on_texts(lines.fra)                 # 50000개의 행을 가진 fra의 각 행에 토큰화를 수행\n",
    "target_text = fra_tokenizer.texts_to_sequences(lines.fra)     # 단어를 숫자값 인덱스로 변환하여 저장\n",
    "target_text[:3]"
   ]
  },
  {
   "cell_type": "code",
   "execution_count": 14,
   "id": "d877cd95",
   "metadata": {},
   "outputs": [
    {
     "data": {
      "text/plain": [
       "('\\t', '\\n')"
      ]
     },
     "execution_count": 14,
     "metadata": {},
     "output_type": "execute_result"
    }
   ],
   "source": [
    "fra_tokenizer.index_word[1], fra_tokenizer.index_word[2]"
   ]
  },
  {
   "cell_type": "code",
   "execution_count": 15,
   "id": "aecb89bc",
   "metadata": {},
   "outputs": [
    {
     "name": "stdout",
     "output_type": "stream",
     "text": [
      "영어 단어장의 크기 : 4713\n",
      "프랑스어 단어장의 크기 : 8595\n"
     ]
    }
   ],
   "source": [
    "eng_vocab_size = len(eng_tokenizer.word_index) + 1\n",
    "fra_vocab_size = len(fra_tokenizer.word_index) + 1\n",
    "print('영어 단어장의 크기 :', eng_vocab_size)\n",
    "print('프랑스어 단어장의 크기 :', fra_vocab_size)"
   ]
  },
  {
   "cell_type": "code",
   "execution_count": 16,
   "id": "8608032e",
   "metadata": {},
   "outputs": [
    {
     "name": "stdout",
     "output_type": "stream",
     "text": [
      "영어 시퀀스의 최대 길이 10\n",
      "프랑스어 시퀀스의 최대 길이 20\n"
     ]
    }
   ],
   "source": [
    "max_eng_seq_len = max([len(line) for line in input_text])\n",
    "max_fra_seq_len = max([len(line) for line in target_text])\n",
    "print('영어 시퀀스의 최대 길이', max_eng_seq_len)\n",
    "print('프랑스어 시퀀스의 최대 길이', max_fra_seq_len)"
   ]
  },
  {
   "cell_type": "code",
   "execution_count": 17,
   "id": "a06078ac",
   "metadata": {},
   "outputs": [
    {
     "name": "stdout",
     "output_type": "stream",
     "text": [
      "전체 샘플의 수 : 33000\n",
      "영어 단어장의 크기 : 4713\n",
      "프랑스어 단어장의 크기 : 8595\n",
      "영어 시퀀스의 최대 길이 10\n",
      "프랑스어 시퀀스의 최대 길이 20\n"
     ]
    }
   ],
   "source": [
    "print('전체 샘플의 수 :',len(lines))\n",
    "print('영어 단어장의 크기 :', eng_vocab_size)\n",
    "print('프랑스어 단어장의 크기 :', fra_vocab_size)\n",
    "print('영어 시퀀스의 최대 길이', max_eng_seq_len)\n",
    "print('프랑스어 시퀀스의 최대 길이', max_fra_seq_len)"
   ]
  },
  {
   "cell_type": "code",
   "execution_count": 18,
   "id": "c0410ac4",
   "metadata": {},
   "outputs": [],
   "source": [
    "encoder_input = input_text\n",
    "# 종료 토큰 제거\n",
    "decoder_input = [[ char for char in line if char != fra_tokenizer.word_index[eos_token] ] for line in target_text] \n",
    "# 시작 토큰 제거\n",
    "decoder_target = [[ char for char in line if char != fra_tokenizer.word_index[sos_token] ] for line in target_text]"
   ]
  },
  {
   "cell_type": "code",
   "execution_count": 19,
   "id": "05e5eba2",
   "metadata": {},
   "outputs": [
    {
     "name": "stdout",
     "output_type": "stream",
     "text": [
      "[[1, 74, 10], [1, 339, 3], [1, 27, 489, 10]]\n",
      "[[74, 10, 2], [339, 3, 2], [27, 489, 10, 2]]\n"
     ]
    }
   ],
   "source": [
    "print(decoder_input[:3])\n",
    "print(decoder_target[:3])"
   ]
  },
  {
   "cell_type": "code",
   "execution_count": 20,
   "id": "c1a38315",
   "metadata": {},
   "outputs": [
    {
     "name": "stdout",
     "output_type": "stream",
     "text": [
      "영어 데이터의 크기(shape) : (33000, 10)\n",
      "프랑스어 입력데이터의 크기(shape) : (33000, 20)\n",
      "프랑스어 출력데이터의 크기(shape) : (33000, 20)\n"
     ]
    }
   ],
   "source": [
    "encoder_input = pad_sequences(encoder_input, maxlen = max_eng_seq_len, padding='post')\n",
    "decoder_input = pad_sequences(decoder_input, maxlen = max_fra_seq_len, padding='post')\n",
    "decoder_target = pad_sequences(decoder_target, maxlen = max_fra_seq_len, padding='post')\n",
    "print('영어 데이터의 크기(shape) :',np.shape(encoder_input))\n",
    "print('프랑스어 입력데이터의 크기(shape) :',np.shape(decoder_input))\n",
    "print('프랑스어 출력데이터의 크기(shape) :',np.shape(decoder_target))"
   ]
  },
  {
   "cell_type": "code",
   "execution_count": 21,
   "id": "63ce3181",
   "metadata": {},
   "outputs": [
    {
     "name": "stdout",
     "output_type": "stream",
     "text": [
      "[29  1  0  0  0  0  0  0  0  0]\n"
     ]
    }
   ],
   "source": [
    "print(encoder_input[0])"
   ]
  },
  {
   "cell_type": "code",
   "execution_count": 22,
   "id": "0fbd0f2f",
   "metadata": {},
   "outputs": [],
   "source": [
    "# encoder_input = to_categorical(encoder_input)\n",
    "# decoder_input = to_categorical(decoder_input)\n",
    "# decoder_target = to_categorical(decoder_target)\n",
    "# print('영어 데이터의 크기(shape) :',np.shape(encoder_input))\n",
    "# print('프랑스어 입력데이터의 크기(shape) :',np.shape(decoder_input))\n",
    "# print('프랑스어 출력데이터의 크기(shape) :',np.shape(decoder_target))"
   ]
  },
  {
   "cell_type": "code",
   "execution_count": 23,
   "id": "a2bad745",
   "metadata": {},
   "outputs": [
    {
     "name": "stdout",
     "output_type": "stream",
     "text": [
      "영어 학습데이터의 크기(shape) : (33000, 10)\n",
      "프랑스어 학습 입력데이터의 크기(shape) : (33000, 20)\n",
      "프랑스어 학습 출력데이터의 크기(shape) : (33000, 20)\n",
      "enc_inp_tr (30000, 10)\n",
      "dec_inp_tr (30000, 20)\n",
      "dec_tgt_tr (30000, 20)\n",
      "enc_inp_ts (3000, 10)\n",
      "dec_inp_ts (3000, 20)\n",
      "dec_tgt_ts (3000, 20)\n"
     ]
    }
   ],
   "source": [
    "n_of_val = 3000\n",
    "\n",
    "encoder_input_train = encoder_input[:-n_of_val]\n",
    "decoder_input_train = decoder_input[:-n_of_val]\n",
    "decoder_target_train = decoder_target[:-n_of_val]\n",
    "\n",
    "encoder_input_test = encoder_input[-n_of_val:]\n",
    "decoder_input_test = decoder_input[-n_of_val:]\n",
    "decoder_target_test = decoder_target[-n_of_val:]\n",
    "\n",
    "print('영어 학습데이터의 크기(shape) :',np.shape(encoder_input))\n",
    "print('프랑스어 학습 입력데이터의 크기(shape) :',np.shape(decoder_input))\n",
    "print('프랑스어 학습 출력데이터의 크기(shape) :',np.shape(decoder_target))\n",
    "print('enc_inp_tr', np.shape(encoder_input_train))\n",
    "print('dec_inp_tr', np.shape(decoder_input_train))\n",
    "print('dec_tgt_tr', np.shape(decoder_target_train))\n",
    "print('enc_inp_ts', np.shape(encoder_input_test))\n",
    "print('dec_inp_ts', np.shape(decoder_input_test))\n",
    "print('dec_tgt_ts', np.shape(decoder_target_test))"
   ]
  },
  {
   "cell_type": "markdown",
   "id": "d96601f8",
   "metadata": {},
   "source": [
    "# Training model"
   ]
  },
  {
   "cell_type": "code",
   "execution_count": 24,
   "id": "ada47ca3",
   "metadata": {
    "scrolled": true
   },
   "outputs": [],
   "source": [
    "encoder_inputs = Input(shape=(None,))\n",
    "enc_emb = Embedding(eng_vocab_size, 300, input_length=max_eng_seq_len)(encoder_inputs)\n",
    "encoder_lstm = LSTM(256, return_state=True, dropout=0.2)\n",
    "encoder_outputs, state_h, state_c = encoder_lstm(enc_emb)\n",
    "encoder_states = [state_h, state_c]"
   ]
  },
  {
   "cell_type": "code",
   "execution_count": 25,
   "id": "b4b997f0",
   "metadata": {
    "scrolled": true
   },
   "outputs": [],
   "source": [
    "# 입력 텐서 생성.\n",
    "decoder_inputs = Input(shape=(None,))\n",
    "dec_emb = Embedding(fra_vocab_size, 300, input_length=max_fra_seq_len)(decoder_inputs)\n",
    "# hidden size가 256인 인코더의 LSTM 셀 생성\n",
    "decoder_lstm = LSTM(256, return_sequences = True, return_state=True, dropout=0.2)\n",
    "# decoder_outputs는 모든 time step의 hidden state\n",
    "decoder_outputs, _, _= decoder_lstm(dec_emb, initial_state = encoder_states)"
   ]
  },
  {
   "cell_type": "code",
   "execution_count": 26,
   "id": "e7a6fcb4",
   "metadata": {},
   "outputs": [],
   "source": [
    "decoder_softmax_layer = Dense(fra_vocab_size, activation='softmax')\n",
    "decoder_outputs = decoder_softmax_layer(decoder_outputs)"
   ]
  },
  {
   "cell_type": "code",
   "execution_count": 27,
   "id": "57bdcc7e",
   "metadata": {},
   "outputs": [
    {
     "name": "stdout",
     "output_type": "stream",
     "text": [
      "Model: \"model\"\n",
      "__________________________________________________________________________________________________\n",
      "Layer (type)                    Output Shape         Param #     Connected to                     \n",
      "==================================================================================================\n",
      "input_1 (InputLayer)            [(None, None)]       0                                            \n",
      "__________________________________________________________________________________________________\n",
      "input_2 (InputLayer)            [(None, None)]       0                                            \n",
      "__________________________________________________________________________________________________\n",
      "embedding (Embedding)           (None, None, 300)    1413900     input_1[0][0]                    \n",
      "__________________________________________________________________________________________________\n",
      "embedding_1 (Embedding)         (None, None, 300)    2578500     input_2[0][0]                    \n",
      "__________________________________________________________________________________________________\n",
      "lstm (LSTM)                     [(None, 256), (None, 570368      embedding[0][0]                  \n",
      "__________________________________________________________________________________________________\n",
      "lstm_1 (LSTM)                   [(None, None, 256),  570368      embedding_1[0][0]                \n",
      "                                                                 lstm[0][1]                       \n",
      "                                                                 lstm[0][2]                       \n",
      "__________________________________________________________________________________________________\n",
      "dense (Dense)                   (None, None, 8595)   2208915     lstm_1[0][0]                     \n",
      "==================================================================================================\n",
      "Total params: 7,342,051\n",
      "Trainable params: 7,342,051\n",
      "Non-trainable params: 0\n",
      "__________________________________________________________________________________________________\n"
     ]
    }
   ],
   "source": [
    "rmsprop = tf.keras.optimizers.RMSprop(learning_rate=0.001) # 0.05로 바꾸고 마지막으로 시도해보기\n",
    "\n",
    "model = Model([encoder_inputs, decoder_inputs], decoder_outputs)\n",
    "model.compile(optimizer=rmsprop, loss=\"sparse_categorical_crossentropy\")\n",
    "model.summary()"
   ]
  },
  {
   "cell_type": "code",
   "execution_count": 28,
   "id": "86a5fc32",
   "metadata": {},
   "outputs": [
    {
     "name": "stdout",
     "output_type": "stream",
     "text": [
      "Epoch 1/150\n",
      "235/235 [==============================] - 431s 2s/step - loss: 1.5851 - val_loss: 1.4091\n",
      "Epoch 2/150\n",
      "235/235 [==============================] - 424s 2s/step - loss: 1.0398 - val_loss: 1.2098\n",
      "Epoch 3/150\n",
      "235/235 [==============================] - 427s 2s/step - loss: 0.9029 - val_loss: 1.1186\n",
      "Epoch 4/150\n",
      "235/235 [==============================] - 434s 2s/step - loss: 0.8165 - val_loss: 1.0512\n",
      "Epoch 5/150\n",
      "235/235 [==============================] - 423s 2s/step - loss: 0.7535 - val_loss: 1.0102\n",
      "Epoch 6/150\n",
      "235/235 [==============================] - 424s 2s/step - loss: 0.7025 - val_loss: 0.9830\n",
      "Epoch 7/150\n",
      "235/235 [==============================] - 425s 2s/step - loss: 0.6590 - val_loss: 0.9445\n",
      "Epoch 8/150\n",
      "235/235 [==============================] - 425s 2s/step - loss: 0.6216 - val_loss: 0.9333\n",
      "Epoch 9/150\n",
      "235/235 [==============================] - 447s 2s/step - loss: 0.5897 - val_loss: 0.9135\n",
      "Epoch 10/150\n",
      "235/235 [==============================] - 665s 3s/step - loss: 0.5611 - val_loss: 0.8989\n",
      "Epoch 11/150\n",
      "235/235 [==============================] - 428s 2s/step - loss: 0.5362 - val_loss: 0.8956\n",
      "Epoch 12/150\n",
      "235/235 [==============================] - 428s 2s/step - loss: 0.5138 - val_loss: 0.8850\n",
      "Epoch 13/150\n",
      "235/235 [==============================] - 427s 2s/step - loss: 0.4935 - val_loss: 0.8711\n",
      "Epoch 14/150\n",
      "235/235 [==============================] - 429s 2s/step - loss: 0.4735 - val_loss: 0.8686\n",
      "Epoch 15/150\n",
      "235/235 [==============================] - 426s 2s/step - loss: 0.4544 - val_loss: 0.8618\n",
      "Epoch 16/150\n",
      "235/235 [==============================] - 424s 2s/step - loss: 0.4376 - val_loss: 0.8582\n",
      "Epoch 17/150\n",
      "235/235 [==============================] - 422s 2s/step - loss: 0.4211 - val_loss: 0.8604\n",
      "Epoch 18/150\n",
      "235/235 [==============================] - 432s 2s/step - loss: 0.4060 - val_loss: 0.8548\n",
      "Epoch 19/150\n",
      "235/235 [==============================] - 443s 2s/step - loss: 0.3920 - val_loss: 0.8616\n",
      "Epoch 20/150\n",
      "235/235 [==============================] - 457s 2s/step - loss: 0.3781 - val_loss: 0.8586\n",
      "Epoch 21/150\n",
      "235/235 [==============================] - 457s 2s/step - loss: 0.3657 - val_loss: 0.8505\n",
      "Epoch 22/150\n",
      "235/235 [==============================] - 458s 2s/step - loss: 0.3542 - val_loss: 0.8528\n",
      "Epoch 23/150\n",
      "235/235 [==============================] - 465s 2s/step - loss: 0.3433 - val_loss: 0.8560\n",
      "Epoch 24/150\n",
      "235/235 [==============================] - 463s 2s/step - loss: 0.3340 - val_loss: 0.8556\n",
      "Epoch 25/150\n",
      "235/235 [==============================] - 463s 2s/step - loss: 0.3247 - val_loss: 0.8606\n"
     ]
    }
   ],
   "source": [
    "# model train\n",
    "early_stopping = EarlyStopping(patience=3) # add early stopping\n",
    "\n",
    "history = model.fit(x=[encoder_input_train, decoder_input_train], y=decoder_target_train, \\\n",
    "          validation_data = ([encoder_input_test, decoder_input_test], decoder_target_test),\n",
    "          batch_size=128, epochs=150, callbacks=early_stopping) # batch size changed from 128 to 256 to 512\n",
    "                                                                # since adding learning_rate, batch reduced to 128 for faster time"
   ]
  },
  {
   "cell_type": "code",
   "execution_count": 29,
   "id": "11213b9c",
   "metadata": {},
   "outputs": [
    {
     "name": "stdout",
     "output_type": "stream",
     "text": [
      "dict_keys(['loss', 'val_loss'])\n"
     ]
    },
    {
     "data": {
      "image/png": "[encoded data removed]",
      "text/plain": [
       "<Figure size 432x288 with 1 Axes>"
      ]
     },
     "metadata": {
      "needs_background": "light"
     },
     "output_type": "display_data"
    }
   ],
   "source": [
    "# plot loss\n",
    "history_dict = history.history\n",
    "print(history_dict.keys()) # keys to check parameters for plotting\n",
    "\n",
    "# acc = history_dict['accuracy']\n",
    "# val_acc = history_dict['val_accuracy']\n",
    "loss = history_dict['loss']\n",
    "val_loss = history_dict['val_loss']\n",
    "\n",
    "epochs = range(1, len(loss) + 1)\n",
    "\n",
    "# \"bo\" is \"dotted blue\"\n",
    "plt.plot(epochs, loss, 'bo', label='Training loss')\n",
    "# \"b\" is \"blue line\"\n",
    "plt.plot(epochs, val_loss, 'b', label='Validation loss')\n",
    "plt.title('Training and validation loss')\n",
    "plt.xlabel('Epochs')\n",
    "plt.ylabel('Loss')\n",
    "plt.legend()\n",
    "\n",
    "plt.show()"
   ]
  },
  {
   "cell_type": "markdown",
   "id": "a9b0d6b7",
   "metadata": {},
   "source": [
    "# Testing model"
   ]
  },
  {
   "cell_type": "code",
   "execution_count": 30,
   "id": "90f3576b",
   "metadata": {},
   "outputs": [
    {
     "name": "stdout",
     "output_type": "stream",
     "text": [
      "Model: \"model_1\"\n",
      "_________________________________________________________________\n",
      "Layer (type)                 Output Shape              Param #   \n",
      "=================================================================\n",
      "input_1 (InputLayer)         [(None, None)]            0         \n",
      "_________________________________________________________________\n",
      "embedding (Embedding)        (None, None, 300)         1413900   \n",
      "_________________________________________________________________\n",
      "lstm (LSTM)                  [(None, 256), (None, 256) 570368    \n",
      "=================================================================\n",
      "Total params: 1,984,268\n",
      "Trainable params: 1,984,268\n",
      "Non-trainable params: 0\n",
      "_________________________________________________________________\n"
     ]
    }
   ],
   "source": [
    "# 우선 인코더를 정의합니다. encoder_inputs와 encoder_states는 이미 정의한 것들을 재사용합니다.\n",
    "encoder_model = Model(inputs = encoder_inputs, outputs = encoder_states)\n",
    "encoder_model.summary()"
   ]
  },
  {
   "cell_type": "code",
   "execution_count": 31,
   "id": "1f46e02f",
   "metadata": {},
   "outputs": [],
   "source": [
    "# 이제 디코더를 설계합니다.\n",
    "# 이전 time step의 hidden state를 저장하는 텐서\n",
    "decoder_state_input_h = Input(shape=(256,))\n",
    "# 이전 time step의 cell state를 저장하는 텐서\n",
    "decoder_state_input_c = Input(shape=(256,))\n",
    "# 이전 time step의 hidden state와 cell state를 하나의 변수에 저장\n",
    "decoder_states_inputs = [decoder_state_input_h, decoder_state_input_c]\n",
    "\n",
    "# decoder_states_inputs를 현재 time step의 초기 상태로 사용.\n",
    "# 구체적인 동작 자체는 def decode_sequence()에 구현.\n",
    "decoder_outputs, state_h, state_c = decoder_lstm(dec_emb, initial_state = decoder_states_inputs)\n",
    "# 현재 time step의 hidden state와 cell state를 하나의 변수에 저장.\n",
    "decoder_states = [state_h, state_c]"
   ]
  },
  {
   "cell_type": "code",
   "execution_count": 32,
   "id": "0fb6f7e6",
   "metadata": {},
   "outputs": [
    {
     "name": "stdout",
     "output_type": "stream",
     "text": [
      "Model: \"model_2\"\n",
      "__________________________________________________________________________________________________\n",
      "Layer (type)                    Output Shape         Param #     Connected to                     \n",
      "==================================================================================================\n",
      "input_2 (InputLayer)            [(None, None)]       0                                            \n",
      "__________________________________________________________________________________________________\n",
      "embedding_1 (Embedding)         (None, None, 300)    2578500     input_2[0][0]                    \n",
      "__________________________________________________________________________________________________\n",
      "input_3 (InputLayer)            [(None, 256)]        0                                            \n",
      "__________________________________________________________________________________________________\n",
      "input_4 (InputLayer)            [(None, 256)]        0                                            \n",
      "__________________________________________________________________________________________________\n",
      "lstm_1 (LSTM)                   [(None, None, 256),  570368      embedding_1[0][0]                \n",
      "                                                                 input_3[0][0]                    \n",
      "                                                                 input_4[0][0]                    \n",
      "__________________________________________________________________________________________________\n",
      "dense (Dense)                   (None, None, 8595)   2208915     lstm_1[1][0]                     \n",
      "==================================================================================================\n",
      "Total params: 5,357,783\n",
      "Trainable params: 5,357,783\n",
      "Non-trainable params: 0\n",
      "__________________________________________________________________________________________________\n"
     ]
    }
   ],
   "source": [
    "# 디코더의 출력층을 재설계해줍니다.\n",
    "decoder_outputs = decoder_softmax_layer(decoder_outputs)\n",
    "decoder_model = Model(inputs=[decoder_inputs] + decoder_states_inputs, outputs=[decoder_outputs] + decoder_states)\n",
    "decoder_model.summary()"
   ]
  },
  {
   "cell_type": "code",
   "execution_count": 33,
   "id": "e0178ee3",
   "metadata": {},
   "outputs": [],
   "source": [
    "# 단어에서 정수로, 정수에서 단어로 바꾸는 사전(dictionary)을 준비해 둡니다.\n",
    "# 테스트 결과를 해석하기 위해선 다시 사전이 필요하겠죠?\n",
    "# 우리는 이전 스텝에서 문장을 숫자 인덱스로 바꾸는 Tokenizer를 만들면서 자동으로 만들어진 사전을 이미 가지고 있습니다.\n",
    "eng2idx = eng_tokenizer.word_index\n",
    "fra2idx = fra_tokenizer.word_index\n",
    "idx2eng = eng_tokenizer.index_word\n",
    "idx2fra = fra_tokenizer.index_word"
   ]
  },
  {
   "cell_type": "code",
   "execution_count": 34,
   "id": "9ac315e9",
   "metadata": {},
   "outputs": [],
   "source": [
    "# 이제 예측 과정을 위한 함수 decode_sequence()를 구현합니다.\n",
    "# decode_sequence()의 입력으로 들어가는 것은 번역하고자 하는 문장의 정수 시퀀스입니다.\n",
    "# decode_sequence() 내부에는 인코더를 구현한 encoder_model이 있어서\n",
    "# 이 모델에 번역하고자 하는 문장의 정수 시퀀스인 'input_seq'를 입력하면, encoder_model은 마지막 시점의 hidden state를 리턴합니다.\n",
    "# 이 hidden state는 디코더의 첫번째 시점의 hidden state가 되고, 디코더는 이제 번역 문장을 완성하기 위한 예측 과정을 진행합니다.\n",
    "# 디코더의 예측 과정에서는 이전 시점에서 예측한 단어를 디코더의 현재 시점의 입력으로 넣어주는 작업을 진행합니다.\n",
    "# 그리고 이 작업은 종료를 의미하는 종료 토큰을 만나거나, 주어진 최대 길이를 넘을 때까지 반복합니다.\n",
    "def decode_sequence(input_seq):\n",
    "    # 입력으로부터 인코더의 상태를 얻음\n",
    "    states_value = encoder_model.predict(input_seq)\n",
    "\n",
    "    # <SOS>에 해당하는 원-핫 벡터 생성\n",
    "    target_seq = np.zeros((1, 1))\n",
    "    target_seq[0, 0] = fra2idx['\\t']\n",
    "\n",
    "    stop_condition = False\n",
    "    decoded_sentence = \"\"\n",
    "\n",
    "    # stop_condition이 True가 될 때까지 루프 반복\n",
    "    while not stop_condition:\n",
    "        # 이점 시점의 상태 states_value를 현 시점의 초기 상태로 사용\n",
    "        output_tokens, h, c = decoder_model.predict([target_seq] + states_value)\n",
    "\n",
    "        # 예측 결과를 문자로 변환\n",
    "        sampled_token_index = np.argmax(output_tokens[0, -1, :])\n",
    "        sampled_char = idx2fra[sampled_token_index]\n",
    "\n",
    "        # 현재 시점의 예측 문자를 예측 문장에 추가\n",
    "        decoded_sentence += ' ' + sampled_char\n",
    "\n",
    "        # <eos>에 도달하거나 최대 길이를 넘으면 중단.\n",
    "        if (sampled_char == '\\n' or len(decoded_sentence) > max_fra_seq_len):\n",
    "            stop_condition = True\n",
    "\n",
    "        # 현재 시점의 예측 결과를 다음 시점의 입력으로 사용하기 위해 저장\n",
    "        target_seq = np.zeros((1, 1))\n",
    "        target_seq[0, 0] = sampled_token_index\n",
    "\n",
    "        # 현재 시점의 상태를 다음 시점의 상태로 사용하기 위해 저장\n",
    "        states_value = [h, c]\n",
    "\n",
    "    return decoded_sentence"
   ]
  },
  {
   "cell_type": "code",
   "execution_count": 35,
   "id": "571c2737",
   "metadata": {
    "scrolled": false
   },
   "outputs": [
    {
     "name": "stdout",
     "output_type": "stream",
     "text": [
      "-----------------------------------\n",
      "입력 문장: Go . \n",
      "정답 문장:  Marche .  \n",
      "번역기가 번역한 문장:  va ! \n",
      "-----------------------------------\n",
      "입력 문장: Run ! \n",
      "정답 문장:  Filez  !  \n",
      "번역기가 번역한 문장:  cours ! \n",
      "-----------------------------------\n",
      "입력 문장: Help ! \n",
      "정답 문장:  À l ' aide !  \n",
      "번역기가 번역한 문장:  à l ' aide ! \n",
      "-----------------------------------\n",
      "입력 문장: Hello ! \n",
      "정답 문장:  Bonjour  !  \n",
      "번역기가 번역한 문장:  prenez tout que c ' es\n",
      "-----------------------------------\n",
      "입력 문장: Relax . \n",
      "정답 문장:  Cool ,  Raoul !  \n",
      "번역기가 번역한 문장:  détends - toi ! \n",
      "-----------------------------------\n",
      "입력 문장: Buy it . \n",
      "정답 문장:  Achète - le  !  \n",
      "번역기가 번역한 문장:  laisse tomber . \n",
      "-----------------------------------\n",
      "입력 문장: Got it ? \n",
      "정답 문장:  Pigé ?  \n",
      "번역기가 번역한 문장:  c ' est l ' amour ? \n",
      "-----------------------------------\n",
      "입력 문장: I ' m 19 . \n",
      "정답 문장:  J ' ai 19 ans .  \n",
      "번역기가 번역한 문장:  j ' ai peur . \n",
      "-----------------------------------\n",
      "입력 문장: Shut up ! \n",
      "정답 문장:  Ferme - la !  \n",
      "번역기가 번역한 문장:  ferme les portes ! \n",
      "-----------------------------------\n",
      "입력 문장: They won . \n",
      "정답 문장:  Ils ont gagné .  \n",
      "번역기가 번역한 문장:  ils ont gagné . \n"
     ]
    }
   ],
   "source": [
    "# 이렇게 구현한 함수를 임의의 인덱스의 번역하고자하는 문장 샘플을 입력하여,\n",
    "# 출력 결과를 테스트해보겠습니다.\n",
    "for seq_index in [1,10,30,50,63,80,98,120,400,801]: # 입력 문장의 인덱스 (자유롭게 선택해 보세요)\n",
    "    input_seq = encoder_input[seq_index: seq_index + 1]\n",
    "    decoded_sentence = decode_sequence(input_seq)\n",
    "    print(35 * \"-\")\n",
    "    print('입력 문장:', lines.eng[seq_index])\n",
    "    print('정답 문장:', lines.fra[seq_index][1:len(lines.fra[seq_index])-1]) # '\\t'와 '\\n'을 빼고 출력\n",
    "    print('번역기가 번역한 문장:', decoded_sentence[:len(decoded_sentence)-1]) # '\\n'을 빼고 출력"
   ]
  },
  {
   "attachments": {
    "image-2.png": {
     "image/png": "[encoded data removed]"
    }
   },
   "cell_type": "markdown",
   "id": "64a43b2e",
   "metadata": {},
   "source": [
    "# 회고\n",
    "\n",
    "1회차\n",
    "- TypeError: Inputs to a layer should be tensors. Got: <keras.layers.embeddings.Embedding object at 0x7f05a2a51d30> 문제가 계속 생겼었다.\n",
    "    - 타입 에러가 뭔지는 알지만, 고치는 방법을 찾지 못했었다.\n",
    "    - https://blog.keras.io/a-ten-minute-introduction-to-sequence-to-sequence-learning-in-keras.html 여기를 가서 모델 빌딩을 따라해 보자는 마음가짐으로 한번 훑어보다가 고치는 방법을 알아내었다. Shape을 정해주고 난 후에 (encoder_inputs)을 옆에 붙여줌으로써 해결하였다.\n",
    "- TypeError: int() argument must be a string, a bytes-like object or a number, not 'NoneType' 라는 문제가 decoding model을 만드는 과정에서 에러가 생겼다.\n",
    "    - 하도 에러가 계속 나서 천천히 훑어보고 모델링 셀을 다 지우고 다시 차분히 만들어 보니 잘 되었다.\n",
    "- 모델을 결국 만들고 나서 학습을 시켜보려고 하니 커널이 죽어버렸다... 다음 회차때 해결해봐야 겠다.\n",
    "\n",
    "2회차\n",
    "- 커널이 죽는 이유를 도움을 받아 알아냈다. tf module중 to_categorical이란 셀이 있는데, one-hot-encoding을 하는 기능을 가지고 있는데, 이 셀을 실행하고 나서 계속 진행하려고 하면, 메모리 초과로 모델 학습을 못하고 커널이 죽어버리는 현상이 일어났었다.\n",
    "    - 이 셀을 없애고 모델의 metrics를 categorical_crossentropy에서 sparse_categorical_crossentropy로 바꿔주니 잘 학습이 되었다.\n",
    "- 프로젝트를 진행하다가 french list에서 이상한 문장들이 있다는 것을 알아냈다.\n",
    "    - '\\u202f\\u2009\\xa0’—––«»' 이 문자들이 있었고, 구두점만 단어와 분리해놨어서 따로 추가 전처리가 필요해졌다.\n",
    "    - project 06 에서 배운 regex re.sub을 이용해 성공적으로 전처리를 하였다.\n",
    "- 학습 진행 후, 시각화를 해 보았다.\n",
    "\n",
    "![image-2.png](attachment:image-2.png)\n",
    "\n",
    "- test 모델을 만들어 진행해 보았다.\n",
    "    - test modeling 부분에서 계속 에러가 났다.\n",
    "        - ValueError: Input 0 of layer lstm_1 is incompatible with the layer: expected ndim=3, found ndim=4. Full shape received: (None, 1, 8595, 100)\n",
    "        - 모델에서 여러가지를 더하고 바꿔보고 하다가 결국 노드에 코드를 보고선 구현할 수 있었다.\n",
    "    - 결과가 기대값보다 낮아서 여러 hyperparameter를 바꿔봤다.\n",
    "        - early stopping 추가\n",
    "        - model.fit batch_size를 128에서 256으로 그리고 512로 바꾸기\n",
    "        - encoder and decoder LSTM에 dropout 0.2 추가\n",
    "        - embedding output dim 100에서 200으로 바꾸기\n",
    "    - val_loss를 0.90 언저리로 만들수 있었지만, 10개의 문장을 번역해 보았을 때, 반 정도만 말이 되는 번역으로 출력되었다."
   ]
  },
  {
   "cell_type": "code",
   "execution_count": null,
   "id": "97c6d75c",
   "metadata": {},
   "outputs": [],
   "source": []
  }
 ],
 "metadata": {
  "kernelspec": {
   "display_name": "Python 3 (ipykernel)",
   "language": "python",
   "name": "python3"
  },
  "language_info": {
   "codemirror_mode": {
    "name": "ipython",
    "version": 3
   },
   "file_extension": ".py",
   "mimetype": "text/x-python",
   "name": "python",
   "nbconvert_exporter": "python",
   "pygments_lexer": "ipython3",
   "version": "3.9.7"
  }
 },
 "nbformat": 4,
 "nbformat_minor": 5
}
