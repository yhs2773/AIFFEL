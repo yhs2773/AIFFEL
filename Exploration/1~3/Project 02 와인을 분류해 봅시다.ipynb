{
 "cells": [
  {
   "cell_type": "code",
   "execution_count": 1,
   "id": "7fa2892f",
   "metadata": {},
   "outputs": [
    {
     "name": "stdout",
     "output_type": "stream",
     "text": [
      "dict_keys(['data', 'target', 'frame', 'target_names', 'DESCR', 'feature_names'])\n"
     ]
    }
   ],
   "source": [
    "# import required libraries\n",
    "from sklearn.datasets import load_wine\n",
    "from sklearn.model_selection import train_test_split\n",
    "from sklearn.metrics import classification_report\n",
    "from sklearn.metrics import confusion_matrix\n",
    "\n",
    "# set data to a variable\n",
    "wine = load_wine()\n",
    "print(wine.keys())"
   ]
  },
  {
   "cell_type": "code",
   "execution_count": 2,
   "id": "e56b79dc",
   "metadata": {},
   "outputs": [
    {
     "name": "stdout",
     "output_type": "stream",
     "text": [
      "['class_0' 'class_1' 'class_2']\n",
      ".. _wine_dataset:\n",
      "\n",
      "Wine recognition dataset\n",
      "------------------------\n",
      "\n",
      "**Data Set Characteristics:**\n",
      "\n",
      "    :Number of Instances: 178 (50 in each of three classes)\n",
      "    :Number of Attributes: 13 numeric, predictive attributes and the class\n",
      "    :Attribute Information:\n",
      " \t\t- Alcohol\n",
      " \t\t- Malic acid\n",
      " \t\t- Ash\n",
      "\t\t- Alcalinity of ash  \n",
      " \t\t- Magnesium\n",
      "\t\t- Total phenols\n",
      " \t\t- Flavanoids\n",
      " \t\t- Nonflavanoid phenols\n",
      " \t\t- Proanthocyanins\n",
      "\t\t- Color intensity\n",
      " \t\t- Hue\n",
      " \t\t- OD280/OD315 of diluted wines\n",
      " \t\t- Proline\n",
      "\n",
      "    - class:\n",
      "            - class_0\n",
      "            - class_1\n",
      "            - class_2\n",
      "\t\t\n",
      "    :Summary Statistics:\n",
      "    \n",
      "    ============================= ==== ===== ======= =====\n",
      "                                   Min   Max   Mean     SD\n",
      "    ============================= ==== ===== ======= =====\n",
      "    Alcohol:                      11.0  14.8    13.0   0.8\n",
      "    Malic Acid:                   0.74  5.80    2.34  1.12\n",
      "    Ash:                          1.36  3.23    2.36  0.27\n",
      "    Alcalinity of Ash:            10.6  30.0    19.5   3.3\n",
      "    Magnesium:                    70.0 162.0    99.7  14.3\n",
      "    Total Phenols:                0.98  3.88    2.29  0.63\n",
      "    Flavanoids:                   0.34  5.08    2.03  1.00\n",
      "    Nonflavanoid Phenols:         0.13  0.66    0.36  0.12\n",
      "    Proanthocyanins:              0.41  3.58    1.59  0.57\n",
      "    Colour Intensity:              1.3  13.0     5.1   2.3\n",
      "    Hue:                          0.48  1.71    0.96  0.23\n",
      "    OD280/OD315 of diluted wines: 1.27  4.00    2.61  0.71\n",
      "    Proline:                       278  1680     746   315\n",
      "    ============================= ==== ===== ======= =====\n",
      "\n",
      "    :Missing Attribute Values: None\n",
      "    :Class Distribution: class_0 (59), class_1 (71), class_2 (48)\n",
      "    :Creator: R.A. Fisher\n",
      "    :Donor: Michael Marshall (MARSHALL%PLU@io.arc.nasa.gov)\n",
      "    :Date: July, 1988\n",
      "\n",
      "This is a copy of UCI ML Wine recognition datasets.\n",
      "https://archive.ics.uci.edu/ml/machine-learning-databases/wine/wine.data\n",
      "\n",
      "The data is the results of a chemical analysis of wines grown in the same\n",
      "region in Italy by three different cultivators. There are thirteen different\n",
      "measurements taken for different constituents found in the three types of\n",
      "wine.\n",
      "\n",
      "Original Owners: \n",
      "\n",
      "Forina, M. et al, PARVUS - \n",
      "An Extendible Package for Data Exploration, Classification and Correlation. \n",
      "Institute of Pharmaceutical and Food Analysis and Technologies,\n",
      "Via Brigata Salerno, 16147 Genoa, Italy.\n",
      "\n",
      "Citation:\n",
      "\n",
      "Lichman, M. (2013). UCI Machine Learning Repository\n",
      "[https://archive.ics.uci.edu/ml]. Irvine, CA: University of California,\n",
      "School of Information and Computer Science. \n",
      "\n",
      ".. topic:: References\n",
      "\n",
      "  (1) S. Aeberhard, D. Coomans and O. de Vel, \n",
      "  Comparison of Classifiers in High Dimensional Settings, \n",
      "  Tech. Rep. no. 92-02, (1992), Dept. of Computer Science and Dept. of  \n",
      "  Mathematics and Statistics, James Cook University of North Queensland. \n",
      "  (Also submitted to Technometrics). \n",
      "\n",
      "  The data was used with many others for comparing various \n",
      "  classifiers. The classes are separable, though only RDA \n",
      "  has achieved 100% correct classification. \n",
      "  (RDA : 100%, QDA 99.4%, LDA 98.9%, 1NN 96.1% (z-transformed data)) \n",
      "  (All results using the leave-one-out technique) \n",
      "\n",
      "  (2) S. Aeberhard, D. Coomans and O. de Vel, \n",
      "  \"THE CLASSIFICATION PERFORMANCE OF RDA\" \n",
      "  Tech. Rep. no. 92-01, (1992), Dept. of Computer Science and Dept. of \n",
      "  Mathematics and Statistics, James Cook University of North Queensland. \n",
      "  (Also submitted to Journal of Chemometrics).\n",
      "\n"
     ]
    }
   ],
   "source": [
    "# set data to a variable\n",
    "wine_data = wine.data\n",
    "wine_label = wine.target\n",
    "\n",
    "# check names of the labels and details of data\n",
    "print(wine.target_names)\n",
    "print(wine.DESCR)"
   ]
  },
  {
   "cell_type": "code",
   "execution_count": 13,
   "id": "53a68bd6",
   "metadata": {},
   "outputs": [
    {
     "name": "stdout",
     "output_type": "stream",
     "text": [
      "(124, 13) (54, 13) (124,) (54,)\n"
     ]
    }
   ],
   "source": [
    "# use train test split method\n",
    "X_train, X_test, y_train, y_test = train_test_split(wine_data,\n",
    "                                                    wine_label,\n",
    "                                                    test_size=0.3,\n",
    "                                                    random_state=33)\n",
    "\n",
    "print(X_train.shape, X_test.shape, y_train.shape, y_test.shape)"
   ]
  },
  {
   "cell_type": "code",
   "execution_count": 14,
   "id": "f7875522",
   "metadata": {},
   "outputs": [
    {
     "name": "stdout",
     "output_type": "stream",
     "text": [
      "              precision    recall  f1-score   support\n",
      "\n",
      "           0       0.71      1.00      0.83        15\n",
      "           1       0.95      0.90      0.93        21\n",
      "           2       0.85      0.61      0.71        18\n",
      "\n",
      "    accuracy                           0.83        54\n",
      "   macro avg       0.84      0.84      0.82        54\n",
      "weighted avg       0.85      0.83      0.83        54\n",
      "\n",
      "[[15  0  0]\n",
      " [ 0 19  2]\n",
      " [ 6  1 11]]\n"
     ]
    }
   ],
   "source": [
    "# use decision tree classifier\n",
    "from sklearn.tree import DecisionTreeClassifier\n",
    "\n",
    "decision_tree = DecisionTreeClassifier(random_state=11)\n",
    "decision_tree.fit(X_train, y_train)\n",
    "y_pred = decision_tree.predict(X_test)\n",
    "\n",
    "print(classification_report(y_test, y_pred))\n",
    "print(confusion_matrix(y_test, y_pred))"
   ]
  },
  {
   "cell_type": "code",
   "execution_count": 12,
   "id": "53f2f329",
   "metadata": {},
   "outputs": [
    {
     "name": "stdout",
     "output_type": "stream",
     "text": [
      "              precision    recall  f1-score   support\n",
      "\n",
      "           0       1.00      1.00      1.00        10\n",
      "           1       1.00      1.00      1.00        14\n",
      "           2       1.00      1.00      1.00        12\n",
      "\n",
      "    accuracy                           1.00        36\n",
      "   macro avg       1.00      1.00      1.00        36\n",
      "weighted avg       1.00      1.00      1.00        36\n",
      "\n",
      "[[10  0  0]\n",
      " [ 0 14  0]\n",
      " [ 0  0 12]]\n"
     ]
    }
   ],
   "source": [
    "# use random forest classifier\n",
    "from sklearn.ensemble import RandomForestClassifier\n",
    "\n",
    "random_forest = RandomForestClassifier(random_state=11)\n",
    "random_forest.fit(X_train, y_train)\n",
    "y_pred2 = random_forest.predict(X_test)\n",
    "\n",
    "print(classification_report(y_test, y_pred2))\n",
    "print(confusion_matrix(y_test, y_pred2))"
   ]
  },
  {
   "cell_type": "code",
   "execution_count": 6,
   "id": "cd2578a2",
   "metadata": {},
   "outputs": [
    {
     "name": "stdout",
     "output_type": "stream",
     "text": [
      "              precision    recall  f1-score   support\n",
      "\n",
      "           0       0.62      1.00      0.77        10\n",
      "           1       0.65      0.93      0.76        14\n",
      "           2       0.00      0.00      0.00        12\n",
      "\n",
      "    accuracy                           0.64        36\n",
      "   macro avg       0.42      0.64      0.51        36\n",
      "weighted avg       0.43      0.64      0.51        36\n",
      "\n",
      "[[10  0  0]\n",
      " [ 1 13  0]\n",
      " [ 5  7  0]]\n"
     ]
    }
   ],
   "source": [
    "# use support vector machine\n",
    "from sklearn import svm\n",
    "\n",
    "svm_model = svm.SVC(random_state=11)\n",
    "svm_model.fit(X_train, y_train)\n",
    "y_pred3 = svm_model.predict(X_test)\n",
    "\n",
    "print(classification_report(y_test, y_pred3, zero_division=0))\n",
    "print(confusion_matrix(y_test, y_pred3))"
   ]
  },
  {
   "cell_type": "code",
   "execution_count": 7,
   "id": "38926f1c",
   "metadata": {},
   "outputs": [
    {
     "name": "stdout",
     "output_type": "stream",
     "text": [
      "              precision    recall  f1-score   support\n",
      "\n",
      "           0       0.42      1.00      0.59        10\n",
      "           1       0.67      0.57      0.62        14\n",
      "           2       0.00      0.00      0.00        12\n",
      "\n",
      "    accuracy                           0.50        36\n",
      "   macro avg       0.36      0.52      0.40        36\n",
      "weighted avg       0.38      0.50      0.40        36\n",
      "\n",
      "[[10  0  0]\n",
      " [ 6  8  0]\n",
      " [ 8  4  0]]\n"
     ]
    }
   ],
   "source": [
    "# use stochastic gradient descent\n",
    "from sklearn.linear_model import SGDClassifier\n",
    "\n",
    "sgd_model = SGDClassifier(random_state=11)\n",
    "sgd_model.fit(X_train, y_train)\n",
    "y_pred4 = sgd_model.predict(X_test)\n",
    "\n",
    "print(classification_report(y_test, y_pred4, zero_division=0))\n",
    "print(confusion_matrix(y_test, y_pred4))"
   ]
  },
  {
   "cell_type": "code",
   "execution_count": 8,
   "id": "190ab110",
   "metadata": {},
   "outputs": [
    {
     "name": "stdout",
     "output_type": "stream",
     "text": [
      "              precision    recall  f1-score   support\n",
      "\n",
      "           0       0.91      1.00      0.95        10\n",
      "           1       0.87      0.93      0.90        14\n",
      "           2       1.00      0.83      0.91        12\n",
      "\n",
      "    accuracy                           0.92        36\n",
      "   macro avg       0.93      0.92      0.92        36\n",
      "weighted avg       0.92      0.92      0.92        36\n",
      "\n",
      "[[10  0  0]\n",
      " [ 1 13  0]\n",
      " [ 0  2 10]]\n"
     ]
    }
   ],
   "source": [
    "# use logistic regression\n",
    "from sklearn.linear_model import LogisticRegression\n",
    "\n",
    "logistic_model = LogisticRegression(random_state=11, max_iter=2500)\n",
    "logistic_model.fit(X_train, y_train)\n",
    "y_pred5 = logistic_model.predict(X_test)\n",
    "\n",
    "print(classification_report(y_test, y_pred5))\n",
    "print(confusion_matrix(y_test, y_pred5))"
   ]
  },
  {
   "cell_type": "markdown",
   "id": "525a2c12",
   "metadata": {},
   "source": [
    "Classification Report와 confusion matrix:\n",
    "- 베스트 모델: Random Forest Classifier\n",
    "- 워스트 모델: SGD Classifier\n",
    "\n",
    "SVM과 SGD 는 분류 2 와인을 전혀 맞추지 못해서 다른 모델들 보다 전체적으로 지표가 낮았다.\n",
    "\n",
    "데이터가 불균형하기에, classification report에서 accuracy 말고도 f1-score가 높은 모델을 골랐다.\n",
    "\n",
    "또한 confusion matrix로 데이터 분류 상황을 봤는데, 모든 모델들이 분류 0은 제대로 맞췄고, 분류 1은 틀리는 경우도 보았지만, 분류 2를 더 많이 틀리는 걸 볼수가 있었다."
   ]
  },
  {
   "cell_type": "code",
   "execution_count": null,
   "id": "5ebb8431",
   "metadata": {},
   "outputs": [],
   "source": []
  }
 ],
 "metadata": {
  "kernelspec": {
   "display_name": "Python 3 (ipykernel)",
   "language": "python",
   "name": "python3"
  },
  "language_info": {
   "codemirror_mode": {
    "name": "ipython",
    "version": 3
   },
   "file_extension": ".py",
   "mimetype": "text/x-python",
   "name": "python",
   "nbconvert_exporter": "python",
   "pygments_lexer": "ipython3",
   "version": "3.9.7"
  }
 },
 "nbformat": 4,
 "nbformat_minor": 5
}
