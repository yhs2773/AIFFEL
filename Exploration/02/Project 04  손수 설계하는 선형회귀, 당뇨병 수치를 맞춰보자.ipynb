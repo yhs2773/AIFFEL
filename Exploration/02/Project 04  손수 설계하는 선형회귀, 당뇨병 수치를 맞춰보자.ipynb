{
 "cells": [
  {
   "cell_type": "code",
   "execution_count": 1,
   "id": "cf5bf6c0",
   "metadata": {},
   "outputs": [],
   "source": [
    "# import libraries\n",
    "import numpy as np\n",
    "import pandas as pd\n",
    "import matplotlib.pyplot as plt\n",
    "\n",
    "from sklearn.datasets import load_diabetes\n",
    "from sklearn.model_selection import train_test_split\n",
    "\n",
    "diabetes = load_diabetes()"
   ]
  },
  {
   "cell_type": "code",
   "execution_count": 2,
   "id": "b38e3dc5",
   "metadata": {},
   "outputs": [
    {
     "data": {
      "text/plain": [
       "'.. _diabetes_dataset:\\n\\nDiabetes dataset\\n----------------\\n\\nTen baseline variables, age, sex, body mass index, average blood\\npressure, and six blood serum measurements were obtained for each of n =\\n442 diabetes patients, as well as the response of interest, a\\nquantitative measure of disease progression one year after baseline.\\n\\n**Data Set Characteristics:**\\n\\n  :Number of Instances: 442\\n\\n  :Number of Attributes: First 10 columns are numeric predictive values\\n\\n  :Target: Column 11 is a quantitative measure of disease progression one year after baseline\\n\\n  :Attribute Information:\\n      - age     age in years\\n      - sex\\n      - bmi     body mass index\\n      - bp      average blood pressure\\n      - s1      tc, total serum cholesterol\\n      - s2      ldl, low-density lipoproteins\\n      - s3      hdl, high-density lipoproteins\\n      - s4      tch, total cholesterol / HDL\\n      - s5      ltg, possibly log of serum triglycerides level\\n      - s6      glu, blood sugar level\\n\\nNote: Each of these 10 feature variables have been mean centered and scaled by the standard deviation times `n_samples` (i.e. the sum of squares of each column totals 1).\\n\\nSource URL:\\nhttps://www4.stat.ncsu.edu/~boos/var.select/diabetes.html\\n\\nFor more information see:\\nBradley Efron, Trevor Hastie, Iain Johnstone and Robert Tibshirani (2004) \"Least Angle Regression,\" Annals of Statistics (with discussion), 407-499.\\n(https://web.stanford.edu/~hastie/Papers/LARS/LeastAngle_2002.pdf)'"
      ]
     },
     "execution_count": 2,
     "metadata": {},
     "output_type": "execute_result"
    }
   ],
   "source": [
    "diabetes.DESCR"
   ]
  },
  {
   "cell_type": "code",
   "execution_count": 3,
   "id": "629b675b",
   "metadata": {},
   "outputs": [
    {
     "data": {
      "text/plain": [
       "['age', 'sex', 'bmi', 'bp', 's1', 's2', 's3', 's4', 's5', 's6']"
      ]
     },
     "execution_count": 3,
     "metadata": {},
     "output_type": "execute_result"
    }
   ],
   "source": [
    "diabetes.feature_names"
   ]
  },
  {
   "cell_type": "code",
   "execution_count": 4,
   "id": "9fb46ac5",
   "metadata": {},
   "outputs": [
    {
     "name": "stdout",
     "output_type": "stream",
     "text": [
      "(442, 10) (442,)\n",
      "<class 'numpy.ndarray'> <class 'numpy.ndarray'>\n"
     ]
    }
   ],
   "source": [
    "# assign data and label to variables\n",
    "# datasets are already in a numpy ndarray form so don't need to change to numpy array\n",
    "df_x = diabetes.data\n",
    "df_y = diabetes.target\n",
    "print(df_x.shape, df_y.shape)\n",
    "print(type(df_x), type(df_y))"
   ]
  },
  {
   "cell_type": "code",
   "execution_count": 5,
   "id": "161cfd95",
   "metadata": {
    "scrolled": true
   },
   "outputs": [
    {
     "name": "stdout",
     "output_type": "stream",
     "text": [
      "(309, 10) (133, 10) (309,) (133,)\n"
     ]
    }
   ],
   "source": [
    "# split data into train and test sets\n",
    "X_train, X_test, y_train, y_test = train_test_split(df_x, df_y, test_size=0.3, random_state=23)\n",
    "\n",
    "print(X_train.shape, X_test.shape, y_train.shape, y_test.shape)"
   ]
  },
  {
   "cell_type": "code",
   "execution_count": 6,
   "id": "6853f9fb",
   "metadata": {},
   "outputs": [],
   "source": [
    "# looking at shape, X has 10 features/columns and W should follow the same\n",
    "W = np.random.rand(10)\n",
    "b = np.random.rand()"
   ]
  },
  {
   "cell_type": "code",
   "execution_count": 7,
   "id": "687090dc",
   "metadata": {},
   "outputs": [],
   "source": [
    "def model(X, W, b):\n",
    "    predictions = 0\n",
    "    for i in range(10):\n",
    "        predictions += X[:, i] * W[i]\n",
    "    predictions += b\n",
    "    \n",
    "    return predictions\n",
    "\n",
    "def mse(a, b):\n",
    "    mse = ((a - b) ** 2).mean()\n",
    "    \n",
    "    return mse\n",
    "\n",
    "def loss(X, W, b, y):\n",
    "    predictions = model(X, W, b)\n",
    "    L = mse(predictions, y)\n",
    "    \n",
    "    return L\n",
    "\n",
    "def gradient(X, W, b, y):\n",
    "    N = len(W)\n",
    "    y_pred = model(X, W, b)\n",
    "    dW = 1/N * 2 * X.T.dot(y_pred - y)\n",
    "    db = 2 * (y_pred - y).mean()\n",
    "    \n",
    "    return dW, db"
   ]
  },
  {
   "cell_type": "code",
   "execution_count": 8,
   "id": "c13c331e",
   "metadata": {
    "scrolled": false
   },
   "outputs": [
    {
     "name": "stdout",
     "output_type": "stream",
     "text": [
      "Iteration 100 : Loss 5028.0894\n",
      "Iteration 200 : Loss 3957.5208\n",
      "Iteration 300 : Loss 3613.6999\n",
      "Iteration 400 : Loss 3424.5501\n",
      "Iteration 500 : Loss 3304.2535\n",
      "Iteration 600 : Loss 3220.7152\n",
      "Iteration 700 : Loss 3159.6451\n",
      "Iteration 800 : Loss 3113.7292\n",
      "Iteration 900 : Loss 3078.6702\n",
      "Iteration 1000 : Loss 3051.6547\n",
      "Iteration 1100 : Loss 3030.7076\n",
      "Iteration 1200 : Loss 3014.3862\n",
      "Iteration 1300 : Loss 3001.6134\n",
      "Iteration 1400 : Loss 2991.5759\n",
      "Iteration 1500 : Loss 2983.6547\n",
      "Iteration 1600 : Loss 2977.3766\n",
      "Iteration 1700 : Loss 2972.3784\n",
      "Iteration 1800 : Loss 2968.3808\n",
      "Iteration 1900 : Loss 2965.1678\n",
      "Iteration 2000 : Loss 2962.5724\n",
      "Iteration 2100 : Loss 2960.4648\n",
      "Iteration 2200 : Loss 2958.7439\n",
      "Iteration 2300 : Loss 2957.3306\n",
      "Iteration 2400 : Loss 2956.1632\n",
      "Iteration 2500 : Loss 2955.1930\n",
      "Iteration 2600 : Loss 2954.3815\n",
      "Iteration 2700 : Loss 2953.6985\n",
      "Iteration 2800 : Loss 2953.1197\n",
      "Iteration 2900 : Loss 2952.6259\n",
      "Iteration 3000 : Loss 2952.2017\n",
      "Iteration 3100 : Loss 2951.8347\n",
      "Iteration 3200 : Loss 2951.5149\n",
      "Iteration 3300 : Loss 2951.2343\n",
      "Iteration 3400 : Loss 2950.9863\n",
      "Iteration 3500 : Loss 2950.7655\n",
      "Iteration 3600 : Loss 2950.5675\n",
      "Iteration 3700 : Loss 2950.3887\n",
      "Iteration 3800 : Loss 2950.2261\n",
      "Iteration 3900 : Loss 2950.0772\n",
      "Iteration 4000 : Loss 2949.9399\n",
      "Iteration 4100 : Loss 2949.8126\n",
      "Iteration 4200 : Loss 2949.6937\n",
      "Iteration 4300 : Loss 2949.5822\n",
      "Iteration 4400 : Loss 2949.4768\n",
      "Iteration 4500 : Loss 2949.3769\n",
      "Iteration 4600 : Loss 2949.2815\n",
      "Iteration 4700 : Loss 2949.1902\n",
      "Iteration 4800 : Loss 2949.1024\n",
      "Iteration 4900 : Loss 2949.0176\n",
      "Iteration 5000 : Loss 2948.9355\n"
     ]
    }
   ],
   "source": [
    "# learning process\n",
    "learning_rate = 0.01\n",
    "\n",
    "losses = []\n",
    "\n",
    "for i in range(1, 5001):\n",
    "    dW, db = gradient(X_train, W, b, y_train)\n",
    "    W -= learning_rate * dW # W = W - learning rate * dw\n",
    "    b -= learning_rate * db # b = b - learning rate * db\n",
    "    L = loss(X_train, W, b, y_train)\n",
    "    losses.append(L)\n",
    "    if i % 100 == 0:\n",
    "        print('Iteration %d : Loss %0.4f' % (i, L))"
   ]
  },
  {
   "cell_type": "code",
   "execution_count": 9,
   "id": "aa39e34e",
   "metadata": {},
   "outputs": [
    {
     "data": {
      "image/png": "[encoded data removed]",
      "text/plain": [
       "<Figure size 432x288 with 1 Axes>"
      ]
     },
     "metadata": {
      "needs_background": "light"
     },
     "output_type": "display_data"
    }
   ],
   "source": [
    "# visualizing iteration and loss function \n",
    "plt.plot(losses)\n",
    "plt.show()"
   ]
  },
  {
   "cell_type": "code",
   "execution_count": 10,
   "id": "2e560089",
   "metadata": {},
   "outputs": [
    {
     "data": {
      "text/plain": [
       "2768.5544626047545"
      ]
     },
     "execution_count": 10,
     "metadata": {},
     "output_type": "execute_result"
    }
   ],
   "source": [
    "# testing a model with test set\n",
    "prediction = model(X_test, W, b)\n",
    "mse = loss(X_test, W, b, y_test)\n",
    "mse"
   ]
  },
  {
   "cell_type": "code",
   "execution_count": 11,
   "id": "a8e53ed2",
   "metadata": {},
   "outputs": [
    {
     "data": {
      "image/png": "[encoded data removed]",
      "text/plain": [
       "<Figure size 432x288 with 1 Axes>"
      ]
     },
     "metadata": {
      "needs_background": "light"
     },
     "output_type": "display_data"
    }
   ],
   "source": [
    "# visualizing with scatter plot to see the predicted values and true vlaues in a same plot\n",
    "plt.scatter(X_test[:, 0], y_test, label='true')\n",
    "plt.scatter(X_test[:, 0], prediction, label='pred')\n",
    "plt.legend()\n",
    "plt.show()"
   ]
  },
  {
   "cell_type": "code",
   "execution_count": null,
   "id": "b8173f16",
   "metadata": {},
   "outputs": [],
   "source": []
  }
 ],
 "metadata": {
  "kernelspec": {
   "display_name": "Python 3 (ipykernel)",
   "language": "python",
   "name": "python3"
  },
  "language_info": {
   "codemirror_mode": {
    "name": "ipython",
    "version": 3
   },
   "file_extension": ".py",
   "mimetype": "text/x-python",
   "name": "python",
   "nbconvert_exporter": "python",
   "pygments_lexer": "ipython3",
   "version": "3.9.7"
  }
 },
 "nbformat": 4,
 "nbformat_minor": 5
}
