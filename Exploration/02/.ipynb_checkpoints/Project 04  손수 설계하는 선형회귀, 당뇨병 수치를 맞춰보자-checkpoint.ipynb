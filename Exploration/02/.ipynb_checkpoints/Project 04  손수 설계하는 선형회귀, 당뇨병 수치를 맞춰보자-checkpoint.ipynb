{
 "cells": [
  {
   "cell_type": "code",
   "execution_count": 1,
   "id": "ea59e02c",
   "metadata": {},
   "outputs": [],
   "source": [
    "# import module from sklearn\n",
    "import numpy as np\n",
    "import pandas as pd\n",
    "import matplotlib.pyplot as plt\n",
    "\n",
    "from sklearn.datasets import load_diabetes\n",
    "from sklearn.model_selection import train_test_split\n",
    "\n",
    "diabetes = load_diabetes()"
   ]
  },
  {
   "cell_type": "code",
   "execution_count": 2,
   "id": "4c55668a",
   "metadata": {},
   "outputs": [
    {
     "data": {
      "text/plain": [
       "'.. _diabetes_dataset:\\n\\nDiabetes dataset\\n----------------\\n\\nTen baseline variables, age, sex, body mass index, average blood\\npressure, and six blood serum measurements were obtained for each of n =\\n442 diabetes patients, as well as the response of interest, a\\nquantitative measure of disease progression one year after baseline.\\n\\n**Data Set Characteristics:**\\n\\n  :Number of Instances: 442\\n\\n  :Number of Attributes: First 10 columns are numeric predictive values\\n\\n  :Target: Column 11 is a quantitative measure of disease progression one year after baseline\\n\\n  :Attribute Information:\\n      - age     age in years\\n      - sex\\n      - bmi     body mass index\\n      - bp      average blood pressure\\n      - s1      tc, total serum cholesterol\\n      - s2      ldl, low-density lipoproteins\\n      - s3      hdl, high-density lipoproteins\\n      - s4      tch, total cholesterol / HDL\\n      - s5      ltg, possibly log of serum triglycerides level\\n      - s6      glu, blood sugar level\\n\\nNote: Each of these 10 feature variables have been mean centered and scaled by the standard deviation times `n_samples` (i.e. the sum of squares of each column totals 1).\\n\\nSource URL:\\nhttps://www4.stat.ncsu.edu/~boos/var.select/diabetes.html\\n\\nFor more information see:\\nBradley Efron, Trevor Hastie, Iain Johnstone and Robert Tibshirani (2004) \"Least Angle Regression,\" Annals of Statistics (with discussion), 407-499.\\n(https://web.stanford.edu/~hastie/Papers/LARS/LeastAngle_2002.pdf)'"
      ]
     },
     "execution_count": 2,
     "metadata": {},
     "output_type": "execute_result"
    }
   ],
   "source": [
    "diabetes.DESCR"
   ]
  },
  {
   "cell_type": "code",
   "execution_count": 3,
   "id": "6e02eeb2",
   "metadata": {},
   "outputs": [
    {
     "data": {
      "text/plain": [
       "['age', 'sex', 'bmi', 'bp', 's1', 's2', 's3', 's4', 's5', 's6']"
      ]
     },
     "execution_count": 3,
     "metadata": {},
     "output_type": "execute_result"
    }
   ],
   "source": [
    "diabetes.feature_names"
   ]
  },
  {
   "cell_type": "code",
   "execution_count": 4,
   "id": "0b333419",
   "metadata": {},
   "outputs": [
    {
     "name": "stdout",
     "output_type": "stream",
     "text": [
      "(442, 10) (442,)\n",
      "<class 'numpy.ndarray'> <class 'numpy.ndarray'>\n"
     ]
    }
   ],
   "source": [
    "# assign data and label to variables\n",
    "# already in numpy ndarray so don't need to change to numpy array\n",
    "df_x = diabetes.data\n",
    "df_y = diabetes.target\n",
    "print(df_x.shape, df_y.shape)\n",
    "print(type(df_x), type(df_y))"
   ]
  },
  {
   "cell_type": "code",
   "execution_count": 5,
   "id": "4fb83715",
   "metadata": {
    "scrolled": true
   },
   "outputs": [
    {
     "name": "stdout",
     "output_type": "stream",
     "text": [
      "(309, 10) (133, 10) (309,) (133,)\n"
     ]
    }
   ],
   "source": [
    "# split data into train and test sets\n",
    "X_train, X_test, y_train, y_test = train_test_split(df_x, df_y, test_size=0.3, random_state=23)\n",
    "\n",
    "print(X_train.shape, X_test.shape, y_train.shape, y_test.shape)"
   ]
  },
  {
   "cell_type": "code",
   "execution_count": 6,
   "id": "590dc742",
   "metadata": {},
   "outputs": [],
   "source": [
    "# looking at shape, X has 10 features/columns and W should follow the same\n",
    "W = np.random.rand(10)\n",
    "b = np.random.rand()"
   ]
  },
  {
   "cell_type": "code",
   "execution_count": 7,
   "id": "bfa56495",
   "metadata": {},
   "outputs": [],
   "source": [
    "def model(X, W, b):\n",
    "    predictions = 0\n",
    "    for i in range(10):\n",
    "        predictions += X[:, i] * W[i]\n",
    "    predictions += b\n",
    "    return predictions\n",
    "\n",
    "def mse(a, b):\n",
    "    mse = ((a - b) ** 2).mean()\n",
    "    return mse\n",
    "\n",
    "def loss(X, W, b, y):\n",
    "    predictions = model(X, W, b)\n",
    "    L = mse(predictions, y)\n",
    "    return L\n",
    "\n",
    "def gradient(X, W, b, y):\n",
    "    # N은 가중치의 개수\n",
    "    N = len(W)\n",
    "    \n",
    "    # y_pred 준비\n",
    "    y_pred = model(X, W, b)\n",
    "    \n",
    "    # 공식에 맞게 gradient 계산\n",
    "    dW = 1/N * 2 * X.T.dot(y_pred - y)\n",
    "        \n",
    "    # b의 gradient 계산\n",
    "    db = 2 * (y_pred - y).mean()\n",
    "    return dW, db"
   ]
  },
  {
   "cell_type": "code",
   "execution_count": 8,
   "id": "5f9a456d",
   "metadata": {
    "scrolled": false
   },
   "outputs": [
    {
     "name": "stdout",
     "output_type": "stream",
     "text": [
      "Iteration 100 : Loss 20614.3400\n",
      "Iteration 200 : Loss 15583.6900\n",
      "Iteration 300 : Loss 12162.6796\n",
      "Iteration 400 : Loss 9823.9767\n",
      "Iteration 500 : Loss 8214.0523\n",
      "Iteration 600 : Loss 7095.7982\n",
      "Iteration 700 : Loss 6310.0998\n",
      "Iteration 800 : Loss 5750.1005\n",
      "Iteration 900 : Loss 5343.9671\n",
      "Iteration 1000 : Loss 5043.3451\n",
      "Iteration 1100 : Loss 4815.6263\n",
      "Iteration 1200 : Loss 4638.7690\n",
      "Iteration 1300 : Loss 4497.8265\n",
      "Iteration 1400 : Loss 4382.6214\n",
      "Iteration 1500 : Loss 4286.1860\n",
      "Iteration 1600 : Loss 4203.7168\n",
      "Iteration 1700 : Loss 4131.8726\n",
      "Iteration 1800 : Loss 4068.3034\n",
      "Iteration 1900 : Loss 4011.3336\n",
      "Iteration 2000 : Loss 3959.7492\n",
      "Iteration 2100 : Loss 3912.6539\n",
      "Iteration 2200 : Loss 3869.3718\n",
      "Iteration 2300 : Loss 3829.3824\n",
      "Iteration 2400 : Loss 3792.2750\n",
      "Iteration 2500 : Loss 3757.7187\n",
      "Iteration 2600 : Loss 3725.4411\n",
      "Iteration 2700 : Loss 3695.2137\n",
      "Iteration 2800 : Loss 3666.8418\n",
      "Iteration 2900 : Loss 3640.1571\n",
      "Iteration 3000 : Loss 3615.0124\n",
      "Iteration 3100 : Loss 3591.2779\n",
      "Iteration 3200 : Loss 3568.8383\n",
      "Iteration 3300 : Loss 3547.5904\n",
      "Iteration 3400 : Loss 3527.4415\n",
      "Iteration 3500 : Loss 3508.3083\n",
      "Iteration 3600 : Loss 3490.1153\n",
      "Iteration 3700 : Loss 3472.7941\n",
      "Iteration 3800 : Loss 3456.2826\n",
      "Iteration 3900 : Loss 3440.5244\n",
      "Iteration 4000 : Loss 3425.4680\n",
      "Iteration 4100 : Loss 3411.0665\n",
      "Iteration 4200 : Loss 3397.2771\n",
      "Iteration 4300 : Loss 3384.0605\n",
      "Iteration 4400 : Loss 3371.3810\n",
      "Iteration 4500 : Loss 3359.2056\n",
      "Iteration 4600 : Loss 3347.5041\n",
      "Iteration 4700 : Loss 3336.2489\n",
      "Iteration 4800 : Loss 3325.4144\n",
      "Iteration 4900 : Loss 3314.9771\n",
      "Iteration 5000 : Loss 3304.9155\n"
     ]
    }
   ],
   "source": [
    "# learning step\n",
    "learning_rate = 0.001\n",
    "\n",
    "losses = []\n",
    "\n",
    "for i in range(1, 5001):\n",
    "    dW, db = gradient(X_train, W, b, y_train)\n",
    "    W -= learning_rate * dW # W = W - learning rate * dw\n",
    "    b -= learning_rate * db # b = b - learning rate * db\n",
    "    L = loss(X_train, W, b, y_train)\n",
    "    losses.append(L)\n",
    "    if i % 100 == 0:\n",
    "        print('Iteration %d : Loss %0.4f' % (i, L))"
   ]
  },
  {
   "cell_type": "code",
   "execution_count": 9,
   "id": "1453bb22",
   "metadata": {},
   "outputs": [
    {
     "data": {
      "image/png": "[encoded data removed]",
      "text/plain": [
       "<Figure size 432x288 with 1 Axes>"
      ]
     },
     "metadata": {
      "needs_background": "light"
     },
     "output_type": "display_data"
    }
   ],
   "source": [
    "# visualizing iteration and loss function \n",
    "plt.plot(losses)\n",
    "plt.show()"
   ]
  },
  {
   "cell_type": "code",
   "execution_count": 10,
   "id": "25d73272",
   "metadata": {},
   "outputs": [
    {
     "data": {
      "text/plain": [
       "2943.8170284467715"
      ]
     },
     "execution_count": 10,
     "metadata": {},
     "output_type": "execute_result"
    }
   ],
   "source": [
    "# testing a model with test set\n",
    "prediction = model(X_test, W, b)\n",
    "mse = loss(X_test, W, b, y_test)\n",
    "mse"
   ]
  },
  {
   "cell_type": "code",
   "execution_count": 11,
   "id": "4db3ef82",
   "metadata": {},
   "outputs": [
    {
     "data": {
      "image/png": "[encoded data removed]",
      "text/plain": [
       "<Figure size 432x288 with 1 Axes>"
      ]
     },
     "metadata": {
      "needs_background": "light"
     },
     "output_type": "display_data"
    }
   ],
   "source": [
    "# visualizing with scatter plot to see the predicted values and true vlaues in a same plot\n",
    "plt.scatter(X_test[:, 0], y_test, label='true')\n",
    "plt.scatter(X_test[:, 0], prediction, label='pred')\n",
    "plt.legend()\n",
    "plt.show()"
   ]
  },
  {
   "cell_type": "code",
   "execution_count": null,
   "id": "5ddf38e8",
   "metadata": {},
   "outputs": [],
   "source": []
  }
 ],
 "metadata": {
  "kernelspec": {
   "display_name": "Python 3 (ipykernel)",
   "language": "python",
   "name": "python3"
  },
  "language_info": {
   "codemirror_mode": {
    "name": "ipython",
    "version": 3
   },
   "file_extension": ".py",
   "mimetype": "text/x-python",
   "name": "python",
   "nbconvert_exporter": "python",
   "pygments_lexer": "ipython3",
   "version": "3.9.7"
  }
 },
 "nbformat": 4,
 "nbformat_minor": 5
}
