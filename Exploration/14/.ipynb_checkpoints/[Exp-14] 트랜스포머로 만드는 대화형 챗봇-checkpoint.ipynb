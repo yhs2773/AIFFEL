{
 "cells": [
  {
   "cell_type": "markdown",
   "id": "8ef94950",
   "metadata": {},
   "source": [
    "# Load libraries and files"
   ]
  },
  {
   "cell_type": "code",
   "execution_count": 1,
   "id": "27dbe3f6",
   "metadata": {},
   "outputs": [],
   "source": [
    "# load libraries\n",
    "import tensorflow as tf\n",
    "import tensorflow_datasets as tfds\n",
    "import os, re\n",
    "import numpy as np\n",
    "import matplotlib.pyplot as plt\n",
    "import pandas as pd\n",
    "\n",
    "from keras.callbacks import EarlyStopping"
   ]
  },
  {
   "cell_type": "markdown",
   "id": "6b61570b",
   "metadata": {},
   "source": [
    "## Load file and regex"
   ]
  },
  {
   "cell_type": "code",
   "execution_count": 2,
   "id": "cfedfa05",
   "metadata": {},
   "outputs": [
    {
     "data": {
      "text/html": [
       "<div>\n",
       "<style scoped>\n",
       "    .dataframe tbody tr th:only-of-type {\n",
       "        vertical-align: middle;\n",
       "    }\n",
       "\n",
       "    .dataframe tbody tr th {\n",
       "        vertical-align: top;\n",
       "    }\n",
       "\n",
       "    .dataframe thead th {\n",
       "        text-align: right;\n",
       "    }\n",
       "</style>\n",
       "<table border=\"1\" class=\"dataframe\">\n",
       "  <thead>\n",
       "    <tr style=\"text-align: right;\">\n",
       "      <th></th>\n",
       "      <th>Q</th>\n",
       "      <th>A</th>\n",
       "      <th>label</th>\n",
       "    </tr>\n",
       "  </thead>\n",
       "  <tbody>\n",
       "    <tr>\n",
       "      <th>0</th>\n",
       "      <td>12시 땡!</td>\n",
       "      <td>하루가 또 가네요.</td>\n",
       "      <td>0</td>\n",
       "    </tr>\n",
       "    <tr>\n",
       "      <th>1</th>\n",
       "      <td>1지망 학교 떨어졌어</td>\n",
       "      <td>위로해 드립니다.</td>\n",
       "      <td>0</td>\n",
       "    </tr>\n",
       "    <tr>\n",
       "      <th>2</th>\n",
       "      <td>3박4일 놀러가고 싶다</td>\n",
       "      <td>여행은 언제나 좋죠.</td>\n",
       "      <td>0</td>\n",
       "    </tr>\n",
       "    <tr>\n",
       "      <th>3</th>\n",
       "      <td>3박4일 정도 놀러가고 싶다</td>\n",
       "      <td>여행은 언제나 좋죠.</td>\n",
       "      <td>0</td>\n",
       "    </tr>\n",
       "    <tr>\n",
       "      <th>4</th>\n",
       "      <td>PPL 심하네</td>\n",
       "      <td>눈살이 찌푸려지죠.</td>\n",
       "      <td>0</td>\n",
       "    </tr>\n",
       "    <tr>\n",
       "      <th>...</th>\n",
       "      <td>...</td>\n",
       "      <td>...</td>\n",
       "      <td>...</td>\n",
       "    </tr>\n",
       "    <tr>\n",
       "      <th>11818</th>\n",
       "      <td>훔쳐보는 것도 눈치 보임.</td>\n",
       "      <td>티가 나니까 눈치가 보이는 거죠!</td>\n",
       "      <td>2</td>\n",
       "    </tr>\n",
       "    <tr>\n",
       "      <th>11819</th>\n",
       "      <td>훔쳐보는 것도 눈치 보임.</td>\n",
       "      <td>훔쳐보는 거 티나나봐요.</td>\n",
       "      <td>2</td>\n",
       "    </tr>\n",
       "    <tr>\n",
       "      <th>11820</th>\n",
       "      <td>흑기사 해주는 짝남.</td>\n",
       "      <td>설렜겠어요.</td>\n",
       "      <td>2</td>\n",
       "    </tr>\n",
       "    <tr>\n",
       "      <th>11821</th>\n",
       "      <td>힘든 연애 좋은 연애라는게 무슨 차이일까?</td>\n",
       "      <td>잘 헤어질 수 있는 사이 여부인 거 같아요.</td>\n",
       "      <td>2</td>\n",
       "    </tr>\n",
       "    <tr>\n",
       "      <th>11822</th>\n",
       "      <td>힘들어서 결혼할까봐</td>\n",
       "      <td>도피성 결혼은 하지 않길 바라요.</td>\n",
       "      <td>2</td>\n",
       "    </tr>\n",
       "  </tbody>\n",
       "</table>\n",
       "<p>11823 rows × 3 columns</p>\n",
       "</div>"
      ],
      "text/plain": [
       "                             Q                         A  label\n",
       "0                       12시 땡!                하루가 또 가네요.      0\n",
       "1                  1지망 학교 떨어졌어                 위로해 드립니다.      0\n",
       "2                 3박4일 놀러가고 싶다               여행은 언제나 좋죠.      0\n",
       "3              3박4일 정도 놀러가고 싶다               여행은 언제나 좋죠.      0\n",
       "4                      PPL 심하네                눈살이 찌푸려지죠.      0\n",
       "...                        ...                       ...    ...\n",
       "11818           훔쳐보는 것도 눈치 보임.        티가 나니까 눈치가 보이는 거죠!      2\n",
       "11819           훔쳐보는 것도 눈치 보임.             훔쳐보는 거 티나나봐요.      2\n",
       "11820              흑기사 해주는 짝남.                    설렜겠어요.      2\n",
       "11821  힘든 연애 좋은 연애라는게 무슨 차이일까?  잘 헤어질 수 있는 사이 여부인 거 같아요.      2\n",
       "11822               힘들어서 결혼할까봐        도피성 결혼은 하지 않길 바라요.      2\n",
       "\n",
       "[11823 rows x 3 columns]"
      ]
     },
     "execution_count": 2,
     "metadata": {},
     "output_type": "execute_result"
    }
   ],
   "source": [
    "# load file\n",
    "filepath = os.getenv('HOME') + '/aiffel/transformer_chatbot/data/ChatbotData .csv'\n",
    "df = pd.read_csv(filepath)\n",
    "df"
   ]
  },
  {
   "cell_type": "code",
   "execution_count": 3,
   "id": "90776098",
   "metadata": {},
   "outputs": [],
   "source": [
    "# regex function\n",
    "def preprocess_sentence(sentence):\n",
    "    # whitespace between punctuations\n",
    "    # multiple whitespace into 1 whitespace\n",
    "    sentence = re.sub(r\"([?.!,])\", r\" \\1 \", sentence)\n",
    "    sentence = re.sub(r'[\" \"]+', \" \", sentence)\n",
    "    sentence = sentence.strip()\n",
    "    return sentence"
   ]
  },
  {
   "cell_type": "code",
   "execution_count": 4,
   "id": "62b1637d",
   "metadata": {},
   "outputs": [],
   "source": [
    "# regex each column in dataframe\n",
    "df.Q = [preprocess_sentence(sentence) for sentence in df.Q]\n",
    "df.A = [preprocess_sentence(sentence) for sentence in df.A]"
   ]
  },
  {
   "cell_type": "code",
   "execution_count": 5,
   "id": "f7e91af4",
   "metadata": {},
   "outputs": [
    {
     "name": "stdout",
     "output_type": "stream",
     "text": [
      "전체 샘플 수 : 11823\n",
      "전체 샘플 수 : 11823\n"
     ]
    }
   ],
   "source": [
    "# unpack dataframe into 2 variables\n",
    "questions, answers = df.Q, df.A\n",
    "print('전체 샘플 수 :', len(questions))\n",
    "print('전체 샘플 수 :', len(answers))"
   ]
  },
  {
   "cell_type": "code",
   "execution_count": 6,
   "id": "14cde11b",
   "metadata": {},
   "outputs": [
    {
     "name": "stdout",
     "output_type": "stream",
     "text": [
      "전처리 후의 22번째 질문 샘플: 가스비 장난 아님\n",
      "전처리 후의 22번째 답변 샘플: 다음 달에는 더 절약해봐요 .\n"
     ]
    }
   ],
   "source": [
    "# print 22nd sapmle to cross-check\n",
    "print('전처리 후의 22번째 질문 샘플: {}'.format(questions[21]))\n",
    "print('전처리 후의 22번째 답변 샘플: {}'.format(answers[21]))"
   ]
  },
  {
   "cell_type": "markdown",
   "id": "37ae67db",
   "metadata": {},
   "source": [
    "# Preprocess parallel data"
   ]
  },
  {
   "cell_type": "code",
   "execution_count": 7,
   "id": "ece9545b",
   "metadata": {},
   "outputs": [],
   "source": [
    "# create vocabulary using both questions and answers (must use both not just either one)\n",
    "tokenizer = tfds.deprecated.text.SubwordTextEncoder.build_from_corpus(questions + answers, target_vocab_size=2**13)"
   ]
  },
  {
   "cell_type": "code",
   "execution_count": 8,
   "id": "17ce9884",
   "metadata": {},
   "outputs": [],
   "source": [
    "# add 'start token' and 'end token' in a temporary vocab with integer values\n",
    "# generate with last num + 1 and + 2 from total vocab size\n",
    "START_TOKEN, END_TOKEN = [tokenizer.vocab_size], [tokenizer.vocab_size + 1]"
   ]
  },
  {
   "cell_type": "code",
   "execution_count": 9,
   "id": "c69594e4",
   "metadata": {},
   "outputs": [
    {
     "name": "stdout",
     "output_type": "stream",
     "text": [
      "START_TOKEN의 번호 : [8364]\n",
      "END_TOKEN의 번호 : [8365]\n"
     ]
    }
   ],
   "source": [
    "# print int vals of start token and end token\n",
    "print('START_TOKEN의 번호 :' ,[tokenizer.vocab_size])\n",
    "print('END_TOKEN의 번호 :' ,[tokenizer.vocab_size + 1])"
   ]
  },
  {
   "cell_type": "code",
   "execution_count": 10,
   "id": "fca13578",
   "metadata": {},
   "outputs": [
    {
     "name": "stdout",
     "output_type": "stream",
     "text": [
      "8366\n"
     ]
    }
   ],
   "source": [
    "# current vocab size is 8364 since start token index is 8364\n",
    "# since 2 new tokens added, vocab_size becomes + 2\n",
    "VOCAB_SIZE = tokenizer.vocab_size + 2\n",
    "print(VOCAB_SIZE)"
   ]
  },
  {
   "cell_type": "code",
   "execution_count": 11,
   "id": "dca8421f",
   "metadata": {},
   "outputs": [
    {
     "name": "stdout",
     "output_type": "stream",
     "text": [
      "정수 인코딩 후의 21번째 질문 샘플: [5829, 605, 2500, 4174]\n",
      "정수 인코딩 후의 21번째 답변 샘플: [2685, 7669, 8, 6378, 95, 1]\n"
     ]
    }
   ],
   "source": [
    "# use tokenizer.encode() to change each word into integer vals\n",
    "# use tokenizer.decode() to change each integer vals into word sequence\n",
    "# example of 22nd sample\n",
    "\n",
    "print('정수 인코딩 후의 21번째 질문 샘플: {}'.format(tokenizer.encode(questions[21])))\n",
    "print('정수 인코딩 후의 21번째 답변 샘플: {}'.format(tokenizer.encode(answers[21])))"
   ]
  },
  {
   "cell_type": "code",
   "execution_count": 12,
   "id": "200e27f3",
   "metadata": {},
   "outputs": [
    {
     "name": "stdout",
     "output_type": "stream",
     "text": [
      "max length of Q: 57\n",
      "max length of A: 78\n"
     ]
    }
   ],
   "source": [
    "# find max length of questions and answers\n",
    "max_q = max([len(sentence) for sentence in questions])\n",
    "max_a = max([len(sentence) for sentence in answers])\n",
    "print('max length of Q:', max_q)\n",
    "print('max length of A:', max_a)"
   ]
  },
  {
   "cell_type": "code",
   "execution_count": 13,
   "id": "04e368a3",
   "metadata": {},
   "outputs": [],
   "source": [
    "# max length for pad_sequence (change this parameter to allow more sentences)\n",
    "MAX_LENGTH = 40"
   ]
  },
  {
   "cell_type": "code",
   "execution_count": 14,
   "id": "6e7b306d",
   "metadata": {},
   "outputs": [],
   "source": [
    "# integer encoding, skip any sentence over length 40, add padding\n",
    "def tokenize_and_filter(inputs, outputs):\n",
    "    tokenized_inputs, tokenized_outputs = [], []\n",
    "  \n",
    "    for (sentence1, sentence2) in zip(inputs, outputs):\n",
    "        # add start and end tokens during integer encoding\n",
    "        sentence1 = START_TOKEN + tokenizer.encode(sentence1) + END_TOKEN\n",
    "        sentence2 = START_TOKEN + tokenizer.encode(sentence2) + END_TOKEN\n",
    "\n",
    "        # add to dataset if sentence length is less than 41\n",
    "        if len(sentence1) <= MAX_LENGTH and len(sentence2) <= MAX_LENGTH:\n",
    "            tokenized_inputs.append(sentence1)\n",
    "            tokenized_outputs.append(sentence2)\n",
    "  \n",
    "    # add padding to match length 40\n",
    "    tokenized_inputs = tf.keras.preprocessing.sequence.pad_sequences(\n",
    "        tokenized_inputs, maxlen=MAX_LENGTH, padding='post')\n",
    "    tokenized_outputs = tf.keras.preprocessing.sequence.pad_sequences(\n",
    "        tokenized_outputs, maxlen=MAX_LENGTH, padding='post')\n",
    "  \n",
    "    return tokenized_inputs, tokenized_outputs"
   ]
  },
  {
   "cell_type": "code",
   "execution_count": 15,
   "id": "7ca02fc4",
   "metadata": {},
   "outputs": [
    {
     "name": "stdout",
     "output_type": "stream",
     "text": [
      "단어장의 크기 : 8366\n",
      "필터링 후의 질문 샘플 개수: 11823\n",
      "필터링 후의 답변 샘플 개수: 11823\n"
     ]
    }
   ],
   "source": [
    "# double check sample count and size\n",
    "questions, answers = tokenize_and_filter(questions, answers)\n",
    "print('단어장의 크기 :',(VOCAB_SIZE))\n",
    "print('필터링 후의 질문 샘플 개수: {}'.format(len(questions)))\n",
    "print('필터링 후의 답변 샘플 개수: {}'.format(len(answers)))"
   ]
  },
  {
   "cell_type": "code",
   "execution_count": 16,
   "id": "35e296fa",
   "metadata": {},
   "outputs": [],
   "source": [
    "# pair Q&A and configure pipeline tf.data.Dataset API\n",
    "# for teach forcing, answers[:, :-1] as decoder input, answers[:, 1:] as decoder label\n",
    "\n",
    "BATCH_SIZE = 64\n",
    "BUFFER_SIZE = 20000\n",
    "\n",
    "# decoder uses last target as next input\n",
    "# remove start token from outputs\n",
    "dataset = tf.data.Dataset.from_tensor_slices((\n",
    "    {\n",
    "        'inputs': questions,\n",
    "        'dec_inputs': answers[:, :-1]\n",
    "    },\n",
    "    {\n",
    "        'outputs': answers[:, 1:]\n",
    "    },\n",
    "))\n",
    "\n",
    "dataset = dataset.cache()\n",
    "dataset = dataset.shuffle(BUFFER_SIZE)\n",
    "dataset = dataset.batch(BATCH_SIZE)\n",
    "dataset = dataset.prefetch(tf.data.experimental.AUTOTUNE)"
   ]
  },
  {
   "cell_type": "markdown",
   "id": "e9ea434b",
   "metadata": {},
   "source": [
    "# Positional encoding and attention"
   ]
  },
  {
   "cell_type": "code",
   "execution_count": 17,
   "id": "9c1a3287",
   "metadata": {},
   "outputs": [],
   "source": [
    "# positional encoding layer\n",
    "# generate positional matrix to see visually\n",
    "class PositionalEncoding(tf.keras.layers.Layer):\n",
    "\n",
    "    def __init__(self, position, d_model):\n",
    "        super(PositionalEncoding, self).__init__()\n",
    "        self.pos_encoding = self.positional_encoding(position, d_model)\n",
    "\n",
    "    def get_angles(self, position, i, d_model):\n",
    "        angles = 1 / tf.pow(10000, (2 * (i // 2)) / tf.cast(d_model, tf.float32))\n",
    "        return position * angles\n",
    "\n",
    "    def positional_encoding(self, position, d_model):\n",
    "        # create angle array\n",
    "        angle_rads = self.get_angles(\n",
    "            position=tf.range(position, dtype=tf.float32)[:, tf.newaxis],\n",
    "            i=tf.range(d_model, dtype=tf.float32)[tf.newaxis, :],\n",
    "            d_model=d_model)\n",
    "\n",
    "        # apply sin function on even index of array\n",
    "        sines = tf.math.sin(angle_rads[:, 0::2])\n",
    "        # apply cosine function on odd index of array\n",
    "        cosines = tf.math.cos(angle_rads[:, 1::2])\n",
    "\n",
    "        # rearrange arrays to intersect sin and cosine\n",
    "        pos_encoding = tf.stack([sines, cosines], axis=0)\n",
    "        pos_encoding = tf.transpose(pos_encoding,[1, 2, 0]) \n",
    "        pos_encoding = tf.reshape(pos_encoding, [position, d_model])\n",
    "\n",
    "        pos_encoding = pos_encoding[tf.newaxis, ...]\n",
    "        return tf.cast(pos_encoding, tf.float32)\n",
    "\n",
    "    def call(self, inputs):\n",
    "        return inputs + self.pos_encoding[:, :tf.shape(inputs)[1], :]"
   ]
  },
  {
   "cell_type": "code",
   "execution_count": 18,
   "id": "e9c323cf",
   "metadata": {},
   "outputs": [],
   "source": [
    "# create scaled dot product attention\n",
    "def scaled_dot_product_attention(query, key, value, mask):\n",
    "    # attention weight is the dot product of Q and K\n",
    "    matmul_qk = tf.matmul(query, key, transpose_b=True)\n",
    "\n",
    "    # normalize weight\n",
    "    depth = tf.cast(tf.shape(key)[-1], tf.float32)\n",
    "    logits = matmul_qk / tf.math.sqrt(depth)\n",
    "\n",
    "    # add mask to padding\n",
    "    if mask is not None:\n",
    "        logits += (mask * -1e9)\n",
    "\n",
    "    # apply softmax\n",
    "    attention_weights = tf.nn.softmax(logits, axis=-1)\n",
    "\n",
    "    # final attention is the dot product of the weight and V\n",
    "    output = tf.matmul(attention_weights, value)\n",
    "    return output"
   ]
  },
  {
   "cell_type": "code",
   "execution_count": 19,
   "id": "9ae4b951",
   "metadata": {},
   "outputs": [],
   "source": [
    "# multi-head attention\n",
    "# call scaled dot product attention function internally\n",
    "class MultiHeadAttention(tf.keras.layers.Layer):\n",
    "\n",
    "    def __init__(self, d_model, num_heads, name=\"multi_head_attention\"):\n",
    "        super(MultiHeadAttention, self).__init__(name=name)\n",
    "        self.num_heads = num_heads\n",
    "        self.d_model = d_model\n",
    "\n",
    "        assert d_model % self.num_heads == 0\n",
    "\n",
    "        self.depth = d_model // self.num_heads\n",
    "\n",
    "        self.query_dense = tf.keras.layers.Dense(units=d_model)\n",
    "        self.key_dense = tf.keras.layers.Dense(units=d_model)\n",
    "        self.value_dense = tf.keras.layers.Dense(units=d_model)\n",
    "\n",
    "        self.dense = tf.keras.layers.Dense(units=d_model)\n",
    "\n",
    "    def split_heads(self, inputs, batch_size):\n",
    "        inputs = tf.reshape(\n",
    "            inputs, shape=(batch_size, -1, self.num_heads, self.depth))\n",
    "        return tf.transpose(inputs, perm=[0, 2, 1, 3])\n",
    "\n",
    "    def call(self, inputs):\n",
    "        query, key, value, mask = inputs['query'], inputs['key'], inputs[\n",
    "            'value'], inputs['mask']\n",
    "        batch_size = tf.shape(query)[0]\n",
    "\n",
    "        # apply dense to Q, K, V individually\n",
    "        query = self.query_dense(query)\n",
    "        key = self.key_dense(key)\n",
    "        value = self.value_dense(value)\n",
    "\n",
    "        # make multi-head via parallel computation\n",
    "        query = self.split_heads(query, batch_size)\n",
    "        key = self.split_heads(key, batch_size)\n",
    "        value = self.split_heads(value, batch_size)\n",
    "\n",
    "        # scaled dot product attention function\n",
    "        scaled_attention = scaled_dot_product_attention(query, key, value, mask)\n",
    "\n",
    "        scaled_attention = tf.transpose(scaled_attention, perm=[0, 2, 1, 3])\n",
    "\n",
    "        # concatenate results after attention computation\n",
    "        concat_attention = tf.reshape(scaled_attention,\n",
    "                                  (batch_size, -1, self.d_model))\n",
    "\n",
    "        # apply dense on the outputs\n",
    "        outputs = self.dense(concat_attention)\n",
    "\n",
    "        return outputs"
   ]
  },
  {
   "cell_type": "markdown",
   "id": "19331b51",
   "metadata": {},
   "source": [
    "# Masking"
   ]
  },
  {
   "cell_type": "code",
   "execution_count": 20,
   "id": "da26df7e",
   "metadata": {},
   "outputs": [],
   "source": [
    "# num 0 from pad_seq is meaningless (just padding) so need to remove 'em during computation\n",
    "# padding masking checks position of num 0\n",
    "def create_padding_mask(x):\n",
    "    mask = tf.cast(tf.math.equal(x, 0), tf.float32)\n",
    "    # (batch_size, 1, 1, sequence length)\n",
    "    return mask[:, tf.newaxis, tf.newaxis, :]\n",
    "# input int seq, and this function returns num 0 in vectors"
   ]
  },
  {
   "cell_type": "code",
   "execution_count": 21,
   "id": "7fdbae66",
   "metadata": {},
   "outputs": [
    {
     "name": "stdout",
     "output_type": "stream",
     "text": [
      "tf.Tensor(\n",
      "[[[[0. 0. 1. 0. 1.]]]\n",
      "\n",
      "\n",
      " [[[1. 1. 1. 0. 0.]]]], shape=(2, 1, 1, 5), dtype=float32)\n"
     ]
    }
   ],
   "source": [
    "# quick cross check\n",
    "print(create_padding_mask(tf.constant([[1, 2, 0, 3, 0], [0, 0, 0, 4, 5]])))\n",
    "\n",
    "# prints 1 if val of idx is 0 else 0 if val of idx is actual num"
   ]
  },
  {
   "cell_type": "code",
   "execution_count": 22,
   "id": "9707da4e",
   "metadata": {},
   "outputs": [],
   "source": [
    "# Look-ahead masking\n",
    "def create_look_ahead_mask(x):\n",
    "    seq_len = tf.shape(x)[1]\n",
    "    look_ahead_mask = 1 - tf.linalg.band_part(tf.ones((seq_len, seq_len)), -1, 0)\n",
    "    padding_mask = create_padding_mask(x)\n",
    "    return tf.maximum(look_ahead_mask, padding_mask)"
   ]
  },
  {
   "cell_type": "code",
   "execution_count": 23,
   "id": "2a5ab09d",
   "metadata": {},
   "outputs": [
    {
     "name": "stdout",
     "output_type": "stream",
     "text": [
      "tf.Tensor(\n",
      "[[[[0. 1. 1. 1. 1.]\n",
      "   [0. 0. 1. 1. 1.]\n",
      "   [0. 0. 0. 1. 1.]\n",
      "   [0. 0. 0. 0. 1.]\n",
      "   [0. 0. 0. 0. 0.]]]], shape=(1, 1, 5, 5), dtype=float32)\n"
     ]
    }
   ],
   "source": [
    "# cross-check\n",
    "print(create_look_ahead_mask(tf.constant([[1, 2, 3, 4, 5]])))"
   ]
  },
  {
   "cell_type": "code",
   "execution_count": 24,
   "id": "1d0c057d",
   "metadata": {},
   "outputs": [
    {
     "name": "stdout",
     "output_type": "stream",
     "text": [
      "tf.Tensor(\n",
      "[[[[1. 1. 1. 1. 1.]\n",
      "   [1. 0. 1. 1. 1.]\n",
      "   [1. 0. 0. 1. 1.]\n",
      "   [1. 0. 0. 0. 1.]\n",
      "   [1. 0. 0. 0. 0.]]]], shape=(1, 1, 5, 5), dtype=float32)\n"
     ]
    }
   ],
   "source": [
    "# need to pad any 0, hence calling create_padding_mask function internally\n",
    "print(create_look_ahead_mask(tf.constant([[0, 5, 1, 5, 5]])))"
   ]
  },
  {
   "cell_type": "markdown",
   "id": "7ef8c5c6",
   "metadata": {},
   "source": [
    "# Encoder"
   ]
  },
  {
   "cell_type": "code",
   "execution_count": 25,
   "id": "77555513",
   "metadata": {},
   "outputs": [],
   "source": [
    "# two sub-layers of 1 encoder layer\n",
    "# internally generate first sub-layer and second sub-layer\n",
    "def encoder_layer(units, d_model, num_heads, dropout, name=\"encoder_layer\"):\n",
    "    inputs = tf.keras.Input(shape=(None, d_model), name=\"inputs\")\n",
    "\n",
    "    # use padding mask\n",
    "    padding_mask = tf.keras.Input(shape=(1, 1, None), name=\"padding_mask\")\n",
    "\n",
    "    # first sub-layer : multi-head attention (self-attention)\n",
    "    attention = MultiHeadAttention(\n",
    "        d_model, num_heads, name=\"attention\")({\n",
    "            'query': inputs,\n",
    "            'key': inputs,\n",
    "            'value': inputs,\n",
    "            'mask': padding_mask\n",
    "        })\n",
    "\n",
    "    # apply dropout and layer normalization to the attention result\n",
    "    attention = tf.keras.layers.Dropout(rate=dropout)(attention)\n",
    "    attention = tf.keras.layers.LayerNormalization(\n",
    "        epsilon=1e-6)(inputs + attention)\n",
    "\n",
    "    # second sub-layer : 2 fully-connected layer(FC)\n",
    "    outputs = tf.keras.layers.Dense(units=units, activation='relu')(attention)\n",
    "    outputs = tf.keras.layers.Dense(units=d_model)(outputs)\n",
    "\n",
    "    # apply dropout and layer normalization to the FC results\n",
    "    outputs = tf.keras.layers.Dropout(rate=dropout)(outputs)\n",
    "    outputs = tf.keras.layers.LayerNormalization(\n",
    "        epsilon=1e-6)(attention + outputs)\n",
    "\n",
    "    return tf.keras.Model(\n",
    "        inputs=[inputs, padding_mask], outputs=outputs, name=name)"
   ]
  },
  {
   "cell_type": "code",
   "execution_count": 26,
   "id": "781da555",
   "metadata": {},
   "outputs": [],
   "source": [
    "# connect positional encoding and embedding layer and add num of encoding layers to successfully create transformer's encoder\n",
    "\n",
    "# transformer stacks num_layers (hyperparameter) of encoder layer\n",
    "def encoder(vocab_size,\n",
    "            num_layers,\n",
    "            units,\n",
    "            d_model,\n",
    "            num_heads,\n",
    "            dropout,\n",
    "            name=\"encoder\"):\n",
    "    inputs = tf.keras.Input(shape=(None,), name=\"inputs\")\n",
    "\n",
    "    # padding mask\n",
    "    padding_mask = tf.keras.Input(shape=(1, 1, None), name=\"padding_mask\")\n",
    "\n",
    "    # embedding layer\n",
    "    embeddings = tf.keras.layers.Embedding(vocab_size, d_model)(inputs)\n",
    "    embeddings *= tf.math.sqrt(tf.cast(d_model, tf.float32))\n",
    "\n",
    "    # positional encoding\n",
    "    embeddings = PositionalEncoding(vocab_size, d_model)(embeddings)\n",
    "\n",
    "    outputs = tf.keras.layers.Dropout(rate=dropout)(embeddings)\n",
    "\n",
    "    # num_layers amount of stacked encoder layers\n",
    "    for i in range(num_layers):\n",
    "        outputs = encoder_layer(\n",
    "            units=units,\n",
    "            d_model=d_model,\n",
    "            num_heads=num_heads,\n",
    "            dropout=dropout,\n",
    "            name=\"encoder_layer_{}\".format(i),\n",
    "        )([outputs, padding_mask])\n",
    "\n",
    "    return tf.keras.Model(\n",
    "        inputs=[inputs, padding_mask], outputs=outputs, name=name)"
   ]
  },
  {
   "cell_type": "markdown",
   "id": "f8ad2265",
   "metadata": {},
   "source": [
    "# Decoder"
   ]
  },
  {
   "cell_type": "code",
   "execution_count": 27,
   "id": "a06ca83c",
   "metadata": {},
   "outputs": [],
   "source": [
    "# 3 sub-layers exist in 1 decoder layer\n",
    "def decoder_layer(units, d_model, num_heads, dropout, name=\"decoder_layer\"):\n",
    "    inputs = tf.keras.Input(shape=(None, d_model), name=\"inputs\")\n",
    "    enc_outputs = tf.keras.Input(shape=(None, d_model), name=\"encoder_outputs\")\n",
    "    look_ahead_mask = tf.keras.Input(\n",
    "        shape=(1, None, None), name=\"look_ahead_mask\")\n",
    "    padding_mask = tf.keras.Input(shape=(1, 1, None), name='padding_mask')\n",
    "\n",
    "    # first sub-layer : multi-head attention (self-attention)\n",
    "    attention1 = MultiHeadAttention(\n",
    "        d_model, num_heads, name=\"attention_1\")(inputs={\n",
    "            'query': inputs,\n",
    "            'key': inputs,\n",
    "            'value': inputs,\n",
    "            'mask': look_ahead_mask\n",
    "        })\n",
    "\n",
    "    # apply layer normalization to the result of the multi-head attention\n",
    "    attention1 = tf.keras.layers.LayerNormalization(\n",
    "        epsilon=1e-6)(attention1 + inputs)\n",
    "\n",
    "    # second sub-layer : masked multi-head attention (encoder-decoder attention)\n",
    "    attention2 = MultiHeadAttention(\n",
    "        d_model, num_heads, name=\"attention_2\")(inputs={\n",
    "            'query': attention1,\n",
    "            'key': enc_outputs,\n",
    "            'value': enc_outputs,\n",
    "            'mask': padding_mask\n",
    "        })\n",
    "\n",
    "    # apply dropout and layer normalization to the masked multi-head attention results\n",
    "    attention2 = tf.keras.layers.Dropout(rate=dropout)(attention2)\n",
    "    attention2 = tf.keras.layers.LayerNormalization(\n",
    "        epsilon=1e-6)(attention2 + attention1)\n",
    "\n",
    "    # third sub-layer : 2 FCs\n",
    "    outputs = tf.keras.layers.Dense(units=units, activation='relu')(attention2)\n",
    "    outputs = tf.keras.layers.Dense(units=d_model)(outputs)\n",
    "\n",
    "    # apply dropout and layer normalization to the FC results\n",
    "    outputs = tf.keras.layers.Dropout(rate=dropout)(outputs)\n",
    "    outputs = tf.keras.layers.LayerNormalization(\n",
    "        epsilon=1e-6)(outputs + attention2)\n",
    "\n",
    "    return tf.keras.Model(\n",
    "        inputs=[inputs, enc_outputs, look_ahead_mask, padding_mask],\n",
    "        outputs=outputs,\n",
    "        name=name)"
   ]
  },
  {
   "cell_type": "code",
   "execution_count": 28,
   "id": "b9801c42",
   "metadata": {},
   "outputs": [],
   "source": [
    "# connect positional encoding and embedding layer and add num of decoding layers to successfully create transformer's encoder\n",
    "# transformer stacks num_layers (hyperparameter) of encoder layer\n",
    "def decoder(vocab_size,\n",
    "            num_layers,\n",
    "            units,\n",
    "            d_model,\n",
    "            num_heads,\n",
    "            dropout,\n",
    "            name='decoder'):\n",
    "    inputs = tf.keras.Input(shape=(None,), name='inputs')\n",
    "    enc_outputs = tf.keras.Input(shape=(None, d_model), name='encoder_outputs')\n",
    "    look_ahead_mask = tf.keras.Input(\n",
    "        shape=(1, None, None), name='look_ahead_mask')\n",
    "\n",
    "    # padding mask\n",
    "    padding_mask = tf.keras.Input(shape=(1, 1, None), name='padding_mask')\n",
    "\n",
    "    # embedding layer\n",
    "    embeddings = tf.keras.layers.Embedding(vocab_size, d_model)(inputs)\n",
    "    embeddings *= tf.math.sqrt(tf.cast(d_model, tf.float32))\n",
    "\n",
    "    # positinoal encoding\n",
    "    embeddings = PositionalEncoding(vocab_size, d_model)(embeddings)\n",
    "\n",
    "    # apply dropout\n",
    "    outputs = tf.keras.layers.Dropout(rate=dropout)(embeddings)\n",
    "\n",
    "    for i in range(num_layers):\n",
    "        outputs = decoder_layer(\n",
    "            units=units,\n",
    "            d_model=d_model,\n",
    "            num_heads=num_heads,\n",
    "            dropout=dropout,\n",
    "            name='decoder_layer_{}'.format(i),\n",
    "    )(inputs=[outputs, enc_outputs, look_ahead_mask, padding_mask])\n",
    "\n",
    "    return tf.keras.Model(\n",
    "        inputs=[inputs, enc_outputs, look_ahead_mask, padding_mask],\n",
    "        outputs=outputs,\n",
    "        name=name)"
   ]
  },
  {
   "cell_type": "markdown",
   "id": "78a956a5",
   "metadata": {},
   "source": [
    "# 모델 정의 및 학습하기"
   ]
  },
  {
   "cell_type": "code",
   "execution_count": 29,
   "id": "3cd899b1",
   "metadata": {},
   "outputs": [],
   "source": [
    "# create transformer using encoder layer and decoder layer\n",
    "\n",
    "def transformer(vocab_size,\n",
    "                num_layers,\n",
    "                units,\n",
    "                d_model,\n",
    "                num_heads,\n",
    "                dropout,\n",
    "                name=\"transformer\"):\n",
    "    inputs = tf.keras.Input(shape=(None,), name=\"inputs\")\n",
    "    dec_inputs = tf.keras.Input(shape=(None,), name=\"dec_inputs\")\n",
    "\n",
    "    # padding mask for encoder\n",
    "    enc_padding_mask = tf.keras.layers.Lambda(\n",
    "        create_padding_mask, output_shape=(1, 1, None),\n",
    "        name='enc_padding_mask')(inputs)\n",
    "\n",
    "    # use look ahead mask for decoder's future tokens\n",
    "    # includes padding mask internally\n",
    "    look_ahead_mask = tf.keras.layers.Lambda(\n",
    "        create_look_ahead_mask,\n",
    "        output_shape=(1, None, None),\n",
    "        name='look_ahead_mask')(dec_inputs)\n",
    "\n",
    "    # mask encoder vectors on second attention block\n",
    "    # decoder mask for padding\n",
    "    dec_padding_mask = tf.keras.layers.Lambda(\n",
    "        create_padding_mask, output_shape=(1, 1, None),\n",
    "        name='dec_padding_mask')(inputs)\n",
    "\n",
    "    # encoder\n",
    "    enc_outputs = encoder(\n",
    "        vocab_size=vocab_size,\n",
    "        num_layers=num_layers,\n",
    "        units=units,\n",
    "        d_model=d_model,\n",
    "        num_heads=num_heads,\n",
    "        dropout=dropout,\n",
    "  )(inputs=[inputs, enc_padding_mask])\n",
    "\n",
    "    # decoder\n",
    "    dec_outputs = decoder(\n",
    "        vocab_size=vocab_size,\n",
    "        num_layers=num_layers,\n",
    "        units=units,\n",
    "        d_model=d_model,\n",
    "        num_heads=num_heads,\n",
    "        dropout=dropout,\n",
    "  )(inputs=[dec_inputs, enc_outputs, look_ahead_mask, dec_padding_mask])\n",
    "\n",
    "    # FC\n",
    "    outputs = tf.keras.layers.Dense(units=vocab_size, name=\"outputs\")(dec_outputs)\n",
    "\n",
    "    return tf.keras.Model(inputs=[inputs, dec_inputs], outputs=outputs, name=name)"
   ]
  },
  {
   "cell_type": "code",
   "execution_count": 30,
   "id": "5318f380",
   "metadata": {},
   "outputs": [
    {
     "name": "stdout",
     "output_type": "stream",
     "text": [
      "Model: \"transformer\"\n",
      "__________________________________________________________________________________________________\n",
      "Layer (type)                    Output Shape         Param #     Connected to                     \n",
      "==================================================================================================\n",
      "inputs (InputLayer)             [(None, None)]       0                                            \n",
      "__________________________________________________________________________________________________\n",
      "dec_inputs (InputLayer)         [(None, None)]       0                                            \n",
      "__________________________________________________________________________________________________\n",
      "enc_padding_mask (Lambda)       (None, 1, 1, None)   0           inputs[0][0]                     \n",
      "__________________________________________________________________________________________________\n",
      "encoder (Functional)            (None, None, 512)    9017344     inputs[0][0]                     \n",
      "                                                                 enc_padding_mask[0][0]           \n",
      "__________________________________________________________________________________________________\n",
      "look_ahead_mask (Lambda)        (None, 1, None, None 0           dec_inputs[0][0]                 \n",
      "__________________________________________________________________________________________________\n",
      "dec_padding_mask (Lambda)       (None, 1, 1, None)   0           inputs[0][0]                     \n",
      "__________________________________________________________________________________________________\n",
      "decoder (Functional)            (None, None, 512)    12172288    dec_inputs[0][0]                 \n",
      "                                                                 encoder[0][0]                    \n",
      "                                                                 look_ahead_mask[0][0]            \n",
      "                                                                 dec_padding_mask[0][0]           \n",
      "__________________________________________________________________________________________________\n",
      "outputs (Dense)                 (None, None, 8366)   4291758     decoder[0][0]                    \n",
      "==================================================================================================\n",
      "Total params: 25,481,390\n",
      "Trainable params: 25,481,390\n",
      "Non-trainable params: 0\n",
      "__________________________________________________________________________________________________\n"
     ]
    }
   ],
   "source": [
    "tf.keras.backend.clear_session()\n",
    "\n",
    "# hyperparameters\n",
    "NUM_LAYERS = 3 # num of layer of encoder and decoder\n",
    "D_MODEL = 512 # fixed I/O dim of encoder and decoder\n",
    "NUM_HEADS = 8 # num of heads in multi-head attention\n",
    "UNITS = 512 # hidden size of feed forward neural network\n",
    "DROPOUT = 0.2 # dropout ratio\n",
    "\n",
    "model = transformer(\n",
    "    vocab_size=VOCAB_SIZE,\n",
    "    num_layers=NUM_LAYERS,\n",
    "    units=UNITS,\n",
    "    d_model=D_MODEL,\n",
    "    num_heads=NUM_HEADS,\n",
    "    dropout=DROPOUT)\n",
    "\n",
    "model.summary()"
   ]
  },
  {
   "cell_type": "code",
   "execution_count": 31,
   "id": "cc8cd768",
   "metadata": {},
   "outputs": [],
   "source": [
    "# padded in label sequence, apply padding mask during loss computation\n",
    "\n",
    "def loss_function(y_true, y_pred):\n",
    "    y_true = tf.reshape(y_true, shape=(-1, MAX_LENGTH - 1))\n",
    "\n",
    "    loss = tf.keras.losses.SparseCategoricalCrossentropy(\n",
    "        from_logits=True, reduction='none')(y_true, y_pred)\n",
    "\n",
    "    mask = tf.cast(tf.not_equal(y_true, 0), tf.float32)\n",
    "    loss = tf.multiply(loss, mask)\n",
    "\n",
    "    return tf.reduce_mean(loss)"
   ]
  },
  {
   "cell_type": "code",
   "execution_count": 32,
   "id": "f57f7e3b",
   "metadata": {},
   "outputs": [],
   "source": [
    "# learning rate is the most important hyperparameter during deep-learning training\n",
    "# exponentially increase learning rate at the beginning phase of model training\n",
    "# slowly decay learning rate as train step increases\n",
    "# this method is called Custom Learning rate Scheduling\n",
    "\n",
    "class CustomSchedule(tf.keras.optimizers.schedules.LearningRateSchedule):\n",
    "\n",
    "    def __init__(self, d_model, warmup_steps=10000):\n",
    "        super(CustomSchedule, self).__init__()\n",
    "\n",
    "        self.d_model = d_model\n",
    "        self.d_model = tf.cast(self.d_model, tf.float32)\n",
    "\n",
    "        self.warmup_steps = warmup_steps\n",
    "\n",
    "    def __call__(self, step):\n",
    "        arg1 = tf.math.rsqrt(step)\n",
    "        arg2 = step * (self.warmup_steps**-1.5)\n",
    "\n",
    "        return tf.math.rsqrt(self.d_model) * tf.math.minimum(arg1, arg2)"
   ]
  },
  {
   "cell_type": "code",
   "execution_count": 33,
   "id": "4bd45ed0",
   "metadata": {},
   "outputs": [
    {
     "data": {
      "text/plain": [
       "Text(0.5, 0, 'Train Step')"
      ]
     },
     "execution_count": 33,
     "metadata": {},
     "output_type": "execute_result"
    },
    {
     "data": {
      "image/png": "[encoded data removed]",
      "text/plain": [
       "<Figure size 432x288 with 1 Axes>"
      ]
     },
     "metadata": {
      "needs_background": "light"
     },
     "output_type": "display_data"
    }
   ],
   "source": [
    "# visualizing custom learning rate scheduling\n",
    "\n",
    "sample_learning_rate = CustomSchedule(d_model=128)\n",
    "\n",
    "plt.plot(sample_learning_rate(tf.range(200000, dtype=tf.float32)))\n",
    "plt.ylabel(\"Learning Rate\")\n",
    "plt.xlabel(\"Train Step\")"
   ]
  },
  {
   "cell_type": "code",
   "execution_count": 34,
   "id": "8acf49ab",
   "metadata": {},
   "outputs": [],
   "source": [
    "# compile model with loss function and custom learning rate\n",
    "\n",
    "learning_rate = CustomSchedule(D_MODEL)\n",
    "\n",
    "optimizer = tf.keras.optimizers.Adam(\n",
    "    learning_rate, beta_1=0.9, beta_2=0.98, epsilon=1e-9)\n",
    "\n",
    "def accuracy(y_true, y_pred):\n",
    "    y_true = tf.reshape(y_true, shape=(-1, MAX_LENGTH - 1))\n",
    "    return tf.keras.metrics.sparse_categorical_accuracy(y_true, y_pred)\n",
    "\n",
    "model.compile(optimizer=optimizer, loss=loss_function, metrics=[accuracy])"
   ]
  },
  {
   "cell_type": "code",
   "execution_count": 35,
   "id": "e81e1041",
   "metadata": {
    "scrolled": true
   },
   "outputs": [
    {
     "name": "stdout",
     "output_type": "stream",
     "text": [
      "Epoch 1/120\n",
      "185/185 [==============================] - 31s 118ms/step - loss: 1.4672 - accuracy: 0.0194\n",
      "Epoch 2/120\n",
      "185/185 [==============================] - 22s 120ms/step - loss: 1.2590 - accuracy: 0.0413\n",
      "Epoch 3/120\n",
      "185/185 [==============================] - 23s 122ms/step - loss: 1.1063 - accuracy: 0.0494\n",
      "Epoch 4/120\n",
      "185/185 [==============================] - 23s 124ms/step - loss: 1.0287 - accuracy: 0.0499\n",
      "Epoch 5/120\n",
      "185/185 [==============================] - 24s 127ms/step - loss: 0.9879 - accuracy: 0.0510\n",
      "Epoch 6/120\n",
      "185/185 [==============================] - 23s 126ms/step - loss: 0.9584 - accuracy: 0.0527\n",
      "Epoch 7/120\n",
      "185/185 [==============================] - 23s 125ms/step - loss: 0.9305 - accuracy: 0.0545\n",
      "Epoch 8/120\n",
      "185/185 [==============================] - 23s 126ms/step - loss: 0.9032 - accuracy: 0.0559\n",
      "Epoch 9/120\n",
      "185/185 [==============================] - 23s 126ms/step - loss: 0.8755 - accuracy: 0.0573\n",
      "Epoch 10/120\n",
      "185/185 [==============================] - 23s 126ms/step - loss: 0.8465 - accuracy: 0.0592\n",
      "Epoch 11/120\n",
      "185/185 [==============================] - 23s 126ms/step - loss: 0.8152 - accuracy: 0.0611\n",
      "Epoch 12/120\n",
      "185/185 [==============================] - 23s 126ms/step - loss: 0.7817 - accuracy: 0.0636\n",
      "Epoch 13/120\n",
      "185/185 [==============================] - 23s 126ms/step - loss: 0.7469 - accuracy: 0.0668\n",
      "Epoch 14/120\n",
      "185/185 [==============================] - 23s 126ms/step - loss: 0.7095 - accuracy: 0.0704\n",
      "Epoch 15/120\n",
      "185/185 [==============================] - 23s 126ms/step - loss: 0.6714 - accuracy: 0.0746\n",
      "Epoch 16/120\n",
      "185/185 [==============================] - 23s 126ms/step - loss: 0.6312 - accuracy: 0.0789\n",
      "Epoch 17/120\n",
      "185/185 [==============================] - 23s 126ms/step - loss: 0.5887 - accuracy: 0.0840\n",
      "Epoch 18/120\n",
      "185/185 [==============================] - 23s 126ms/step - loss: 0.5459 - accuracy: 0.0889\n",
      "Epoch 19/120\n",
      "185/185 [==============================] - 23s 126ms/step - loss: 0.5026 - accuracy: 0.0946\n",
      "Epoch 20/120\n",
      "185/185 [==============================] - 23s 126ms/step - loss: 0.4597 - accuracy: 0.1003\n",
      "Epoch 21/120\n",
      "185/185 [==============================] - 23s 126ms/step - loss: 0.4157 - accuracy: 0.1065\n",
      "Epoch 22/120\n",
      "185/185 [==============================] - 23s 126ms/step - loss: 0.3730 - accuracy: 0.1126\n",
      "Epoch 23/120\n",
      "185/185 [==============================] - 23s 126ms/step - loss: 0.3313 - accuracy: 0.1190\n",
      "Epoch 24/120\n",
      "185/185 [==============================] - 23s 126ms/step - loss: 0.2915 - accuracy: 0.1248\n",
      "Epoch 25/120\n",
      "185/185 [==============================] - 23s 126ms/step - loss: 0.2535 - accuracy: 0.1304\n",
      "Epoch 26/120\n",
      "185/185 [==============================] - 23s 126ms/step - loss: 0.2184 - accuracy: 0.1360\n",
      "Epoch 27/120\n",
      "185/185 [==============================] - 23s 126ms/step - loss: 0.1863 - accuracy: 0.1415\n",
      "Epoch 28/120\n",
      "185/185 [==============================] - 23s 126ms/step - loss: 0.1568 - accuracy: 0.1468\n",
      "Epoch 29/120\n",
      "185/185 [==============================] - 23s 126ms/step - loss: 0.1300 - accuracy: 0.1517\n",
      "Epoch 30/120\n",
      "185/185 [==============================] - 23s 126ms/step - loss: 0.1075 - accuracy: 0.1557\n",
      "Epoch 31/120\n",
      "185/185 [==============================] - 23s 126ms/step - loss: 0.0876 - accuracy: 0.1592\n",
      "Epoch 32/120\n",
      "185/185 [==============================] - 23s 126ms/step - loss: 0.0714 - accuracy: 0.1622\n",
      "Epoch 33/120\n",
      "185/185 [==============================] - 23s 126ms/step - loss: 0.0588 - accuracy: 0.1643\n",
      "Epoch 34/120\n",
      "185/185 [==============================] - 23s 126ms/step - loss: 0.0483 - accuracy: 0.1662\n",
      "Epoch 35/120\n",
      "185/185 [==============================] - 23s 126ms/step - loss: 0.0412 - accuracy: 0.1674\n",
      "Epoch 36/120\n",
      "185/185 [==============================] - 23s 126ms/step - loss: 0.0351 - accuracy: 0.1685\n",
      "Epoch 37/120\n",
      "185/185 [==============================] - 23s 126ms/step - loss: 0.0313 - accuracy: 0.1689\n",
      "Epoch 38/120\n",
      "185/185 [==============================] - 23s 126ms/step - loss: 0.0284 - accuracy: 0.1695\n",
      "Epoch 39/120\n",
      "185/185 [==============================] - 23s 126ms/step - loss: 0.0264 - accuracy: 0.1697\n",
      "Epoch 40/120\n",
      "185/185 [==============================] - 23s 126ms/step - loss: 0.0246 - accuracy: 0.1699\n",
      "Epoch 41/120\n",
      "185/185 [==============================] - 23s 126ms/step - loss: 0.0231 - accuracy: 0.1701\n",
      "Epoch 42/120\n",
      "185/185 [==============================] - 23s 126ms/step - loss: 0.0226 - accuracy: 0.1702\n",
      "Epoch 43/120\n",
      "185/185 [==============================] - 23s 126ms/step - loss: 0.0214 - accuracy: 0.1705\n",
      "Epoch 44/120\n",
      "185/185 [==============================] - 23s 126ms/step - loss: 0.0217 - accuracy: 0.1702\n",
      "Epoch 45/120\n",
      "185/185 [==============================] - 23s 126ms/step - loss: 0.0200 - accuracy: 0.1707\n",
      "Epoch 46/120\n",
      "185/185 [==============================] - 23s 126ms/step - loss: 0.0197 - accuracy: 0.1707\n",
      "Epoch 47/120\n",
      "185/185 [==============================] - 23s 125ms/step - loss: 0.0192 - accuracy: 0.1707\n",
      "Epoch 48/120\n",
      "185/185 [==============================] - 23s 125ms/step - loss: 0.0193 - accuracy: 0.1707\n",
      "Epoch 49/120\n",
      "185/185 [==============================] - 23s 126ms/step - loss: 0.0190 - accuracy: 0.1708\n",
      "Epoch 50/120\n",
      "185/185 [==============================] - 23s 126ms/step - loss: 0.0192 - accuracy: 0.1707\n",
      "Epoch 51/120\n",
      "185/185 [==============================] - 23s 125ms/step - loss: 0.0192 - accuracy: 0.1705\n",
      "Epoch 52/120\n",
      "185/185 [==============================] - 23s 126ms/step - loss: 0.0183 - accuracy: 0.1709\n",
      "Epoch 53/120\n",
      "185/185 [==============================] - 23s 126ms/step - loss: 0.0178 - accuracy: 0.1709\n",
      "Epoch 54/120\n",
      "185/185 [==============================] - 23s 126ms/step - loss: 0.0178 - accuracy: 0.1709\n",
      "Epoch 55/120\n",
      "185/185 [==============================] - 23s 126ms/step - loss: 0.0180 - accuracy: 0.1709\n",
      "Epoch 56/120\n",
      "185/185 [==============================] - 23s 126ms/step - loss: 0.0177 - accuracy: 0.1709\n",
      "Epoch 57/120\n",
      "185/185 [==============================] - 23s 125ms/step - loss: 0.0160 - accuracy: 0.1714\n",
      "Epoch 58/120\n",
      "185/185 [==============================] - 23s 126ms/step - loss: 0.0150 - accuracy: 0.1714\n",
      "Epoch 59/120\n",
      "185/185 [==============================] - 23s 126ms/step - loss: 0.0147 - accuracy: 0.1716\n",
      "Epoch 60/120\n",
      "185/185 [==============================] - 23s 126ms/step - loss: 0.0140 - accuracy: 0.1717\n",
      "Epoch 61/120\n",
      "185/185 [==============================] - 23s 126ms/step - loss: 0.0132 - accuracy: 0.1720\n",
      "Epoch 62/120\n",
      "185/185 [==============================] - 23s 126ms/step - loss: 0.0129 - accuracy: 0.1722\n",
      "Epoch 63/120\n",
      "185/185 [==============================] - 23s 126ms/step - loss: 0.0126 - accuracy: 0.1721\n",
      "Epoch 64/120\n",
      "185/185 [==============================] - 23s 126ms/step - loss: 0.0123 - accuracy: 0.1722\n",
      "Epoch 65/120\n",
      "185/185 [==============================] - 23s 126ms/step - loss: 0.0112 - accuracy: 0.1725\n",
      "Epoch 66/120\n",
      "185/185 [==============================] - 23s 126ms/step - loss: 0.0107 - accuracy: 0.1727\n",
      "Epoch 67/120\n",
      "185/185 [==============================] - 23s 126ms/step - loss: 0.0106 - accuracy: 0.1727\n",
      "Epoch 68/120\n",
      "185/185 [==============================] - 23s 126ms/step - loss: 0.0105 - accuracy: 0.1728\n",
      "Epoch 69/120\n",
      "185/185 [==============================] - 23s 126ms/step - loss: 0.0101 - accuracy: 0.1728\n",
      "Epoch 70/120\n",
      "185/185 [==============================] - 23s 126ms/step - loss: 0.0093 - accuracy: 0.1731\n",
      "Epoch 71/120\n",
      "185/185 [==============================] - 23s 126ms/step - loss: 0.0094 - accuracy: 0.1730\n",
      "Epoch 72/120\n",
      "185/185 [==============================] - 23s 126ms/step - loss: 0.0088 - accuracy: 0.1731\n",
      "Epoch 73/120\n",
      "185/185 [==============================] - 23s 126ms/step - loss: 0.0086 - accuracy: 0.1731\n",
      "Epoch 74/120\n",
      "185/185 [==============================] - 23s 126ms/step - loss: 0.0085 - accuracy: 0.1732\n",
      "Epoch 75/120\n",
      "185/185 [==============================] - 23s 126ms/step - loss: 0.0083 - accuracy: 0.1733\n",
      "Epoch 76/120\n",
      "185/185 [==============================] - 23s 126ms/step - loss: 0.0077 - accuracy: 0.1734\n",
      "Epoch 77/120\n",
      "185/185 [==============================] - 23s 125ms/step - loss: 0.0079 - accuracy: 0.1733\n",
      "Epoch 78/120\n",
      "185/185 [==============================] - 23s 126ms/step - loss: 0.0076 - accuracy: 0.1734\n",
      "Epoch 79/120\n"
     ]
    },
    {
     "name": "stdout",
     "output_type": "stream",
     "text": [
      "185/185 [==============================] - 23s 125ms/step - loss: 0.0075 - accuracy: 0.1734\n",
      "Epoch 80/120\n",
      "185/185 [==============================] - 23s 125ms/step - loss: 0.0073 - accuracy: 0.1735\n",
      "Epoch 81/120\n",
      "185/185 [==============================] - 23s 126ms/step - loss: 0.0066 - accuracy: 0.1737\n",
      "Epoch 82/120\n",
      "185/185 [==============================] - 23s 126ms/step - loss: 0.0067 - accuracy: 0.1737\n",
      "Epoch 83/120\n",
      "185/185 [==============================] - 23s 125ms/step - loss: 0.0065 - accuracy: 0.1738\n",
      "Epoch 84/120\n",
      "185/185 [==============================] - 23s 126ms/step - loss: 0.0064 - accuracy: 0.1737\n",
      "Epoch 85/120\n",
      "185/185 [==============================] - 23s 125ms/step - loss: 0.0061 - accuracy: 0.1738\n",
      "Epoch 86/120\n",
      "185/185 [==============================] - 23s 126ms/step - loss: 0.0060 - accuracy: 0.1738\n",
      "Epoch 87/120\n",
      "185/185 [==============================] - 23s 126ms/step - loss: 0.0063 - accuracy: 0.1738\n",
      "Epoch 88/120\n",
      "185/185 [==============================] - 23s 125ms/step - loss: 0.0058 - accuracy: 0.1739\n",
      "Epoch 89/120\n",
      "185/185 [==============================] - 23s 125ms/step - loss: 0.0058 - accuracy: 0.1738\n",
      "Epoch 90/120\n",
      "185/185 [==============================] - 23s 125ms/step - loss: 0.0060 - accuracy: 0.1738\n",
      "Epoch 91/120\n",
      "185/185 [==============================] - 23s 126ms/step - loss: 0.0058 - accuracy: 0.1738\n",
      "Epoch 92/120\n",
      "185/185 [==============================] - 23s 125ms/step - loss: 0.0056 - accuracy: 0.1739\n",
      "Epoch 93/120\n",
      "185/185 [==============================] - 23s 125ms/step - loss: 0.0055 - accuracy: 0.1739\n"
     ]
    }
   ],
   "source": [
    "# train model\n",
    "\n",
    "early_stopping = EarlyStopping(monitor='accuracy', patience=5)\n",
    "EPOCHS = 120\n",
    "history = model.fit(dataset, epochs=EPOCHS, verbose=1, callbacks=[early_stopping])"
   ]
  },
  {
   "cell_type": "code",
   "execution_count": 36,
   "id": "2dc5ff98",
   "metadata": {},
   "outputs": [
    {
     "data": {
      "image/png": "[encoded data removed]",
      "text/plain": [
       "<Figure size 720x720 with 1 Axes>"
      ]
     },
     "metadata": {
      "needs_background": "light"
     },
     "output_type": "display_data"
    },
    {
     "data": {
      "image/png": "[encoded data removed]",
      "text/plain": [
       "<Figure size 720x720 with 1 Axes>"
      ]
     },
     "metadata": {
      "needs_background": "light"
     },
     "output_type": "display_data"
    }
   ],
   "source": [
    "# plot model loss and accuracy\n",
    "plt.figure(figsize=(10, 10))\n",
    "plt.plot(history.history['loss'],label='train')\n",
    "plt.title('Loss graph')\n",
    "plt.legend()\n",
    "plt.show()\n",
    "\n",
    "plt.figure(figsize=(10, 10))\n",
    "plt.plot(history.history['accuracy'],label='train')\n",
    "plt.title('Accuracy graph')\n",
    "plt.legend()\n",
    "plt.show()"
   ]
  },
  {
   "cell_type": "markdown",
   "id": "c9ffcfb2",
   "metadata": {},
   "source": [
    "# 챗봇 테스트하기"
   ]
  },
  {
   "cell_type": "code",
   "execution_count": 37,
   "id": "51e803ce",
   "metadata": {},
   "outputs": [],
   "source": [
    "# inference normally has below steps:\n",
    "# 1. same regex process with newly inputted sentence\n",
    "# 2. tokenize input sentence and add start token and end token\n",
    "# 3. compute padding masking and look ahead masking\n",
    "# 4. decoder predicts next word from input seq\n",
    "# 5. decoder adds predicted word to the former input seq and use it as next/new input\n",
    "# 6. when reached maximum set length of end token, decoder stops\n",
    "\n",
    "# create decoder_inference() function including above steps\n",
    "\n",
    "def decoder_inference(sentence):\n",
    "    sentence = preprocess_sentence(sentence)\n",
    "\n",
    "    # change input sentence to int encoding and add start and end token\n",
    "    # ex) Where have you been? → [[8331   86   30    5 1059    7 8332]]\n",
    "    sentence = tf.expand_dims(\n",
    "        START_TOKEN + tokenizer.encode(sentence) + END_TOKEN, axis=0)\n",
    "\n",
    "    # continuously save predicted output sequence until current state\n",
    "    # nothing is predicted at the beginning, so only save start token ex) 8331\n",
    "    output_sequence = tf.expand_dims(START_TOKEN, 0)\n",
    "\n",
    "    # decoder's inference step\n",
    "    for i in range(MAX_LENGTH):\n",
    "        # repeate word prediction until decoder reaches max_length\n",
    "        predictions = model(inputs=[sentence, output_sequence], training=False)\n",
    "        predictions = predictions[:, -1:, :]\n",
    "\n",
    "        # current predicted word integer\n",
    "        predicted_id = tf.cast(tf.argmax(predictions, axis=-1), tf.int32)\n",
    "\n",
    "        # when predicted word is end token, end for loop\n",
    "        if tf.equal(predicted_id, END_TOKEN[0]):\n",
    "            break\n",
    "\n",
    "        # constantly add predicted words to the output_sequence\n",
    "        # this output_sequence becomes decoder's input\n",
    "        output_sequence = tf.concat([output_sequence, predicted_id], axis=-1)\n",
    "\n",
    "    return tf.squeeze(output_sequence, axis=0)"
   ]
  },
  {
   "cell_type": "code",
   "execution_count": 38,
   "id": "8d49f3b4",
   "metadata": {},
   "outputs": [],
   "source": [
    "# sentence generation function to call decoder_inference from random input sentence\n",
    "\n",
    "def sentence_generation(sentence):\n",
    "    # return predicted int seq by actioning input sentence with decoder\n",
    "    prediction = decoder_inference(sentence)\n",
    "\n",
    "    # change int seq back to txt seq\n",
    "    predicted_sentence = tokenizer.decode(\n",
    "        [i for i in prediction if i < tokenizer.vocab_size])\n",
    "\n",
    "    print('입력 : {}'.format(sentence))\n",
    "    print('출력 : {}'.format(predicted_sentence))\n",
    "\n",
    "    return predicted_sentence"
   ]
  },
  {
   "cell_type": "code",
   "execution_count": 39,
   "id": "c403f21f",
   "metadata": {},
   "outputs": [
    {
     "name": "stdout",
     "output_type": "stream",
     "text": [
      "입력 : 안녕?\n",
      "출력 : 안녕하세요 .\n"
     ]
    },
    {
     "data": {
      "text/plain": [
       "'안녕하세요 .'"
      ]
     },
     "execution_count": 39,
     "metadata": {},
     "output_type": "execute_result"
    }
   ],
   "source": [
    "# receive answers from chatbots with inputting arbitrary sentence\n",
    "sentence_generation('안녕?')"
   ]
  },
  {
   "cell_type": "code",
   "execution_count": 40,
   "id": "367c613c",
   "metadata": {},
   "outputs": [
    {
     "name": "stdout",
     "output_type": "stream",
     "text": [
      "입력 : 밥 먹었니?\n",
      "출력 : 배고프지 않아요 .\n"
     ]
    },
    {
     "data": {
      "text/plain": [
       "'배고프지 않아요 .'"
      ]
     },
     "execution_count": 40,
     "metadata": {},
     "output_type": "execute_result"
    }
   ],
   "source": [
    "sentence_generation(\"밥 먹었니?\")"
   ]
  },
  {
   "cell_type": "code",
   "execution_count": 41,
   "id": "24695185",
   "metadata": {},
   "outputs": [
    {
     "name": "stdout",
     "output_type": "stream",
     "text": [
      "입력 : 내년 한국 경제 전망은 어떨 것 같니?\n",
      "출력 : 정확한건 당사자만 알 거예요 .\n"
     ]
    },
    {
     "data": {
      "text/plain": [
       "'정확한건 당사자만 알 거예요 .'"
      ]
     },
     "execution_count": 41,
     "metadata": {},
     "output_type": "execute_result"
    }
   ],
   "source": [
    "sentence_generation('내년 한국 경제 전망은 어떨 것 같니?')"
   ]
  },
  {
   "cell_type": "code",
   "execution_count": 42,
   "id": "1c9eee24",
   "metadata": {},
   "outputs": [
    {
     "name": "stdout",
     "output_type": "stream",
     "text": [
      "입력 : 비트코인 사놨니?\n",
      "출력 : 안타깝지만 잊어버리세요 .\n"
     ]
    },
    {
     "data": {
      "text/plain": [
       "'안타깝지만 잊어버리세요 .'"
      ]
     },
     "execution_count": 42,
     "metadata": {},
     "output_type": "execute_result"
    }
   ],
   "source": [
    "sentence_generation('비트코인 사놨니?')"
   ]
  },
  {
   "cell_type": "code",
   "execution_count": 43,
   "id": "35faa9df",
   "metadata": {},
   "outputs": [
    {
     "name": "stdout",
     "output_type": "stream",
     "text": [
      "입력 : 사회주의에 대한 너의 생각을 알려줘.\n",
      "출력 : 대하는 태도에 따라 다를 것 같아요 .\n"
     ]
    },
    {
     "data": {
      "text/plain": [
       "'대하는 태도에 따라 다를 것 같아요 .'"
      ]
     },
     "execution_count": 43,
     "metadata": {},
     "output_type": "execute_result"
    }
   ],
   "source": [
    "sentence_generation('사회주의에 대한 너의 생각을 알려줘.')"
   ]
  },
  {
   "attachments": {
    "image-2.png": {
     "image/png": "[encoded data removed]"
    }
   },
   "cell_type": "markdown",
   "id": "5615ab2d",
   "metadata": {},
   "source": [
    "# 회고\n",
    "\n",
    "1회차\n",
    "- 노드에 파일을 불러오고, regex를 하고, 알아서 questions와 answers로 나눠주는 함수가 있었는데 인덱스 에러가 났다.\n",
    "    - 인덱스를 맞춰서 고쳤더니 아무 문장도 할당 되지 않았다.\n",
    "    - 데이터프레임으로 파일을 불러온 후, regex 진행 및 questions와 answer로 할당해 주었다.\n",
    "- 코드 구현을 다 진행한 후 첫번째 실험의 결과가 나왔다.\n",
    "\n",
    "![image-2.png](attachment:image-2.png)\n",
    "\n",
    "- 실제 챗봇의 대답이 잘 나온것을 확인할 수 있었다.\n",
    "    - 간단한 질문은 잘 대답을 해주었다.\n",
    "    - 다만 학습을 진행할 때, 정확도가 16%까지만 올라가는 것을 볼수가 있었다.\n",
    "    - 다음 회차에서는 정확성을 높이는 방안을 생각해 보기로 하였다.\n",
    "    \n",
    "2회차\n",
    "- 정확성을 높이는 방법으로 학습률 및 hyper parameter를 변경하는 방안을 적용시키기로 했다.\n",
    "    - 먼저 층의 수를 2에서 3으로 조절해주었다.\n",
    "    - 좀 더 다양한 대답을 하였지만 크게 개선된 느낌은 아니었다.\n",
    "    - D_MODEL을 256에서 512로, DROPOUT을 0.1에서 0.2로 바꿔주고 진행해 보았다.\n",
    "- 정확도가 18%에 도착하지 않아서 다른 방법이 필요할 것 같다.\n",
    "    - warm_up steps를 4000에서 10000으로 바꿔봤다"
   ]
  },
  {
   "cell_type": "code",
   "execution_count": null,
   "id": "3a6d8b0c",
   "metadata": {},
   "outputs": [],
   "source": []
  }
 ],
 "metadata": {
  "kernelspec": {
   "display_name": "Python 3 (ipykernel)",
   "language": "python",
   "name": "python3"
  },
  "language_info": {
   "codemirror_mode": {
    "name": "ipython",
    "version": 3
   },
   "file_extension": ".py",
   "mimetype": "text/x-python",
   "name": "python",
   "nbconvert_exporter": "python",
   "pygments_lexer": "ipython3",
   "version": "3.9.7"
  }
 },
 "nbformat": 4,
 "nbformat_minor": 5
}
