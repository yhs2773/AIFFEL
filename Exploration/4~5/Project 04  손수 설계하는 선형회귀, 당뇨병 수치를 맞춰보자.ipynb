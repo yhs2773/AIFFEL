{
 "cells": [
  {
   "cell_type": "code",
   "execution_count": 76,
   "id": "9de2e8f0",
   "metadata": {},
   "outputs": [],
   "source": [
    "# import module from sklearn\n",
    "import numpy as np\n",
    "import pandas as pd\n",
    "import matplotlib.pyplot as plt\n",
    "\n",
    "from sklearn.datasets import load_diabetes\n",
    "from sklearn.model_selection import train_test_split\n",
    "\n",
    "diabetes = load_diabetes()"
   ]
  },
  {
   "cell_type": "code",
   "execution_count": 77,
   "id": "6511281d",
   "metadata": {},
   "outputs": [
    {
     "data": {
      "text/plain": [
       "['age', 'sex', 'bmi', 'bp', 's1', 's2', 's3', 's4', 's5', 's6']"
      ]
     },
     "execution_count": 77,
     "metadata": {},
     "output_type": "execute_result"
    }
   ],
   "source": [
    "diabetes.feature_names"
   ]
  },
  {
   "cell_type": "code",
   "execution_count": 78,
   "id": "513dcaae",
   "metadata": {},
   "outputs": [
    {
     "name": "stdout",
     "output_type": "stream",
     "text": [
      "(442, 10) (442,)\n"
     ]
    }
   ],
   "source": [
    "# assign data and label to variables\n",
    "df_x = diabetes.data\n",
    "df_y = diabetes.target\n",
    "print(df_x.shape, df_y.shape)"
   ]
  },
  {
   "cell_type": "code",
   "execution_count": 79,
   "id": "2059d4a0",
   "metadata": {},
   "outputs": [],
   "source": [
    "X = np.array(df_x)\n",
    "y = np.array(df_y)"
   ]
  },
  {
   "cell_type": "code",
   "execution_count": 80,
   "id": "012878be",
   "metadata": {
    "scrolled": true
   },
   "outputs": [
    {
     "name": "stdout",
     "output_type": "stream",
     "text": [
      "(353, 10) (89, 10) (353,) (89,)\n"
     ]
    }
   ],
   "source": [
    "# split data into train and test sets\n",
    "X_train, X_test, y_train, y_test = train_test_split(X, y, test_size=0.2, random_state=23)\n",
    "\n",
    "print(X_train.shape, X_test.shape, y_train.shape, y_test.shape)"
   ]
  },
  {
   "cell_type": "code",
   "execution_count": 81,
   "id": "d667ffd7",
   "metadata": {},
   "outputs": [],
   "source": [
    "# looking at shape, X has 10 features/columns and W should follow the same\n",
    "W = np.random.rand(10)\n",
    "b = np.random.rand()"
   ]
  },
  {
   "cell_type": "code",
   "execution_count": 90,
   "id": "9a6deac7",
   "metadata": {},
   "outputs": [],
   "source": [
    "def model(X, W, b):\n",
    "    predictions = 0\n",
    "    for i in range(10):\n",
    "        predictions += X[:, i] * W[i]\n",
    "    predictions += b\n",
    "    return predictions\n",
    "\n",
    "def mse(a, b):\n",
    "    mse = ((a - b) ** 2).mean()\n",
    "    return mse\n",
    "\n",
    "def loss(X, W, b, y):\n",
    "    predictions = model(X, W, b)\n",
    "    L = mse(predictions, y)\n",
    "    return L\n",
    "\n",
    "def gradient(X, W, b, y):\n",
    "    # N은 가중치의 개수\n",
    "    N = len(W)\n",
    "    \n",
    "    # y_pred 준비\n",
    "    y_pred = model(X, W, b)\n",
    "    \n",
    "    # 공식에 맞게 gradient 계산\n",
    "    dW = 1/N * 2 * X.T.dot(y_pred - y)\n",
    "        \n",
    "    # b의 gradient 계산\n",
    "    db = 2 * (y_pred - y).mean()\n",
    "    return dW, db"
   ]
  },
  {
   "cell_type": "code",
   "execution_count": 99,
   "id": "4ca94579",
   "metadata": {},
   "outputs": [
    {
     "name": "stdout",
     "output_type": "stream",
     "text": [
      "Iteration 10 : Loss 3341.0640\n",
      "Iteration 20 : Loss 3340.8668\n",
      "Iteration 30 : Loss 3340.6697\n",
      "Iteration 40 : Loss 3340.4727\n",
      "Iteration 50 : Loss 3340.2758\n",
      "Iteration 60 : Loss 3340.0790\n",
      "Iteration 70 : Loss 3339.8824\n",
      "Iteration 80 : Loss 3339.6859\n",
      "Iteration 90 : Loss 3339.4895\n",
      "Iteration 100 : Loss 3339.2932\n",
      "Iteration 110 : Loss 3339.0970\n",
      "Iteration 120 : Loss 3338.9009\n",
      "Iteration 130 : Loss 3338.7050\n",
      "Iteration 140 : Loss 3338.5092\n",
      "Iteration 150 : Loss 3338.3134\n",
      "Iteration 160 : Loss 3338.1178\n",
      "Iteration 170 : Loss 3337.9224\n",
      "Iteration 180 : Loss 3337.7270\n",
      "Iteration 190 : Loss 3337.5317\n",
      "Iteration 200 : Loss 3337.3366\n",
      "Iteration 210 : Loss 3337.1415\n",
      "Iteration 220 : Loss 3336.9466\n",
      "Iteration 230 : Loss 3336.7518\n",
      "Iteration 240 : Loss 3336.5571\n",
      "Iteration 250 : Loss 3336.3626\n",
      "Iteration 260 : Loss 3336.1681\n",
      "Iteration 270 : Loss 3335.9738\n",
      "Iteration 280 : Loss 3335.7795\n",
      "Iteration 290 : Loss 3335.5854\n",
      "Iteration 300 : Loss 3335.3914\n",
      "Iteration 310 : Loss 3335.1975\n",
      "Iteration 320 : Loss 3335.0038\n",
      "Iteration 330 : Loss 3334.8101\n",
      "Iteration 340 : Loss 3334.6165\n",
      "Iteration 350 : Loss 3334.4231\n",
      "Iteration 360 : Loss 3334.2298\n",
      "Iteration 370 : Loss 3334.0366\n",
      "Iteration 380 : Loss 3333.8435\n",
      "Iteration 390 : Loss 3333.6505\n",
      "Iteration 400 : Loss 3333.4576\n",
      "Iteration 410 : Loss 3333.2648\n",
      "Iteration 420 : Loss 3333.0722\n",
      "Iteration 430 : Loss 3332.8797\n",
      "Iteration 440 : Loss 3332.6872\n",
      "Iteration 450 : Loss 3332.4949\n",
      "Iteration 460 : Loss 3332.3027\n",
      "Iteration 470 : Loss 3332.1106\n",
      "Iteration 480 : Loss 3331.9186\n",
      "Iteration 490 : Loss 3331.7268\n",
      "Iteration 500 : Loss 3331.5350\n",
      "Iteration 510 : Loss 3331.3434\n",
      "Iteration 520 : Loss 3331.1518\n",
      "Iteration 530 : Loss 3330.9604\n",
      "Iteration 540 : Loss 3330.7691\n",
      "Iteration 550 : Loss 3330.5779\n",
      "Iteration 560 : Loss 3330.3868\n",
      "Iteration 570 : Loss 3330.1958\n",
      "Iteration 580 : Loss 3330.0050\n",
      "Iteration 590 : Loss 3329.8142\n",
      "Iteration 600 : Loss 3329.6236\n",
      "Iteration 610 : Loss 3329.4330\n",
      "Iteration 620 : Loss 3329.2426\n",
      "Iteration 630 : Loss 3329.0523\n",
      "Iteration 640 : Loss 3328.8621\n",
      "Iteration 650 : Loss 3328.6720\n",
      "Iteration 660 : Loss 3328.4820\n",
      "Iteration 670 : Loss 3328.2921\n",
      "Iteration 680 : Loss 3328.1024\n",
      "Iteration 690 : Loss 3327.9127\n",
      "Iteration 700 : Loss 3327.7232\n",
      "Iteration 710 : Loss 3327.5337\n",
      "Iteration 720 : Loss 3327.3444\n",
      "Iteration 730 : Loss 3327.1552\n",
      "Iteration 740 : Loss 3326.9660\n",
      "Iteration 750 : Loss 3326.7770\n",
      "Iteration 760 : Loss 3326.5881\n",
      "Iteration 770 : Loss 3326.3994\n",
      "Iteration 780 : Loss 3326.2107\n",
      "Iteration 790 : Loss 3326.0221\n",
      "Iteration 800 : Loss 3325.8337\n",
      "Iteration 810 : Loss 3325.6453\n",
      "Iteration 820 : Loss 3325.4571\n",
      "Iteration 830 : Loss 3325.2689\n",
      "Iteration 840 : Loss 3325.0809\n",
      "Iteration 850 : Loss 3324.8930\n",
      "Iteration 860 : Loss 3324.7052\n",
      "Iteration 870 : Loss 3324.5175\n",
      "Iteration 880 : Loss 3324.3299\n",
      "Iteration 890 : Loss 3324.1424\n",
      "Iteration 900 : Loss 3323.9550\n",
      "Iteration 910 : Loss 3323.7677\n",
      "Iteration 920 : Loss 3323.5806\n",
      "Iteration 930 : Loss 3323.3935\n",
      "Iteration 940 : Loss 3323.2065\n",
      "Iteration 950 : Loss 3323.0197\n",
      "Iteration 960 : Loss 3322.8330\n",
      "Iteration 970 : Loss 3322.6463\n",
      "Iteration 980 : Loss 3322.4598\n",
      "Iteration 990 : Loss 3322.2734\n",
      "Iteration 1000 : Loss 3322.0871\n"
     ]
    }
   ],
   "source": [
    "learning_rate = 0.0001\n",
    "\n",
    "losses = []\n",
    "\n",
    "for i in range(1, 1001):\n",
    "    dW, db = gradient(X_train, W, b, y_train)\n",
    "    W -= learning_rate * dW # W = W - learning rate * dw\n",
    "    b -= learning_rate * db # b = b - learning rate * db\n",
    "    L = loss(X_train, W, b, y_train)\n",
    "    losses.append(L)\n",
    "    if i % 10 == 0:\n",
    "        print('Iteration %d : Loss %0.4f' % (i, L))"
   ]
  },
  {
   "cell_type": "code",
   "execution_count": 100,
   "id": "82207d61",
   "metadata": {},
   "outputs": [
    {
     "data": {
      "image/png": "[encoded data removed]",
      "text/plain": [
       "<Figure size 432x288 with 1 Axes>"
      ]
     },
     "metadata": {
      "needs_background": "light"
     },
     "output_type": "display_data"
    }
   ],
   "source": [
    "plt.plot(losses)\n",
    "plt.show()"
   ]
  },
  {
   "cell_type": "code",
   "execution_count": 85,
   "id": "246537ac",
   "metadata": {},
   "outputs": [
    {
     "name": "stdout",
     "output_type": "stream",
     "text": [
      "[ 2.18415143  0.66376371 12.94362253  9.51273638  5.63482625  4.65480595\n",
      " -6.50527553  8.40943781 11.44683689  7.40385381] 27.39484680439519\n"
     ]
    }
   ],
   "source": [
    "print(W, b)"
   ]
  },
  {
   "cell_type": "code",
   "execution_count": 88,
   "id": "a5049410",
   "metadata": {},
   "outputs": [
    {
     "data": {
      "text/plain": [
       "5334.27629536224"
      ]
     },
     "execution_count": 88,
     "metadata": {},
     "output_type": "execute_result"
    }
   ],
   "source": [
    "prediction = model(X_test, W, b)\n",
    "mse = loss(X_test, W, b, y_test)\n",
    "mse"
   ]
  },
  {
   "cell_type": "code",
   "execution_count": null,
   "id": "e6fd0fb5",
   "metadata": {},
   "outputs": [],
   "source": []
  }
 ],
 "metadata": {
  "kernelspec": {
   "display_name": "Python 3 (ipykernel)",
   "language": "python",
   "name": "python3"
  },
  "language_info": {
   "codemirror_mode": {
    "name": "ipython",
    "version": 3
   },
   "file_extension": ".py",
   "mimetype": "text/x-python",
   "name": "python",
   "nbconvert_exporter": "python",
   "pygments_lexer": "ipython3",
   "version": "3.9.7"
  }
 },
 "nbformat": 4,
 "nbformat_minor": 5
}
