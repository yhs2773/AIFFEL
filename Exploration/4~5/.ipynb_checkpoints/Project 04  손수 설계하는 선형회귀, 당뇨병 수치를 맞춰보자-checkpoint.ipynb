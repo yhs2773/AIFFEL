{
 "cells": [
  {
   "cell_type": "code",
   "execution_count": 1,
   "id": "c5a6671c",
   "metadata": {},
   "outputs": [],
   "source": [
    "# import module from sklearn\n",
    "import numpy as np\n",
    "import pandas as pd\n",
    "import matplotlib.pyplot as plt\n",
    "\n",
    "from sklearn.datasets import load_diabetes\n",
    "from sklearn.model_selection import train_test_split\n",
    "\n",
    "diabetes = load_diabetes()"
   ]
  },
  {
   "cell_type": "code",
   "execution_count": 2,
   "id": "6e0f01c5",
   "metadata": {},
   "outputs": [
    {
     "data": {
      "text/plain": [
       "['age', 'sex', 'bmi', 'bp', 's1', 's2', 's3', 's4', 's5', 's6']"
      ]
     },
     "execution_count": 2,
     "metadata": {},
     "output_type": "execute_result"
    }
   ],
   "source": [
    "diabetes.feature_names"
   ]
  },
  {
   "cell_type": "code",
   "execution_count": 3,
   "id": "410bdbb7",
   "metadata": {},
   "outputs": [
    {
     "name": "stdout",
     "output_type": "stream",
     "text": [
      "(442, 10) (442,)\n"
     ]
    }
   ],
   "source": [
    "# assign data and label to variables\n",
    "df_x = diabetes.data\n",
    "df_y = diabetes.target\n",
    "print(df_x.shape, df_y.shape)"
   ]
  },
  {
   "cell_type": "code",
   "execution_count": 4,
   "id": "e881f223",
   "metadata": {},
   "outputs": [],
   "source": [
    "X = np.array(df_x)\n",
    "y = np.array(df_y)"
   ]
  },
  {
   "cell_type": "code",
   "execution_count": 5,
   "id": "0f9c1340",
   "metadata": {
    "scrolled": true
   },
   "outputs": [
    {
     "name": "stdout",
     "output_type": "stream",
     "text": [
      "(353, 10) (89, 10) (353,) (89,)\n"
     ]
    }
   ],
   "source": [
    "# split data into train and test sets\n",
    "X_train, X_test, y_train, y_test = train_test_split(X, y, test_size=0.2, random_state=23)\n",
    "\n",
    "print(X_train.shape, X_test.shape, y_train.shape, y_test.shape)"
   ]
  },
  {
   "cell_type": "code",
   "execution_count": 6,
   "id": "c6fc7e3a",
   "metadata": {},
   "outputs": [],
   "source": [
    "# looking at shape, X has 10 features/columns and W should follow the same\n",
    "W = np.random.rand(10)\n",
    "b = np.random.rand()"
   ]
  },
  {
   "cell_type": "code",
   "execution_count": 7,
   "id": "59f45b13",
   "metadata": {},
   "outputs": [],
   "source": [
    "def model(X, W, b):\n",
    "    predictions = 0\n",
    "    for i in range(10):\n",
    "        predictions += X[:, i] * W[i]\n",
    "    predictions += b\n",
    "    return predictions\n",
    "\n",
    "def mse(a, b):\n",
    "    mse = ((a - b) ** 2).mean()\n",
    "    return mse\n",
    "\n",
    "def loss(X, W, b, y):\n",
    "    predictions = model(X, W, b)\n",
    "    L = mse(predictions, y)\n",
    "    return L\n",
    "\n",
    "def gradient(X, W, b, y):\n",
    "    # N은 가중치의 개수\n",
    "    N = len(W)\n",
    "    \n",
    "    # y_pred 준비\n",
    "    y_pred = model(X, W, b)\n",
    "    \n",
    "    # 공식에 맞게 gradient 계산\n",
    "    dW = 1/N * 2 * X.T.dot(y_pred - y)\n",
    "        \n",
    "    # b의 gradient 계산\n",
    "    db = 2 * (y_pred - y).mean()\n",
    "    return dW, db"
   ]
  },
  {
   "cell_type": "code",
   "execution_count": 8,
   "id": "a088552c",
   "metadata": {},
   "outputs": [
    {
     "name": "stdout",
     "output_type": "stream",
     "text": [
      "dW: [ -60.47103636  -13.66693492 -189.53993898 -142.55894505  -68.27223201\n",
      "  -56.00492849  127.6426825  -138.99228517 -182.84921097 -123.48350973]\n",
      "db: -303.59441964118474\n"
     ]
    }
   ],
   "source": [
    "dW, db = gradient(X, W, b, y)\n",
    "print(\"dW:\", dW)\n",
    "print(\"db:\", db)"
   ]
  },
  {
   "cell_type": "code",
   "execution_count": 9,
   "id": "2ee4a121",
   "metadata": {},
   "outputs": [
    {
     "name": "stdout",
     "output_type": "stream",
     "text": [
      "Iteration 100 : Loss 20237.5953\n",
      "Iteration 200 : Loss 15250.7552\n",
      "Iteration 300 : Loss 11852.2493\n",
      "Iteration 400 : Loss 9523.2367\n",
      "Iteration 500 : Loss 7915.6758\n",
      "Iteration 600 : Loss 6795.9493\n",
      "Iteration 700 : Loss 6007.1139\n",
      "Iteration 800 : Loss 5443.6200\n",
      "Iteration 900 : Loss 5034.3797\n",
      "Iteration 1000 : Loss 4731.4259\n",
      "Iteration 1100 : Loss 4502.3129\n",
      "Iteration 1200 : Loss 4325.0252\n",
      "Iteration 1300 : Loss 4184.5636\n",
      "Iteration 1400 : Loss 4070.6564\n",
      "Iteration 1500 : Loss 3976.2229\n",
      "Iteration 1600 : Loss 3896.3425\n",
      "Iteration 1700 : Loss 3827.5614\n",
      "Iteration 1800 : Loss 3767.4256\n",
      "Iteration 1900 : Loss 3714.1672\n",
      "Iteration 2000 : Loss 3666.4911\n",
      "Iteration 2100 : Loss 3623.4320\n",
      "Iteration 2200 : Loss 3584.2562\n",
      "Iteration 2300 : Loss 3548.3948\n",
      "Iteration 2400 : Loss 3515.3980\n",
      "Iteration 2500 : Loss 3484.9034\n",
      "Iteration 2600 : Loss 3456.6138\n",
      "Iteration 2700 : Loss 3430.2816\n",
      "Iteration 2800 : Loss 3405.6981\n",
      "Iteration 2900 : Loss 3382.6846\n",
      "Iteration 3000 : Loss 3361.0874\n",
      "Iteration 3100 : Loss 3340.7726\n",
      "Iteration 3200 : Loss 3321.6232\n",
      "Iteration 3300 : Loss 3303.5361\n",
      "Iteration 3400 : Loss 3286.4202\n",
      "Iteration 3500 : Loss 3270.1948\n",
      "Iteration 3600 : Loss 3254.7879\n",
      "Iteration 3700 : Loss 3240.1353\n",
      "Iteration 3800 : Loss 3226.1796\n",
      "Iteration 3900 : Loss 3212.8691\n",
      "Iteration 4000 : Loss 3200.1576\n",
      "Iteration 4100 : Loss 3188.0033\n",
      "Iteration 4200 : Loss 3176.3684\n",
      "Iteration 4300 : Loss 3165.2190\n",
      "Iteration 4400 : Loss 3154.5240\n",
      "Iteration 4500 : Loss 3144.2555\n",
      "Iteration 4600 : Loss 3134.3879\n",
      "Iteration 4700 : Loss 3124.8979\n",
      "Iteration 4800 : Loss 3115.7642\n",
      "Iteration 4900 : Loss 3106.9673\n",
      "Iteration 5000 : Loss 3098.4894\n"
     ]
    }
   ],
   "source": [
    "learning_rate = 0.001\n",
    "\n",
    "losses = []\n",
    "\n",
    "for i in range(1, 5001):\n",
    "    dW, db = gradient(X_train, W, b, y_train)\n",
    "    W -= learning_rate * dW # W = W - learning rate * dw\n",
    "    b -= learning_rate * db # b = b - learning rate * db\n",
    "    L = loss(X_train, W, b, y_train)\n",
    "    losses.append(L)\n",
    "    if i % 100 == 0:\n",
    "        print('Iteration %d : Loss %0.4f' % (i, L))"
   ]
  },
  {
   "cell_type": "code",
   "execution_count": 10,
   "id": "824e0925",
   "metadata": {},
   "outputs": [
    {
     "data": {
      "image/png": "[encoded data removed]",
      "text/plain": [
       "<Figure size 432x288 with 1 Axes>"
      ]
     },
     "metadata": {
      "needs_background": "light"
     },
     "output_type": "display_data"
    }
   ],
   "source": [
    "# visualizing iteration and loss function \n",
    "plt.plot(losses)\n",
    "plt.show()"
   ]
  },
  {
   "cell_type": "code",
   "execution_count": 11,
   "id": "60c6a7df",
   "metadata": {},
   "outputs": [
    {
     "name": "stdout",
     "output_type": "stream",
     "text": [
      "[  32.92417598  -95.06738836  331.71601374  215.53046876   24.17687733\n",
      "   -9.55731091 -182.25507709  156.18798943  299.490013    153.29625504] 150.91657404485883\n"
     ]
    }
   ],
   "source": [
    "print(W, b)"
   ]
  },
  {
   "cell_type": "code",
   "execution_count": 12,
   "id": "6ad9e876",
   "metadata": {},
   "outputs": [
    {
     "data": {
      "text/plain": [
       "3374.3348741816753"
      ]
     },
     "execution_count": 12,
     "metadata": {},
     "output_type": "execute_result"
    }
   ],
   "source": [
    "# testing a model with test data\n",
    "prediction = model(X_test, W, b)\n",
    "mse = loss(X_test, W, b, y_test)\n",
    "mse"
   ]
  },
  {
   "cell_type": "code",
   "execution_count": 13,
   "id": "f880a3aa",
   "metadata": {},
   "outputs": [
    {
     "data": {
      "image/png": "[encoded data removed]",
      "text/plain": [
       "<Figure size 432x288 with 1 Axes>"
      ]
     },
     "metadata": {
      "needs_background": "light"
     },
     "output_type": "display_data"
    }
   ],
   "source": [
    "# visualizing with scatter plot to see the predicted values and true vlaues in a same plot\n",
    "plt.scatter(X_test[:, 0], y_test, label='true')\n",
    "plt.scatter(X_test[:, 0], prediction, label='pred')\n",
    "plt.legend()\n",
    "plt.show()"
   ]
  },
  {
   "cell_type": "code",
   "execution_count": null,
   "id": "01172d0c",
   "metadata": {},
   "outputs": [],
   "source": []
  }
 ],
 "metadata": {
  "kernelspec": {
   "display_name": "Python 3 (ipykernel)",
   "language": "python",
   "name": "python3"
  },
  "language_info": {
   "codemirror_mode": {
    "name": "ipython",
    "version": 3
   },
   "file_extension": ".py",
   "mimetype": "text/x-python",
   "name": "python",
   "nbconvert_exporter": "python",
   "pygments_lexer": "ipython3",
   "version": "3.9.7"
  }
 },
 "nbformat": 4,
 "nbformat_minor": 5
}
