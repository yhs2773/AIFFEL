{
 "cells": [
  {
   "cell_type": "code",
   "execution_count": 1,
   "id": "a6a4ba88",
   "metadata": {},
   "outputs": [],
   "source": [
    "# import libraries\n",
    "import tensorflow as tf\n",
    "import numpy as np\n",
    "import matplotlib.pyplot as plt\n",
    "import glob\n",
    "import os\n",
    "import sklearn\n",
    "from sklearn.model_selection import train_test_split, KFold, StratifiedKFold\n",
    "from PIL import Image\n",
    "from tensorflow import keras"
   ]
  },
  {
   "cell_type": "code",
   "execution_count": 2,
   "id": "c31c737f",
   "metadata": {},
   "outputs": [
    {
     "name": "stdout",
     "output_type": "stream",
     "text": [
      "700  images to be resized.\n",
      "700  images resized.\n",
      "700  images to be resized.\n",
      "700  images resized.\n",
      "700  images to be resized.\n",
      "700  images resized.\n"
     ]
    }
   ],
   "source": [
    "# define function to easily resize given images\n",
    "def resize_images(img_path):\n",
    "    images=glob.glob(img_path + \"/*.jpg\") # file name to list, '*' for full text\n",
    "    \n",
    "    print(len(images), \" images to be resized.\")\n",
    "\n",
    "    # reshaping all images to 28x28 and then saving each one of them\n",
    "    target_size=(28, 28)\n",
    "    for img in images:\n",
    "        old_img=Image.open(img) # opening image\n",
    "        new_img=old_img.resize(target_size,Image.ANTIALIAS) # resizing\n",
    "        new_img.save(img, \"JPEG\") # saving image\n",
    "    \n",
    "    print(len(images), \" images resized.\")\n",
    "\n",
    "# loading and resizing all images in scissor folder\n",
    "image_dir_path = os.getenv(\"HOME\") + \"/aiffel/rock_scissor_paper/scissors\"\n",
    "resize_images(image_dir_path)\n",
    "\n",
    "# loading and resizing all images in rock folder\n",
    "image_dir_path = os.getenv('HOME') + '/aiffel/rock_scissor_paper/rock'\n",
    "resize_images(image_dir_path)\n",
    "\n",
    "# loading and resizing all images in rock folder\n",
    "image_dir_path = os.getenv('HOME') + \"/aiffel/rock_scissor_paper/paper\"\n",
    "resize_images(image_dir_path)"
   ]
  },
  {
   "cell_type": "code",
   "execution_count": 3,
   "id": "53daf306",
   "metadata": {},
   "outputs": [
    {
     "name": "stdout",
     "output_type": "stream",
     "text": [
      "학습데이터(x_train)의 이미지 개수는 2100 입니다.\n",
      "x_train shape: (2100, 28, 28, 3)\n",
      "y_train shape: (2100,)\n"
     ]
    }
   ],
   "source": [
    "# function to load all data as imgs and labels\n",
    "def load_data(img_path, number_of_data=2100):  # ensure to double check the num of data\n",
    "    img_size=28\n",
    "    color=3\n",
    "    # assigning imgs with zero only matrix of total params\n",
    "    # scissors : 0, rock : 1, paper : 2\n",
    "    \n",
    "    # 1-d zero matrix of all params, then reshaping to 4-d tensor\n",
    "    imgs=np.zeros(number_of_data*img_size*img_size*color,dtype=np.int32).reshape(number_of_data,img_size,img_size,color)\n",
    "    # zero matrix for target\n",
    "    labels=np.zeros(number_of_data,dtype=np.int32)\n",
    "\n",
    "    idx=0\n",
    "    for file in glob.iglob(img_path+'/scissors/*.jpg'):\n",
    "        img = np.array(Image.open(file),dtype=np.int32) # image data into np.array\n",
    "        imgs[idx,:,:,:]=img    # allocate img (array) to imgs index\n",
    "        labels[idx]=0   # scissors : 0\n",
    "        idx=idx+1\n",
    "\n",
    "    for file in glob.iglob(img_path+'/rock/*.jpg'):\n",
    "        img = np.array(Image.open(file),dtype=np.int32)\n",
    "        imgs[idx,:,:,:]=img    # allocate img (array) to imgs index\n",
    "        labels[idx]=1   # rock : 1\n",
    "        idx=idx+1  \n",
    "    \n",
    "    for file in glob.iglob(img_path+'/paper/*.jpg'):\n",
    "        img = np.array(Image.open(file),dtype=np.int32)\n",
    "        imgs[idx,:,:,:]=img    # allocate img (array) to imgs index\n",
    "        labels[idx]=2   # paper : 2\n",
    "        idx=idx+1\n",
    "        \n",
    "    print(\"학습데이터(x_train)의 이미지 개수는\", idx,\"입니다.\")\n",
    "    return imgs, labels\n",
    "\n",
    "image_dir_path = os.getenv(\"HOME\") + \"/aiffel/rock_scissor_paper\"\n",
    "(x_train, y_train) = load_data(image_dir_path) # unpacking imgs to x_train and labels to y_train\n",
    "\n",
    "print(\"x_train shape: {}\".format(x_train.shape))\n",
    "print(\"y_train shape: {}\".format(y_train.shape))"
   ]
  },
  {
   "cell_type": "code",
   "execution_count": 4,
   "id": "c1bc6508",
   "metadata": {},
   "outputs": [
    {
     "name": "stdout",
     "output_type": "stream",
     "text": [
      "라벨:  0\n"
     ]
    },
    {
     "data": {
      "image/png": "[encoded data removed]",
      "text/plain": [
       "<Figure size 432x288 with 1 Axes>"
      ]
     },
     "metadata": {
      "needs_background": "light"
     },
     "output_type": "display_data"
    }
   ],
   "source": [
    "# quick overview of the image\n",
    "plt.imshow(x_train[0])\n",
    "print('라벨: ', y_train[0])"
   ]
  },
  {
   "cell_type": "code",
   "execution_count": 5,
   "id": "3e118e1b",
   "metadata": {},
   "outputs": [
    {
     "name": "stdout",
     "output_type": "stream",
     "text": [
      "최소값: 0  최대값: 255\n",
      "최소값: 0  최대값: 255\n",
      "(1785, 28, 28, 3) (315, 28, 28, 3) (1785,) (315,)\n"
     ]
    }
   ],
   "source": [
    "# image and label loaded into x_train and y_train\n",
    "# thus splitting parts of them as test sets using sklearn train_test_split\n",
    "x_train, x_test, y_train, y_test = train_test_split(x_train, y_train, test_size=0.15, stratify=y_train)\n",
    "\n",
    "# x_train, x_val, y_train, y_val = train_test_split(x_train, y_train, test_size=0.15) # manually splitting train and val sets\n",
    "\n",
    "print('최소값:',np.min(x_train), ' 최대값:',np.max(x_train)) # check min max of train data\n",
    "print('최소값:',np.min(x_test), ' 최대값:',np.max(x_test)) # check min max of test data\n",
    "print(x_train.shape, x_test.shape, y_train.shape, y_test.shape)\n",
    "# print(x_train.shape, x_val.shape, x_test.shape, y_train.shape, y_val.shape, y_test.shape) # this is for manual train val split"
   ]
  },
  {
   "cell_type": "code",
   "execution_count": 6,
   "id": "c1d34030",
   "metadata": {
    "scrolled": true
   },
   "outputs": [
    {
     "name": "stdout",
     "output_type": "stream",
     "text": [
      "최소값: 0.0  최대값: 1.0\n"
     ]
    },
    {
     "data": {
      "text/plain": [
       "(1785, 28, 28, 3)"
      ]
     },
     "execution_count": 6,
     "metadata": {},
     "output_type": "execute_result"
    }
   ],
   "source": [
    "# normalizing train set\n",
    "x_train_norm = x_train / np.max(x_train) # divide by max num to normalize data\n",
    "print('최소값:',np.min(x_train_norm), ' 최대값:',np.max(x_train_norm)) # after normalizing\n",
    "x_train_norm.shape"
   ]
  },
  {
   "cell_type": "code",
   "execution_count": 7,
   "id": "3bf6f761",
   "metadata": {},
   "outputs": [],
   "source": [
    "# normalizing validation set\n",
    "# x_val_norm = x_val / np.max(x_val) # divide by max num to normalize data\n",
    "# print('최소값:',np.min(x_val_norm), ' 최대값:',np.max(x_val_norm)) # after normalizing\n",
    "# x_val_norm.shape"
   ]
  },
  {
   "cell_type": "code",
   "execution_count": 8,
   "id": "2075a98b",
   "metadata": {},
   "outputs": [
    {
     "name": "stdout",
     "output_type": "stream",
     "text": [
      "최소값: 0.0  최대값: 1.0\n"
     ]
    },
    {
     "data": {
      "text/plain": [
       "(315, 28, 28, 3)"
      ]
     },
     "execution_count": 8,
     "metadata": {},
     "output_type": "execute_result"
    }
   ],
   "source": [
    "# normalizing test set\n",
    "x_test_norm = x_test / np.max(x_test) # divide by max num to normalize data\n",
    "print('최소값:',np.min(x_test_norm), ' 최대값:',np.max(x_test_norm)) # after normalizing\n",
    "x_test_norm.shape"
   ]
  },
  {
   "cell_type": "code",
   "execution_count": 9,
   "id": "9ffaea92",
   "metadata": {},
   "outputs": [
    {
     "name": "stdout",
     "output_type": "stream",
     "text": [
      "Model에 추가된 Layer 개수:  7\n",
      "Model: \"sequential\"\n",
      "_________________________________________________________________\n",
      "Layer (type)                 Output Shape              Param #   \n",
      "=================================================================\n",
      "conv2d (Conv2D)              (None, 26, 26, 32)        896       \n",
      "_________________________________________________________________\n",
      "max_pooling2d (MaxPooling2D) (None, 13, 13, 32)        0         \n",
      "_________________________________________________________________\n",
      "conv2d_1 (Conv2D)            (None, 11, 11, 64)        18496     \n",
      "_________________________________________________________________\n",
      "max_pooling2d_1 (MaxPooling2 (None, 5, 5, 64)          0         \n",
      "_________________________________________________________________\n",
      "flatten (Flatten)            (None, 1600)              0         \n",
      "_________________________________________________________________\n",
      "dense (Dense)                (None, 64)                102464    \n",
      "_________________________________________________________________\n",
      "dense_1 (Dense)              (None, 3)                 195       \n",
      "=================================================================\n",
      "Total params: 122,051\n",
      "Trainable params: 122,051\n",
      "Non-trainable params: 0\n",
      "_________________________________________________________________\n"
     ]
    }
   ],
   "source": [
    "# constructing a model using keras\n",
    "model=keras.models.Sequential()\n",
    "model.add(keras.layers.Conv2D(32, (3,3), activation='relu', input_shape=(28,28,3)))\n",
    "model.add(keras.layers.MaxPool2D(2,2))\n",
    "model.add(keras.layers.Conv2D(64, (3,3), activation='relu'))\n",
    "model.add(keras.layers.MaxPooling2D((2,2)))\n",
    "model.add(keras.layers.Flatten())\n",
    "model.add(keras.layers.Dense(64, activation='relu'))\n",
    "model.add(keras.layers.Dense(3, activation='softmax'))\n",
    "\n",
    "print('Model에 추가된 Layer 개수: ', len(model.layers))\n",
    "\n",
    "model.summary()"
   ]
  },
  {
   "cell_type": "code",
   "execution_count": 10,
   "id": "4a41a3ed",
   "metadata": {},
   "outputs": [
    {
     "name": "stdout",
     "output_type": "stream",
     "text": [
      "Epoch 1/50\n",
      "48/48 [==============================] - 3s 9ms/step - loss: 1.1008 - accuracy: 0.3316 - val_loss: 1.0932 - val_accuracy: 0.3470\n",
      "Epoch 2/50\n",
      "48/48 [==============================] - 0s 4ms/step - loss: 1.0879 - accuracy: 0.4015 - val_loss: 1.0686 - val_accuracy: 0.4739\n",
      "Epoch 3/50\n",
      "48/48 [==============================] - 0s 4ms/step - loss: 1.0468 - accuracy: 0.4509 - val_loss: 1.0049 - val_accuracy: 0.5261\n",
      "Epoch 4/50\n",
      "48/48 [==============================] - 0s 4ms/step - loss: 1.0106 - accuracy: 0.5036 - val_loss: 0.9834 - val_accuracy: 0.5821\n",
      "Epoch 5/50\n",
      "48/48 [==============================] - 0s 4ms/step - loss: 0.9624 - accuracy: 0.5392 - val_loss: 0.9713 - val_accuracy: 0.5522\n",
      "Epoch 6/50\n",
      "48/48 [==============================] - 0s 4ms/step - loss: 0.9441 - accuracy: 0.5412 - val_loss: 0.9491 - val_accuracy: 0.5410\n",
      "Epoch 7/50\n",
      "48/48 [==============================] - 0s 4ms/step - loss: 0.8987 - accuracy: 0.5709 - val_loss: 0.8913 - val_accuracy: 0.5970\n",
      "Epoch 8/50\n",
      "48/48 [==============================] - 0s 4ms/step - loss: 0.8570 - accuracy: 0.6051 - val_loss: 0.9056 - val_accuracy: 0.5896\n",
      "Epoch 9/50\n",
      "48/48 [==============================] - 0s 4ms/step - loss: 0.8174 - accuracy: 0.6282 - val_loss: 0.8216 - val_accuracy: 0.6418\n",
      "Epoch 10/50\n",
      "48/48 [==============================] - 0s 4ms/step - loss: 0.7961 - accuracy: 0.6269 - val_loss: 0.8074 - val_accuracy: 0.6343\n",
      "Epoch 11/50\n",
      "48/48 [==============================] - 0s 4ms/step - loss: 0.7622 - accuracy: 0.6645 - val_loss: 0.8386 - val_accuracy: 0.6567\n",
      "Epoch 12/50\n",
      "48/48 [==============================] - 0s 4ms/step - loss: 0.7615 - accuracy: 0.6533 - val_loss: 0.7965 - val_accuracy: 0.6567\n",
      "Epoch 13/50\n",
      "48/48 [==============================] - 0s 4ms/step - loss: 0.7219 - accuracy: 0.6829 - val_loss: 0.7987 - val_accuracy: 0.6455\n",
      "Epoch 14/50\n",
      "48/48 [==============================] - 0s 4ms/step - loss: 0.6954 - accuracy: 0.6948 - val_loss: 0.7931 - val_accuracy: 0.7201\n",
      "Epoch 15/50\n",
      "48/48 [==============================] - 0s 4ms/step - loss: 0.6918 - accuracy: 0.7132 - val_loss: 0.7413 - val_accuracy: 0.6716\n",
      "Epoch 16/50\n",
      "48/48 [==============================] - 0s 4ms/step - loss: 0.6618 - accuracy: 0.7324 - val_loss: 0.7165 - val_accuracy: 0.6940\n",
      "Epoch 17/50\n",
      "48/48 [==============================] - 0s 4ms/step - loss: 0.6619 - accuracy: 0.7093 - val_loss: 0.7121 - val_accuracy: 0.7015\n",
      "Epoch 18/50\n",
      "48/48 [==============================] - 0s 4ms/step - loss: 0.6356 - accuracy: 0.7317 - val_loss: 0.6854 - val_accuracy: 0.6940\n",
      "Epoch 19/50\n",
      "48/48 [==============================] - 0s 4ms/step - loss: 0.6104 - accuracy: 0.7548 - val_loss: 0.6931 - val_accuracy: 0.7239\n",
      "Epoch 20/50\n",
      "48/48 [==============================] - 0s 4ms/step - loss: 0.5903 - accuracy: 0.7607 - val_loss: 0.6939 - val_accuracy: 0.6716\n",
      "Epoch 21/50\n",
      "48/48 [==============================] - 0s 4ms/step - loss: 0.5826 - accuracy: 0.7528 - val_loss: 0.6601 - val_accuracy: 0.7090\n",
      "Epoch 22/50\n",
      "48/48 [==============================] - 0s 4ms/step - loss: 0.5369 - accuracy: 0.7825 - val_loss: 0.6388 - val_accuracy: 0.7313\n",
      "Epoch 23/50\n",
      "48/48 [==============================] - 0s 4ms/step - loss: 0.5354 - accuracy: 0.7765 - val_loss: 0.6586 - val_accuracy: 0.7500\n",
      "Epoch 24/50\n",
      "48/48 [==============================] - 0s 4ms/step - loss: 0.5145 - accuracy: 0.7989 - val_loss: 0.5740 - val_accuracy: 0.7612\n",
      "Epoch 25/50\n",
      "48/48 [==============================] - 0s 4ms/step - loss: 0.5095 - accuracy: 0.7963 - val_loss: 0.6607 - val_accuracy: 0.7015\n",
      "Epoch 26/50\n",
      "48/48 [==============================] - 0s 4ms/step - loss: 0.4879 - accuracy: 0.8115 - val_loss: 0.6224 - val_accuracy: 0.7724\n",
      "Epoch 27/50\n",
      "48/48 [==============================] - 0s 4ms/step - loss: 0.4787 - accuracy: 0.8161 - val_loss: 0.7116 - val_accuracy: 0.6903\n",
      "Epoch 28/50\n",
      "48/48 [==============================] - 0s 4ms/step - loss: 0.4626 - accuracy: 0.8154 - val_loss: 0.7076 - val_accuracy: 0.7052\n",
      "Epoch 29/50\n",
      "48/48 [==============================] - 0s 4ms/step - loss: 0.4399 - accuracy: 0.8253 - val_loss: 0.5935 - val_accuracy: 0.7687\n",
      "Epoch 30/50\n",
      "48/48 [==============================] - 0s 4ms/step - loss: 0.4221 - accuracy: 0.8339 - val_loss: 0.5783 - val_accuracy: 0.7612\n",
      "Epoch 31/50\n",
      "48/48 [==============================] - 0s 4ms/step - loss: 0.4221 - accuracy: 0.8266 - val_loss: 0.6030 - val_accuracy: 0.7351\n",
      "Epoch 32/50\n",
      "48/48 [==============================] - 0s 4ms/step - loss: 0.3925 - accuracy: 0.8510 - val_loss: 0.5334 - val_accuracy: 0.8209\n",
      "Epoch 33/50\n",
      "48/48 [==============================] - 0s 4ms/step - loss: 0.3733 - accuracy: 0.8589 - val_loss: 0.5386 - val_accuracy: 0.7985\n",
      "Epoch 34/50\n",
      "48/48 [==============================] - 0s 4ms/step - loss: 0.3686 - accuracy: 0.8589 - val_loss: 0.5546 - val_accuracy: 0.7724\n",
      "Epoch 35/50\n",
      "48/48 [==============================] - 0s 4ms/step - loss: 0.3823 - accuracy: 0.8596 - val_loss: 0.5818 - val_accuracy: 0.7649\n",
      "Epoch 36/50\n",
      "48/48 [==============================] - 0s 4ms/step - loss: 0.3396 - accuracy: 0.8662 - val_loss: 0.4646 - val_accuracy: 0.8358\n",
      "Epoch 37/50\n",
      "48/48 [==============================] - 0s 4ms/step - loss: 0.3200 - accuracy: 0.8767 - val_loss: 0.4934 - val_accuracy: 0.8172\n",
      "Epoch 38/50\n",
      "48/48 [==============================] - 0s 4ms/step - loss: 0.3214 - accuracy: 0.8840 - val_loss: 0.4995 - val_accuracy: 0.8172\n",
      "Epoch 39/50\n",
      "48/48 [==============================] - 0s 4ms/step - loss: 0.3148 - accuracy: 0.8787 - val_loss: 0.5516 - val_accuracy: 0.8060\n",
      "Epoch 40/50\n",
      "48/48 [==============================] - 0s 4ms/step - loss: 0.3072 - accuracy: 0.8794 - val_loss: 0.5149 - val_accuracy: 0.8134\n",
      "Epoch 41/50\n",
      "48/48 [==============================] - 0s 4ms/step - loss: 0.2959 - accuracy: 0.8886 - val_loss: 0.4926 - val_accuracy: 0.8060\n",
      "Epoch 42/50\n",
      "48/48 [==============================] - 0s 4ms/step - loss: 0.2726 - accuracy: 0.8978 - val_loss: 0.4385 - val_accuracy: 0.8470\n",
      "Epoch 43/50\n",
      "48/48 [==============================] - 0s 4ms/step - loss: 0.2626 - accuracy: 0.9011 - val_loss: 0.4525 - val_accuracy: 0.8433\n",
      "Epoch 44/50\n",
      "48/48 [==============================] - 0s 4ms/step - loss: 0.2555 - accuracy: 0.9090 - val_loss: 0.4597 - val_accuracy: 0.8209\n",
      "Epoch 45/50\n",
      "48/48 [==============================] - 0s 4ms/step - loss: 0.2688 - accuracy: 0.8958 - val_loss: 0.4626 - val_accuracy: 0.8321\n",
      "Epoch 46/50\n",
      "48/48 [==============================] - 0s 4ms/step - loss: 0.2283 - accuracy: 0.9163 - val_loss: 0.4553 - val_accuracy: 0.8284\n",
      "Epoch 47/50\n",
      "48/48 [==============================] - 0s 4ms/step - loss: 0.2323 - accuracy: 0.9123 - val_loss: 0.4344 - val_accuracy: 0.8396\n",
      "Epoch 48/50\n",
      "48/48 [==============================] - 0s 4ms/step - loss: 0.2206 - accuracy: 0.9189 - val_loss: 0.4624 - val_accuracy: 0.8134\n",
      "Epoch 49/50\n",
      "48/48 [==============================] - 0s 4ms/step - loss: 0.2062 - accuracy: 0.9328 - val_loss: 0.4485 - val_accuracy: 0.8507\n",
      "Epoch 50/50\n",
      "48/48 [==============================] - 0s 4ms/step - loss: 0.2068 - accuracy: 0.9275 - val_loss: 0.4151 - val_accuracy: 0.8321\n"
     ]
    }
   ],
   "source": [
    "# training a model with method '.compile()' and '.fit()'\n",
    "model.compile(optimizer='adam',\n",
    "             loss='sparse_categorical_crossentropy',\n",
    "             metrics=['accuracy'])\n",
    "\n",
    "history = model.fit(x_train_norm, y_train, epochs=50, validation_split=0.15) # using parameter validation_split\n",
    "# model.fit(x_train_norm, y_train, epochs=30, validation_data=(x_val, y_val)) # using parameter validation_data"
   ]
  },
  {
   "cell_type": "code",
   "execution_count": 11,
   "id": "b4d19615",
   "metadata": {},
   "outputs": [
    {
     "data": {
      "text/plain": [
       "dict_keys(['loss', 'accuracy', 'val_loss', 'val_accuracy'])"
      ]
     },
     "execution_count": 11,
     "metadata": {},
     "output_type": "execute_result"
    }
   ],
   "source": [
    "# checking keys to plot\n",
    "history.history.keys()"
   ]
  },
  {
   "cell_type": "code",
   "execution_count": 14,
   "id": "616fde76",
   "metadata": {},
   "outputs": [
    {
     "data": {
      "image/png": "[encoded data removed]",
      "text/plain": [
       "<Figure size 432x288 with 1 Axes>"
      ]
     },
     "metadata": {
      "needs_background": "light"
     },
     "output_type": "display_data"
    },
    {
     "data": {
      "image/png": "[encoded data removed]",
      "text/plain": [
       "<Figure size 432x288 with 1 Axes>"
      ]
     },
     "metadata": {
      "needs_background": "light"
     },
     "output_type": "display_data"
    }
   ],
   "source": [
    "# plotting accuracy and loss to easily pinpoint overfitting\n",
    "# Ref: https://keras.io/ko/visualization/\n",
    "\n",
    "# 학습 정확성 값과 검증 정확성 값을 플롯팅 합니다. \n",
    "plt.plot(history.history['accuracy'])\n",
    "plt.plot(history.history['val_accuracy'])\n",
    "plt.title('Model accuracy')\n",
    "plt.ylabel('Accuracy')\n",
    "plt.xlabel('Epoch')\n",
    "plt.legend(['Train', 'Validation'], loc='best')\n",
    "plt.show()\n",
    "\n",
    "# 학습 손실 값과 검증 손실 값을 플롯팅 합니다.\n",
    "plt.plot(history.history['loss'])\n",
    "plt.plot(history.history['val_loss'])\n",
    "plt.title('Model loss')\n",
    "plt.ylabel('Loss')\n",
    "plt.xlabel('Epoch')\n",
    "plt.legend(['Train', 'Validation'], loc='best')\n",
    "plt.show()"
   ]
  },
  {
   "cell_type": "code",
   "execution_count": 13,
   "id": "29812ff6",
   "metadata": {},
   "outputs": [
    {
     "name": "stdout",
     "output_type": "stream",
     "text": [
      "10/10 - 0s - loss: 0.5094 - accuracy: 0.8222\n",
      "test_loss: 0.5093982219696045\n",
      "test_accuracy: 0.8222222328186035\n"
     ]
    }
   ],
   "source": [
    "# evaluate a model by using '.evaluate()' method\n",
    "test_loss, test_accuracy = model.evaluate(x_test_norm, y_test, verbose=2)\n",
    "print(f\"test_loss: {test_loss}\")\n",
    "print(f\"test_accuracy: {test_accuracy}\")"
   ]
  },
  {
   "cell_type": "markdown",
   "id": "766464c0",
   "metadata": {},
   "source": [
    "# 회고\n",
    "\n",
    "1회차\n",
    "- 학습 이미지로 300개가 있었고, 테스트 이미지도 300장이 있어서 노드에 있는 이미지들로 프로젝트를 진행했었다.\n",
    "- 결과가 30-40%대로 나왔어서 hyperparameter들을 만져보았다.\n",
    "    - epoch를 조금씩 올리자 테스트 결과가 조금씩 좋아졌지만, 어느 순간부터는 과적합에 빠져서 오히려 내려가는 결과를 보였다.\n",
    "    - 모델안에 hyperparameter들도 숫자를 올리면 조금씩 좋아지다가 내려가는 비슷한 경향을 보였다.\n",
    "    - 반대로 hyperparameter 숫자들을 내려봤는데, 올리는 것보다 조금 더 좋아지는 경향을 보였다.\n",
    "- 하지만 최대 40%후반에서 더 올라가지 않아서 정규화를 시도해보았다.\n",
    "    - 결과는 눈꼽만큼 좋아졌지, 엄청나게 높아지지는 않았다.\n",
    "- 계속 진행하다가, 우리 조 자체에서 다들 이미지를 취합해서 더 많은 데이터를 사용해보기로 결정을 했다.\n",
    "    - 그렇게 총 2100개의 이미지 데이터를 얻을 수 있었다.\n",
    "- 2100개의 데이터 자체를 sklearn.model_selection에 train_test_split을 이용하여 8:2로 나누었다.\n",
    "    - epoch를 20으로 늘리고 hyperparameter를 처음 모델 만들 때 그대로 진행했더니 쉽게 기준치를 넘는 점수를 보여주었다.\n",
    "    - 데이터가 많아짐에 따라 성능이 더 나온것으로 보인다\n",
    "\n",
    "2회차\n",
    "- 데이터 정규화, epoch=30, parameters 올리고 나서 최대 84%까지 증가\n",
    "    - Random state를 정하지 않아서 매번 다른 값이 나오기에 최대값만 기억함\n",
    "- sklearn에 train_test_split으로 train/validation/test로 나누어 보는 걸 해봄\n",
    "    - train_test_split을 2번 사용하여 직접 3개의 데이터 셋으로 나누어 test까지 계산해 봄\n",
    "    - 같은 비율로 계산해 봤지만, tensorflow model에 validation_split을 이용하는 것이 결과가 더 잘 나옴\n",
    "- 모델에 accuracy와 loss 값을 시각화 하는 것을 해보니 확실히 보기가 더 편해진 감이 있다\n",
    "\n",
    "3회차\n",
    "- epoch수를 크게 늘린 후 early stopping을 사용해 볼 예정\n",
    "- train_test_split 대신 kfold를 사용해 볼 에정\n",
    "    - kfold가 데이터 수가 적을 때 train_test_split보다 학습 및 검정의 효과가 좋아서 사용해 볼 예정"
   ]
  },
  {
   "cell_type": "code",
   "execution_count": null,
   "id": "7ad7b3d2",
   "metadata": {},
   "outputs": [],
   "source": []
  }
 ],
 "metadata": {
  "kernelspec": {
   "display_name": "Python 3 (ipykernel)",
   "language": "python",
   "name": "python3"
  },
  "language_info": {
   "codemirror_mode": {
    "name": "ipython",
    "version": 3
   },
   "file_extension": ".py",
   "mimetype": "text/x-python",
   "name": "python",
   "nbconvert_exporter": "python",
   "pygments_lexer": "ipython3",
   "version": "3.9.7"
  }
 },
 "nbformat": 4,
 "nbformat_minor": 5
}
