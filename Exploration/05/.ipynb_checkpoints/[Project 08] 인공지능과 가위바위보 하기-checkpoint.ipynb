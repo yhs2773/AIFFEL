{
 "cells": [
  {
   "cell_type": "code",
   "execution_count": 1,
   "id": "00474c00",
   "metadata": {},
   "outputs": [],
   "source": [
    "# import libraries\n",
    "import tensorflow as tf\n",
    "import numpy as np\n",
    "import matplotlib.pyplot as plt\n",
    "import glob\n",
    "import os\n",
    "import sklearn\n",
    "from sklearn.model_selection import train_test_split, KFold, StratifiedKFold\n",
    "from PIL import Image\n",
    "from tensorflow import keras"
   ]
  },
  {
   "cell_type": "code",
   "execution_count": 2,
   "id": "974130f8",
   "metadata": {},
   "outputs": [
    {
     "name": "stdout",
     "output_type": "stream",
     "text": [
      "700  images to be resized.\n",
      "700  images resized.\n",
      "700  images to be resized.\n",
      "700  images resized.\n",
      "700  images to be resized.\n",
      "700  images resized.\n"
     ]
    }
   ],
   "source": [
    "# define function to easily resize given images\n",
    "def resize_images(img_path):\n",
    "    images=glob.glob(img_path + \"/*.jpg\") # file name to list, '*' for full text\n",
    "    \n",
    "    print(len(images), \" images to be resized.\")\n",
    "\n",
    "    # reshaping all images to 28x28 and then saving each one of them\n",
    "    target_size=(28, 28)\n",
    "    for img in images:\n",
    "        old_img=Image.open(img) # opening image\n",
    "        new_img=old_img.resize(target_size,Image.ANTIALIAS) # resizing\n",
    "        new_img.save(img, \"JPEG\") # saving image\n",
    "    \n",
    "    print(len(images), \" images resized.\")\n",
    "\n",
    "# loading and resizing all images in scissor folder\n",
    "image_dir_path = os.getenv(\"HOME\") + \"/aiffel/rock_scissor_paper/scissors\"\n",
    "resize_images(image_dir_path)\n",
    "\n",
    "# loading and resizing all images in rock folder\n",
    "image_dir_path = os.getenv('HOME') + '/aiffel/rock_scissor_paper/rock'\n",
    "resize_images(image_dir_path)\n",
    "\n",
    "# loading and resizing all images in rock folder\n",
    "image_dir_path = os.getenv('HOME') + \"/aiffel/rock_scissor_paper/paper\"\n",
    "resize_images(image_dir_path)"
   ]
  },
  {
   "cell_type": "code",
   "execution_count": 3,
   "id": "1e3b0531",
   "metadata": {},
   "outputs": [
    {
     "name": "stdout",
     "output_type": "stream",
     "text": [
      "학습데이터(x_train)의 이미지 개수는 2100 입니다.\n",
      "x_train shape: (2100, 28, 28, 3)\n",
      "y_train shape: (2100,)\n"
     ]
    }
   ],
   "source": [
    "# function to load all data as imgs and labels\n",
    "def load_data(img_path, number_of_data=2100):  # ensure to double check the num of data\n",
    "    img_size=28\n",
    "    color=3\n",
    "    # assigning imgs with zero only matrix of total params\n",
    "    # scissors : 0, rock : 1, paper : 2\n",
    "    \n",
    "    # 1-d zero matrix of all params, then reshaping to 4-d tensor\n",
    "    imgs=np.zeros(number_of_data*img_size*img_size*color,dtype=np.int32).reshape(number_of_data,img_size,img_size,color)\n",
    "    # zero matrix for target\n",
    "    labels=np.zeros(number_of_data,dtype=np.int32)\n",
    "\n",
    "    idx=0\n",
    "    for file in glob.iglob(img_path+'/scissors/*.jpg'):\n",
    "        img = np.array(Image.open(file),dtype=np.int32) # image data into np.array\n",
    "        imgs[idx,:,:,:]=img    # allocate img (array) to imgs index\n",
    "        labels[idx]=0   # scissors : 0\n",
    "        idx=idx+1\n",
    "\n",
    "    for file in glob.iglob(img_path+'/rock/*.jpg'):\n",
    "        img = np.array(Image.open(file),dtype=np.int32)\n",
    "        imgs[idx,:,:,:]=img    # allocate img (array) to imgs index\n",
    "        labels[idx]=1   # rock : 1\n",
    "        idx=idx+1  \n",
    "    \n",
    "    for file in glob.iglob(img_path+'/paper/*.jpg'):\n",
    "        img = np.array(Image.open(file),dtype=np.int32)\n",
    "        imgs[idx,:,:,:]=img    # allocate img (array) to imgs index\n",
    "        labels[idx]=2   # paper : 2\n",
    "        idx=idx+1\n",
    "        \n",
    "    print(\"학습데이터(x_train)의 이미지 개수는\", idx,\"입니다.\")\n",
    "    return imgs, labels\n",
    "\n",
    "image_dir_path = os.getenv(\"HOME\") + \"/aiffel/rock_scissor_paper\"\n",
    "(x_train, y_train) = load_data(image_dir_path) # unpacking imgs to x_train and labels to y_train\n",
    "\n",
    "print(\"x_train shape: {}\".format(x_train.shape))\n",
    "print(\"y_train shape: {}\".format(y_train.shape))"
   ]
  },
  {
   "cell_type": "code",
   "execution_count": 4,
   "id": "9c9d04c2",
   "metadata": {},
   "outputs": [
    {
     "name": "stdout",
     "output_type": "stream",
     "text": [
      "라벨:  0\n"
     ]
    },
    {
     "data": {
      "image/png": "[encoded data removed]",
      "text/plain": [
       "<Figure size 432x288 with 1 Axes>"
      ]
     },
     "metadata": {
      "needs_background": "light"
     },
     "output_type": "display_data"
    }
   ],
   "source": [
    "# quick check of the image\n",
    "plt.imshow(x_train[0])\n",
    "print('라벨: ', y_train[0])"
   ]
  },
  {
   "cell_type": "code",
   "execution_count": 5,
   "id": "f0713c0e",
   "metadata": {},
   "outputs": [
    {
     "name": "stdout",
     "output_type": "stream",
     "text": [
      "최소값: 0  최대값: 255\n",
      "최소값: 0  최대값: 255\n",
      "(1517, 28, 28, 3) (315, 28, 28, 3) (1517,) (315,)\n",
      "(1517, 28, 28, 3) (268, 28, 28, 3) (315, 28, 28, 3) (1517,) (268,) (315,)\n"
     ]
    }
   ],
   "source": [
    "# all image and label loaded into x_train and y_train\n",
    "# thus splitting parts of them as test sets using sklearn train_test_split\n",
    "x_train, x_test, y_train, y_test = train_test_split(x_train, y_train, test_size=0.15, stratify=y_train)\n",
    "\n",
    "x_train, x_val, y_train, y_val = train_test_split(x_train, y_train, test_size=0.15) # manually splitting train and val sets\n",
    "\n",
    "print('최소값:',np.min(x_train), ' 최대값:',np.max(x_train)) # check min max of train data\n",
    "print('최소값:',np.min(x_test), ' 최대값:',np.max(x_test)) # check min max of test data\n",
    "print(x_train.shape, x_test.shape, y_train.shape, y_test.shape)\n",
    "print(x_train.shape, x_val.shape, x_test.shape, y_train.shape, y_val.shape, y_test.shape)"
   ]
  },
  {
   "cell_type": "code",
   "execution_count": 6,
   "id": "edc44a52",
   "metadata": {
    "scrolled": true
   },
   "outputs": [
    {
     "name": "stdout",
     "output_type": "stream",
     "text": [
      "최소값: 0.0  최대값: 1.0\n"
     ]
    },
    {
     "data": {
      "text/plain": [
       "(1517, 28, 28, 3)"
      ]
     },
     "execution_count": 6,
     "metadata": {},
     "output_type": "execute_result"
    }
   ],
   "source": [
    "# normalizing train set\n",
    "x_train_norm = x_train / np.max(x_train) # divide by max num to normalize data\n",
    "print('최소값:',np.min(x_train_norm), ' 최대값:',np.max(x_train_norm)) # after normalizing\n",
    "x_train_norm.shape"
   ]
  },
  {
   "cell_type": "code",
   "execution_count": 7,
   "id": "aadacb29",
   "metadata": {},
   "outputs": [
    {
     "name": "stdout",
     "output_type": "stream",
     "text": [
      "최소값: 0.0  최대값: 1.0\n"
     ]
    },
    {
     "data": {
      "text/plain": [
       "(268, 28, 28, 3)"
      ]
     },
     "execution_count": 7,
     "metadata": {},
     "output_type": "execute_result"
    }
   ],
   "source": [
    "# normalizing validation set\n",
    "x_val_norm = x_val / np.max(x_val) # divide by max num to normalize data\n",
    "print('최소값:',np.min(x_val_norm), ' 최대값:',np.max(x_val_norm)) # after normalizing\n",
    "x_val_norm.shape"
   ]
  },
  {
   "cell_type": "code",
   "execution_count": 8,
   "id": "8274aa30",
   "metadata": {},
   "outputs": [
    {
     "name": "stdout",
     "output_type": "stream",
     "text": [
      "최소값: 0.0  최대값: 1.0\n"
     ]
    },
    {
     "data": {
      "text/plain": [
       "(315, 28, 28, 3)"
      ]
     },
     "execution_count": 8,
     "metadata": {},
     "output_type": "execute_result"
    }
   ],
   "source": [
    "# normalizing test set\n",
    "x_test_norm = x_test / np.max(x_test) # divide by max num to normalize data\n",
    "print('최소값:',np.min(x_test_norm), ' 최대값:',np.max(x_test_norm)) # after normalizing\n",
    "x_test_norm.shape"
   ]
  },
  {
   "cell_type": "code",
   "execution_count": 9,
   "id": "4bb3724a",
   "metadata": {},
   "outputs": [
    {
     "name": "stdout",
     "output_type": "stream",
     "text": [
      "Model에 추가된 Layer 개수:  7\n",
      "Model: \"sequential\"\n",
      "_________________________________________________________________\n",
      "Layer (type)                 Output Shape              Param #   \n",
      "=================================================================\n",
      "conv2d (Conv2D)              (None, 26, 26, 32)        896       \n",
      "_________________________________________________________________\n",
      "max_pooling2d (MaxPooling2D) (None, 13, 13, 32)        0         \n",
      "_________________________________________________________________\n",
      "conv2d_1 (Conv2D)            (None, 11, 11, 64)        18496     \n",
      "_________________________________________________________________\n",
      "max_pooling2d_1 (MaxPooling2 (None, 5, 5, 64)          0         \n",
      "_________________________________________________________________\n",
      "flatten (Flatten)            (None, 1600)              0         \n",
      "_________________________________________________________________\n",
      "dense (Dense)                (None, 64)                102464    \n",
      "_________________________________________________________________\n",
      "dense_1 (Dense)              (None, 3)                 195       \n",
      "=================================================================\n",
      "Total params: 122,051\n",
      "Trainable params: 122,051\n",
      "Non-trainable params: 0\n",
      "_________________________________________________________________\n"
     ]
    }
   ],
   "source": [
    "# constructing a model using keras\n",
    "model=keras.models.Sequential()\n",
    "model.add(keras.layers.Conv2D(32, (3,3), activation='relu', input_shape=(28,28,3)))\n",
    "model.add(keras.layers.MaxPool2D(2,2))\n",
    "model.add(keras.layers.Conv2D(64, (3,3), activation='relu'))\n",
    "model.add(keras.layers.MaxPooling2D((2,2)))\n",
    "model.add(keras.layers.Flatten())\n",
    "model.add(keras.layers.Dense(64, activation='relu'))\n",
    "model.add(keras.layers.Dense(3, activation='softmax'))\n",
    "\n",
    "print('Model에 추가된 Layer 개수: ', len(model.layers))\n",
    "\n",
    "model.summary()"
   ]
  },
  {
   "cell_type": "code",
   "execution_count": 10,
   "id": "dbcbd2d9",
   "metadata": {},
   "outputs": [
    {
     "name": "stdout",
     "output_type": "stream",
     "text": [
      "Epoch 1/30\n",
      "48/48 [==============================] - 3s 9ms/step - loss: 1.1026 - accuracy: 0.3494 - val_loss: 3.0002 - val_accuracy: 0.4813\n",
      "Epoch 2/30\n",
      "48/48 [==============================] - 0s 4ms/step - loss: 1.0921 - accuracy: 0.3995 - val_loss: 13.6573 - val_accuracy: 0.4366\n",
      "Epoch 3/30\n",
      "48/48 [==============================] - 0s 4ms/step - loss: 1.0694 - accuracy: 0.4384 - val_loss: 36.5741 - val_accuracy: 0.4552\n",
      "Epoch 4/30\n",
      "48/48 [==============================] - 0s 4ms/step - loss: 1.0073 - accuracy: 0.5109 - val_loss: 76.7165 - val_accuracy: 0.4888\n",
      "Epoch 5/30\n",
      "48/48 [==============================] - 0s 4ms/step - loss: 0.9403 - accuracy: 0.5656 - val_loss: 133.9230 - val_accuracy: 0.4216\n",
      "Epoch 6/30\n",
      "48/48 [==============================] - 0s 4ms/step - loss: 0.8959 - accuracy: 0.5893 - val_loss: 73.6099 - val_accuracy: 0.6045\n",
      "Epoch 7/30\n",
      "48/48 [==============================] - 0s 4ms/step - loss: 0.8515 - accuracy: 0.6262 - val_loss: 70.8168 - val_accuracy: 0.5896\n",
      "Epoch 8/30\n",
      "48/48 [==============================] - 0s 4ms/step - loss: 0.8208 - accuracy: 0.6282 - val_loss: 72.8363 - val_accuracy: 0.5970\n",
      "Epoch 9/30\n",
      "48/48 [==============================] - 0s 3ms/step - loss: 0.7885 - accuracy: 0.6546 - val_loss: 88.9470 - val_accuracy: 0.5933\n",
      "Epoch 10/30\n",
      "48/48 [==============================] - 0s 4ms/step - loss: 0.7529 - accuracy: 0.6790 - val_loss: 79.3954 - val_accuracy: 0.5896\n",
      "Epoch 11/30\n",
      "48/48 [==============================] - 0s 3ms/step - loss: 0.7310 - accuracy: 0.6862 - val_loss: 62.7889 - val_accuracy: 0.6381\n",
      "Epoch 12/30\n",
      "48/48 [==============================] - 0s 4ms/step - loss: 0.7052 - accuracy: 0.7080 - val_loss: 146.4633 - val_accuracy: 0.5336\n",
      "Epoch 13/30\n",
      "48/48 [==============================] - 0s 4ms/step - loss: 0.7001 - accuracy: 0.6842 - val_loss: 87.4140 - val_accuracy: 0.6194\n",
      "Epoch 14/30\n",
      "48/48 [==============================] - 0s 3ms/step - loss: 0.6644 - accuracy: 0.7198 - val_loss: 73.8937 - val_accuracy: 0.6642\n",
      "Epoch 15/30\n",
      "48/48 [==============================] - 0s 4ms/step - loss: 0.6699 - accuracy: 0.7152 - val_loss: 75.2634 - val_accuracy: 0.6567\n",
      "Epoch 16/30\n",
      "48/48 [==============================] - 0s 4ms/step - loss: 0.6183 - accuracy: 0.7317 - val_loss: 76.7415 - val_accuracy: 0.6679\n",
      "Epoch 17/30\n",
      "48/48 [==============================] - 0s 3ms/step - loss: 0.5858 - accuracy: 0.7535 - val_loss: 101.5753 - val_accuracy: 0.6194\n",
      "Epoch 18/30\n",
      "48/48 [==============================] - 0s 4ms/step - loss: 0.5915 - accuracy: 0.7627 - val_loss: 98.4052 - val_accuracy: 0.6269\n",
      "Epoch 19/30\n",
      "48/48 [==============================] - 0s 3ms/step - loss: 0.5567 - accuracy: 0.7779 - val_loss: 112.5835 - val_accuracy: 0.6343\n",
      "Epoch 20/30\n",
      "48/48 [==============================] - 0s 4ms/step - loss: 0.5583 - accuracy: 0.7640 - val_loss: 93.4012 - val_accuracy: 0.6306\n",
      "Epoch 21/30\n",
      "48/48 [==============================] - 0s 4ms/step - loss: 0.5421 - accuracy: 0.7956 - val_loss: 94.3898 - val_accuracy: 0.6642\n",
      "Epoch 22/30\n",
      "48/48 [==============================] - 0s 4ms/step - loss: 0.4966 - accuracy: 0.8036 - val_loss: 115.6585 - val_accuracy: 0.6418\n",
      "Epoch 23/30\n",
      "48/48 [==============================] - 0s 3ms/step - loss: 0.4793 - accuracy: 0.8194 - val_loss: 115.2514 - val_accuracy: 0.6493\n",
      "Epoch 24/30\n",
      "48/48 [==============================] - 0s 4ms/step - loss: 0.4605 - accuracy: 0.8260 - val_loss: 100.9888 - val_accuracy: 0.6418\n",
      "Epoch 25/30\n",
      "48/48 [==============================] - 0s 4ms/step - loss: 0.4538 - accuracy: 0.8187 - val_loss: 110.2292 - val_accuracy: 0.6754\n",
      "Epoch 26/30\n",
      "48/48 [==============================] - 0s 3ms/step - loss: 0.4278 - accuracy: 0.8431 - val_loss: 80.3346 - val_accuracy: 0.7127\n",
      "Epoch 27/30\n",
      "48/48 [==============================] - 0s 4ms/step - loss: 0.4183 - accuracy: 0.8411 - val_loss: 114.3597 - val_accuracy: 0.6567\n",
      "Epoch 28/30\n",
      "48/48 [==============================] - 0s 3ms/step - loss: 0.3816 - accuracy: 0.8589 - val_loss: 99.4542 - val_accuracy: 0.6791\n",
      "Epoch 29/30\n",
      "48/48 [==============================] - 0s 4ms/step - loss: 0.3693 - accuracy: 0.8662 - val_loss: 130.4195 - val_accuracy: 0.6343\n",
      "Epoch 30/30\n",
      "48/48 [==============================] - 0s 3ms/step - loss: 0.3925 - accuracy: 0.8550 - val_loss: 88.9698 - val_accuracy: 0.6978\n"
     ]
    },
    {
     "data": {
      "text/plain": [
       "<keras.callbacks.History at 0x7f4fbc759430>"
      ]
     },
     "execution_count": 10,
     "metadata": {},
     "output_type": "execute_result"
    }
   ],
   "source": [
    "# training a model with method '.compile()' and '.fit()'\n",
    "model.compile(optimizer='adam',\n",
    "             loss='sparse_categorical_crossentropy',\n",
    "             metrics=['accuracy'])\n",
    "\n",
    "# model.fit(x_train_norm, y_train, epochs=30, validation_split=0.15) # using parameter validation_split\n",
    "model.fit(x_train_norm, y_train, epochs=30, validation_data=(x_val, y_val))"
   ]
  },
  {
   "cell_type": "markdown",
   "id": "70b0ba7a",
   "metadata": {},
   "source": [
    "## NEED TO PLOT EPOCH, LOSS, and ACCURACY to easily see the overfitting point"
   ]
  },
  {
   "cell_type": "code",
   "execution_count": 11,
   "id": "7a5581ad",
   "metadata": {},
   "outputs": [
    {
     "name": "stdout",
     "output_type": "stream",
     "text": [
      "10/10 - 0s - loss: 0.5658 - accuracy: 0.8000\n",
      "test_loss: 0.5658001899719238\n",
      "test_accuracy: 0.800000011920929\n"
     ]
    }
   ],
   "source": [
    "# evaluate a model by using '.evaluate()' method\n",
    "test_loss, test_accuracy = model.evaluate(x_test_norm, y_test, verbose=2)\n",
    "print(f\"test_loss: {test_loss}\")\n",
    "print(f\"test_accuracy: {test_accuracy}\")"
   ]
  },
  {
   "cell_type": "markdown",
   "id": "e863c290",
   "metadata": {},
   "source": [
    "# 회고\n",
    "\n",
    "1회차\n",
    "- 학습 이미지로 300개가 있었고, 테스트 이미지도 300장이 있어서 노드에 있는 이미지들로 프로젝트를 진행했었다.\n",
    "- 결과가 30-40%대로 나왔어서 hyperparameter들을 만져보았다.\n",
    "    - epoch를 조금씩 올리자 테스트 결과가 조금씩 좋아졌지만, 어느 순간부터는 과적합에 빠져서 오히려 내려가는 결과를 보였다.\n",
    "    - 모델안에 hyperparameter들도 숫자를 올리면 조금씩 좋아지다가 내려가는 비슷한 경향을 보였다.\n",
    "    - 반대로 hyperparameter 숫자들을 내려봤는데, 올리는 것보다 조금 더 좋아지는 경향을 보였다.\n",
    "- 하지만 최대 40%후반에서 더 올라가지 않아서 정규화를 시도해보았다.\n",
    "    - 결과는 눈꼽만큼 좋아졌지, 엄청나게 높아지지는 않았다.\n",
    "- 계속 진행하다가, 우리 조 자체에서 다들 이미지를 취합해서 더 많은 데이터를 사용해보기로 결정을 했다.\n",
    "    - 그렇게 총 2100개의 이미지 데이터를 얻을 수 있었다.\n",
    "- 2100개의 데이터 자체를 sklearn.model_selection에 train_test_split을 이용하여 8:2로 나누었다.\n",
    "    - epoch를 20으로 늘리고 hyperparameter를 처음 모델 만들 때 그대로 진행했더니 쉽게 기준치를 넘는 점수를 보여주었다.\n",
    "    - 데이터가 많아짐에 따라 성능이 더 나온것으로 보인다\n",
    "\n",
    "2회차\n",
    "- 데이터 정규화, epoch=30, parameters 올리고 나서 최대 84%까지 증가\n",
    "    - Random state를 정하지 않아서 매번 다른 값이 나오기에 최대값만 기억함\n",
    "- sklearn에 train_test_split으로 train/validation/test로 나누어 보는 걸 해볼 예정\n",
    "    - 문제가 데이터를 나눈 후 사용하는 방법을 모르겠다...\n",
    "- 후에는 k-fold cross validation을 해볼 예정"
   ]
  },
  {
   "cell_type": "code",
   "execution_count": null,
   "id": "7e711653",
   "metadata": {},
   "outputs": [],
   "source": []
  }
 ],
 "metadata": {
  "kernelspec": {
   "display_name": "Python 3 (ipykernel)",
   "language": "python",
   "name": "python3"
  },
  "language_info": {
   "codemirror_mode": {
    "name": "ipython",
    "version": 3
   },
   "file_extension": ".py",
   "mimetype": "text/x-python",
   "name": "python",
   "nbconvert_exporter": "python",
   "pygments_lexer": "ipython3",
   "version": "3.9.7"
  }
 },
 "nbformat": 4,
 "nbformat_minor": 5
}
