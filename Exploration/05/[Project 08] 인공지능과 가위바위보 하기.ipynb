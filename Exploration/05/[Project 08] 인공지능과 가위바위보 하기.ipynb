{
 "cells": [
  {
   "cell_type": "code",
   "execution_count": 1,
   "id": "0a3eda3c",
   "metadata": {},
   "outputs": [],
   "source": [
    "# import libraries\n",
    "import tensorflow as tf\n",
    "import numpy as np\n",
    "import matplotlib.pyplot as plt\n",
    "import glob\n",
    "import os\n",
    "import sklearn\n",
    "from sklearn.model_selection import train_test_split\n",
    "from PIL import Image\n",
    "from tensorflow import keras"
   ]
  },
  {
   "cell_type": "code",
   "execution_count": 2,
   "id": "f7168997",
   "metadata": {},
   "outputs": [
    {
     "name": "stdout",
     "output_type": "stream",
     "text": [
      "700  images to be resized.\n",
      "700  images resized.\n",
      "700  images to be resized.\n",
      "700  images resized.\n",
      "700  images to be resized.\n",
      "700  images resized.\n"
     ]
    }
   ],
   "source": [
    "# define function to easily resize given images\n",
    "def resize_images(img_path):\n",
    "    images=glob.glob(img_path + \"/*.jpg\") # file name to list, '*' for full text\n",
    "    \n",
    "    print(len(images), \" images to be resized.\")\n",
    "\n",
    "    # reshaping all images to 28x28 and then saving each one of them\n",
    "    target_size=(28, 28)\n",
    "    for img in images:\n",
    "        old_img=Image.open(img) # opening image\n",
    "        new_img=old_img.resize(target_size,Image.ANTIALIAS) # resizing\n",
    "        new_img.save(img, \"JPEG\") # saving image\n",
    "    \n",
    "    print(len(images), \" images resized.\")\n",
    "\n",
    "# loading and resizing all images in scissor folder\n",
    "image_dir_path = os.getenv(\"HOME\") + \"/aiffel/rock_scissor_paper/scissors\"\n",
    "resize_images(image_dir_path)\n",
    "\n",
    "# loading and resizing all images in rock folder\n",
    "image_dir_path = os.getenv('HOME') + '/aiffel/rock_scissor_paper/rock'\n",
    "resize_images(image_dir_path)\n",
    "\n",
    "# loading and resizing all images in rock folder\n",
    "image_dir_path = os.getenv('HOME') + \"/aiffel/rock_scissor_paper/paper\"\n",
    "resize_images(image_dir_path)"
   ]
  },
  {
   "cell_type": "code",
   "execution_count": 3,
   "id": "de1bcef5",
   "metadata": {},
   "outputs": [
    {
     "name": "stdout",
     "output_type": "stream",
     "text": [
      "학습데이터(x_train)의 이미지 개수는 2100 입니다.\n",
      "x_train shape: (2100, 28, 28, 3)\n",
      "y_train shape: (2100,)\n",
      "최소값: 0  최대값: 255\n"
     ]
    }
   ],
   "source": [
    "# function to load all train data\n",
    "def load_data(img_path, number_of_data=2100):  # ensure to double check the num of data\n",
    "    img_size=28\n",
    "    color=3\n",
    "    # assigning imgs with zero only matrix of total params\n",
    "    # scissors : 0, rock : 1, paper : 2\n",
    "    imgs=np.zeros(number_of_data*img_size*img_size*color,dtype=np.int32).reshape(number_of_data,img_size,img_size,color)\n",
    "    labels=np.zeros(number_of_data,dtype=np.int32)\n",
    "\n",
    "    idx=0\n",
    "    for file in glob.iglob(img_path+'/scissors/*.jpg'):\n",
    "        img = np.array(Image.open(file),dtype=np.int32) # image data into np.array\n",
    "        imgs[idx,:,:,:]=img    # allocate img (array) to imgs index\n",
    "        labels[idx]=0   # scissors : 0\n",
    "        idx=idx+1\n",
    "\n",
    "    for file in glob.iglob(img_path+'/rock/*.jpg'):\n",
    "        img = np.array(Image.open(file),dtype=np.int32)\n",
    "        imgs[idx,:,:,:]=img    # allocate img (array) to imgs index\n",
    "        labels[idx]=1   # rock : 1\n",
    "        idx=idx+1  \n",
    "    \n",
    "    for file in glob.iglob(img_path+'/paper/*.jpg'):\n",
    "        img = np.array(Image.open(file),dtype=np.int32)\n",
    "        imgs[idx,:,:,:]=img    # allocate img (array) to imgs index\n",
    "        labels[idx]=2   # paper : 2\n",
    "        idx=idx+1\n",
    "        \n",
    "    print(\"학습데이터(x_train)의 이미지 개수는\", idx,\"입니다.\")\n",
    "    return imgs, labels\n",
    "\n",
    "image_dir_path = os.getenv(\"HOME\") + \"/aiffel/rock_scissor_paper\"\n",
    "(x_train, y_train) = load_data(image_dir_path)\n",
    "\n",
    "print(\"x_train shape: {}\".format(x_train.shape))\n",
    "print(\"y_train shape: {}\".format(y_train.shape))\n",
    "print('최소값:',np.min(x_train), ' 최대값:',np.max(x_train)) # check range of train data"
   ]
  },
  {
   "cell_type": "code",
   "execution_count": 4,
   "id": "99430707",
   "metadata": {},
   "outputs": [
    {
     "name": "stdout",
     "output_type": "stream",
     "text": [
      "라벨:  0\n"
     ]
    },
    {
     "data": {
      "image/png": "[encoded data removed]",
      "text/plain": [
       "<Figure size 432x288 with 1 Axes>"
      ]
     },
     "metadata": {
      "needs_background": "light"
     },
     "output_type": "display_data"
    }
   ],
   "source": [
    "plt.imshow(x_train[0])\n",
    "print('라벨: ', y_train[0])"
   ]
  },
  {
   "cell_type": "code",
   "execution_count": 5,
   "id": "3a6c5fb9",
   "metadata": {
    "scrolled": true
   },
   "outputs": [],
   "source": [
    "# normalizing train set\n",
    "# x_train_norm = x_train / np.max(x_train) # divide by max num to normalize data\n",
    "# print('최소값:',np.min(x_train_norm), ' 최대값:',np.max(x_train_norm))"
   ]
  },
  {
   "cell_type": "code",
   "execution_count": 6,
   "id": "b9f57149",
   "metadata": {},
   "outputs": [
    {
     "name": "stdout",
     "output_type": "stream",
     "text": [
      "최소값: 0  최대값: 255\n",
      "(1680, 28, 28, 3) (420, 28, 28, 3) (1680,) (420,)\n"
     ]
    }
   ],
   "source": [
    "x_train, x_test, y_train, y_test = train_test_split(x_train, y_train, test_size=0.2)\n",
    "print('최소값:',np.min(x_test), ' 최대값:',np.max(x_test)) # check range of test data\n",
    "print(x_train.shape, x_test.shape, y_train.shape, y_test.shape)"
   ]
  },
  {
   "cell_type": "code",
   "execution_count": 7,
   "id": "1c563e99",
   "metadata": {},
   "outputs": [
    {
     "name": "stdout",
     "output_type": "stream",
     "text": [
      "Model에 추가된 Layer 개수:  7\n",
      "Model: \"sequential\"\n",
      "_________________________________________________________________\n",
      "Layer (type)                 Output Shape              Param #   \n",
      "=================================================================\n",
      "conv2d (Conv2D)              (None, 26, 26, 16)        448       \n",
      "_________________________________________________________________\n",
      "max_pooling2d (MaxPooling2D) (None, 13, 13, 16)        0         \n",
      "_________________________________________________________________\n",
      "conv2d_1 (Conv2D)            (None, 11, 11, 32)        4640      \n",
      "_________________________________________________________________\n",
      "max_pooling2d_1 (MaxPooling2 (None, 5, 5, 32)          0         \n",
      "_________________________________________________________________\n",
      "flatten (Flatten)            (None, 800)               0         \n",
      "_________________________________________________________________\n",
      "dense (Dense)                (None, 32)                25632     \n",
      "_________________________________________________________________\n",
      "dense_1 (Dense)              (None, 3)                 99        \n",
      "=================================================================\n",
      "Total params: 30,819\n",
      "Trainable params: 30,819\n",
      "Non-trainable params: 0\n",
      "_________________________________________________________________\n"
     ]
    }
   ],
   "source": [
    "# model을 직접 만들어 보세요.\n",
    "# Hint! model의 입력/출력부에 특히 유의해 주세요. 가위바위보 데이터셋은 MNIST 데이터셋과 어떤 점이 달라졌나요?\n",
    "model=keras.models.Sequential()\n",
    "model.add(keras.layers.Conv2D(16, (3,3), activation='relu', input_shape=(28,28,3)))\n",
    "model.add(keras.layers.MaxPool2D(2,2))\n",
    "model.add(keras.layers.Conv2D(32, (3,3), activation='relu'))\n",
    "model.add(keras.layers.MaxPooling2D((2,2)))\n",
    "model.add(keras.layers.Flatten())\n",
    "model.add(keras.layers.Dense(32, activation='relu'))\n",
    "model.add(keras.layers.Dense(3, activation='softmax'))\n",
    "\n",
    "print('Model에 추가된 Layer 개수: ', len(model.layers))\n",
    "\n",
    "model.summary()"
   ]
  },
  {
   "cell_type": "code",
   "execution_count": 8,
   "id": "99eda0b5",
   "metadata": {},
   "outputs": [],
   "source": [
    "# reshaping x_train_norm\n",
    "# x_train_reshaped = x_train_norm.reshape(-1, 28, 28, 3)\n",
    "# x_train_reshaped.shape"
   ]
  },
  {
   "cell_type": "code",
   "execution_count": 9,
   "id": "b80dc1de",
   "metadata": {},
   "outputs": [
    {
     "name": "stdout",
     "output_type": "stream",
     "text": [
      "Epoch 1/20\n",
      "53/53 [==============================] - 3s 4ms/step - loss: 4.1413 - accuracy: 0.3452\n",
      "Epoch 2/20\n",
      "53/53 [==============================] - 0s 3ms/step - loss: 1.1975 - accuracy: 0.3911\n",
      "Epoch 3/20\n",
      "53/53 [==============================] - 0s 3ms/step - loss: 1.0271 - accuracy: 0.4935\n",
      "Epoch 4/20\n",
      "53/53 [==============================] - 0s 3ms/step - loss: 0.9910 - accuracy: 0.5321\n",
      "Epoch 5/20\n",
      "53/53 [==============================] - 0s 3ms/step - loss: 0.8758 - accuracy: 0.6006\n",
      "Epoch 6/20\n",
      "53/53 [==============================] - 0s 3ms/step - loss: 0.8387 - accuracy: 0.6179\n",
      "Epoch 7/20\n",
      "53/53 [==============================] - 0s 3ms/step - loss: 0.8056 - accuracy: 0.6381\n",
      "Epoch 8/20\n",
      "53/53 [==============================] - 0s 3ms/step - loss: 0.7987 - accuracy: 0.6369\n",
      "Epoch 9/20\n",
      "53/53 [==============================] - 0s 3ms/step - loss: 0.7568 - accuracy: 0.6732\n",
      "Epoch 10/20\n",
      "53/53 [==============================] - 0s 3ms/step - loss: 0.7140 - accuracy: 0.6827\n",
      "Epoch 11/20\n",
      "53/53 [==============================] - 0s 3ms/step - loss: 0.6766 - accuracy: 0.7042\n",
      "Epoch 12/20\n",
      "53/53 [==============================] - 0s 3ms/step - loss: 0.6613 - accuracy: 0.7161\n",
      "Epoch 13/20\n",
      "53/53 [==============================] - 0s 3ms/step - loss: 0.6281 - accuracy: 0.7369\n",
      "Epoch 14/20\n",
      "53/53 [==============================] - 0s 3ms/step - loss: 0.5873 - accuracy: 0.7524\n",
      "Epoch 15/20\n",
      "53/53 [==============================] - 0s 3ms/step - loss: 0.5671 - accuracy: 0.7738\n",
      "Epoch 16/20\n",
      "53/53 [==============================] - 0s 3ms/step - loss: 0.5718 - accuracy: 0.7524\n",
      "Epoch 17/20\n",
      "53/53 [==============================] - 0s 3ms/step - loss: 0.5307 - accuracy: 0.7762\n",
      "Epoch 18/20\n",
      "53/53 [==============================] - 0s 3ms/step - loss: 0.5595 - accuracy: 0.7607\n",
      "Epoch 19/20\n",
      "53/53 [==============================] - 0s 3ms/step - loss: 0.5007 - accuracy: 0.7964\n",
      "Epoch 20/20\n",
      "53/53 [==============================] - 0s 3ms/step - loss: 0.4964 - accuracy: 0.7976\n"
     ]
    },
    {
     "data": {
      "text/plain": [
       "<keras.callbacks.History at 0x7fd50c1e7580>"
      ]
     },
     "execution_count": 9,
     "metadata": {},
     "output_type": "execute_result"
    }
   ],
   "source": [
    "# model을 학습시키는 코드를 직접 작성해 보세요.\n",
    "# Hint! model.compile()과 model.fit()을 사용해 봅시다.\n",
    "\n",
    "model.compile(optimizer='adam',\n",
    "             loss='sparse_categorical_crossentropy',\n",
    "             metrics=['accuracy'])\n",
    "\n",
    "model.fit(x_train, y_train, epochs=20)"
   ]
  },
  {
   "cell_type": "code",
   "execution_count": 10,
   "id": "42246323",
   "metadata": {},
   "outputs": [],
   "source": [
    "# x_test, y_test를 만드는 방법은 x_train, y_train을 만드는 방법과 아주 유사합니다.\n",
    "# Resize test images to 28x28\n",
    "# image_dir_path = os.getenv(\"HOME\") + \"/aiffel/rock_scissor_paper/test/rock\"\n",
    "# resize_images(image_dir_path)\n",
    "# image_dir_path = os.getenv(\"HOME\") + \"/aiffel/rock_scissor_paper/test/paper\"\n",
    "# resize_images(image_dir_path)\n",
    "# image_dir_path = os.getenv(\"HOME\") + \"/aiffel/rock_scissor_paper/test/scissor\"\n",
    "# resize_images(image_dir_path)\n",
    "\n",
    "# load data to test sets\n",
    "# image_dir_path = os.getenv(\"HOME\") + \"/aiffel/rock_scissor_paper/test\"\n",
    "# (x_test, y_test)=load_data(image_dir_path)"
   ]
  },
  {
   "cell_type": "code",
   "execution_count": 11,
   "id": "b416388a",
   "metadata": {},
   "outputs": [],
   "source": [
    "# normalizing test set\n",
    "# x_test_norm = x_test / np.max(x_test)   # normalize by dividing 217\n",
    "# print('최소값:',np.min(x_test_norm), ' 최대값:',np.max(x_test_norm)) # after normalizing\n",
    "# x_test_norm.shape"
   ]
  },
  {
   "cell_type": "code",
   "execution_count": 12,
   "id": "0eea17a6",
   "metadata": {},
   "outputs": [],
   "source": [
    "# reshaping test set\n",
    "# x_test_reshaped = x_test_norm.reshape( -1, 28, 28, 3)"
   ]
  },
  {
   "cell_type": "code",
   "execution_count": 13,
   "id": "c7af56cf",
   "metadata": {},
   "outputs": [
    {
     "name": "stdout",
     "output_type": "stream",
     "text": [
      "14/14 - 0s - loss: 0.6384 - accuracy: 0.7357\n",
      "test_loss: 0.6384077072143555\n",
      "test_accuracy: 0.7357142567634583\n"
     ]
    }
   ],
   "source": [
    "# model을 학습시키는 코드를 직접 작성해 보세요.\n",
    "# Hint! model.evaluate()을 사용해 봅시다.\n",
    "test_loss, test_accuracy = model.evaluate(x_test, y_test, verbose=2)\n",
    "print(f\"test_loss: {test_loss}\")\n",
    "print(f\"test_accuracy: {test_accuracy}\")"
   ]
  },
  {
   "cell_type": "markdown",
   "id": "67fc9432",
   "metadata": {},
   "source": [
    "# 회고\n",
    "\n"
   ]
  },
  {
   "cell_type": "code",
   "execution_count": null,
   "id": "8ea7e51d",
   "metadata": {},
   "outputs": [],
   "source": []
  }
 ],
 "metadata": {
  "kernelspec": {
   "display_name": "Python 3 (ipykernel)",
   "language": "python",
   "name": "python3"
  },
  "language_info": {
   "codemirror_mode": {
    "name": "ipython",
    "version": 3
   },
   "file_extension": ".py",
   "mimetype": "text/x-python",
   "name": "python",
   "nbconvert_exporter": "python",
   "pygments_lexer": "ipython3",
   "version": "3.9.7"
  }
 },
 "nbformat": 4,
 "nbformat_minor": 5
}
