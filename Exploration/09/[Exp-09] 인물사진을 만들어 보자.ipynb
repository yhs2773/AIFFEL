{
 "cells": [
  {
   "cell_type": "code",
   "execution_count": null,
   "id": "116aa916",
   "metadata": {},
   "outputs": [],
   "source": [
    "# os: Operating System의 줄임말로, 운영체제에서 제공되는 여러 기능을 파이썬에서 사용할 수 있도록 함 (Ex. 디렉토리 경로 이동, 시스템 환경 변수 가져오기 등)\n",
    "# urllib: URL 작업을 위한 여러 모듈을 모은 패키지. (Ex. urllib.request, urllib.parse, ...)\n",
    "# cv2: OpenCV 라이브러리로, 실시간 컴퓨터 비전을 목적으로 한 프로그래밍 라이브러리\n",
    "# numpy(NumPy): 행렬이나 대규모 다차원 배열을 쉽게 처리할 수 있도록 지원하는 라이브러리. 데이터 구조 외에도 수치 계산을 위해 효율적으로 구현된 기능을 제공\n",
    "# pixellib: 이미지 및 비디오 segmentation을 수행하기 위한 라이브러리. \n",
    "# pixellib.semantic: segmentation 기법 중, semantic segmentation을 쉽게 사용할 수 있도록 만든 라이브러리\n",
    "# matplotlib: 파이썬 프로그래밍 언어 및 수학적 확장 NumPy 라이브러리를 활용한 플로팅 라이브러리로, 데이터 시각화 도구\n",
    "import os\n",
    "import urllib\n",
    "import cv2\n",
    "import numpy as np\n",
    "from pixellib.semantic import semantic_segmentation\n",
    "from matplotlib import pyplot as plt"
   ]
  },
  {
   "cell_type": "code",
   "execution_count": null,
   "id": "6b8205c3",
   "metadata": {},
   "outputs": [],
   "source": [
    "# os 모듈에 있는 getenv() 함수를 이용하여 읽고싶은 파일의 경로를 file_path에 저장\n",
    "# 준비한 이미지 파일의 경로를 이용하여, 이미지 파일을 읽음\n",
    "# cv2.imread(경로): 경로에 해당하는 이미지 파일을 읽어서 변수에 저장\n",
    "img_path = os.getenv('HOME')+'/aiffel/human_segmentation/images/my_image.png'  \n",
    "img_orig = cv2.imread(img_path) \n",
    "\n",
    "print(img_orig.shape)\n",
    "\n",
    "# cv2.cvtColor(입력 이미지, 색상 변환 코드): 입력 이미지의 색상 채널을 변경\n",
    "# cv2.COLOR_BGR2RGB: 이미지 색상 채널을 변경 (BGR 형식을 RGB 형식으로 변경)\n",
    "# plt.imshow(): 저장된 데이터를 이미지의 형식으로 표시, 입력은 RGB(A) 데이터 혹은 2D 스칼라 데이터\n",
    "# https://matplotlib.org/stable/api/_as_gen/matplotlib.pyplot.imshow.html\n",
    "# plt.show(): 현재 열려있는 모든 figure를 표시 (여기서 figure는 이미지, 그래프 등)\n",
    "# https://matplotlib.org/stable/api/_as_gen/matplotlib.pyplot.show.html\n",
    "plt.imshow(cv2.cvtColor(img_orig, cv2.COLOR_BGR2RGB))\n",
    "plt.show()"
   ]
  },
  {
   "cell_type": "code",
   "execution_count": null,
   "id": "54b3a85a",
   "metadata": {},
   "outputs": [],
   "source": [
    "# 먼저 PixelLib에서 제공해 주는 모델을 다운로드합니다.\n",
    "# 저장할 파일 이름을 결정합니다\n",
    "# 1. os.getenv(x)함수는 환경 변수x의 값을 포함하는 문자열 변수를 반환합니다. model_dir 에 \"/aiffel/human_segmentation/models\" 저장\n",
    "# 2. #os.path.join(a, b)는 경로를 병합하여 새 경로 생성 model_file 에 \"/aiffel/aiffel/human_segmentation/models/deeplabv3_xception_tf_dim_ordering_tf_kernels.h5\" 저장\n",
    "# 1\n",
    "model_dir = os.getenv('HOME')+'/aiffel/human_segmentation/models' \n",
    "# 2\n",
    "model_file = os.path.join(model_dir, 'deeplabv3_xception_tf_dim_ordering_tf_kernels.h5') \n",
    "\n",
    "# PixelLib가 제공하는 모델의 url입니다\n",
    "model_url = 'https://github.com/ayoolaolafenwa/PixelLib/releases/download/1.1/deeplabv3_xception_tf_dim_ordering_tf_kernels.h5' \n",
    "\n",
    "# 다운로드를 시작합니다\n",
    "urllib.request.urlretrieve(model_url, model_file) # urllib 패키지 내에 있는 request 모듈의 urlretrieve 함수를 이용해서 model_url에 있는 파일을 다운로드 해서 model_file 파일명으로 저장"
   ]
  },
  {
   "cell_type": "code",
   "execution_count": null,
   "id": "45751dcc",
   "metadata": {},
   "outputs": [],
   "source": [
    "# 그다음 다운로드한 모델을 이용해 PixelLib로 우리가 사용할 세그멘테이션 모델을 생성합니다.\n",
    "model = semantic_segmentation() #PixelLib 라이브러리 에서 가져온 클래스를 가져와서 semantic segmentation을 수행하는 클래스 인스턴스를 만듬\n",
    "model.load_pascalvoc_model(model_file) # pascal voc에 대해 훈련된 예외 모델(model_file)을 로드하는 함수를 호출"
   ]
  },
  {
   "cell_type": "code",
   "execution_count": null,
   "id": "8e40e1b4",
   "metadata": {},
   "outputs": [],
   "source": [
    "# 이제 모델에 이미지를 입력해 볼게요.\n",
    "segvalues, output = model.segmentAsPascalvoc(img_path) # segmentAsPascalvoc()함 수 를 호출 하여 입력된 이미지를 분할, 분할 출력의 배열을 가져옴, 분할 은 pacalvoc 데이터로 학습된 모델을 이용"
   ]
  },
  {
   "cell_type": "code",
   "execution_count": null,
   "id": "33fe8949",
   "metadata": {},
   "outputs": [],
   "source": [
    "# PASCAL VOC 데이터의 라벨 종류는 아래와 같습니다.\n",
    "#pascalvoc 데이터의 라벨종류\n",
    "LABEL_NAMES = [\n",
    "    'background', 'aeroplane', 'bicycle', 'bird', 'boat', 'bottle', 'bus',\n",
    "    'car', 'cat', 'chair', 'cow', 'diningtable', 'dog', 'horse', 'motorbike',\n",
    "    'person', 'pottedplant', 'sheep', 'sofa', 'train', 'tv'\n",
    "]\n",
    "len(LABEL_NAMES)"
   ]
  },
  {
   "cell_type": "code",
   "execution_count": null,
   "id": "c15c66ba",
   "metadata": {},
   "outputs": [],
   "source": [
    "# background를 제외하면 20개의 클래스가 있습니다. 따라서 20 의 의미는 tv 가 되겠네요! 0부터 시작하니까요.\n",
    "# 우리는 이 중 사람(person) 라벨, 즉 15를 가진 영역만 검출해 내고 싶습니다. 이제 사람만 어떻게 추출할 수 있을지 알아봅시다.\n",
    "# 아까 모델에서 나온 출력값을 살짝 살펴볼게요.\n",
    "#segmentAsPascalvoc() 함수 를 호출하여 입력된 이미지를 분할한 뒤 나온 결과값 중 output을 matplotlib을 이용해 출력\n",
    "plt.imshow(output)\n",
    "plt.show()"
   ]
  },
  {
   "cell_type": "code",
   "execution_count": null,
   "id": "5f86eccb",
   "metadata": {},
   "outputs": [],
   "source": [
    "segvalues # segmentAsPascalvoc() 함수를 호출하여 입력된 이미지를 분할한 뒤 나온 결과값 중 배열값을 출력"
   ]
  },
  {
   "cell_type": "code",
   "execution_count": null,
   "id": "9361b3f4",
   "metadata": {},
   "outputs": [],
   "source": [
    "#segvalues에 있는 class_ids를 담겨있는 값을 통해 pacalvoc에 담겨있는 라벨을 출력\n",
    "for class_id in segvalues['class_ids']:\n",
    "    print(LABEL_NAMES[class_id])"
   ]
  },
  {
   "cell_type": "code",
   "execution_count": null,
   "id": "e95b670d",
   "metadata": {},
   "outputs": [],
   "source": [
    "# output에는 세그멘테이션이 된 결과가 각각 다른 색상으로 담겨 있네요.\n",
    "# segvalues에는 class_ids와 masks가 있습니다.\n",
    "# class_ids를 통해 어떤 물체가 담겨 있는지 알 수 있군요!\n",
    "# 이제 물체마다 output에 어떤 색상으로 나타나 있는지만 알아내면 될 것 같습니다.\n",
    "# 아래 코드를 이해하지 않아도 좋습니다\n",
    "# PixelLib에서 그대로 가져온 코드입니다\n",
    "# 주목해야 할 것은 생상 코드 결과물이예요!\n",
    "\n",
    "#컬러맵 만들기 \n",
    "colormap = np.zeros((256, 3), dtype = int)\n",
    "ind = np.arange(256, dtype=int)\n",
    "\n",
    "for shift in reversed(range(8)):\n",
    "    for channel in range(3):\n",
    "        colormap[:, channel] |= ((ind >> channel) & 1) << shift\n",
    "    ind >>= 3\n",
    "\n",
    "colormap[:20] #생성한 20개의 컬러맵 출력"
   ]
  },
  {
   "cell_type": "code",
   "execution_count": null,
   "id": "bc3d3c41",
   "metadata": {},
   "outputs": [],
   "source": [
    "# PixelLib에 따르면 위와 같은 색을 사용했다고 하네요. 그럼 사람을 나타내는 15번째 색상은 무엇일까요?\n",
    "colormap[15] #컬러맵 15에 해당하는 배열 출력 (pacalvoc에 LABEL_NAMES 15번째인 사람)"
   ]
  },
  {
   "cell_type": "code",
   "execution_count": null,
   "id": "7e071cba",
   "metadata": {},
   "outputs": [],
   "source": [
    "# 사람 외에도 다른 물체를 찾아내고 싶다면 colormap[class_id]처럼 찾아낼 수 있겠네요!\n",
    "# 여기서 주의할 것은 output 이미지가 BGR 순서로 채널 배치가 되어 있다는 점이에요. colormap은 RGB 순서이고요.\n",
    "# 그러니 우리가 추출해야 하는 색상 값은 순서를 아래처럼 바꿔 줘야 합니다.\n",
    "seg_color = (128,128,192) # 색상순서 변경 - colormap의 배열은 RGB 순이며 output의 배열은 BGR 순서로 채널 배치가 되어 있어서"
   ]
  },
  {
   "cell_type": "code",
   "execution_count": null,
   "id": "da6997b7",
   "metadata": {},
   "outputs": [],
   "source": [
    "# 이제 seg_color로만 이루어진 마스크를 만들어 봅시다.\n",
    "# output의 픽셀 별로 색상이 seg_color와 같다면 1(True), 다르다면 0(False)이 됩니다\n",
    "# seg_color 값이 person을 값이 므로 사람이 있는 위치를 제외하고는 gray로 출력\n",
    "# cmap 값을 변경하면 다른 색상으로 확인이 가능함\n",
    "seg_map = np.all(output==seg_color, axis=-1) \n",
    "print(seg_map.shape) \n",
    "plt.imshow(seg_map, cmap='gray')\n",
    "plt.show()"
   ]
  },
  {
   "cell_type": "code",
   "execution_count": null,
   "id": "8fe3b499",
   "metadata": {},
   "outputs": [],
   "source": [
    "# 원래 이미지와 겹쳐 보면 세그멘테이션이 얼마나 잘 되었는지 알아보기 쉬울 것 같네요.\n",
    "# 원본이미지를 img_show에 할당한뒤 이미지 사람이 있는 위치와 배경을 분리해서 표현한 color_mask 를 만든뒤 두 이미지를 합쳐서 출력\n",
    "img_show = img_orig.copy()\n",
    "\n",
    "# True과 False인 값을 각각 255과 0으로 바꿔줍니다\n",
    "img_mask = seg_map.astype(np.uint8) * 255\n",
    "\n",
    "# 255와 0을 적당한 색상으로 바꿔봅니다\n",
    "color_mask = cv2.applyColorMap(img_mask, cv2.COLORMAP_JET)\n",
    "\n",
    "# 원본 이미지와 마스트를 적당히 합쳐봅니다\n",
    "# 0.6과 0.4는 두 이미지를 섞는 비율입니다.\n",
    "img_show = cv2.addWeighted(img_show, 0.6, color_mask, 0.4, 0.0)\n",
    "\n",
    "plt.imshow(cv2.cvtColor(img_show, cv2.COLOR_BGR2RGB))\n",
    "plt.show()"
   ]
  },
  {
   "cell_type": "code",
   "execution_count": null,
   "id": "8581ea96",
   "metadata": {},
   "outputs": [],
   "source": [
    "# 이번에는 배경을 흐리게 만듭니다. blur() 함수를 이용합니다.\n",
    "# (13,13)은 blurring kernel size를 뜻합니다\n",
    "# 다양하게 바꿔보세요\n",
    "img_orig_blur = cv2.blur(img_orig, (13,13))\n",
    "\n",
    "# plt.imshow(): 저장된 데이터를 이미지의 형식으로 표시한다.\n",
    "# cv2.cvtColor(입력 이미지, 색상 변환 코드): 입력 이미지의 색상 채널을 변경\n",
    "# cv2.COLOR_BGR2RGB: 원본이 BGR 순서로 픽셀을 읽다보니\n",
    "# 이미지 색상 채널을 변경해야함 (BGR 형식을 RGB 형식으로 변경)   \n",
    "plt.imshow(cv2.cvtColor(img_orig_blur, cv2.COLOR_BGR2RGB))\n",
    "plt.show()"
   ]
  },
  {
   "cell_type": "code",
   "execution_count": null,
   "id": "1194a03e",
   "metadata": {},
   "outputs": [],
   "source": [
    "# 흐려진 이미지에서 세그멘테이션 마스크를 이용해서 배경만 추출하겠습니다.\n",
    "# cv2.cvtColor(입력 이미지, 색상 변환 코드): 입력 이미지의 색상 채널을 변경\n",
    "# cv2.COLOR_BGR2RGB: 원본이 BGR 순서로 픽셀을 읽다보니\n",
    "# 이미지 색상 채널을 변경해야함 (BGR 형식을 RGB 형식으로 변경) \n",
    "img_mask_color = cv2.cvtColor(img_mask, cv2.COLOR_GRAY2BGR)\n",
    "\n",
    "# cv2.bitwise_not(): 이미지가 반전됩니다. 배경이 0 사람이 255 였으나\n",
    "# 연산을 하고 나면 배경은 255 사람은 0입니다.\n",
    "img_bg_mask = cv2.bitwise_not(img_mask_color)\n",
    "\n",
    "# cv2.bitwise_and()을 사용하면 배경만 있는 영상을 얻을 수 있습니다.\n",
    "# 0과 어떤 수를 bitwise_and 연산을 해도 0이 되기 때문에 \n",
    "# 사람이 0인 경우에는 사람이 있던 모든 픽셀이 0이 됩니다. 결국 사람이 사라지고 배경만 남아요!\n",
    "img_bg_blur = cv2.bitwise_and(img_orig_blur, img_bg_mask)\n",
    "plt.imshow(cv2.cvtColor(img_bg_blur, cv2.COLOR_BGR2RGB))\n",
    "plt.show()"
   ]
  },
  {
   "cell_type": "code",
   "execution_count": null,
   "id": "e9ba728c",
   "metadata": {},
   "outputs": [],
   "source": [
    "# 이제 배경 영상과 사람 영상을 합치기만 하면 되겠죠?\n",
    "# np.where(조건, 참일때, 거짓일때)\n",
    "# 세그멘테이션 마스크가 255인 부분만 원본 이미지 값을 가지고 오고 \n",
    "# 아닌 영역은 블러된 이미지 값을 사용합니다.\n",
    "img_concat = np.where(img_mask_color==255, img_orig, img_bg_blur)\n",
    "# plt.imshow(): 저장된 데이터를 이미지의 형식으로 표시한다.\n",
    "# cv2.cvtColor(입력 이미지, 색상 변환 코드): 입력 이미지의 색상 채널을 변경\n",
    "# cv2.COLOR_BGR2RGB: 원본이 BGR 순서로 픽셀을 읽다보니 \n",
    "# 이미지 색상 채널을 변경해야함 (BGR 형식을 RGB 형식으로 변경)\n",
    "plt.imshow(cv2.cvtColor(img_concat, cv2.COLOR_BGR2RGB))\n",
    "plt.show()"
   ]
  },
  {
   "cell_type": "code",
   "execution_count": null,
   "id": "5a7f5fd2",
   "metadata": {},
   "outputs": [],
   "source": [
    "# 만들면서 뭔가 이상한 점이 느껴지지 않으셨나요? 프로젝트를 통해 찾아봅시다.\n",
    "# 우선 주요 라이브러리 버전을 확인해 볼까요?\n",
    "# importlib: 사용자가 파이썬의 import 시스템과 상호작용하기 위한 API를 제공하는 내장 라이브러리\n",
    "# 사용자는 import 함수의 구현 내용과, 실행에 필요한 하위 함수들을 이용해 필요에 맞는 임포터를 직접 구현하거나 임포트 관련 기능들을 자유롭게 사용할 수 있음\n",
    "# importlib.metadata: 설치된 패키지 메타 데이터에 대한 접근을 제공하는 라이브러리.\n",
    "# 해당 코드 블럭에서는 importlib.metadata 안에 있는 version() 함수를 이용하여 pixellib 라이브러리의 버전을 확인\n",
    "\n",
    "from importlib.metadata import version\n",
    "import cv2\n",
    "import pixellib\n",
    "\n",
    "print(cv2.__version__)\n",
    "print(version('pixellib'))"
   ]
  },
  {
   "cell_type": "code",
   "execution_count": null,
   "id": "f1f732d8",
   "metadata": {},
   "outputs": [],
   "source": []
  },
  {
   "cell_type": "code",
   "execution_count": null,
   "id": "a7753d54",
   "metadata": {},
   "outputs": [],
   "source": []
  },
  {
   "cell_type": "code",
   "execution_count": null,
   "id": "bdaac44f",
   "metadata": {},
   "outputs": [],
   "source": []
  },
  {
   "cell_type": "code",
   "execution_count": null,
   "id": "56f8d70c",
   "metadata": {},
   "outputs": [],
   "source": []
  }
 ],
 "metadata": {
  "kernelspec": {
   "display_name": "Python 3 (ipykernel)",
   "language": "python",
   "name": "python3"
  },
  "language_info": {
   "codemirror_mode": {
    "name": "ipython",
    "version": 3
   },
   "file_extension": ".py",
   "mimetype": "text/x-python",
   "name": "python",
   "nbconvert_exporter": "python",
   "pygments_lexer": "ipython3",
   "version": "3.9.7"
  }
 },
 "nbformat": 4,
 "nbformat_minor": 5
}
