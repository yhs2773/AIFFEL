{
 "cells": [
  {
   "cell_type": "markdown",
   "id": "c938d00d",
   "metadata": {},
   "source": [
    "# Preprocessing"
   ]
  },
  {
   "cell_type": "code",
   "execution_count": 1,
   "id": "0db68f95",
   "metadata": {},
   "outputs": [],
   "source": [
    "# load libraries\n",
    "import numpy as np\n",
    "import scipy\n",
    "import implicit\n",
    "import os\n",
    "import pandas as pd\n",
    "\n",
    "from scipy.sparse import csr_matrix\n",
    "from implicit.als import AlternatingLeastSquares\n",
    "\n",
    "# recommended steps from implicit API for implicit library\n",
    "os.environ['OPENBLAS_NUM_THREADS']='1'\n",
    "os.environ['KMP_DUPLICATE_LIB_OK']='True'\n",
    "os.environ['MKL_NUM_THREADS']='1'"
   ]
  },
  {
   "cell_type": "code",
   "execution_count": 2,
   "id": "81aa7dfc",
   "metadata": {},
   "outputs": [
    {
     "data": {
      "text/html": [
       "<div>\n",
       "<style scoped>\n",
       "    .dataframe tbody tr th:only-of-type {\n",
       "        vertical-align: middle;\n",
       "    }\n",
       "\n",
       "    .dataframe tbody tr th {\n",
       "        vertical-align: top;\n",
       "    }\n",
       "\n",
       "    .dataframe thead th {\n",
       "        text-align: right;\n",
       "    }\n",
       "</style>\n",
       "<table border=\"1\" class=\"dataframe\">\n",
       "  <thead>\n",
       "    <tr style=\"text-align: right;\">\n",
       "      <th></th>\n",
       "      <th>user_id</th>\n",
       "      <th>movie_id</th>\n",
       "      <th>ratings</th>\n",
       "      <th>timestamp</th>\n",
       "    </tr>\n",
       "  </thead>\n",
       "  <tbody>\n",
       "    <tr>\n",
       "      <th>0</th>\n",
       "      <td>1</td>\n",
       "      <td>1193</td>\n",
       "      <td>5</td>\n",
       "      <td>978300760</td>\n",
       "    </tr>\n",
       "    <tr>\n",
       "      <th>1</th>\n",
       "      <td>1</td>\n",
       "      <td>661</td>\n",
       "      <td>3</td>\n",
       "      <td>978302109</td>\n",
       "    </tr>\n",
       "    <tr>\n",
       "      <th>2</th>\n",
       "      <td>1</td>\n",
       "      <td>914</td>\n",
       "      <td>3</td>\n",
       "      <td>978301968</td>\n",
       "    </tr>\n",
       "    <tr>\n",
       "      <th>3</th>\n",
       "      <td>1</td>\n",
       "      <td>3408</td>\n",
       "      <td>4</td>\n",
       "      <td>978300275</td>\n",
       "    </tr>\n",
       "    <tr>\n",
       "      <th>4</th>\n",
       "      <td>1</td>\n",
       "      <td>2355</td>\n",
       "      <td>5</td>\n",
       "      <td>978824291</td>\n",
       "    </tr>\n",
       "    <tr>\n",
       "      <th>...</th>\n",
       "      <td>...</td>\n",
       "      <td>...</td>\n",
       "      <td>...</td>\n",
       "      <td>...</td>\n",
       "    </tr>\n",
       "    <tr>\n",
       "      <th>1000204</th>\n",
       "      <td>6040</td>\n",
       "      <td>1091</td>\n",
       "      <td>1</td>\n",
       "      <td>956716541</td>\n",
       "    </tr>\n",
       "    <tr>\n",
       "      <th>1000205</th>\n",
       "      <td>6040</td>\n",
       "      <td>1094</td>\n",
       "      <td>5</td>\n",
       "      <td>956704887</td>\n",
       "    </tr>\n",
       "    <tr>\n",
       "      <th>1000206</th>\n",
       "      <td>6040</td>\n",
       "      <td>562</td>\n",
       "      <td>5</td>\n",
       "      <td>956704746</td>\n",
       "    </tr>\n",
       "    <tr>\n",
       "      <th>1000207</th>\n",
       "      <td>6040</td>\n",
       "      <td>1096</td>\n",
       "      <td>4</td>\n",
       "      <td>956715648</td>\n",
       "    </tr>\n",
       "    <tr>\n",
       "      <th>1000208</th>\n",
       "      <td>6040</td>\n",
       "      <td>1097</td>\n",
       "      <td>4</td>\n",
       "      <td>956715569</td>\n",
       "    </tr>\n",
       "  </tbody>\n",
       "</table>\n",
       "<p>1000209 rows × 4 columns</p>\n",
       "</div>"
      ],
      "text/plain": [
       "         user_id  movie_id  ratings  timestamp\n",
       "0              1      1193        5  978300760\n",
       "1              1       661        3  978302109\n",
       "2              1       914        3  978301968\n",
       "3              1      3408        4  978300275\n",
       "4              1      2355        5  978824291\n",
       "...          ...       ...      ...        ...\n",
       "1000204     6040      1091        1  956716541\n",
       "1000205     6040      1094        5  956704887\n",
       "1000206     6040       562        5  956704746\n",
       "1000207     6040      1096        4  956715648\n",
       "1000208     6040      1097        4  956715569\n",
       "\n",
       "[1000209 rows x 4 columns]"
      ]
     },
     "execution_count": 2,
     "metadata": {},
     "output_type": "execute_result"
    }
   ],
   "source": [
    "# load rating data\n",
    "rating_file_path = os.getenv('HOME') + '/aiffel/recommendata_iu/data/ml-1m/ratings.dat'\n",
    "ratings_cols = ['user_id', 'movie_id', 'ratings', 'timestamp']\n",
    "ratings = pd.read_csv(rating_file_path, sep='::', names=ratings_cols, engine='python', encoding = \"ISO-8859-1\")\n",
    "orginal_data_size = len(ratings)\n",
    "ratings"
   ]
  },
  {
   "cell_type": "code",
   "execution_count": 3,
   "id": "08cefe8b",
   "metadata": {},
   "outputs": [
    {
     "data": {
      "text/html": [
       "<div>\n",
       "<style scoped>\n",
       "    .dataframe tbody tr th:only-of-type {\n",
       "        vertical-align: middle;\n",
       "    }\n",
       "\n",
       "    .dataframe tbody tr th {\n",
       "        vertical-align: top;\n",
       "    }\n",
       "\n",
       "    .dataframe thead th {\n",
       "        text-align: right;\n",
       "    }\n",
       "</style>\n",
       "<table border=\"1\" class=\"dataframe\">\n",
       "  <thead>\n",
       "    <tr style=\"text-align: right;\">\n",
       "      <th></th>\n",
       "      <th>movie_id</th>\n",
       "      <th>title</th>\n",
       "      <th>genre</th>\n",
       "    </tr>\n",
       "  </thead>\n",
       "  <tbody>\n",
       "    <tr>\n",
       "      <th>0</th>\n",
       "      <td>1</td>\n",
       "      <td>Toy Story (1995)</td>\n",
       "      <td>Animation|Children's|Comedy</td>\n",
       "    </tr>\n",
       "    <tr>\n",
       "      <th>1</th>\n",
       "      <td>2</td>\n",
       "      <td>Jumanji (1995)</td>\n",
       "      <td>Adventure|Children's|Fantasy</td>\n",
       "    </tr>\n",
       "    <tr>\n",
       "      <th>2</th>\n",
       "      <td>3</td>\n",
       "      <td>Grumpier Old Men (1995)</td>\n",
       "      <td>Comedy|Romance</td>\n",
       "    </tr>\n",
       "    <tr>\n",
       "      <th>3</th>\n",
       "      <td>4</td>\n",
       "      <td>Waiting to Exhale (1995)</td>\n",
       "      <td>Comedy|Drama</td>\n",
       "    </tr>\n",
       "    <tr>\n",
       "      <th>4</th>\n",
       "      <td>5</td>\n",
       "      <td>Father of the Bride Part II (1995)</td>\n",
       "      <td>Comedy</td>\n",
       "    </tr>\n",
       "    <tr>\n",
       "      <th>...</th>\n",
       "      <td>...</td>\n",
       "      <td>...</td>\n",
       "      <td>...</td>\n",
       "    </tr>\n",
       "    <tr>\n",
       "      <th>3878</th>\n",
       "      <td>3948</td>\n",
       "      <td>Meet the Parents (2000)</td>\n",
       "      <td>Comedy</td>\n",
       "    </tr>\n",
       "    <tr>\n",
       "      <th>3879</th>\n",
       "      <td>3949</td>\n",
       "      <td>Requiem for a Dream (2000)</td>\n",
       "      <td>Drama</td>\n",
       "    </tr>\n",
       "    <tr>\n",
       "      <th>3880</th>\n",
       "      <td>3950</td>\n",
       "      <td>Tigerland (2000)</td>\n",
       "      <td>Drama</td>\n",
       "    </tr>\n",
       "    <tr>\n",
       "      <th>3881</th>\n",
       "      <td>3951</td>\n",
       "      <td>Two Family House (2000)</td>\n",
       "      <td>Drama</td>\n",
       "    </tr>\n",
       "    <tr>\n",
       "      <th>3882</th>\n",
       "      <td>3952</td>\n",
       "      <td>Contender, The (2000)</td>\n",
       "      <td>Drama|Thriller</td>\n",
       "    </tr>\n",
       "  </tbody>\n",
       "</table>\n",
       "<p>3883 rows × 3 columns</p>\n",
       "</div>"
      ],
      "text/plain": [
       "      movie_id                               title  \\\n",
       "0            1                    Toy Story (1995)   \n",
       "1            2                      Jumanji (1995)   \n",
       "2            3             Grumpier Old Men (1995)   \n",
       "3            4            Waiting to Exhale (1995)   \n",
       "4            5  Father of the Bride Part II (1995)   \n",
       "...        ...                                 ...   \n",
       "3878      3948             Meet the Parents (2000)   \n",
       "3879      3949          Requiem for a Dream (2000)   \n",
       "3880      3950                    Tigerland (2000)   \n",
       "3881      3951             Two Family House (2000)   \n",
       "3882      3952               Contender, The (2000)   \n",
       "\n",
       "                             genre  \n",
       "0      Animation|Children's|Comedy  \n",
       "1     Adventure|Children's|Fantasy  \n",
       "2                   Comedy|Romance  \n",
       "3                     Comedy|Drama  \n",
       "4                           Comedy  \n",
       "...                            ...  \n",
       "3878                        Comedy  \n",
       "3879                         Drama  \n",
       "3880                         Drama  \n",
       "3881                         Drama  \n",
       "3882                Drama|Thriller  \n",
       "\n",
       "[3883 rows x 3 columns]"
      ]
     },
     "execution_count": 3,
     "metadata": {},
     "output_type": "execute_result"
    }
   ],
   "source": [
    "# load movie data\n",
    "movie_file_path=os.getenv('HOME') + '/aiffel/recommendata_iu/data/ml-1m/movies.dat'\n",
    "cols = ['movie_id', 'title', 'genre'] \n",
    "movies = pd.read_csv(movie_file_path, sep='::', names=cols, engine='python', encoding='ISO-8859-1')\n",
    "movies"
   ]
  },
  {
   "cell_type": "code",
   "execution_count": 4,
   "id": "1baca363",
   "metadata": {},
   "outputs": [
    {
     "name": "stdout",
     "output_type": "stream",
     "text": [
      "orginal_data_size: 1000209, filtered_data_size: 836478\n",
      "Ratio of Remaining Data is 83.63%\n"
     ]
    }
   ],
   "source": [
    "# filter df to include rating of 3 or above\n",
    "ratings = ratings[ratings['ratings']>=3]\n",
    "filtered_data_size = len(ratings)\n",
    "\n",
    "print(f'orginal_data_size: {orginal_data_size}, filtered_data_size: {filtered_data_size}')\n",
    "print(f'Ratio of Remaining Data is {filtered_data_size / orginal_data_size:.2%}')"
   ]
  },
  {
   "cell_type": "code",
   "execution_count": 5,
   "id": "42080036",
   "metadata": {},
   "outputs": [
    {
     "name": "stderr",
     "output_type": "stream",
     "text": [
      "/opt/conda/lib/python3.9/site-packages/pandas/core/frame.py:5039: SettingWithCopyWarning: \n",
      "A value is trying to be set on a copy of a slice from a DataFrame\n",
      "\n",
      "See the caveats in the documentation: https://pandas.pydata.org/pandas-docs/stable/user_guide/indexing.html#returning-a-view-versus-a-copy\n",
      "  return super().rename(\n"
     ]
    }
   ],
   "source": [
    "# change column name 'raitings' to 'counts'\n",
    "ratings.rename(columns={'ratings':'counts'}, inplace=True)"
   ]
  },
  {
   "cell_type": "code",
   "execution_count": 6,
   "id": "b6ec5f39",
   "metadata": {},
   "outputs": [
    {
     "data": {
      "text/plain": [
       "0          5\n",
       "1          3\n",
       "2          3\n",
       "3          4\n",
       "4          5\n",
       "          ..\n",
       "1000203    3\n",
       "1000205    5\n",
       "1000206    5\n",
       "1000207    4\n",
       "1000208    4\n",
       "Name: counts, Length: 836478, dtype: int64"
      ]
     },
     "execution_count": 6,
     "metadata": {},
     "output_type": "execute_result"
    }
   ],
   "source": [
    "ratings['counts']"
   ]
  },
  {
   "cell_type": "code",
   "execution_count": 7,
   "id": "bf48e224",
   "metadata": {},
   "outputs": [
    {
     "data": {
      "text/html": [
       "<div>\n",
       "<style scoped>\n",
       "    .dataframe tbody tr th:only-of-type {\n",
       "        vertical-align: middle;\n",
       "    }\n",
       "\n",
       "    .dataframe tbody tr th {\n",
       "        vertical-align: top;\n",
       "    }\n",
       "\n",
       "    .dataframe thead th {\n",
       "        text-align: right;\n",
       "    }\n",
       "</style>\n",
       "<table border=\"1\" class=\"dataframe\">\n",
       "  <thead>\n",
       "    <tr style=\"text-align: right;\">\n",
       "      <th></th>\n",
       "      <th>user_id</th>\n",
       "      <th>movie_id</th>\n",
       "      <th>counts</th>\n",
       "      <th>timestamp</th>\n",
       "      <th>title</th>\n",
       "      <th>genre</th>\n",
       "    </tr>\n",
       "  </thead>\n",
       "  <tbody>\n",
       "    <tr>\n",
       "      <th>0</th>\n",
       "      <td>1</td>\n",
       "      <td>1193</td>\n",
       "      <td>5</td>\n",
       "      <td>978300760</td>\n",
       "      <td>One Flew Over the Cuckoo's Nest (1975)</td>\n",
       "      <td>Drama</td>\n",
       "    </tr>\n",
       "    <tr>\n",
       "      <th>1</th>\n",
       "      <td>1</td>\n",
       "      <td>661</td>\n",
       "      <td>3</td>\n",
       "      <td>978302109</td>\n",
       "      <td>James and the Giant Peach (1996)</td>\n",
       "      <td>Animation|Children's|Musical</td>\n",
       "    </tr>\n",
       "    <tr>\n",
       "      <th>2</th>\n",
       "      <td>1</td>\n",
       "      <td>914</td>\n",
       "      <td>3</td>\n",
       "      <td>978301968</td>\n",
       "      <td>My Fair Lady (1964)</td>\n",
       "      <td>Musical|Romance</td>\n",
       "    </tr>\n",
       "    <tr>\n",
       "      <th>3</th>\n",
       "      <td>1</td>\n",
       "      <td>3408</td>\n",
       "      <td>4</td>\n",
       "      <td>978300275</td>\n",
       "      <td>Erin Brockovich (2000)</td>\n",
       "      <td>Drama</td>\n",
       "    </tr>\n",
       "    <tr>\n",
       "      <th>4</th>\n",
       "      <td>1</td>\n",
       "      <td>2355</td>\n",
       "      <td>5</td>\n",
       "      <td>978824291</td>\n",
       "      <td>Bug's Life, A (1998)</td>\n",
       "      <td>Animation|Children's|Comedy</td>\n",
       "    </tr>\n",
       "    <tr>\n",
       "      <th>...</th>\n",
       "      <td>...</td>\n",
       "      <td>...</td>\n",
       "      <td>...</td>\n",
       "      <td>...</td>\n",
       "      <td>...</td>\n",
       "      <td>...</td>\n",
       "    </tr>\n",
       "    <tr>\n",
       "      <th>836473</th>\n",
       "      <td>6040</td>\n",
       "      <td>1090</td>\n",
       "      <td>3</td>\n",
       "      <td>956715518</td>\n",
       "      <td>Platoon (1986)</td>\n",
       "      <td>Drama|War</td>\n",
       "    </tr>\n",
       "    <tr>\n",
       "      <th>836474</th>\n",
       "      <td>6040</td>\n",
       "      <td>1094</td>\n",
       "      <td>5</td>\n",
       "      <td>956704887</td>\n",
       "      <td>Crying Game, The (1992)</td>\n",
       "      <td>Drama|Romance|War</td>\n",
       "    </tr>\n",
       "    <tr>\n",
       "      <th>836475</th>\n",
       "      <td>6040</td>\n",
       "      <td>562</td>\n",
       "      <td>5</td>\n",
       "      <td>956704746</td>\n",
       "      <td>Welcome to the Dollhouse (1995)</td>\n",
       "      <td>Comedy|Drama</td>\n",
       "    </tr>\n",
       "    <tr>\n",
       "      <th>836476</th>\n",
       "      <td>6040</td>\n",
       "      <td>1096</td>\n",
       "      <td>4</td>\n",
       "      <td>956715648</td>\n",
       "      <td>Sophie's Choice (1982)</td>\n",
       "      <td>Drama</td>\n",
       "    </tr>\n",
       "    <tr>\n",
       "      <th>836477</th>\n",
       "      <td>6040</td>\n",
       "      <td>1097</td>\n",
       "      <td>4</td>\n",
       "      <td>956715569</td>\n",
       "      <td>E.T. the Extra-Terrestrial (1982)</td>\n",
       "      <td>Children's|Drama|Fantasy|Sci-Fi</td>\n",
       "    </tr>\n",
       "  </tbody>\n",
       "</table>\n",
       "<p>836478 rows × 6 columns</p>\n",
       "</div>"
      ],
      "text/plain": [
       "        user_id  movie_id  counts  timestamp  \\\n",
       "0             1      1193       5  978300760   \n",
       "1             1       661       3  978302109   \n",
       "2             1       914       3  978301968   \n",
       "3             1      3408       4  978300275   \n",
       "4             1      2355       5  978824291   \n",
       "...         ...       ...     ...        ...   \n",
       "836473     6040      1090       3  956715518   \n",
       "836474     6040      1094       5  956704887   \n",
       "836475     6040       562       5  956704746   \n",
       "836476     6040      1096       4  956715648   \n",
       "836477     6040      1097       4  956715569   \n",
       "\n",
       "                                         title  \\\n",
       "0       One Flew Over the Cuckoo's Nest (1975)   \n",
       "1             James and the Giant Peach (1996)   \n",
       "2                          My Fair Lady (1964)   \n",
       "3                       Erin Brockovich (2000)   \n",
       "4                         Bug's Life, A (1998)   \n",
       "...                                        ...   \n",
       "836473                          Platoon (1986)   \n",
       "836474                 Crying Game, The (1992)   \n",
       "836475         Welcome to the Dollhouse (1995)   \n",
       "836476                  Sophie's Choice (1982)   \n",
       "836477       E.T. the Extra-Terrestrial (1982)   \n",
       "\n",
       "                                  genre  \n",
       "0                                 Drama  \n",
       "1          Animation|Children's|Musical  \n",
       "2                       Musical|Romance  \n",
       "3                                 Drama  \n",
       "4           Animation|Children's|Comedy  \n",
       "...                                 ...  \n",
       "836473                        Drama|War  \n",
       "836474                Drama|Romance|War  \n",
       "836475                     Comedy|Drama  \n",
       "836476                            Drama  \n",
       "836477  Children's|Drama|Fantasy|Sci-Fi  \n",
       "\n",
       "[836478 rows x 6 columns]"
      ]
     },
     "execution_count": 7,
     "metadata": {},
     "output_type": "execute_result"
    }
   ],
   "source": [
    "# merge ratings and movies df\n",
    "ratings = pd.merge(left=ratings, right=movies, how='left')\n",
    "ratings"
   ]
  },
  {
   "cell_type": "markdown",
   "id": "6be8d27f",
   "metadata": {},
   "source": [
    "# Analyzing data"
   ]
  },
  {
   "cell_type": "code",
   "execution_count": 8,
   "id": "6d0211bb",
   "metadata": {},
   "outputs": [
    {
     "data": {
      "text/plain": [
       "3628"
      ]
     },
     "execution_count": 8,
     "metadata": {},
     "output_type": "execute_result"
    }
   ],
   "source": [
    "# num of unique movie\n",
    "ratings['movie_id'].nunique()"
   ]
  },
  {
   "cell_type": "code",
   "execution_count": 9,
   "id": "c4fd9219",
   "metadata": {},
   "outputs": [
    {
     "data": {
      "text/plain": [
       "6039"
      ]
     },
     "execution_count": 9,
     "metadata": {},
     "output_type": "execute_result"
    }
   ],
   "source": [
    "# num of unique user id\n",
    "ratings['user_id'].nunique()"
   ]
  },
  {
   "cell_type": "code",
   "execution_count": 10,
   "id": "52a37380",
   "metadata": {},
   "outputs": [
    {
     "data": {
      "text/plain": [
       "movie_id  title                                                \n",
       "2858      American Beauty (1999)                                   3211\n",
       "260       Star Wars: Episode IV - A New Hope (1977)                2910\n",
       "1196      Star Wars: Episode V - The Empire Strikes Back (1980)    2885\n",
       "1210      Star Wars: Episode VI - Return of the Jedi (1983)        2716\n",
       "2028      Saving Private Ryan (1998)                               2561\n",
       "589       Terminator 2: Judgment Day (1991)                        2509\n",
       "593       Silence of the Lambs, The (1991)                         2498\n",
       "1198      Raiders of the Lost Ark (1981)                           2473\n",
       "1270      Back to the Future (1985)                                2460\n",
       "2571      Matrix, The (1999)                                       2434\n",
       "480       Jurassic Park (1993)                                     2413\n",
       "2762      Sixth Sense, The (1999)                                  2385\n",
       "608       Fargo (1996)                                             2371\n",
       "110       Braveheart (1995)                                        2314\n",
       "1580      Men in Black (1997)                                      2297\n",
       "527       Schindler's List (1993)                                  2257\n",
       "1197      Princess Bride, The (1987)                               2252\n",
       "2396      Shakespeare in Love (1998)                               2213\n",
       "1617      L.A. Confidential (1997)                                 2210\n",
       "318       Shawshank Redemption, The (1994)                         2194\n",
       "858       Godfather, The (1972)                                    2167\n",
       "1265      Groundhog Day (1993)                                     2121\n",
       "1097      E.T. the Extra-Terrestrial (1982)                        2102\n",
       "2997      Being John Malkovich (1999)                              2066\n",
       "2716      Ghostbusters (1984)                                      2051\n",
       "296       Pulp Fiction (1994)                                      2030\n",
       "356       Forrest Gump (1994)                                      2022\n",
       "1240      Terminator, The (1984)                                   2019\n",
       "1         Toy Story (1995)                                         2000\n",
       "457       Fugitive, The (1993)                                     1941\n",
       "Name: user_id, dtype: int64"
      ]
     },
     "execution_count": 10,
     "metadata": {},
     "output_type": "execute_result"
    }
   ],
   "source": [
    "# view 30 most popular movies\n",
    "movie_count = ratings.groupby(['movie_id', 'title']).count()['user_id'].sort_values(ascending=False).head(30)\n",
    "movie_count"
   ]
  },
  {
   "cell_type": "code",
   "execution_count": 11,
   "id": "73988d1d",
   "metadata": {},
   "outputs": [
    {
     "data": {
      "text/plain": [
       "count    6039.000000\n",
       "mean      138.512668\n",
       "std       156.241599\n",
       "min         1.000000\n",
       "25%        38.000000\n",
       "50%        81.000000\n",
       "75%       177.000000\n",
       "max      1968.000000\n",
       "Name: movie_id, dtype: float64"
      ]
     },
     "execution_count": 11,
     "metadata": {},
     "output_type": "execute_result"
    }
   ],
   "source": [
    "# stats of movie count by user\n",
    "user_count = ratings.groupby('user_id')['movie_id'].count()\n",
    "user_count.describe()"
   ]
  },
  {
   "cell_type": "code",
   "execution_count": 12,
   "id": "2ec69382",
   "metadata": {},
   "outputs": [
    {
     "data": {
      "text/plain": [
       "count    6039.000000\n",
       "mean        4.055970\n",
       "std         0.432143\n",
       "min         3.000000\n",
       "25%         4.000000\n",
       "50%         4.000000\n",
       "75%         4.000000\n",
       "max         5.000000\n",
       "Name: counts, dtype: float64"
      ]
     },
     "execution_count": 12,
     "metadata": {},
     "output_type": "execute_result"
    }
   ],
   "source": [
    "# stats of ratings by user\n",
    "user_median = ratings.groupby('user_id')['counts'].median()\n",
    "user_median.describe()"
   ]
  },
  {
   "cell_type": "code",
   "execution_count": 13,
   "id": "1a1cb648",
   "metadata": {},
   "outputs": [
    {
     "data": {
      "text/html": [
       "<div>\n",
       "<style scoped>\n",
       "    .dataframe tbody tr th:only-of-type {\n",
       "        vertical-align: middle;\n",
       "    }\n",
       "\n",
       "    .dataframe tbody tr th {\n",
       "        vertical-align: top;\n",
       "    }\n",
       "\n",
       "    .dataframe thead th {\n",
       "        text-align: right;\n",
       "    }\n",
       "</style>\n",
       "<table border=\"1\" class=\"dataframe\">\n",
       "  <thead>\n",
       "    <tr style=\"text-align: right;\">\n",
       "      <th></th>\n",
       "      <th>user_id</th>\n",
       "      <th>movie_id</th>\n",
       "      <th>counts</th>\n",
       "      <th>timestamp</th>\n",
       "      <th>title</th>\n",
       "      <th>genre</th>\n",
       "    </tr>\n",
       "  </thead>\n",
       "  <tbody>\n",
       "    <tr>\n",
       "      <th>836473</th>\n",
       "      <td>6040</td>\n",
       "      <td>1090.0</td>\n",
       "      <td>3</td>\n",
       "      <td>956715518.0</td>\n",
       "      <td>Platoon (1986)</td>\n",
       "      <td>Drama|War</td>\n",
       "    </tr>\n",
       "    <tr>\n",
       "      <th>836474</th>\n",
       "      <td>6040</td>\n",
       "      <td>1094.0</td>\n",
       "      <td>5</td>\n",
       "      <td>956704887.0</td>\n",
       "      <td>Crying Game, The (1992)</td>\n",
       "      <td>Drama|Romance|War</td>\n",
       "    </tr>\n",
       "    <tr>\n",
       "      <th>836475</th>\n",
       "      <td>6040</td>\n",
       "      <td>562.0</td>\n",
       "      <td>5</td>\n",
       "      <td>956704746.0</td>\n",
       "      <td>Welcome to the Dollhouse (1995)</td>\n",
       "      <td>Comedy|Drama</td>\n",
       "    </tr>\n",
       "    <tr>\n",
       "      <th>836476</th>\n",
       "      <td>6040</td>\n",
       "      <td>1096.0</td>\n",
       "      <td>4</td>\n",
       "      <td>956715648.0</td>\n",
       "      <td>Sophie's Choice (1982)</td>\n",
       "      <td>Drama</td>\n",
       "    </tr>\n",
       "    <tr>\n",
       "      <th>836477</th>\n",
       "      <td>6040</td>\n",
       "      <td>1097.0</td>\n",
       "      <td>4</td>\n",
       "      <td>956715569.0</td>\n",
       "      <td>E.T. the Extra-Terrestrial (1982)</td>\n",
       "      <td>Children's|Drama|Fantasy|Sci-Fi</td>\n",
       "    </tr>\n",
       "    <tr>\n",
       "      <th>0</th>\n",
       "      <td>hs</td>\n",
       "      <td>NaN</td>\n",
       "      <td>4</td>\n",
       "      <td>NaN</td>\n",
       "      <td>Doctor Strange (2016)</td>\n",
       "      <td>NaN</td>\n",
       "    </tr>\n",
       "    <tr>\n",
       "      <th>1</th>\n",
       "      <td>hs</td>\n",
       "      <td>NaN</td>\n",
       "      <td>4</td>\n",
       "      <td>NaN</td>\n",
       "      <td>The Dark Knight (2008)</td>\n",
       "      <td>NaN</td>\n",
       "    </tr>\n",
       "    <tr>\n",
       "      <th>2</th>\n",
       "      <td>hs</td>\n",
       "      <td>NaN</td>\n",
       "      <td>4</td>\n",
       "      <td>NaN</td>\n",
       "      <td>Iron Man (2008)</td>\n",
       "      <td>NaN</td>\n",
       "    </tr>\n",
       "    <tr>\n",
       "      <th>3</th>\n",
       "      <td>hs</td>\n",
       "      <td>NaN</td>\n",
       "      <td>3</td>\n",
       "      <td>NaN</td>\n",
       "      <td>The Lord of the Rings: The Return of the King ...</td>\n",
       "      <td>NaN</td>\n",
       "    </tr>\n",
       "    <tr>\n",
       "      <th>4</th>\n",
       "      <td>hs</td>\n",
       "      <td>NaN</td>\n",
       "      <td>4</td>\n",
       "      <td>NaN</td>\n",
       "      <td>Schindler's List (1993)</td>\n",
       "      <td>NaN</td>\n",
       "    </tr>\n",
       "  </tbody>\n",
       "</table>\n",
       "</div>"
      ],
      "text/plain": [
       "       user_id  movie_id  counts    timestamp  \\\n",
       "836473    6040    1090.0       3  956715518.0   \n",
       "836474    6040    1094.0       5  956704887.0   \n",
       "836475    6040     562.0       5  956704746.0   \n",
       "836476    6040    1096.0       4  956715648.0   \n",
       "836477    6040    1097.0       4  956715569.0   \n",
       "0           hs       NaN       4          NaN   \n",
       "1           hs       NaN       4          NaN   \n",
       "2           hs       NaN       4          NaN   \n",
       "3           hs       NaN       3          NaN   \n",
       "4           hs       NaN       4          NaN   \n",
       "\n",
       "                                                    title  \\\n",
       "836473                                     Platoon (1986)   \n",
       "836474                            Crying Game, The (1992)   \n",
       "836475                    Welcome to the Dollhouse (1995)   \n",
       "836476                             Sophie's Choice (1982)   \n",
       "836477                  E.T. the Extra-Terrestrial (1982)   \n",
       "0                                   Doctor Strange (2016)   \n",
       "1                                  The Dark Knight (2008)   \n",
       "2                                         Iron Man (2008)   \n",
       "3       The Lord of the Rings: The Return of the King ...   \n",
       "4                                 Schindler's List (1993)   \n",
       "\n",
       "                                  genre  \n",
       "836473                        Drama|War  \n",
       "836474                Drama|Romance|War  \n",
       "836475                     Comedy|Drama  \n",
       "836476                            Drama  \n",
       "836477  Children's|Drama|Fantasy|Sci-Fi  \n",
       "0                                   NaN  \n",
       "1                                   NaN  \n",
       "2                                   NaN  \n",
       "3                                   NaN  \n",
       "4                                   NaN  "
      ]
     },
     "execution_count": 13,
     "metadata": {},
     "output_type": "execute_result"
    }
   ],
   "source": [
    "# add my movies manually\n",
    "my_movies = ['Doctor Strange (2016)', 'The Dark Knight (2008)', 'Iron Man (2008)',\n",
    "             'The Lord of the Rings: The Return of the King (2003)', \"Schindler's List (1993)\"]\n",
    "\n",
    "# add my movie ratings manually\n",
    "my_list = pd.DataFrame({'user_id': ['hs']*5, 'title': my_movies, 'counts':[4, 4, 4, 3, 4]})\n",
    "\n",
    "if not ratings.isin({'user_id':['hs']})['user_id'].any():       # user_id doesn't have 'hs'\n",
    "    ratings = ratings.append(my_list)                           # append my_movies data\n",
    "\n",
    "ratings.tail(10)"
   ]
  },
  {
   "cell_type": "code",
   "execution_count": 14,
   "id": "4acc4f05",
   "metadata": {},
   "outputs": [],
   "source": [
    "# unique nums of user and movies\n",
    "user_unique = ratings['user_id'].unique()\n",
    "movie_unique = ratings['title'].unique()"
   ]
  },
  {
   "cell_type": "code",
   "execution_count": 15,
   "id": "231fb35d",
   "metadata": {},
   "outputs": [],
   "source": [
    "# user, movie indexing code; idx is abbreviation for index\n",
    "user_to_idx = {v:k for k,v in enumerate(user_unique)}\n",
    "movie_to_idx = {v:k for k,v in enumerate(movie_unique)}"
   ]
  },
  {
   "cell_type": "code",
   "execution_count": 16,
   "id": "aef39e17",
   "metadata": {},
   "outputs": [
    {
     "name": "stdout",
     "output_type": "stream",
     "text": [
      "6039\n",
      "3630\n"
     ]
    }
   ],
   "source": [
    "# cross-check idx \n",
    "print(user_to_idx['hs'])\n",
    "print(movie_to_idx['Iron Man (2008)'])"
   ]
  },
  {
   "cell_type": "code",
   "execution_count": 17,
   "id": "bae2f295",
   "metadata": {},
   "outputs": [
    {
     "name": "stdout",
     "output_type": "stream",
     "text": [
      "user_id column indexing OK!!\n",
      "movie_id column indexing OK!!\n"
     ]
    }
   ],
   "source": [
    "# change values in data columns via indexing\n",
    "# refer to https://wikidocs.net/16 for dictionary.get function\n",
    "\n",
    "# use user_to_idx.get to get all indexed series from user_id column\n",
    "# for any anomaly rows, idx becomes NaN, so remove with dropna()\n",
    "temp_user_data = ratings['user_id'].map(user_to_idx.get).dropna()\n",
    "if len(temp_user_data) == len(ratings):   # if all rows are correctly indexed\n",
    "    print('user_id column indexing OK!!')\n",
    "    ratings['user_id'] = temp_user_data   # swap data['user_id'] to indexed Series\n",
    "else:\n",
    "    print('user_id column indexing Fail!!')\n",
    "\n",
    "# use movie_to_idx to do a same process for ratings['title'] column\n",
    "temp_movie_data = ratings['title'].map(movie_to_idx.get).dropna()\n",
    "if len(temp_movie_data) == len(ratings):\n",
    "    print('movie_id column indexing OK!!')\n",
    "    ratings['title'] = temp_movie_data\n",
    "else:\n",
    "    print('movie_id column indexing Fail!!')"
   ]
  },
  {
   "cell_type": "markdown",
   "id": "33b82768",
   "metadata": {},
   "source": [
    "# CSR matrix and ALS model train"
   ]
  },
  {
   "cell_type": "code",
   "execution_count": 18,
   "id": "b3484de1",
   "metadata": {},
   "outputs": [
    {
     "data": {
      "text/plain": [
       "<6040x3632 sparse matrix of type '<class 'numpy.int64'>'\n",
       "\twith 836483 stored elements in Compressed Sparse Row format>"
      ]
     },
     "execution_count": 18,
     "metadata": {},
     "output_type": "execute_result"
    }
   ],
   "source": [
    "# create CSR matrix\n",
    "num_user = ratings['user_id'].nunique()\n",
    "num_movie = ratings['title'].nunique()\n",
    "\n",
    "csr_data = csr_matrix((ratings.counts, (ratings.user_id, ratings.title)), shape= (num_user, num_movie))\n",
    "csr_data"
   ]
  },
  {
   "cell_type": "code",
   "execution_count": 19,
   "id": "2810e4ab",
   "metadata": {},
   "outputs": [],
   "source": [
    "# declare Implicit AlternatingLeastSquares\n",
    "als_model = AlternatingLeastSquares(factors=2000, regularization=0.01, use_gpu=False, iterations=50, dtype=np.float32)"
   ]
  },
  {
   "cell_type": "code",
   "execution_count": 20,
   "id": "2c892d13",
   "metadata": {},
   "outputs": [
    {
     "data": {
      "text/plain": [
       "<3632x6040 sparse matrix of type '<class 'numpy.int64'>'\n",
       "\twith 836483 stored elements in Compressed Sparse Column format>"
      ]
     },
     "execution_count": 20,
     "metadata": {},
     "output_type": "execute_result"
    }
   ],
   "source": [
    "# als model receives (item x user) matrix format as input, so need to transpose\n",
    "csr_data_transpose = csr_data.T\n",
    "csr_data_transpose"
   ]
  },
  {
   "cell_type": "code",
   "execution_count": 21,
   "id": "e499cc0b",
   "metadata": {},
   "outputs": [
    {
     "data": {
      "application/vnd.jupyter.widget-view+json": {
       "model_id": "121cfb63c4a3446daa259caa9fa1216e",
       "version_major": 2,
       "version_minor": 0
      },
      "text/plain": [
       "  0%|          | 0/50 [00:00<?, ?it/s]"
      ]
     },
     "metadata": {},
     "output_type": "display_data"
    }
   ],
   "source": [
    "# train model\n",
    "als_model.fit(csr_data_transpose)"
   ]
  },
  {
   "cell_type": "code",
   "execution_count": 22,
   "id": "27843b9b",
   "metadata": {},
   "outputs": [],
   "source": [
    "# assign idx of hs and doctor strange, then create hs and doctor_strange vectors\n",
    "hs, doctor_strange = user_to_idx['hs'], movie_to_idx['Doctor Strange (2016)']\n",
    "hs_vector, doctor_strange_vector = als_model.user_factors[hs], als_model.item_factors[doctor_strange]"
   ]
  },
  {
   "cell_type": "code",
   "execution_count": 23,
   "id": "0254bbe2",
   "metadata": {},
   "outputs": [
    {
     "data": {
      "text/plain": [
       "array([-0.04923557,  0.00198815, -0.24138722, ...,  0.29524797,\n",
       "       -0.27099293, -0.38688943], dtype=float32)"
      ]
     },
     "execution_count": 23,
     "metadata": {},
     "output_type": "execute_result"
    }
   ],
   "source": [
    "hs_vector"
   ]
  },
  {
   "cell_type": "code",
   "execution_count": 24,
   "id": "c923c32e",
   "metadata": {},
   "outputs": [
    {
     "data": {
      "text/plain": [
       "array([0.0045209 , 0.00691634, 0.00357258, ..., 0.00634889, 0.00331839,\n",
       "       0.00229167], dtype=float32)"
      ]
     },
     "execution_count": 24,
     "metadata": {},
     "output_type": "execute_result"
    }
   ],
   "source": [
    "doctor_strange_vector"
   ]
  },
  {
   "cell_type": "markdown",
   "id": "7dbe6d5b",
   "metadata": {},
   "source": [
    "# Find preferences"
   ]
  },
  {
   "cell_type": "code",
   "execution_count": 25,
   "id": "c3fd810d",
   "metadata": {},
   "outputs": [
    {
     "data": {
      "text/plain": [
       "0.43893155"
      ]
     },
     "execution_count": 25,
     "metadata": {},
     "output_type": "execute_result"
    }
   ],
   "source": [
    "# dot product of hs and dotor strange\n",
    "np.dot(hs_vector, doctor_strange_vector) # 0.026514249"
   ]
  },
  {
   "cell_type": "code",
   "execution_count": 26,
   "id": "75528ac4",
   "metadata": {},
   "outputs": [
    {
     "data": {
      "text/plain": [
       "0.3582708"
      ]
     },
     "execution_count": 26,
     "metadata": {},
     "output_type": "execute_result"
    }
   ],
   "source": [
    "# dot product of hs and dark knight\n",
    "dark_knight = movie_to_idx['The Lord of the Rings: The Return of the King (2003)']\n",
    "dark_knight_vector = als_model.item_factors[dark_knight]\n",
    "np.dot(hs_vector, dark_knight_vector) # 0.026508378"
   ]
  },
  {
   "cell_type": "code",
   "execution_count": 27,
   "id": "1015f212",
   "metadata": {},
   "outputs": [
    {
     "data": {
      "text/plain": [
       "0.42138603"
      ]
     },
     "execution_count": 27,
     "metadata": {},
     "output_type": "execute_result"
    }
   ],
   "source": [
    "# dot product of hs and iron man\n",
    "iron_man = movie_to_idx['Iron Man (2008)']\n",
    "iron_man_vector = als_model.item_factors[iron_man]\n",
    "np.dot(hs_vector, iron_man_vector) # 0.02691814"
   ]
  },
  {
   "cell_type": "code",
   "execution_count": 28,
   "id": "d5732b5a",
   "metadata": {},
   "outputs": [
    {
     "data": {
      "text/plain": [
       "0.00605844"
      ]
     },
     "execution_count": 28,
     "metadata": {},
     "output_type": "execute_result"
    }
   ],
   "source": [
    "american_beauty = movie_to_idx['American Beauty (1999)']\n",
    "american_beauty_vector = als_model.item_factors[american_beauty]\n",
    "np.dot(hs_vector, american_beauty_vector) # 0.005823412"
   ]
  },
  {
   "cell_type": "code",
   "execution_count": 29,
   "id": "1d750a7b",
   "metadata": {},
   "outputs": [
    {
     "data": {
      "text/plain": [
       "[(3628, 1.0000001),\n",
       " (3630, 0.9971928),\n",
       " (3629, 0.9957552),\n",
       " (3631, 0.99496996),\n",
       " (3573, 0.96312493),\n",
       " (3548, 0.962191),\n",
       " (2618, 0.962115),\n",
       " (3579, 0.96199065),\n",
       " (3583, 0.9619904),\n",
       " (3578, 0.9617172),\n",
       " (3441, 0.96157974),\n",
       " (3577, 0.961563),\n",
       " (3574, 0.9613773),\n",
       " (3575, 0.960772),\n",
       " (3472, 0.96076375)]"
      ]
     },
     "execution_count": 29,
     "metadata": {},
     "output_type": "execute_result"
    }
   ],
   "source": [
    "# find similar movies to doctor strange using als_model.similar_items\n",
    "favorite_movie = 'Doctor Strange (2016)'\n",
    "movie_id = movie_to_idx[favorite_movie]\n",
    "similar_movie = als_model.similar_items(movie_id, N=15)\n",
    "similar_movie"
   ]
  },
  {
   "cell_type": "code",
   "execution_count": 30,
   "id": "ea4d0c09",
   "metadata": {},
   "outputs": [
    {
     "data": {
      "text/plain": [
       "['Doctor Strange (2016)',\n",
       " 'Iron Man (2008)',\n",
       " 'The Dark Knight (2008)',\n",
       " 'The Lord of the Rings: The Return of the King (2003)',\n",
       " 'Male and Female (1919)',\n",
       " 'Horror Hotel (a.k.a. The City of the Dead) (1960)',\n",
       " \"Wend Kuuni (God's Gift) (1982)\",\n",
       " 'Last of the High Kings, The (a.k.a. Summer Fling) (1996)',\n",
       " 'Neon Bible, The (1995)',\n",
       " 'Number Seventeen (1932)',\n",
       " 'Tokyo Fist (1995)',\n",
       " 'Daens (1992)',\n",
       " 'Century (1993)',\n",
       " \"Brother's Kiss, A (1997)\",\n",
       " 'Show, The (1995)']"
      ]
     },
     "execution_count": 30,
     "metadata": {},
     "output_type": "execute_result"
    }
   ],
   "source": [
    "# flip movie_to_idx to generate dict to retrieve movie titles based on index\n",
    "idx_to_movie = {v:k for k,v in movie_to_idx.items()}\n",
    "[idx_to_movie[i[0]] for i in similar_movie]"
   ]
  },
  {
   "cell_type": "code",
   "execution_count": 31,
   "id": "65e53bd0",
   "metadata": {},
   "outputs": [],
   "source": [
    "# function to get similar movies when inputting a movie title\n",
    "def get_similar_movie(movie_name: str):\n",
    "    movie_id = movie_to_idx[movie_name]\n",
    "    similar_movie = als_model.similar_items(movie_id)\n",
    "    similar_movie = [idx_to_movie[i[0]] for i in similar_movie]\n",
    "    return similar_movie"
   ]
  },
  {
   "cell_type": "code",
   "execution_count": 32,
   "id": "5526268d",
   "metadata": {
    "scrolled": true
   },
   "outputs": [
    {
     "data": {
      "text/plain": [
       "['Iron Man (2008)',\n",
       " 'Doctor Strange (2016)',\n",
       " 'The Dark Knight (2008)',\n",
       " 'The Lord of the Rings: The Return of the King (2003)',\n",
       " 'Male and Female (1919)',\n",
       " 'Number Seventeen (1932)',\n",
       " 'Horror Hotel (a.k.a. The City of the Dead) (1960)',\n",
       " 'Neon Bible, The (1995)',\n",
       " 'Last of the High Kings, The (a.k.a. Summer Fling) (1996)',\n",
       " 'Daens (1992)']"
      ]
     },
     "execution_count": 32,
     "metadata": {},
     "output_type": "execute_result"
    }
   ],
   "source": [
    "# similar movies of iron man\n",
    "get_similar_movie('Iron Man (2008)')"
   ]
  },
  {
   "cell_type": "code",
   "execution_count": 33,
   "id": "22f111f1",
   "metadata": {},
   "outputs": [
    {
     "data": {
      "text/plain": [
       "['E.T. the Extra-Terrestrial (1982)',\n",
       " 'Neon Bible, The (1995)',\n",
       " 'Century (1993)',\n",
       " 'Male and Female (1919)',\n",
       " \"Brother's Kiss, A (1997)\",\n",
       " 'Paralyzing Fear: The Story of Polio in America, A (1998)',\n",
       " 'Daens (1992)',\n",
       " 'Last of the High Kings, The (a.k.a. Summer Fling) (1996)',\n",
       " \"Another Man's Poison (1952)\",\n",
       " 'Number Seventeen (1932)']"
      ]
     },
     "execution_count": 33,
     "metadata": {},
     "output_type": "execute_result"
    }
   ],
   "source": [
    "# similar movies of ET\n",
    "get_similar_movie('E.T. the Extra-Terrestrial (1982)')"
   ]
  },
  {
   "cell_type": "code",
   "execution_count": 34,
   "id": "e69b418f",
   "metadata": {},
   "outputs": [
    {
     "data": {
      "text/plain": [
       "[(2339, 0.121371895),\n",
       " (2437, 0.11086334),\n",
       " (2049, 0.105467364),\n",
       " (2247, 0.10515568),\n",
       " (2836, 0.09991087),\n",
       " (776, 0.09865465),\n",
       " (1987, 0.096904084),\n",
       " (3049, 0.09442625),\n",
       " (2393, 0.094006315),\n",
       " (1985, 0.09365745),\n",
       " (2108, 0.09317894),\n",
       " (2666, 0.09018628),\n",
       " (2185, 0.0889992),\n",
       " (1939, 0.08725676),\n",
       " (2687, 0.08697872),\n",
       " (1677, 0.08650948),\n",
       " (1184, 0.08618368),\n",
       " (823, 0.085060365),\n",
       " (2727, 0.08429104),\n",
       " (2842, 0.084256865)]"
      ]
     },
     "execution_count": 34,
     "metadata": {},
     "output_type": "execute_result"
    }
   ],
   "source": [
    "user = user_to_idx['hs']\n",
    "\n",
    "# recommend user a movie based on CSR matrix\n",
    "# 'als_model.recommend' receives user*item CSR Matrix format\n",
    "movie_recommended = als_model.recommend(user, csr_data, N=20, filter_already_liked_items=True)\n",
    "movie_recommended"
   ]
  },
  {
   "cell_type": "code",
   "execution_count": 35,
   "id": "446085f8",
   "metadata": {},
   "outputs": [
    {
     "data": {
      "text/plain": [
       "['Alaska (1996)',\n",
       " 'Fanny and Alexander (1982)',\n",
       " 'Eyes of Tammy Faye, The (2000)',\n",
       " 'Bless the Child (2000)',\n",
       " 'All the Vermeers in New York (1990)',\n",
       " 'Big Blue, The (Le Grand Bleu) (1988)',\n",
       " 'Pokémon: The First Movie (1998)',\n",
       " 'Unforgettable (1996)',\n",
       " 'Cecil B. Demented (2000)',\n",
       " 'NeverEnding Story II: The Next Chapter, The (1990)',\n",
       " 'Herbie Rides Again (1974)',\n",
       " 'Trial and Error (1997)',\n",
       " 'Tales from the Darkside: The Movie (1990)',\n",
       " 'Evita (1996)',\n",
       " 'Air Up There, The (1994)',\n",
       " 'Mediterraneo (1991)',\n",
       " 'Exit to Eden (1994)',\n",
       " 'One True Thing (1998)',\n",
       " 'Innocents, The (1961)',\n",
       " 'Clean Slate (Coup de Torchon) (1981)']"
      ]
     },
     "execution_count": 35,
     "metadata": {},
     "output_type": "execute_result"
    }
   ],
   "source": [
    "# movies recommended by the system\n",
    "[idx_to_movie[i[0]] for i in movie_recommended]"
   ]
  },
  {
   "cell_type": "code",
   "execution_count": 36,
   "id": "7783f267",
   "metadata": {},
   "outputs": [],
   "source": [
    "# als.explain() \n",
    "held_up = movie_to_idx['Held Up (2000)']\n",
    "explain = als_model.explain(user, csr_data, itemid=held_up)"
   ]
  },
  {
   "cell_type": "code",
   "execution_count": 37,
   "id": "4c77eaff",
   "metadata": {},
   "outputs": [
    {
     "data": {
      "text/plain": [
       "[('The Lord of the Rings: The Return of the King (2003)', 0.00816515304405117),\n",
       " ('Iron Man (2008)', 0.008007130107981784),\n",
       " ('Doctor Strange (2016)', 0.006593840989423652),\n",
       " (\"Schindler's List (1993)\", 0.006342623660097645),\n",
       " ('The Dark Knight (2008)', 0.0008366071628630881)]"
      ]
     },
     "execution_count": 37,
     "metadata": {},
     "output_type": "execute_result"
    }
   ],
   "source": [
    "# get movie title based on explain\n",
    "[(idx_to_movie[i[0]], i[1]) for i in explain[1]]"
   ]
  },
  {
   "cell_type": "markdown",
   "id": "cfffd29d",
   "metadata": {},
   "source": [
    "이후에는 이전 스텝에 소개했던 것과 동일한 방식으로 MF model을 구성하여 내가 좋아할 만한 영화를 추천해 볼 수 있습니다.\n",
    "\n",
    "4) CSR matrix를 직접 만들어 봅시다.\n",
    "\n",
    "5) als_model = AlternatingLeastSquares 모델을 직접 구성하여 훈련시켜 봅시다.\n",
    "\n",
    "6) 내가 선호하는 5가지 영화 중 하나와 그 외의 영화 하나를 골라 훈련된 모델이 예측한 나의 선호도를 파악해 보세요.\n",
    "\n",
    "7) 내가 좋아하는 영화와 비슷한 영화를 추천받아 봅시다.\n",
    "\n",
    "8) 내가 가장 좋아할 만한 영화들을 추천받아 봅시다."
   ]
  },
  {
   "cell_type": "markdown",
   "id": "4b070b88",
   "metadata": {},
   "source": [
    "# 회고\n",
    "\n",
    "1회차\n",
    "- CSR matrix와 als_model을 이용하여 추천 시스템 모델을 구현해 보았다.\n",
    "- 선호하는 영화 3개(doctor strange, iron man, lord of the rings)와 원본 데이터에 있는 영화 하나(american beauty)를 골라 선호도도 파악해 보았다.\n",
    "    - 다만 수치가 그렇게 높게 나오지 않았다.\n",
    "    - 여기선 hyperparameter를 높게 조정하여 충분한 학습을 이루게 하는 방향으로 진행했다.\n",
    "- 가장 좋아하는 영화와 비슷한 영화를 추천받아 봤고 가장 좋아할 만한 영화도 받아봤는데, 그렇게 비슷한 류의 영화가 나오지 않았다.\n",
    "    - 충분한 학습이 이뤄지지 않아서 그렇다고 가정하고 hyperparameter 조정하는 방향으로 프로젝트를 진행했다.\n",
    "\n",
    "2회차\n",
    "- hyperparameter를 높여 모델을 학습시켜 보았다.\n",
    "    - 확실히 조정을 해주니, 2%에 불과했던 선호도가 40% 가까이 되는 선호도로 변했다.\n",
    "    - 원본 데이터에 있는 영화는 변하지 않는 6%에 가까운 선호도를 보였다.\n",
    "- 다만 선호하는 영화와 비슷한 영화는 그리 많이 보이지 않았다.\n",
    "- 또한 좋아할만한 영화도 추천 받았지만, 들어보지도 못한 영화나 들어는 봤지만 보지 못한 영화를 추천해주었다.\n",
    "- 예측하는 이유는 정말 디테일하고 다양한 데이터가 있어야 더 나은 추천이 가능한데, 영화를 원본 데이터에 추가할 때, 장르를 집어넣지 않고 오직 영화 이름, 년도, 그리고 점수만 추가했기 때문이다.\n",
    "- 확실히 추천 시스템은 모델을 어떻게 학습하냐부터, 데이터의 디테일, 그리고 시간, 순서, 등등 여러가지 복합적인 요인이 있어야 분석 목표에 따른 결과를 도출해 낼 수 있다는 것을 알게되었고 흥미로웠다."
   ]
  },
  {
   "cell_type": "code",
   "execution_count": null,
   "id": "aa57c6ef",
   "metadata": {},
   "outputs": [],
   "source": []
  }
 ],
 "metadata": {
  "kernelspec": {
   "display_name": "Python 3 (ipykernel)",
   "language": "python",
   "name": "python3"
  },
  "language_info": {
   "codemirror_mode": {
    "name": "ipython",
    "version": 3
   },
   "file_extension": ".py",
   "mimetype": "text/x-python",
   "name": "python",
   "nbconvert_exporter": "python",
   "pygments_lexer": "ipython3",
   "version": "3.9.7"
  }
 },
 "nbformat": 4,
 "nbformat_minor": 5
}
