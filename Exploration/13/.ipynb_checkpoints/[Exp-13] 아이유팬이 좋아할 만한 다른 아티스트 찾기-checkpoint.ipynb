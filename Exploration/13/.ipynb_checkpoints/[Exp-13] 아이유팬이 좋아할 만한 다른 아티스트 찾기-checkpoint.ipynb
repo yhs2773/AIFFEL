{
 "cells": [
  {
   "cell_type": "markdown",
   "id": "0e7bb68e",
   "metadata": {},
   "source": [
    "# Preprocessing"
   ]
  },
  {
   "cell_type": "markdown",
   "id": "16d3c5d7",
   "metadata": {},
   "source": [
    "이전 스텝에서 배운 MF 모델 학습 방법을 토대로, 내가 좋아할 만한 영화 추천 시스템을 제작해 보겠습니다.\n",
    "\n",
    "이번에 활용할 데이터셋은 추천 시스템의 MNIST라고 부를만한 Movielens 데이터입니다.\n",
    "\n",
    "- 유저가 영화에 대해 평점을 매긴 데이터가 데이터 크기 별로 있습니다. MovieLens 1M Dataset 사용을 권장합니다.\n",
    "- 별점 데이터는 대표적인 explicit 데이터입니다. 하지만 implicit 데이터로 간주하고 테스트해 볼 수 있습니다.\n",
    "- 별점을 시청횟수로 해석해서 생각하겠습니다.\n",
    "- 또한 유저가 3점 미만으로 준 데이터는 선호하지 않는다고 가정하고 제외하겠습니다."
   ]
  },
  {
   "cell_type": "markdown",
   "id": "8d6ef378",
   "metadata": {},
   "source": [
    "1) 데이터 준비와 전처리\n",
    "\n",
    "Movielens 데이터는 rating.dat 안에 이미 인덱싱까지 완료된 사용자-영화-평점 데이터가 깔끔하게 정리되어 있습니다."
   ]
  },
  {
   "cell_type": "code",
   "execution_count": 1,
   "id": "1fdd63c1",
   "metadata": {},
   "outputs": [],
   "source": [
    "# load libraries\n",
    "import numpy as np\n",
    "import scipy\n",
    "import implicit\n",
    "import os\n",
    "import pandas as pd\n",
    "\n",
    "from scipy.sparse import csr_matrix\n",
    "from implicit.als import AlternatingLeastSquares\n",
    "\n",
    "# implicit 라이브러리에서 권장하고 있는 부분입니다. 학습 내용과는 무관합니다.\n",
    "os.environ['OPENBLAS_NUM_THREADS']='1'\n",
    "os.environ['KMP_DUPLICATE_LIB_OK']='True'\n",
    "os.environ['MKL_NUM_THREADS']='1'"
   ]
  },
  {
   "cell_type": "code",
   "execution_count": 2,
   "id": "48cb1598",
   "metadata": {},
   "outputs": [
    {
     "data": {
      "text/html": [
       "<div>\n",
       "<style scoped>\n",
       "    .dataframe tbody tr th:only-of-type {\n",
       "        vertical-align: middle;\n",
       "    }\n",
       "\n",
       "    .dataframe tbody tr th {\n",
       "        vertical-align: top;\n",
       "    }\n",
       "\n",
       "    .dataframe thead th {\n",
       "        text-align: right;\n",
       "    }\n",
       "</style>\n",
       "<table border=\"1\" class=\"dataframe\">\n",
       "  <thead>\n",
       "    <tr style=\"text-align: right;\">\n",
       "      <th></th>\n",
       "      <th>user_id</th>\n",
       "      <th>movie_id</th>\n",
       "      <th>ratings</th>\n",
       "      <th>timestamp</th>\n",
       "    </tr>\n",
       "  </thead>\n",
       "  <tbody>\n",
       "    <tr>\n",
       "      <th>0</th>\n",
       "      <td>1</td>\n",
       "      <td>1193</td>\n",
       "      <td>5</td>\n",
       "      <td>978300760</td>\n",
       "    </tr>\n",
       "    <tr>\n",
       "      <th>1</th>\n",
       "      <td>1</td>\n",
       "      <td>661</td>\n",
       "      <td>3</td>\n",
       "      <td>978302109</td>\n",
       "    </tr>\n",
       "    <tr>\n",
       "      <th>2</th>\n",
       "      <td>1</td>\n",
       "      <td>914</td>\n",
       "      <td>3</td>\n",
       "      <td>978301968</td>\n",
       "    </tr>\n",
       "    <tr>\n",
       "      <th>3</th>\n",
       "      <td>1</td>\n",
       "      <td>3408</td>\n",
       "      <td>4</td>\n",
       "      <td>978300275</td>\n",
       "    </tr>\n",
       "    <tr>\n",
       "      <th>4</th>\n",
       "      <td>1</td>\n",
       "      <td>2355</td>\n",
       "      <td>5</td>\n",
       "      <td>978824291</td>\n",
       "    </tr>\n",
       "    <tr>\n",
       "      <th>...</th>\n",
       "      <td>...</td>\n",
       "      <td>...</td>\n",
       "      <td>...</td>\n",
       "      <td>...</td>\n",
       "    </tr>\n",
       "    <tr>\n",
       "      <th>1000204</th>\n",
       "      <td>6040</td>\n",
       "      <td>1091</td>\n",
       "      <td>1</td>\n",
       "      <td>956716541</td>\n",
       "    </tr>\n",
       "    <tr>\n",
       "      <th>1000205</th>\n",
       "      <td>6040</td>\n",
       "      <td>1094</td>\n",
       "      <td>5</td>\n",
       "      <td>956704887</td>\n",
       "    </tr>\n",
       "    <tr>\n",
       "      <th>1000206</th>\n",
       "      <td>6040</td>\n",
       "      <td>562</td>\n",
       "      <td>5</td>\n",
       "      <td>956704746</td>\n",
       "    </tr>\n",
       "    <tr>\n",
       "      <th>1000207</th>\n",
       "      <td>6040</td>\n",
       "      <td>1096</td>\n",
       "      <td>4</td>\n",
       "      <td>956715648</td>\n",
       "    </tr>\n",
       "    <tr>\n",
       "      <th>1000208</th>\n",
       "      <td>6040</td>\n",
       "      <td>1097</td>\n",
       "      <td>4</td>\n",
       "      <td>956715569</td>\n",
       "    </tr>\n",
       "  </tbody>\n",
       "</table>\n",
       "<p>1000209 rows × 4 columns</p>\n",
       "</div>"
      ],
      "text/plain": [
       "         user_id  movie_id  ratings  timestamp\n",
       "0              1      1193        5  978300760\n",
       "1              1       661        3  978302109\n",
       "2              1       914        3  978301968\n",
       "3              1      3408        4  978300275\n",
       "4              1      2355        5  978824291\n",
       "...          ...       ...      ...        ...\n",
       "1000204     6040      1091        1  956716541\n",
       "1000205     6040      1094        5  956704887\n",
       "1000206     6040       562        5  956704746\n",
       "1000207     6040      1096        4  956715648\n",
       "1000208     6040      1097        4  956715569\n",
       "\n",
       "[1000209 rows x 4 columns]"
      ]
     },
     "execution_count": 2,
     "metadata": {},
     "output_type": "execute_result"
    }
   ],
   "source": [
    "# load rating data\n",
    "rating_file_path = os.getenv('HOME') + '/aiffel/recommendata_iu/data/ml-1m/ratings.dat'\n",
    "ratings_cols = ['user_id', 'movie_id', 'ratings', 'timestamp']\n",
    "ratings = pd.read_csv(rating_file_path, sep='::', names=ratings_cols, engine='python', encoding = \"ISO-8859-1\")\n",
    "orginal_data_size = len(ratings)\n",
    "ratings"
   ]
  },
  {
   "cell_type": "code",
   "execution_count": 3,
   "id": "c40ba471",
   "metadata": {},
   "outputs": [
    {
     "data": {
      "text/html": [
       "<div>\n",
       "<style scoped>\n",
       "    .dataframe tbody tr th:only-of-type {\n",
       "        vertical-align: middle;\n",
       "    }\n",
       "\n",
       "    .dataframe tbody tr th {\n",
       "        vertical-align: top;\n",
       "    }\n",
       "\n",
       "    .dataframe thead th {\n",
       "        text-align: right;\n",
       "    }\n",
       "</style>\n",
       "<table border=\"1\" class=\"dataframe\">\n",
       "  <thead>\n",
       "    <tr style=\"text-align: right;\">\n",
       "      <th></th>\n",
       "      <th>movie_id</th>\n",
       "      <th>title</th>\n",
       "      <th>genre</th>\n",
       "    </tr>\n",
       "  </thead>\n",
       "  <tbody>\n",
       "    <tr>\n",
       "      <th>0</th>\n",
       "      <td>1</td>\n",
       "      <td>Toy Story (1995)</td>\n",
       "      <td>Animation|Children's|Comedy</td>\n",
       "    </tr>\n",
       "    <tr>\n",
       "      <th>1</th>\n",
       "      <td>2</td>\n",
       "      <td>Jumanji (1995)</td>\n",
       "      <td>Adventure|Children's|Fantasy</td>\n",
       "    </tr>\n",
       "    <tr>\n",
       "      <th>2</th>\n",
       "      <td>3</td>\n",
       "      <td>Grumpier Old Men (1995)</td>\n",
       "      <td>Comedy|Romance</td>\n",
       "    </tr>\n",
       "    <tr>\n",
       "      <th>3</th>\n",
       "      <td>4</td>\n",
       "      <td>Waiting to Exhale (1995)</td>\n",
       "      <td>Comedy|Drama</td>\n",
       "    </tr>\n",
       "    <tr>\n",
       "      <th>4</th>\n",
       "      <td>5</td>\n",
       "      <td>Father of the Bride Part II (1995)</td>\n",
       "      <td>Comedy</td>\n",
       "    </tr>\n",
       "    <tr>\n",
       "      <th>...</th>\n",
       "      <td>...</td>\n",
       "      <td>...</td>\n",
       "      <td>...</td>\n",
       "    </tr>\n",
       "    <tr>\n",
       "      <th>3878</th>\n",
       "      <td>3948</td>\n",
       "      <td>Meet the Parents (2000)</td>\n",
       "      <td>Comedy</td>\n",
       "    </tr>\n",
       "    <tr>\n",
       "      <th>3879</th>\n",
       "      <td>3949</td>\n",
       "      <td>Requiem for a Dream (2000)</td>\n",
       "      <td>Drama</td>\n",
       "    </tr>\n",
       "    <tr>\n",
       "      <th>3880</th>\n",
       "      <td>3950</td>\n",
       "      <td>Tigerland (2000)</td>\n",
       "      <td>Drama</td>\n",
       "    </tr>\n",
       "    <tr>\n",
       "      <th>3881</th>\n",
       "      <td>3951</td>\n",
       "      <td>Two Family House (2000)</td>\n",
       "      <td>Drama</td>\n",
       "    </tr>\n",
       "    <tr>\n",
       "      <th>3882</th>\n",
       "      <td>3952</td>\n",
       "      <td>Contender, The (2000)</td>\n",
       "      <td>Drama|Thriller</td>\n",
       "    </tr>\n",
       "  </tbody>\n",
       "</table>\n",
       "<p>3883 rows × 3 columns</p>\n",
       "</div>"
      ],
      "text/plain": [
       "      movie_id                               title  \\\n",
       "0            1                    Toy Story (1995)   \n",
       "1            2                      Jumanji (1995)   \n",
       "2            3             Grumpier Old Men (1995)   \n",
       "3            4            Waiting to Exhale (1995)   \n",
       "4            5  Father of the Bride Part II (1995)   \n",
       "...        ...                                 ...   \n",
       "3878      3948             Meet the Parents (2000)   \n",
       "3879      3949          Requiem for a Dream (2000)   \n",
       "3880      3950                    Tigerland (2000)   \n",
       "3881      3951             Two Family House (2000)   \n",
       "3882      3952               Contender, The (2000)   \n",
       "\n",
       "                             genre  \n",
       "0      Animation|Children's|Comedy  \n",
       "1     Adventure|Children's|Fantasy  \n",
       "2                   Comedy|Romance  \n",
       "3                     Comedy|Drama  \n",
       "4                           Comedy  \n",
       "...                            ...  \n",
       "3878                        Comedy  \n",
       "3879                         Drama  \n",
       "3880                         Drama  \n",
       "3881                         Drama  \n",
       "3882                Drama|Thriller  \n",
       "\n",
       "[3883 rows x 3 columns]"
      ]
     },
     "execution_count": 3,
     "metadata": {},
     "output_type": "execute_result"
    }
   ],
   "source": [
    "# load movie data\n",
    "movie_file_path=os.getenv('HOME') + '/aiffel/recommendata_iu/data/ml-1m/movies.dat'\n",
    "cols = ['movie_id', 'title', 'genre'] \n",
    "movies = pd.read_csv(movie_file_path, sep='::', names=cols, engine='python', encoding='ISO-8859-1')\n",
    "movies"
   ]
  },
  {
   "cell_type": "code",
   "execution_count": 4,
   "id": "09f58ad0",
   "metadata": {},
   "outputs": [
    {
     "name": "stdout",
     "output_type": "stream",
     "text": [
      "orginal_data_size: 1000209, filtered_data_size: 836478\n",
      "Ratio of Remaining Data is 83.63%\n"
     ]
    }
   ],
   "source": [
    "# filter df to include only 3 or above\n",
    "ratings = ratings[ratings['ratings']>=3]\n",
    "filtered_data_size = len(ratings)\n",
    "\n",
    "print(f'orginal_data_size: {orginal_data_size}, filtered_data_size: {filtered_data_size}')\n",
    "print(f'Ratio of Remaining Data is {filtered_data_size / orginal_data_size:.2%}')"
   ]
  },
  {
   "cell_type": "code",
   "execution_count": 5,
   "id": "07080cf5",
   "metadata": {},
   "outputs": [
    {
     "name": "stderr",
     "output_type": "stream",
     "text": [
      "/opt/conda/lib/python3.9/site-packages/pandas/core/frame.py:5039: SettingWithCopyWarning: \n",
      "A value is trying to be set on a copy of a slice from a DataFrame\n",
      "\n",
      "See the caveats in the documentation: https://pandas.pydata.org/pandas-docs/stable/user_guide/indexing.html#returning-a-view-versus-a-copy\n",
      "  return super().rename(\n"
     ]
    }
   ],
   "source": [
    "# change column name 'raitings' to 'counts'\n",
    "ratings.rename(columns={'ratings':'counts'}, inplace=True)"
   ]
  },
  {
   "cell_type": "code",
   "execution_count": 6,
   "id": "2073eb99",
   "metadata": {},
   "outputs": [
    {
     "data": {
      "text/plain": [
       "0          5\n",
       "1          3\n",
       "2          3\n",
       "3          4\n",
       "4          5\n",
       "          ..\n",
       "1000203    3\n",
       "1000205    5\n",
       "1000206    5\n",
       "1000207    4\n",
       "1000208    4\n",
       "Name: counts, Length: 836478, dtype: int64"
      ]
     },
     "execution_count": 6,
     "metadata": {},
     "output_type": "execute_result"
    }
   ],
   "source": [
    "ratings['counts']"
   ]
  },
  {
   "cell_type": "code",
   "execution_count": 7,
   "id": "48959d37",
   "metadata": {},
   "outputs": [],
   "source": [
    "# ratings = pd.merge(left=ratings, right=movies, how='left')\n",
    "# ratings"
   ]
  },
  {
   "cell_type": "markdown",
   "id": "33afa79d",
   "metadata": {},
   "source": [
    "# Analyzing data"
   ]
  },
  {
   "cell_type": "code",
   "execution_count": 8,
   "id": "a2b3abf2",
   "metadata": {},
   "outputs": [
    {
     "data": {
      "text/plain": [
       "3628"
      ]
     },
     "execution_count": 8,
     "metadata": {},
     "output_type": "execute_result"
    }
   ],
   "source": [
    "# num of unique movie\n",
    "ratings['movie_id'].nunique()"
   ]
  },
  {
   "cell_type": "code",
   "execution_count": 9,
   "id": "1d94cac6",
   "metadata": {},
   "outputs": [
    {
     "data": {
      "text/plain": [
       "6039"
      ]
     },
     "execution_count": 9,
     "metadata": {},
     "output_type": "execute_result"
    }
   ],
   "source": [
    "# num of unique user id\n",
    "ratings['user_id'].nunique()"
   ]
  },
  {
   "cell_type": "code",
   "execution_count": 40,
   "id": "81991516",
   "metadata": {},
   "outputs": [
    {
     "data": {
      "text/plain": [
       "Int64Index([ 99,  44, 117,  64,  48,  92, 121, 120,  22, 124, 107,  38,  51,\n",
       "             87, 175,  23,   5, 126, 224, 157, 607, 110,  26, 170, 243, 222,\n",
       "            160, 200,  40, 141],\n",
       "           dtype='int64', name='movie_id')"
      ]
     },
     "execution_count": 40,
     "metadata": {},
     "output_type": "execute_result"
    }
   ],
   "source": [
    "# view 30 most popular movies\n",
    "movie_count = ratings.groupby(['movie_id']).count()['user_id'].sort_values(ascending=False).head(30)\n",
    "movie_count.index"
   ]
  },
  {
   "cell_type": "code",
   "execution_count": 41,
   "id": "605c5f42",
   "metadata": {},
   "outputs": [
    {
     "ename": "ValueError",
     "evalue": "('Lengths must match to compare', (3883,), (30,))",
     "output_type": "error",
     "traceback": [
      "\u001b[0;31m---------------------------------------------------------------------------\u001b[0m",
      "\u001b[0;31mValueError\u001b[0m                                Traceback (most recent call last)",
      "\u001b[0;32m/tmp/ipykernel_868/4208620032.py\u001b[0m in \u001b[0;36m<module>\u001b[0;34m\u001b[0m\n\u001b[1;32m      1\u001b[0m \u001b[0;31m# view 30 most popular movies\u001b[0m\u001b[0;34m\u001b[0m\u001b[0;34m\u001b[0m\u001b[0m\n\u001b[0;32m----> 2\u001b[0;31m \u001b[0mmovies\u001b[0m\u001b[0;34m[\u001b[0m\u001b[0mmovies\u001b[0m\u001b[0;34m[\u001b[0m\u001b[0;34m'movie_id'\u001b[0m\u001b[0;34m]\u001b[0m\u001b[0;34m==\u001b[0m\u001b[0mmovie_count\u001b[0m\u001b[0;34m.\u001b[0m\u001b[0mindex\u001b[0m\u001b[0;34m]\u001b[0m\u001b[0;34m\u001b[0m\u001b[0;34m\u001b[0m\u001b[0m\n\u001b[0m",
      "\u001b[0;32m/opt/conda/lib/python3.9/site-packages/pandas/core/ops/common.py\u001b[0m in \u001b[0;36mnew_method\u001b[0;34m(self, other)\u001b[0m\n\u001b[1;32m     67\u001b[0m         \u001b[0mother\u001b[0m \u001b[0;34m=\u001b[0m \u001b[0mitem_from_zerodim\u001b[0m\u001b[0;34m(\u001b[0m\u001b[0mother\u001b[0m\u001b[0;34m)\u001b[0m\u001b[0;34m\u001b[0m\u001b[0;34m\u001b[0m\u001b[0m\n\u001b[1;32m     68\u001b[0m \u001b[0;34m\u001b[0m\u001b[0m\n\u001b[0;32m---> 69\u001b[0;31m         \u001b[0;32mreturn\u001b[0m \u001b[0mmethod\u001b[0m\u001b[0;34m(\u001b[0m\u001b[0mself\u001b[0m\u001b[0;34m,\u001b[0m \u001b[0mother\u001b[0m\u001b[0;34m)\u001b[0m\u001b[0;34m\u001b[0m\u001b[0;34m\u001b[0m\u001b[0m\n\u001b[0m\u001b[1;32m     70\u001b[0m \u001b[0;34m\u001b[0m\u001b[0m\n\u001b[1;32m     71\u001b[0m     \u001b[0;32mreturn\u001b[0m \u001b[0mnew_method\u001b[0m\u001b[0;34m\u001b[0m\u001b[0;34m\u001b[0m\u001b[0m\n",
      "\u001b[0;32m/opt/conda/lib/python3.9/site-packages/pandas/core/arraylike.py\u001b[0m in \u001b[0;36m__eq__\u001b[0;34m(self, other)\u001b[0m\n\u001b[1;32m     30\u001b[0m     \u001b[0;34m@\u001b[0m\u001b[0munpack_zerodim_and_defer\u001b[0m\u001b[0;34m(\u001b[0m\u001b[0;34m\"__eq__\"\u001b[0m\u001b[0;34m)\u001b[0m\u001b[0;34m\u001b[0m\u001b[0;34m\u001b[0m\u001b[0m\n\u001b[1;32m     31\u001b[0m     \u001b[0;32mdef\u001b[0m \u001b[0m__eq__\u001b[0m\u001b[0;34m(\u001b[0m\u001b[0mself\u001b[0m\u001b[0;34m,\u001b[0m \u001b[0mother\u001b[0m\u001b[0;34m)\u001b[0m\u001b[0;34m:\u001b[0m\u001b[0;34m\u001b[0m\u001b[0;34m\u001b[0m\u001b[0m\n\u001b[0;32m---> 32\u001b[0;31m         \u001b[0;32mreturn\u001b[0m \u001b[0mself\u001b[0m\u001b[0;34m.\u001b[0m\u001b[0m_cmp_method\u001b[0m\u001b[0;34m(\u001b[0m\u001b[0mother\u001b[0m\u001b[0;34m,\u001b[0m \u001b[0moperator\u001b[0m\u001b[0;34m.\u001b[0m\u001b[0meq\u001b[0m\u001b[0;34m)\u001b[0m\u001b[0;34m\u001b[0m\u001b[0;34m\u001b[0m\u001b[0m\n\u001b[0m\u001b[1;32m     33\u001b[0m \u001b[0;34m\u001b[0m\u001b[0m\n\u001b[1;32m     34\u001b[0m     \u001b[0;34m@\u001b[0m\u001b[0munpack_zerodim_and_defer\u001b[0m\u001b[0;34m(\u001b[0m\u001b[0;34m\"__ne__\"\u001b[0m\u001b[0;34m)\u001b[0m\u001b[0;34m\u001b[0m\u001b[0;34m\u001b[0m\u001b[0m\n",
      "\u001b[0;32m/opt/conda/lib/python3.9/site-packages/pandas/core/series.py\u001b[0m in \u001b[0;36m_cmp_method\u001b[0;34m(self, other, op)\u001b[0m\n\u001b[1;32m   5500\u001b[0m \u001b[0;34m\u001b[0m\u001b[0m\n\u001b[1;32m   5501\u001b[0m         \u001b[0;32mwith\u001b[0m \u001b[0mnp\u001b[0m\u001b[0;34m.\u001b[0m\u001b[0merrstate\u001b[0m\u001b[0;34m(\u001b[0m\u001b[0mall\u001b[0m\u001b[0;34m=\u001b[0m\u001b[0;34m\"ignore\"\u001b[0m\u001b[0;34m)\u001b[0m\u001b[0;34m:\u001b[0m\u001b[0;34m\u001b[0m\u001b[0;34m\u001b[0m\u001b[0m\n\u001b[0;32m-> 5502\u001b[0;31m             \u001b[0mres_values\u001b[0m \u001b[0;34m=\u001b[0m \u001b[0mops\u001b[0m\u001b[0;34m.\u001b[0m\u001b[0mcomparison_op\u001b[0m\u001b[0;34m(\u001b[0m\u001b[0mlvalues\u001b[0m\u001b[0;34m,\u001b[0m \u001b[0mrvalues\u001b[0m\u001b[0;34m,\u001b[0m \u001b[0mop\u001b[0m\u001b[0;34m)\u001b[0m\u001b[0;34m\u001b[0m\u001b[0;34m\u001b[0m\u001b[0m\n\u001b[0m\u001b[1;32m   5503\u001b[0m \u001b[0;34m\u001b[0m\u001b[0m\n\u001b[1;32m   5504\u001b[0m         \u001b[0;32mreturn\u001b[0m \u001b[0mself\u001b[0m\u001b[0;34m.\u001b[0m\u001b[0m_construct_result\u001b[0m\u001b[0;34m(\u001b[0m\u001b[0mres_values\u001b[0m\u001b[0;34m,\u001b[0m \u001b[0mname\u001b[0m\u001b[0;34m=\u001b[0m\u001b[0mres_name\u001b[0m\u001b[0;34m)\u001b[0m\u001b[0;34m\u001b[0m\u001b[0;34m\u001b[0m\u001b[0m\n",
      "\u001b[0;32m/opt/conda/lib/python3.9/site-packages/pandas/core/ops/array_ops.py\u001b[0m in \u001b[0;36mcomparison_op\u001b[0;34m(left, right, op)\u001b[0m\n\u001b[1;32m    259\u001b[0m         \u001b[0;31m#  The ambiguous case is object-dtype.  See GH#27803\u001b[0m\u001b[0;34m\u001b[0m\u001b[0;34m\u001b[0m\u001b[0m\n\u001b[1;32m    260\u001b[0m         \u001b[0;32mif\u001b[0m \u001b[0mlen\u001b[0m\u001b[0;34m(\u001b[0m\u001b[0mlvalues\u001b[0m\u001b[0;34m)\u001b[0m \u001b[0;34m!=\u001b[0m \u001b[0mlen\u001b[0m\u001b[0;34m(\u001b[0m\u001b[0mrvalues\u001b[0m\u001b[0;34m)\u001b[0m\u001b[0;34m:\u001b[0m\u001b[0;34m\u001b[0m\u001b[0;34m\u001b[0m\u001b[0m\n\u001b[0;32m--> 261\u001b[0;31m             raise ValueError(\n\u001b[0m\u001b[1;32m    262\u001b[0m                 \u001b[0;34m\"Lengths must match to compare\"\u001b[0m\u001b[0;34m,\u001b[0m \u001b[0mlvalues\u001b[0m\u001b[0;34m.\u001b[0m\u001b[0mshape\u001b[0m\u001b[0;34m,\u001b[0m \u001b[0mrvalues\u001b[0m\u001b[0;34m.\u001b[0m\u001b[0mshape\u001b[0m\u001b[0;34m\u001b[0m\u001b[0;34m\u001b[0m\u001b[0m\n\u001b[1;32m    263\u001b[0m             )\n",
      "\u001b[0;31mValueError\u001b[0m: ('Lengths must match to compare', (3883,), (30,))"
     ]
    }
   ],
   "source": [
    "# view 30 most popular movies\n",
    "for i in movie_count.index:\n",
    "    if i == movies['movie_id']:\n",
    "        "
   ]
  },
  {
   "cell_type": "code",
   "execution_count": 12,
   "id": "6e626907",
   "metadata": {},
   "outputs": [
    {
     "data": {
      "text/plain": [
       "count    6039.000000\n",
       "mean      138.512668\n",
       "std       156.241599\n",
       "min         1.000000\n",
       "25%        38.000000\n",
       "50%        81.000000\n",
       "75%       177.000000\n",
       "max      1968.000000\n",
       "Name: movie_id, dtype: float64"
      ]
     },
     "execution_count": 12,
     "metadata": {},
     "output_type": "execute_result"
    }
   ],
   "source": [
    "# 유저별 몇 명의 아티스트를 듣고 있는지에 대한 통계\n",
    "user_count = ratings.groupby('user_id')['movie_id'].count()\n",
    "user_count.describe()"
   ]
  },
  {
   "cell_type": "code",
   "execution_count": 13,
   "id": "55522e25",
   "metadata": {},
   "outputs": [
    {
     "data": {
      "text/plain": [
       "count    6039.000000\n",
       "mean        4.055970\n",
       "std         0.432143\n",
       "min         3.000000\n",
       "25%         4.000000\n",
       "50%         4.000000\n",
       "75%         4.000000\n",
       "max         5.000000\n",
       "Name: counts, dtype: float64"
      ]
     },
     "execution_count": 13,
     "metadata": {},
     "output_type": "execute_result"
    }
   ],
   "source": [
    "# 유저별 play횟수 중앙값에 대한 통계\n",
    "user_median = ratings.groupby('user_id')['counts'].median()\n",
    "user_median.describe()"
   ]
  },
  {
   "cell_type": "code",
   "execution_count": 14,
   "id": "1dae007c",
   "metadata": {},
   "outputs": [
    {
     "data": {
      "text/html": [
       "<div>\n",
       "<style scoped>\n",
       "    .dataframe tbody tr th:only-of-type {\n",
       "        vertical-align: middle;\n",
       "    }\n",
       "\n",
       "    .dataframe tbody tr th {\n",
       "        vertical-align: top;\n",
       "    }\n",
       "\n",
       "    .dataframe thead th {\n",
       "        text-align: right;\n",
       "    }\n",
       "</style>\n",
       "<table border=\"1\" class=\"dataframe\">\n",
       "  <thead>\n",
       "    <tr style=\"text-align: right;\">\n",
       "      <th></th>\n",
       "      <th>user_id</th>\n",
       "      <th>movie_id</th>\n",
       "      <th>counts</th>\n",
       "      <th>timestamp</th>\n",
       "    </tr>\n",
       "  </thead>\n",
       "  <tbody>\n",
       "    <tr>\n",
       "      <th>1000203</th>\n",
       "      <td>6040</td>\n",
       "      <td>1090</td>\n",
       "      <td>3</td>\n",
       "      <td>956715518.0</td>\n",
       "    </tr>\n",
       "    <tr>\n",
       "      <th>1000205</th>\n",
       "      <td>6040</td>\n",
       "      <td>1094</td>\n",
       "      <td>5</td>\n",
       "      <td>956704887.0</td>\n",
       "    </tr>\n",
       "    <tr>\n",
       "      <th>1000206</th>\n",
       "      <td>6040</td>\n",
       "      <td>562</td>\n",
       "      <td>5</td>\n",
       "      <td>956704746.0</td>\n",
       "    </tr>\n",
       "    <tr>\n",
       "      <th>1000207</th>\n",
       "      <td>6040</td>\n",
       "      <td>1096</td>\n",
       "      <td>4</td>\n",
       "      <td>956715648.0</td>\n",
       "    </tr>\n",
       "    <tr>\n",
       "      <th>1000208</th>\n",
       "      <td>6040</td>\n",
       "      <td>1097</td>\n",
       "      <td>4</td>\n",
       "      <td>956715569.0</td>\n",
       "    </tr>\n",
       "    <tr>\n",
       "      <th>0</th>\n",
       "      <td>hs</td>\n",
       "      <td>Doctor Strange (2016)</td>\n",
       "      <td>4</td>\n",
       "      <td>NaN</td>\n",
       "    </tr>\n",
       "    <tr>\n",
       "      <th>1</th>\n",
       "      <td>hs</td>\n",
       "      <td>The Dark Knight (2008)</td>\n",
       "      <td>4</td>\n",
       "      <td>NaN</td>\n",
       "    </tr>\n",
       "    <tr>\n",
       "      <th>2</th>\n",
       "      <td>hs</td>\n",
       "      <td>Iron Man (2008)</td>\n",
       "      <td>4</td>\n",
       "      <td>NaN</td>\n",
       "    </tr>\n",
       "    <tr>\n",
       "      <th>3</th>\n",
       "      <td>hs</td>\n",
       "      <td>The Lord of the Rings: The Return of the King ...</td>\n",
       "      <td>3</td>\n",
       "      <td>NaN</td>\n",
       "    </tr>\n",
       "    <tr>\n",
       "      <th>4</th>\n",
       "      <td>hs</td>\n",
       "      <td>Schindler's List (1993)</td>\n",
       "      <td>4</td>\n",
       "      <td>NaN</td>\n",
       "    </tr>\n",
       "  </tbody>\n",
       "</table>\n",
       "</div>"
      ],
      "text/plain": [
       "        user_id                                           movie_id  counts  \\\n",
       "1000203    6040                                               1090       3   \n",
       "1000205    6040                                               1094       5   \n",
       "1000206    6040                                                562       5   \n",
       "1000207    6040                                               1096       4   \n",
       "1000208    6040                                               1097       4   \n",
       "0            hs                              Doctor Strange (2016)       4   \n",
       "1            hs                             The Dark Knight (2008)       4   \n",
       "2            hs                                    Iron Man (2008)       4   \n",
       "3            hs  The Lord of the Rings: The Return of the King ...       3   \n",
       "4            hs                            Schindler's List (1993)       4   \n",
       "\n",
       "           timestamp  \n",
       "1000203  956715518.0  \n",
       "1000205  956704887.0  \n",
       "1000206  956704746.0  \n",
       "1000207  956715648.0  \n",
       "1000208  956715569.0  \n",
       "0                NaN  \n",
       "1                NaN  \n",
       "2                NaN  \n",
       "3                NaN  \n",
       "4                NaN  "
      ]
     },
     "execution_count": 14,
     "metadata": {},
     "output_type": "execute_result"
    }
   ],
   "source": [
    "# 본인이 좋아하시는 아티스트 데이터로 바꿔서 추가하셔도 됩니다! 단, 이름은 꼭 데이터셋에 있는 것과 동일하게 맞춰주세요. \n",
    "my_movies = ['Doctor Strange (2016)', 'The Dark Knight (2008)', 'Iron Man (2008)',\n",
    "             'The Lord of the Rings: The Return of the King (2003)', \"Schindler's List (1993)\"]\n",
    "\n",
    "# 'zimin'이라는 user_id가 위 아티스트의 노래를 30회씩 들었다고 가정하겠습니다.\n",
    "my_list = pd.DataFrame({'user_id': ['hs']*5, 'movie_id': my_movies, 'counts':[4, 4, 4, 3, 4]})\n",
    "\n",
    "if not ratings.isin({'user_id':['hs']})['user_id'].any():  # user_id에 'zimin'이라는 데이터가 없다면\n",
    "    ratings = ratings.append(my_list)                           # 위에 임의로 만든 my_favorite 데이터를 추가해 줍니다. \n",
    "\n",
    "ratings.tail(10)       # 잘 추가되었는지 확인해 봅시다."
   ]
  },
  {
   "cell_type": "code",
   "execution_count": 15,
   "id": "4a257e89",
   "metadata": {},
   "outputs": [],
   "source": [
    "# 고유한 유저, 아티스트를 찾아내는 코드\n",
    "user_unique = ratings['user_id'].unique()\n",
    "movie_id_unique = ratings['movie_id'].unique()\n",
    "\n",
    "# 유저, 아티스트 indexing 하는 코드 idx는 index의 약자입니다.\n",
    "user_to_idx = {v:k for k,v in enumerate(user_unique)}\n",
    "movie_to_idx = {v:k for k,v in enumerate(movie_id_unique)}"
   ]
  },
  {
   "cell_type": "code",
   "execution_count": 16,
   "id": "dab48d65",
   "metadata": {},
   "outputs": [
    {
     "name": "stdout",
     "output_type": "stream",
     "text": [
      "6039\n",
      "3630\n"
     ]
    }
   ],
   "source": [
    "# 인덱싱이 잘 되었는지 확인해 봅니다. \n",
    "print(user_to_idx['hs'])\n",
    "print(movie_to_idx['Iron Man (2008)'])"
   ]
  },
  {
   "cell_type": "code",
   "execution_count": 17,
   "id": "94f48152",
   "metadata": {},
   "outputs": [
    {
     "name": "stdout",
     "output_type": "stream",
     "text": [
      "user_id column indexing OK!!\n",
      "movie_id column indexing OK!!\n"
     ]
    }
   ],
   "source": [
    "# indexing을 통해 데이터 컬럼 내 값을 바꾸는 코드\n",
    "# dictionary 자료형의 get 함수는 https://wikidocs.net/16 을 참고하세요.\n",
    "\n",
    "# user_to_idx.get을 통해 user_id 컬럼의 모든 값을 인덱싱한 Series를 구해 봅시다. \n",
    "# 혹시 정상적으로 인덱싱되지 않은 row가 있다면 인덱스가 NaN이 될 테니 dropna()로 제거합니다. \n",
    "temp_user_data = ratings['user_id'].map(user_to_idx.get).dropna()\n",
    "if len(temp_user_data) == len(ratings):   # 모든 row가 정상적으로 인덱싱되었다면\n",
    "    print('user_id column indexing OK!!')\n",
    "    ratings['user_id'] = temp_user_data   # data['user_id']을 인덱싱된 Series로 교체해 줍니다. \n",
    "else:\n",
    "    print('user_id column indexing Fail!!')\n",
    "\n",
    "# artist_to_idx을 통해 artist 컬럼도 동일한 방식으로 인덱싱해 줍니다. \n",
    "temp_movie_data = ratings['movie_id'].map(movie_to_idx.get).dropna()\n",
    "if len(temp_movie_data) == len(ratings):\n",
    "    print('movie_id column indexing OK!!')\n",
    "    ratings['movie_id'] = temp_movie_data\n",
    "else:\n",
    "    print('movie_id column indexing Fail!!')"
   ]
  },
  {
   "cell_type": "code",
   "execution_count": 18,
   "id": "7d8bea14",
   "metadata": {},
   "outputs": [
    {
     "data": {
      "text/plain": [
       "<6040x3633 sparse matrix of type '<class 'numpy.int64'>'\n",
       "\twith 836483 stored elements in Compressed Sparse Row format>"
      ]
     },
     "execution_count": 18,
     "metadata": {},
     "output_type": "execute_result"
    }
   ],
   "source": [
    "# create CSR matrix\n",
    "num_user = ratings['user_id'].nunique()\n",
    "num_movie = ratings['movie_id'].nunique()\n",
    "\n",
    "csr_data = csr_matrix((ratings.counts, (ratings.user_id, ratings.movie_id)), shape= (num_user, num_movie))\n",
    "csr_data"
   ]
  },
  {
   "cell_type": "code",
   "execution_count": 19,
   "id": "d1a8fe43",
   "metadata": {},
   "outputs": [],
   "source": [
    "# Implicit AlternatingLeastSquares 모델의 선언\n",
    "als_model = AlternatingLeastSquares(factors=1000, regularization=0.01, use_gpu=False, iterations=30, dtype=np.float32)"
   ]
  },
  {
   "cell_type": "code",
   "execution_count": 20,
   "id": "b5c84f3a",
   "metadata": {},
   "outputs": [
    {
     "data": {
      "text/plain": [
       "<3633x6040 sparse matrix of type '<class 'numpy.int64'>'\n",
       "\twith 836483 stored elements in Compressed Sparse Column format>"
      ]
     },
     "execution_count": 20,
     "metadata": {},
     "output_type": "execute_result"
    }
   ],
   "source": [
    "# als 모델은 input으로 (item X user 꼴의 matrix를 받기 때문에 Transpose해줍니다.)\n",
    "csr_data_transpose = csr_data.T\n",
    "csr_data_transpose"
   ]
  },
  {
   "cell_type": "code",
   "execution_count": 21,
   "id": "f6bf2d7f",
   "metadata": {},
   "outputs": [
    {
     "data": {
      "application/vnd.jupyter.widget-view+json": {
       "model_id": "5f8d589396274adba1a05606db4df568",
       "version_major": 2,
       "version_minor": 0
      },
      "text/plain": [
       "  0%|          | 0/30 [00:00<?, ?it/s]"
      ]
     },
     "metadata": {},
     "output_type": "display_data"
    }
   ],
   "source": [
    "# 모델 훈련\n",
    "als_model.fit(csr_data_transpose)"
   ]
  },
  {
   "cell_type": "code",
   "execution_count": 22,
   "id": "506094fd",
   "metadata": {},
   "outputs": [],
   "source": [
    "hs, doctor_strange = user_to_idx['hs'], movie_to_idx['Doctor Strange (2016)']\n",
    "hs_vector, doctor_strange_vector = als_model.user_factors[hs], als_model.item_factors[doctor_strange]"
   ]
  },
  {
   "cell_type": "code",
   "execution_count": 23,
   "id": "c2519368",
   "metadata": {},
   "outputs": [
    {
     "data": {
      "text/plain": [
       "array([ 9.23022330e-02,  1.23292417e-03, -4.35956046e-02, -1.06458943e-02,\n",
       "        4.72441316e-02,  1.14092575e-02, -5.14143705e-02, -8.82835463e-02,\n",
       "       -8.47442597e-02, -3.41473557e-02,  4.73482795e-02,  3.24178971e-02,\n",
       "       -2.36582477e-02, -5.50643280e-02, -9.41396784e-03, -1.87734533e-02,\n",
       "       -2.85526030e-02, -1.27397627e-02,  2.22976487e-02,  2.54312810e-02,\n",
       "        3.11184973e-02, -7.23873973e-02,  9.65329725e-03, -5.79080079e-03,\n",
       "       -4.06565927e-02, -1.26329541e-01,  1.45100402e-02,  6.00431785e-02,\n",
       "        8.18528980e-02, -2.38366369e-02, -7.72132203e-02,  4.59056580e-03,\n",
       "       -3.00217588e-02,  2.87096179e-03,  9.37044993e-03, -3.91430855e-02,\n",
       "       -9.04945582e-02,  7.47295767e-02, -2.92751882e-02, -3.89610939e-02,\n",
       "        3.32251005e-02, -8.84914547e-02,  6.73743784e-02,  3.20324190e-02,\n",
       "        7.12637305e-02, -6.32394478e-02,  1.98921114e-02, -4.36083302e-02,\n",
       "       -2.65479535e-02,  5.40115386e-02,  4.48223948e-02, -2.05640718e-02,\n",
       "       -6.67066500e-03,  4.73756231e-02,  1.82710476e-02,  2.79215220e-02,\n",
       "       -6.93237782e-02, -2.47255675e-02,  1.54551491e-02,  1.72723387e-03,\n",
       "       -2.80097108e-02,  1.79229733e-02, -4.54658782e-03, -4.35544811e-02,\n",
       "        7.53878336e-03, -1.00664040e-02, -1.30758751e-02,  6.84185624e-02,\n",
       "       -1.49065955e-02, -1.61075555e-02, -1.57874692e-02, -2.21158713e-02,\n",
       "       -7.30939284e-02, -2.83793341e-02, -2.85685575e-03,  8.39026831e-03,\n",
       "       -3.17022279e-02, -5.11404425e-02, -6.20107166e-02, -1.33274049e-02,\n",
       "       -2.64810547e-02,  9.54798013e-02, -4.81167808e-02, -1.02300093e-01,\n",
       "        5.67553751e-02,  1.35647068e-02,  2.84915436e-02, -7.06938058e-02,\n",
       "        2.45818123e-02, -3.08226719e-02, -2.73696333e-02, -1.67286843e-02,\n",
       "       -4.33856323e-02,  1.01625565e-02,  4.13311124e-02,  4.94933426e-02,\n",
       "       -7.36531690e-02,  2.23679263e-02,  1.06618226e-01, -2.85920184e-02,\n",
       "       -2.55563408e-02, -2.84169056e-02, -1.17074884e-02,  9.93064838e-04,\n",
       "        3.07277460e-02,  3.43946740e-02,  3.46187688e-02, -1.12777874e-01,\n",
       "        6.36028871e-02, -6.05982505e-02, -4.99453731e-02, -1.06693342e-01,\n",
       "       -4.37869914e-02, -2.43270826e-02, -1.12304948e-02,  3.51806916e-02,\n",
       "        3.10159680e-02, -6.70578480e-02, -2.44342145e-02,  3.92739708e-03,\n",
       "        8.15842077e-02, -4.39229310e-02,  4.94479313e-02,  4.81554754e-02,\n",
       "       -3.63852270e-02,  1.66919231e-02, -1.28880534e-02,  4.21568900e-02,\n",
       "        2.12035775e-02, -4.95746993e-02,  2.86405701e-02,  7.94463158e-02,\n",
       "        1.70316435e-02,  4.49329615e-03, -4.62244339e-02,  6.59386888e-02,\n",
       "       -1.82480216e-02,  8.10111612e-02, -4.12603281e-02, -7.27139264e-02,\n",
       "        4.19149697e-02, -2.88362298e-02,  5.64624034e-02, -6.61761442e-05,\n",
       "       -4.69754077e-02,  1.67167801e-02, -2.33284640e-03, -6.49942905e-02,\n",
       "        3.76993716e-02,  8.04302394e-02,  1.91167016e-02, -4.95575974e-03,\n",
       "        2.07421966e-02,  5.43580018e-02,  4.07516994e-02, -4.00242425e-04,\n",
       "       -6.07496835e-02,  8.92874897e-02,  6.91994652e-02,  5.79495616e-02,\n",
       "        5.75541817e-02,  3.51778269e-02, -3.85524407e-02,  2.14482774e-03,\n",
       "        2.80433260e-02,  2.40374822e-02,  1.89717095e-02, -7.35177100e-02,\n",
       "        1.44282905e-02, -2.16907244e-02,  7.39844665e-02,  5.05739544e-03,\n",
       "        4.19544280e-02,  9.81938466e-03, -7.03379465e-03, -3.37479115e-02,\n",
       "        1.30392797e-02,  1.18304817e-02,  3.35257454e-03, -1.82100758e-03,\n",
       "       -3.84612530e-02,  6.06459156e-02, -4.45946269e-02,  2.55680177e-02,\n",
       "       -2.17024493e-03, -5.90230785e-02, -3.26948203e-02,  3.37206982e-02,\n",
       "        1.14216730e-02, -5.25804758e-02, -2.06858367e-02,  1.33887660e-02,\n",
       "        4.91706170e-02, -5.22808731e-02,  1.35556841e-02, -4.74513136e-02,\n",
       "        4.68955040e-02, -1.02414377e-02,  2.24096309e-02, -8.68183821e-02,\n",
       "       -5.27910553e-02,  1.09475359e-01, -3.93081754e-02,  1.31404726e-02,\n",
       "        5.04060760e-02,  2.32436191e-02,  7.39980340e-02,  1.97963091e-03,\n",
       "       -1.15579562e-02,  2.66145822e-02,  4.06916216e-02,  1.45613449e-02,\n",
       "       -9.80552472e-03,  3.38193960e-02,  4.53658514e-02,  1.51093627e-04,\n",
       "        1.74131934e-02,  2.40006763e-02,  6.31672665e-02,  1.82157848e-02,\n",
       "       -4.90182713e-02,  5.20800315e-02, -9.09300335e-03,  6.82087541e-02,\n",
       "       -3.74800228e-02, -4.68685143e-02,  6.32153898e-02,  3.38137820e-02,\n",
       "       -2.11493000e-02, -2.28070021e-02,  1.19273916e-01, -2.68036984e-02,\n",
       "        3.34962606e-02,  7.44418101e-03,  1.65156573e-02,  2.82491762e-02,\n",
       "        4.69665676e-02,  4.18230779e-02, -5.57927564e-02, -1.45438788e-02,\n",
       "        4.27543968e-02, -2.96258014e-02,  1.16826937e-01, -4.04071845e-02,\n",
       "        3.33421156e-02,  5.45737986e-03,  5.45673724e-03, -4.97367159e-02,\n",
       "       -2.31907014e-02, -3.08046993e-02,  7.46317357e-02,  1.50045138e-02,\n",
       "        5.83962165e-02,  6.24236697e-03, -3.65432128e-02, -1.06636539e-01,\n",
       "        3.24706137e-02, -8.95544142e-02, -3.61697115e-02,  3.64843495e-02,\n",
       "        4.07069325e-02, -1.55442944e-02, -2.92453002e-02,  5.30620292e-02,\n",
       "        4.80184853e-02,  1.14775235e-02, -2.72225449e-03, -6.89258501e-02,\n",
       "       -7.04361573e-02,  6.98774159e-02, -9.53034386e-02,  1.43358652e-02,\n",
       "        2.04906259e-02, -4.66107689e-02, -5.94798662e-02, -7.60684023e-03,\n",
       "        7.74489436e-03, -7.50014931e-02, -2.73448080e-02,  3.16768847e-02,\n",
       "       -1.13128694e-02,  3.74360569e-02,  1.49587879e-03,  7.22454023e-03,\n",
       "        1.52893811e-02, -1.91692133e-02, -4.71526831e-02,  6.42667264e-02,\n",
       "        9.82663408e-02,  4.66838777e-02,  7.15713352e-02,  4.89613563e-02,\n",
       "       -6.86272234e-02,  5.22101000e-02, -6.14320971e-02,  1.04649747e-02,\n",
       "       -4.01040427e-02,  6.04528002e-02, -7.76046305e-04, -5.45078032e-02,\n",
       "        2.26523429e-02,  1.90946013e-02,  1.67182665e-02, -4.44125570e-02,\n",
       "       -2.89812926e-02, -4.41912971e-02,  5.28519452e-02,  1.84329692e-02,\n",
       "        3.36549170e-02,  1.19027302e-01,  1.62725151e-03,  9.38011240e-03,\n",
       "        1.25863375e-02,  1.20599248e-01,  2.98964027e-02,  6.34127632e-02,\n",
       "       -1.03394099e-01, -3.50843580e-03, -5.06886952e-02, -5.12839407e-02,\n",
       "       -1.93513539e-02,  2.20615510e-02, -2.59700082e-02, -1.96954906e-02,\n",
       "        3.55034098e-02, -2.23854650e-03, -3.82149816e-02, -2.74529476e-02,\n",
       "        4.64213230e-02, -4.42414358e-02, -3.45832407e-02,  3.60120013e-02,\n",
       "       -2.20169108e-02,  1.55770844e-02, -8.99516344e-02,  4.52183448e-02,\n",
       "        1.03572913e-01, -1.65539607e-02, -7.61421323e-02, -2.33307574e-02,\n",
       "        3.75983492e-02, -3.63370255e-02,  7.07406597e-03, -7.06231445e-02,\n",
       "        6.98521966e-03,  4.72558066e-02,  4.96193171e-02, -3.31151970e-02,\n",
       "       -6.46403283e-02,  2.82578859e-02,  4.31782939e-02,  2.54922453e-02,\n",
       "       -2.38101799e-02,  3.25283371e-02, -1.01538196e-01, -1.75715191e-03,\n",
       "        1.73494406e-02,  7.22068027e-02,  2.27672067e-02, -1.23056844e-02,\n",
       "        8.39481875e-03, -6.03700504e-02, -2.97159608e-02, -5.34439534e-02,\n",
       "        3.24694999e-02,  2.20314953e-02,  1.50220217e-02,  1.62631813e-02,\n",
       "        6.45320723e-03,  2.86735175e-03, -9.51455683e-02,  4.93049100e-02,\n",
       "        7.96638150e-03, -1.30683128e-02,  3.33835967e-02,  1.95426513e-02,\n",
       "       -8.26487914e-02,  2.03698110e-02, -2.69932132e-02, -6.98731989e-02,\n",
       "       -7.85267353e-03, -1.49081997e-03, -1.49432272e-02, -1.36415921e-02,\n",
       "        1.22415395e-02, -3.55135126e-05, -2.59851851e-02,  5.32346144e-02,\n",
       "       -1.17307268e-01, -1.25952763e-04,  4.48882282e-02, -3.37679647e-02,\n",
       "       -2.90662656e-03, -1.03609427e-03, -4.06683944e-02, -1.84905995e-02,\n",
       "       -6.73547387e-02, -9.84350294e-02, -6.59506470e-02,  7.42281824e-02,\n",
       "       -1.11847473e-02,  5.02997860e-02, -4.02498469e-02, -4.09456901e-03,\n",
       "       -1.45044248e-03,  4.67707124e-03, -3.52294184e-03, -5.61159924e-02,\n",
       "       -4.94455956e-02, -3.62849385e-02, -5.18664010e-02,  2.90151015e-02,\n",
       "        4.03412655e-02,  9.52725857e-02, -1.04341738e-01, -1.03848306e-02,\n",
       "        2.46951412e-02, -3.97989963e-04, -7.88604317e-04,  1.85946077e-02,\n",
       "       -4.73113768e-02,  1.24231232e-02, -2.65682163e-03,  3.34765650e-02,\n",
       "       -3.50720957e-02, -4.93773296e-02,  2.12012455e-02, -4.04787660e-02,\n",
       "       -8.39609746e-03,  1.00929402e-01, -4.46271570e-03, -3.95010263e-02,\n",
       "        3.82975861e-02,  2.20422968e-02,  1.56360622e-02,  3.00400872e-02,\n",
       "       -5.04694432e-02, -1.96271893e-02, -8.56029976e-04, -6.02846779e-03,\n",
       "        2.02340521e-02, -2.15102881e-02, -1.32313773e-01, -1.24472575e-02,\n",
       "       -1.64137437e-05, -3.72352153e-02,  7.88569748e-02,  8.00588056e-02,\n",
       "        1.67046711e-02, -6.41427189e-02,  8.82396381e-03, -2.19292846e-02,\n",
       "       -1.05797365e-01,  4.75655459e-02, -2.31390782e-02,  3.92442122e-02,\n",
       "       -2.83846539e-02,  3.94941233e-02,  4.92574833e-03,  5.15614562e-02,\n",
       "       -4.74313740e-03, -1.05078281e-04, -4.94932532e-02,  6.39649527e-03,\n",
       "        3.96349877e-02, -1.36190029e-02,  1.72363538e-02, -5.24480380e-02,\n",
       "       -3.46322469e-02,  5.76590141e-03,  4.21936549e-02,  5.38939564e-03,\n",
       "       -3.05290930e-02, -2.95284223e-02,  8.75084326e-02, -3.01218010e-03,\n",
       "       -2.51545422e-02,  5.95093742e-02,  1.43177211e-02,  1.65313818e-02,\n",
       "        2.09705271e-02, -4.05189171e-02,  6.42591016e-03, -1.14984345e-02,\n",
       "        1.90279763e-02,  4.01081964e-02, -3.05201784e-02, -1.45303439e-02,\n",
       "       -5.10576740e-02,  3.01843174e-02,  2.91544609e-02,  1.82950068e-02,\n",
       "        1.27543053e-02, -3.07579599e-02, -8.51297006e-02, -3.86912585e-03,\n",
       "       -4.69017169e-03, -2.89833779e-03,  2.70211659e-02, -3.33341546e-02,\n",
       "       -3.66112217e-02, -2.10605934e-02, -9.55741629e-02, -7.78250769e-02,\n",
       "       -8.37655440e-02,  1.66768096e-02,  9.41936299e-02,  8.19268003e-02,\n",
       "       -8.10793340e-02, -1.92780551e-02, -6.59825327e-03, -7.33431196e-03,\n",
       "       -8.99139140e-03, -2.45846137e-02, -6.73093498e-02, -1.55764157e-02,\n",
       "       -2.45407112e-02,  3.73327993e-02, -7.73135573e-02,  1.28702391e-02,\n",
       "        2.17940230e-02,  7.08547309e-02, -7.66971242e-03,  4.29960750e-02,\n",
       "        4.40756343e-02,  2.27224752e-02,  8.49743467e-03, -4.30940539e-02,\n",
       "       -6.99732592e-03, -7.49010071e-02, -2.12094635e-02,  7.44675770e-02,\n",
       "        6.15244843e-02, -5.11626974e-02, -8.99446979e-02, -4.53378595e-02,\n",
       "       -4.66581658e-02,  4.35282625e-02, -8.69058259e-03, -4.41581532e-02,\n",
       "       -1.10041751e-02, -1.75932292e-02,  4.53310320e-03,  1.02116317e-01,\n",
       "        5.40722285e-05, -8.18183273e-03,  6.92746192e-02,  2.43664999e-02,\n",
       "        2.85674501e-02, -3.70479822e-02,  8.61750683e-04, -1.11648217e-02,\n",
       "       -8.26341510e-02,  6.21085009e-03,  4.87040691e-02, -3.90497483e-02,\n",
       "       -1.71959698e-02, -3.01947948e-02,  1.68632437e-02,  2.59332228e-02,\n",
       "        9.27796401e-03,  4.38647605e-02,  3.31095047e-02, -2.63440143e-02,\n",
       "        3.20603698e-02,  2.00103819e-02, -1.53308059e-03,  3.46510112e-02,\n",
       "        1.21288747e-01, -3.73164602e-02, -2.66375747e-02,  6.62572607e-02,\n",
       "        3.23917391e-03, -8.17355979e-03, -1.06530180e-02, -4.11822498e-02,\n",
       "        7.30187148e-02, -4.72108647e-02, -8.87828767e-02, -7.97771662e-02,\n",
       "       -3.75852957e-02, -4.22041044e-02,  1.92918535e-02, -3.07425726e-02,\n",
       "        8.71536415e-03, -4.68627959e-02,  6.47289082e-02, -1.41222849e-02,\n",
       "       -3.91032249e-02,  1.55397151e-02, -5.29246358e-03, -5.04091941e-02,\n",
       "       -3.94164734e-02, -4.22842279e-02,  3.83151062e-02, -2.53578406e-02,\n",
       "        9.62286517e-02,  7.78042078e-02,  9.56766866e-03, -7.04345033e-02,\n",
       "        5.78003190e-03,  8.89286771e-03,  2.28841845e-02, -7.84136727e-02,\n",
       "       -5.30344881e-02, -7.49542788e-02, -4.54519354e-02,  4.87851091e-02,\n",
       "       -4.77234647e-02,  5.49392076e-03, -7.14080036e-02,  1.54751819e-02,\n",
       "       -7.99240824e-03, -1.87089015e-02, -2.17128024e-02,  1.32695772e-02,\n",
       "        4.13038544e-02, -5.37243187e-02, -6.42586790e-04,  7.35315320e-04,\n",
       "        4.45586406e-02, -4.06039460e-03,  7.77729275e-03,  3.08383792e-03,\n",
       "        7.72060081e-03,  7.54331052e-02,  1.23563746e-03,  5.24682179e-03,\n",
       "       -1.37220314e-02, -8.53886604e-02,  5.13666384e-02,  6.35158643e-02,\n",
       "        4.45234329e-02, -4.60850977e-04, -3.97443324e-02,  5.69226183e-02,\n",
       "       -6.66541606e-02,  8.70959982e-02,  5.99751845e-02,  6.50874153e-03,\n",
       "       -6.14857860e-02,  2.18403842e-02, -3.09726540e-02,  2.47780923e-02,\n",
       "        1.72023959e-02, -1.69827044e-02,  3.59504744e-02,  3.60349976e-02,\n",
       "        4.93217148e-02,  1.36138797e-02,  1.92649662e-02,  1.92999169e-02,\n",
       "       -2.15404518e-02,  7.97066316e-02,  2.00428199e-02, -3.83311473e-02,\n",
       "       -5.72499558e-02, -2.69367872e-03, -3.65921445e-02,  5.00390790e-02,\n",
       "        4.35408503e-02, -2.07327958e-02,  2.22754776e-02, -6.36933371e-02,\n",
       "        5.62387966e-02,  1.58827379e-02, -1.41174300e-04, -1.15351472e-02,\n",
       "        3.67157571e-02,  3.73009220e-02, -2.85224617e-02, -5.26416451e-02,\n",
       "       -5.81721812e-02,  2.73219831e-02, -9.24246833e-02, -4.53413129e-02,\n",
       "        9.80264304e-05, -2.85775680e-02, -1.07824259e-01,  2.67968588e-02,\n",
       "       -2.94944644e-02, -6.73570484e-02,  9.53918993e-02,  3.09064016e-02,\n",
       "        6.83086598e-03, -4.77613732e-02,  3.25001813e-02,  9.43024606e-02,\n",
       "        6.33716434e-02,  9.49485824e-02, -2.09867787e-02,  7.45086558e-03,\n",
       "        2.63425205e-02,  4.62154076e-02, -4.84994845e-03, -2.44794823e-02,\n",
       "        5.75178564e-02,  1.75028313e-02, -9.96825751e-03,  2.58486662e-02,\n",
       "        3.93096991e-02, -3.04183848e-02,  9.00619477e-03, -1.41853467e-01,\n",
       "        1.57604064e-03, -2.42041261e-03, -6.18927032e-02, -1.45059852e-02,\n",
       "       -2.49365587e-02,  2.98496857e-02,  2.57687271e-02,  3.65758762e-02,\n",
       "       -5.95862530e-02,  7.87398370e-04,  2.34076027e-02, -7.93042928e-02,\n",
       "       -3.80651206e-02, -1.89778786e-02, -6.16316050e-02, -6.10080454e-03,\n",
       "       -4.58273515e-02, -8.01936537e-02,  3.62420119e-02, -5.55755161e-02,\n",
       "       -2.58835424e-02,  3.76284234e-02,  4.09330353e-02, -8.03285092e-02,\n",
       "       -2.54302640e-02,  8.64548534e-02, -2.01423708e-02,  4.94234934e-02,\n",
       "        5.26061766e-02, -6.21947311e-02, -2.06084270e-02, -1.11360885e-02,\n",
       "       -2.01281602e-03,  1.06917769e-02,  3.33365463e-02, -6.37972951e-02,\n",
       "        5.16123772e-02, -5.34868427e-02, -2.55563054e-02,  1.87153686e-02,\n",
       "       -3.05555258e-02, -1.43312206e-02,  2.69610286e-02, -2.47959159e-02,\n",
       "        5.47630228e-02,  1.97435431e-02, -1.06336497e-01, -1.09464772e-01,\n",
       "        3.67577858e-02, -5.04263341e-02, -9.18969512e-04,  7.82918371e-03,\n",
       "       -1.73947662e-02,  6.21515187e-03,  2.23636962e-02, -1.37207657e-03,\n",
       "        4.02722806e-02,  1.13970861e-02, -8.20378810e-02,  6.94714533e-03,\n",
       "        6.14538491e-02, -3.77533175e-02,  2.94294674e-02,  1.32473307e-02,\n",
       "       -7.15245530e-02, -8.72636586e-03, -1.50747523e-02, -4.95814858e-03,\n",
       "       -3.29985656e-02, -4.21462581e-02,  2.83496734e-02, -4.55659209e-03,\n",
       "       -1.47334829e-01,  2.98044477e-02, -7.48836994e-02, -1.98828988e-02,\n",
       "        3.41215506e-02, -6.09960891e-02,  3.73677798e-02, -4.34366502e-02,\n",
       "       -5.61934374e-02, -7.18213059e-03,  3.52355465e-02,  1.59473736e-02,\n",
       "       -3.12257763e-02,  7.39829428e-03,  1.22935399e-02, -1.91301797e-02,\n",
       "       -1.54440198e-02, -1.30673964e-02,  8.52362067e-02, -4.04294534e-03,\n",
       "        2.52879392e-02,  1.70841906e-02,  5.98586202e-02,  3.03036906e-02,\n",
       "        2.20419690e-02,  1.01766717e-02,  1.35261014e-01, -1.18940347e-03,\n",
       "       -3.14050950e-02, -4.73141968e-02,  1.78018995e-02,  1.12082800e-02,\n",
       "        2.17781104e-02, -3.20504159e-02, -2.33048783e-03,  3.79608870e-02,\n",
       "        6.47892579e-02, -3.32494788e-02, -1.51316691e-02,  1.24527160e-02,\n",
       "        4.16168384e-02, -1.29248630e-02, -1.13361022e-02, -3.74913588e-02,\n",
       "        3.00393961e-02, -2.61716768e-02, -9.02635977e-02,  5.35944216e-02,\n",
       "        2.86177695e-02, -8.82965233e-03,  2.41802037e-02, -4.24265228e-02,\n",
       "        7.14711891e-03,  5.47468252e-02,  3.25216129e-02, -1.85728557e-02,\n",
       "       -2.54609399e-02, -7.15539530e-02, -4.45380323e-02,  5.93860820e-02,\n",
       "       -9.15903598e-02, -3.50013413e-02,  3.42314951e-02,  1.26193032e-01,\n",
       "        6.38276860e-02,  1.22896219e-02, -8.59383866e-02,  1.84043963e-02,\n",
       "       -2.16070767e-02,  4.84768227e-02,  4.25420217e-02,  5.97051457e-02,\n",
       "        4.86034490e-02,  3.59408036e-02,  3.52260619e-02,  7.31147081e-02,\n",
       "        2.68146745e-03,  3.69728655e-02, -6.08772598e-02,  4.14340161e-02,\n",
       "        4.28247489e-02,  1.93978362e-02, -4.47526947e-02, -5.12110023e-03,\n",
       "       -2.78456267e-02, -1.13084204e-02,  5.05504794e-02, -9.59165022e-02,\n",
       "       -5.25175733e-03,  2.53277775e-02,  1.38539746e-02,  1.38947954e-02,\n",
       "       -2.66228267e-03,  9.77024212e-02,  9.39553790e-03,  4.76724654e-02,\n",
       "        7.42731392e-02,  7.45219784e-03, -3.68971676e-02,  4.20223773e-02,\n",
       "        4.34434041e-02, -2.53015328e-02, -1.85497658e-04,  3.81177254e-02,\n",
       "        1.21471174e-02,  3.58973257e-02,  7.72767290e-02,  7.04531372e-02,\n",
       "        3.34468521e-02,  2.64227465e-02, -9.21193659e-02, -4.61115539e-02,\n",
       "       -1.48349004e-02,  3.28751793e-03, -9.92196053e-03,  3.37118432e-02,\n",
       "        3.33358012e-02,  3.63520882e-03,  9.88964364e-03,  2.27241702e-02,\n",
       "        2.31621508e-02,  5.25507741e-02, -6.30325750e-02, -9.68949571e-02,\n",
       "       -1.61504303e-03, -1.04673114e-03, -2.06974354e-02, -2.52824668e-02,\n",
       "        2.24968847e-02, -1.73639543e-02, -3.11463326e-02, -1.20847079e-03,\n",
       "       -1.84536329e-03, -3.59981954e-02, -6.37169331e-02,  2.77667642e-02,\n",
       "       -7.48086721e-02, -3.88531527e-03,  1.93337677e-03,  6.84109777e-02,\n",
       "       -1.16634630e-02,  6.55161403e-03,  2.09263023e-02,  3.97633314e-02,\n",
       "       -3.17143314e-02, -5.84291443e-02, -3.96462269e-02,  3.50783914e-02,\n",
       "       -5.91833191e-03,  3.59165221e-02,  4.52656448e-02, -5.62252570e-03,\n",
       "       -3.14092040e-02,  1.16642758e-01, -2.21400931e-02,  1.03125580e-01,\n",
       "       -1.52323404e-02,  2.91722696e-02, -2.26699375e-03,  3.06102280e-02,\n",
       "        4.99162674e-02,  1.86630003e-02,  7.45268539e-02,  2.68305652e-03,\n",
       "        7.99456146e-03, -1.35184629e-02,  5.99553548e-02, -1.02280946e-02,\n",
       "       -1.34381317e-02, -9.89948772e-03, -1.35813318e-02,  4.63853255e-02,\n",
       "        3.95945087e-02,  5.70749268e-02, -2.54642824e-03, -1.38160605e-02,\n",
       "       -6.66125789e-02, -2.81388965e-02, -7.04757124e-03,  9.90449712e-02,\n",
       "       -1.18703004e-02, -1.05204629e-02, -5.81339709e-02, -5.71447201e-02,\n",
       "       -1.60585693e-03, -7.77283534e-02, -5.64832948e-02, -6.72885850e-02,\n",
       "       -8.53683054e-03, -2.48522032e-02,  3.33820581e-02,  6.18210435e-03,\n",
       "       -4.82872538e-02, -2.59660911e-02,  1.40976226e-02,  1.87501777e-02,\n",
       "       -2.28805607e-03, -1.01941414e-02,  3.18912254e-03,  9.76659823e-03,\n",
       "        5.67874685e-03, -4.45256345e-02,  1.75776090e-02, -5.87058859e-03,\n",
       "        1.41521031e-02, -1.77258495e-02,  1.21026328e-02,  4.36753593e-02,\n",
       "       -7.39113661e-03,  4.71811406e-02,  1.62219964e-02, -8.33747014e-02,\n",
       "        2.19296049e-02, -7.96602573e-03, -2.55940985e-02, -4.57694530e-02,\n",
       "       -2.49907151e-02,  2.83039687e-03, -3.18591557e-02,  1.11683002e-02,\n",
       "        2.09582243e-02, -2.90899631e-02,  5.25014959e-02, -9.85692907e-03],\n",
       "      dtype=float32)"
      ]
     },
     "execution_count": 23,
     "metadata": {},
     "output_type": "execute_result"
    }
   ],
   "source": [
    "hs_vector"
   ]
  },
  {
   "cell_type": "code",
   "execution_count": 24,
   "id": "0e150acf",
   "metadata": {},
   "outputs": [
    {
     "data": {
      "text/plain": [
       "array([0.00631036, 0.00537979, 0.0038249 , 0.00574582, 0.00625711,\n",
       "       0.00561804, 0.00414592, 0.00403448, 0.00332502, 0.00497408,\n",
       "       0.00598338, 0.00493255, 0.00461014, 0.00290521, 0.00494242,\n",
       "       0.00441153, 0.00491627, 0.0038134 , 0.00480262, 0.00544471,\n",
       "       0.00585497, 0.00294183, 0.00470106, 0.00440628, 0.00389937,\n",
       "       0.00334714, 0.00659983, 0.00642046, 0.00630962, 0.00511922,\n",
       "       0.00380163, 0.00577417, 0.00432266, 0.00482015, 0.00456772,\n",
       "       0.00365405, 0.00457093, 0.00623215, 0.00444344, 0.00430339,\n",
       "       0.00542743, 0.00209883, 0.0056208 , 0.00507693, 0.00695195,\n",
       "       0.00424041, 0.00578326, 0.0038936 , 0.00498707, 0.00489764,\n",
       "       0.00567025, 0.0038201 , 0.00498191, 0.00541972, 0.00471243,\n",
       "       0.0058847 , 0.00339221, 0.00525638, 0.00549244, 0.0044165 ,\n",
       "       0.00447131, 0.0055059 , 0.00453611, 0.00441981, 0.00456822,\n",
       "       0.00450888, 0.00429468, 0.00435553, 0.00493595, 0.00385517,\n",
       "       0.00454082, 0.00516167, 0.00374585, 0.0043529 , 0.00472845,\n",
       "       0.00521972, 0.00462096, 0.00388722, 0.00427656, 0.00456091,\n",
       "       0.0052027 , 0.00632566, 0.00390369, 0.00287263, 0.00530542,\n",
       "       0.00475494, 0.00484388, 0.00370398, 0.00488498, 0.00523832,\n",
       "       0.00423925, 0.00533101, 0.00366126, 0.00583192, 0.00582969,\n",
       "       0.00517884, 0.00460981, 0.00616595, 0.00715759, 0.00491718,\n",
       "       0.00432937, 0.00383669, 0.00433913, 0.00424768, 0.00584078,\n",
       "       0.00523461, 0.00566371, 0.00331341, 0.00670478, 0.00370782,\n",
       "       0.00349489, 0.00362102, 0.00477037, 0.0057709 , 0.00398316,\n",
       "       0.00623232, 0.00560059, 0.00448425, 0.00386621, 0.00470924,\n",
       "       0.00609644, 0.00484144, 0.00591908, 0.00588049, 0.00415747,\n",
       "       0.00572794, 0.00430971, 0.00614414, 0.00593296, 0.0033019 ,\n",
       "       0.00501211, 0.00582764, 0.00484005, 0.00472908, 0.00427776,\n",
       "       0.00560523, 0.00440679, 0.00636434, 0.00362125, 0.00347507,\n",
       "       0.00520718, 0.00392697, 0.00595682, 0.0040307 , 0.00314365,\n",
       "       0.00494809, 0.00447999, 0.00370494, 0.00500386, 0.00574828,\n",
       "       0.00532748, 0.00570119, 0.00563778, 0.00490394, 0.00490941,\n",
       "       0.00525653, 0.00385792, 0.00615747, 0.00599844, 0.0065311 ,\n",
       "       0.00488929, 0.00457932, 0.00458842, 0.00520717, 0.00497124,\n",
       "       0.00476553, 0.00517738, 0.00321293, 0.00577332, 0.00402774,\n",
       "       0.00597761, 0.00507497, 0.00488249, 0.00528734, 0.00502709,\n",
       "       0.00450977, 0.00512152, 0.00511563, 0.00460177, 0.00541853,\n",
       "       0.00439899, 0.00502949, 0.00427152, 0.00499319, 0.00537738,\n",
       "       0.00291925, 0.00417935, 0.00507624, 0.00454348, 0.00492762,\n",
       "       0.00403229, 0.00542512, 0.00488662, 0.00332553, 0.00526159,\n",
       "       0.00366391, 0.00623812, 0.00419187, 0.00379847, 0.00262329,\n",
       "       0.003835  , 0.00625969, 0.00415738, 0.00513637, 0.00537656,\n",
       "       0.00581001, 0.00591259, 0.00476993, 0.00490074, 0.0056037 ,\n",
       "       0.00485696, 0.0047097 , 0.00546544, 0.00510199, 0.00470996,\n",
       "       0.00477094, 0.00506425, 0.00499009, 0.00606005, 0.00420602,\n",
       "       0.00340175, 0.00536621, 0.00391863, 0.00532174, 0.00401147,\n",
       "       0.00389607, 0.00539167, 0.00518612, 0.00436379, 0.00469887,\n",
       "       0.00668507, 0.00473698, 0.00544581, 0.0053177 , 0.0048601 ,\n",
       "       0.0054437 , 0.006026  , 0.0053502 , 0.0046907 , 0.00458274,\n",
       "       0.00510862, 0.00466616, 0.00705416, 0.00437552, 0.00503373,\n",
       "       0.00486344, 0.00529098, 0.00338446, 0.00453232, 0.00341529,\n",
       "       0.00548451, 0.00483055, 0.00622268, 0.00529996, 0.00463322,\n",
       "       0.00245312, 0.00642044, 0.00371144, 0.00468651, 0.00605679,\n",
       "       0.00512202, 0.00488426, 0.00440847, 0.00628334, 0.00571278,\n",
       "       0.00518403, 0.00499936, 0.00384905, 0.00248606, 0.0057584 ,\n",
       "       0.00299554, 0.00556809, 0.00502831, 0.00500397, 0.00409353,\n",
       "       0.00408347, 0.00546588, 0.00405765, 0.00429167, 0.00490905,\n",
       "       0.0044326 , 0.00593971, 0.00501459, 0.00447166, 0.00508268,\n",
       "       0.00417963, 0.00298032, 0.00601401, 0.00687717, 0.00603356,\n",
       "       0.00614239, 0.00515231, 0.00421467, 0.00576001, 0.0039979 ,\n",
       "       0.00559234, 0.00446678, 0.00567735, 0.00488728, 0.00341542,\n",
       "       0.00483003, 0.00496088, 0.00520183, 0.00389438, 0.00384641,\n",
       "       0.00493718, 0.00606934, 0.00545374, 0.00592981, 0.00823418,\n",
       "       0.00454076, 0.00486987, 0.00457373, 0.00657098, 0.00550866,\n",
       "       0.00548756, 0.00326166, 0.00416763, 0.00315944, 0.00466552,\n",
       "       0.00544068, 0.00538433, 0.00450427, 0.00475925, 0.00642916,\n",
       "       0.00564827, 0.00421446, 0.00385579, 0.00551023, 0.00441282,\n",
       "       0.00388383, 0.0045022 , 0.00415681, 0.00525685, 0.00406771,\n",
       "       0.00550718, 0.00521592, 0.00535038, 0.00399787, 0.00500007,\n",
       "       0.00601376, 0.00392416, 0.00573915, 0.00427969, 0.00569126,\n",
       "       0.00488341, 0.00545182, 0.00402099, 0.0039281 , 0.00685027,\n",
       "       0.00511989, 0.00408194, 0.00493579, 0.00483555, 0.00259371,\n",
       "       0.00442182, 0.00505451, 0.00570685, 0.00570716, 0.00494073,\n",
       "       0.005138  , 0.00368395, 0.00363674, 0.00466372, 0.00467291,\n",
       "       0.00477352, 0.00614113, 0.00561068, 0.00479466, 0.00408219,\n",
       "       0.00363214, 0.00468931, 0.0050318 , 0.00449398, 0.00469879,\n",
       "       0.00573952, 0.00310045, 0.00650526, 0.00492614, 0.00445463,\n",
       "       0.00502017, 0.00383842, 0.00461564, 0.00464106, 0.00508153,\n",
       "       0.00414105, 0.00506873, 0.00615827, 0.00268454, 0.00437091,\n",
       "       0.0045889 , 0.00368645, 0.00505748, 0.00417956, 0.00441093,\n",
       "       0.00590129, 0.00415942, 0.00279661, 0.00464373, 0.00596574,\n",
       "       0.00510399, 0.0056168 , 0.00453159, 0.00433338, 0.00638554,\n",
       "       0.00481731, 0.00451522, 0.00321546, 0.0046239 , 0.00430741,\n",
       "       0.00453799, 0.00548947, 0.00566321, 0.00603071, 0.00414041,\n",
       "       0.00535502, 0.00491517, 0.00635802, 0.00455238, 0.00530584,\n",
       "       0.00385553, 0.00438039, 0.00488802, 0.00526603, 0.00513944,\n",
       "       0.00420345, 0.00624598, 0.00510989, 0.00482048, 0.00647661,\n",
       "       0.00489865, 0.00319849, 0.00533992, 0.00596037, 0.00518888,\n",
       "       0.00509656, 0.00437342, 0.00436414, 0.00458782, 0.00522542,\n",
       "       0.00418618, 0.00590937, 0.00312882, 0.00458454, 0.00517793,\n",
       "       0.00476217, 0.00667245, 0.00589299, 0.00532367, 0.0042568 ,\n",
       "       0.00491461, 0.00525204, 0.00253139, 0.00590988, 0.00399254,\n",
       "       0.00634582, 0.00465437, 0.00478949, 0.00395898, 0.00560201,\n",
       "       0.00490368, 0.00551492, 0.00521362, 0.00474532, 0.00539866,\n",
       "       0.00415898, 0.00434811, 0.00418663, 0.00440336, 0.00472817,\n",
       "       0.00470447, 0.00460631, 0.00505171, 0.00513861, 0.00632844,\n",
       "       0.00376986, 0.00501143, 0.00620944, 0.00450571, 0.00555906,\n",
       "       0.00556652, 0.00286053, 0.0049867 , 0.00497195, 0.00544752,\n",
       "       0.00557218, 0.00497422, 0.00540208, 0.00432414, 0.00597081,\n",
       "       0.00631871, 0.00509141, 0.00425085, 0.0047491 , 0.00340432,\n",
       "       0.00425352, 0.00416309, 0.00524379, 0.00497987, 0.00388057,\n",
       "       0.00453084, 0.00490962, 0.00289535, 0.00325712, 0.00337883,\n",
       "       0.00569658, 0.00600358, 0.00532843, 0.00316857, 0.0039727 ,\n",
       "       0.00450368, 0.00454783, 0.00474214, 0.00388275, 0.00448245,\n",
       "       0.00504731, 0.00541766, 0.00568213, 0.00340039, 0.00550643,\n",
       "       0.00535579, 0.00513327, 0.00436793, 0.005711  , 0.00484883,\n",
       "       0.00537442, 0.0047091 , 0.00420703, 0.0042106 , 0.00298411,\n",
       "       0.00576618, 0.0055451 , 0.00658575, 0.00327682, 0.00431228,\n",
       "       0.00444717, 0.00390051, 0.00585396, 0.00537246, 0.00405534,\n",
       "       0.0052836 , 0.00439157, 0.00508466, 0.00667319, 0.00557116,\n",
       "       0.00397856, 0.00564231, 0.00487013, 0.00655157, 0.00426185,\n",
       "       0.00478061, 0.00447404, 0.00283377, 0.00486927, 0.00574783,\n",
       "       0.00494632, 0.00454941, 0.00426929, 0.00469115, 0.00519146,\n",
       "       0.00476905, 0.0054265 , 0.00556391, 0.00386702, 0.00433855,\n",
       "       0.00490215, 0.00413309, 0.00572928, 0.00617587, 0.00445097,\n",
       "       0.00446665, 0.00568308, 0.00485987, 0.00514055, 0.00355188,\n",
       "       0.00336549, 0.00603788, 0.00384104, 0.00260496, 0.00378669,\n",
       "       0.00445572, 0.00472732, 0.00611649, 0.00436539, 0.00498239,\n",
       "       0.0048235 , 0.00513256, 0.00484911, 0.00407287, 0.00517495,\n",
       "       0.00486237, 0.00395876, 0.00439575, 0.00443262, 0.00520933,\n",
       "       0.00514849, 0.00674647, 0.00550598, 0.0051299 , 0.00339749,\n",
       "       0.0049193 , 0.00476003, 0.00558767, 0.00437321, 0.00345565,\n",
       "       0.00468823, 0.00341338, 0.00463841, 0.00479744, 0.00483328,\n",
       "       0.00400041, 0.0061625 , 0.00486684, 0.00473837, 0.00450576,\n",
       "       0.00528567, 0.00504875, 0.00404826, 0.00537844, 0.00526025,\n",
       "       0.00531639, 0.00536568, 0.00446156, 0.00454614, 0.0040709 ,\n",
       "       0.00602558, 0.00492786, 0.0056064 , 0.00401506, 0.00335657,\n",
       "       0.00581222, 0.00611942, 0.00592334, 0.00494271, 0.00420291,\n",
       "       0.00576722, 0.00309415, 0.0055522 , 0.00549096, 0.00436036,\n",
       "       0.0033204 , 0.00470739, 0.00453477, 0.00592979, 0.00521449,\n",
       "       0.00456108, 0.00400622, 0.00605797, 0.00659404, 0.00582062,\n",
       "       0.00541654, 0.00483317, 0.004602  , 0.00548174, 0.00557854,\n",
       "       0.00430306, 0.00352839, 0.00507167, 0.0038011 , 0.00508385,\n",
       "       0.00554906, 0.00433003, 0.00558863, 0.00334943, 0.00598724,\n",
       "       0.00468489, 0.0046697 , 0.00384324, 0.00503458, 0.00466194,\n",
       "       0.00437038, 0.00443493, 0.00367239, 0.00481403, 0.00346518,\n",
       "       0.00540915, 0.00547363, 0.00388114, 0.00333908, 0.00601444,\n",
       "       0.00484934, 0.00400435, 0.00714781, 0.00537298, 0.00597025,\n",
       "       0.00444854, 0.00504164, 0.00598466, 0.00542201, 0.00749182,\n",
       "       0.00460444, 0.00449681, 0.00500399, 0.00670366, 0.00467209,\n",
       "       0.00553464, 0.00662228, 0.00507399, 0.00317479, 0.00450216,\n",
       "       0.00566831, 0.003966  , 0.00393675, 0.00240366, 0.004679  ,\n",
       "       0.0044576 , 0.00381788, 0.00484751, 0.00431194, 0.00553751,\n",
       "       0.00596499, 0.0052808 , 0.00445481, 0.0051605 , 0.00544055,\n",
       "       0.00229106, 0.00389472, 0.00433276, 0.00415951, 0.00559202,\n",
       "       0.00424856, 0.00296697, 0.00693054, 0.00371477, 0.00416077,\n",
       "       0.00538301, 0.0051358 , 0.00402038, 0.00490319, 0.00509232,\n",
       "       0.00473806, 0.00455078, 0.00583624, 0.00328021, 0.00494317,\n",
       "       0.00464367, 0.00551314, 0.00538161, 0.00579882, 0.00399366,\n",
       "       0.00480041, 0.00368627, 0.00416173, 0.00515086, 0.00404235,\n",
       "       0.00465774, 0.00520731, 0.00470361, 0.00575389, 0.0043363 ,\n",
       "       0.00293259, 0.00359595, 0.00505063, 0.00413502, 0.00564858,\n",
       "       0.00514596, 0.004922  , 0.00596698, 0.00414502, 0.00468182,\n",
       "       0.00550537, 0.00516542, 0.00369236, 0.00483333, 0.00563215,\n",
       "       0.0036037 , 0.0057341 , 0.00455655, 0.00382926, 0.00390551,\n",
       "       0.00472987, 0.00391463, 0.00447602, 0.00430362, 0.00498029,\n",
       "       0.00430155, 0.00258639, 0.00620721, 0.00364747, 0.00485879,\n",
       "       0.00577491, 0.0038813 , 0.00569002, 0.00325676, 0.00469903,\n",
       "       0.00506117, 0.00585013, 0.00562572, 0.00504592, 0.004548  ,\n",
       "       0.00530901, 0.00406215, 0.00433507, 0.00470875, 0.00528681,\n",
       "       0.00481023, 0.00488328, 0.00620235, 0.00599453, 0.00538582,\n",
       "       0.00502926, 0.00500725, 0.0066882 , 0.00426112, 0.0035377 ,\n",
       "       0.00443507, 0.00496848, 0.00487422, 0.00503332, 0.00447802,\n",
       "       0.00468207, 0.00575347, 0.0058225 , 0.0048056 , 0.0037677 ,\n",
       "       0.00487756, 0.00483699, 0.00482722, 0.00393049, 0.00356049,\n",
       "       0.00537133, 0.00468343, 0.00329135, 0.00544167, 0.00579321,\n",
       "       0.00482419, 0.00477879, 0.00458585, 0.00465652, 0.00651289,\n",
       "       0.00480124, 0.00437158, 0.00404344, 0.0040596 , 0.00427037,\n",
       "       0.00559523, 0.00308133, 0.00419217, 0.0055047 , 0.00623913,\n",
       "       0.00533726, 0.00525088, 0.00356894, 0.00435471, 0.00439831,\n",
       "       0.00545569, 0.00481376, 0.0059687 , 0.00566678, 0.00482645,\n",
       "       0.00472518, 0.00645516, 0.00546164, 0.00462363, 0.00355113,\n",
       "       0.00522056, 0.00445645, 0.0051873 , 0.00446984, 0.00474488,\n",
       "       0.00562389, 0.00492063, 0.00684463, 0.00335948, 0.00415813,\n",
       "       0.00546324, 0.00533039, 0.00497277, 0.0050194 , 0.00606992,\n",
       "       0.00588966, 0.00571354, 0.00550151, 0.00548209, 0.00445162,\n",
       "       0.00557388, 0.00599322, 0.00444642, 0.00605693, 0.00525908,\n",
       "       0.00435456, 0.00599895, 0.00595493, 0.00568485, 0.00526395,\n",
       "       0.00562427, 0.0036234 , 0.0046033 , 0.00547228, 0.00551243,\n",
       "       0.0044946 , 0.00506015, 0.00549594, 0.00399834, 0.00549837,\n",
       "       0.00477202, 0.00499782, 0.00581889, 0.00454982, 0.00333466,\n",
       "       0.00530962, 0.00467212, 0.0053266 , 0.00489683, 0.00560424,\n",
       "       0.0039401 , 0.00483302, 0.00545255, 0.00441411, 0.00375969,\n",
       "       0.00454744, 0.00566448, 0.00456601, 0.00492906, 0.00301111,\n",
       "       0.00582749, 0.0050603 , 0.00551166, 0.0054066 , 0.00514017,\n",
       "       0.00445428, 0.00427183, 0.00402408, 0.00536811, 0.00434736,\n",
       "       0.00529764, 0.00552846, 0.00462753, 0.00453215, 0.00691222,\n",
       "       0.00504056, 0.00651702, 0.00412593, 0.00555001, 0.00479791,\n",
       "       0.00507393, 0.0063875 , 0.00521849, 0.00689875, 0.00486641,\n",
       "       0.00487184, 0.00441528, 0.00533686, 0.00437955, 0.00463168,\n",
       "       0.00348337, 0.00454212, 0.00476506, 0.00499349, 0.00616036,\n",
       "       0.00452624, 0.00495363, 0.00441323, 0.00411799, 0.00418343,\n",
       "       0.00661108, 0.00443215, 0.00392266, 0.00407218, 0.00371671,\n",
       "       0.00512079, 0.00385872, 0.00422029, 0.00407844, 0.00451975,\n",
       "       0.00410726, 0.0055826 , 0.00428509, 0.0031524 , 0.00460891,\n",
       "       0.00551753, 0.00576652, 0.00413701, 0.00335846, 0.00469375,\n",
       "       0.00495074, 0.005092  , 0.00436243, 0.00496476, 0.00423719,\n",
       "       0.00403465, 0.00429588, 0.00492822, 0.00578964, 0.00427166,\n",
       "       0.00651291, 0.00607102, 0.00364995, 0.00436783, 0.00532742,\n",
       "       0.00414268, 0.00379268, 0.00388898, 0.00437173, 0.00367331,\n",
       "       0.00335637, 0.00475254, 0.00496483, 0.00531266, 0.00413953],\n",
       "      dtype=float32)"
      ]
     },
     "execution_count": 24,
     "metadata": {},
     "output_type": "execute_result"
    }
   ],
   "source": [
    "doctor_strange_vector"
   ]
  },
  {
   "cell_type": "code",
   "execution_count": 25,
   "id": "15db5425",
   "metadata": {},
   "outputs": [
    {
     "data": {
      "text/plain": [
       "0.027714748"
      ]
     },
     "execution_count": 25,
     "metadata": {},
     "output_type": "execute_result"
    }
   ],
   "source": [
    "# zimin과 black_eyed_peas를 내적하는 코드\n",
    "np.dot(hs_vector, doctor_strange_vector) # 0.00028537068 -> 0.021859618"
   ]
  },
  {
   "cell_type": "code",
   "execution_count": 26,
   "id": "84738418",
   "metadata": {},
   "outputs": [
    {
     "data": {
      "text/plain": [
       "0.0277807"
      ]
     },
     "execution_count": 26,
     "metadata": {},
     "output_type": "execute_result"
    }
   ],
   "source": [
    "dark_knight = movie_to_idx['The Dark Knight (2008)']\n",
    "dark_knight_vector = als_model.item_factors[dark_knight]\n",
    "np.dot(hs_vector, dark_knight_vector) # 0.0002455473 -> 0.021536825"
   ]
  },
  {
   "cell_type": "code",
   "execution_count": 27,
   "id": "1568c0c5",
   "metadata": {},
   "outputs": [
    {
     "data": {
      "text/plain": [
       "-0.0033781074"
      ]
     },
     "execution_count": 27,
     "metadata": {},
     "output_type": "execute_result"
    }
   ],
   "source": [
    "lady_bird = movie_to_idx[260]\n",
    "lady_bird_vector = als_model.item_factors[lady_bird]\n",
    "np.dot(hs_vector, lady_bird_vector) # -0.00081391656 -> -0.005021919"
   ]
  },
  {
   "cell_type": "code",
   "execution_count": 28,
   "id": "b7935d37",
   "metadata": {},
   "outputs": [
    {
     "data": {
      "text/plain": [
       "[(3628, 1.0000001),\n",
       " (3631, 0.99991363),\n",
       " (3629, 0.99991095),\n",
       " (3632, 0.9998717),\n",
       " (3630, 0.99986964),\n",
       " (3615, 0.99740565),\n",
       " (3035, 0.99730086),\n",
       " (3534, 0.99715436),\n",
       " (3531, 0.99707705),\n",
       " (3088, 0.99671805),\n",
       " (3570, 0.9967022),\n",
       " (3549, 0.99666584),\n",
       " (3589, 0.9966391),\n",
       " (3053, 0.9965271),\n",
       " (3156, 0.99649054)]"
      ]
     },
     "execution_count": 28,
     "metadata": {},
     "output_type": "execute_result"
    }
   ],
   "source": [
    "favorite_movie = 'Doctor Strange (2016)'\n",
    "movie_id = movie_to_idx[favorite_movie]\n",
    "similar_movie = als_model.similar_items(movie_id, N=15)\n",
    "similar_movie"
   ]
  },
  {
   "cell_type": "code",
   "execution_count": 29,
   "id": "225024bf",
   "metadata": {},
   "outputs": [
    {
     "data": {
      "text/plain": [
       "['Doctor Strange (2016)',\n",
       " 'The Lord of the Rings: The Return of the King (2003)',\n",
       " 'The Dark Knight (2008)',\n",
       " \"Schindler's List (1993)\",\n",
       " 'Iron Man (2008)',\n",
       " 3323,\n",
       " 1579,\n",
       " 3779,\n",
       " 872,\n",
       " 402,\n",
       " 1107,\n",
       " 3842,\n",
       " 3290,\n",
       " 1062,\n",
       " 3647]"
      ]
     },
     "execution_count": 29,
     "metadata": {},
     "output_type": "execute_result"
    }
   ],
   "source": [
    "#movie_to_idx 를 뒤집어, index로부터 movie 이름을 얻는 dict를 생성합니다. \n",
    "idx_to_movie = {v:k for k,v in movie_to_idx.items()}\n",
    "[idx_to_movie[i[0]] for i in similar_movie]"
   ]
  },
  {
   "cell_type": "code",
   "execution_count": 30,
   "id": "e90c9fb8",
   "metadata": {},
   "outputs": [],
   "source": [
    "def get_similar_movie(movie_name: str):\n",
    "    movie_id = movie_to_idx[movie_name]\n",
    "    similar_movie = als_model.similar_items(movie_id)\n",
    "    similar_movie = [idx_to_movie[i[0]] for i in similar_movie]\n",
    "    return similar_movie"
   ]
  },
  {
   "cell_type": "code",
   "execution_count": 31,
   "id": "8a28d9d7",
   "metadata": {
    "scrolled": true
   },
   "outputs": [
    {
     "data": {
      "text/plain": [
       "['Iron Man (2008)',\n",
       " 'The Lord of the Rings: The Return of the King (2003)',\n",
       " \"Schindler's List (1993)\",\n",
       " 'The Dark Knight (2008)',\n",
       " 'Doctor Strange (2016)',\n",
       " 3323,\n",
       " 1579,\n",
       " 3779,\n",
       " 872,\n",
       " 402]"
      ]
     },
     "execution_count": 31,
     "metadata": {},
     "output_type": "execute_result"
    }
   ],
   "source": [
    "get_similar_movie('Iron Man (2008)')"
   ]
  },
  {
   "cell_type": "code",
   "execution_count": 32,
   "id": "0398cd82",
   "metadata": {},
   "outputs": [
    {
     "ename": "KeyError",
     "evalue": "'Alien'",
     "output_type": "error",
     "traceback": [
      "\u001b[0;31m---------------------------------------------------------------------------\u001b[0m",
      "\u001b[0;31mKeyError\u001b[0m                                  Traceback (most recent call last)",
      "\u001b[0;32m/tmp/ipykernel_868/3922489980.py\u001b[0m in \u001b[0;36m<module>\u001b[0;34m\u001b[0m\n\u001b[0;32m----> 1\u001b[0;31m \u001b[0mget_similar_movie\u001b[0m\u001b[0;34m(\u001b[0m\u001b[0;34m'Alien'\u001b[0m\u001b[0;34m)\u001b[0m\u001b[0;34m\u001b[0m\u001b[0;34m\u001b[0m\u001b[0m\n\u001b[0m",
      "\u001b[0;32m/tmp/ipykernel_868/4285853047.py\u001b[0m in \u001b[0;36mget_similar_movie\u001b[0;34m(movie_name)\u001b[0m\n\u001b[1;32m      1\u001b[0m \u001b[0;32mdef\u001b[0m \u001b[0mget_similar_movie\u001b[0m\u001b[0;34m(\u001b[0m\u001b[0mmovie_name\u001b[0m\u001b[0;34m:\u001b[0m \u001b[0mstr\u001b[0m\u001b[0;34m)\u001b[0m\u001b[0;34m:\u001b[0m\u001b[0;34m\u001b[0m\u001b[0;34m\u001b[0m\u001b[0m\n\u001b[0;32m----> 2\u001b[0;31m     \u001b[0mmovie_id\u001b[0m \u001b[0;34m=\u001b[0m \u001b[0mmovie_to_idx\u001b[0m\u001b[0;34m[\u001b[0m\u001b[0mmovie_name\u001b[0m\u001b[0;34m]\u001b[0m\u001b[0;34m\u001b[0m\u001b[0;34m\u001b[0m\u001b[0m\n\u001b[0m\u001b[1;32m      3\u001b[0m     \u001b[0msimilar_movie\u001b[0m \u001b[0;34m=\u001b[0m \u001b[0mals_model\u001b[0m\u001b[0;34m.\u001b[0m\u001b[0msimilar_items\u001b[0m\u001b[0;34m(\u001b[0m\u001b[0mmovie_id\u001b[0m\u001b[0;34m)\u001b[0m\u001b[0;34m\u001b[0m\u001b[0;34m\u001b[0m\u001b[0m\n\u001b[1;32m      4\u001b[0m     \u001b[0msimilar_movie\u001b[0m \u001b[0;34m=\u001b[0m \u001b[0;34m[\u001b[0m\u001b[0midx_to_movie\u001b[0m\u001b[0;34m[\u001b[0m\u001b[0mi\u001b[0m\u001b[0;34m[\u001b[0m\u001b[0;36m0\u001b[0m\u001b[0;34m]\u001b[0m\u001b[0;34m]\u001b[0m \u001b[0;32mfor\u001b[0m \u001b[0mi\u001b[0m \u001b[0;32min\u001b[0m \u001b[0msimilar_movie\u001b[0m\u001b[0;34m]\u001b[0m\u001b[0;34m\u001b[0m\u001b[0;34m\u001b[0m\u001b[0m\n\u001b[1;32m      5\u001b[0m     \u001b[0;32mreturn\u001b[0m \u001b[0msimilar_movie\u001b[0m\u001b[0;34m\u001b[0m\u001b[0;34m\u001b[0m\u001b[0m\n",
      "\u001b[0;31mKeyError\u001b[0m: 'Alien'"
     ]
    }
   ],
   "source": [
    "get_similar_movie('Alien')"
   ]
  },
  {
   "cell_type": "code",
   "execution_count": null,
   "id": "ab893f1a",
   "metadata": {},
   "outputs": [],
   "source": [
    "user = user_to_idx['hs']\n",
    "# recommend에서는 user*item CSR Matrix를 받습니다.\n",
    "movie_recommended = als_model.recommend(user, csr_data, N=20, filter_already_liked_items=True)\n",
    "movie_recommended"
   ]
  },
  {
   "cell_type": "code",
   "execution_count": null,
   "id": "b640b92c",
   "metadata": {},
   "outputs": [],
   "source": [
    "[idx_to_movie[i[0]] for i in movie_recommended]"
   ]
  },
  {
   "cell_type": "code",
   "execution_count": null,
   "id": "0ca5ac64",
   "metadata": {},
   "outputs": [],
   "source": [
    "alien = movie_to_idx['alien']\n",
    "explain = als_model.explain(user, csr_data, itemid=alien)"
   ]
  },
  {
   "cell_type": "code",
   "execution_count": null,
   "id": "f3a920cf",
   "metadata": {},
   "outputs": [],
   "source": [
    "[(idx_to_movie[i[0]], i[1]) for i in explain[1]]"
   ]
  },
  {
   "cell_type": "code",
   "execution_count": null,
   "id": "62a48033",
   "metadata": {},
   "outputs": [],
   "source": []
  },
  {
   "cell_type": "markdown",
   "id": "b8e292ce",
   "metadata": {},
   "source": [
    "이후에는 이전 스텝에 소개했던 것과 동일한 방식으로 MF model을 구성하여 내가 좋아할 만한 영화를 추천해 볼 수 있습니다.\n",
    "\n",
    "4) CSR matrix를 직접 만들어 봅시다.\n",
    "\n",
    "5) als_model = AlternatingLeastSquares 모델을 직접 구성하여 훈련시켜 봅시다.\n",
    "\n",
    "6) 내가 선호하는 5가지 영화 중 하나와 그 외의 영화 하나를 골라 훈련된 모델이 예측한 나의 선호도를 파악해 보세요.\n",
    "\n",
    "7) 내가 좋아하는 영화와 비슷한 영화를 추천받아 봅시다.\n",
    "\n",
    "8) 내가 가장 좋아할 만한 영화들을 추천받아 봅시다."
   ]
  },
  {
   "cell_type": "code",
   "execution_count": null,
   "id": "dbb78d45",
   "metadata": {},
   "outputs": [],
   "source": []
  }
 ],
 "metadata": {
  "kernelspec": {
   "display_name": "Python 3 (ipykernel)",
   "language": "python",
   "name": "python3"
  },
  "language_info": {
   "codemirror_mode": {
    "name": "ipython",
    "version": 3
   },
   "file_extension": ".py",
   "mimetype": "text/x-python",
   "name": "python",
   "nbconvert_exporter": "python",
   "pygments_lexer": "ipython3",
   "version": "3.9.7"
  }
 },
 "nbformat": 4,
 "nbformat_minor": 5
}
