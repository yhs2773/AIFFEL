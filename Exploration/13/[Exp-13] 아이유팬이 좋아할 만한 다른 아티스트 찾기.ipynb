{
 "cells": [
  {
   "cell_type": "markdown",
   "id": "bac86c26",
   "metadata": {},
   "source": [
    "# Preprocessing"
   ]
  },
  {
   "cell_type": "code",
   "execution_count": 1,
   "id": "aac96891",
   "metadata": {},
   "outputs": [],
   "source": [
    "# load libraries\n",
    "import numpy as np\n",
    "import scipy\n",
    "import implicit\n",
    "import os\n",
    "import pandas as pd\n",
    "\n",
    "from scipy.sparse import csr_matrix\n",
    "from implicit.als import AlternatingLeastSquares\n",
    "\n",
    "# recommended steps from implicit API for implicit library\n",
    "os.environ['OPENBLAS_NUM_THREADS']='1'\n",
    "os.environ['KMP_DUPLICATE_LIB_OK']='True'\n",
    "os.environ['MKL_NUM_THREADS']='1'"
   ]
  },
  {
   "cell_type": "code",
   "execution_count": 2,
   "id": "e257af92",
   "metadata": {},
   "outputs": [
    {
     "data": {
      "text/html": [
       "<div>\n",
       "<style scoped>\n",
       "    .dataframe tbody tr th:only-of-type {\n",
       "        vertical-align: middle;\n",
       "    }\n",
       "\n",
       "    .dataframe tbody tr th {\n",
       "        vertical-align: top;\n",
       "    }\n",
       "\n",
       "    .dataframe thead th {\n",
       "        text-align: right;\n",
       "    }\n",
       "</style>\n",
       "<table border=\"1\" class=\"dataframe\">\n",
       "  <thead>\n",
       "    <tr style=\"text-align: right;\">\n",
       "      <th></th>\n",
       "      <th>user_id</th>\n",
       "      <th>movie_id</th>\n",
       "      <th>ratings</th>\n",
       "      <th>timestamp</th>\n",
       "    </tr>\n",
       "  </thead>\n",
       "  <tbody>\n",
       "    <tr>\n",
       "      <th>0</th>\n",
       "      <td>1</td>\n",
       "      <td>1193</td>\n",
       "      <td>5</td>\n",
       "      <td>978300760</td>\n",
       "    </tr>\n",
       "    <tr>\n",
       "      <th>1</th>\n",
       "      <td>1</td>\n",
       "      <td>661</td>\n",
       "      <td>3</td>\n",
       "      <td>978302109</td>\n",
       "    </tr>\n",
       "    <tr>\n",
       "      <th>2</th>\n",
       "      <td>1</td>\n",
       "      <td>914</td>\n",
       "      <td>3</td>\n",
       "      <td>978301968</td>\n",
       "    </tr>\n",
       "    <tr>\n",
       "      <th>3</th>\n",
       "      <td>1</td>\n",
       "      <td>3408</td>\n",
       "      <td>4</td>\n",
       "      <td>978300275</td>\n",
       "    </tr>\n",
       "    <tr>\n",
       "      <th>4</th>\n",
       "      <td>1</td>\n",
       "      <td>2355</td>\n",
       "      <td>5</td>\n",
       "      <td>978824291</td>\n",
       "    </tr>\n",
       "    <tr>\n",
       "      <th>...</th>\n",
       "      <td>...</td>\n",
       "      <td>...</td>\n",
       "      <td>...</td>\n",
       "      <td>...</td>\n",
       "    </tr>\n",
       "    <tr>\n",
       "      <th>1000204</th>\n",
       "      <td>6040</td>\n",
       "      <td>1091</td>\n",
       "      <td>1</td>\n",
       "      <td>956716541</td>\n",
       "    </tr>\n",
       "    <tr>\n",
       "      <th>1000205</th>\n",
       "      <td>6040</td>\n",
       "      <td>1094</td>\n",
       "      <td>5</td>\n",
       "      <td>956704887</td>\n",
       "    </tr>\n",
       "    <tr>\n",
       "      <th>1000206</th>\n",
       "      <td>6040</td>\n",
       "      <td>562</td>\n",
       "      <td>5</td>\n",
       "      <td>956704746</td>\n",
       "    </tr>\n",
       "    <tr>\n",
       "      <th>1000207</th>\n",
       "      <td>6040</td>\n",
       "      <td>1096</td>\n",
       "      <td>4</td>\n",
       "      <td>956715648</td>\n",
       "    </tr>\n",
       "    <tr>\n",
       "      <th>1000208</th>\n",
       "      <td>6040</td>\n",
       "      <td>1097</td>\n",
       "      <td>4</td>\n",
       "      <td>956715569</td>\n",
       "    </tr>\n",
       "  </tbody>\n",
       "</table>\n",
       "<p>1000209 rows × 4 columns</p>\n",
       "</div>"
      ],
      "text/plain": [
       "         user_id  movie_id  ratings  timestamp\n",
       "0              1      1193        5  978300760\n",
       "1              1       661        3  978302109\n",
       "2              1       914        3  978301968\n",
       "3              1      3408        4  978300275\n",
       "4              1      2355        5  978824291\n",
       "...          ...       ...      ...        ...\n",
       "1000204     6040      1091        1  956716541\n",
       "1000205     6040      1094        5  956704887\n",
       "1000206     6040       562        5  956704746\n",
       "1000207     6040      1096        4  956715648\n",
       "1000208     6040      1097        4  956715569\n",
       "\n",
       "[1000209 rows x 4 columns]"
      ]
     },
     "execution_count": 2,
     "metadata": {},
     "output_type": "execute_result"
    }
   ],
   "source": [
    "# load rating data\n",
    "rating_file_path = os.getenv('HOME') + '/aiffel/recommendata_iu/data/ml-1m/ratings.dat'\n",
    "ratings_cols = ['user_id', 'movie_id', 'ratings', 'timestamp']\n",
    "ratings = pd.read_csv(rating_file_path, sep='::', names=ratings_cols, engine='python', encoding = \"ISO-8859-1\")\n",
    "orginal_data_size = len(ratings)\n",
    "ratings"
   ]
  },
  {
   "cell_type": "code",
   "execution_count": 3,
   "id": "5bcd1edc",
   "metadata": {},
   "outputs": [
    {
     "data": {
      "text/html": [
       "<div>\n",
       "<style scoped>\n",
       "    .dataframe tbody tr th:only-of-type {\n",
       "        vertical-align: middle;\n",
       "    }\n",
       "\n",
       "    .dataframe tbody tr th {\n",
       "        vertical-align: top;\n",
       "    }\n",
       "\n",
       "    .dataframe thead th {\n",
       "        text-align: right;\n",
       "    }\n",
       "</style>\n",
       "<table border=\"1\" class=\"dataframe\">\n",
       "  <thead>\n",
       "    <tr style=\"text-align: right;\">\n",
       "      <th></th>\n",
       "      <th>movie_id</th>\n",
       "      <th>title</th>\n",
       "      <th>genre</th>\n",
       "    </tr>\n",
       "  </thead>\n",
       "  <tbody>\n",
       "    <tr>\n",
       "      <th>0</th>\n",
       "      <td>1</td>\n",
       "      <td>Toy Story (1995)</td>\n",
       "      <td>Animation|Children's|Comedy</td>\n",
       "    </tr>\n",
       "    <tr>\n",
       "      <th>1</th>\n",
       "      <td>2</td>\n",
       "      <td>Jumanji (1995)</td>\n",
       "      <td>Adventure|Children's|Fantasy</td>\n",
       "    </tr>\n",
       "    <tr>\n",
       "      <th>2</th>\n",
       "      <td>3</td>\n",
       "      <td>Grumpier Old Men (1995)</td>\n",
       "      <td>Comedy|Romance</td>\n",
       "    </tr>\n",
       "    <tr>\n",
       "      <th>3</th>\n",
       "      <td>4</td>\n",
       "      <td>Waiting to Exhale (1995)</td>\n",
       "      <td>Comedy|Drama</td>\n",
       "    </tr>\n",
       "    <tr>\n",
       "      <th>4</th>\n",
       "      <td>5</td>\n",
       "      <td>Father of the Bride Part II (1995)</td>\n",
       "      <td>Comedy</td>\n",
       "    </tr>\n",
       "    <tr>\n",
       "      <th>...</th>\n",
       "      <td>...</td>\n",
       "      <td>...</td>\n",
       "      <td>...</td>\n",
       "    </tr>\n",
       "    <tr>\n",
       "      <th>3878</th>\n",
       "      <td>3948</td>\n",
       "      <td>Meet the Parents (2000)</td>\n",
       "      <td>Comedy</td>\n",
       "    </tr>\n",
       "    <tr>\n",
       "      <th>3879</th>\n",
       "      <td>3949</td>\n",
       "      <td>Requiem for a Dream (2000)</td>\n",
       "      <td>Drama</td>\n",
       "    </tr>\n",
       "    <tr>\n",
       "      <th>3880</th>\n",
       "      <td>3950</td>\n",
       "      <td>Tigerland (2000)</td>\n",
       "      <td>Drama</td>\n",
       "    </tr>\n",
       "    <tr>\n",
       "      <th>3881</th>\n",
       "      <td>3951</td>\n",
       "      <td>Two Family House (2000)</td>\n",
       "      <td>Drama</td>\n",
       "    </tr>\n",
       "    <tr>\n",
       "      <th>3882</th>\n",
       "      <td>3952</td>\n",
       "      <td>Contender, The (2000)</td>\n",
       "      <td>Drama|Thriller</td>\n",
       "    </tr>\n",
       "  </tbody>\n",
       "</table>\n",
       "<p>3883 rows × 3 columns</p>\n",
       "</div>"
      ],
      "text/plain": [
       "      movie_id                               title  \\\n",
       "0            1                    Toy Story (1995)   \n",
       "1            2                      Jumanji (1995)   \n",
       "2            3             Grumpier Old Men (1995)   \n",
       "3            4            Waiting to Exhale (1995)   \n",
       "4            5  Father of the Bride Part II (1995)   \n",
       "...        ...                                 ...   \n",
       "3878      3948             Meet the Parents (2000)   \n",
       "3879      3949          Requiem for a Dream (2000)   \n",
       "3880      3950                    Tigerland (2000)   \n",
       "3881      3951             Two Family House (2000)   \n",
       "3882      3952               Contender, The (2000)   \n",
       "\n",
       "                             genre  \n",
       "0      Animation|Children's|Comedy  \n",
       "1     Adventure|Children's|Fantasy  \n",
       "2                   Comedy|Romance  \n",
       "3                     Comedy|Drama  \n",
       "4                           Comedy  \n",
       "...                            ...  \n",
       "3878                        Comedy  \n",
       "3879                         Drama  \n",
       "3880                         Drama  \n",
       "3881                         Drama  \n",
       "3882                Drama|Thriller  \n",
       "\n",
       "[3883 rows x 3 columns]"
      ]
     },
     "execution_count": 3,
     "metadata": {},
     "output_type": "execute_result"
    }
   ],
   "source": [
    "# load movie data\n",
    "movie_file_path=os.getenv('HOME') + '/aiffel/recommendata_iu/data/ml-1m/movies.dat'\n",
    "cols = ['movie_id', 'title', 'genre'] \n",
    "movies = pd.read_csv(movie_file_path, sep='::', names=cols, engine='python', encoding='ISO-8859-1')\n",
    "movies"
   ]
  },
  {
   "cell_type": "code",
   "execution_count": 4,
   "id": "38c068bb",
   "metadata": {},
   "outputs": [
    {
     "name": "stdout",
     "output_type": "stream",
     "text": [
      "orginal_data_size: 1000209, filtered_data_size: 836478\n",
      "Ratio of Remaining Data is 83.63%\n"
     ]
    }
   ],
   "source": [
    "# filter df to include rating of 3 or above\n",
    "ratings = ratings[ratings['ratings']>=3]\n",
    "filtered_data_size = len(ratings)\n",
    "\n",
    "print(f'orginal_data_size: {orginal_data_size}, filtered_data_size: {filtered_data_size}')\n",
    "print(f'Ratio of Remaining Data is {filtered_data_size / orginal_data_size:.2%}')"
   ]
  },
  {
   "cell_type": "code",
   "execution_count": 5,
   "id": "86fba36b",
   "metadata": {},
   "outputs": [
    {
     "name": "stderr",
     "output_type": "stream",
     "text": [
      "/opt/conda/lib/python3.9/site-packages/pandas/core/frame.py:5039: SettingWithCopyWarning: \n",
      "A value is trying to be set on a copy of a slice from a DataFrame\n",
      "\n",
      "See the caveats in the documentation: https://pandas.pydata.org/pandas-docs/stable/user_guide/indexing.html#returning-a-view-versus-a-copy\n",
      "  return super().rename(\n"
     ]
    }
   ],
   "source": [
    "# change column name 'raitings' to 'counts'\n",
    "ratings.rename(columns={'ratings':'counts'}, inplace=True)"
   ]
  },
  {
   "cell_type": "code",
   "execution_count": 6,
   "id": "30ee401b",
   "metadata": {},
   "outputs": [
    {
     "data": {
      "text/plain": [
       "0          5\n",
       "1          3\n",
       "2          3\n",
       "3          4\n",
       "4          5\n",
       "          ..\n",
       "1000203    3\n",
       "1000205    5\n",
       "1000206    5\n",
       "1000207    4\n",
       "1000208    4\n",
       "Name: counts, Length: 836478, dtype: int64"
      ]
     },
     "execution_count": 6,
     "metadata": {},
     "output_type": "execute_result"
    }
   ],
   "source": [
    "ratings['counts']"
   ]
  },
  {
   "cell_type": "code",
   "execution_count": 7,
   "id": "4be318f9",
   "metadata": {},
   "outputs": [
    {
     "data": {
      "text/html": [
       "<div>\n",
       "<style scoped>\n",
       "    .dataframe tbody tr th:only-of-type {\n",
       "        vertical-align: middle;\n",
       "    }\n",
       "\n",
       "    .dataframe tbody tr th {\n",
       "        vertical-align: top;\n",
       "    }\n",
       "\n",
       "    .dataframe thead th {\n",
       "        text-align: right;\n",
       "    }\n",
       "</style>\n",
       "<table border=\"1\" class=\"dataframe\">\n",
       "  <thead>\n",
       "    <tr style=\"text-align: right;\">\n",
       "      <th></th>\n",
       "      <th>user_id</th>\n",
       "      <th>movie_id</th>\n",
       "      <th>counts</th>\n",
       "      <th>timestamp</th>\n",
       "      <th>title</th>\n",
       "      <th>genre</th>\n",
       "    </tr>\n",
       "  </thead>\n",
       "  <tbody>\n",
       "    <tr>\n",
       "      <th>0</th>\n",
       "      <td>1</td>\n",
       "      <td>1193</td>\n",
       "      <td>5</td>\n",
       "      <td>978300760</td>\n",
       "      <td>One Flew Over the Cuckoo's Nest (1975)</td>\n",
       "      <td>Drama</td>\n",
       "    </tr>\n",
       "    <tr>\n",
       "      <th>1</th>\n",
       "      <td>1</td>\n",
       "      <td>661</td>\n",
       "      <td>3</td>\n",
       "      <td>978302109</td>\n",
       "      <td>James and the Giant Peach (1996)</td>\n",
       "      <td>Animation|Children's|Musical</td>\n",
       "    </tr>\n",
       "    <tr>\n",
       "      <th>2</th>\n",
       "      <td>1</td>\n",
       "      <td>914</td>\n",
       "      <td>3</td>\n",
       "      <td>978301968</td>\n",
       "      <td>My Fair Lady (1964)</td>\n",
       "      <td>Musical|Romance</td>\n",
       "    </tr>\n",
       "    <tr>\n",
       "      <th>3</th>\n",
       "      <td>1</td>\n",
       "      <td>3408</td>\n",
       "      <td>4</td>\n",
       "      <td>978300275</td>\n",
       "      <td>Erin Brockovich (2000)</td>\n",
       "      <td>Drama</td>\n",
       "    </tr>\n",
       "    <tr>\n",
       "      <th>4</th>\n",
       "      <td>1</td>\n",
       "      <td>2355</td>\n",
       "      <td>5</td>\n",
       "      <td>978824291</td>\n",
       "      <td>Bug's Life, A (1998)</td>\n",
       "      <td>Animation|Children's|Comedy</td>\n",
       "    </tr>\n",
       "    <tr>\n",
       "      <th>...</th>\n",
       "      <td>...</td>\n",
       "      <td>...</td>\n",
       "      <td>...</td>\n",
       "      <td>...</td>\n",
       "      <td>...</td>\n",
       "      <td>...</td>\n",
       "    </tr>\n",
       "    <tr>\n",
       "      <th>836473</th>\n",
       "      <td>6040</td>\n",
       "      <td>1090</td>\n",
       "      <td>3</td>\n",
       "      <td>956715518</td>\n",
       "      <td>Platoon (1986)</td>\n",
       "      <td>Drama|War</td>\n",
       "    </tr>\n",
       "    <tr>\n",
       "      <th>836474</th>\n",
       "      <td>6040</td>\n",
       "      <td>1094</td>\n",
       "      <td>5</td>\n",
       "      <td>956704887</td>\n",
       "      <td>Crying Game, The (1992)</td>\n",
       "      <td>Drama|Romance|War</td>\n",
       "    </tr>\n",
       "    <tr>\n",
       "      <th>836475</th>\n",
       "      <td>6040</td>\n",
       "      <td>562</td>\n",
       "      <td>5</td>\n",
       "      <td>956704746</td>\n",
       "      <td>Welcome to the Dollhouse (1995)</td>\n",
       "      <td>Comedy|Drama</td>\n",
       "    </tr>\n",
       "    <tr>\n",
       "      <th>836476</th>\n",
       "      <td>6040</td>\n",
       "      <td>1096</td>\n",
       "      <td>4</td>\n",
       "      <td>956715648</td>\n",
       "      <td>Sophie's Choice (1982)</td>\n",
       "      <td>Drama</td>\n",
       "    </tr>\n",
       "    <tr>\n",
       "      <th>836477</th>\n",
       "      <td>6040</td>\n",
       "      <td>1097</td>\n",
       "      <td>4</td>\n",
       "      <td>956715569</td>\n",
       "      <td>E.T. the Extra-Terrestrial (1982)</td>\n",
       "      <td>Children's|Drama|Fantasy|Sci-Fi</td>\n",
       "    </tr>\n",
       "  </tbody>\n",
       "</table>\n",
       "<p>836478 rows × 6 columns</p>\n",
       "</div>"
      ],
      "text/plain": [
       "        user_id  movie_id  counts  timestamp  \\\n",
       "0             1      1193       5  978300760   \n",
       "1             1       661       3  978302109   \n",
       "2             1       914       3  978301968   \n",
       "3             1      3408       4  978300275   \n",
       "4             1      2355       5  978824291   \n",
       "...         ...       ...     ...        ...   \n",
       "836473     6040      1090       3  956715518   \n",
       "836474     6040      1094       5  956704887   \n",
       "836475     6040       562       5  956704746   \n",
       "836476     6040      1096       4  956715648   \n",
       "836477     6040      1097       4  956715569   \n",
       "\n",
       "                                         title  \\\n",
       "0       One Flew Over the Cuckoo's Nest (1975)   \n",
       "1             James and the Giant Peach (1996)   \n",
       "2                          My Fair Lady (1964)   \n",
       "3                       Erin Brockovich (2000)   \n",
       "4                         Bug's Life, A (1998)   \n",
       "...                                        ...   \n",
       "836473                          Platoon (1986)   \n",
       "836474                 Crying Game, The (1992)   \n",
       "836475         Welcome to the Dollhouse (1995)   \n",
       "836476                  Sophie's Choice (1982)   \n",
       "836477       E.T. the Extra-Terrestrial (1982)   \n",
       "\n",
       "                                  genre  \n",
       "0                                 Drama  \n",
       "1          Animation|Children's|Musical  \n",
       "2                       Musical|Romance  \n",
       "3                                 Drama  \n",
       "4           Animation|Children's|Comedy  \n",
       "...                                 ...  \n",
       "836473                        Drama|War  \n",
       "836474                Drama|Romance|War  \n",
       "836475                     Comedy|Drama  \n",
       "836476                            Drama  \n",
       "836477  Children's|Drama|Fantasy|Sci-Fi  \n",
       "\n",
       "[836478 rows x 6 columns]"
      ]
     },
     "execution_count": 7,
     "metadata": {},
     "output_type": "execute_result"
    }
   ],
   "source": [
    "# merge ratings and movies df\n",
    "ratings = pd.merge(left=ratings, right=movies, how='left')\n",
    "ratings"
   ]
  },
  {
   "cell_type": "markdown",
   "id": "89308198",
   "metadata": {},
   "source": [
    "# Analyzing data"
   ]
  },
  {
   "cell_type": "code",
   "execution_count": 8,
   "id": "7c664410",
   "metadata": {},
   "outputs": [
    {
     "data": {
      "text/plain": [
       "3628"
      ]
     },
     "execution_count": 8,
     "metadata": {},
     "output_type": "execute_result"
    }
   ],
   "source": [
    "# num of unique movie\n",
    "ratings['movie_id'].nunique()"
   ]
  },
  {
   "cell_type": "code",
   "execution_count": 9,
   "id": "dcea6e4d",
   "metadata": {},
   "outputs": [
    {
     "data": {
      "text/plain": [
       "6039"
      ]
     },
     "execution_count": 9,
     "metadata": {},
     "output_type": "execute_result"
    }
   ],
   "source": [
    "# num of unique user id\n",
    "ratings['user_id'].nunique()"
   ]
  },
  {
   "cell_type": "code",
   "execution_count": 10,
   "id": "2b555515",
   "metadata": {},
   "outputs": [
    {
     "data": {
      "text/plain": [
       "movie_id  title                                                \n",
       "2858      American Beauty (1999)                                   3211\n",
       "260       Star Wars: Episode IV - A New Hope (1977)                2910\n",
       "1196      Star Wars: Episode V - The Empire Strikes Back (1980)    2885\n",
       "1210      Star Wars: Episode VI - Return of the Jedi (1983)        2716\n",
       "2028      Saving Private Ryan (1998)                               2561\n",
       "589       Terminator 2: Judgment Day (1991)                        2509\n",
       "593       Silence of the Lambs, The (1991)                         2498\n",
       "1198      Raiders of the Lost Ark (1981)                           2473\n",
       "1270      Back to the Future (1985)                                2460\n",
       "2571      Matrix, The (1999)                                       2434\n",
       "480       Jurassic Park (1993)                                     2413\n",
       "2762      Sixth Sense, The (1999)                                  2385\n",
       "608       Fargo (1996)                                             2371\n",
       "110       Braveheart (1995)                                        2314\n",
       "1580      Men in Black (1997)                                      2297\n",
       "527       Schindler's List (1993)                                  2257\n",
       "1197      Princess Bride, The (1987)                               2252\n",
       "2396      Shakespeare in Love (1998)                               2213\n",
       "1617      L.A. Confidential (1997)                                 2210\n",
       "318       Shawshank Redemption, The (1994)                         2194\n",
       "858       Godfather, The (1972)                                    2167\n",
       "1265      Groundhog Day (1993)                                     2121\n",
       "1097      E.T. the Extra-Terrestrial (1982)                        2102\n",
       "2997      Being John Malkovich (1999)                              2066\n",
       "2716      Ghostbusters (1984)                                      2051\n",
       "296       Pulp Fiction (1994)                                      2030\n",
       "356       Forrest Gump (1994)                                      2022\n",
       "1240      Terminator, The (1984)                                   2019\n",
       "1         Toy Story (1995)                                         2000\n",
       "457       Fugitive, The (1993)                                     1941\n",
       "Name: user_id, dtype: int64"
      ]
     },
     "execution_count": 10,
     "metadata": {},
     "output_type": "execute_result"
    }
   ],
   "source": [
    "# view 30 most popular movies\n",
    "movie_count = ratings.groupby(['movie_id', 'title']).count()['user_id'].sort_values(ascending=False).head(30)\n",
    "movie_count"
   ]
  },
  {
   "cell_type": "code",
   "execution_count": 11,
   "id": "94cc52f8",
   "metadata": {},
   "outputs": [
    {
     "data": {
      "text/plain": [
       "count    6039.000000\n",
       "mean      138.512668\n",
       "std       156.241599\n",
       "min         1.000000\n",
       "25%        38.000000\n",
       "50%        81.000000\n",
       "75%       177.000000\n",
       "max      1968.000000\n",
       "Name: movie_id, dtype: float64"
      ]
     },
     "execution_count": 11,
     "metadata": {},
     "output_type": "execute_result"
    }
   ],
   "source": [
    "# stats of movie count by user\n",
    "user_count = ratings.groupby('user_id')['movie_id'].count()\n",
    "user_count.describe()"
   ]
  },
  {
   "cell_type": "code",
   "execution_count": 12,
   "id": "a8487a06",
   "metadata": {},
   "outputs": [
    {
     "data": {
      "text/plain": [
       "count    6039.000000\n",
       "mean        4.055970\n",
       "std         0.432143\n",
       "min         3.000000\n",
       "25%         4.000000\n",
       "50%         4.000000\n",
       "75%         4.000000\n",
       "max         5.000000\n",
       "Name: counts, dtype: float64"
      ]
     },
     "execution_count": 12,
     "metadata": {},
     "output_type": "execute_result"
    }
   ],
   "source": [
    "# stats of ratings by user\n",
    "user_median = ratings.groupby('user_id')['counts'].median()\n",
    "user_median.describe()"
   ]
  },
  {
   "cell_type": "code",
   "execution_count": 13,
   "id": "adca79f8",
   "metadata": {},
   "outputs": [
    {
     "data": {
      "text/html": [
       "<div>\n",
       "<style scoped>\n",
       "    .dataframe tbody tr th:only-of-type {\n",
       "        vertical-align: middle;\n",
       "    }\n",
       "\n",
       "    .dataframe tbody tr th {\n",
       "        vertical-align: top;\n",
       "    }\n",
       "\n",
       "    .dataframe thead th {\n",
       "        text-align: right;\n",
       "    }\n",
       "</style>\n",
       "<table border=\"1\" class=\"dataframe\">\n",
       "  <thead>\n",
       "    <tr style=\"text-align: right;\">\n",
       "      <th></th>\n",
       "      <th>user_id</th>\n",
       "      <th>movie_id</th>\n",
       "      <th>counts</th>\n",
       "      <th>timestamp</th>\n",
       "      <th>title</th>\n",
       "      <th>genre</th>\n",
       "    </tr>\n",
       "  </thead>\n",
       "  <tbody>\n",
       "    <tr>\n",
       "      <th>836473</th>\n",
       "      <td>6040</td>\n",
       "      <td>1090.0</td>\n",
       "      <td>3</td>\n",
       "      <td>956715518.0</td>\n",
       "      <td>Platoon (1986)</td>\n",
       "      <td>Drama|War</td>\n",
       "    </tr>\n",
       "    <tr>\n",
       "      <th>836474</th>\n",
       "      <td>6040</td>\n",
       "      <td>1094.0</td>\n",
       "      <td>5</td>\n",
       "      <td>956704887.0</td>\n",
       "      <td>Crying Game, The (1992)</td>\n",
       "      <td>Drama|Romance|War</td>\n",
       "    </tr>\n",
       "    <tr>\n",
       "      <th>836475</th>\n",
       "      <td>6040</td>\n",
       "      <td>562.0</td>\n",
       "      <td>5</td>\n",
       "      <td>956704746.0</td>\n",
       "      <td>Welcome to the Dollhouse (1995)</td>\n",
       "      <td>Comedy|Drama</td>\n",
       "    </tr>\n",
       "    <tr>\n",
       "      <th>836476</th>\n",
       "      <td>6040</td>\n",
       "      <td>1096.0</td>\n",
       "      <td>4</td>\n",
       "      <td>956715648.0</td>\n",
       "      <td>Sophie's Choice (1982)</td>\n",
       "      <td>Drama</td>\n",
       "    </tr>\n",
       "    <tr>\n",
       "      <th>836477</th>\n",
       "      <td>6040</td>\n",
       "      <td>1097.0</td>\n",
       "      <td>4</td>\n",
       "      <td>956715569.0</td>\n",
       "      <td>E.T. the Extra-Terrestrial (1982)</td>\n",
       "      <td>Children's|Drama|Fantasy|Sci-Fi</td>\n",
       "    </tr>\n",
       "    <tr>\n",
       "      <th>0</th>\n",
       "      <td>hs</td>\n",
       "      <td>NaN</td>\n",
       "      <td>4</td>\n",
       "      <td>NaN</td>\n",
       "      <td>Doctor Strange (2016)</td>\n",
       "      <td>NaN</td>\n",
       "    </tr>\n",
       "    <tr>\n",
       "      <th>1</th>\n",
       "      <td>hs</td>\n",
       "      <td>NaN</td>\n",
       "      <td>4</td>\n",
       "      <td>NaN</td>\n",
       "      <td>The Dark Knight (2008)</td>\n",
       "      <td>NaN</td>\n",
       "    </tr>\n",
       "    <tr>\n",
       "      <th>2</th>\n",
       "      <td>hs</td>\n",
       "      <td>NaN</td>\n",
       "      <td>4</td>\n",
       "      <td>NaN</td>\n",
       "      <td>Iron Man (2008)</td>\n",
       "      <td>NaN</td>\n",
       "    </tr>\n",
       "    <tr>\n",
       "      <th>3</th>\n",
       "      <td>hs</td>\n",
       "      <td>NaN</td>\n",
       "      <td>3</td>\n",
       "      <td>NaN</td>\n",
       "      <td>The Lord of the Rings: The Return of the King ...</td>\n",
       "      <td>NaN</td>\n",
       "    </tr>\n",
       "    <tr>\n",
       "      <th>4</th>\n",
       "      <td>hs</td>\n",
       "      <td>NaN</td>\n",
       "      <td>4</td>\n",
       "      <td>NaN</td>\n",
       "      <td>Schindler's List (1993)</td>\n",
       "      <td>NaN</td>\n",
       "    </tr>\n",
       "  </tbody>\n",
       "</table>\n",
       "</div>"
      ],
      "text/plain": [
       "       user_id  movie_id  counts    timestamp  \\\n",
       "836473    6040    1090.0       3  956715518.0   \n",
       "836474    6040    1094.0       5  956704887.0   \n",
       "836475    6040     562.0       5  956704746.0   \n",
       "836476    6040    1096.0       4  956715648.0   \n",
       "836477    6040    1097.0       4  956715569.0   \n",
       "0           hs       NaN       4          NaN   \n",
       "1           hs       NaN       4          NaN   \n",
       "2           hs       NaN       4          NaN   \n",
       "3           hs       NaN       3          NaN   \n",
       "4           hs       NaN       4          NaN   \n",
       "\n",
       "                                                    title  \\\n",
       "836473                                     Platoon (1986)   \n",
       "836474                            Crying Game, The (1992)   \n",
       "836475                    Welcome to the Dollhouse (1995)   \n",
       "836476                             Sophie's Choice (1982)   \n",
       "836477                  E.T. the Extra-Terrestrial (1982)   \n",
       "0                                   Doctor Strange (2016)   \n",
       "1                                  The Dark Knight (2008)   \n",
       "2                                         Iron Man (2008)   \n",
       "3       The Lord of the Rings: The Return of the King ...   \n",
       "4                                 Schindler's List (1993)   \n",
       "\n",
       "                                  genre  \n",
       "836473                        Drama|War  \n",
       "836474                Drama|Romance|War  \n",
       "836475                     Comedy|Drama  \n",
       "836476                            Drama  \n",
       "836477  Children's|Drama|Fantasy|Sci-Fi  \n",
       "0                                   NaN  \n",
       "1                                   NaN  \n",
       "2                                   NaN  \n",
       "3                                   NaN  \n",
       "4                                   NaN  "
      ]
     },
     "execution_count": 13,
     "metadata": {},
     "output_type": "execute_result"
    }
   ],
   "source": [
    "# add my movies manually\n",
    "my_movies = ['Doctor Strange (2016)', 'The Dark Knight (2008)', 'Iron Man (2008)',\n",
    "             'The Lord of the Rings: The Return of the King (2003)', \"Schindler's List (1993)\"]\n",
    "\n",
    "# add my movie ratings manually\n",
    "my_list = pd.DataFrame({'user_id': ['hs']*5, 'title': my_movies, 'counts':[4, 4, 4, 3, 4]})\n",
    "\n",
    "if not ratings.isin({'user_id':['hs']})['user_id'].any():       # user_id doesn't have 'hs'\n",
    "    ratings = ratings.append(my_list)                           # append my_movies data\n",
    "\n",
    "ratings.tail(10)"
   ]
  },
  {
   "cell_type": "code",
   "execution_count": 14,
   "id": "0e6d8c93",
   "metadata": {},
   "outputs": [],
   "source": [
    "# unique nums of user and movies\n",
    "user_unique = ratings['user_id'].unique()\n",
    "movie_unique = ratings['title'].unique()"
   ]
  },
  {
   "cell_type": "code",
   "execution_count": 15,
   "id": "deac46cc",
   "metadata": {},
   "outputs": [],
   "source": [
    "# user, movie indexing code; idx is abbreviation for index\n",
    "user_to_idx = {v:k for k,v in enumerate(user_unique)}\n",
    "movie_to_idx = {v:k for k,v in enumerate(movie_unique)}"
   ]
  },
  {
   "cell_type": "code",
   "execution_count": 16,
   "id": "bf84226d",
   "metadata": {},
   "outputs": [
    {
     "name": "stdout",
     "output_type": "stream",
     "text": [
      "6039\n",
      "3630\n"
     ]
    }
   ],
   "source": [
    "# cross-check idx \n",
    "print(user_to_idx['hs'])\n",
    "print(movie_to_idx['Iron Man (2008)'])"
   ]
  },
  {
   "cell_type": "code",
   "execution_count": 17,
   "id": "2e0130d9",
   "metadata": {},
   "outputs": [
    {
     "name": "stdout",
     "output_type": "stream",
     "text": [
      "user_id column indexing OK!!\n",
      "movie_id column indexing OK!!\n"
     ]
    }
   ],
   "source": [
    "# indexing을 통해 데이터 컬럼 내 값을 바꾸는 코드\n",
    "# dictionary 자료형의 get 함수는 https://wikidocs.net/16 을 참고하세요.\n",
    "\n",
    "# user_to_idx.get을 통해 user_id 컬럼의 모든 값을 인덱싱한 Series를 구해 봅시다. \n",
    "# 혹시 정상적으로 인덱싱되지 않은 row가 있다면 인덱스가 NaN이 될 테니 dropna()로 제거합니다. \n",
    "temp_user_data = ratings['user_id'].map(user_to_idx.get).dropna()\n",
    "if len(temp_user_data) == len(ratings):   # 모든 row가 정상적으로 인덱싱되었다면\n",
    "    print('user_id column indexing OK!!')\n",
    "    ratings['user_id'] = temp_user_data   # data['user_id']을 인덱싱된 Series로 교체해 줍니다. \n",
    "else:\n",
    "    print('user_id column indexing Fail!!')\n",
    "\n",
    "# artist_to_idx을 통해 artist 컬럼도 동일한 방식으로 인덱싱해 줍니다. \n",
    "temp_movie_data = ratings['title'].map(movie_to_idx.get).dropna()\n",
    "if len(temp_movie_data) == len(ratings):\n",
    "    print('movie_id column indexing OK!!')\n",
    "    ratings['title'] = temp_movie_data\n",
    "else:\n",
    "    print('movie_id column indexing Fail!!')"
   ]
  },
  {
   "cell_type": "code",
   "execution_count": 18,
   "id": "71efdfb2",
   "metadata": {},
   "outputs": [
    {
     "data": {
      "text/plain": [
       "<6040x3632 sparse matrix of type '<class 'numpy.int64'>'\n",
       "\twith 836483 stored elements in Compressed Sparse Row format>"
      ]
     },
     "execution_count": 18,
     "metadata": {},
     "output_type": "execute_result"
    }
   ],
   "source": [
    "# create CSR matrix\n",
    "num_user = ratings['user_id'].nunique()\n",
    "num_movie = ratings['title'].nunique()\n",
    "\n",
    "csr_data = csr_matrix((ratings.counts, (ratings.user_id, ratings.title)), shape= (num_user, num_movie))\n",
    "csr_data"
   ]
  },
  {
   "cell_type": "code",
   "execution_count": 19,
   "id": "8e1f18e6",
   "metadata": {},
   "outputs": [],
   "source": [
    "# declare Implicit AlternatingLeastSquares\n",
    "als_model = AlternatingLeastSquares(factors=1000, regularization=0.01, use_gpu=False, iterations=30, dtype=np.float32)"
   ]
  },
  {
   "cell_type": "code",
   "execution_count": 20,
   "id": "521de68f",
   "metadata": {},
   "outputs": [
    {
     "data": {
      "text/plain": [
       "<3632x6040 sparse matrix of type '<class 'numpy.int64'>'\n",
       "\twith 836483 stored elements in Compressed Sparse Column format>"
      ]
     },
     "execution_count": 20,
     "metadata": {},
     "output_type": "execute_result"
    }
   ],
   "source": [
    "# als 모델은 input으로 (item X user 꼴의 matrix를 받기 때문에 Transpose해줍니다.)\n",
    "csr_data_transpose = csr_data.T\n",
    "csr_data_transpose"
   ]
  },
  {
   "cell_type": "code",
   "execution_count": 21,
   "id": "4a617014",
   "metadata": {},
   "outputs": [
    {
     "data": {
      "application/vnd.jupyter.widget-view+json": {
       "model_id": "c6d24e30b7534665a8ad6a28484d00a4",
       "version_major": 2,
       "version_minor": 0
      },
      "text/plain": [
       "  0%|          | 0/30 [00:00<?, ?it/s]"
      ]
     },
     "metadata": {},
     "output_type": "display_data"
    }
   ],
   "source": [
    "# 모델 훈련\n",
    "als_model.fit(csr_data_transpose)"
   ]
  },
  {
   "cell_type": "code",
   "execution_count": 22,
   "id": "ccd93061",
   "metadata": {},
   "outputs": [],
   "source": [
    "hs, doctor_strange = user_to_idx['hs'], movie_to_idx['Doctor Strange (2016)']\n",
    "hs_vector, doctor_strange_vector = als_model.user_factors[hs], als_model.item_factors[doctor_strange]"
   ]
  },
  {
   "cell_type": "code",
   "execution_count": 23,
   "id": "70213500",
   "metadata": {},
   "outputs": [
    {
     "data": {
      "text/plain": [
       "array([ 1.41779453e-01,  1.18649369e-02,  5.07242456e-02, -1.52026922e-01,\n",
       "       -1.49777621e-01, -1.03295326e-01,  4.70314035e-03,  2.17673387e-02,\n",
       "        9.46322381e-02, -1.45774886e-01, -1.72707792e-02,  9.68178064e-02,\n",
       "       -9.40428674e-02, -7.54192099e-02,  1.25120476e-01,  6.58759624e-02,\n",
       "        5.95640875e-02, -2.71612983e-02, -3.73011120e-02,  9.72664952e-02,\n",
       "        3.09791137e-02, -1.36448860e-01, -1.43715832e-02, -1.12358816e-01,\n",
       "        2.75077410e-02, -2.78560836e-02,  6.01092763e-02, -6.96489736e-02,\n",
       "        9.48058069e-02,  2.08959673e-02,  2.14542896e-02, -5.54025061e-02,\n",
       "       -1.28018707e-01,  1.86452731e-01,  7.87447393e-02,  6.50196970e-02,\n",
       "        7.13174343e-02, -1.64444104e-01, -1.17318228e-01,  4.02094349e-02,\n",
       "       -6.58099949e-02,  2.14372035e-02, -2.85990145e-02, -1.13738455e-01,\n",
       "        3.80515829e-02,  2.37710178e-02, -8.57482012e-03,  1.72578588e-01,\n",
       "       -4.64098603e-02,  1.35946751e-01,  1.21157490e-01,  7.89724756e-04,\n",
       "        7.25470781e-02, -1.75264150e-01,  3.89548764e-02,  8.35098475e-02,\n",
       "        1.77754879e-01,  2.62945127e-02,  2.14399956e-02, -6.11178838e-02,\n",
       "        3.72682437e-02,  9.75120440e-02,  2.23436933e-02,  1.01597533e-01,\n",
       "       -1.03071900e-02, -9.69164521e-02,  5.56651615e-02,  1.05586760e-02,\n",
       "       -3.55612263e-02, -1.93986937e-01,  6.90007657e-02,  6.53666705e-02,\n",
       "       -6.16287887e-02,  3.89192533e-03, -1.47808135e-01, -6.19501658e-02,\n",
       "       -9.59862098e-02,  7.17736408e-02,  3.08288168e-02, -8.42397735e-02,\n",
       "       -9.94583033e-03, -9.02468860e-02, -1.48912054e-03, -6.49199262e-03,\n",
       "        1.31765634e-01,  5.75519912e-02,  8.58132914e-02,  8.73879269e-02,\n",
       "        1.11444376e-01, -1.22875154e-01, -8.11284855e-02,  9.49547142e-02,\n",
       "        1.28925778e-02, -1.48388207e-01, -8.23436975e-02, -3.45974565e-02,\n",
       "        3.81689928e-02,  8.43209326e-02, -1.96482748e-01,  1.19312257e-01,\n",
       "        1.43881619e-01, -6.83243796e-02,  7.32045770e-02, -1.93569824e-01,\n",
       "        4.04007249e-02,  8.85911509e-02, -4.65478636e-02, -1.05563901e-01,\n",
       "        1.45823637e-04, -4.67817262e-02,  1.14661716e-01, -7.53732696e-02,\n",
       "       -1.09614260e-01, -3.31732142e-03, -3.43797728e-02,  9.53367278e-02,\n",
       "        1.47434771e-01, -5.15456684e-02,  8.59276652e-02, -6.08420931e-02,\n",
       "        4.35085483e-02, -6.84632584e-02,  4.52005118e-02,  4.31870371e-02,\n",
       "        1.36397958e-01, -1.06996611e-01,  1.55168837e-02,  7.57182240e-02,\n",
       "        4.32985984e-02, -4.57231775e-02, -8.88679922e-02, -1.29540890e-01,\n",
       "       -1.23116389e-01, -1.63261518e-01,  7.69078583e-02, -3.18833031e-02,\n",
       "        1.17663048e-01,  1.46267146e-01,  1.97623327e-01,  9.75720882e-02,\n",
       "       -2.13130619e-02, -1.41304210e-01, -1.17424972e-01, -2.07998276e-01,\n",
       "       -1.42101377e-01, -1.23926997e-01,  7.65321851e-02, -1.50378421e-01,\n",
       "        1.81919038e-01,  1.29654601e-01, -1.38520449e-01, -7.75886625e-02,\n",
       "        1.38411030e-01,  7.93807283e-02, -6.69419440e-03, -1.46201432e-01,\n",
       "        3.34804393e-02, -1.00525916e-02,  6.73721954e-02,  2.86762719e-03,\n",
       "       -1.59652755e-01,  2.16730908e-01, -4.66665998e-02,  6.49156123e-02,\n",
       "        1.76499814e-01,  2.89925542e-02, -3.63037400e-02, -1.08194329e-01,\n",
       "       -1.06778949e-01,  9.33595449e-02, -1.30520701e-01,  1.17316753e-01,\n",
       "       -2.06212327e-02,  8.06319714e-02, -1.78273339e-02,  4.38101962e-02,\n",
       "        3.57614411e-03, -3.20382565e-02,  5.60259335e-02,  1.01683185e-01,\n",
       "       -1.66313406e-02,  4.34941128e-02,  4.31744196e-02,  1.59568131e-01,\n",
       "       -1.07126780e-01, -1.56948403e-01,  1.73438210e-02, -4.06181673e-03,\n",
       "        7.34389871e-02,  1.36810573e-04,  3.56459208e-02, -5.21553420e-02,\n",
       "        9.06996895e-03, -2.76436694e-02, -1.45321727e-01, -1.36021867e-01,\n",
       "       -6.52960464e-02,  1.30307168e-01,  6.16831183e-02, -7.58681893e-02,\n",
       "       -1.29951015e-01, -2.05874015e-02, -1.24700159e-01,  2.01740786e-02,\n",
       "       -2.82656457e-02, -8.57572183e-02, -3.55539657e-03, -5.68590388e-02,\n",
       "        9.93067771e-02,  9.63904485e-02, -1.17955476e-01, -9.73877981e-02,\n",
       "        1.13651808e-02,  7.24433213e-02,  2.24442519e-02,  2.02837825e-01,\n",
       "        2.19717652e-01, -2.67783683e-02, -3.55384499e-02, -2.78839041e-02,\n",
       "        7.01147038e-03, -2.95205116e-02, -8.39459617e-03, -4.20167483e-03,\n",
       "       -4.66890575e-04,  5.93312010e-02,  1.42084837e-01,  1.25226825e-01,\n",
       "        9.40271616e-02, -1.75807789e-01,  6.35997057e-02, -6.83940127e-02,\n",
       "       -1.24322601e-01,  4.60311323e-02, -2.80709900e-02, -2.06210598e-01,\n",
       "        7.00767189e-02, -8.93470123e-02,  1.87107533e-01, -6.32315204e-02,\n",
       "        1.19889863e-01, -4.92136553e-02,  1.74310967e-01, -1.95484459e-01,\n",
       "       -6.40400965e-03,  5.26571572e-02, -7.87584782e-02, -7.98536390e-02,\n",
       "        1.64314821e-01,  2.63422541e-02, -2.23465404e-03,  2.61121858e-02,\n",
       "       -5.81684448e-02,  1.28227496e-03, -1.11126207e-01,  2.65485141e-02,\n",
       "        7.04462752e-02, -2.20927261e-02, -2.24308018e-02,  8.27129036e-02,\n",
       "        1.64035320e-01, -1.39301479e-01, -4.16643694e-02,  2.33734697e-02,\n",
       "        7.78084844e-02,  6.28989413e-02, -6.59905896e-02,  4.89397272e-02,\n",
       "        5.78274205e-02, -9.54786316e-03, -1.03527226e-01,  1.68152496e-01,\n",
       "        2.04492345e-01, -6.33355305e-02,  7.00190216e-02, -5.89409238e-03,\n",
       "       -4.01437320e-02,  4.50487994e-02,  5.50177135e-02, -8.41886327e-02,\n",
       "        1.38967618e-01, -1.43682748e-01, -6.04775138e-02,  1.29795581e-01,\n",
       "        9.03459452e-03, -2.35840846e-02, -7.01678032e-03,  7.56992549e-02,\n",
       "       -8.10929090e-02,  4.08847444e-02,  2.05924623e-02, -1.81456760e-01,\n",
       "       -1.05972961e-01, -1.58566982e-01, -7.76487365e-02,  1.11853249e-01,\n",
       "       -6.59396425e-02, -5.87870143e-02,  2.16491092e-02,  2.51848083e-02,\n",
       "        1.49913952e-01, -7.46834055e-02,  2.12513674e-02,  1.68891717e-02,\n",
       "        4.96209739e-03, -1.16712516e-02, -4.20056097e-02, -6.10871799e-02,\n",
       "        1.11539662e-01,  7.46886507e-02, -5.72014190e-02, -5.30254543e-02,\n",
       "        4.17235196e-02,  2.34117284e-02, -8.72039422e-02, -1.02010265e-01,\n",
       "       -9.47929025e-02,  9.39403474e-02, -9.69315618e-02,  5.50143793e-03,\n",
       "        5.66365337e-03, -1.25645101e-01,  1.23507537e-01, -1.20814987e-01,\n",
       "        3.65018025e-02,  2.37170402e-02,  9.85985100e-02, -6.20731823e-02,\n",
       "        2.59508360e-02,  4.70457897e-02, -1.36210337e-01, -1.47721648e-01,\n",
       "        1.00463368e-01, -9.91250854e-03, -3.06966454e-02,  7.30583519e-02,\n",
       "       -1.82533488e-01,  3.67327258e-02, -6.59031272e-02, -1.37788698e-01,\n",
       "       -3.24628614e-02,  5.32595143e-02,  5.44112064e-02,  1.40064716e-01,\n",
       "       -1.23120926e-03, -2.56915595e-02,  8.21873769e-02,  2.03411980e-03,\n",
       "        5.75274676e-02, -1.19078830e-01, -5.99614158e-02, -2.86227986e-02,\n",
       "        7.87687153e-02,  7.40196258e-02,  9.41342935e-02, -1.33691117e-01,\n",
       "       -5.72834956e-03, -4.93190996e-02,  6.59847558e-02,  1.97329614e-02,\n",
       "        6.66476563e-02, -1.39962602e-02, -1.15082838e-01, -3.20956879e-03,\n",
       "        1.18434571e-01, -3.67635712e-02, -8.94738063e-02, -5.18843308e-02,\n",
       "       -2.01896057e-01,  1.15238264e-01, -6.12040842e-03, -1.24631830e-01,\n",
       "        5.75967729e-02, -2.48196825e-01,  7.95853212e-02,  1.26039237e-01,\n",
       "        1.20604314e-01, -1.79583970e-02, -8.40355828e-02,  1.29445001e-01,\n",
       "        4.22707386e-02,  8.17928091e-02,  2.18536854e-01,  1.42898494e-02,\n",
       "        1.24495048e-02,  4.10077497e-02,  5.26794083e-02, -5.88833541e-02,\n",
       "        1.32131195e-02,  1.36392549e-01,  9.49139241e-03,  1.08220793e-01,\n",
       "       -6.53017014e-02, -1.15229189e-01, -1.19098976e-01,  1.50459498e-01,\n",
       "       -3.86715792e-02,  8.68833512e-02, -9.91755500e-02, -2.55739111e-02,\n",
       "       -1.45138856e-02, -1.01591788e-01,  7.31374249e-02, -8.84082541e-02,\n",
       "        6.14068136e-02,  1.63201004e-01, -2.08450481e-02, -1.76604763e-01,\n",
       "        1.11060262e-01, -4.56366129e-03, -1.14097305e-01, -6.58106804e-02,\n",
       "       -2.33897239e-01, -1.00571699e-01, -2.11312193e-02, -1.36829704e-01,\n",
       "       -4.23330590e-02, -1.82050318e-02,  1.27001805e-02,  9.16494429e-02,\n",
       "       -7.54345432e-02, -2.89153140e-02,  5.52386604e-02, -6.05541021e-02,\n",
       "        2.08488572e-02, -7.14614242e-02,  7.86283426e-03, -1.11204267e-01,\n",
       "        1.38955474e-01, -1.09737337e-01, -5.94875626e-02, -5.79516813e-02,\n",
       "        2.15126313e-02,  8.99498537e-02,  1.04718372e-01, -1.96098343e-01,\n",
       "        1.20763935e-01, -5.47859222e-02, -1.16374023e-01,  3.03910319e-02,\n",
       "        4.83383648e-02,  3.99595701e-05, -1.31547526e-01,  8.07103142e-02,\n",
       "        9.70977992e-02,  1.06716193e-01,  1.12290397e-01, -4.78176363e-02,\n",
       "       -8.40951353e-02,  3.26746628e-02,  2.04244647e-02, -8.03307071e-02,\n",
       "        1.06619775e-01,  5.38229942e-02,  7.99349695e-02,  5.09523600e-02,\n",
       "        2.81473994e-02,  1.38736010e-01,  1.05936818e-01, -7.43947178e-02,\n",
       "       -2.82170065e-03, -9.97982398e-02,  7.60801509e-02, -1.60201088e-01,\n",
       "        1.13927498e-01,  1.62788182e-01, -7.17959702e-02, -1.53049856e-01,\n",
       "        7.63800144e-02, -8.60958323e-02, -2.77428217e-02, -5.35929687e-02,\n",
       "       -1.42838851e-01, -2.47763023e-02,  2.07753535e-02,  6.60685375e-02,\n",
       "       -4.97816503e-02, -4.17393446e-02, -1.47038726e-02, -2.66774576e-02,\n",
       "       -1.63684681e-01,  5.05657271e-02, -5.34886010e-02,  1.66624680e-01,\n",
       "       -3.92200351e-02, -9.59757157e-03,  4.02210988e-02,  2.55384356e-01,\n",
       "       -9.58100241e-03, -1.11915164e-01, -7.33986823e-03, -1.09097034e-01,\n",
       "       -2.48324256e-02,  6.56259283e-02, -6.79610223e-02,  1.13363311e-01,\n",
       "        2.39279345e-02, -5.05750347e-03, -9.29392800e-02, -1.46531448e-01,\n",
       "        7.23616928e-02,  1.00310884e-01,  5.57363443e-02, -1.72370359e-01,\n",
       "        1.27201322e-02, -1.41240999e-01,  3.66544649e-02, -3.00447550e-02,\n",
       "       -1.23536244e-01, -8.88290033e-02, -4.48389128e-02,  1.90952532e-02,\n",
       "        6.18838072e-02, -5.52776344e-02,  1.13189511e-01, -2.44098812e-01,\n",
       "       -1.09644122e-01,  2.63705626e-02,  1.18153781e-01,  1.94691643e-01,\n",
       "       -1.21780172e-01,  1.10353060e-01, -1.15534291e-01,  6.86642006e-02,\n",
       "       -4.23331335e-02, -5.42064421e-02,  4.76918109e-02,  4.41415235e-02,\n",
       "        1.06430069e-01, -3.30429059e-03,  4.12189104e-02, -5.16786501e-02,\n",
       "        4.53792699e-02, -9.96467378e-03,  9.27149579e-02,  1.87497109e-01,\n",
       "       -5.11352718e-02,  1.16499998e-01, -1.36364788e-01, -3.51953469e-02,\n",
       "        4.49710563e-02,  2.00565904e-02,  9.06380937e-02,  4.50930893e-02,\n",
       "        8.36072341e-02,  1.53226092e-01,  1.49169102e-01,  4.52823229e-02,\n",
       "       -1.53123289e-01,  9.22319740e-02,  1.11309797e-01,  3.81143428e-02,\n",
       "       -1.03322659e-02,  4.41581942e-02, -5.25880195e-02, -7.58483037e-02,\n",
       "        5.21453694e-02,  2.65712943e-02, -1.02263100e-01,  1.13693133e-01,\n",
       "       -7.25670084e-02, -9.80481431e-02,  5.76997660e-02,  5.60107082e-02,\n",
       "        3.67671326e-02, -4.78850417e-02, -3.68514583e-02,  1.46424491e-02,\n",
       "       -3.43076512e-02,  1.31509751e-02, -6.16154559e-02,  4.34668548e-02,\n",
       "        9.43527650e-03,  6.69763461e-02, -4.71347235e-02,  1.20150246e-01,\n",
       "        1.83301568e-02, -6.68778345e-02,  1.85674995e-01,  3.48533168e-02,\n",
       "        7.78068006e-02,  2.52561457e-02, -3.01381247e-03,  6.80800602e-02,\n",
       "        1.37399554e-01, -1.16060309e-01, -4.66103852e-02,  2.70259045e-02,\n",
       "        1.42184481e-01, -1.78542942e-01, -4.29372154e-02,  1.25886530e-01,\n",
       "       -9.20471996e-02,  6.58287928e-02,  1.30607747e-02,  8.38775933e-02,\n",
       "        2.67106630e-02, -1.17620468e-01,  1.41443029e-01,  1.02537513e-01,\n",
       "       -1.07470252e-01,  4.56142724e-02, -9.06069279e-02, -4.33328599e-02,\n",
       "       -1.01811230e-01, -1.37898862e-01,  1.06348068e-01, -8.41103792e-02,\n",
       "        1.99896082e-01, -7.26681352e-02,  1.11332186e-01, -1.17420688e-01,\n",
       "        1.37012050e-01,  5.07394671e-02, -4.73303571e-02,  5.59153687e-03,\n",
       "       -2.81693824e-02,  9.09728780e-02,  3.03740278e-02, -4.32479754e-03,\n",
       "        7.33672306e-02, -6.42051771e-02,  2.74941302e-03, -1.39989164e-02,\n",
       "       -7.69273192e-02,  1.27595132e-02, -1.03578053e-01,  1.44959055e-03,\n",
       "        8.97695795e-02, -2.38371804e-01, -3.12718749e-02, -3.92555110e-02,\n",
       "       -1.18511088e-01,  3.49015482e-02,  4.69326600e-02,  7.79801160e-02,\n",
       "       -1.30259469e-01, -2.25268174e-02,  6.96827248e-02, -2.53277272e-02,\n",
       "        1.09335922e-01,  4.57992628e-02,  1.40533922e-02,  1.07116893e-01,\n",
       "        7.09232092e-02,  3.17650214e-02,  1.04446031e-01, -5.16873114e-02,\n",
       "       -4.15634699e-02,  1.54210511e-03, -1.42595172e-01, -3.37873846e-02,\n",
       "       -1.03073806e-01, -8.73387381e-02, -8.97323415e-02, -4.33931835e-02,\n",
       "       -1.76556613e-02,  8.63421485e-02, -8.09397772e-02,  6.30614832e-02,\n",
       "        2.07358096e-02, -7.76929557e-02, -1.18391089e-01, -4.81390841e-02,\n",
       "       -1.57560647e-01,  1.06627911e-01,  1.36840418e-01, -1.89173698e-01,\n",
       "        1.20529070e-01, -6.11367412e-02,  1.54926162e-02, -1.01042517e-01,\n",
       "        4.85951379e-02,  7.28679448e-03, -7.93655217e-02, -4.02946770e-02,\n",
       "       -1.25331923e-01,  9.76046547e-02,  7.95722846e-03,  5.95378578e-02,\n",
       "       -5.14864065e-02, -8.30660015e-03, -9.94787365e-03, -9.74875018e-02,\n",
       "       -1.13965847e-01,  1.78316366e-02,  1.49944369e-02,  4.22439650e-02,\n",
       "        1.29759908e-02, -1.29012138e-01,  3.97123247e-02, -9.05966386e-02,\n",
       "        1.42787144e-01,  6.51631132e-02, -3.70691083e-02,  2.14578435e-02,\n",
       "        1.70367900e-02,  3.30816535e-03, -1.75740734e-01, -3.01336348e-02,\n",
       "       -1.01723960e-02, -1.47505164e-01,  9.04946849e-02, -1.09525360e-01,\n",
       "        2.10254174e-02, -1.92675859e-01,  1.67675450e-01, -1.18568696e-01,\n",
       "       -5.32567762e-02, -1.25129437e-02,  1.94014296e-01,  1.15819849e-01,\n",
       "        6.64152801e-02,  8.11549928e-03,  1.15823723e-01,  1.67362630e-01,\n",
       "        2.04661787e-02, -4.34731282e-02,  1.07915163e-01,  1.11798331e-01,\n",
       "        5.51917106e-02,  1.33052588e-01,  2.97706183e-02, -1.73312455e-01,\n",
       "        9.04148892e-02, -5.79723902e-02, -1.62352528e-02,  4.55384590e-02,\n",
       "       -1.27609512e-02,  6.12039715e-02, -1.16288997e-01, -6.75086752e-02,\n",
       "        6.25232235e-02,  6.41622245e-02, -8.31552446e-02, -4.55760211e-02,\n",
       "        3.96446660e-02, -1.95436236e-02, -6.96193501e-02,  7.94594660e-02,\n",
       "       -5.55506498e-02, -5.40379435e-02,  1.52157709e-01,  3.66188921e-02,\n",
       "       -6.82273135e-03, -5.87704815e-02,  1.40719518e-01, -1.66505910e-02,\n",
       "       -1.03841931e-01, -2.97548412e-03, -5.64710796e-02,  1.64926320e-01,\n",
       "       -1.28949229e-02, -1.87391639e-02,  1.12297542e-01, -1.50881067e-01,\n",
       "       -2.20634099e-02, -7.17507750e-02, -8.99945274e-02,  7.64123499e-02,\n",
       "        1.10818110e-01, -3.70631577e-03,  8.46157447e-02, -3.85137647e-02,\n",
       "       -1.05101794e-01,  4.05762047e-02, -2.21777380e-01, -1.10679522e-01,\n",
       "       -6.62714466e-02, -4.80222404e-02, -1.23112336e-01, -2.23950483e-02,\n",
       "       -6.65137172e-02,  2.99744457e-02,  9.41338316e-02, -5.79058677e-02,\n",
       "       -2.71167010e-02,  2.65125502e-02, -7.04001561e-02, -1.16808057e-01,\n",
       "        1.43099964e-01,  3.29583548e-02, -1.61337078e-01, -1.41573533e-01,\n",
       "        1.15216389e-01, -4.15503494e-02,  1.27117172e-01, -8.23940039e-02,\n",
       "        1.80646852e-01,  1.74765334e-01, -1.81067258e-01,  5.71152270e-02,\n",
       "       -1.38769999e-01, -7.38357902e-02, -1.81279294e-02, -1.12477439e-02,\n",
       "        2.09347382e-01,  7.62466015e-03,  8.37240964e-02,  8.90600458e-02,\n",
       "        4.55661071e-03,  8.05439726e-02, -5.72949694e-03, -3.54063581e-03,\n",
       "        7.69843683e-02, -5.67366555e-02, -1.12134680e-01, -9.97724384e-02,\n",
       "       -1.06002122e-01, -1.11909710e-01, -1.15745723e-01, -1.03887348e-02,\n",
       "        1.36232629e-01,  5.73290698e-03,  9.36094671e-02, -1.30562797e-01,\n",
       "        8.96210298e-02,  9.98145342e-02, -2.89569725e-03,  1.19557098e-01,\n",
       "        1.87064651e-02, -5.56946620e-02,  1.02484860e-01,  6.90851063e-02,\n",
       "        4.63734120e-02, -1.98829144e-01,  4.21713851e-02,  1.77507605e-02,\n",
       "       -3.70626189e-02, -9.76015478e-02, -8.72697607e-02, -1.56766370e-01,\n",
       "       -6.48757666e-02, -2.16388851e-02, -9.23887119e-02, -2.82287467e-02,\n",
       "       -1.01258531e-01, -1.13978185e-01,  3.73752452e-02,  1.31803855e-01,\n",
       "        9.70287528e-03, -9.59809273e-02,  1.31272674e-01,  1.08522087e-01,\n",
       "        4.09985147e-02, -5.97091317e-02,  3.91883254e-02, -1.31471127e-01,\n",
       "       -1.23180375e-01,  2.51770895e-02, -9.42431018e-03, -8.78592208e-02,\n",
       "        1.02471136e-01, -1.37620300e-01, -1.39185458e-01,  3.74076590e-02,\n",
       "       -9.06978920e-02, -1.31287247e-01,  6.71057552e-02,  2.08979830e-01,\n",
       "        1.50773078e-01, -7.68642277e-02, -8.65400583e-02,  8.96956399e-02,\n",
       "       -2.86078006e-02,  8.32388923e-03,  6.31657392e-02,  1.50101529e-02,\n",
       "       -1.98331778e-03, -1.11297436e-01, -1.15578987e-01, -8.82538706e-02,\n",
       "        7.74679184e-02, -4.25064899e-02,  2.40805484e-02,  1.39136342e-02,\n",
       "        3.52959428e-03, -1.21275336e-01,  5.29977791e-02,  1.24562651e-01,\n",
       "       -5.31036779e-02,  7.86966272e-03, -8.56095478e-02, -6.08766526e-02,\n",
       "       -6.43426180e-02,  1.36844823e-02, -9.44648087e-02, -5.45789860e-02,\n",
       "        2.51758918e-02, -2.92813424e-02,  1.48459792e-01, -1.26324281e-01,\n",
       "       -1.45069629e-01,  7.09572062e-02, -1.27159748e-02, -2.42873151e-02,\n",
       "        2.21059695e-02, -4.56526466e-02,  1.32363901e-01,  9.71375406e-02,\n",
       "        1.52512595e-01,  6.34469986e-02, -6.47930726e-02, -3.20667885e-02,\n",
       "        1.69679552e-01, -5.56925219e-03,  6.56746477e-02,  1.84479266e-01,\n",
       "       -1.52823418e-01,  4.90235649e-02,  5.13007827e-02,  2.29232982e-02,\n",
       "       -4.99429144e-02,  1.57847069e-02,  1.26590639e-01,  8.21352974e-02,\n",
       "        1.06012560e-01, -4.00579013e-02,  8.84447768e-02, -7.39532635e-02,\n",
       "       -2.55278870e-02,  2.10799918e-01, -7.69123901e-03, -1.09931543e-01,\n",
       "       -7.60741606e-02, -1.55150816e-01, -1.20889753e-01,  1.80860430e-01,\n",
       "       -1.88091740e-01,  3.07210535e-02,  1.44861221e-01,  4.74307872e-02,\n",
       "       -1.40181184e-01, -7.14424551e-02,  1.10555820e-01, -7.75054619e-02,\n",
       "       -4.09706607e-02, -2.58637127e-03,  1.10314153e-01,  5.05935401e-02,\n",
       "        9.01562721e-02, -2.09550515e-01, -1.63099300e-02, -1.24082014e-01,\n",
       "       -1.97368830e-01,  1.33632690e-01,  1.50960878e-01,  1.17486261e-01,\n",
       "       -6.62990734e-02, -3.53171341e-02, -5.45892045e-02,  1.24446005e-01,\n",
       "       -1.17646726e-02, -7.77275562e-02, -9.82250720e-02, -1.66325748e-01,\n",
       "        1.33647293e-01, -9.91881713e-02, -3.30602266e-02,  6.17094450e-02,\n",
       "        1.06087558e-01,  1.12904802e-01,  9.03482363e-03,  6.45593107e-02,\n",
       "       -1.25067815e-01,  1.36633441e-01,  1.28494978e-01, -9.20968950e-02,\n",
       "       -1.82952892e-04,  2.81822719e-02,  1.16474807e-01,  5.31144999e-02,\n",
       "        1.88648582e-01,  9.35050100e-02, -6.22008629e-02,  4.82285768e-02,\n",
       "       -4.75365259e-02,  2.47329138e-02,  9.79272053e-02,  2.82371640e-02,\n",
       "        6.60309270e-02, -5.91547340e-02, -1.91116501e-02,  5.81864938e-02,\n",
       "        1.21088326e-01,  2.22396441e-02, -1.38911098e-01, -3.36493365e-02,\n",
       "       -1.37508750e-01, -9.62897316e-02,  4.41010259e-02,  7.38281757e-02,\n",
       "        1.58871606e-01, -1.81235757e-03,  2.15245550e-03, -2.41367310e-01,\n",
       "        1.86280817e-01,  1.24572493e-01, -1.59663215e-01,  1.57948256e-01],\n",
       "      dtype=float32)"
      ]
     },
     "execution_count": 23,
     "metadata": {},
     "output_type": "execute_result"
    }
   ],
   "source": [
    "hs_vector"
   ]
  },
  {
   "cell_type": "code",
   "execution_count": 24,
   "id": "42c63400",
   "metadata": {},
   "outputs": [
    {
     "data": {
      "text/plain": [
       "array([0.00608696, 0.00514721, 0.00576909, 0.00314528, 0.0046696 ,\n",
       "       0.00507861, 0.00466142, 0.00498031, 0.00572361, 0.00468136,\n",
       "       0.00468868, 0.00529078, 0.00517832, 0.0045062 , 0.00533844,\n",
       "       0.00378601, 0.00474906, 0.00523123, 0.00401212, 0.00454191,\n",
       "       0.00520069, 0.0048508 , 0.00541529, 0.00528601, 0.00490138,\n",
       "       0.00684008, 0.00618329, 0.00373121, 0.00698311, 0.00548135,\n",
       "       0.00559969, 0.00384565, 0.00544349, 0.00622286, 0.00469122,\n",
       "       0.0058062 , 0.00533489, 0.00396375, 0.00358069, 0.00483543,\n",
       "       0.00420041, 0.00368831, 0.00407765, 0.00343515, 0.0052852 ,\n",
       "       0.00557462, 0.00522394, 0.00540634, 0.00558233, 0.00548256,\n",
       "       0.00518012, 0.00352598, 0.00596603, 0.00473872, 0.00491811,\n",
       "       0.00269768, 0.00644508, 0.00415153, 0.00444749, 0.00429507,\n",
       "       0.00446929, 0.00470727, 0.00427879, 0.00565851, 0.00486237,\n",
       "       0.00496592, 0.00463155, 0.00458383, 0.00622348, 0.00426433,\n",
       "       0.00467779, 0.00423048, 0.00442469, 0.00633924, 0.00345943,\n",
       "       0.00619428, 0.00432693, 0.00649411, 0.00518149, 0.00547591,\n",
       "       0.00542102, 0.0047819 , 0.00423342, 0.00479976, 0.00508786,\n",
       "       0.00572679, 0.00442346, 0.00617063, 0.00698943, 0.00517844,\n",
       "       0.00452826, 0.00541367, 0.0040222 , 0.00375023, 0.00562342,\n",
       "       0.00588287, 0.00403748, 0.00472024, 0.00391137, 0.00516643,\n",
       "       0.0045615 , 0.00398416, 0.00368226, 0.00504482, 0.00673451,\n",
       "       0.00457835, 0.00512704, 0.00404629, 0.00441091, 0.00369883,\n",
       "       0.00662436, 0.00491901, 0.00457346, 0.00530154, 0.00650471,\n",
       "       0.00645708, 0.00504087, 0.00437318, 0.00542818, 0.00409389,\n",
       "       0.00365051, 0.0039695 , 0.00457391, 0.00449873, 0.00500277,\n",
       "       0.0041168 , 0.00599121, 0.00456862, 0.00498829, 0.00572647,\n",
       "       0.003796  , 0.00466073, 0.00345517, 0.00326775, 0.00507309,\n",
       "       0.0054803 , 0.00561996, 0.00667227, 0.00556809, 0.00470038,\n",
       "       0.00481117, 0.00384431, 0.00506453, 0.00416598, 0.00298   ,\n",
       "       0.00492742, 0.00453959, 0.00541203, 0.00377462, 0.00493164,\n",
       "       0.00402413, 0.0040758 , 0.00635608, 0.00395784, 0.00544196,\n",
       "       0.00342352, 0.00537728, 0.00551699, 0.00641094, 0.00453564,\n",
       "       0.00363168, 0.00588016, 0.0043274 , 0.00436467, 0.0056411 ,\n",
       "       0.00566726, 0.00546879, 0.00324847, 0.00486624, 0.00483383,\n",
       "       0.0035292 , 0.00530233, 0.00583359, 0.00397746, 0.00362703,\n",
       "       0.00463016, 0.00718418, 0.00697654, 0.00491217, 0.00572303,\n",
       "       0.00535431, 0.00670445, 0.00542792, 0.00559015, 0.00559712,\n",
       "       0.00377153, 0.00449278, 0.00465023, 0.00666178, 0.00422043,\n",
       "       0.00491755, 0.00389934, 0.00409919, 0.00648324, 0.00473627,\n",
       "       0.00532552, 0.00546585, 0.00580883, 0.00554043, 0.00422498,\n",
       "       0.00460704, 0.00503394, 0.0045235 , 0.00355428, 0.00547398,\n",
       "       0.00535212, 0.00628939, 0.00605903, 0.00604023, 0.00647263,\n",
       "       0.0052468 , 0.0053931 , 0.00446218, 0.00627268, 0.00579822,\n",
       "       0.00638807, 0.00656488, 0.00452753, 0.00379141, 0.00450301,\n",
       "       0.00475077, 0.0047998 , 0.00479965, 0.00570657, 0.00619341,\n",
       "       0.00465494, 0.00506973, 0.00446888, 0.00569526, 0.00418879,\n",
       "       0.00609105, 0.00403596, 0.00376049, 0.00524123, 0.0057336 ,\n",
       "       0.00482966, 0.00648287, 0.0063923 , 0.00479418, 0.00626268,\n",
       "       0.00429053, 0.00375078, 0.00453903, 0.00372054, 0.00457411,\n",
       "       0.00506987, 0.00414752, 0.00370134, 0.00656824, 0.00321532,\n",
       "       0.00394595, 0.00530861, 0.00448155, 0.0054901 , 0.00388964,\n",
       "       0.00510256, 0.00417784, 0.00517263, 0.00535387, 0.00450415,\n",
       "       0.00513735, 0.00492706, 0.00473307, 0.00505412, 0.00624647,\n",
       "       0.00457766, 0.00525769, 0.00556118, 0.00445104, 0.00436634,\n",
       "       0.00496332, 0.00735086, 0.00412991, 0.00458928, 0.00672868,\n",
       "       0.00522617, 0.00520694, 0.00367024, 0.00558046, 0.00459041,\n",
       "       0.00513793, 0.00415409, 0.00444641, 0.0045221 , 0.00524112,\n",
       "       0.00496393, 0.00367146, 0.00354825, 0.00380677, 0.00510571,\n",
       "       0.00369295, 0.00333255, 0.00485014, 0.0028573 , 0.00577661,\n",
       "       0.00570424, 0.0064321 , 0.00375695, 0.00539714, 0.00458768,\n",
       "       0.00558466, 0.00376607, 0.00471954, 0.00611853, 0.00594697,\n",
       "       0.00514819, 0.00417341, 0.00464726, 0.00546048, 0.00470267,\n",
       "       0.00564924, 0.00565876, 0.00648432, 0.00701446, 0.0039353 ,\n",
       "       0.00412064, 0.00611311, 0.00528939, 0.00560432, 0.00554583,\n",
       "       0.00598437, 0.00285146, 0.00477715, 0.00600932, 0.0061651 ,\n",
       "       0.0048822 , 0.00503951, 0.00531511, 0.00552721, 0.00404711,\n",
       "       0.00485346, 0.0039219 , 0.00509373, 0.00431094, 0.00496278,\n",
       "       0.00369501, 0.00392628, 0.00452084, 0.00470309, 0.00426338,\n",
       "       0.0053616 , 0.00606647, 0.00486647, 0.00443706, 0.00341488,\n",
       "       0.00622312, 0.0060586 , 0.00576499, 0.00467724, 0.0053469 ,\n",
       "       0.00500426, 0.00537547, 0.00657507, 0.00552673, 0.0042494 ,\n",
       "       0.00430804, 0.00537838, 0.00483058, 0.00472418, 0.00610831,\n",
       "       0.00652603, 0.00492192, 0.00456364, 0.00325148, 0.00432149,\n",
       "       0.00581983, 0.00467088, 0.00549819, 0.00382053, 0.00465706,\n",
       "       0.00404025, 0.00440458, 0.00626784, 0.00422103, 0.00372448,\n",
       "       0.0044656 , 0.00519513, 0.00508736, 0.00561674, 0.00489769,\n",
       "       0.00528527, 0.00485839, 0.00586032, 0.00469509, 0.00403462,\n",
       "       0.0048818 , 0.00472834, 0.00449902, 0.0057501 , 0.00550799,\n",
       "       0.00503506, 0.00474984, 0.00517365, 0.00524265, 0.00510196,\n",
       "       0.00450099, 0.00362802, 0.00652341, 0.0057126 , 0.00294216,\n",
       "       0.00640937, 0.00462078, 0.00565987, 0.00609261, 0.00391423,\n",
       "       0.0059406 , 0.00357115, 0.00457103, 0.00506654, 0.00461296,\n",
       "       0.00417441, 0.00360569, 0.00338815, 0.00542346, 0.00469809,\n",
       "       0.00470757, 0.00409491, 0.00454757, 0.00497784, 0.00507061,\n",
       "       0.0039747 , 0.00502468, 0.00509982, 0.00403488, 0.00558015,\n",
       "       0.00609367, 0.00438199, 0.00470888, 0.00674324, 0.00382256,\n",
       "       0.00435503, 0.00402119, 0.00486655, 0.00510265, 0.00497912,\n",
       "       0.00335747, 0.00456016, 0.00371711, 0.00549794, 0.0044273 ,\n",
       "       0.00416587, 0.00616454, 0.00369546, 0.00644278, 0.00473266,\n",
       "       0.00443022, 0.00634736, 0.00652769, 0.0042494 , 0.00554955,\n",
       "       0.00391817, 0.00412571, 0.00602412, 0.00522986, 0.0056434 ,\n",
       "       0.00504934, 0.00577621, 0.00570265, 0.00470935, 0.00316388,\n",
       "       0.00499246, 0.00617525, 0.00445491, 0.00373597, 0.00506008,\n",
       "       0.00604084, 0.00461141, 0.00481762, 0.00603849, 0.0049062 ,\n",
       "       0.00463563, 0.00501329, 0.0043647 , 0.00465757, 0.00650591,\n",
       "       0.00392519, 0.00412969, 0.00584056, 0.00455042, 0.00591822,\n",
       "       0.00334397, 0.00540976, 0.00499174, 0.00527692, 0.00468737,\n",
       "       0.00527205, 0.00359665, 0.00611906, 0.00458339, 0.00466312,\n",
       "       0.00500493, 0.00527118, 0.0042056 , 0.00595171, 0.00453794,\n",
       "       0.00639187, 0.00448214, 0.00522612, 0.00362242, 0.0041711 ,\n",
       "       0.00527038, 0.00423547, 0.00434067, 0.00462198, 0.00556283,\n",
       "       0.00347332, 0.00413661, 0.00518729, 0.0043923 , 0.00580303,\n",
       "       0.0042513 , 0.00426177, 0.00545786, 0.00438926, 0.00491015,\n",
       "       0.00291617, 0.00479628, 0.00549038, 0.00573975, 0.00546205,\n",
       "       0.00476416, 0.00544019, 0.00405148, 0.00649688, 0.00527298,\n",
       "       0.00523731, 0.00592924, 0.00415205, 0.00556636, 0.00471897,\n",
       "       0.00482229, 0.00420943, 0.00560213, 0.00421054, 0.00434874,\n",
       "       0.00511069, 0.00547145, 0.00548329, 0.00370662, 0.00409594,\n",
       "       0.00442764, 0.00385675, 0.00513863, 0.00506783, 0.00526816,\n",
       "       0.00519641, 0.00445839, 0.00464863, 0.0047811 , 0.00424423,\n",
       "       0.00494315, 0.004607  , 0.00435491, 0.00434062, 0.00351766,\n",
       "       0.00566636, 0.00450302, 0.00418149, 0.00478246, 0.00612733,\n",
       "       0.00489328, 0.00530245, 0.0050866 , 0.00539234, 0.00531134,\n",
       "       0.00549734, 0.00438166, 0.00512037, 0.0061098 , 0.00646951,\n",
       "       0.00449473, 0.00620052, 0.00544033, 0.00389409, 0.00474455,\n",
       "       0.00496951, 0.00620852, 0.00496578, 0.00515058, 0.00606365,\n",
       "       0.00495765, 0.00498341, 0.00400075, 0.00411532, 0.00457408,\n",
       "       0.0043372 , 0.00558794, 0.00403727, 0.00623689, 0.00392357,\n",
       "       0.00493437, 0.00529863, 0.00415262, 0.00586058, 0.00441847,\n",
       "       0.00700698, 0.00487456, 0.0050875 , 0.00480534, 0.00405494,\n",
       "       0.00484604, 0.00510271, 0.00454268, 0.00445963, 0.00467218,\n",
       "       0.00491817, 0.00398138, 0.00550545, 0.00589184, 0.00533327,\n",
       "       0.00552701, 0.00516097, 0.0053924 , 0.00373841, 0.00467971,\n",
       "       0.00558332, 0.00626116, 0.00533368, 0.00490305, 0.00535711,\n",
       "       0.00536408, 0.00627502, 0.00558192, 0.00359647, 0.00352574,\n",
       "       0.00541282, 0.00334359, 0.00454615, 0.00496635, 0.00422401,\n",
       "       0.00383798, 0.006075  , 0.00564146, 0.00326623, 0.00635641,\n",
       "       0.00498922, 0.00559621, 0.00510606, 0.00640031, 0.00598348,\n",
       "       0.00566781, 0.00496872, 0.00505823, 0.00488886, 0.00687564,\n",
       "       0.00408816, 0.00577216, 0.00502761, 0.00182772, 0.00464064,\n",
       "       0.00347882, 0.00681488, 0.0048969 , 0.00563771, 0.00391782,\n",
       "       0.00429818, 0.00445965, 0.00494883, 0.00509961, 0.00590172,\n",
       "       0.00505406, 0.00571829, 0.00422397, 0.00452134, 0.00494316,\n",
       "       0.00498506, 0.00565986, 0.00363958, 0.00474219, 0.00565967,\n",
       "       0.00543782, 0.0037808 , 0.00581165, 0.00353242, 0.0052348 ,\n",
       "       0.00433133, 0.0055141 , 0.00664566, 0.00425422, 0.0049496 ,\n",
       "       0.00614023, 0.00372554, 0.00625081, 0.00565971, 0.00290159,\n",
       "       0.00608915, 0.00509519, 0.0055076 , 0.00357344, 0.0054457 ,\n",
       "       0.00500139, 0.0044589 , 0.00575571, 0.00417103, 0.00595851,\n",
       "       0.00728648, 0.00518853, 0.00622295, 0.0049236 , 0.0048458 ,\n",
       "       0.00581231, 0.00392859, 0.00603129, 0.00350205, 0.00528046,\n",
       "       0.0036028 , 0.00563221, 0.00407911, 0.00377328, 0.00527164,\n",
       "       0.0063693 , 0.00500656, 0.00387617, 0.00364276, 0.00494788,\n",
       "       0.0064203 , 0.00651001, 0.00531309, 0.00468912, 0.00513567,\n",
       "       0.0057525 , 0.00419892, 0.00649634, 0.00459873, 0.00672302,\n",
       "       0.00496668, 0.00473596, 0.00513739, 0.00590667, 0.00542281,\n",
       "       0.00445213, 0.00457097, 0.00390409, 0.00397248, 0.0047154 ,\n",
       "       0.0044356 , 0.00544115, 0.0059024 , 0.00504986, 0.00445392,\n",
       "       0.00496732, 0.00512322, 0.00395882, 0.0064043 , 0.00455479,\n",
       "       0.00502173, 0.00472166, 0.00592108, 0.00475985, 0.00620646,\n",
       "       0.00449591, 0.00513469, 0.00459161, 0.00422907, 0.00605261,\n",
       "       0.00326591, 0.00443634, 0.00463719, 0.00558173, 0.00425139,\n",
       "       0.00565848, 0.0043908 , 0.00544723, 0.00581022, 0.00507812,\n",
       "       0.00516208, 0.00369024, 0.00490881, 0.00611565, 0.00379215,\n",
       "       0.00467883, 0.00267764, 0.00572076, 0.00427705, 0.00572995,\n",
       "       0.00307654, 0.00393606, 0.00533133, 0.0055861 , 0.00350891,\n",
       "       0.0056601 , 0.00478424, 0.0035897 , 0.00458076, 0.00591366,\n",
       "       0.00481684, 0.00598753, 0.00257326, 0.00500309, 0.0058981 ,\n",
       "       0.00408885, 0.00545724, 0.00565874, 0.00498806, 0.00681408,\n",
       "       0.00279701, 0.00558158, 0.00461184, 0.00376638, 0.00471231,\n",
       "       0.00407579, 0.00351996, 0.00651651, 0.00523277, 0.00493384,\n",
       "       0.0046654 , 0.00400101, 0.00395718, 0.00538643, 0.00469996,\n",
       "       0.00404834, 0.00422402, 0.00576659, 0.00598469, 0.00379006,\n",
       "       0.00467751, 0.00584007, 0.00521908, 0.00548174, 0.00539809,\n",
       "       0.00452086, 0.00513015, 0.00448748, 0.00485092, 0.00420241,\n",
       "       0.00441785, 0.00472792, 0.00417566, 0.00479956, 0.00461927,\n",
       "       0.00390035, 0.00499899, 0.00599436, 0.00574588, 0.00535631,\n",
       "       0.00548115, 0.00380922, 0.00528047, 0.00488704, 0.00562878,\n",
       "       0.00309088, 0.00408569, 0.00615494, 0.00626367, 0.00437458,\n",
       "       0.00569756, 0.00529869, 0.00473915, 0.00495205, 0.0045223 ,\n",
       "       0.00473063, 0.00600613, 0.00457672, 0.00579824, 0.00359668,\n",
       "       0.00589784, 0.00577534, 0.00601911, 0.00721498, 0.00506922,\n",
       "       0.00486866, 0.0052852 , 0.00441242, 0.00411883, 0.00520755,\n",
       "       0.00376513, 0.00410565, 0.0042906 , 0.00485758, 0.00437789,\n",
       "       0.00389374, 0.00499077, 0.00578413, 0.00549629, 0.00511548,\n",
       "       0.00565719, 0.0050834 , 0.00590901, 0.00523686, 0.00538372,\n",
       "       0.005461  , 0.00506431, 0.00400759, 0.00506788, 0.00402335,\n",
       "       0.00527018, 0.00424096, 0.00404025, 0.00473898, 0.00402193,\n",
       "       0.00502341, 0.00422235, 0.00454457, 0.00583113, 0.0044855 ,\n",
       "       0.00576814, 0.00589328, 0.00493751, 0.00460465, 0.00537679,\n",
       "       0.00493098, 0.00532406, 0.00419754, 0.00363865, 0.00712987,\n",
       "       0.0053974 , 0.00590404, 0.00505908, 0.00365227, 0.00511326,\n",
       "       0.00579938, 0.00421831, 0.00444123, 0.00577081, 0.00606234,\n",
       "       0.0049215 , 0.00531522, 0.00543444, 0.00611449, 0.00562825,\n",
       "       0.0053258 , 0.00486883, 0.00494259, 0.00426292, 0.00519454,\n",
       "       0.00316302, 0.00540675, 0.00574213, 0.00286035, 0.00530157,\n",
       "       0.00419587, 0.00532361, 0.00494517, 0.00220255, 0.00454878,\n",
       "       0.0037505 , 0.00421073, 0.0056583 , 0.00378206, 0.00665251,\n",
       "       0.00450376, 0.00417935, 0.00475622, 0.00449044, 0.00380423,\n",
       "       0.00535514, 0.00507491, 0.00492921, 0.00476471, 0.00423225,\n",
       "       0.00394432, 0.00421499, 0.00545328, 0.00484284, 0.00514729,\n",
       "       0.00357318, 0.00528921, 0.00312322, 0.0052121 , 0.00541682,\n",
       "       0.00584122, 0.00511965, 0.00459641, 0.00683771, 0.00512555,\n",
       "       0.00511751, 0.00528405, 0.00475252, 0.00431697, 0.00422507,\n",
       "       0.0049044 , 0.00420662, 0.00485068, 0.00504168, 0.0054894 ,\n",
       "       0.00598943, 0.00404572, 0.00378099, 0.00512663, 0.00659385,\n",
       "       0.00578285, 0.00436794, 0.00576407, 0.00561233, 0.00558377,\n",
       "       0.00506236, 0.00422173, 0.00383894, 0.00406787, 0.00548403,\n",
       "       0.00615513, 0.00509677, 0.00634747, 0.00488919, 0.00441908,\n",
       "       0.00364619, 0.00599712, 0.00664138, 0.0041725 , 0.00586126],\n",
       "      dtype=float32)"
      ]
     },
     "execution_count": 24,
     "metadata": {},
     "output_type": "execute_result"
    }
   ],
   "source": [
    "doctor_strange_vector"
   ]
  },
  {
   "cell_type": "code",
   "execution_count": 25,
   "id": "dc3ae9c8",
   "metadata": {},
   "outputs": [
    {
     "data": {
      "text/plain": [
       "0.026661593"
      ]
     },
     "execution_count": 25,
     "metadata": {},
     "output_type": "execute_result"
    }
   ],
   "source": [
    "# zimin과 black_eyed_peas를 내적하는 코드\n",
    "np.dot(hs_vector, doctor_strange_vector) # 0.00028537068 -> 0.021859618"
   ]
  },
  {
   "cell_type": "code",
   "execution_count": 26,
   "id": "beb09501",
   "metadata": {},
   "outputs": [
    {
     "data": {
      "text/plain": [
       "0.027139897"
      ]
     },
     "execution_count": 26,
     "metadata": {},
     "output_type": "execute_result"
    }
   ],
   "source": [
    "dark_knight = movie_to_idx['The Dark Knight (2008)']\n",
    "dark_knight_vector = als_model.item_factors[dark_knight]\n",
    "np.dot(hs_vector, dark_knight_vector) # 0.0002455473 -> 0.021536825"
   ]
  },
  {
   "cell_type": "code",
   "execution_count": 28,
   "id": "115cd40c",
   "metadata": {},
   "outputs": [
    {
     "data": {
      "text/plain": [
       "0.026883025"
      ]
     },
     "execution_count": 28,
     "metadata": {},
     "output_type": "execute_result"
    }
   ],
   "source": [
    "iron_man = movie_to_idx['Iron Man (2008)']\n",
    "iron_man_vector = als_model.item_factors[iron_man]\n",
    "np.dot(hs_vector, iron_man_vector) # -0.00081391656 -> -0.005021919"
   ]
  },
  {
   "cell_type": "code",
   "execution_count": 29,
   "id": "935c2459",
   "metadata": {},
   "outputs": [
    {
     "data": {
      "text/plain": [
       "[(3628, 1.0000001),\n",
       " (3629, 0.99988157),\n",
       " (3631, 0.99986964),\n",
       " (3630, 0.99986476),\n",
       " (3615, 0.9975538),\n",
       " (3531, 0.9973943),\n",
       " (3534, 0.9972694),\n",
       " (3035, 0.997181),\n",
       " (3088, 0.9968074),\n",
       " (3570, 0.9966827),\n",
       " (3549, 0.9966735),\n",
       " (3589, 0.99640006),\n",
       " (3053, 0.99630237),\n",
       " (3156, 0.9960763),\n",
       " (3519, 0.99582887)]"
      ]
     },
     "execution_count": 29,
     "metadata": {},
     "output_type": "execute_result"
    }
   ],
   "source": [
    "favorite_movie = 'Doctor Strange (2016)'\n",
    "movie_id = movie_to_idx[favorite_movie]\n",
    "similar_movie = als_model.similar_items(movie_id, N=15)\n",
    "similar_movie"
   ]
  },
  {
   "cell_type": "code",
   "execution_count": 30,
   "id": "e6ba0833",
   "metadata": {},
   "outputs": [
    {
     "data": {
      "text/plain": [
       "['Doctor Strange (2016)',\n",
       " 'The Dark Knight (2008)',\n",
       " 'The Lord of the Rings: The Return of the King (2003)',\n",
       " 'Iron Man (2008)',\n",
       " 'Chain of Fools (2000)',\n",
       " 'Aiqing wansui (1994)',\n",
       " 'Project Moon Base (1953)',\n",
       " 'For Ever Mozart (1996)',\n",
       " 'Open Season (1996)',\n",
       " 'Loser (1991)',\n",
       " 'Make Them Die Slowly (Cannibal Ferox) (1980)',\n",
       " 'Soft Toilet Seats (1999)',\n",
       " 'Sunchaser, The (1996)',\n",
       " 'Running Free (2000)',\n",
       " '1-900 (1994)']"
      ]
     },
     "execution_count": 30,
     "metadata": {},
     "output_type": "execute_result"
    }
   ],
   "source": [
    "#movie_to_idx 를 뒤집어, index로부터 movie 이름을 얻는 dict를 생성합니다. \n",
    "idx_to_movie = {v:k for k,v in movie_to_idx.items()}\n",
    "[idx_to_movie[i[0]] for i in similar_movie]"
   ]
  },
  {
   "cell_type": "code",
   "execution_count": 31,
   "id": "6d8172b4",
   "metadata": {},
   "outputs": [],
   "source": [
    "def get_similar_movie(movie_name: str):\n",
    "    movie_id = movie_to_idx[movie_name]\n",
    "    similar_movie = als_model.similar_items(movie_id)\n",
    "    similar_movie = [idx_to_movie[i[0]] for i in similar_movie]\n",
    "    return similar_movie"
   ]
  },
  {
   "cell_type": "code",
   "execution_count": 32,
   "id": "0e6a6736",
   "metadata": {
    "scrolled": true
   },
   "outputs": [
    {
     "data": {
      "text/plain": [
       "['Iron Man (2008)',\n",
       " 'Doctor Strange (2016)',\n",
       " 'The Lord of the Rings: The Return of the King (2003)',\n",
       " 'The Dark Knight (2008)',\n",
       " 'Chain of Fools (2000)',\n",
       " 'Aiqing wansui (1994)',\n",
       " 'Project Moon Base (1953)',\n",
       " 'For Ever Mozart (1996)',\n",
       " 'Open Season (1996)',\n",
       " 'Make Them Die Slowly (Cannibal Ferox) (1980)']"
      ]
     },
     "execution_count": 32,
     "metadata": {},
     "output_type": "execute_result"
    }
   ],
   "source": [
    "get_similar_movie('Iron Man (2008)')"
   ]
  },
  {
   "cell_type": "code",
   "execution_count": 38,
   "id": "53ece15b",
   "metadata": {},
   "outputs": [
    {
     "data": {
      "text/plain": [
       "['E.T. the Extra-Terrestrial (1982)',\n",
       " 'Paralyzing Fear: The Story of Polio in America, A (1998)',\n",
       " 'Smashing Time (1967)',\n",
       " 'Lured (1947)',\n",
       " 'Held Up (2000)',\n",
       " 'Boys (1996)',\n",
       " 'Boys, The (1997)',\n",
       " 'Slappy and the Stinkers (1998)',\n",
       " 'Second Jungle Book: Mowgli & Baloo, The (1997)',\n",
       " 'Yankee Zulu (1994)']"
      ]
     },
     "execution_count": 38,
     "metadata": {},
     "output_type": "execute_result"
    }
   ],
   "source": [
    "get_similar_movie('E.T. the Extra-Terrestrial (1982)')"
   ]
  },
  {
   "cell_type": "code",
   "execution_count": 39,
   "id": "ec87009c",
   "metadata": {},
   "outputs": [
    {
     "data": {
      "text/plain": [
       "[(2210, 0.027317002),\n",
       " (1560, 0.026977206),\n",
       " (3493, 0.026414588),\n",
       " (1006, 0.025515314),\n",
       " (3541, 0.025311947),\n",
       " (2178, 0.024594799),\n",
       " (3122, 0.024042122),\n",
       " (3500, 0.023923185),\n",
       " (714, 0.023875048),\n",
       " (3591, 0.02369555),\n",
       " (2999, 0.023526907),\n",
       " (151, 0.023456372),\n",
       " (3296, 0.02323399),\n",
       " (2824, 0.023149695),\n",
       " (725, 0.023138883),\n",
       " (3517, 0.023130128),\n",
       " (3416, 0.023112755),\n",
       " (2269, 0.022932604),\n",
       " (2313, 0.02292992),\n",
       " (3534, 0.022662647)]"
      ]
     },
     "execution_count": 39,
     "metadata": {},
     "output_type": "execute_result"
    }
   ],
   "source": [
    "user = user_to_idx['hs']\n",
    "# recommend에서는 user*item CSR Matrix를 받습니다.\n",
    "movie_recommended = als_model.recommend(user, csr_data, N=20, filter_already_liked_items=True)\n",
    "movie_recommended"
   ]
  },
  {
   "cell_type": "code",
   "execution_count": 40,
   "id": "3b8a0402",
   "metadata": {},
   "outputs": [
    {
     "data": {
      "text/plain": [
       "['Brighton Beach Memoirs (1986)',\n",
       " \"Dead Men Don't Wear Plaid (1982)\",\n",
       " 'Held Up (2000)',\n",
       " 'Highlander: Endgame (2000)',\n",
       " 'Smashing Time (1967)',\n",
       " 'Twelfth Night (1996)',\n",
       " 'Belizaire the Cajun (1986)',\n",
       " 'Journey of August King, The (1995)',\n",
       " 'Waterworld (1995)',\n",
       " \"Heaven's Burning (1997)\",\n",
       " 'Grateful Dead (1995)',\n",
       " 'Mr. Jones (1993)',\n",
       " 'Window to Paris (1994)',\n",
       " 'Anna Karenina (1997)',\n",
       " 'Billy Madison (1995)',\n",
       " 'Paralyzing Fear: The Story of Polio in America, A (1998)',\n",
       " 'Firelight (1997)',\n",
       " \"Young Poisoner's Handbook, The (1995)\",\n",
       " '20 Dates (1998)',\n",
       " 'Project Moon Base (1953)']"
      ]
     },
     "execution_count": 40,
     "metadata": {},
     "output_type": "execute_result"
    }
   ],
   "source": [
    "[idx_to_movie[i[0]] for i in movie_recommended]"
   ]
  },
  {
   "cell_type": "code",
   "execution_count": 41,
   "id": "631484bf",
   "metadata": {},
   "outputs": [],
   "source": [
    "e_t = movie_to_idx['E.T. the Extra-Terrestrial (1982)']\n",
    "explain = als_model.explain(user, csr_data, itemid=e_t)"
   ]
  },
  {
   "cell_type": "code",
   "execution_count": 42,
   "id": "ab76c817",
   "metadata": {},
   "outputs": [
    {
     "data": {
      "text/plain": [
       "[(\"Schindler's List (1993)\", 0.0017544294786417695),\n",
       " ('The Dark Knight (2008)', 0.0003644123664457667),\n",
       " ('Doctor Strange (2016)', 0.0003500241908909584),\n",
       " ('Iron Man (2008)', 0.00023226869666919357),\n",
       " ('The Lord of the Rings: The Return of the King (2003)',\n",
       "  0.00016537630447906122)]"
      ]
     },
     "execution_count": 42,
     "metadata": {},
     "output_type": "execute_result"
    }
   ],
   "source": [
    "[(idx_to_movie[i[0]], i[1]) for i in explain[1]]"
   ]
  },
  {
   "cell_type": "code",
   "execution_count": null,
   "id": "8179493e",
   "metadata": {},
   "outputs": [],
   "source": []
  },
  {
   "cell_type": "markdown",
   "id": "7cb2a4a9",
   "metadata": {},
   "source": [
    "이후에는 이전 스텝에 소개했던 것과 동일한 방식으로 MF model을 구성하여 내가 좋아할 만한 영화를 추천해 볼 수 있습니다.\n",
    "\n",
    "4) CSR matrix를 직접 만들어 봅시다.\n",
    "\n",
    "5) als_model = AlternatingLeastSquares 모델을 직접 구성하여 훈련시켜 봅시다.\n",
    "\n",
    "6) 내가 선호하는 5가지 영화 중 하나와 그 외의 영화 하나를 골라 훈련된 모델이 예측한 나의 선호도를 파악해 보세요.\n",
    "\n",
    "7) 내가 좋아하는 영화와 비슷한 영화를 추천받아 봅시다.\n",
    "\n",
    "8) 내가 가장 좋아할 만한 영화들을 추천받아 봅시다."
   ]
  },
  {
   "cell_type": "code",
   "execution_count": null,
   "id": "880e749c",
   "metadata": {},
   "outputs": [],
   "source": []
  }
 ],
 "metadata": {
  "kernelspec": {
   "display_name": "Python 3 (ipykernel)",
   "language": "python",
   "name": "python3"
  },
  "language_info": {
   "codemirror_mode": {
    "name": "ipython",
    "version": 3
   },
   "file_extension": ".py",
   "mimetype": "text/x-python",
   "name": "python",
   "nbconvert_exporter": "python",
   "pygments_lexer": "ipython3",
   "version": "3.9.7"
  }
 },
 "nbformat": 4,
 "nbformat_minor": 5
}
