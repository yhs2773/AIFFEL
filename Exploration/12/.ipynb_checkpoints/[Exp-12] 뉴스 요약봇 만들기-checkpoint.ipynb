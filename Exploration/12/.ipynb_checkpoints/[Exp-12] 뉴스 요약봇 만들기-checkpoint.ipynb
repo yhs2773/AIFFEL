{
 "cells": [
  {
   "cell_type": "markdown",
   "id": "729de98e",
   "metadata": {},
   "source": [
    "# Preprocessing"
   ]
  },
  {
   "cell_type": "code",
   "execution_count": 1,
   "id": "48534c93",
   "metadata": {},
   "outputs": [
    {
     "name": "stderr",
     "output_type": "stream",
     "text": [
      "[nltk_data] Downloading package stopwords to /aiffel/nltk_data...\n",
      "[nltk_data]   Unzipping corpora/stopwords.zip.\n"
     ]
    }
   ],
   "source": [
    "# NLTK, stands for Natural Language Toolkit, is a library for English punctuations, statistics, and NLP\n",
    "# NLTK contains 100 words like I, my, me, over, postposition, suffix, but not needed/necessary for abstraction\n",
    "# use NLTK to remove stopwords from dataset\n",
    "import nltk\n",
    "nltk.download('stopwords')\n",
    "import warnings\n",
    "warnings.filterwarnings(\"ignore\", category=UserWarning, module='bs4')\n",
    "import urllib.request\n",
    "import numpy as np\n",
    "import pandas as pd\n",
    "import os, re\n",
    "import matplotlib.pyplot as plt\n",
    "import requests\n",
    "import summa\n",
    "\n",
    "from summa.summarizer import summarize\n",
    "from nltk.corpus import stopwords\n",
    "from bs4 import BeautifulSoup \n",
    "from tensorflow.keras.preprocessing.text import Tokenizer \n",
    "from tensorflow.keras.preprocessing.sequence import pad_sequences\n",
    "from tensorflow.keras.layers import Input, LSTM, Embedding, Dense, Concatenate, TimeDistributed, Bidirectional\n",
    "from tensorflow.keras.models import Model\n",
    "from tensorflow.keras.callbacks import EarlyStopping, ModelCheckpoint\n",
    "from tensorflow.keras.layers import AdditiveAttention"
   ]
  },
  {
   "cell_type": "code",
   "execution_count": 2,
   "id": "138f6eb5",
   "metadata": {},
   "outputs": [],
   "source": [
    "# load data from url\n",
    "urllib.request.urlretrieve(\"https://raw.githubusercontent.com/sunnysai12345/News_Summary/master/news_summary_more.csv\", filename=\"news_summary_more.csv\")\n",
    "data = pd.read_csv('news_summary_more.csv', encoding='iso-8859-1')"
   ]
  },
  {
   "cell_type": "code",
   "execution_count": 3,
   "id": "0c16d842",
   "metadata": {},
   "outputs": [
    {
     "data": {
      "text/html": [
       "<div>\n",
       "<style scoped>\n",
       "    .dataframe tbody tr th:only-of-type {\n",
       "        vertical-align: middle;\n",
       "    }\n",
       "\n",
       "    .dataframe tbody tr th {\n",
       "        vertical-align: top;\n",
       "    }\n",
       "\n",
       "    .dataframe thead th {\n",
       "        text-align: right;\n",
       "    }\n",
       "</style>\n",
       "<table border=\"1\" class=\"dataframe\">\n",
       "  <thead>\n",
       "    <tr style=\"text-align: right;\">\n",
       "      <th></th>\n",
       "      <th>headlines</th>\n",
       "      <th>text</th>\n",
       "    </tr>\n",
       "  </thead>\n",
       "  <tbody>\n",
       "    <tr>\n",
       "      <th>0</th>\n",
       "      <td>upGrad learner switches to career in ML &amp; Al w...</td>\n",
       "      <td>Saurav Kant, an alumnus of upGrad and IIIT-B's...</td>\n",
       "    </tr>\n",
       "    <tr>\n",
       "      <th>1</th>\n",
       "      <td>Delhi techie wins free food from Swiggy for on...</td>\n",
       "      <td>Kunal Shah's credit card bill payment platform...</td>\n",
       "    </tr>\n",
       "    <tr>\n",
       "      <th>2</th>\n",
       "      <td>New Zealand end Rohit Sharma-led India's 12-ma...</td>\n",
       "      <td>New Zealand defeated India by 8 wickets in the...</td>\n",
       "    </tr>\n",
       "    <tr>\n",
       "      <th>3</th>\n",
       "      <td>Aegon life iTerm insurance plan helps customer...</td>\n",
       "      <td>With Aegon Life iTerm Insurance plan, customer...</td>\n",
       "    </tr>\n",
       "    <tr>\n",
       "      <th>4</th>\n",
       "      <td>Have known Hirani for yrs, what if MeToo claim...</td>\n",
       "      <td>Speaking about the sexual harassment allegatio...</td>\n",
       "    </tr>\n",
       "  </tbody>\n",
       "</table>\n",
       "</div>"
      ],
      "text/plain": [
       "                                           headlines  \\\n",
       "0  upGrad learner switches to career in ML & Al w...   \n",
       "1  Delhi techie wins free food from Swiggy for on...   \n",
       "2  New Zealand end Rohit Sharma-led India's 12-ma...   \n",
       "3  Aegon life iTerm insurance plan helps customer...   \n",
       "4  Have known Hirani for yrs, what if MeToo claim...   \n",
       "\n",
       "                                                text  \n",
       "0  Saurav Kant, an alumnus of upGrad and IIIT-B's...  \n",
       "1  Kunal Shah's credit card bill payment platform...  \n",
       "2  New Zealand defeated India by 8 wickets in the...  \n",
       "3  With Aegon Life iTerm Insurance plan, customer...  \n",
       "4  Speaking about the sexual harassment allegatio...  "
      ]
     },
     "execution_count": 3,
     "metadata": {},
     "output_type": "execute_result"
    }
   ],
   "source": [
    "# this data has 2 columns: text(details of the news) and headlnies(summary of the news)\n",
    "# abstractive summarization: use text as main and headlines as summarized version\n",
    "# extractive summarization: only use text column\n",
    "data.head()"
   ]
  },
  {
   "cell_type": "code",
   "execution_count": 4,
   "id": "f915f7d6",
   "metadata": {
    "scrolled": false
   },
   "outputs": [
    {
     "data": {
      "text/html": [
       "<div>\n",
       "<style scoped>\n",
       "    .dataframe tbody tr th:only-of-type {\n",
       "        vertical-align: middle;\n",
       "    }\n",
       "\n",
       "    .dataframe tbody tr th {\n",
       "        vertical-align: top;\n",
       "    }\n",
       "\n",
       "    .dataframe thead th {\n",
       "        text-align: right;\n",
       "    }\n",
       "</style>\n",
       "<table border=\"1\" class=\"dataframe\">\n",
       "  <thead>\n",
       "    <tr style=\"text-align: right;\">\n",
       "      <th></th>\n",
       "      <th>headlines</th>\n",
       "      <th>text</th>\n",
       "    </tr>\n",
       "  </thead>\n",
       "  <tbody>\n",
       "    <tr>\n",
       "      <th>72432</th>\n",
       "      <td>Ensure free basement parking in malls, pvt hos...</td>\n",
       "      <td>The South Delhi Municipal Corporation (SDMC) h...</td>\n",
       "    </tr>\n",
       "    <tr>\n",
       "      <th>76948</th>\n",
       "      <td>Jab Harry Met Sejal lowest opening grosser for...</td>\n",
       "      <td>'Jab Harry Met Sejal', with Ã¢ÂÂ¹15.25 crore ...</td>\n",
       "    </tr>\n",
       "    <tr>\n",
       "      <th>96146</th>\n",
       "      <td>US President Donald Trump is using a new iPhon...</td>\n",
       "      <td>US President Donald Trump is using a new iPhon...</td>\n",
       "    </tr>\n",
       "    <tr>\n",
       "      <th>85103</th>\n",
       "      <td>160 filmmakers, artists write to I&amp;B Minister ...</td>\n",
       "      <td>A letter addressed to the Information and Broa...</td>\n",
       "    </tr>\n",
       "    <tr>\n",
       "      <th>71725</th>\n",
       "      <td>Apple ends its annual music festival after 10 ...</td>\n",
       "      <td>Technology giant Apple has decided to end host...</td>\n",
       "    </tr>\n",
       "    <tr>\n",
       "      <th>80102</th>\n",
       "      <td>Thousands attend neo-Nazi rock concert in Germany</td>\n",
       "      <td>More than 6,000 people attended Germany's larg...</td>\n",
       "    </tr>\n",
       "    <tr>\n",
       "      <th>35833</th>\n",
       "      <td>Andhra CM Naidu compares NDA government to 'Br...</td>\n",
       "      <td>Interacting with TDP leaders, Andhra Pradesh C...</td>\n",
       "    </tr>\n",
       "    <tr>\n",
       "      <th>89499</th>\n",
       "      <td>India's disabled cricketers get contracted at ...</td>\n",
       "      <td>India's top 20 disabled players have been give...</td>\n",
       "    </tr>\n",
       "    <tr>\n",
       "      <th>64585</th>\n",
       "      <td>Haryana govt plans 'PGs for cattle' to boost m...</td>\n",
       "      <td>To allow people living in high-rises and urban...</td>\n",
       "    </tr>\n",
       "    <tr>\n",
       "      <th>46977</th>\n",
       "      <td>Pak cricketer Shahzad shares workout pic with ...</td>\n",
       "      <td>Pakistani batsman Ahmad Shahzad took to Twitte...</td>\n",
       "    </tr>\n",
       "    <tr>\n",
       "      <th>28274</th>\n",
       "      <td>10L Indian traders to protest against Flipkart...</td>\n",
       "      <td>Around 10 lakh traders from across India will ...</td>\n",
       "    </tr>\n",
       "    <tr>\n",
       "      <th>24373</th>\n",
       "      <td>UP teachers demand permanent jobs, tonsure hea...</td>\n",
       "      <td>Many ad-hoc teachers including women tonsured ...</td>\n",
       "    </tr>\n",
       "    <tr>\n",
       "      <th>1805</th>\n",
       "      <td>3 Indian-Americans nominated to key posts in T...</td>\n",
       "      <td>US President Donald Trump has nominated three ...</td>\n",
       "    </tr>\n",
       "    <tr>\n",
       "      <th>1774</th>\n",
       "      <td>40-yr-old businessman who survived 9/11 dies i...</td>\n",
       "      <td>America's 40-year-old businessman Jason Spindl...</td>\n",
       "    </tr>\n",
       "    <tr>\n",
       "      <th>75365</th>\n",
       "      <td>54-yr-old hits 40 runs in last over to win mat...</td>\n",
       "      <td>An arthritic 54-year-old scored 40 runs in the...</td>\n",
       "    </tr>\n",
       "  </tbody>\n",
       "</table>\n",
       "</div>"
      ],
      "text/plain": [
       "                                               headlines  \\\n",
       "72432  Ensure free basement parking in malls, pvt hos...   \n",
       "76948  Jab Harry Met Sejal lowest opening grosser for...   \n",
       "96146  US President Donald Trump is using a new iPhon...   \n",
       "85103  160 filmmakers, artists write to I&B Minister ...   \n",
       "71725  Apple ends its annual music festival after 10 ...   \n",
       "80102  Thousands attend neo-Nazi rock concert in Germany   \n",
       "35833  Andhra CM Naidu compares NDA government to 'Br...   \n",
       "89499  India's disabled cricketers get contracted at ...   \n",
       "64585  Haryana govt plans 'PGs for cattle' to boost m...   \n",
       "46977  Pak cricketer Shahzad shares workout pic with ...   \n",
       "28274  10L Indian traders to protest against Flipkart...   \n",
       "24373  UP teachers demand permanent jobs, tonsure hea...   \n",
       "1805   3 Indian-Americans nominated to key posts in T...   \n",
       "1774   40-yr-old businessman who survived 9/11 dies i...   \n",
       "75365  54-yr-old hits 40 runs in last over to win mat...   \n",
       "\n",
       "                                                    text  \n",
       "72432  The South Delhi Municipal Corporation (SDMC) h...  \n",
       "76948  'Jab Harry Met Sejal', with Ã¢ÂÂ¹15.25 crore ...  \n",
       "96146  US President Donald Trump is using a new iPhon...  \n",
       "85103  A letter addressed to the Information and Broa...  \n",
       "71725  Technology giant Apple has decided to end host...  \n",
       "80102  More than 6,000 people attended Germany's larg...  \n",
       "35833  Interacting with TDP leaders, Andhra Pradesh C...  \n",
       "89499  India's top 20 disabled players have been give...  \n",
       "64585  To allow people living in high-rises and urban...  \n",
       "46977  Pakistani batsman Ahmad Shahzad took to Twitte...  \n",
       "28274  Around 10 lakh traders from across India will ...  \n",
       "24373  Many ad-hoc teachers including women tonsured ...  \n",
       "1805   US President Donald Trump has nominated three ...  \n",
       "1774   America's 40-year-old businessman Jason Spindl...  \n",
       "75365  An arthritic 54-year-old scored 40 runs in the...  "
      ]
     },
     "execution_count": 4,
     "metadata": {},
     "output_type": "execute_result"
    }
   ],
   "source": [
    "# print 15 random samples\n",
    "data.sample(15)"
   ]
  },
  {
   "cell_type": "code",
   "execution_count": 5,
   "id": "1534d7d9",
   "metadata": {},
   "outputs": [
    {
     "name": "stdout",
     "output_type": "stream",
     "text": [
      "Text 열에서 중복을 배제한 유일한 샘플의 수 : 98360\n",
      "Headlines 열에서 중복을 배제한 유일한 샘플의 수 : 98280\n"
     ]
    }
   ],
   "source": [
    "# pandas.DataFrame.nunique: count num of unique elements\n",
    "# checking for num of unique vals\n",
    "print('Text 열에서 중복을 배제한 유일한 샘플의 수 :', data['text'].nunique())\n",
    "print('Headlines 열에서 중복을 배제한 유일한 샘플의 수 :', data['headlines'].nunique())"
   ]
  },
  {
   "cell_type": "code",
   "execution_count": 6,
   "id": "eebdf0d4",
   "metadata": {
    "scrolled": false
   },
   "outputs": [
    {
     "name": "stdout",
     "output_type": "stream",
     "text": [
      "전체 샘플수 : 98360\n"
     ]
    }
   ],
   "source": [
    "# use drop_duplicates to remove any duplicates\n",
    "data.drop_duplicates(subset = ['text'], inplace=True)\n",
    "print('전체 샘플수 :', (len(data)))"
   ]
  },
  {
   "cell_type": "code",
   "execution_count": 7,
   "id": "d73e5d1e",
   "metadata": {},
   "outputs": [
    {
     "name": "stdout",
     "output_type": "stream",
     "text": [
      "headlines    0\n",
      "text         0\n",
      "dtype: int64\n"
     ]
    }
   ],
   "source": [
    "# check for any null vals\n",
    "print(data.isnull().sum())"
   ]
  },
  {
   "cell_type": "code",
   "execution_count": 8,
   "id": "39caa8b3",
   "metadata": {},
   "outputs": [
    {
     "name": "stdout",
     "output_type": "stream",
     "text": [
      "전체 샘플수 : 98360\n"
     ]
    }
   ],
   "source": [
    "# dropna to remove any null val rows\n",
    "data.dropna(axis=0, inplace=True)\n",
    "print('전체 샘플수 :', (len(data)))"
   ]
  },
  {
   "cell_type": "markdown",
   "id": "29dc47aa",
   "metadata": {},
   "source": [
    "## Regex"
   ]
  },
  {
   "cell_type": "code",
   "execution_count": 9,
   "id": "3e1f5719",
   "metadata": {},
   "outputs": [
    {
     "name": "stdout",
     "output_type": "stream",
     "text": [
      "정규화 사전의 수:  120\n"
     ]
    }
   ],
   "source": [
    "# dictionary for text normalization\n",
    "# text normalization: process of transforming text into a single canonical form that it might not have had before\n",
    "# canonical form: standard way of presenting that object as a mathematical expression\n",
    "# mathematical expression: finite combination of symbols that is well-formed according to rules that depend on the context\n",
    "# contraction: words or combinations of words that are shortened by dropping letters and\n",
    "# replacing them by an apostrophe, and removing them contributes to text standardization\n",
    "contractions = {\"ain't\": \"is not\", \"aren't\": \"are not\",\"can't\": \"cannot\", \"'cause\": \"because\", \"could've\": \"could have\", \"couldn't\": \"could not\",\n",
    "               \"didn't\": \"did not\",  \"doesn't\": \"does not\", \"don't\": \"do not\", \"hadn't\": \"had not\", \"hasn't\": \"has not\", \"haven't\": \"have not\",\n",
    "               \"he'd\": \"he would\",\"he'll\": \"he will\", \"he's\": \"he is\", \"how'd\": \"how did\", \"how'd'y\": \"how do you\", \"how'll\": \"how will\", \"how's\": \"how is\",\n",
    "               \"I'd\": \"I would\", \"I'd've\": \"I would have\", \"I'll\": \"I will\", \"I'll've\": \"I will have\",\"I'm\": \"I am\", \"I've\": \"I have\", \"i'd\": \"i would\",\n",
    "               \"i'd've\": \"i would have\", \"i'll\": \"i will\",  \"i'll've\": \"i will have\",\"i'm\": \"i am\", \"i've\": \"i have\", \"isn't\": \"is not\", \"it'd\": \"it would\",\n",
    "               \"it'd've\": \"it would have\", \"it'll\": \"it will\", \"it'll've\": \"it will have\",\"it's\": \"it is\", \"let's\": \"let us\", \"ma'am\": \"madam\",\n",
    "               \"mayn't\": \"may not\", \"might've\": \"might have\",\"mightn't\": \"might not\",\"mightn't've\": \"might not have\", \"must've\": \"must have\",\n",
    "               \"mustn't\": \"must not\", \"mustn't've\": \"must not have\", \"needn't\": \"need not\", \"needn't've\": \"need not have\",\"o'clock\": \"of the clock\",\n",
    "               \"oughtn't\": \"ought not\", \"oughtn't've\": \"ought not have\", \"shan't\": \"shall not\", \"sha'n't\": \"shall not\", \"shan't've\": \"shall not have\",\n",
    "               \"she'd\": \"she would\", \"she'd've\": \"she would have\", \"she'll\": \"she will\", \"she'll've\": \"she will have\", \"she's\": \"she is\",\n",
    "               \"should've\": \"should have\", \"shouldn't\": \"should not\", \"shouldn't've\": \"should not have\", \"so've\": \"so have\",\"so's\": \"so as\",\n",
    "               \"this's\": \"this is\",\"that'd\": \"that would\", \"that'd've\": \"that would have\", \"that's\": \"that is\", \"there'd\": \"there would\",\n",
    "               \"there'd've\": \"there would have\", \"there's\": \"there is\", \"here's\": \"here is\",\"they'd\": \"they would\", \"they'd've\": \"they would have\",\n",
    "               \"they'll\": \"they will\", \"they'll've\": \"they will have\", \"they're\": \"they are\", \"they've\": \"they have\", \"to've\": \"to have\",\n",
    "               \"wasn't\": \"was not\", \"we'd\": \"we would\", \"we'd've\": \"we would have\", \"we'll\": \"we will\", \"we'll've\": \"we will have\", \"we're\": \"we are\",\n",
    "               \"we've\": \"we have\", \"weren't\": \"were not\", \"what'll\": \"what will\", \"what'll've\": \"what will have\", \"what're\": \"what are\",\n",
    "               \"what's\": \"what is\", \"what've\": \"what have\", \"when's\": \"when is\", \"when've\": \"when have\", \"where'd\": \"where did\", \"where's\": \"where is\",\n",
    "               \"where've\": \"where have\", \"who'll\": \"who will\", \"who'll've\": \"who will have\", \"who's\": \"who is\", \"who've\": \"who have\",\n",
    "               \"why's\": \"why is\", \"why've\": \"why have\", \"will've\": \"will have\", \"won't\": \"will not\", \"won't've\": \"will not have\",\n",
    "               \"would've\": \"would have\", \"wouldn't\": \"would not\", \"wouldn't've\": \"would not have\", \"y'all\": \"you all\",\n",
    "               \"y'all'd\": \"you all would\",\"y'all'd've\": \"you all would have\",\"y'all're\": \"you all are\",\"y'all've\": \"you all have\",\n",
    "               \"you'd\": \"you would\", \"you'd've\": \"you would have\", \"you'll\": \"you will\", \"you'll've\": \"you will have\",\n",
    "               \"you're\": \"you are\", \"you've\": \"you have\"}\n",
    "\n",
    "print(\"정규화 사전의 수: \", len(contractions))"
   ]
  },
  {
   "cell_type": "code",
   "execution_count": 10,
   "id": "a8cf9f3c",
   "metadata": {},
   "outputs": [
    {
     "name": "stdout",
     "output_type": "stream",
     "text": [
      "불용어 개수 : 179\n",
      "['i', 'me', 'my', 'myself', 'we', 'our', 'ours', 'ourselves', 'you', \"you're\", \"you've\", \"you'll\", \"you'd\", 'your', 'yours', 'yourself', 'yourselves', 'he', 'him', 'his', 'himself', 'she', \"she's\", 'her', 'hers', 'herself', 'it', \"it's\", 'its', 'itself', 'they', 'them', 'their', 'theirs', 'themselves', 'what', 'which', 'who', 'whom', 'this', 'that', \"that'll\", 'these', 'those', 'am', 'is', 'are', 'was', 'were', 'be', 'been', 'being', 'have', 'has', 'had', 'having', 'do', 'does', 'did', 'doing', 'a', 'an', 'the', 'and', 'but', 'if', 'or', 'because', 'as', 'until', 'while', 'of', 'at', 'by', 'for', 'with', 'about', 'against', 'between', 'into', 'through', 'during', 'before', 'after', 'above', 'below', 'to', 'from', 'up', 'down', 'in', 'out', 'on', 'off', 'over', 'under', 'again', 'further', 'then', 'once', 'here', 'there', 'when', 'where', 'why', 'how', 'all', 'any', 'both', 'each', 'few', 'more', 'most', 'other', 'some', 'such', 'no', 'nor', 'not', 'only', 'own', 'same', 'so', 'than', 'too', 'very', 's', 't', 'can', 'will', 'just', 'don', \"don't\", 'should', \"should've\", 'now', 'd', 'll', 'm', 'o', 're', 've', 'y', 'ain', 'aren', \"aren't\", 'couldn', \"couldn't\", 'didn', \"didn't\", 'doesn', \"doesn't\", 'hadn', \"hadn't\", 'hasn', \"hasn't\", 'haven', \"haven't\", 'isn', \"isn't\", 'ma', 'mightn', \"mightn't\", 'mustn', \"mustn't\", 'needn', \"needn't\", 'shan', \"shan't\", 'shouldn', \"shouldn't\", 'wasn', \"wasn't\", 'weren', \"weren't\", 'won', \"won't\", 'wouldn', \"wouldn't\"]\n"
     ]
    }
   ],
   "source": [
    "# stopwords: commonly used in texts, but not helpful during NLP process\n",
    "# removing stopwords may improve the performance of the NLP\n",
    "print('불용어 개수 :', len(stopwords.words('english') ))\n",
    "print(stopwords.words('english'))"
   ]
  },
  {
   "cell_type": "code",
   "execution_count": 11,
   "id": "7aef1515",
   "metadata": {},
   "outputs": [],
   "source": [
    "# # only prreprocess sentence in text cols, but not in summary cols to have natural sentences\n",
    "# def preprocess_sentence(sentence, remove_stopwords=True):\n",
    "#     sentence = sentence.lower() # lowercase text\n",
    "#     sentence = BeautifulSoup(sentence, \"lxml\").text # remove HTML tags like <br />, <a href = ...>\n",
    "#     sentence = re.sub(r'\\([^)]*\\)', '', sentence) # remove words in parenthesis (...) Ex) my husband (and myself!) for => my husband for\n",
    "#     sentence = re.sub('\"','', sentence) # remove double quotes\n",
    "#     sentence = ' '.join([contractions[t] if t in contractions else t for t in sentence.split(\" \")]) # abbreviage/contraction normalize\n",
    "#     sentence = re.sub(r\"'s\\b\",\"\", sentence) # remove possessive case Ex) roland's -> roland\n",
    "#     sentence = re.sub(\"[^a-zA-Z]\", \" \", sentence) # anything other than Eng, change to blank\n",
    "#     sentence = re.sub('[m]{2,}', 'mm', sentence) # if m is 3 or more, change to 2. Ex) ummmmmmm yeah -> umm yeah\n",
    "    \n",
    "#     # remove stopwords (Text)\n",
    "#     if remove_stopwords:\n",
    "#         tokens = ' '.join(word for word in sentence.split() if not word in stopwords.words('english') if len(word) > 1)\n",
    "#     # don't remove stopwords (Summary)\n",
    "#     else:\n",
    "#         tokens = ' '.join(word for word in sentence.split() if len(word) > 1)\n",
    "#     return tokens"
   ]
  },
  {
   "cell_type": "code",
   "execution_count": 12,
   "id": "56726b9b",
   "metadata": {},
   "outputs": [],
   "source": [
    "# # example sentences after regex\n",
    "# temp_text = 'Everything I bought was great, infact I ordered twice and the third ordered was<br />for my mother and father.'\n",
    "# temp_headlines = 'Great way to start (or finish) the day!!!'\n",
    "\n",
    "# print(\"text: \", preprocess_sentence(temp_text))\n",
    "# print(\"summary:\", preprocess_sentence(temp_headlines, False))  # use param False to not remove stopwords"
   ]
  },
  {
   "cell_type": "code",
   "execution_count": 13,
   "id": "5b6f2491",
   "metadata": {},
   "outputs": [],
   "source": [
    "# # regex text column\n",
    "# clean_text = []\n",
    "# for s in data['text']:\n",
    "#     clean_text.append(preprocess_sentence(s))\n",
    "\n",
    "# print(\"Text 전처리 후 결과: \", clean_text[:5])"
   ]
  },
  {
   "cell_type": "code",
   "execution_count": 14,
   "id": "99be3258",
   "metadata": {},
   "outputs": [],
   "source": [
    "# # regex headlines column\n",
    "# clean_headlines = []\n",
    "# for s in data['headlines']:\n",
    "#     clean_headlines.append(preprocess_sentence(s, False))\n",
    "\n",
    "# print(\"Headlines 전처리 후 결과: \", clean_headlines[:5])"
   ]
  },
  {
   "cell_type": "code",
   "execution_count": 15,
   "id": "052493af",
   "metadata": {},
   "outputs": [],
   "source": [
    "def preprocess_sentence(df:pd.DataFrame, col_name:str, remove_stopwords:bool=True) -> None:\n",
    "    \"\"\"\n",
    "    영어 문장의 내용을 전처리하는 함수\n",
    "    처리전의 내용은 스크렙을 통해 가저온 기사로 가정하고 데이터를 처리한다.\n",
    "    처리과정은 아래의 순서에 따른다.\n",
    "    - 텍스트 소문자화\n",
    "    - 양 옆의 필요없는 whitespace, 개행문자 제거\n",
    "    - \\<br>, \\<a href \\= ...\\> 등의 html 태그 제거\n",
    "    - 괄호로 닫힌 문자열 (...) 제거 Ex) my husband (and myself!) for => my husband for\n",
    "    - 쌍따옴표(\") 제거\n",
    "    - 약어 정규화(`contractions`상수 참고)\n",
    "    - 소유격 제거. Ex) roland's -> roland\n",
    "    - 영어 외 문자(숫자, 특수문자 등) 공백으로 변환\n",
    "    - m이 3개 이상이면 2개로 변경. Ex) ummmmmmm yeah -> umm yeah\n",
    "    - 불용어 제거/미제거\n",
    "\n",
    "    Examples\n",
    "    ----------\n",
    "    >>> df = pd.DataFrame(data=[\n",
    "    >>> [\n",
    "    >>>     '''Saurav Kant, an alumnus of upGrad and IIIT-B's PG Program in Machine learning and Artificial Intelligence, \n",
    "    >>>     was a Sr Systems Engineer at Infosys with almost 5 years of work experience.'''\n",
    "    >>>     '''Kunal Shah's credit card bill payment platform, CRED, gave users a chance to win free food from Swiggy for one year.'''\n",
    "    >>> ],[\n",
    "    >>>     '''upGrad learner switches to career in ML & Al with 90% salary hike''',\n",
    "    >>>     '''Delhi techie wins free food from Swiggy for one year on CRED'''\n",
    "    >>> ]\n",
    "    >>> ], columns=['text', 'summary'])\n",
    "    >>> preprocess_sentence(df, 'text')\n",
    "    >>> print(df['text'])\n",
    "    \n",
    "    Parameters\n",
    "    ----------\n",
    "    df : DataFrame\n",
    "        영어로 써있는 문장이 들어가있는 데이터프레임\n",
    "    col_name : str\n",
    "        전처리할 컬럼의 이름\n",
    "    remove_stopwords : bool, default = True\n",
    "        불용어 삭제여부\n",
    "\n",
    "    Returns\n",
    "    -------\n",
    "    None\n",
    "\n",
    "    \"\"\"\n",
    "    stopwords_eng_dict=set(stopwords.words('english'))\n",
    "    df[col_name] = df[col_name].str.lower()\n",
    "    df[col_name] = df[col_name].str.strip()\n",
    "    df[col_name] = BeautifulSoup(\"\\n\".join(df[col_name].to_list()), \"lxml\").text.split(\"\\n\")\n",
    "    df[col_name] = df[col_name].replace(r\"\\([^)]*\\)\", \"\", regex=True)\n",
    "    df[col_name] = df[col_name].replace(r\"'s\\b\",\"\", regex=True)\n",
    "    df[col_name] = [\n",
    "                     \" \".join([\n",
    "                         contractions.get(w, w)\n",
    "                         for w in l\n",
    "                         ]) for l in df[col_name].str.split()\n",
    "                    ]\n",
    "    df[col_name] = df[col_name].replace(\"[^a-zA-Z]\", \" \", regex=True)\n",
    "    df[col_name] = df[col_name].replace(\"[m]{2,}\", \"mm\", regex=True)\n",
    "    if remove_stopwords:\n",
    "        df[col_name] = [\n",
    "                        \" \".join([\n",
    "                                w for w in l\n",
    "                                if (not w in stopwords_eng_dict\n",
    "                                and len(w) > 1)\n",
    "                            ]) for l in df[col_name].str.split()\n",
    "                        ]\n",
    "    else:\n",
    "        df[col_name] = [\n",
    "                        \" \".join([\n",
    "                                w for w in l\n",
    "                                if len(w) > 1\n",
    "                            ]) for l in df[col_name].str.split()\n",
    "                        ]\n",
    "    df[col_name] = df[col_name].str.strip()"
   ]
  },
  {
   "cell_type": "code",
   "execution_count": 16,
   "id": "00dc0763",
   "metadata": {},
   "outputs": [
    {
     "name": "stdout",
     "output_type": "stream",
     "text": [
      "Text 전처리 후 결과:  saurav kant alumnus upgrad iiit pg program machine learning artificial intelligence sr systems engineer infosys almost years work experience program upgrad degree career support helped transition data scientist tech mahindra salary hike upgrad online power learning powered lakh careers\n"
     ]
    }
   ],
   "source": [
    "# regex text column\n",
    "preprocess_sentence(data, 'text')\n",
    "\n",
    "print(\"Text 전처리 후 결과: \", data['text'][0])"
   ]
  },
  {
   "cell_type": "code",
   "execution_count": 17,
   "id": "04eb876a",
   "metadata": {},
   "outputs": [
    {
     "name": "stdout",
     "output_type": "stream",
     "text": [
      "Headlines 전처리 후 결과:  upgrad learner switches to career in ml al with salary hike\n"
     ]
    }
   ],
   "source": [
    "# regex headlines column\n",
    "preprocess_sentence(data, 'headlines', False)\n",
    "\n",
    "print(\"Headlines 전처리 후 결과: \", data['headlines'][0])"
   ]
  },
  {
   "cell_type": "code",
   "execution_count": 18,
   "id": "6a4d2a0c",
   "metadata": {},
   "outputs": [],
   "source": [
    "# cross-check whether there are any empty samples as there might be some after regex\n",
    "# change empty vals to Null if any\n",
    "data.replace('', np.nan, inplace=True)"
   ]
  },
  {
   "cell_type": "code",
   "execution_count": 19,
   "id": "717403d6",
   "metadata": {},
   "outputs": [
    {
     "data": {
      "text/plain": [
       "headlines    0\n",
       "text         0\n",
       "dtype: int64"
      ]
     },
     "execution_count": 19,
     "metadata": {},
     "output_type": "execute_result"
    }
   ],
   "source": [
    "data.isnull().sum()"
   ]
  },
  {
   "cell_type": "code",
   "execution_count": 20,
   "id": "403523bd",
   "metadata": {},
   "outputs": [
    {
     "name": "stdout",
     "output_type": "stream",
     "text": [
      "전체 샘플수 : 98360\n"
     ]
    }
   ],
   "source": [
    "data.dropna(axis=0, inplace=True)\n",
    "print('전체 샘플수 :', (len(data)))"
   ]
  },
  {
   "cell_type": "markdown",
   "id": "ec6fa6d7",
   "metadata": {},
   "source": [
    "# Max length and encoder decoder"
   ]
  },
  {
   "cell_type": "code",
   "execution_count": 21,
   "id": "311a382e",
   "metadata": {},
   "outputs": [
    {
     "name": "stdout",
     "output_type": "stream",
     "text": [
      "텍스트의 최소 길이 : 1\n",
      "텍스트의 최대 길이 : 60\n",
      "텍스트의 평균 길이 : 35.0970109800732\n",
      "요약의 최소 길이 : 1\n",
      "요약의 최대 길이 : 16\n",
      "요약의 평균 길이 : 9.29447946319642\n"
     ]
    },
    {
     "data": {
      "image/png": "[encoded data removed]",
      "text/plain": [
       "<Figure size 432x288 with 2 Axes>"
      ]
     },
     "metadata": {
      "needs_background": "light"
     },
     "output_type": "display_data"
    },
    {
     "data": {
      "image/png": "[encoded data removed]",
      "text/plain": [
       "<Figure size 432x288 with 1 Axes>"
      ]
     },
     "metadata": {
      "needs_background": "light"
     },
     "output_type": "display_data"
    },
    {
     "data": {
      "image/png": "[encoded data removed]",
      "text/plain": [
       "<Figure size 432x288 with 1 Axes>"
      ]
     },
     "metadata": {
      "needs_background": "light"
     },
     "output_type": "display_data"
    }
   ],
   "source": [
    "# choose max sample length\n",
    "# best to visualize min, max, mean length of text and headlines\n",
    "import matplotlib.pyplot as plt\n",
    "\n",
    "text_len = [len(s.split()) for s in data['text']]\n",
    "headlines_len = [len(s.split()) for s in data['headlines']]\n",
    "\n",
    "print('텍스트의 최소 길이 : {}'.format(np.min(text_len)))\n",
    "print('텍스트의 최대 길이 : {}'.format(np.max(text_len)))\n",
    "print('텍스트의 평균 길이 : {}'.format(np.mean(text_len)))\n",
    "print('요약의 최소 길이 : {}'.format(np.min(headlines_len)))\n",
    "print('요약의 최대 길이 : {}'.format(np.max(headlines_len)))\n",
    "print('요약의 평균 길이 : {}'.format(np.mean(headlines_len)))\n",
    "\n",
    "plt.subplot(1,2,1)\n",
    "plt.boxplot(text_len)\n",
    "plt.title('Text')\n",
    "plt.subplot(1,2,2)\n",
    "plt.boxplot(headlines_len)\n",
    "plt.title('Headlines')\n",
    "plt.tight_layout()\n",
    "plt.show()\n",
    "\n",
    "plt.title('Text')\n",
    "plt.hist(text_len, bins = 40)\n",
    "plt.xlabel('length of samples')\n",
    "plt.ylabel('number of samples')\n",
    "plt.show()\n",
    "\n",
    "plt.title('Headlines')\n",
    "plt.hist(headlines_len, bins = 40)\n",
    "plt.xlabel('length of samples')\n",
    "plt.ylabel('number of samples')\n",
    "plt.show()"
   ]
  },
  {
   "cell_type": "code",
   "execution_count": 22,
   "id": "cdaa5ab8",
   "metadata": {},
   "outputs": [],
   "source": [
    "# arbitrary text max len and headlines max len\n",
    "text_max_len = 50\n",
    "headlines_max_len = 10"
   ]
  },
  {
   "cell_type": "code",
   "execution_count": 23,
   "id": "987555fe",
   "metadata": {},
   "outputs": [],
   "source": [
    "# function to see how many samples will be included without clipping\n",
    "def below_threshold_len(max_len, nested_list):\n",
    "    cnt = 0\n",
    "    for s in nested_list:\n",
    "        if(len(s.split()) <= max_len):\n",
    "            cnt = cnt + 1\n",
    "    print('전체 샘플 중 길이가 %s 이하인 샘플의 비율: %s'%(max_len, (cnt / len(nested_list))))"
   ]
  },
  {
   "cell_type": "code",
   "execution_count": 24,
   "id": "77ec2dea",
   "metadata": {},
   "outputs": [
    {
     "name": "stdout",
     "output_type": "stream",
     "text": [
      "전체 샘플 중 길이가 50 이하인 샘플의 비율: 0.9998576657177715\n",
      "전체 샘플 중 길이가 10 이하인 샘플의 비율: 0.8180866205774705\n"
     ]
    }
   ],
   "source": [
    "below_threshold_len(text_max_len, data['text'])\n",
    "below_threshold_len(headlines_max_len,  data['headlines'])"
   ]
  },
  {
   "cell_type": "code",
   "execution_count": 25,
   "id": "6f0cf26c",
   "metadata": {},
   "outputs": [
    {
     "name": "stdout",
     "output_type": "stream",
     "text": [
      "전체 샘플수 : 80456\n"
     ]
    }
   ],
   "source": [
    "# skip sentences that are longer than chosen max length\n",
    "data = data[data['text'].apply(lambda x: len(x.split()) <= text_max_len)]\n",
    "data = data[data['headlines'].apply(lambda x: len(x.split()) <= headlines_max_len)]\n",
    "print('전체 샘플수 :', (len(data)))"
   ]
  },
  {
   "cell_type": "code",
   "execution_count": 26,
   "id": "8a815ee3",
   "metadata": {},
   "outputs": [
    {
     "data": {
      "text/html": [
       "<div>\n",
       "<style scoped>\n",
       "    .dataframe tbody tr th:only-of-type {\n",
       "        vertical-align: middle;\n",
       "    }\n",
       "\n",
       "    .dataframe tbody tr th {\n",
       "        vertical-align: top;\n",
       "    }\n",
       "\n",
       "    .dataframe thead th {\n",
       "        text-align: right;\n",
       "    }\n",
       "</style>\n",
       "<table border=\"1\" class=\"dataframe\">\n",
       "  <thead>\n",
       "    <tr style=\"text-align: right;\">\n",
       "      <th></th>\n",
       "      <th>headlines</th>\n",
       "      <th>text</th>\n",
       "      <th>decoder_input</th>\n",
       "      <th>decoder_target</th>\n",
       "    </tr>\n",
       "  </thead>\n",
       "  <tbody>\n",
       "    <tr>\n",
       "      <th>2</th>\n",
       "      <td>new zealand end rohit sharma led india match w...</td>\n",
       "      <td>new zealand defeated india wickets fourth odi ...</td>\n",
       "      <td>sostoken new zealand end rohit sharma led indi...</td>\n",
       "      <td>new zealand end rohit sharma led india match w...</td>\n",
       "    </tr>\n",
       "    <tr>\n",
       "      <th>3</th>\n",
       "      <td>aegon life iterm insurance plan helps customer...</td>\n",
       "      <td>aegon life iterm insurance plan customers enjo...</td>\n",
       "      <td>sostoken aegon life iterm insurance plan helps...</td>\n",
       "      <td>aegon life iterm insurance plan helps customer...</td>\n",
       "    </tr>\n",
       "    <tr>\n",
       "      <th>5</th>\n",
       "      <td>rahat fateh ali khan denies getting notice for...</td>\n",
       "      <td>pakistani singer rahat fateh ali khan denied r...</td>\n",
       "      <td>sostoken rahat fateh ali khan denies getting n...</td>\n",
       "      <td>rahat fateh ali khan denies getting notice for...</td>\n",
       "    </tr>\n",
       "    <tr>\n",
       "      <th>9</th>\n",
       "      <td>cong wins ramgarh bypoll in rajasthan takes to...</td>\n",
       "      <td>congress candidate shafia zubair ramgarh assem...</td>\n",
       "      <td>sostoken cong wins ramgarh bypoll in rajasthan...</td>\n",
       "      <td>cong wins ramgarh bypoll in rajasthan takes to...</td>\n",
       "    </tr>\n",
       "    <tr>\n",
       "      <th>10</th>\n",
       "      <td>up cousins fed human excreta for friendship wi...</td>\n",
       "      <td>two minor cousins uttar pradesh gorakhpur alle...</td>\n",
       "      <td>sostoken up cousins fed human excreta for frie...</td>\n",
       "      <td>up cousins fed human excreta for friendship wi...</td>\n",
       "    </tr>\n",
       "  </tbody>\n",
       "</table>\n",
       "</div>"
      ],
      "text/plain": [
       "                                            headlines  \\\n",
       "2   new zealand end rohit sharma led india match w...   \n",
       "3   aegon life iterm insurance plan helps customer...   \n",
       "5   rahat fateh ali khan denies getting notice for...   \n",
       "9   cong wins ramgarh bypoll in rajasthan takes to...   \n",
       "10  up cousins fed human excreta for friendship wi...   \n",
       "\n",
       "                                                 text  \\\n",
       "2   new zealand defeated india wickets fourth odi ...   \n",
       "3   aegon life iterm insurance plan customers enjo...   \n",
       "5   pakistani singer rahat fateh ali khan denied r...   \n",
       "9   congress candidate shafia zubair ramgarh assem...   \n",
       "10  two minor cousins uttar pradesh gorakhpur alle...   \n",
       "\n",
       "                                        decoder_input  \\\n",
       "2   sostoken new zealand end rohit sharma led indi...   \n",
       "3   sostoken aegon life iterm insurance plan helps...   \n",
       "5   sostoken rahat fateh ali khan denies getting n...   \n",
       "9   sostoken cong wins ramgarh bypoll in rajasthan...   \n",
       "10  sostoken up cousins fed human excreta for frie...   \n",
       "\n",
       "                                       decoder_target  \n",
       "2   new zealand end rohit sharma led india match w...  \n",
       "3   aegon life iterm insurance plan helps customer...  \n",
       "5   rahat fateh ali khan denies getting notice for...  \n",
       "9   cong wins ramgarh bypoll in rajasthan takes to...  \n",
       "10  up cousins fed human excreta for friendship wi...  "
      ]
     },
     "execution_count": 26,
     "metadata": {},
     "output_type": "execute_result"
    }
   ],
   "source": [
    "# with seq2seq training, need to add 'sos' to decoder input and 'eos' to decoder target from headlines column\n",
    "data['decoder_input'] = data['headlines'].apply(lambda x : 'sostoken '+ x)\n",
    "data['decoder_target'] = data['headlines'].apply(lambda x : x + ' eostoken')\n",
    "data.head()"
   ]
  },
  {
   "cell_type": "code",
   "execution_count": 27,
   "id": "2c39bdd3",
   "metadata": {},
   "outputs": [],
   "source": [
    "# save in np.array format\n",
    "encoder_input = np.array(data['text']) # encoder input\n",
    "decoder_input = np.array(data['decoder_input']) # decoder input\n",
    "decoder_target = np.array(data['decoder_target']) # decoder label"
   ]
  },
  {
   "cell_type": "markdown",
   "id": "905d8e0e",
   "metadata": {},
   "source": [
    "# Train test split"
   ]
  },
  {
   "cell_type": "code",
   "execution_count": 28,
   "id": "8859fc91",
   "metadata": {},
   "outputs": [
    {
     "name": "stdout",
     "output_type": "stream",
     "text": [
      "new zealand defeated india wickets fourth odi hamilton thursday win first match five match odi series india lost international match rohit sharma captaincy consecutive victories dating back march match witnessed india getting seventh lowest total odi cricket history\n",
      "80456\n",
      "[63602  6633 34369 ... 18272 53941 42889]\n"
     ]
    }
   ],
   "source": [
    "# this time split by manual coding\n",
    "# create mixed int sequence with the size of encoder input\n",
    "indices = np.arange(encoder_input.shape[0]) # indices = np.arange(80456)\n",
    "np.random.shuffle(indices) # shuffle 80456\n",
    "print(encoder_input[0])\n",
    "print(encoder_input.shape[0])\n",
    "print(indices)"
   ]
  },
  {
   "cell_type": "code",
   "execution_count": 29,
   "id": "81e2e0f4",
   "metadata": {},
   "outputs": [
    {
     "name": "stdout",
     "output_type": "stream",
     "text": [
      "pre ['new zealand defeated india wickets fourth odi hamilton thursday win first match five match odi series india lost international match rohit sharma captaincy consecutive victories dating back march match witnessed india getting seventh lowest total odi cricket history'\n",
      " 'aegon life iterm insurance plan customers enjoy tax benefits premiums paid save taxes plan provides life cover age years also customers options insure critical illnesses disability accidental death benefit rider life cover age years'\n",
      " 'pakistani singer rahat fateh ali khan denied receiving notice enforcement directorate allegedly smuggling foreign currency india would better authorities would served notice first publicised reads press release issued behalf rahat statement called allegation bizarre'\n",
      " ...\n",
      " 'uff yeh first song sonakshi sinha starrer upcoming drama film noor released song composed amaal mallik vocals armaan malik lyrics manoj muntashir sonakshi seen portraying pakistani journalist writer film directed sunhil sippy film scheduled release april'\n",
      " 'according reports new version science fiction film matrix development michael jordan reportedly play lead role film screenwriter zak penn talks write script film reports added actor keanu reeves starred original film followed two sequels'\n",
      " 'madhesi morcha alliance seven political parties withdrawn support pm pushpa kamal dahal led nepal government failed meet seven day ultimatum fulfil demands including endorsement revised constitution amendment bill morcha seats parliament despite withdrawal support immediate threat government']\n",
      "\n",
      "post ['comedian television host krushna abhishek said kapil sharma gives one liners adding performances said perform one hour show perform one hour difference us however krushna clarified problem kapil'\n",
      " 'commercial satellite network planet tweeted picture gujarat metre tall statue unity world tallest statue photographed space november memorial inaugurated october honour sardar vallabhbhai patel rd birth anniversary built crore bronze sculpture nearly twice height us statue liberty'\n",
      " 'russian president vladimir putin announced online contest citizens suggest names new nuclear weapons peace envoy boomerang drowned goodbye america sanctions among names suggested people weapons government reportedly received suggestions website first hours contest announced'\n",
      " ...\n",
      " 'tom gruber last three voice assistant siri co founders still apple quit role company product design group year old pursue personal interests photography ocean conservation according reports comes days apple appointed google former ai head john giannandrea head siri development'\n",
      " 'five acid attack victims transgender wednesday joined jobs delhi high court plight brought notice acting chief justice gita mittal first kind decision taken six given clerical jobs per qualifications hc administration said'\n",
      " 'us ambassador nikki haley thursday said us remember day singled un general assembly voted reject us recognition jerusalem israel capital adding vote affect us decision haley said vote make difference americans look un']\n"
     ]
    }
   ],
   "source": [
    "# shuffle samples with int sequence\n",
    "print('pre', encoder_input)\n",
    "encoder_input = encoder_input[indices]\n",
    "decoder_input = decoder_input[indices]\n",
    "decoder_target = decoder_target[indices]\n",
    "print()\n",
    "print('post', encoder_input)"
   ]
  },
  {
   "cell_type": "code",
   "execution_count": 30,
   "id": "39c1c0f5",
   "metadata": {},
   "outputs": [
    {
     "name": "stdout",
     "output_type": "stream",
     "text": [
      "테스트 데이터의 수 : 16091\n"
     ]
    }
   ],
   "source": [
    "# find 20% of the length of encoder input\n",
    "n_of_val = int(len(encoder_input)*0.2)\n",
    "print('테스트 데이터의 수 :', n_of_val)"
   ]
  },
  {
   "cell_type": "code",
   "execution_count": 31,
   "id": "cddaeefe",
   "metadata": {},
   "outputs": [
    {
     "name": "stdout",
     "output_type": "stream",
     "text": [
      "훈련 데이터의 개수 : 64365\n",
      "훈련 레이블의 개수 : 64365\n",
      "테스트 데이터의 개수 : 16091\n",
      "테스트 레이블의 개수 : 16091\n"
     ]
    }
   ],
   "source": [
    "# split data into train and test\n",
    "encoder_input_train = encoder_input[:-n_of_val]\n",
    "decoder_input_train = decoder_input[:-n_of_val]\n",
    "decoder_target_train = decoder_target[:-n_of_val]\n",
    "\n",
    "encoder_input_test = encoder_input[-n_of_val:]\n",
    "decoder_input_test = decoder_input[-n_of_val:]\n",
    "decoder_target_test = decoder_target[-n_of_val:]\n",
    "\n",
    "print('훈련 데이터의 개수 :', len(encoder_input_train))\n",
    "print('훈련 레이블의 개수 :', len(decoder_input_train))\n",
    "print('테스트 데이터의 개수 :', len(encoder_input_test))\n",
    "print('테스트 레이블의 개수 :', len(decoder_input_test))"
   ]
  },
  {
   "cell_type": "markdown",
   "id": "97d9c7fd",
   "metadata": {},
   "source": [
    "# Tokenization"
   ]
  },
  {
   "cell_type": "code",
   "execution_count": 32,
   "id": "933319b2",
   "metadata": {},
   "outputs": [],
   "source": [
    "# Keras tokenizer will create vocabulary\n",
    "src_tokenizer = Tokenizer()\n",
    "src_tokenizer.fit_on_texts(encoder_input_train) # create vocab from input data"
   ]
  },
  {
   "cell_type": "code",
   "execution_count": 33,
   "id": "f46dd68e",
   "metadata": {},
   "outputs": [
    {
     "name": "stdout",
     "output_type": "stream",
     "text": [
      "단어 집합(vocabulary)의 크기 : 64988\n",
      "등장 빈도가 6번 이하인 희귀 단어의 수: 44661\n",
      "단어 집합에서 희귀 단어를 제외시킬 경우의 단어 집합의 크기: 20327\n",
      "단어 집합에서 희귀 단어의 비율: 68.721917892534\n",
      "전체 등장 빈도에서 희귀 단어 등장 빈도 비율: 4.015866899060643\n"
     ]
    }
   ],
   "source": [
    "# set threshold to see how many repeated words under the threshold take part in data \n",
    "# src_tokenizer.word_counts.items() saves words and count of words, so it's a good way to retrieve stats from it\n",
    "\n",
    "threshold = 7\n",
    "total_cnt = len(src_tokenizer.word_index) # vocab amount\n",
    "rare_cnt = 0 # count if the words appear less than the set threshold\n",
    "total_freq = 0 # count total words appearance from train data\n",
    "rare_freq = 0 # if rare word apperance\n",
    "\n",
    "# receive word and frequency as key value pair\n",
    "for key, value in src_tokenizer.word_counts.items():\n",
    "    total_freq = total_freq + value\n",
    "\n",
    "    # if word count is less than the threshold\n",
    "    if(value < threshold):\n",
    "        rare_cnt = rare_cnt + 1\n",
    "        rare_freq = rare_freq + value\n",
    "\n",
    "print('단어 집합(vocabulary)의 크기 :', total_cnt)\n",
    "print('등장 빈도가 %s번 이하인 희귀 단어의 수: %s'%(threshold - 1, rare_cnt))\n",
    "print('단어 집합에서 희귀 단어를 제외시킬 경우의 단어 집합의 크기: %s'%(total_cnt - rare_cnt))\n",
    "print(\"단어 집합에서 희귀 단어의 비율:\", (rare_cnt / total_cnt)*100)\n",
    "print(\"전체 등장 빈도에서 희귀 단어 등장 빈도 비율:\", (rare_freq / total_freq)*100)\n",
    "\n",
    "# percentage of word count that's less than 6 counts as approx 68%\n",
    "# but frequency only consists of 4%"
   ]
  },
  {
   "cell_type": "code",
   "execution_count": 34,
   "id": "5690cced",
   "metadata": {},
   "outputs": [],
   "source": [
    "# remove any words with word count less than 7 from int encoding process\n",
    "# now vocab reduces to 20000\n",
    "# set num_words to limit the vocab\n",
    "src_vocab = 20000\n",
    "src_tokenizer = Tokenizer(num_words=src_vocab)\n",
    "src_tokenizer.fit_on_texts(encoder_input_train) # regenerate word vocab"
   ]
  },
  {
   "cell_type": "code",
   "execution_count": 35,
   "id": "54bc1c8a",
   "metadata": {},
   "outputs": [
    {
     "name": "stdout",
     "output_type": "stream",
     "text": [
      "[[1878, 939, 1325, 9394, 1742, 1, 1023, 274, 2309, 18, 128, 5403, 1, 2005, 18, 799, 184, 2005, 18, 799, 3278, 6, 100, 9394, 1621, 1398, 1023], [1455, 1480, 869, 1602, 84, 172, 380, 1531, 3301, 1414, 4434, 19, 4931, 1414, 6886, 272, 496, 3676, 2378, 484, 1496, 5463, 13425, 1226, 2662, 903, 1026, 792, 17, 2029, 5339, 159, 1514, 3619, 6, 1414, 8806], [300, 16, 1635, 1060, 80, 182, 1546, 833, 3058, 1210, 22, 388, 1006, 949, 5996, 16841, 6322, 13426, 1591, 954, 149, 1210, 731, 9, 1006, 8, 20, 250, 6067, 809, 10, 276, 1546, 80]]\n"
     ]
    }
   ],
   "source": [
    "# texts_to_sequences: change words to int\n",
    "# since word limited to 20000, anything after won't exist\n",
    "\n",
    "encoder_input_train = src_tokenizer.texts_to_sequences(encoder_input_train) \n",
    "encoder_input_test = src_tokenizer.texts_to_sequences(encoder_input_test)\n",
    "\n",
    "# print samples\n",
    "print(encoder_input_train[:3])"
   ]
  },
  {
   "cell_type": "code",
   "execution_count": 36,
   "id": "8f26dcd7",
   "metadata": {},
   "outputs": [],
   "source": [
    "# same process goes for decoder\n",
    "tar_tokenizer = Tokenizer()\n",
    "tar_tokenizer.fit_on_texts(decoder_input_train)"
   ]
  },
  {
   "cell_type": "code",
   "execution_count": 37,
   "id": "4444f2e6",
   "metadata": {},
   "outputs": [
    {
     "name": "stdout",
     "output_type": "stream",
     "text": [
      "단어 집합(vocabulary)의 크기 : 28298\n",
      "등장 빈도가 4번 이하인 희귀 단어의 수: 17740\n",
      "단어 집합에서 희귀 단어를 제외시킬 경우의 단어 집합의 크기 10558\n",
      "단어 집합에서 희귀 단어의 비율: 62.68994275213796\n",
      "전체 등장 빈도에서 희귀 단어 등장 빈도 비율: 4.850802278455012\n"
     ]
    }
   ],
   "source": [
    "# set threshold to see how many repeated words under the threshold take part in data \n",
    "# tar_tokenizer.word_counts.items() saves words and count of words, so it's a good way to retrieve stats from it\n",
    "\n",
    "threshold = 5\n",
    "total_cnt = len(tar_tokenizer.word_index) # vocab amount\n",
    "rare_cnt = 0 # count if the words appear less than the set threshold\n",
    "total_freq = 0 # count total words appearance from train data\n",
    "rare_freq = 0 # if rare word apperance\n",
    "\n",
    "# receive word and frequency as key value pair\n",
    "for key, value in tar_tokenizer.word_counts.items():\n",
    "    total_freq = total_freq + value\n",
    "\n",
    "    # if word count is less than the threshold\n",
    "    if(value < threshold):\n",
    "        rare_cnt = rare_cnt + 1\n",
    "        rare_freq = rare_freq + value\n",
    "\n",
    "print('단어 집합(vocabulary)의 크기 :', total_cnt)\n",
    "print('등장 빈도가 %s번 이하인 희귀 단어의 수: %s'%(threshold - 1, rare_cnt))\n",
    "print('단어 집합에서 희귀 단어를 제외시킬 경우의 단어 집합의 크기 %s'%(total_cnt - rare_cnt))\n",
    "print(\"단어 집합에서 희귀 단어의 비율:\", (rare_cnt / total_cnt)*100)\n",
    "print(\"전체 등장 빈도에서 희귀 단어 등장 빈도 비율:\", (rare_freq / total_freq)*100)"
   ]
  },
  {
   "cell_type": "code",
   "execution_count": 38,
   "id": "9b82c4a0",
   "metadata": {},
   "outputs": [
    {
     "name": "stdout",
     "output_type": "stream",
     "text": [
      "input\n",
      "input  [[1, 532, 498, 403, 154, 145, 9505, 6044], [1, 9, 657, 6, 4392, 6415, 13, 302, 867, 208], [1, 115, 315, 251, 911, 3, 361, 34, 358, 1217], [1, 6416, 1063, 53, 2582, 2038, 17, 1125, 3456, 6884, 8662], [1, 1996, 112, 815, 1105, 127, 251, 3163, 5, 889]]\n",
      "target\n",
      "decoder  [[532, 498, 403, 154, 145, 9505, 6044, 2], [9, 657, 6, 4392, 6415, 13, 302, 867, 208, 2], [115, 315, 251, 911, 3, 361, 34, 358, 1217, 2], [6416, 1063, 53, 2582, 2038, 17, 1125, 3456, 6884, 8662, 2], [1996, 112, 815, 1105, 127, 251, 3163, 5, 889, 2]]\n"
     ]
    }
   ],
   "source": [
    "tar_vocab = 10000\n",
    "tar_tokenizer = Tokenizer(num_words=tar_vocab) \n",
    "tar_tokenizer.fit_on_texts(decoder_input_train)\n",
    "tar_tokenizer.fit_on_texts(decoder_target_train)\n",
    "\n",
    "decoder_input_train = tar_tokenizer.texts_to_sequences(decoder_input_train) \n",
    "decoder_target_train = tar_tokenizer.texts_to_sequences(decoder_target_train)\n",
    "decoder_input_test = tar_tokenizer.texts_to_sequences(decoder_input_test)\n",
    "decoder_target_test = tar_tokenizer.texts_to_sequences(decoder_target_test)\n",
    "\n",
    "print('input')\n",
    "print('input ',decoder_input_train[:5])\n",
    "print('target')\n",
    "print('decoder ',decoder_target_train[:5])"
   ]
  },
  {
   "cell_type": "code",
   "execution_count": 39,
   "id": "fbfdd6f0",
   "metadata": {},
   "outputs": [
    {
     "name": "stdout",
     "output_type": "stream",
     "text": [
      "삭제할 훈련 데이터의 개수 : 0\n",
      "삭제할 테스트 데이터의 개수 : 0\n",
      "훈련 데이터의 개수 : 64365\n",
      "훈련 레이블의 개수 : 64365\n",
      "테스트 데이터의 개수 : 16091\n",
      "테스트 레이블의 개수 : 16091\n"
     ]
    }
   ],
   "source": [
    "# removing less frequently used words, can lead to empty samples, especially with headlines since it contains 6 words or less\n",
    "# thus need to remove rows with empty(or only contain 'sostoken' / 'eostoken') samples\n",
    "drop_train = [index for index, sentence in enumerate(decoder_input_train) if len(sentence) == 1]\n",
    "drop_test = [index for index, sentence in enumerate(decoder_input_test) if len(sentence) == 1]\n",
    "\n",
    "print('삭제할 훈련 데이터의 개수 :', len(drop_train))\n",
    "print('삭제할 테스트 데이터의 개수 :', len(drop_test))\n",
    "\n",
    "encoder_input_train = [sentence for index, sentence in enumerate(encoder_input_train) if index not in drop_train]\n",
    "decoder_input_train = [sentence for index, sentence in enumerate(decoder_input_train) if index not in drop_train]\n",
    "decoder_target_train = [sentence for index, sentence in enumerate(decoder_target_train) if index not in drop_train]\n",
    "\n",
    "encoder_input_test = [sentence for index, sentence in enumerate(encoder_input_test) if index not in drop_test]\n",
    "decoder_input_test = [sentence for index, sentence in enumerate(decoder_input_test) if index not in drop_test]\n",
    "decoder_target_test = [sentence for index, sentence in enumerate(decoder_target_test) if index not in drop_test]\n",
    "\n",
    "print('훈련 데이터의 개수 :', len(encoder_input_train))\n",
    "print('훈련 레이블의 개수 :', len(decoder_input_train))\n",
    "print('테스트 데이터의 개수 :', len(encoder_input_test))\n",
    "print('테스트 레이블의 개수 :', len(decoder_input_test))"
   ]
  },
  {
   "cell_type": "code",
   "execution_count": 40,
   "id": "7b9bf109",
   "metadata": {},
   "outputs": [],
   "source": [
    "# add padding sequence\n",
    "encoder_input_train = pad_sequences(encoder_input_train, maxlen=text_max_len, padding='post')\n",
    "encoder_input_test = pad_sequences(encoder_input_test, maxlen=text_max_len, padding='post')\n",
    "decoder_input_train = pad_sequences(decoder_input_train, maxlen=headlines_max_len, padding='post')\n",
    "decoder_target_train = pad_sequences(decoder_target_train, maxlen=headlines_max_len, padding='post')\n",
    "decoder_input_test = pad_sequences(decoder_input_test, maxlen=headlines_max_len, padding='post')\n",
    "decoder_target_test = pad_sequences(decoder_target_test, maxlen=headlines_max_len, padding='post')"
   ]
  },
  {
   "cell_type": "markdown",
   "id": "e7b531bd",
   "metadata": {},
   "source": [
    "# Model construction"
   ]
  },
  {
   "cell_type": "code",
   "execution_count": 41,
   "id": "eff0384e",
   "metadata": {},
   "outputs": [
    {
     "name": "stdout",
     "output_type": "stream",
     "text": [
      "WARNING:tensorflow:Layer lstm will not use cuDNN kernels since it doesn't meet the criteria. It will use a generic GPU kernel as fallback when running on GPU.\n",
      "WARNING:tensorflow:Layer lstm will not use cuDNN kernels since it doesn't meet the criteria. It will use a generic GPU kernel as fallback when running on GPU.\n",
      "WARNING:tensorflow:Layer lstm will not use cuDNN kernels since it doesn't meet the criteria. It will use a generic GPU kernel as fallback when running on GPU.\n",
      "WARNING:tensorflow:Layer lstm_1 will not use cuDNN kernels since it doesn't meet the criteria. It will use a generic GPU kernel as fallback when running on GPU.\n",
      "WARNING:tensorflow:Layer lstm_1 will not use cuDNN kernels since it doesn't meet the criteria. It will use a generic GPU kernel as fallback when running on GPU.\n",
      "WARNING:tensorflow:Layer lstm_1 will not use cuDNN kernels since it doesn't meet the criteria. It will use a generic GPU kernel as fallback when running on GPU.\n",
      "WARNING:tensorflow:Layer lstm_2 will not use cuDNN kernels since it doesn't meet the criteria. It will use a generic GPU kernel as fallback when running on GPU.\n",
      "WARNING:tensorflow:Layer lstm_2 will not use cuDNN kernels since it doesn't meet the criteria. It will use a generic GPU kernel as fallback when running on GPU.\n",
      "WARNING:tensorflow:Layer lstm_2 will not use cuDNN kernels since it doesn't meet the criteria. It will use a generic GPU kernel as fallback when running on GPU.\n"
     ]
    }
   ],
   "source": [
    "# encoder model building\n",
    "embedding_dim = 300\n",
    "hidden_size = 256 # parameter to define how much capacity the layer will contain = amount of neuron / size of layer\n",
    "\n",
    "# encoder\n",
    "encoder_inputs = Input(shape=(text_max_len,))\n",
    "\n",
    "# encoder embedding layer\n",
    "enc_emb = Embedding(src_vocab, embedding_dim)(encoder_inputs)\n",
    "\n",
    "# encoder LSTM 1\n",
    "encoder_lstm1 = Bidirectional(LSTM(hidden_size, return_sequences=True, return_state=True ,dropout = 0.4, recurrent_dropout = 0.4))\n",
    "# encoder_lstm1 = LSTM(hidden_size, return_sequences=True, return_state=True ,dropout = 0.4)\n",
    "# encoder_output1, state_h1, state_c1 = encoder_lstm1(enc_emb)\n",
    "encoder_output1, forward_h1, forward_c1, backward_h1, backward_c1 = encoder_lstm1(enc_emb)\n",
    "\n",
    "# encoder LSTM 2\n",
    "encoder_lstm2 = Bidirectional(LSTM(hidden_size, return_sequences=True, return_state=True, dropout=0.4, recurrent_dropout=0.4))\n",
    "# encoder_lstm2 = LSTM(hidden_size, return_sequences=True, return_state=True, dropout=0.4)\n",
    "# encoder_output2, state_h2, state_c2 = encoder_lstm2(encoder_output1)\n",
    "encoder_output2, forward_h2, forward_c2, backward_h2, backward_c2 = encoder_lstm2(encoder_output1)\n",
    "\n",
    "# encoder LSTM 3\n",
    "encoder_lstm3 = Bidirectional(LSTM(hidden_size, return_state=True, return_sequences=True, dropout=0.4, recurrent_dropout=0.4))\n",
    "# encoder_lstm3 = LSTM(hidden_size, return_state=True, return_sequences=True, dropout=0.4)\n",
    "# encoder_outputs, state_h, state_c= encoder_lstm3(encoder_output2)\n",
    "encoder_outputs, forward_h, forward_c, backward_h, backward_c = encoder_lstm3(encoder_output2)\n",
    "\n",
    "state_h = Concatenate()([forward_h, backward_h]) # hidden state\n",
    "state_c = Concatenate()([forward_c, backward_c]) # cell state\n",
    "\n",
    "# need to send encoder's output to decoder\n",
    "\n",
    "# LSTM has parameter called recurrent dropout as well\n",
    "# normal dropout removes layer's weight randomly to restrict overfitting\n",
    "\n",
    "# recurrent dropout proceed with dropout every time step instead of layer = skips time step input randomly\n",
    "# it has regularization effect and restricts overfitting\n",
    "\n",
    "# using both dropout and recurrent dropout is called variational dropout"
   ]
  },
  {
   "cell_type": "code",
   "execution_count": 42,
   "id": "88b8d552",
   "metadata": {},
   "outputs": [
    {
     "name": "stdout",
     "output_type": "stream",
     "text": [
      "WARNING:tensorflow:Layer lstm_3 will not use cuDNN kernels since it doesn't meet the criteria. It will use a generic GPU kernel as fallback when running on GPU.\n"
     ]
    }
   ],
   "source": [
    "# decoder model building\n",
    "decoder_inputs = Input(shape=(None,))\n",
    "\n",
    "# decoder embedding layer\n",
    "dec_emb_layer = Embedding(tar_vocab, embedding_dim)\n",
    "dec_emb = dec_emb_layer(decoder_inputs)\n",
    "\n",
    "# decoder LSTM\n",
    "# hidden size was 256 for decoder_lstm but changed to 512 since encoder was bidirectional\n",
    "decoder_lstm = LSTM(2*hidden_size, return_sequences=True, return_state=True, dropout=0.4, recurrent_dropout=0.2)\n",
    "# decoder_lstm = LSTM(hidden_size, return_sequences=True, return_state=True, dropout=0.4)\n",
    "decoder_outputs, _, _ = decoder_lstm(dec_emb, initial_state=[state_h, state_c])"
   ]
  },
  {
   "cell_type": "code",
   "execution_count": 43,
   "id": "2c9308c0",
   "metadata": {},
   "outputs": [
    {
     "name": "stdout",
     "output_type": "stream",
     "text": [
      "Model: \"model\"\n",
      "__________________________________________________________________________________________________\n",
      "Layer (type)                    Output Shape         Param #     Connected to                     \n",
      "==================================================================================================\n",
      "input_1 (InputLayer)            [(None, 50)]         0                                            \n",
      "__________________________________________________________________________________________________\n",
      "embedding (Embedding)           (None, 50, 300)      6000000     input_1[0][0]                    \n",
      "__________________________________________________________________________________________________\n",
      "bidirectional (Bidirectional)   [(None, 50, 512), (N 1140736     embedding[0][0]                  \n",
      "__________________________________________________________________________________________________\n",
      "bidirectional_1 (Bidirectional) [(None, 50, 512), (N 1574912     bidirectional[0][0]              \n",
      "__________________________________________________________________________________________________\n",
      "input_2 (InputLayer)            [(None, None)]       0                                            \n",
      "__________________________________________________________________________________________________\n",
      "bidirectional_2 (Bidirectional) [(None, 50, 512), (N 1574912     bidirectional_1[0][0]            \n",
      "__________________________________________________________________________________________________\n",
      "embedding_1 (Embedding)         (None, None, 300)    3000000     input_2[0][0]                    \n",
      "__________________________________________________________________________________________________\n",
      "concatenate (Concatenate)       (None, 512)          0           bidirectional_2[0][1]            \n",
      "                                                                 bidirectional_2[0][3]            \n",
      "__________________________________________________________________________________________________\n",
      "concatenate_1 (Concatenate)     (None, 512)          0           bidirectional_2[0][2]            \n",
      "                                                                 bidirectional_2[0][4]            \n",
      "__________________________________________________________________________________________________\n",
      "lstm_3 (LSTM)                   [(None, None, 512),  1665024     embedding_1[0][0]                \n",
      "                                                                 concatenate[0][0]                \n",
      "                                                                 concatenate_1[0][0]              \n",
      "__________________________________________________________________________________________________\n",
      "dense (Dense)                   (None, None, 10000)  5130000     lstm_3[0][0]                     \n",
      "==================================================================================================\n",
      "Total params: 20,085,584\n",
      "Trainable params: 20,085,584\n",
      "Non-trainable params: 0\n",
      "__________________________________________________________________________________________________\n"
     ]
    }
   ],
   "source": [
    "# decoder output layer\n",
    "decoder_softmax_layer = Dense(tar_vocab, activation='softmax')\n",
    "decoder_softmax_outputs = decoder_softmax_layer(decoder_outputs) \n",
    "\n",
    "# model summary\n",
    "model = Model([encoder_inputs, decoder_inputs], decoder_softmax_outputs)\n",
    "model.summary()"
   ]
  },
  {
   "cell_type": "code",
   "execution_count": 44,
   "id": "e6137b2e",
   "metadata": {
    "scrolled": false
   },
   "outputs": [
    {
     "name": "stdout",
     "output_type": "stream",
     "text": [
      "Model: \"model_1\"\n",
      "__________________________________________________________________________________________________\n",
      "Layer (type)                    Output Shape         Param #     Connected to                     \n",
      "==================================================================================================\n",
      "input_1 (InputLayer)            [(None, 50)]         0                                            \n",
      "__________________________________________________________________________________________________\n",
      "embedding (Embedding)           (None, 50, 300)      6000000     input_1[0][0]                    \n",
      "__________________________________________________________________________________________________\n",
      "bidirectional (Bidirectional)   [(None, 50, 512), (N 1140736     embedding[0][0]                  \n",
      "__________________________________________________________________________________________________\n",
      "bidirectional_1 (Bidirectional) [(None, 50, 512), (N 1574912     bidirectional[0][0]              \n",
      "__________________________________________________________________________________________________\n",
      "input_2 (InputLayer)            [(None, None)]       0                                            \n",
      "__________________________________________________________________________________________________\n",
      "bidirectional_2 (Bidirectional) [(None, 50, 512), (N 1574912     bidirectional_1[0][0]            \n",
      "__________________________________________________________________________________________________\n",
      "embedding_1 (Embedding)         (None, None, 300)    3000000     input_2[0][0]                    \n",
      "__________________________________________________________________________________________________\n",
      "concatenate (Concatenate)       (None, 512)          0           bidirectional_2[0][1]            \n",
      "                                                                 bidirectional_2[0][3]            \n",
      "__________________________________________________________________________________________________\n",
      "concatenate_1 (Concatenate)     (None, 512)          0           bidirectional_2[0][2]            \n",
      "                                                                 bidirectional_2[0][4]            \n",
      "__________________________________________________________________________________________________\n",
      "lstm_3 (LSTM)                   [(None, None, 512),  1665024     embedding_1[0][0]                \n",
      "                                                                 concatenate[0][0]                \n",
      "                                                                 concatenate_1[0][0]              \n",
      "__________________________________________________________________________________________________\n",
      "attention_layer (AdditiveAttent (None, None, 512)    512         lstm_3[0][0]                     \n",
      "                                                                 bidirectional_2[0][0]            \n",
      "__________________________________________________________________________________________________\n",
      "concat_layer (Concatenate)      (None, None, 1024)   0           lstm_3[0][0]                     \n",
      "                                                                 attention_layer[0][0]            \n",
      "__________________________________________________________________________________________________\n",
      "dense_1 (Dense)                 (None, None, 10000)  10250000    concat_layer[0][0]               \n",
      "==================================================================================================\n",
      "Total params: 25,206,096\n",
      "Trainable params: 25,206,096\n",
      "Non-trainable params: 0\n",
      "__________________________________________________________________________________________________\n"
     ]
    }
   ],
   "source": [
    "# make attention layer and fix decoder output layer\n",
    "\n",
    "# attention layer\n",
    "attn_layer = AdditiveAttention(name='attention_layer')\n",
    "\n",
    "# send encoder and decoder's every time step's hidden state to attention layer and return result\n",
    "attn_out = attn_layer([decoder_outputs, encoder_outputs])\n",
    "\n",
    "# connect attention output with decoder's hidden state\n",
    "decoder_concat_input = Concatenate(axis=-1, name='concat_layer')([decoder_outputs, attn_out])\n",
    "\n",
    "# decoder output layer\n",
    "decoder_softmax_layer = Dense(tar_vocab, activation='softmax')\n",
    "decoder_softmax_outputs = decoder_softmax_layer(decoder_concat_input)\n",
    "\n",
    "# model summary\n",
    "model = Model([encoder_inputs, decoder_inputs], decoder_softmax_outputs)\n",
    "model.summary()"
   ]
  },
  {
   "cell_type": "code",
   "execution_count": 45,
   "id": "13c0de70",
   "metadata": {},
   "outputs": [
    {
     "name": "stdout",
     "output_type": "stream",
     "text": [
      "Epoch 1/50\n",
      "252/252 [==============================] - 362s 1s/step - loss: 6.2691 - val_loss: 5.7863\n",
      "Epoch 2/50\n",
      "252/252 [==============================] - 336s 1s/step - loss: 5.5668 - val_loss: 5.2427\n",
      "Epoch 3/50\n",
      "252/252 [==============================] - 335s 1s/step - loss: 5.0368 - val_loss: 4.8932\n",
      "Epoch 4/50\n",
      "252/252 [==============================] - 334s 1s/step - loss: 4.6532 - val_loss: 4.6487\n",
      "Epoch 5/50\n",
      "252/252 [==============================] - 333s 1s/step - loss: 4.3439 - val_loss: 4.4864\n",
      "Epoch 6/50\n",
      "252/252 [==============================] - 333s 1s/step - loss: 4.0819 - val_loss: 4.3734\n",
      "Epoch 7/50\n",
      "252/252 [==============================] - 331s 1s/step - loss: 3.8537 - val_loss: 4.2869\n",
      "Epoch 8/50\n",
      "252/252 [==============================] - 331s 1s/step - loss: 3.6476 - val_loss: 4.2418\n",
      "Epoch 9/50\n",
      "252/252 [==============================] - 331s 1s/step - loss: 3.4598 - val_loss: 4.1938\n",
      "Epoch 10/50\n",
      "252/252 [==============================] - 331s 1s/step - loss: 3.2934 - val_loss: 4.1709\n",
      "Epoch 11/50\n",
      "252/252 [==============================] - 329s 1s/step - loss: 3.1440 - val_loss: 4.1635\n",
      "Epoch 12/50\n",
      "252/252 [==============================] - 329s 1s/step - loss: 2.9990 - val_loss: 4.1434\n",
      "Epoch 13/50\n",
      "252/252 [==============================] - 328s 1s/step - loss: 2.8661 - val_loss: 4.1528\n",
      "Epoch 14/50\n",
      "252/252 [==============================] - 328s 1s/step - loss: 2.7417 - val_loss: 4.1671\n",
      "Epoch 00014: early stopping\n"
     ]
    }
   ],
   "source": [
    "# compile and train model\n",
    "model.compile(optimizer='rmsprop', loss='sparse_categorical_crossentropy')\n",
    "es = EarlyStopping(monitor='val_loss', patience=2, verbose=1)\n",
    "history = model.fit(x=[encoder_input_train, decoder_input_train], y=decoder_target_train, \\\n",
    "          validation_data=([encoder_input_test, decoder_input_test], decoder_target_test), \\\n",
    "          batch_size=256, callbacks=[es], epochs=50)"
   ]
  },
  {
   "cell_type": "code",
   "execution_count": 46,
   "id": "942273cd",
   "metadata": {},
   "outputs": [
    {
     "data": {
      "image/png": "[encoded data removed]",
      "text/plain": [
       "<Figure size 432x288 with 1 Axes>"
      ]
     },
     "metadata": {
      "needs_background": "light"
     },
     "output_type": "display_data"
    }
   ],
   "source": [
    "# visualize loss of train and test\n",
    "plt.plot(history.history['loss'], label='train')\n",
    "plt.plot(history.history['val_loss'], label='test')\n",
    "plt.legend()\n",
    "plt.show()"
   ]
  },
  {
   "cell_type": "code",
   "execution_count": 47,
   "id": "dac23e9b",
   "metadata": {},
   "outputs": [],
   "source": [
    "# during test, actual words are needed, so creating 3 dict\n",
    "src_index_to_word = src_tokenizer.index_word # text vocab int -> word\n",
    "tar_word_to_index = tar_tokenizer.word_index # headlines vocab word -> int\n",
    "tar_index_to_word = tar_tokenizer.index_word # headlines vocab int -> word"
   ]
  },
  {
   "cell_type": "code",
   "execution_count": 48,
   "id": "e9936c09",
   "metadata": {},
   "outputs": [],
   "source": [
    "# seq2seq has two diff ways of model building for training and inferencing\n",
    "\n",
    "# during training, decoder input recieves one whole sentence of answer and compare with decoder output at once\n",
    "# so only 1 mode is needed\n",
    "\n",
    "# inference stage(without label words/sentences) decoder needs to repeat as much as sentence length (until eos is reached)\n",
    "# thus separate model is needed and encoder model is split with decoder model\n",
    "\n",
    "# encoder model building\n",
    "encoder_model = Model(inputs=encoder_inputs, outputs=[encoder_outputs, state_h, state_c])\n",
    "\n",
    "# tensor with previous states\n",
    "decoder_state_input_h = Input(shape=(hidden_size*2,))\n",
    "decoder_state_input_c = Input(shape=(hidden_size*2,))\n",
    "\n",
    "dec_emb2 = dec_emb_layer(decoder_inputs)\n",
    "\n",
    "# in order to predict next word of a sentence, initial state will be the last time step state, which is configured in decode_sequence()\n",
    "# do not throw away hidden state: state_h and cell state: state_c unlike training stage\n",
    "decoder_outputs2, state_h2, state_c2 = decoder_lstm(dec_emb2, initial_state=[decoder_state_input_h, decoder_state_input_c])"
   ]
  },
  {
   "cell_type": "code",
   "execution_count": 49,
   "id": "040cd298",
   "metadata": {},
   "outputs": [],
   "source": [
    "# attention layer\n",
    "decoder_hidden_state_input = Input(shape=(text_max_len, hidden_size*2))\n",
    "attn_out_inf = attn_layer([decoder_outputs2, decoder_hidden_state_input])\n",
    "decoder_inf_concat = Concatenate(axis=-1, name='concat')([decoder_outputs2, attn_out_inf])\n",
    "\n",
    "# decoder output\n",
    "decoder_outputs2 = decoder_softmax_layer(decoder_inf_concat) \n",
    "\n",
    "# decoder model\n",
    "decoder_model = Model(\n",
    "    [decoder_inputs] + [decoder_hidden_state_input, decoder_state_input_h, decoder_state_input_c],\n",
    "    [decoder_outputs2] + [state_h2, state_c2])"
   ]
  },
  {
   "cell_type": "code",
   "execution_count": 50,
   "id": "901b1ecc",
   "metadata": {},
   "outputs": [],
   "source": [
    "# function to finalize word sequence during inference\n",
    "\n",
    "def decode_sequence(input_seq):\n",
    "    # receive encoder state from input\n",
    "    e_out, e_h, e_c = encoder_model.predict(input_seq)\n",
    "\n",
    "     # create <SOS> token\n",
    "    target_seq = np.zeros((1,1))\n",
    "    target_seq[0, 0] = tar_word_to_index['sostoken']\n",
    "\n",
    "    stop_condition = False\n",
    "    decoded_sentence = ''\n",
    "    # run while loop until stop_condition becomes True\n",
    "    while not stop_condition:\n",
    "\n",
    "        output_tokens, h, c = decoder_model.predict([target_seq] + [e_out, e_h, e_c])\n",
    "        sampled_token_index = np.argmax(output_tokens[0, -1, :])\n",
    "        sampled_token = tar_index_to_word[sampled_token_index]\n",
    "\n",
    "        if (sampled_token!='eostoken'):\n",
    "            decoded_sentence += ' '+sampled_token\n",
    "\n",
    "        #  stop while loop when reached <eos> or goes over max length\n",
    "        if (sampled_token == 'eostoken'  or len(decoded_sentence.split()) >= (headlines_max_len-1)):\n",
    "            stop_condition = True\n",
    "\n",
    "        # update target sequence with length 1\n",
    "        target_seq = np.zeros((1,1))\n",
    "        target_seq[0, 0] = sampled_token_index\n",
    "\n",
    "        # update state\n",
    "        e_h, e_c = h, c\n",
    "\n",
    "    return decoded_sentence"
   ]
  },
  {
   "cell_type": "code",
   "execution_count": 51,
   "id": "7f79ef91",
   "metadata": {},
   "outputs": [
    {
     "name": "stdout",
     "output_type": "stream",
     "text": [
      "<keras.engine.functional.Functional object at 0x7f7d6652b550>\n"
     ]
    }
   ],
   "source": [
    "print(decoder_model)"
   ]
  },
  {
   "cell_type": "code",
   "execution_count": 52,
   "id": "1adbe7c5",
   "metadata": {},
   "outputs": [],
   "source": [
    "# easier to change from int seq to word seq to check the outcome\n",
    "# do not include padding 0 from text int sequence\n",
    "# do not include 0, sos token, and eos token from headlines\n",
    "\n",
    "# function to change text int seq to word seq\n",
    "def seq2text(input_seq):\n",
    "    temp=''\n",
    "    for i in input_seq:\n",
    "        if (i!=0):\n",
    "            temp = temp + src_index_to_word[i]+' '\n",
    "    return temp\n",
    "\n",
    "# headlines int seq to word seq\n",
    "def seq2summary(input_seq):\n",
    "    temp=''\n",
    "    for i in input_seq:\n",
    "        if ((i!=0 and i!=tar_word_to_index['sostoken']) and i!=tar_word_to_index['eostoken']):\n",
    "            temp = temp + tar_index_to_word[i] + ' '\n",
    "    return temp"
   ]
  },
  {
   "cell_type": "code",
   "execution_count": 53,
   "id": "f542a4bc",
   "metadata": {
    "scrolled": false
   },
   "outputs": [
    {
     "name": "stdout",
     "output_type": "stream",
     "text": [
      "원문 : number students scored marks year cbse class board exams rose last year girls boys year notably government schools saw pass percentage year results beating private schools whose pass percentage \n",
      "실제 요약 : students scoring above in cbse class rose in \n",
      "예측 요약 :  students in haryana class board exams\n",
      "\n",
      "\n",
      "원문 : uber ola drivers go strike across cities including mumbai gurugram nation capital delhi march drivers plan protest front ola uber offices demanding companies ensure business worth lakh per month also seek fares decided according vehicles \n",
      "실제 요약 : ola uber to go on strike on march \n",
      "예측 요약 :  uber to start uber drivers to go on strike\n",
      "\n",
      "\n",
      "원문 : hours detected april asteroid swept past earth speed kmph half distance moon astronomers revealed asteroid ge estimated diameter metres made closest approach km whereas earth average distance moon km \n",
      "실제 요약 : asteroid flies by earth closer than moon hrs after detection \n",
      "예측 요약 :  asteroid on earth may be named by asteroid nasa\n",
      "\n",
      "\n",
      "원문 : white house quietly killed million year nasa research tracked planet carbon flow according science magazine nasa declined comment cancellation beyond budget constraints higher priorities within science budget said report president donald trump earlier cancelled another earth science mission withdrew us paris climate deal \n",
      "실제 요약 : trump ends nasa program monitoring carbon emissions report \n",
      "예측 요약 :  moon rover may be used by nasa study\n",
      "\n",
      "\n",
      "원문 : premier league playoff would held liverpool arsenal manchester city finish identical results city liverpool would play third city draw liverpool win arsenal draw liverpool lose two play fourth city arsenal playoff likely city lose arsenal win \n",
      "실제 요약 : what happens if liverpool arsenal city finish \n",
      "예측 요약 :  manchester city city to league league league\n",
      "\n",
      "\n",
      "원문 : us based ride hailing startup uber filed paperwork initial public offering next year reports said friday ceo dara khosrowshahi previously may confirmed company would go public comes uber rival lyft said public statement filed ipo securities exchange commission thursday \n",
      "실제 요약 : us cab startup uber files for ipo reports \n",
      "예측 요약 :  uber faces lawsuit against uber for merger\n",
      "\n",
      "\n",
      "원문 : days year old woman allegedly gangraped beach bjp leader sawant said government cannot provide security every individual sawant said need change mentality people increase number rape cases reported police women reporting crimes added \n",
      "실제 요약 : govt cannot give everyone security bjp leader on beach rape \n",
      "예측 요약 :  mob lynching victim on rape victim mercy verdict\n",
      "\n",
      "\n",
      "원문 : madhya pradesh left arm spinner manish majithia bowled overs took wicket without conceding run second innings railways ranji trophy match november first innings majithia registered figures last day railways scored runs overs manage draw \n",
      "실제 요약 : indian spinner once bowled overs without conceding run \n",
      "예측 요약 :  gujarat spinner takes wickets to hit in overs\n",
      "\n",
      "\n",
      "원문 : russia deployed special forces airbase egypt near border libya boost involvement war torn libya according reports us believes could russian attempt support libyan military commander khalifa defence captured two libya largest oil export terminals army control \n",
      "실제 요약 : russia deploys forces near libyan border report \n",
      "예측 요약 :  russia to move to ukraine over muslims\n",
      "\n",
      "\n",
      "원문 : karnataka government friday said question releasing cauvery water tamil nadu line supreme court directive state facing shortage drinking water water could released karnataka water resources minister mb patil added \n",
      "실제 요약 : no question of supplying cauvery water to tamil nadu taka \n",
      "예측 요약 :  taka govt demands water on cauvery water water\n",
      "\n",
      "\n",
      "원문 : priyanka chopra featured st anniversary issue magazine india said want make choice india america two careers two countries priyanka added sophia cannot year old actress seen wearing mesh top distressed shorts gucci \n",
      "실제 요약 : don want to make choice between india america priyanka \n",
      "예측 요약 :  priyanka chopra features on india cover issue\n",
      "\n",
      "\n",
      "원문 : world first ever football club sheffield fc formed october still operating currently part northern premier league division one south eighth tier english football sheffield fc one two clubs awarded fifa order merit award real madrid \n",
      "실제 요약 : world first football club still in operation after yrs \n",
      "예측 요약 :  what are the first ever in the season\n",
      "\n",
      "\n",
      "원문 : central bureau investigation booked delhi travel agent allegedly sending people china without valid work permits external affairs ministry registered complaint cbi china detained clients working without permits sent back later notably man travel agency registered ministry \n",
      "실제 요약 : cbi books travel agent for sending illegal workers to china \n",
      "예측 요약 :  activists arrest chinese spy in china detained\n",
      "\n",
      "\n",
      "원문 : reliance jio reportedly submitted proposal ministry human resource provide free wifi around colleges across country facility reportedly benefit crore students able access government national knowledge network tender floated give companies fair chance according government source \n",
      "실제 요약 : jio looking to provide free wifi in colleges report \n",
      "예측 요약 :  govt to install aadhaar to regulate aadhaar\n",
      "\n",
      "\n",
      "원문 : shah became mother twin boys surrogacy said everybody surrogacy save figure people genuine problems added giving option still wants experience getting pregnant twins turned one june \n",
      "실제 요약 : everyone does not opt for surrogacy to save figure \n",
      "예측 요약 :  girl to get married to live in yrs old\n",
      "\n",
      "\n",
      "원문 : qatar thursday restored full diplomatic relations iran amid ongoing diplomatic dispute several arab countries including saudi arabia uae egypt bahrain accused gulf nation supporting terrorism qatar cut ties iran last year show solidarity saudi arabia two saudi diplomatic posts attacked iran \n",
      "실제 요약 : qatar restores diplomatic ties with iran amid gulf crisis \n",
      "예측 요약 :  qatar qatar cancels saudi arabia to qatar arabia\n",
      "\n",
      "\n",
      "원문 : indian army sunday warned video wearing army combat uniform spreading disinformation rescue relief efforts related kerala floods army twitter account also shared phone number urging citizens inform disinformation army kerala floods army said \n",
      "실제 요약 : army warns against video spreading fake news on kerala floods \n",
      "예측 요약 :  army officer who seen army to meet army official\n",
      "\n",
      "\n",
      "원문 : congress mla maharashtra abdul abdul nabi along supporters caught camera allegedly beating three farmers neighbourhood land dispute however denying involvement incident nabi accused bharatiya janata party video \n",
      "실제 요약 : maha cong mla filmed beating farmers over land dispute \n",
      "예측 요약 :  bjp mla threatens to bomb at rally in up\n",
      "\n",
      "\n",
      "원문 : agencies investigating pnb scam reportedly found nirav modi least indian passports two active quite time two active passports one jeweller first name week uk visa issued reports said nirav modi reportedly traced belgium intelligence agencies \n",
      "실제 요약 : nirav modi holds at least indian passports reports \n",
      "예측 요약 :  indians are passport at passport sushma swaraj\n",
      "\n",
      "\n",
      "원문 : unidentified men thursday shot dead armed security guard cash van escaped box containing around lakh life insurance corporation india bihar reportedly two bike borne assailants accomplices took guard gunpoint asking hand cash shot dead resisted \n",
      "실제 요약 : robbers loot lakh from cash van kill guard in bihar \n",
      "예측 요약 :  killed by men in car in delhi\n",
      "\n",
      "\n",
      "원문 : death toll philippines due war drugs initiated president rodrigo duterte risen authorities said least people lost lives since drug war began duterte became president duterte investigated allegedly committing crimes humanity anti drugs war \n",
      "실제 요약 : over people killed in philippine president drug war \n",
      "예측 요약 :  killed in philippine prez duterte\n",
      "\n",
      "\n",
      "원문 : former karnataka minister senior congress leader islam passed away aged bengaluru monday due cardiac arrest six time mla held several portfolios including housing labour municipal administration public enterprise minority development appointed kerala secretary charge india congress committee july year \n",
      "실제 요약 : former karnataka minister islam passes away aged \n",
      "예측 요약 :  former union minister passes away aged\n",
      "\n",
      "\n",
      "원문 : national investigation agency set revoke indian passport islamic research foundation president dr zakir abdul karim naik wanted criminal case money laundering laws nia claimed naik invested crore companies properties initiated proceedings red corner notice islamic preacher \n",
      "실제 요약 : nia to revoke islamic zakir naik indian passport \n"
     ]
    },
    {
     "name": "stdout",
     "output_type": "stream",
     "text": [
      "예측 요약 :  interpol raids zakir naik in nigeria probe\n",
      "\n",
      "\n",
      "원문 : year old man jumped bandra worli sea link mumbai thursday commit suicide admitted hospital police said taxi driver reported incident police control room following team police personnel rushed spot police identified man yet regain consciousness \n",
      "실제 요약 : man jumps off bandra sea link survives \n",
      "예측 요약 :  man killed as mumbai air force he jumps her\n",
      "\n",
      "\n",
      "원문 : india played icc champions trophy previous seven editions tournament finishing joint winners sri lanka india edition without dropping single match edition first major icc tournament virat kohli captain indian team \n",
      "실제 요약 : how has india performance been in icc champions trophy \n",
      "예측 요약 :  india beat pakistan to win champions trophy\n",
      "\n",
      "\n",
      "원문 : students indian institute management calcutta proposed plan launch virtual grocery stores kolkata metro stations partnering commerce majors like flipkart amazon idea involves installing wall length billboards displaying product images along qr code passengers scan code order daily use products like groceries \n",
      "실제 요약 : iim plans flipkart amazon virtual grocery stores in kolkata \n",
      "예측 요약 :  iit students to get smart vending machines\n",
      "\n",
      "\n",
      "원문 : television actress mouni roy refuted rumours part salman khan hosted reality show bigg boss also reported niti taylor shilpa shinde dhinchak pooja approached show year theme show neighbours feature celebrities commoners \n",
      "실제 요약 : am not part of bigg boss tv actress mouni roy \n",
      "예측 요약 :  salman to star in bigg boss boss\n",
      "\n",
      "\n",
      "원문 : aerial defense system deal signed india russia engage targets time simultaneously launch missiles long range surface air missile system designed destroy air attacks stealth aircraft system target detection range km ballistic missile destruction range km \n",
      "실제 요약 : russia can engage targets launch missiles at once \n",
      "예측 요약 :  russia successfully to launch missile from\n",
      "\n",
      "\n",
      "원문 : goa town country planning minister sardesai friday said state become expensive low budget indian tourists visiting adding goa competing kerala sri lanka southeast asia said focus quality tourism rather tourism focuses merely \n",
      "실제 요약 : goa should low budget indian tourists minister \n",
      "예측 요약 :  which was the world largest tourism minister\n",
      "\n",
      "\n",
      "원문 : recalling mumbai terror attacks years ago railway station passengers shot dead said let ajmal kasab looked like college boy playing video games firing kasab laughing saying things shooting complete chaos outstation platforms said kumar deepak \n",
      "실제 요약 : was laughing shooting like in video games witness \n",
      "예측 요약 :  mumbai police train isis on train\n",
      "\n",
      "\n",
      "원문 : mumbai police started campaign monday mark world day child labour one tweets commissioner police posted screenshot showing definition childhood reads state period child another tweet talked importance education using words nursery \n",
      "실제 요약 : mumbai police starts campaign against child labour \n",
      "예측 요약 :  mumbai police uses selfies to protest against british media\n",
      "\n",
      "\n",
      "원문 : india would start getting data deposits made indians year swiss banks part bilateral treaty signed two nations interim finance minister piyush goyal said said strong action taken guilty deposits indians banks rose crore \n",
      "실제 요약 : india to get data on swiss bank deposits from \n",
      "예측 요약 :  india has no longer in banking sector bank\n",
      "\n",
      "\n",
      "원문 : twitter ceo jack dorsey personally taking decisions banning controversial accounts according reports reported dorsey overruled decision staff ban right wing conspiracy alex jones also reportedly instructed employees let alt right richard spencer keep one twitter accounts even safety team ruled otherwise \n",
      "실제 요약 : twitter ceo personally taking calls on account bans report \n",
      "예측 요약 :  twitter ban on railway tracks over ads ban\n",
      "\n",
      "\n",
      "원문 : pair auctioned wholesale market japan record amount nearly lakh local fruit packaging firm bid said wanted make record setting bid means considered status symbol japan also bought gifts \n",
      "실제 요약 : pair of auctioned for record lakh in japan \n",
      "예측 요약 :  world biggest diamond was sold for lakh\n",
      "\n",
      "\n",
      "원문 : gautam gambhir said hurt caused controversies surrounding motivated delhi team reach final ongoing ranji trophy wanted show world negative exists delhi dressing room added last season reports gambhir abusing coach kp bhaskar surfaced \n",
      "실제 요약 : wanted to show delhi dressing room is not negative gambhir \n",
      "예측 요약 :  gambhir to host olympics for not playing olympics\n",
      "\n",
      "\n",
      "원문 : spacex tesla ceo elon musk recent event said companies alive skin teeth said spacex falcon rocket failed third time tesla almost went bankrupt two days christmas gave spacex tesla probability less succeed added \n",
      "실제 요약 : spacex tesla alive by skin of their teeth elon musk \n",
      "예측 요약 :  musk responds to elon musk tweet on spacex rocket\n",
      "\n",
      "\n",
      "원문 : three time nba champion lebron james took twitter tuesday praise man recorded video breaking fight two young black boys boys engaged fist fight middle street us man intervened managed get shake hands \n",
      "실제 요약 : nba player lebron james lauds man for stopping fight \n",
      "예측 요약 :  player who saved man for missing after getting him\n",
      "\n",
      "\n",
      "원문 : world largest asset manager blackrock selling asia square tower singapore financial district real estate major commercial trust billion deal mark singapore second largest office building sale last year qatar investment authority bought tower blackrock billion singapore biggest office transaction \n",
      "실제 요약 : sells singapore office tower for crore \n",
      "예측 요약 :  world largest company to buy billion in singapore\n",
      "\n",
      "\n",
      "원문 : kerala opened one five dam reservoir first time years heavy rain claimed lives hours state water level rose feet nearing maximum storage level feet reservoir almost litres water released per second reservoir \n",
      "실제 요약 : kerala dam gate opened after years following heavy rain \n",
      "예측 요약 :  kerala records its first ever since\n",
      "\n",
      "\n",
      "원문 : telangana assembly dissolved caretaker cm telangana rashtra samithi president chandrashekar rao ruled electoral alliance bjp said secular party way join hands bjp even bjp president amit shah said chance trs \n",
      "실제 요약 : no alliance with bjp telangana cm after assembly \n",
      "예측 요약 :  will support to alliance with bjp parties andhra cm\n",
      "\n",
      "\n",
      "원문 : video bjp corporator hasmukh patel tied tree shirt torn gujarat vadodara surfaced online corporator allegedly thrashed local residents whose houses demolished civic body reportedly without prior notice police arrested people related incident far \n",
      "실제 요약 : bjp corporator tied to tree thrashed by locals in gujarat \n",
      "예측 요약 :  ex gujarat cm dies in assam\n",
      "\n",
      "\n",
      "원문 : rising pune supergiant claimed first win royal challengers bangalore ipl defeating runs sunday batting first rps put five batsmen scoring plus runs reply rcb managed score rps bowlers shardul thakur ben stokes picking wickets \n",
      "실제 요약 : defend to win first match against rcb \n",
      "예측 요약 :  st ever score in history history register st overs\n",
      "\n",
      "\n",
      "원문 : farmers tamil nadu issued cheques crops lost insured lands raising issue state assembly dmk leader stated farmers paid premiums land received respectively \n",
      "실제 요약 : tamil nadu farmers get as compensation for crop loss \n",
      "예측 요약 :  tn govt demands probe for not paying for\n",
      "\n",
      "\n",
      "원문 : union tourism minister kj alphons saturday said taj mahal part india heritage people proud added th century monument india star tourist destination government elaborate plans comes bjp leader sangeet som called taj mahal blot indian culture \n",
      "실제 요약 : taj mahal part of heritage proud of it tourism minister \n",
      "예측 요약 :  union minister slams india for tricolour on diwali\n",
      "\n",
      "\n",
      "원문 : uk national health service reportedly uses lakh amounting nearly devices world present device invented costs uk exchequer crore annually critics suggested using smartphone apps cheaper alternative \n",
      "실제 요약 : uk national health service uses of world \n",
      "예측 요약 :  uk govt to pay lakh for lakh on july\n",
      "\n",
      "\n",
      "원문 : talking drama series based life queen elizabeth ii titled crown actor amitabh bachchan said finds becoming character times queen effect characters remain somehow find daily lives become bit added bachchan \n",
      "실제 요약 : becoming like character in era of queen elizabeth ii big \n",
      "예측 요약 :  was the most challenging of india in biopic\n",
      "\n",
      "\n",
      "원문 : google spinoff waymo owned self driving vehicles reportedly vandalised people using knives rocks us arizona attacks levelled company driverless vehicles since first began testing state report added waymo said receiving support arizona chamber commerce industry tackle issue \n",
      "실제 요약 : waymo self driving vehicles being vandalised in us report \n"
     ]
    },
    {
     "name": "stdout",
     "output_type": "stream",
     "text": [
      "예측 요약 :  uber to end self driving cars in us\n",
      "\n",
      "\n",
      "원문 : delhi court monday framed charges army major nikhil rai handa murder colleague wife dwivedi chargesheet filed police reveals night incident handa watched various videos youtube kill someone handa allegedly killed dwivedi refused marry \n",
      "실제 요약 : charges framed against major in murder case \n",
      "예측 요약 :  delhi hc orders sit to sit blast accused\n",
      "\n",
      "\n",
      "원문 : cambodia officially banned selling exporting human breast milk us reports exposed women turning controversial trade boost incomes country earlier unicef condemned trade calling notably us company exporting milk women labs cambodia two years \n",
      "실제 요약 : cambodia bans breast milk trade exports to the us \n",
      "예측 요약 :  sweden bans sale of its first in\n",
      "\n",
      "\n",
      "원문 : year old whale continuously carrying dead calf canadian coast since died two weeks ago shortly birth scientists tracking mother expressed concerns well falling behind group calf first born group years left \n",
      "실제 요약 : mother of dead whale still carrying its body after weeks \n",
      "예측 요약 :  new year old girl dies after falling in egypt\n",
      "\n",
      "\n"
     ]
    }
   ],
   "source": [
    "# compare result\n",
    "for i in range(50, 100):\n",
    "    print(\"원문 :\", seq2text(encoder_input_test[i]))\n",
    "    print(\"실제 요약 :\", seq2summary(decoder_input_test[i]))\n",
    "    print(\"예측 요약 :\", decode_sequence(encoder_input_test[i].reshape(1, text_max_len)))\n",
    "    print(\"\\n\")\n",
    "\n",
    "# 2. 빔 서치(beam search)\n",
    "# 3. 사전 훈련된 워드 임베딩(pre-trained word embedding),\n",
    "# 4. 또는 인코더 - 디코더 자체의 구조를 새로이 변경한 하는 트랜스포머(Transformer)와 같은 여러 개선 방안들이 존재합니다."
   ]
  },
  {
   "cell_type": "markdown",
   "id": "ffd42721",
   "metadata": {},
   "source": [
    "# Extractive Summarization"
   ]
  },
  {
   "cell_type": "code",
   "execution_count": 54,
   "id": "c1b82a8f",
   "metadata": {},
   "outputs": [
    {
     "data": {
      "text/plain": [
       "0        Saurav Kant, an alumnus of upGrad and IIIT-B's...\n",
       "1        Kunal Shah's credit card bill payment platform...\n",
       "2        New Zealand defeated India by 8 wickets in the...\n",
       "3        With Aegon Life iTerm Insurance plan, customer...\n",
       "4        Speaking about the sexual harassment allegatio...\n",
       "                               ...                        \n",
       "98396    A CRPF jawan was on Tuesday axed to death with...\n",
       "98397    'Uff Yeh', the first song from the Sonakshi Si...\n",
       "98398    According to reports, a new version of the 199...\n",
       "98399    A new music video shows rapper Snoop Dogg aimi...\n",
       "98400    Madhesi Morcha, an alliance of seven political...\n",
       "Name: text, Length: 98401, dtype: object"
      ]
     },
     "execution_count": 54,
     "metadata": {},
     "output_type": "execute_result"
    }
   ],
   "source": [
    "# load data\n",
    "data = pd.read_csv('news_summary_more.csv', encoding='iso-8859-1')\n",
    "text = data['text']\n",
    "text"
   ]
  },
  {
   "cell_type": "code",
   "execution_count": 55,
   "id": "c1de45d7",
   "metadata": {},
   "outputs": [],
   "source": [
    "# summarize(data['text'].iloc[19], ratio=0.5)"
   ]
  },
  {
   "cell_type": "code",
   "execution_count": 56,
   "id": "345c32da",
   "metadata": {
    "scrolled": true
   },
   "outputs": [],
   "source": [
    "# pandas.Series.str.cat\n",
    "# text = text[50:100].str.cat(sep='\\n')"
   ]
  },
  {
   "cell_type": "code",
   "execution_count": 57,
   "id": "9b5d9b56",
   "metadata": {},
   "outputs": [
    {
     "name": "stdout",
     "output_type": "stream",
     "text": [
      "0        Saurav Kant, an alumnus of upGrad and IIIT-B's...\n",
      "1        Kunal Shah's credit card bill payment platform...\n",
      "2        New Zealand defeated India by 8 wickets in the...\n",
      "3        With Aegon Life iTerm Insurance plan, customer...\n",
      "4        Speaking about the sexual harassment allegatio...\n",
      "                               ...                        \n",
      "98396    A CRPF jawan was on Tuesday axed to death with...\n",
      "98397    'Uff Yeh', the first song from the Sonakshi Si...\n",
      "98398    According to reports, a new version of the 199...\n",
      "98399    A new music video shows rapper Snoop Dogg aimi...\n",
      "98400    Madhesi Morcha, an alliance of seven political...\n",
      "Name: text, Length: 98401, dtype: object\n"
     ]
    }
   ],
   "source": [
    "# check data\n",
    "print(text)"
   ]
  },
  {
   "cell_type": "code",
   "execution_count": 58,
   "id": "c7209b52",
   "metadata": {
    "scrolled": false
   },
   "outputs": [
    {
     "name": "stdout",
     "output_type": "stream",
     "text": [
      "Former Finance Minister Yashwant Sinha on Tuesday demanded a probe into the alleged diversion of loans worth Ã¢ÂÂ¹31,000 crore by Dewan Housing Finance (DHFL).\n",
      "Boeing retained its position as the world's largest planemaker for the seventh straight year, delivering 806 aircraft in 2018.\n",
      "\n",
      "Further, its OnePlus 6 emerged as the highest selling premium smartphone of 2018 followed by OnePlus 6T.\n",
      "Filmmaker Pooja Bhatt, while talking about the presentation of women in her films, said, \"I can never look at a female body, even if it's naked, in a vulgar manner.\" \"Our audience can say...the women in my films are bold or sensual, but never ever vulgar,\" she added.\n",
      "Actress Mishti, who has featured in 'Manikarnika: The Queen of Jhansi', has said the film's co-director Kangana Ranaut made false promises to the cast.\n",
      "The high-powered committee led by PM Narendra Modi to select the next CBI Director will meet again on February 1, Congress leader Mallikarjun Kharge has said.\n",
      "Nevada State Athletic Commission has banned MMA fighters Conor McGregor and Khabib Nurmagomedov for six months and nine months respectively over their roles in the mass brawl that occurred after their fight at UFC 229 last October.\n",
      "Pakistan captain Sarfaraz Ahmed, who has been banned for four matches over racist remarks, took an apparent dig at his critics by sharing a video of a child reciting 'log hai na' poem on Twitter.\n",
      "Sreesanth further said the bookie tried dragging him into spot-fixing but he didn't fall for it.\n",
      "The Finance Ministry on Wednesday said the government will present an Interim Budget on February 1.\n",
      "US President Donald Trump on Wednesday called his country's top intelligence chiefs \"naive\" and \"wrong\" on Iran and added that they should perhaps \"go back to school\".\n",
      "A senior priest at the Vatican who handled cases of sexual abuse has quit after being accused of sexual abuse by a former nun.\n",
      "A 22-year-old writer turned down a job offer, claiming she was bullied to the point of tears during her two-hour interview by a UK company's CEO.\n",
      "Noida Police has arrested Sector 20 station in-charge Manoj Pant and three journalists for allegedly extorting money from a call centre owner for removing his name from an FIR.\n",
      "Airtel Africa, the holding company for Airtel's operations in 14 African countries, is preparing for an initial public offering.\n",
      "Actor Shreyas Talpade said that 'Golmaal' filmmaker Rohit Shetty is still working on the script for the fifth instalment of the 'Golmaal' film franchise.\n",
      "Once he's done with the...scripting, he'll take a call,Ã¢ÂÂ the actor added.\n",
      "A 72-year-old man named Terry Sanderson has sued 'Avengers' actress Gwyneth Paltrow for allegedly crashing into him while skiing, and is seeking $3.1 million (over Ã¢ÂÂ¹22 crore) in damages.\n",
      "Yami Gautam was felicitated by Border Security Force (BSF) in Amritsar for her performance in 'Uri: The Surgical Strike'.\n",
      "Social media giant Facebook has hired privacy critic Nate Cardozo, formerly the top legal counsel for US privacy watchdog EFF, as a privacy policy manager for WhatsApp. Cardozo had called Facebook a \"faceless corporation\" whose business model depends on user's confusion and indifference about privacy, in October 2015.\n",
      "\"WeÃ¢ÂÂve decided to go back to (iPhone prices) more commensurate with...local prices...a year ago,\" Cook added.\n",
      "\"The majority of fatalities from shark bites is due to blood loss...shock from blood loss,\" a scientist said.\n",
      "BJP National Secretary Rahul Sinha on Wednesday asked the party workers in West Bengal to come armed with sticks to PM Narendra Modi's rally in the state on February 2.\n",
      "BJP President Amit Shah on Wednesday took a dig at the Opposition parties saying that the 'mahagathbandhan' for the Opposition is 4B - \"Bua-Bhatija-Bhai-Behen\".\n",
      "Volkswagen's sales, including its MAN and Scania heavy trucks and buses, rose 0.9% to 10.83 million in 2018, the company had said.\n",
      "Ousted Nissan Chairman Carlos Ghosn has said his arrest over alleged financial misconduct was led by \"plot and treason\" by the Japanese carmaker's executives who opposed its deeper integration with Renault and Mitsubishi.\n",
      "The government has cut down customs duty on import of parts and components for electric vehicles to 10-15%, down from the previous 15-30%.\n",
      "Government officials on Wednesday said that a swine flu outbreak has killed 76 people this year in Rajasthan.\n",
      "\"North Korean leaders view nuclear arms as critical to regime survival,\" he added.\n",
      "Further, three aircraft have been temporarily grounded to carry out an engine normalisation exercise, it added.\n",
      "Retired Justice Srikrishna's enquiry panel has found that ex-CEO Chanda Kochhar violated ICICI Bank's code of conduct.\n",
      "Ex-India cricketer Jacob Martin has been shifted to general ward from the ICU after being on a ventilator for nearly a month following a road accident, wherein he severely injured his lungs.\n",
      "Tanya accused Perera of meeting country's Sports Minister to secure his place in the team.\n",
      "Goa CM and ex-Defence Minister Manohar Parrikar has written a letter to Congress President Rahul Gandhi over his claim that Parrikar told him he has nothing to do with new Rafale deal.\n",
      "PM Modi then asked his officers to urgently arrange for an ambulance for the cameraman.\n",
      "A couple got divorced minutes after their wedding ceremony got over in Gujarat's Gondal as a disagreement broke out and relatives from both sides started throwing dishes at each other during lunch.\n",
      "Gujarat Education Minister Bhupendrasinh Chudasma has written a congratulatory message to a yoga ashram run by rape-convict Asaram's organisation for observing February 14 as \"Matru-Pitru Pujan Divas\" (Mother-Father worship day).\n",
      "Venezuelan President NicolÃÂ¡s Maduro has claimed that his American counterpart Donald Trump ordered the Colombian government and the Colombian mafia to kill him.\n",
      "The richest among them is Hong Kong's Li Ka Shing with a net worth of $30.5 billion.\n",
      "Tamil Nadu food safety officials on Wednesday raided and seized 1,000 kgs of banned plastic items from Hotel Saravana Bhavan in Chennai's Vadapalani.\n",
      "Actress Shamita Shetty was verbally abused and her driver was slapped in an incident of road rage in Mumbai on Tuesday, as per reports.\n",
      "Actress Vaani Kapoor said that trolling has become a norm on social media, adding, \"There's no one who hasn't got trolled on social media.\" \"Everybody is out there to pull the other person down but it'll only bother [you] if you let it bother you,\" Vaani added.\n",
      "Actress Sushmita Sen took to Instagram to share a joke on the subject of marriage.\n",
      "\"This is an insult to [the] beauty of marriage,\" an Instagram user commented on her post.\n",
      "Television actor Karanvir Bohra, who flew to Russia on Tuesday to attend a film festival, has been detained in Moscow due to passport damage.\n",
      "While speaking about winning awards for his films, Shah Rukh Khan said, \"If I don't get an award, that award is at a loss.\" \"Sometimes, the prestige of an award increases when I receive it,\" the actor jokingly added.\n",
      "Actress Patralekhaa will make her debut in the Kannada film industry with the action-comedy film 'Where is my Kannadaka?' \"I can definitely say that itÃ¢ÂÂs a kind of role that I havenÃ¢ÂÂt portrayed on screen so far and that makes it special for me,\" the actress said in a statement.\n",
      "Gmail on Tuesday faced a global outage, which also affected India, wherein certain users complained they faced a '404 error' message while trying to sign-in to their accounts.\n",
      "The error message read: \"The requested URL was not found on this server.\n",
      "Shiv Sena chief Uddhav Thackeray has asked the BJP to decide about the alliance with the Sena within 15 days and said the BJP should make a concrete proposal on the alliance.\n",
      "He said the Opposition is thinking about leading the country but does not have a leader.\n",
      "He added decisions like demonetisation and RERA have put a check on black money that used to be \"parked in the real estate sector\".\n"
     ]
    }
   ],
   "source": [
    "# summarize with ratio of 0.4\n",
    "for i in range(50,100):\n",
    "    print(summarize(text[i], ratio=0.5))"
   ]
  },
  {
   "cell_type": "code",
   "execution_count": 59,
   "id": "65db32c2",
   "metadata": {},
   "outputs": [
    {
     "name": "stdout",
     "output_type": "stream",
     "text": [
      "['Former Finance Minister Yashwant Sinha on Tuesday demanded a probe into the alleged diversion of loans worth Ã¢Â\\x82Â¹31,000 crore by Dewan Housing Finance (DHFL).']\n",
      "[\"Boeing retained its position as the world's largest planemaker for the seventh straight year, delivering 806 aircraft in 2018.\"]\n",
      "[]\n",
      "['Further, its OnePlus 6 emerged as the highest selling premium smartphone of 2018 followed by OnePlus 6T.']\n",
      "['Filmmaker Pooja Bhatt, while talking about the presentation of women in her films, said, \"I can never look at a female body, even if it\\'s naked, in a vulgar manner.\" \"Our audience can say...the women in my films are bold or sensual, but never ever vulgar,\" she added.']\n",
      "[\"Actress Mishti, who has featured in 'Manikarnika: The Queen of Jhansi', has said the film's co-director Kangana Ranaut made false promises to the cast.\"]\n",
      "['The high-powered committee led by PM Narendra Modi to select the next CBI Director will meet again on February 1, Congress leader Mallikarjun Kharge has said.']\n",
      "['Nevada State Athletic Commission has banned MMA fighters Conor McGregor and Khabib Nurmagomedov for six months and nine months respectively over their roles in the mass brawl that occurred after their fight at UFC 229 last October.']\n",
      "[\"Pakistan captain Sarfaraz Ahmed, who has been banned for four matches over racist remarks, took an apparent dig at his critics by sharing a video of a child reciting 'log hai na' poem on Twitter.\"]\n",
      "[\"Sreesanth further said the bookie tried dragging him into spot-fixing but he didn't fall for it.\"]\n",
      "['The Finance Ministry on Wednesday said the government will present an Interim Budget on February 1.']\n",
      "['US President Donald Trump on Wednesday called his country\\'s top intelligence chiefs \"naive\" and \"wrong\" on Iran and added that they should perhaps \"go back to school\".']\n",
      "['A senior priest at the Vatican who handled cases of sexual abuse has quit after being accused of sexual abuse by a former nun.']\n",
      "[\"A 22-year-old writer turned down a job offer, claiming she was bullied to the point of tears during her two-hour interview by a UK company's CEO.\"]\n",
      "['Noida Police has arrested Sector 20 station in-charge Manoj Pant and three journalists for allegedly extorting money from a call centre owner for removing his name from an FIR.']\n",
      "[\"Airtel Africa, the holding company for Airtel's operations in 14 African countries, is preparing for an initial public offering.\"]\n",
      "[\"Actor Shreyas Talpade said that 'Golmaal' filmmaker Rohit Shetty is still working on the script for the fifth instalment of the 'Golmaal' film franchise.\", \"Once he's done with the...scripting, he'll take a call,Ã¢Â\\x80Â\\x9d the actor added.\"]\n",
      "[\"A 72-year-old man named Terry Sanderson has sued 'Avengers' actress Gwyneth Paltrow for allegedly crashing into him while skiing, and is seeking $3.1 million (over Ã¢Â\\x82Â¹22 crore) in damages.\"]\n",
      "[\"Yami Gautam was felicitated by Border Security Force (BSF) in Amritsar for her performance in 'Uri: The Surgical Strike'.\"]\n",
      "['Social media giant Facebook has hired privacy critic Nate Cardozo, formerly the top legal counsel for US privacy watchdog EFF, as a privacy policy manager for WhatsApp. Cardozo had called Facebook a \"faceless corporation\" whose business model depends on user\\'s confusion and indifference about privacy, in October 2015.']\n",
      "['\"WeÃ¢Â\\x80Â\\x99ve decided to go back to (iPhone prices) more commensurate with...local prices...a year ago,\" Cook added.']\n",
      "['\"The majority of fatalities from shark bites is due to blood loss...shock from blood loss,\" a scientist said.']\n",
      "[\"BJP National Secretary Rahul Sinha on Wednesday asked the party workers in West Bengal to come armed with sticks to PM Narendra Modi's rally in the state on February 2.\"]\n",
      "['BJP President Amit Shah on Wednesday took a dig at the Opposition parties saying that the \\'mahagathbandhan\\' for the Opposition is 4B - \"Bua-Bhatija-Bhai-Behen\".']\n",
      "[\"Volkswagen's sales, including its MAN and Scania heavy trucks and buses, rose 0.9% to 10.83 million in 2018, the company had said.\"]\n",
      "['Ousted Nissan Chairman Carlos Ghosn has said his arrest over alleged financial misconduct was led by \"plot and treason\" by the Japanese carmaker\\'s executives who opposed its deeper integration with Renault and Mitsubishi.']\n",
      "['The government has cut down customs duty on import of parts and components for electric vehicles to 10-15%, down from the previous 15-30%.']\n",
      "['Government officials on Wednesday said that a swine flu outbreak has killed 76 people this year in Rajasthan.']\n",
      "['\"North Korean leaders view nuclear arms as critical to regime survival,\" he added.']\n",
      "['Further, three aircraft have been temporarily grounded to carry out an engine normalisation exercise, it added.']\n",
      "[\"Retired Justice Srikrishna's enquiry panel has found that ex-CEO Chanda Kochhar violated ICICI Bank's code of conduct.\"]\n",
      "['Ex-India cricketer Jacob Martin has been shifted to general ward from the ICU after being on a ventilator for nearly a month following a road accident, wherein he severely injured his lungs.']\n",
      "[\"Tanya accused Perera of meeting country's Sports Minister to secure his place in the team.\"]\n",
      "['Goa CM and ex-Defence Minister Manohar Parrikar has written a letter to Congress President Rahul Gandhi over his claim that Parrikar told him he has nothing to do with new Rafale deal.']\n",
      "['PM Modi then asked his officers to urgently arrange for an ambulance for the cameraman.']\n",
      "[\"A couple got divorced minutes after their wedding ceremony got over in Gujarat's Gondal as a disagreement broke out and relatives from both sides started throwing dishes at each other during lunch.\"]\n",
      "['Gujarat Education Minister Bhupendrasinh Chudasma has written a congratulatory message to a yoga ashram run by rape-convict Asaram\\'s organisation for observing February 14 as \"Matru-Pitru Pujan Divas\" (Mother-Father worship day).']\n",
      "['Venezuelan President NicolÃ\\x83Â¡s Maduro has claimed that his American counterpart Donald Trump ordered the Colombian government and the Colombian mafia to kill him.']\n",
      "[\"The richest among them is Hong Kong's Li Ka Shing with a net worth of $30.5 billion.\"]\n",
      "[\"Tamil Nadu food safety officials on Wednesday raided and seized 1,000 kgs of banned plastic items from Hotel Saravana Bhavan in Chennai's Vadapalani.\"]\n",
      "['Actress Shamita Shetty was verbally abused and her driver was slapped in an incident of road rage in Mumbai on Tuesday, as per reports.']\n",
      "['Actress Vaani Kapoor said that trolling has become a norm on social media, adding, \"There\\'s no one who hasn\\'t got trolled on social media.\" \"Everybody is out there to pull the other person down but it\\'ll only bother [you] if you let it bother you,\" Vaani added.']\n",
      "['Actress Sushmita Sen took to Instagram to share a joke on the subject of marriage.', '\"This is an insult to [the] beauty of marriage,\" an Instagram user commented on her post.']\n",
      "['Television actor Karanvir Bohra, who flew to Russia on Tuesday to attend a film festival, has been detained in Moscow due to passport damage.']\n",
      "['While speaking about winning awards for his films, Shah Rukh Khan said, \"If I don\\'t get an award, that award is at a loss.\" \"Sometimes, the prestige of an award increases when I receive it,\" the actor jokingly added.']\n",
      "['Actress Patralekhaa will make her debut in the Kannada film industry with the action-comedy film \\'Where is my Kannadaka?\\' \"I can definitely say that itÃ¢Â\\x80Â\\x99s a kind of role that I havenÃ¢Â\\x80Â\\x99t portrayed on screen so far and that makes it special for me,\" the actress said in a statement.']\n",
      "[\"Gmail on Tuesday faced a global outage, which also affected India, wherein certain users complained they faced a '404 error' message while trying to sign-in to their accounts.\", 'The error message read: \"The requested URL was not found on this server.']\n",
      "['Shiv Sena chief Uddhav Thackeray has asked the BJP to decide about the alliance with the Sena within 15 days and said the BJP should make a concrete proposal on the alliance.']\n",
      "['He said the Opposition is thinking about leading the country but does not have a leader.']\n",
      "['He added decisions like demonetisation and RERA have put a check on black money that used to be \"parked in the real estate sector\".']\n"
     ]
    }
   ],
   "source": [
    "# summarize with ratio of 0.4 and put it to a list\n",
    "for i in range(50,100):\n",
    "    print(summarize(text[i], ratio=0.5, split=True))"
   ]
  },
  {
   "cell_type": "code",
   "execution_count": 60,
   "id": "05a0c4cc",
   "metadata": {},
   "outputs": [
    {
     "name": "stdout",
     "output_type": "stream",
     "text": [
      "Former Finance Minister Yashwant Sinha on Tuesday demanded a probe into the alleged diversion of loans worth Ã¢ÂÂ¹31,000 crore by Dewan Housing Finance (DHFL).\n",
      "Boeing retained its position as the world's largest planemaker for the seventh straight year, delivering 806 aircraft in 2018.\n",
      "\n",
      "Further, its OnePlus 6 emerged as the highest selling premium smartphone of 2018 followed by OnePlus 6T.\n",
      "\n",
      "Actress Mishti, who has featured in 'Manikarnika: The Queen of Jhansi', has said the film's co-director Kangana Ranaut made false promises to the cast.\n",
      "The high-powered committee led by PM Narendra Modi to select the next CBI Director will meet again on February 1, Congress leader Mallikarjun Kharge has said.\n",
      "\n",
      "\n",
      "Sreesanth further said the bookie tried dragging him into spot-fixing but he didn't fall for it.\n",
      "The Finance Ministry on Wednesday said the government will present an Interim Budget on February 1.\n",
      "US President Donald Trump on Wednesday called his country's top intelligence chiefs \"naive\" and \"wrong\" on Iran and added that they should perhaps \"go back to school\".\n",
      "A senior priest at the Vatican who handled cases of sexual abuse has quit after being accused of sexual abuse by a former nun.\n",
      "A 22-year-old writer turned down a job offer, claiming she was bullied to the point of tears during her two-hour interview by a UK company's CEO.\n",
      "Noida Police has arrested Sector 20 station in-charge Manoj Pant and three journalists for allegedly extorting money from a call centre owner for removing his name from an FIR.\n",
      "Airtel Africa, the holding company for Airtel's operations in 14 African countries, is preparing for an initial public offering.\n",
      "Actor Shreyas Talpade said that 'Golmaal' filmmaker Rohit Shetty is still working on the script for the fifth instalment of the 'Golmaal' film franchise.\n",
      "A 72-year-old man named Terry Sanderson has sued 'Avengers' actress Gwyneth Paltrow for allegedly crashing into him while skiing, and is seeking $3.1 million (over Ã¢ÂÂ¹22 crore) in damages.\n",
      "Yami Gautam was felicitated by Border Security Force (BSF) in Amritsar for her performance in 'Uri: The Surgical Strike'.\n",
      "\n",
      "\"WeÃ¢ÂÂve decided to go back to (iPhone prices) more commensurate with...local prices...a year ago,\" Cook added.\n",
      "\"The majority of fatalities from shark bites is due to blood loss...shock from blood loss,\" a scientist said.\n",
      "BJP National Secretary Rahul Sinha on Wednesday asked the party workers in West Bengal to come armed with sticks to PM Narendra Modi's rally in the state on February 2.\n",
      "BJP President Amit Shah on Wednesday took a dig at the Opposition parties saying that the 'mahagathbandhan' for the Opposition is 4B - \"Bua-Bhatija-Bhai-Behen\".\n",
      "Volkswagen's sales, including its MAN and Scania heavy trucks and buses, rose 0.9% to 10.83 million in 2018, the company had said.\n",
      "\n",
      "The government has cut down customs duty on import of parts and components for electric vehicles to 10-15%, down from the previous 15-30%.\n",
      "Government officials on Wednesday said that a swine flu outbreak has killed 76 people this year in Rajasthan.\n",
      "\"North Korean leaders view nuclear arms as critical to regime survival,\" he added.\n",
      "Further, three aircraft have been temporarily grounded to carry out an engine normalisation exercise, it added.\n",
      "Retired Justice Srikrishna's enquiry panel has found that ex-CEO Chanda Kochhar violated ICICI Bank's code of conduct.\n",
      "\n",
      "Tanya accused Perera of meeting country's Sports Minister to secure his place in the team.\n",
      "\n",
      "PM Modi then asked his officers to urgently arrange for an ambulance for the cameraman.\n",
      "\n",
      "Gujarat Education Minister Bhupendrasinh Chudasma has written a congratulatory message to a yoga ashram run by rape-convict Asaram's organisation for observing February 14 as \"Matru-Pitru Pujan Divas\" (Mother-Father worship day).\n",
      "Venezuelan President NicolÃÂ¡s Maduro has claimed that his American counterpart Donald Trump ordered the Colombian government and the Colombian mafia to kill him.\n",
      "The richest among them is Hong Kong's Li Ka Shing with a net worth of $30.5 billion.\n",
      "Tamil Nadu food safety officials on Wednesday raided and seized 1,000 kgs of banned plastic items from Hotel Saravana Bhavan in Chennai's Vadapalani.\n",
      "Actress Shamita Shetty was verbally abused and her driver was slapped in an incident of road rage in Mumbai on Tuesday, as per reports.\n",
      "\n",
      "\"This is an insult to [the] beauty of marriage,\" an Instagram user commented on her post.\n",
      "Television actor Karanvir Bohra, who flew to Russia on Tuesday to attend a film festival, has been detained in Moscow due to passport damage.\n",
      "\n",
      "\n",
      "Gmail on Tuesday faced a global outage, which also affected India, wherein certain users complained they faced a '404 error' message while trying to sign-in to their accounts.\n",
      "\n",
      "He said the Opposition is thinking about leading the country but does not have a leader.\n",
      "He added decisions like demonetisation and RERA have put a check on black money that used to be \"parked in the real estate sector\".\n"
     ]
    }
   ],
   "source": [
    "# summarize by words\n",
    "for i in range(50,100):\n",
    "    print(summarize(text[i], words=15))"
   ]
  },
  {
   "cell_type": "markdown",
   "id": "5e5800d5",
   "metadata": {},
   "source": [
    "# 회고\n",
    "\n",
    "1회차\n",
    "- regex를 이용한 전처리 부분에서 너무 오랜 시간이 걸리기에 다른 방식으로 구현해 보기로 하였다.\n",
    "    - 한용님이 더 빠른 전처리 방법을 알려주셔서 사용해보았다.\n",
    "    - 전에는 10분과 5분이 걸리는 전처리 과정이 둘 다 1분안에 끝나는 쾌거를 이루었다.\n",
    "\n",
    "2회차\n",
    "- 모델훈련후 결과를 출력해보니 전혀 요약과 비슷한 결과를 내놓지 못했다.\n",
    "- summarize는 40% 정도 비율을 정해줘야 결과가 나오기 시작했다.\n",
    "    - 그보다 적은 숫자를 정하면 빈 칸을 출력했다.\n",
    "    - 50% 정도로 하거나 단어수 지정을 15정도로 하면 대부분 추출 요약 잘 되어 나타나는 것을 볼수가 있었다.\n",
    "\n",
    "3회차\n",
    "- 요약 결과가 별로 좋지가 않아서 LSTM대신 BiLSTM을 encoder에만 적용시켜 보기로 했다.\n",
    "    - https://github.com/tensorflow/nmt 글에서 hyperparameter section에서 bahdanau-style attention layer (additive attention)를 사용한다면 encoder에만 LSTM 대신 BiLSTM을 사용하면 모델 학습이 더 잘 된다는 말을 하여 적용해 보았다.\n",
    "    - decoder 설계 부분에 ValueError: An `initial_state` was passed that is not compatible with `cell.state_size`. Received `state_spec`=ListWrapper([InputSpec(shape=(None, 512), ndim=2), InputSpec(shape=(None, 512), ndim=2)]); however `cell.state_size` is [256, 256] 에러가 났다\n",
    "    - 인터넷에서 찾아봐서 decoder LSTM에 hidden size를 변경하면 가능할 것 같다는 생각이 들어 바꿔서 에러를 해결하고 전체 코드를 돌려보았다.\n",
    "    - 다시 attention layer에서 같은 에러가 났다\n",
    "    - outputs 설정이 잘못되어서 차원수를 잘못 계산되는 에러여서 곧 해결할 수 있었다.\n",
    "- 에러들을 다 해결한 후 다시 한번 모델 재학습 및 출력결과를 확인하기로 했다.\n",
    "\n",
    "4회차\n",
    "- Beam search, pre-trained word embedding 적용?"
   ]
  },
  {
   "cell_type": "code",
   "execution_count": null,
   "id": "bbb73eeb",
   "metadata": {},
   "outputs": [],
   "source": []
  }
 ],
 "metadata": {
  "kernelspec": {
   "display_name": "Python 3 (ipykernel)",
   "language": "python",
   "name": "python3"
  },
  "language_info": {
   "codemirror_mode": {
    "name": "ipython",
    "version": 3
   },
   "file_extension": ".py",
   "mimetype": "text/x-python",
   "name": "python",
   "nbconvert_exporter": "python",
   "pygments_lexer": "ipython3",
   "version": "3.9.7"
  }
 },
 "nbformat": 4,
 "nbformat_minor": 5
}
