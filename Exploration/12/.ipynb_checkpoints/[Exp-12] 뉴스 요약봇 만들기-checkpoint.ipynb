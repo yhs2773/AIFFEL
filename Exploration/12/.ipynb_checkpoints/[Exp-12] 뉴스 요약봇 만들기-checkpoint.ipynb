{
 "cells": [
  {
   "cell_type": "markdown",
   "id": "754f1e54",
   "metadata": {},
   "source": [
    "# Preprocessing"
   ]
  },
  {
   "cell_type": "code",
   "execution_count": 1,
   "id": "dda5dd67",
   "metadata": {},
   "outputs": [
    {
     "name": "stderr",
     "output_type": "stream",
     "text": [
      "[nltk_data] Downloading package stopwords to /aiffel/nltk_data...\n",
      "[nltk_data]   Package stopwords is already up-to-date!\n"
     ]
    }
   ],
   "source": [
    "# NLTK, stands for Natural Language Toolkit, is a library for English punctuations, statistics, and NLP\n",
    "# NLTK contains 100 words like I, my, me, over, postposition, suffix, but not needed/necessary for abstraction\n",
    "# use NLTK to remove stopwords from dataset\n",
    "import nltk\n",
    "nltk.download('stopwords')\n",
    "import warnings\n",
    "warnings.filterwarnings(\"ignore\", category=UserWarning, module='bs4')\n",
    "import urllib.request\n",
    "import numpy as np\n",
    "import pandas as pd\n",
    "import os, re\n",
    "import matplotlib.pyplot as plt\n",
    "import requests\n",
    "import summa\n",
    "\n",
    "from summa.summarizer import summarize\n",
    "from nltk.corpus import stopwords\n",
    "from bs4 import BeautifulSoup \n",
    "from tensorflow.keras.preprocessing.text import Tokenizer \n",
    "from tensorflow.keras.preprocessing.sequence import pad_sequences\n",
    "from tensorflow.keras.layers import Input, LSTM, Embedding, Dense, Concatenate, TimeDistributed\n",
    "from tensorflow.keras.models import Model\n",
    "from tensorflow.keras.callbacks import EarlyStopping, ModelCheckpoint\n",
    "from tensorflow.keras.layers import AdditiveAttention"
   ]
  },
  {
   "cell_type": "code",
   "execution_count": 2,
   "id": "1cdddf0a",
   "metadata": {},
   "outputs": [],
   "source": [
    "# load data from url\n",
    "urllib.request.urlretrieve(\"https://raw.githubusercontent.com/sunnysai12345/News_Summary/master/news_summary_more.csv\", filename=\"news_summary_more.csv\")\n",
    "data = pd.read_csv('news_summary_more.csv', encoding='iso-8859-1')"
   ]
  },
  {
   "cell_type": "code",
   "execution_count": 3,
   "id": "3e7c9c5f",
   "metadata": {},
   "outputs": [
    {
     "data": {
      "text/html": [
       "<div>\n",
       "<style scoped>\n",
       "    .dataframe tbody tr th:only-of-type {\n",
       "        vertical-align: middle;\n",
       "    }\n",
       "\n",
       "    .dataframe tbody tr th {\n",
       "        vertical-align: top;\n",
       "    }\n",
       "\n",
       "    .dataframe thead th {\n",
       "        text-align: right;\n",
       "    }\n",
       "</style>\n",
       "<table border=\"1\" class=\"dataframe\">\n",
       "  <thead>\n",
       "    <tr style=\"text-align: right;\">\n",
       "      <th></th>\n",
       "      <th>headlines</th>\n",
       "      <th>text</th>\n",
       "    </tr>\n",
       "  </thead>\n",
       "  <tbody>\n",
       "    <tr>\n",
       "      <th>0</th>\n",
       "      <td>upGrad learner switches to career in ML &amp; Al w...</td>\n",
       "      <td>Saurav Kant, an alumnus of upGrad and IIIT-B's...</td>\n",
       "    </tr>\n",
       "    <tr>\n",
       "      <th>1</th>\n",
       "      <td>Delhi techie wins free food from Swiggy for on...</td>\n",
       "      <td>Kunal Shah's credit card bill payment platform...</td>\n",
       "    </tr>\n",
       "    <tr>\n",
       "      <th>2</th>\n",
       "      <td>New Zealand end Rohit Sharma-led India's 12-ma...</td>\n",
       "      <td>New Zealand defeated India by 8 wickets in the...</td>\n",
       "    </tr>\n",
       "    <tr>\n",
       "      <th>3</th>\n",
       "      <td>Aegon life iTerm insurance plan helps customer...</td>\n",
       "      <td>With Aegon Life iTerm Insurance plan, customer...</td>\n",
       "    </tr>\n",
       "    <tr>\n",
       "      <th>4</th>\n",
       "      <td>Have known Hirani for yrs, what if MeToo claim...</td>\n",
       "      <td>Speaking about the sexual harassment allegatio...</td>\n",
       "    </tr>\n",
       "  </tbody>\n",
       "</table>\n",
       "</div>"
      ],
      "text/plain": [
       "                                           headlines  \\\n",
       "0  upGrad learner switches to career in ML & Al w...   \n",
       "1  Delhi techie wins free food from Swiggy for on...   \n",
       "2  New Zealand end Rohit Sharma-led India's 12-ma...   \n",
       "3  Aegon life iTerm insurance plan helps customer...   \n",
       "4  Have known Hirani for yrs, what if MeToo claim...   \n",
       "\n",
       "                                                text  \n",
       "0  Saurav Kant, an alumnus of upGrad and IIIT-B's...  \n",
       "1  Kunal Shah's credit card bill payment platform...  \n",
       "2  New Zealand defeated India by 8 wickets in the...  \n",
       "3  With Aegon Life iTerm Insurance plan, customer...  \n",
       "4  Speaking about the sexual harassment allegatio...  "
      ]
     },
     "execution_count": 3,
     "metadata": {},
     "output_type": "execute_result"
    }
   ],
   "source": [
    "data.head()\n",
    "# 이 데이터는 기사의 본문에 해당되는 text와 headlines 두 가지 열로 구성되어져 있습니다.\n",
    "\n",
    "# 추상적 요약을 하는 경우에는 text를 본문, headlines를 이미 요약된 데이터로 삼아서 모델을 학습할 수 있어요.\n",
    "# 추출적 요약을 하는 경우에는 오직 text열만을 사용하세요."
   ]
  },
  {
   "cell_type": "code",
   "execution_count": 4,
   "id": "96208a64",
   "metadata": {},
   "outputs": [
    {
     "data": {
      "text/html": [
       "<div>\n",
       "<style scoped>\n",
       "    .dataframe tbody tr th:only-of-type {\n",
       "        vertical-align: middle;\n",
       "    }\n",
       "\n",
       "    .dataframe tbody tr th {\n",
       "        vertical-align: top;\n",
       "    }\n",
       "\n",
       "    .dataframe thead th {\n",
       "        text-align: right;\n",
       "    }\n",
       "</style>\n",
       "<table border=\"1\" class=\"dataframe\">\n",
       "  <thead>\n",
       "    <tr style=\"text-align: right;\">\n",
       "      <th></th>\n",
       "      <th>headlines</th>\n",
       "      <th>text</th>\n",
       "    </tr>\n",
       "  </thead>\n",
       "  <tbody>\n",
       "    <tr>\n",
       "      <th>0</th>\n",
       "      <td>upGrad learner switches to career in ML &amp; Al w...</td>\n",
       "      <td>Saurav Kant, an alumnus of upGrad and IIIT-B's...</td>\n",
       "    </tr>\n",
       "    <tr>\n",
       "      <th>1</th>\n",
       "      <td>Delhi techie wins free food from Swiggy for on...</td>\n",
       "      <td>Kunal Shah's credit card bill payment platform...</td>\n",
       "    </tr>\n",
       "    <tr>\n",
       "      <th>2</th>\n",
       "      <td>New Zealand end Rohit Sharma-led India's 12-ma...</td>\n",
       "      <td>New Zealand defeated India by 8 wickets in the...</td>\n",
       "    </tr>\n",
       "    <tr>\n",
       "      <th>3</th>\n",
       "      <td>Aegon life iTerm insurance plan helps customer...</td>\n",
       "      <td>With Aegon Life iTerm Insurance plan, customer...</td>\n",
       "    </tr>\n",
       "    <tr>\n",
       "      <th>4</th>\n",
       "      <td>Have known Hirani for yrs, what if MeToo claim...</td>\n",
       "      <td>Speaking about the sexual harassment allegatio...</td>\n",
       "    </tr>\n",
       "  </tbody>\n",
       "</table>\n",
       "</div>"
      ],
      "text/plain": [
       "                                           headlines  \\\n",
       "0  upGrad learner switches to career in ML & Al w...   \n",
       "1  Delhi techie wins free food from Swiggy for on...   \n",
       "2  New Zealand end Rohit Sharma-led India's 12-ma...   \n",
       "3  Aegon life iTerm insurance plan helps customer...   \n",
       "4  Have known Hirani for yrs, what if MeToo claim...   \n",
       "\n",
       "                                                text  \n",
       "0  Saurav Kant, an alumnus of upGrad and IIIT-B's...  \n",
       "1  Kunal Shah's credit card bill payment platform...  \n",
       "2  New Zealand defeated India by 8 wickets in the...  \n",
       "3  With Aegon Life iTerm Insurance plan, customer...  \n",
       "4  Speaking about the sexual harassment allegatio...  "
      ]
     },
     "execution_count": 4,
     "metadata": {},
     "output_type": "execute_result"
    }
   ],
   "source": [
    "# slicing to use only text and summary cols\n",
    "data = data[['headlines','text']]\n",
    "data.head()"
   ]
  },
  {
   "cell_type": "code",
   "execution_count": 5,
   "id": "392b1b86",
   "metadata": {
    "scrolled": false
   },
   "outputs": [
    {
     "data": {
      "text/html": [
       "<div>\n",
       "<style scoped>\n",
       "    .dataframe tbody tr th:only-of-type {\n",
       "        vertical-align: middle;\n",
       "    }\n",
       "\n",
       "    .dataframe tbody tr th {\n",
       "        vertical-align: top;\n",
       "    }\n",
       "\n",
       "    .dataframe thead th {\n",
       "        text-align: right;\n",
       "    }\n",
       "</style>\n",
       "<table border=\"1\" class=\"dataframe\">\n",
       "  <thead>\n",
       "    <tr style=\"text-align: right;\">\n",
       "      <th></th>\n",
       "      <th>headlines</th>\n",
       "      <th>text</th>\n",
       "    </tr>\n",
       "  </thead>\n",
       "  <tbody>\n",
       "    <tr>\n",
       "      <th>68106</th>\n",
       "      <td>Man blocked from FB over 'Kamal ka phool hamar...</td>\n",
       "      <td>A freelance journalist named Mohammad Anas has...</td>\n",
       "    </tr>\n",
       "    <tr>\n",
       "      <th>12038</th>\n",
       "      <td>FIFA Women's WC 2019 will have prize fund doub...</td>\n",
       "      <td>FIFA will raise the prize money for the Women'...</td>\n",
       "    </tr>\n",
       "    <tr>\n",
       "      <th>22029</th>\n",
       "      <td>Madras HC pulls up CBSE for not issuing 'no ho...</td>\n",
       "      <td>Madras High Court on Friday pulled up Central ...</td>\n",
       "    </tr>\n",
       "    <tr>\n",
       "      <th>70273</th>\n",
       "      <td>Maruti Suzuki now 2nd best performing auto sto...</td>\n",
       "      <td>Maruti Suzuki India has become the second best...</td>\n",
       "    </tr>\n",
       "    <tr>\n",
       "      <th>57265</th>\n",
       "      <td>Surgical strikes just another operation: Speci...</td>\n",
       "      <td>A paratrooper, who was a part of Indian Army's...</td>\n",
       "    </tr>\n",
       "    <tr>\n",
       "      <th>47595</th>\n",
       "      <td>Will exit NDA alliance if demands not met by M...</td>\n",
       "      <td>The ruling Telugu Desam Party in Andhra Prades...</td>\n",
       "    </tr>\n",
       "    <tr>\n",
       "      <th>1994</th>\n",
       "      <td>Kerala government's conduct on Sabarimala sham...</td>\n",
       "      <td>Hitting out at CPI(M)-led Kerala government, P...</td>\n",
       "    </tr>\n",
       "    <tr>\n",
       "      <th>57278</th>\n",
       "      <td>3rd woman accuses actor Dustin Hoffman of sexu...</td>\n",
       "      <td>A woman named Kathryn Rossetter has accused Am...</td>\n",
       "    </tr>\n",
       "    <tr>\n",
       "      <th>69704</th>\n",
       "      <td>Saudi cleric bans birthdays claiming they are ...</td>\n",
       "      <td>A Saudi cleric has issued a fatwa on celebrati...</td>\n",
       "    </tr>\n",
       "    <tr>\n",
       "      <th>16869</th>\n",
       "      <td>Doubt if Rahul knows when Rabi, Kharif crops a...</td>\n",
       "      <td>Referring to the two main crop seasons in Indi...</td>\n",
       "    </tr>\n",
       "    <tr>\n",
       "      <th>30167</th>\n",
       "      <td>Promoted Harbhajan, Chahar vs KXIP to create c...</td>\n",
       "      <td>CSK captain MS Dhoni has revealed that he prom...</td>\n",
       "    </tr>\n",
       "    <tr>\n",
       "      <th>30552</th>\n",
       "      <td>UP issues notice to 6 ex-CMs to vacate govt bu...</td>\n",
       "      <td>The Uttar Pradesh government has issued notice...</td>\n",
       "    </tr>\n",
       "    <tr>\n",
       "      <th>95888</th>\n",
       "      <td>PV Sindhu, Saina Nehwal to clash in India Open...</td>\n",
       "      <td>Indian shuttlers PV Sindhu and Saina Nehwal wo...</td>\n",
       "    </tr>\n",
       "    <tr>\n",
       "      <th>50012</th>\n",
       "      <td>Man rumoured to be dead in Kasganj violence fo...</td>\n",
       "      <td>One of the two people alleged to have died dur...</td>\n",
       "    </tr>\n",
       "    <tr>\n",
       "      <th>49880</th>\n",
       "      <td>6.1 magnitude-earthquake hits Afghanistan, tre...</td>\n",
       "      <td>After an earthquake of magnitude 6.1 occurred ...</td>\n",
       "    </tr>\n",
       "  </tbody>\n",
       "</table>\n",
       "</div>"
      ],
      "text/plain": [
       "                                               headlines  \\\n",
       "68106  Man blocked from FB over 'Kamal ka phool hamar...   \n",
       "12038  FIFA Women's WC 2019 will have prize fund doub...   \n",
       "22029  Madras HC pulls up CBSE for not issuing 'no ho...   \n",
       "70273  Maruti Suzuki now 2nd best performing auto sto...   \n",
       "57265  Surgical strikes just another operation: Speci...   \n",
       "47595  Will exit NDA alliance if demands not met by M...   \n",
       "1994   Kerala government's conduct on Sabarimala sham...   \n",
       "57278  3rd woman accuses actor Dustin Hoffman of sexu...   \n",
       "69704  Saudi cleric bans birthdays claiming they are ...   \n",
       "16869  Doubt if Rahul knows when Rabi, Kharif crops a...   \n",
       "30167  Promoted Harbhajan, Chahar vs KXIP to create c...   \n",
       "30552  UP issues notice to 6 ex-CMs to vacate govt bu...   \n",
       "95888  PV Sindhu, Saina Nehwal to clash in India Open...   \n",
       "50012  Man rumoured to be dead in Kasganj violence fo...   \n",
       "49880  6.1 magnitude-earthquake hits Afghanistan, tre...   \n",
       "\n",
       "                                                    text  \n",
       "68106  A freelance journalist named Mohammad Anas has...  \n",
       "12038  FIFA will raise the prize money for the Women'...  \n",
       "22029  Madras High Court on Friday pulled up Central ...  \n",
       "70273  Maruti Suzuki India has become the second best...  \n",
       "57265  A paratrooper, who was a part of Indian Army's...  \n",
       "47595  The ruling Telugu Desam Party in Andhra Prades...  \n",
       "1994   Hitting out at CPI(M)-led Kerala government, P...  \n",
       "57278  A woman named Kathryn Rossetter has accused Am...  \n",
       "69704  A Saudi cleric has issued a fatwa on celebrati...  \n",
       "16869  Referring to the two main crop seasons in Indi...  \n",
       "30167  CSK captain MS Dhoni has revealed that he prom...  \n",
       "30552  The Uttar Pradesh government has issued notice...  \n",
       "95888  Indian shuttlers PV Sindhu and Saina Nehwal wo...  \n",
       "50012  One of the two people alleged to have died dur...  \n",
       "49880  After an earthquake of magnitude 6.1 occurred ...  "
      ]
     },
     "execution_count": 5,
     "metadata": {},
     "output_type": "execute_result"
    }
   ],
   "source": [
    "# print 15 random samples\n",
    "data.sample(15)"
   ]
  },
  {
   "cell_type": "code",
   "execution_count": 6,
   "id": "bbcf5261",
   "metadata": {},
   "outputs": [
    {
     "name": "stdout",
     "output_type": "stream",
     "text": [
      "Text 열에서 중복을 배제한 유일한 샘플의 수 : 98360\n",
      "Headlines 열에서 중복을 배제한 유일한 샘플의 수 : 98280\n"
     ]
    }
   ],
   "source": [
    "# pandas.DataFrame.nunique: count num of unique elements\n",
    "# checking for duplicates\n",
    "print('Text 열에서 중복을 배제한 유일한 샘플의 수 :', data['text'].nunique())\n",
    "print('Headlines 열에서 중복을 배제한 유일한 샘플의 수 :', data['headlines'].nunique())"
   ]
  },
  {
   "cell_type": "code",
   "execution_count": 7,
   "id": "b412687a",
   "metadata": {
    "scrolled": false
   },
   "outputs": [
    {
     "name": "stdout",
     "output_type": "stream",
     "text": [
      "전체 샘플수 : 98360\n"
     ]
    }
   ],
   "source": [
    "# use drop_duplicates to remove any duplicates\n",
    "data.drop_duplicates(subset = ['text'], inplace=True)\n",
    "print('전체 샘플수 :', (len(data)))"
   ]
  },
  {
   "cell_type": "code",
   "execution_count": 8,
   "id": "040da469",
   "metadata": {},
   "outputs": [
    {
     "name": "stdout",
     "output_type": "stream",
     "text": [
      "headlines    0\n",
      "text         0\n",
      "dtype: int64\n"
     ]
    }
   ],
   "source": [
    "# check for any null vals\n",
    "print(data.isnull().sum())"
   ]
  },
  {
   "cell_type": "code",
   "execution_count": 9,
   "id": "98683191",
   "metadata": {},
   "outputs": [
    {
     "name": "stdout",
     "output_type": "stream",
     "text": [
      "전체 샘플수 : 98360\n"
     ]
    }
   ],
   "source": [
    "# dropna to remove any null vals rows\n",
    "data.dropna(axis=0, inplace=True)\n",
    "print('전체 샘플수 :', (len(data)))"
   ]
  },
  {
   "cell_type": "code",
   "execution_count": 10,
   "id": "4d840940",
   "metadata": {},
   "outputs": [
    {
     "name": "stdout",
     "output_type": "stream",
     "text": [
      "정규화 사전의 수:  120\n"
     ]
    }
   ],
   "source": [
    "# dictionary for text normalization\n",
    "# text normalization: process of transforming text into a single canonical form that it might not have had before\n",
    "# canonical form: standard way of presenting that object as a mathematical expression\n",
    "# mathematical expression: finite combination of symbols that is well-formed according to rules that depend on the context\n",
    "# contraction: words or combinations of words that are shortened by dropping letters and\n",
    "# replacing them by an apostrophe, and removing them contributes to text standardization\n",
    "contractions = {\"ain't\": \"is not\", \"aren't\": \"are not\",\"can't\": \"cannot\", \"'cause\": \"because\", \"could've\": \"could have\", \"couldn't\": \"could not\",\n",
    "               \"didn't\": \"did not\",  \"doesn't\": \"does not\", \"don't\": \"do not\", \"hadn't\": \"had not\", \"hasn't\": \"has not\", \"haven't\": \"have not\",\n",
    "               \"he'd\": \"he would\",\"he'll\": \"he will\", \"he's\": \"he is\", \"how'd\": \"how did\", \"how'd'y\": \"how do you\", \"how'll\": \"how will\", \"how's\": \"how is\",\n",
    "               \"I'd\": \"I would\", \"I'd've\": \"I would have\", \"I'll\": \"I will\", \"I'll've\": \"I will have\",\"I'm\": \"I am\", \"I've\": \"I have\", \"i'd\": \"i would\",\n",
    "               \"i'd've\": \"i would have\", \"i'll\": \"i will\",  \"i'll've\": \"i will have\",\"i'm\": \"i am\", \"i've\": \"i have\", \"isn't\": \"is not\", \"it'd\": \"it would\",\n",
    "               \"it'd've\": \"it would have\", \"it'll\": \"it will\", \"it'll've\": \"it will have\",\"it's\": \"it is\", \"let's\": \"let us\", \"ma'am\": \"madam\",\n",
    "               \"mayn't\": \"may not\", \"might've\": \"might have\",\"mightn't\": \"might not\",\"mightn't've\": \"might not have\", \"must've\": \"must have\",\n",
    "               \"mustn't\": \"must not\", \"mustn't've\": \"must not have\", \"needn't\": \"need not\", \"needn't've\": \"need not have\",\"o'clock\": \"of the clock\",\n",
    "               \"oughtn't\": \"ought not\", \"oughtn't've\": \"ought not have\", \"shan't\": \"shall not\", \"sha'n't\": \"shall not\", \"shan't've\": \"shall not have\",\n",
    "               \"she'd\": \"she would\", \"she'd've\": \"she would have\", \"she'll\": \"she will\", \"she'll've\": \"she will have\", \"she's\": \"she is\",\n",
    "               \"should've\": \"should have\", \"shouldn't\": \"should not\", \"shouldn't've\": \"should not have\", \"so've\": \"so have\",\"so's\": \"so as\",\n",
    "               \"this's\": \"this is\",\"that'd\": \"that would\", \"that'd've\": \"that would have\", \"that's\": \"that is\", \"there'd\": \"there would\",\n",
    "               \"there'd've\": \"there would have\", \"there's\": \"there is\", \"here's\": \"here is\",\"they'd\": \"they would\", \"they'd've\": \"they would have\",\n",
    "               \"they'll\": \"they will\", \"they'll've\": \"they will have\", \"they're\": \"they are\", \"they've\": \"they have\", \"to've\": \"to have\",\n",
    "               \"wasn't\": \"was not\", \"we'd\": \"we would\", \"we'd've\": \"we would have\", \"we'll\": \"we will\", \"we'll've\": \"we will have\", \"we're\": \"we are\",\n",
    "               \"we've\": \"we have\", \"weren't\": \"were not\", \"what'll\": \"what will\", \"what'll've\": \"what will have\", \"what're\": \"what are\",\n",
    "               \"what's\": \"what is\", \"what've\": \"what have\", \"when's\": \"when is\", \"when've\": \"when have\", \"where'd\": \"where did\", \"where's\": \"where is\",\n",
    "               \"where've\": \"where have\", \"who'll\": \"who will\", \"who'll've\": \"who will have\", \"who's\": \"who is\", \"who've\": \"who have\",\n",
    "               \"why's\": \"why is\", \"why've\": \"why have\", \"will've\": \"will have\", \"won't\": \"will not\", \"won't've\": \"will not have\",\n",
    "               \"would've\": \"would have\", \"wouldn't\": \"would not\", \"wouldn't've\": \"would not have\", \"y'all\": \"you all\",\n",
    "               \"y'all'd\": \"you all would\",\"y'all'd've\": \"you all would have\",\"y'all're\": \"you all are\",\"y'all've\": \"you all have\",\n",
    "               \"you'd\": \"you would\", \"you'd've\": \"you would have\", \"you'll\": \"you will\", \"you'll've\": \"you will have\",\n",
    "               \"you're\": \"you are\", \"you've\": \"you have\"}\n",
    "\n",
    "print(\"정규화 사전의 수: \", len(contractions))"
   ]
  },
  {
   "cell_type": "code",
   "execution_count": 11,
   "id": "89666f84",
   "metadata": {},
   "outputs": [
    {
     "name": "stdout",
     "output_type": "stream",
     "text": [
      "불용어 개수 : 179\n",
      "['i', 'me', 'my', 'myself', 'we', 'our', 'ours', 'ourselves', 'you', \"you're\", \"you've\", \"you'll\", \"you'd\", 'your', 'yours', 'yourself', 'yourselves', 'he', 'him', 'his', 'himself', 'she', \"she's\", 'her', 'hers', 'herself', 'it', \"it's\", 'its', 'itself', 'they', 'them', 'their', 'theirs', 'themselves', 'what', 'which', 'who', 'whom', 'this', 'that', \"that'll\", 'these', 'those', 'am', 'is', 'are', 'was', 'were', 'be', 'been', 'being', 'have', 'has', 'had', 'having', 'do', 'does', 'did', 'doing', 'a', 'an', 'the', 'and', 'but', 'if', 'or', 'because', 'as', 'until', 'while', 'of', 'at', 'by', 'for', 'with', 'about', 'against', 'between', 'into', 'through', 'during', 'before', 'after', 'above', 'below', 'to', 'from', 'up', 'down', 'in', 'out', 'on', 'off', 'over', 'under', 'again', 'further', 'then', 'once', 'here', 'there', 'when', 'where', 'why', 'how', 'all', 'any', 'both', 'each', 'few', 'more', 'most', 'other', 'some', 'such', 'no', 'nor', 'not', 'only', 'own', 'same', 'so', 'than', 'too', 'very', 's', 't', 'can', 'will', 'just', 'don', \"don't\", 'should', \"should've\", 'now', 'd', 'll', 'm', 'o', 're', 've', 'y', 'ain', 'aren', \"aren't\", 'couldn', \"couldn't\", 'didn', \"didn't\", 'doesn', \"doesn't\", 'hadn', \"hadn't\", 'hasn', \"hasn't\", 'haven', \"haven't\", 'isn', \"isn't\", 'ma', 'mightn', \"mightn't\", 'mustn', \"mustn't\", 'needn', \"needn't\", 'shan', \"shan't\", 'shouldn', \"shouldn't\", 'wasn', \"wasn't\", 'weren', \"weren't\", 'won', \"won't\", 'wouldn', \"wouldn't\"]\n"
     ]
    }
   ],
   "source": [
    "# 일반적으로 텍스트에는 자주 등장하지만 자연어 처리를 할 때 실질적으로 별 도움이 되지 않는 단어들이 존재해요.\n",
    "# 이를 불용어(stopwords)라고 불러요. 때로는 불용어를 제거하는 것이 자연어 처리의 성능을 높이는 방법일 수 있어요.\n",
    "# 여기서는 NLTK에서 제공하는 불용어 리스트를 참조해, 샘플에서 불용어를 제거할 거예요.\n",
    "print('불용어 개수 :', len(stopwords.words('english') ))\n",
    "print(stopwords.words('english'))"
   ]
  },
  {
   "cell_type": "code",
   "execution_count": 12,
   "id": "b16dee37",
   "metadata": {},
   "outputs": [],
   "source": [
    "# 모든 영어 문자는 소문자로 만들고, 섞여있는 html 태그를 제거하고,\n",
    "# 정규 표현식을 통해 각종 특수문자를 제거해서 정말 필요한 내용만 잘 학습할 수 있도록 처리할 거예요.\n",
    "\n",
    "# 함수의 하단을 보면, NLTK를 이용해 불용어를 제거하는 파트가 있는데,\n",
    "# 이는 Text 전처리 시에서만 호출하고 이미 상대적으로 문장 길이가 짧은 Summary 전처리할 때는 호출하지 않을 예정이에요.\n",
    "# Abstractive한 문장 요약 결과문이 자연스러운 문장이 되려면 이 불용어들이 Summary에는 남아 있는 게 더 좋을 것 같습니다.\n",
    "# 이 처리를 위해서 함수의 인자로 remove_stopwords를 추가하고, if문을 추가했어요.\n",
    "# 데이터 전처리 함수\n",
    "def preprocess_sentence(sentence, remove_stopwords=True):\n",
    "    sentence = sentence.lower() # 텍스트 소문자화\n",
    "    sentence = BeautifulSoup(sentence, \"lxml\").text # <br />, <a href = ...> 등의 html 태그 제거\n",
    "    sentence = re.sub(r'\\([^)]*\\)', '', sentence) # 괄호로 닫힌 문자열 (...) 제거 Ex) my husband (and myself!) for => my husband for\n",
    "    sentence = re.sub('\"','', sentence) # 쌍따옴표 \" 제거\n",
    "    sentence = ' '.join([contractions[t] if t in contractions else t for t in sentence.split(\" \")]) # 약어 정규화\n",
    "    sentence = re.sub(r\"'s\\b\",\"\", sentence) # 소유격 제거. Ex) roland's -> roland\n",
    "    sentence = re.sub(\"[^a-zA-Z]\", \" \", sentence) # 영어 외 문자(숫자, 특수문자 등) 공백으로 변환\n",
    "    sentence = re.sub('[m]{2,}', 'mm', sentence) # m이 3개 이상이면 2개로 변경. Ex) ummmmmmm yeah -> umm yeah\n",
    "    \n",
    "    # 불용어 제거 (Text)\n",
    "    if remove_stopwords:\n",
    "        tokens = ' '.join(word for word in sentence.split() if not word in stopwords.words('english') if len(word) > 1)\n",
    "    # 불용어 미제거 (Summary)\n",
    "    else:\n",
    "        tokens = ' '.join(word for word in sentence.split() if len(word) > 1)\n",
    "    return tokens"
   ]
  },
  {
   "cell_type": "code",
   "execution_count": 13,
   "id": "88be1095",
   "metadata": {},
   "outputs": [
    {
     "name": "stdout",
     "output_type": "stream",
     "text": [
      "text:  everything bought great infact ordered twice third ordered wasfor mother father\n",
      "summary: great way to start the day\n"
     ]
    }
   ],
   "source": [
    "# 전처리 전, 후의 결과를 확인하기 위해서 임의의 text와 summary를 만들어 함수를 호출해 볼까요.\n",
    "temp_text = 'Everything I bought was great, infact I ordered twice and the third ordered was<br />for my mother and father.'\n",
    "temp_headlines = 'Great way to start (or finish) the day!!!'\n",
    "\n",
    "print(\"text: \", preprocess_sentence(temp_text))\n",
    "print(\"summary:\", preprocess_sentence(temp_headlines, False))  # 불용어를 제거하지 않습니다."
   ]
  },
  {
   "cell_type": "code",
   "execution_count": 14,
   "id": "82a8a960",
   "metadata": {},
   "outputs": [
    {
     "name": "stdout",
     "output_type": "stream",
     "text": [
      "Text 전처리 후 결과:  ['saurav kant alumnus upgrad iiit pg program machine learning artificial intelligence sr systems engineer infosys almost years work experience program upgrad degree career support helped transition data scientist tech mahindra salary hike upgrad online power learning powered lakh careers', 'kunal shah credit card bill payment platform cred gave users chance win free food swiggy one year pranav kaushik delhi techie bagged reward spending cred coins users get one cred coin per rupee bill paid used avail rewards brands like ixigo bookmyshow ubereats cult fit', 'new zealand defeated india wickets fourth odi hamilton thursday win first match five match odi series india lost international match rohit sharma captaincy consecutive victories dating back march match witnessed india getting seventh lowest total odi cricket history', 'aegon life iterm insurance plan customers enjoy tax benefits premiums paid save taxes plan provides life cover age years also customers options insure critical illnesses disability accidental death benefit rider life cover age years', 'speaking sexual harassment allegations rajkumar hirani sonam kapoor said known hirani many years true metoo movement get derailed metoo movement always believe woman case need reserve judgment added hirani accused assistant worked sanju']\n"
     ]
    }
   ],
   "source": [
    "# 결과를 보면 기본적으로 모든 알파벳이 소문자로 변환되고, <br />과 같은 html 태그가 제거되었죠.\n",
    "# (or finish)와 같은 괄호로 묶였던 단어 시퀀스가 제거된 것도 확인할 수 있어요. 또한 특수문자가 제거되면서 영어만 남았어요.\n",
    "\n",
    "# 이제 함수가 잘 작동하는 것을 확인했으니, 훈련 데이터 전체에 대해서 전처리를 수행해볼게요.\n",
    "# 이때, Text의 경우에는 불용어를 제거하고, Summary의 경우에는 불용어를 제거하지 않을 것이므로 따로 호출해서 진행해야 해요.\n",
    "# 먼저 Text를 전처리하고, 결과를 확인하기 위해서 상위 5개의 줄을 출력해볼게요.\n",
    "clean_text = []\n",
    "# 전체 Text 데이터에 대한 전처리 : 10분 이상 시간이 걸릴 수 있습니다. \n",
    "for s in data['text']:\n",
    "    clean_text.append(preprocess_sentence(s))\n",
    "\n",
    "# 전처리 후 출력\n",
    "print(\"Text 전처리 후 결과: \", clean_text[:5])"
   ]
  },
  {
   "cell_type": "code",
   "execution_count": 15,
   "id": "a618fe8b",
   "metadata": {},
   "outputs": [
    {
     "name": "stdout",
     "output_type": "stream",
     "text": [
      "Headlines 전처리 후 결과:  ['upgrad learner switches to career in ml al with salary hike', 'delhi techie wins free food from swiggy for one year on cred', 'new zealand end rohit sharma led india match winning streak', 'aegon life iterm insurance plan helps customers save tax', 'have known hirani for yrs what if metoo claims are not true sonam']\n"
     ]
    }
   ],
   "source": [
    "# 이제 Summary에 대해서 전처리 함수를 호출해 줄 때는, 불용어 제거를 수행하지 않는다는 의미에서 두 번째 인자로 False를 넣어줄게요.\n",
    "clean_headlines = []\n",
    "# 전체 Summary 데이터에 대한 전처리 : 5분 이상 시간이 걸릴 수 있습니다. \n",
    "for s in data['headlines']:\n",
    "    clean_headlines.append(preprocess_sentence(s, False))\n",
    "\n",
    "print(\"Headlines 전처리 후 결과: \", clean_headlines[:5])"
   ]
  },
  {
   "cell_type": "code",
   "execution_count": 16,
   "id": "bc09c3bd",
   "metadata": {},
   "outputs": [],
   "source": [
    "# 이렇게 텍스트 정제의 과정을 거친 후에는 다시 한번 빈(empty) 샘플이 생겼는지 확인해보는 것이 좋아요.\n",
    "# 정제 전에는 데이터가 존재했지만, 정제 과정에서 문장의 모든 단어가 사라지는 경우가 있을 수 있어요.\n",
    "# 이렇게 되면 샘플 자체가 빈 값을 가지게 되겠죠.\n",
    "\n",
    "# 보다 쉽게 확인하기 위해 데이터들을 데이터프레임에 재저장할게요.\n",
    "# 빈(empty) 값을 가진 샘플들이 있다면, 모두 Null 값을 가진 샘플로 대체해요.\n",
    "\n",
    "data['text'] = clean_text\n",
    "data['headlines'] = clean_headlines\n",
    "\n",
    "# 빈 값을 Null 값으로 변환\n",
    "data.replace('', np.nan, inplace=True)"
   ]
  },
  {
   "cell_type": "code",
   "execution_count": 17,
   "id": "55c943c4",
   "metadata": {},
   "outputs": [
    {
     "data": {
      "text/plain": [
       "headlines    0\n",
       "text         0\n",
       "dtype: int64"
      ]
     },
     "execution_count": 17,
     "metadata": {},
     "output_type": "execute_result"
    }
   ],
   "source": [
    "# 이전과 같이 .isnull().sum()을 사용해서 Null 값이 생겼는지 해볼게요.\n",
    "data.isnull().sum()"
   ]
  },
  {
   "cell_type": "code",
   "execution_count": 18,
   "id": "7d9d949d",
   "metadata": {},
   "outputs": [
    {
     "name": "stdout",
     "output_type": "stream",
     "text": [
      "전체 샘플수 : 98360\n"
     ]
    }
   ],
   "source": [
    "# Summary 열에서 70개의 Null 값이 생겼네요.\n",
    "# 원래는 단어가 있었는데, 정제 과정에서 모든 단어가 제거되어 빈 샘플이 70개나 생겼다는 의미예요. 이 샘플들은 모두 제거해줄게요.\n",
    "\n",
    "data.dropna(axis=0, inplace=True)\n",
    "print('전체 샘플수 :', (len(data)))"
   ]
  },
  {
   "cell_type": "code",
   "execution_count": 19,
   "id": "c2ca9e7f",
   "metadata": {},
   "outputs": [
    {
     "name": "stdout",
     "output_type": "stream",
     "text": [
      "텍스트의 최소 길이 : 1\n",
      "텍스트의 최대 길이 : 60\n",
      "텍스트의 평균 길이 : 35.09968483123221\n",
      "요약의 최소 길이 : 1\n",
      "요약의 최대 길이 : 16\n",
      "요약의 평균 길이 : 9.299532330215534\n"
     ]
    },
    {
     "data": {
      "image/png": "[encoded data removed]",
      "text/plain": [
       "<Figure size 432x288 with 2 Axes>"
      ]
     },
     "metadata": {
      "needs_background": "light"
     },
     "output_type": "display_data"
    },
    {
     "data": {
      "image/png": "[encoded data removed]",
      "text/plain": [
       "<Figure size 432x288 with 1 Axes>"
      ]
     },
     "metadata": {
      "needs_background": "light"
     },
     "output_type": "display_data"
    },
    {
     "data": {
      "image/png": "[encoded data removed]",
      "text/plain": [
       "<Figure size 432x288 with 1 Axes>"
      ]
     },
     "metadata": {
      "needs_background": "light"
     },
     "output_type": "display_data"
    }
   ],
   "source": [
    "# 필요 없는 단어를 모두 솎아낸 데이터를 가지게 되었으니, 이제 훈련에 사용할 샘플의 최대 길이를 정해줄 차례에요.\n",
    "\n",
    "# Text와 Headlines의 최소, 최대, 평균 길이를 구하고 또한 길이 분포를 시각화해서 볼게요.\n",
    "# 길이 분포 출력\n",
    "import matplotlib.pyplot as plt\n",
    "\n",
    "text_len = [len(s.split()) for s in data['text']]\n",
    "headlines_len = [len(s.split()) for s in data['headlines']]\n",
    "\n",
    "print('텍스트의 최소 길이 : {}'.format(np.min(text_len)))\n",
    "print('텍스트의 최대 길이 : {}'.format(np.max(text_len)))\n",
    "print('텍스트의 평균 길이 : {}'.format(np.mean(text_len)))\n",
    "print('요약의 최소 길이 : {}'.format(np.min(headlines_len)))\n",
    "print('요약의 최대 길이 : {}'.format(np.max(headlines_len)))\n",
    "print('요약의 평균 길이 : {}'.format(np.mean(headlines_len)))\n",
    "\n",
    "plt.subplot(1,2,1)\n",
    "plt.boxplot(text_len)\n",
    "plt.title('Text')\n",
    "plt.subplot(1,2,2)\n",
    "plt.boxplot(headlines_len)\n",
    "plt.title('Headlines')\n",
    "plt.tight_layout()\n",
    "plt.show()\n",
    "\n",
    "plt.title('Text')\n",
    "plt.hist(text_len, bins = 40)\n",
    "plt.xlabel('length of samples')\n",
    "plt.ylabel('number of samples')\n",
    "plt.show()\n",
    "\n",
    "plt.title('Headlines')\n",
    "plt.hist(headlines_len, bins = 40)\n",
    "plt.xlabel('length of samples')\n",
    "plt.ylabel('number of samples')\n",
    "plt.show()"
   ]
  },
  {
   "cell_type": "code",
   "execution_count": 20,
   "id": "b937fb1c",
   "metadata": {},
   "outputs": [],
   "source": [
    "# 이로부터 Text의 최대 길이와 Summary의 적절한 최대 길이를 임의로 정해볼게요.\n",
    "text_max_len = 50\n",
    "headlines_max_len = 8"
   ]
  },
  {
   "cell_type": "code",
   "execution_count": 21,
   "id": "e0ffa050",
   "metadata": {},
   "outputs": [],
   "source": [
    "# 각각 50과 8로 정했는데 이 길이를 선택했을 때,\n",
    "# 얼마나 많은 샘플들을 자르지 않고 포함할 수 있는지 통계로 확인하는 편이 객관적으로 길이를 결정하는 데 도움이 될거예요.\n",
    "# 훈련 데이터와 샘플의 길이를 입력하면, 데이터의 몇 %가 해당하는지 계산하는 함수를 만들어서 좀 더 정확하게 판단해볼게요.\n",
    "def below_threshold_len(max_len, nested_list):\n",
    "  cnt = 0\n",
    "  for s in nested_list:\n",
    "    if(len(s.split()) <= max_len):\n",
    "        cnt = cnt + 1\n",
    "  print('전체 샘플 중 길이가 %s 이하인 샘플의 비율: %s'%(max_len, (cnt / len(nested_list))))"
   ]
  },
  {
   "cell_type": "code",
   "execution_count": 22,
   "id": "47998c3d",
   "metadata": {},
   "outputs": [
    {
     "name": "stdout",
     "output_type": "stream",
     "text": [
      "전체 샘플 중 길이가 50 이하인 샘플의 비율: 0.9998576657177715\n",
      "전체 샘플 중 길이가 8 이하인 샘플의 비율: 0.2755693371289142\n"
     ]
    }
   ],
   "source": [
    "# 이렇게 만든 함수를 Text와 Summary에 적용해 우리가 결정한 임의의 길이가 몇%의 샘플까지 포함하는지 볼 수 있겠죠.\n",
    "below_threshold_len(text_max_len, data['text'])\n",
    "below_threshold_len(headlines_max_len,  data['headlines'])"
   ]
  },
  {
   "cell_type": "code",
   "execution_count": 23,
   "id": "42198b5e",
   "metadata": {},
   "outputs": [
    {
     "name": "stdout",
     "output_type": "stream",
     "text": [
      "전체 샘플수 : 27105\n"
     ]
    }
   ],
   "source": [
    "# 각각 50과 8로 패딩을 하게 되면 해당 길이보다 긴 샘플들은 내용이 잘리게 되는데,\n",
    "# Text 열의 경우에는 약 23%의 샘플들이 내용이 망가지게 된다고 하네요.\n",
    "\n",
    "# 우리는 정해진 길이에 맞춰 자르는 것이 아니라, 정해진 길이보다 길면 제외하는 방법으로 데이터를 정제할게요.\n",
    "data = data[data['text'].apply(lambda x: len(x.split()) <= text_max_len)]\n",
    "data = data[data['headlines'].apply(lambda x: len(x.split()) <= headlines_max_len)]\n",
    "print('전체 샘플수 :', (len(data)))"
   ]
  },
  {
   "cell_type": "code",
   "execution_count": 24,
   "id": "e7726fc2",
   "metadata": {},
   "outputs": [
    {
     "data": {
      "text/html": [
       "<div>\n",
       "<style scoped>\n",
       "    .dataframe tbody tr th:only-of-type {\n",
       "        vertical-align: middle;\n",
       "    }\n",
       "\n",
       "    .dataframe tbody tr th {\n",
       "        vertical-align: top;\n",
       "    }\n",
       "\n",
       "    .dataframe thead th {\n",
       "        text-align: right;\n",
       "    }\n",
       "</style>\n",
       "<table border=\"1\" class=\"dataframe\">\n",
       "  <thead>\n",
       "    <tr style=\"text-align: right;\">\n",
       "      <th></th>\n",
       "      <th>headlines</th>\n",
       "      <th>text</th>\n",
       "      <th>decoder_input</th>\n",
       "      <th>decoder_target</th>\n",
       "    </tr>\n",
       "  </thead>\n",
       "  <tbody>\n",
       "    <tr>\n",
       "      <th>19</th>\n",
       "      <td>odisha cm patnaik controls mining mafia union ...</td>\n",
       "      <td>union minister dharmendra pradhan wednesday cl...</td>\n",
       "      <td>sostoken odisha cm patnaik controls mining maf...</td>\n",
       "      <td>odisha cm patnaik controls mining mafia union ...</td>\n",
       "    </tr>\n",
       "    <tr>\n",
       "      <th>21</th>\n",
       "      <td>isro unveils bengaluru centre for manned space...</td>\n",
       "      <td>indian space research organisation wednesday u...</td>\n",
       "      <td>sostoken isro unveils bengaluru centre for man...</td>\n",
       "      <td>isro unveils bengaluru centre for manned space...</td>\n",
       "    </tr>\n",
       "    <tr>\n",
       "      <th>22</th>\n",
       "      <td>killed injured in saudi arabia floods</td>\n",
       "      <td>least people killed others injured saudi arabi...</td>\n",
       "      <td>sostoken killed injured in saudi arabia floods</td>\n",
       "      <td>killed injured in saudi arabia floods eostoken</td>\n",
       "    </tr>\n",
       "    <tr>\n",
       "      <th>29</th>\n",
       "      <td>seat cushions from missing plane carrying foot...</td>\n",
       "      <td>investigators searching lost plane carrying ar...</td>\n",
       "      <td>sostoken seat cushions from missing plane carr...</td>\n",
       "      <td>seat cushions from missing plane carrying foot...</td>\n",
       "    </tr>\n",
       "    <tr>\n",
       "      <th>36</th>\n",
       "      <td>agustawestland scam accused rajiv saxena extra...</td>\n",
       "      <td>agustawestland chopper scam co accused rajiv s...</td>\n",
       "      <td>sostoken agustawestland scam accused rajiv sax...</td>\n",
       "      <td>agustawestland scam accused rajiv saxena extra...</td>\n",
       "    </tr>\n",
       "  </tbody>\n",
       "</table>\n",
       "</div>"
      ],
      "text/plain": [
       "                                            headlines  \\\n",
       "19  odisha cm patnaik controls mining mafia union ...   \n",
       "21  isro unveils bengaluru centre for manned space...   \n",
       "22              killed injured in saudi arabia floods   \n",
       "29  seat cushions from missing plane carrying foot...   \n",
       "36  agustawestland scam accused rajiv saxena extra...   \n",
       "\n",
       "                                                 text  \\\n",
       "19  union minister dharmendra pradhan wednesday cl...   \n",
       "21  indian space research organisation wednesday u...   \n",
       "22  least people killed others injured saudi arabi...   \n",
       "29  investigators searching lost plane carrying ar...   \n",
       "36  agustawestland chopper scam co accused rajiv s...   \n",
       "\n",
       "                                        decoder_input  \\\n",
       "19  sostoken odisha cm patnaik controls mining maf...   \n",
       "21  sostoken isro unveils bengaluru centre for man...   \n",
       "22     sostoken killed injured in saudi arabia floods   \n",
       "29  sostoken seat cushions from missing plane carr...   \n",
       "36  sostoken agustawestland scam accused rajiv sax...   \n",
       "\n",
       "                                       decoder_target  \n",
       "19  odisha cm patnaik controls mining mafia union ...  \n",
       "21  isro unveils bengaluru centre for manned space...  \n",
       "22     killed injured in saudi arabia floods eostoken  \n",
       "29  seat cushions from missing plane carrying foot...  \n",
       "36  agustawestland scam accused rajiv saxena extra...  "
      ]
     },
     "execution_count": 24,
     "metadata": {},
     "output_type": "execute_result"
    }
   ],
   "source": [
    "# seq2seq 훈련을 위해서는 디코더의 입력과 레이블에 시작 토큰과 종료 토큰을 추가할 필요가 있어요.\n",
    "# 이번 실습에서는 시작 토큰은 sostoken, 종료 토큰은 eostoken이라 임의로 명명하고 앞, 뒤로 추가할 거예요.\n",
    "# 디코더의 입력에 해당하면서 시작 토큰이 맨 앞에 있는 문장의 이름을 decoder_input,\n",
    "# 디코더의 출력 또는 레이블에 해당되면서 종료 토큰이 맨 뒤에 붙는 문장의 이름을 decoder_target이라고 이름을 정했어요.\n",
    "# 두 개의 문장 모두 Summary 열로부터 만들 거예요.\n",
    "# 요약 데이터에는 시작 토큰과 종료 토큰을 추가한다.\n",
    "data['decoder_input'] = data['headlines'].apply(lambda x : 'sostoken '+ x)\n",
    "data['decoder_target'] = data['headlines'].apply(lambda x : x + ' eostoken')\n",
    "data.head()"
   ]
  },
  {
   "cell_type": "code",
   "execution_count": 25,
   "id": "fb30dec3",
   "metadata": {},
   "outputs": [],
   "source": [
    "# 앞뒤로 토큰이 잘 붙었죠? 인코더의 입력, 디코더의 입력과 레이블을 각각 다시 Numpy 타입으로 저장해 줄게요.\n",
    "encoder_input = np.array(data['text']) # 인코더의 입력\n",
    "decoder_input = np.array(data['decoder_input']) # 디코더의 입력\n",
    "decoder_target = np.array(data['decoder_target']) # 디코더의 레이블"
   ]
  },
  {
   "cell_type": "code",
   "execution_count": 26,
   "id": "107e1a32",
   "metadata": {},
   "outputs": [
    {
     "name": "stdout",
     "output_type": "stream",
     "text": [
      "union minister dharmendra pradhan wednesday claimed illegal mining mafia odisha operates control cm naveen patnaik state congress chief niranjan patnaik added time come people odisha put full stop activities time come us ask explanation corrupt government\n",
      "27105\n",
      "[ 6240   525  5533 ... 23630 15802  1567]\n"
     ]
    }
   ],
   "source": [
    "# 이제 훈련 데이터와 테스트 데이터를 분리할거에요.\n",
    "\n",
    "# 훈련 데이터와 테스트 데이터를 분리하는 방법은 분리 패키지를 사용하는 방법,\n",
    "# 또는 직접 코딩을 통해서 분리하는 방법 등 여러 가지 방법이 있을 텐데 여기서는 직접 해볼게요.\n",
    "# 우선, encoder_input과 크기와 형태가 같은 순서가 섞인 정수 시퀀스를 만들어줄게요.\n",
    "indices = np.arange(encoder_input.shape[0]) # indices = np.arange(27105)\n",
    "np.random.shuffle(indices) # shuffle 27105\n",
    "print(encoder_input[0])\n",
    "print(encoder_input.shape[0])\n",
    "print(indices)"
   ]
  },
  {
   "cell_type": "code",
   "execution_count": 27,
   "id": "7b17946a",
   "metadata": {},
   "outputs": [
    {
     "name": "stdout",
     "output_type": "stream",
     "text": [
      "pre ['union minister dharmendra pradhan wednesday claimed illegal mining mafia odisha operates control cm naveen patnaik state congress chief niranjan patnaik added time come people odisha put full stop activities time come us ask explanation corrupt government'\n",
      " 'indian space research organisation wednesday unveiled human space flight centre bengaluru crore manned space mission gaganyaan scheduled isro said centre responsible development engineering systems crew survival space crew selection training also pursue activities sustained human space flight missions isro added'\n",
      " 'least people killed others injured saudi arabia week due flooding heavy rain emergency services rescued people flooded areas half tabuk heavy rains hit mainly western northwestern parts saudi arabia near border jordan'\n",
      " ...\n",
      " 'pakistan started building nearly kilometer fence along border afghanistan according reports comes afghan militants reportedly killed six pakistani soldiers stationed security checkpoints earlier month pakistan new fence aimed enhancing aerial surveillance border prevent future terror attacks transfer weapons ammunition'\n",
      " 'according reports new version science fiction film matrix development michael jordan reportedly play lead role film screenwriter zak penn talks write script film reports added actor keanu reeves starred original film followed two sequels'\n",
      " 'madhesi morcha alliance seven political parties withdrawn support pm pushpa kamal dahal led nepal government failed meet seven day ultimatum fulfil demands including endorsement revised constitution amendment bill morcha seats parliament despite withdrawal support immediate threat government']\n",
      "\n",
      "post ['us president donald trump wednesday issued veiled threat revoke credentials media outlets coverage fake news trump slammed media negative coverage work done administration despite tremendous success revoking media outlets credentials may restrict access journalists white house'\n",
      " 'make card transactions secure rbi permitted card networks offer tokenisation services token requestor tokenisation involves creation unique alternative code token mask sensitive card details cardholder may use services registering card token requestor app giving explicit consent'\n",
      " 'alibaba along group investors leading billion investment chinese delivery service zto exchange stake firm alibaba led investor group includes logistics arm cainiao company said deal would alibaba third investment chinese courier buying minority stakes yto express best'\n",
      " ...\n",
      " 'former pakistani president pervez musharraf said india kulbhushan jadhav bigger terrorist ajmal kasab executed india mumbai terror attacks claiming kasab pawn musharraf added even know many people deaths jadhav responsible said india wrong approach icj'\n",
      " 'land transport authority singapore introduced diwali themed trains buses running october trains buses feature pictures elephants rangoli designs station also decorated diwali themed trains made debut first time last year decorated collaboration little india shopkeepers heritage association'\n",
      " 'punjab chief minister captain amarinder singh monday said pakistan spreading terror country pakistan ashamed bloodshed condemn killing innocents pakistan added warning pakistan army chief said allowed enter vitiate atmosphere']\n"
     ]
    }
   ],
   "source": [
    "# 이 정수 시퀀스를 이용해 다시 데이터의 샘플 순서를 정의해 주면 잘 섞인 샘플이 되겠죠.\n",
    "print('pre', encoder_input)\n",
    "encoder_input = encoder_input[indices]\n",
    "decoder_input = decoder_input[indices]\n",
    "decoder_target = decoder_target[indices]\n",
    "print()\n",
    "print('post', encoder_input)"
   ]
  },
  {
   "cell_type": "code",
   "execution_count": 28,
   "id": "c65a741a",
   "metadata": {},
   "outputs": [
    {
     "name": "stdout",
     "output_type": "stream",
     "text": [
      "테스트 데이터의 수 : 5421\n"
     ]
    }
   ],
   "source": [
    "# 이제 섞인 데이터를 8:2의 비율로 훈련 데이터와 테스트 데이터로 분리해 줄게요.\n",
    "# 전체 데이터의 크기에서 0.2를 곱해서 테스트 데이터의 크기를 정의해 줄게요.\n",
    "n_of_val = int(len(encoder_input)*0.2)\n",
    "print('테스트 데이터의 수 :', n_of_val)"
   ]
  },
  {
   "cell_type": "code",
   "execution_count": 29,
   "id": "77b543d0",
   "metadata": {},
   "outputs": [
    {
     "name": "stdout",
     "output_type": "stream",
     "text": [
      "훈련 데이터의 개수 : 21684\n",
      "훈련 레이블의 개수 : 21684\n",
      "테스트 데이터의 개수 : 5421\n",
      "테스트 레이블의 개수 : 5421\n"
     ]
    }
   ],
   "source": [
    "# 이렇게 정의한 테스트 데이터의 개수를 이용해 전체 데이터를 양분할게요. :표시의 위치에 주의해 주세요.\n",
    "encoder_input_train = encoder_input[:-n_of_val]\n",
    "decoder_input_train = decoder_input[:-n_of_val]\n",
    "decoder_target_train = decoder_target[:-n_of_val]\n",
    "\n",
    "encoder_input_test = encoder_input[-n_of_val:]\n",
    "decoder_input_test = decoder_input[-n_of_val:]\n",
    "decoder_target_test = decoder_target[-n_of_val:]\n",
    "\n",
    "print('훈련 데이터의 개수 :', len(encoder_input_train))\n",
    "print('훈련 레이블의 개수 :', len(decoder_input_train))\n",
    "print('테스트 데이터의 개수 :', len(encoder_input_test))\n",
    "print('테스트 레이블의 개수 :', len(decoder_input_test))"
   ]
  },
  {
   "cell_type": "code",
   "execution_count": 30,
   "id": "72cf9d9f",
   "metadata": {},
   "outputs": [],
   "source": [
    "# Keras의 토크나이저를 사용하면, 입력된 훈련 데이터로부터 단어 집합을 만들 수 있어요.\n",
    "src_tokenizer = Tokenizer() # 토크나이저 정의\n",
    "src_tokenizer.fit_on_texts(encoder_input_train) # 입력된 데이터로부터 단어 집합 생성"
   ]
  },
  {
   "cell_type": "code",
   "execution_count": 31,
   "id": "36d84501",
   "metadata": {},
   "outputs": [
    {
     "name": "stdout",
     "output_type": "stream",
     "text": [
      "단어 집합(vocabulary)의 크기 : 42461\n",
      "등장 빈도가 3번 이하인 희귀 단어의 수: 25721\n",
      "단어 집합에서 희귀 단어를 제외시킬 경우의 단어 집합의 크기: 16740\n",
      "단어 집합에서 희귀 단어의 비율: 60.57558700925555\n",
      "전체 등장 빈도에서 희귀 단어 등장 빈도 비율: 5.111275242934081\n"
     ]
    }
   ],
   "source": [
    "# 등장 빈도수가 7회 미만인 단어들이 이 데이터에서 얼만큼의 비중을 차지하는지 확인해볼게요.\n",
    "# src_tokenizer.word_counts.items()에는 단어와 각 단어의 등장 빈도수가 저장돼 있는데, 이를 통해서 통계적인 정보를 얻을 수 있어요.\n",
    "\n",
    "threshold = 4\n",
    "total_cnt = len(src_tokenizer.word_index) # 단어의 수\n",
    "rare_cnt = 0 # 등장 빈도수가 threshold보다 작은 단어의 개수를 카운트\n",
    "total_freq = 0 # 훈련 데이터의 전체 단어 빈도수 총 합\n",
    "rare_freq = 0 # 등장 빈도수가 threshold보다 작은 단어의 등장 빈도수의 총 합\n",
    "\n",
    "# 단어와 빈도수의 쌍(pair)을 key와 value로 받는다.\n",
    "for key, value in src_tokenizer.word_counts.items():\n",
    "    total_freq = total_freq + value\n",
    "\n",
    "    # 단어의 등장 빈도수가 threshold보다 작으면\n",
    "    if(value < threshold):\n",
    "        rare_cnt = rare_cnt + 1\n",
    "        rare_freq = rare_freq + value\n",
    "\n",
    "print('단어 집합(vocabulary)의 크기 :', total_cnt)\n",
    "print('등장 빈도가 %s번 이하인 희귀 단어의 수: %s'%(threshold - 1, rare_cnt))\n",
    "print('단어 집합에서 희귀 단어를 제외시킬 경우의 단어 집합의 크기: %s'%(total_cnt - rare_cnt))\n",
    "print(\"단어 집합에서 희귀 단어의 비율:\", (rare_cnt / total_cnt)*100)\n",
    "print(\"전체 등장 빈도에서 희귀 단어 등장 빈도 비율:\", (rare_freq / total_freq)*100)\n",
    "\n",
    "# encoder_input_train에는 3만여 개의 단어가 있네요. 그 아래의 통계 정보들을 해석해볼까요?\n",
    "\n",
    "# 등장 빈도가 threshold 값인 7회 미만, 즉 6회 이하인 단어들은 단어 집합에서 무려 70% 이상을 차지하네요.\n",
    "# 하지만 실제로 훈련 데이터에서 등장 빈도로 차지하는 비중은 상대적으로 적은 수치인 3.39%밖에 되지 않아요."
   ]
  },
  {
   "cell_type": "code",
   "execution_count": 32,
   "id": "77457b6f",
   "metadata": {},
   "outputs": [],
   "source": [
    "# 그래서 등장 빈도가 6회 이하인 단어들은 정수 인코딩 과정에서 빼고, 훈련 데이터에서 제거하고자 합니다.\n",
    "# 위에서 이를 제외한 단어 집합의 크기를 8천여 개로 계산했는데, 이와 비슷한 값으로 어림잡아 단어 집합의 크기를 8,000으로 제한해볼게요.\n",
    "# 토크나이저를 정의할 때 num_words의 값을 정해주면, 단어 집합의 크기를 제한할 수 있어요.\n",
    "src_vocab = 16000\n",
    "src_tokenizer = Tokenizer(num_words=src_vocab) # 단어 집합의 크기를 8,000으로 제한\n",
    "src_tokenizer.fit_on_texts(encoder_input_train) # 단어 집합 재생성"
   ]
  },
  {
   "cell_type": "code",
   "execution_count": 33,
   "id": "452705b9",
   "metadata": {},
   "outputs": [
    {
     "name": "stdout",
     "output_type": "stream",
     "text": [
      "[[5, 16, 114, 45, 52, 272, 14549, 1512, 8703, 12952, 101, 3029, 5551, 586, 515, 45, 555, 101, 2788, 5551, 221, 901, 783, 548, 6750, 2393, 101, 3029, 12952, 117, 6201, 616, 2394, 505, 162], [155, 1075, 1030, 2511, 725, 7439, 1075, 3269, 862, 195, 7440, 4259, 3154, 2168, 4052, 1392, 7440, 6485, 2974, 1075, 973, 117, 215, 195, 4053, 1075, 7440, 187, 948, 10774, 3328], [1553, 199, 66, 291, 933, 46, 396, 186, 773, 216, 839, 863, 180, 1553, 76, 902, 66, 903, 2512, 1373, 23, 1, 247, 32, 1553, 222, 396, 186, 11741, 2463, 2106, 10775, 974, 375]]\n"
     ]
    }
   ],
   "source": [
    "# texts_to_sequences는 생성된 단어 집합에 기반하여 입력으로 주어진 텍스트 데이터의 단어들을 모두 정수로 변환하는 정수 인코딩을 수행해요.\n",
    "# 현재 단어 집합의 크기를 8,000으로 제한했으니까 이제 8,000이 넘는 숫자들은 정수 인코딩 후에는 데이터에 존재하지 않아요.\n",
    "\n",
    "# 텍스트 시퀀스를 정수 시퀀스로 변환\n",
    "encoder_input_train = src_tokenizer.texts_to_sequences(encoder_input_train) \n",
    "encoder_input_test = src_tokenizer.texts_to_sequences(encoder_input_test)\n",
    "\n",
    "# 잘 진행되었는지 샘플 출력\n",
    "print(encoder_input_train[:3])"
   ]
  },
  {
   "cell_type": "code",
   "execution_count": 34,
   "id": "00bfcc95",
   "metadata": {},
   "outputs": [],
   "source": [
    "# 이제 더 이상 텍스트 데이터가 아니라 정수가 나오고 있어요.\n",
    "\n",
    "# Summary 데이터에 대해서도 동일한 작업을 수행할게요.\n",
    "# 케라스의 토크나이저를 사용하여 decoder_input_train을 입력으로 전체 단어 집합과 각 단어에 대한 빈도수를 계산해요.\n",
    "tar_tokenizer = Tokenizer()\n",
    "tar_tokenizer.fit_on_texts(decoder_input_train)"
   ]
  },
  {
   "cell_type": "code",
   "execution_count": 35,
   "id": "dbf4da2b",
   "metadata": {},
   "outputs": [
    {
     "name": "stdout",
     "output_type": "stream",
     "text": [
      "단어 집합(vocabulary)의 크기 : 18909\n",
      "등장 빈도가 2번 이하인 희귀 단어의 수: 10872\n",
      "단어 집합에서 희귀 단어를 제외시킬 경우의 단어 집합의 크기 8037\n",
      "단어 집합에서 희귀 단어의 비율: 57.49643027129938\n",
      "전체 등장 빈도에서 희귀 단어 등장 빈도 비율: 7.349802095959325\n"
     ]
    }
   ],
   "source": [
    "# 이제 단어 집합이 생성되는 동시에 각 단어에 고유한 정수가 부여되었어요. 이는 tar_tokenizer.word_index에 저장되어 있어요.\n",
    "# tar_tokenizer.word_counts.items()에는 단어와 각 단어의 등장 빈도수가 저장돼 있는데,\n",
    "# 이를 통해서 통계적인 정보를 얻어서, 등장 빈도수가 6회 미만인 단어들이 이 데이터에서 얼만큼의 비중을 차지하는지 확인해볼게요.\n",
    "threshold = 3\n",
    "total_cnt = len(tar_tokenizer.word_index) # 단어의 수\n",
    "rare_cnt = 0 # 등장 빈도수가 threshold보다 작은 단어의 개수를 카운트\n",
    "total_freq = 0 # 훈련 데이터의 전체 단어 빈도수 총 합\n",
    "rare_freq = 0 # 등장 빈도수가 threshold보다 작은 단어의 등장 빈도수의 총 합\n",
    "\n",
    "# 단어와 빈도수의 쌍(pair)을 key와 value로 받는다.\n",
    "for key, value in tar_tokenizer.word_counts.items():\n",
    "    total_freq = total_freq + value\n",
    "\n",
    "    # 단어의 등장 빈도수가 threshold보다 작으면\n",
    "    if(value < threshold):\n",
    "        rare_cnt = rare_cnt + 1\n",
    "        rare_freq = rare_freq + value\n",
    "\n",
    "print('단어 집합(vocabulary)의 크기 :', total_cnt)\n",
    "print('등장 빈도가 %s번 이하인 희귀 단어의 수: %s'%(threshold - 1, rare_cnt))\n",
    "print('단어 집합에서 희귀 단어를 제외시킬 경우의 단어 집합의 크기 %s'%(total_cnt - rare_cnt))\n",
    "print(\"단어 집합에서 희귀 단어의 비율:\", (rare_cnt / total_cnt)*100)\n",
    "print(\"전체 등장 빈도에서 희귀 단어 등장 빈도 비율:\", (rare_freq / total_freq)*100)"
   ]
  },
  {
   "cell_type": "code",
   "execution_count": 36,
   "id": "b9f415c6",
   "metadata": {},
   "outputs": [
    {
     "name": "stdout",
     "output_type": "stream",
     "text": [
      "input\n",
      "input  [[1, 20, 650, 4, 5341, 6, 275, 4081], [1, 287, 675, 5, 186, 1319, 1147], [1, 1109, 2197, 404, 763, 3, 110, 500, 205], [1, 20, 5342, 4082, 4, 84, 3660, 350], [1, 26, 276, 386, 6, 237, 3661, 764, 726]]\n",
      "target\n",
      "decoder  [[20, 650, 4, 5341, 6, 275, 4081, 2], [287, 675, 5, 186, 1319, 1147, 2], [1109, 2197, 404, 763, 3, 110, 500, 205, 2], [20, 5342, 4082, 4, 84, 3660, 350, 2], [26, 276, 386, 6, 237, 3661, 764, 726, 2]]\n"
     ]
    }
   ],
   "source": [
    "# 등장 빈도가 5회 이하인 단어들은 단어 집합에서 약 77%를 차지하고 있네요.\n",
    "# 하지만 실제로 훈련 데이터에서 등장 빈도로 차지하는 비중은 상대적으로 매우 적은 수치인 5.87%밖에 되지 않아요.\n",
    "# 아까 했던 것과 동일하게 이 단어들은 모두 제거할게요. 어림잡아 2,000을 단어 집합의 크기로 제한할게요.\n",
    "tar_vocab = 8000\n",
    "tar_tokenizer = Tokenizer(num_words=tar_vocab) \n",
    "tar_tokenizer.fit_on_texts(decoder_input_train)\n",
    "tar_tokenizer.fit_on_texts(decoder_target_train)\n",
    "\n",
    "# 텍스트 시퀀스를 정수 시퀀스로 변환\n",
    "decoder_input_train = tar_tokenizer.texts_to_sequences(decoder_input_train) \n",
    "decoder_target_train = tar_tokenizer.texts_to_sequences(decoder_target_train)\n",
    "decoder_input_test = tar_tokenizer.texts_to_sequences(decoder_input_test)\n",
    "decoder_target_test = tar_tokenizer.texts_to_sequences(decoder_target_test)\n",
    "\n",
    "# 잘 변환되었는지 확인\n",
    "print('input')\n",
    "print('input ',decoder_input_train[:5])\n",
    "print('target')\n",
    "print('decoder ',decoder_target_train[:5])"
   ]
  },
  {
   "cell_type": "code",
   "execution_count": 37,
   "id": "f06f9f80",
   "metadata": {},
   "outputs": [
    {
     "name": "stdout",
     "output_type": "stream",
     "text": [
      "삭제할 훈련 데이터의 개수 : 1\n",
      "삭제할 테스트 데이터의 개수 : 0\n",
      "훈련 데이터의 개수 : 21683\n",
      "훈련 레이블의 개수 : 21683\n",
      "테스트 데이터의 개수 : 5421\n",
      "테스트 레이블의 개수 : 5421\n"
     ]
    }
   ],
   "source": [
    "# 정상적으로 정수 인코딩 작업이 끝났어요.\n",
    "# 현재 decoder_input_train과 decoder_target_train에는 더 이상 숫자 2,000이 넘는 숫자들은 존재하지 않아요.\n",
    "# 그런데 다음 작업인 패딩 하기로 넘어가기 전에 한 가지 점검해야 할 것이 있어요.\n",
    "\n",
    "# 전체 데이터에서 빈도수가 낮은 단어가 삭제되었다는 것은\n",
    "# 빈도수가 낮은 단어만으로 구성되었던 샘플들은 이제 빈(empty) 샘플이 되었을 가능성이 있어요.\n",
    "# 이 현상은 길이가 상대적으로 길었던 원문(Text)의 경우에는 문제가 별로 없겠지만,\n",
    "# 애초에 평균 길이가 4밖에 되지 않았던 요약문(Summary)의 경우에는 이 현상이 굉장히 두드러졌을 가능성이 높겠죠.\n",
    "\n",
    "# 요약문에서 길이가 0이 된 샘플들의 인덱스를 받아와볼게요.\n",
    "# 여기서 주의할 점은 요약문인 decoder_input에는 sostoken 또는 decoder_target에는 eostoken이 추가된 상태이고,\n",
    "# 이 두 토큰은 모든 샘플에서 등장하므로 빈도수가 샘플 수와 동일하게 매우 높으므로 단어 집합 제한에도 삭제되지 않아요.\n",
    "# 그래서 이제 길이가 0이 된 요약문의 실제 길이는 1로 나올 거예요.\n",
    "# 길이가 0이 된 decoder_input에는 sostoken, decoder_target에는 eostoken만 남아 있을 테니까요.\n",
    "\n",
    "# 훈련 데이터와 테스트 데이터에 대해서 요약문의 길이가 1인 경우의 인덱스를 각각 drop_train과 drop_test에 라는 변수에 저장해볼게요.\n",
    "# 이 샘플들은 모두 삭제할 거예요.\n",
    "\n",
    "\n",
    "drop_train = [index for index, sentence in enumerate(decoder_input_train) if len(sentence) == 1]\n",
    "drop_test = [index for index, sentence in enumerate(decoder_input_test) if len(sentence) == 1]\n",
    "\n",
    "print('삭제할 훈련 데이터의 개수 :', len(drop_train))\n",
    "print('삭제할 테스트 데이터의 개수 :', len(drop_test))\n",
    "\n",
    "encoder_input_train = [sentence for index, sentence in enumerate(encoder_input_train) if index not in drop_train]\n",
    "decoder_input_train = [sentence for index, sentence in enumerate(decoder_input_train) if index not in drop_train]\n",
    "decoder_target_train = [sentence for index, sentence in enumerate(decoder_target_train) if index not in drop_train]\n",
    "\n",
    "encoder_input_test = [sentence for index, sentence in enumerate(encoder_input_test) if index not in drop_test]\n",
    "decoder_input_test = [sentence for index, sentence in enumerate(decoder_input_test) if index not in drop_test]\n",
    "decoder_target_test = [sentence for index, sentence in enumerate(decoder_target_test) if index not in drop_test]\n",
    "\n",
    "print('훈련 데이터의 개수 :', len(encoder_input_train))\n",
    "print('훈련 레이블의 개수 :', len(decoder_input_train))\n",
    "print('테스트 데이터의 개수 :', len(encoder_input_test))\n",
    "print('테스트 레이블의 개수 :', len(decoder_input_test))"
   ]
  },
  {
   "cell_type": "code",
   "execution_count": 38,
   "id": "845d91a3",
   "metadata": {},
   "outputs": [],
   "source": [
    "# add padding sequence\n",
    "encoder_input_train = pad_sequences(encoder_input_train, maxlen=text_max_len, padding='post')\n",
    "encoder_input_test = pad_sequences(encoder_input_test, maxlen=text_max_len, padding='post')\n",
    "decoder_input_train = pad_sequences(decoder_input_train, maxlen=headlines_max_len, padding='post')\n",
    "decoder_target_train = pad_sequences(decoder_target_train, maxlen=headlines_max_len, padding='post')\n",
    "decoder_input_test = pad_sequences(decoder_input_test, maxlen=headlines_max_len, padding='post')\n",
    "decoder_target_test = pad_sequences(decoder_target_test, maxlen=headlines_max_len, padding='post')"
   ]
  },
  {
   "cell_type": "code",
   "execution_count": 39,
   "id": "f956b807",
   "metadata": {},
   "outputs": [
    {
     "name": "stdout",
     "output_type": "stream",
     "text": [
      "WARNING:tensorflow:Layer lstm will not use cuDNN kernels since it doesn't meet the criteria. It will use a generic GPU kernel as fallback when running on GPU.\n",
      "WARNING:tensorflow:Layer lstm_1 will not use cuDNN kernels since it doesn't meet the criteria. It will use a generic GPU kernel as fallback when running on GPU.\n",
      "WARNING:tensorflow:Layer lstm_2 will not use cuDNN kernels since it doesn't meet the criteria. It will use a generic GPU kernel as fallback when running on GPU.\n"
     ]
    }
   ],
   "source": [
    "# 이제는 모델을 설계할 시간이에요. 우선 함수형 API를 이용해서 인코더를 설계해 볼게요.\n",
    "\n",
    "# 인코더 설계 시작\n",
    "embedding_dim = 128\n",
    "hidden_size = 256\n",
    "\n",
    "# 인코더\n",
    "encoder_inputs = Input(shape=(text_max_len,))\n",
    "\n",
    "# 인코더의 임베딩 층\n",
    "enc_emb = Embedding(src_vocab, embedding_dim)(encoder_inputs)\n",
    "\n",
    "# 인코더의 LSTM 1\n",
    "encoder_lstm1 = LSTM(hidden_size, return_sequences=True, return_state=True ,dropout = 0.4, recurrent_dropout = 0.4)\n",
    "# encoder_lstm1 = LSTM(hidden_size, return_sequences=True, return_state=True ,dropout = 0.4)\n",
    "encoder_output1, state_h1, state_c1 = encoder_lstm1(enc_emb)\n",
    "\n",
    "# 인코더의 LSTM 2\n",
    "encoder_lstm2 = LSTM(hidden_size, return_sequences=True, return_state=True, dropout=0.4, recurrent_dropout=0.4)\n",
    "# encoder_lstm2 = LSTM(hidden_size, return_sequences=True, return_state=True, dropout=0.4)\n",
    "encoder_output2, state_h2, state_c2 = encoder_lstm2(encoder_output1)\n",
    "\n",
    "# 인코더의 LSTM 3\n",
    "encoder_lstm3 = LSTM(hidden_size, return_state=True, return_sequences=True, dropout=0.4, recurrent_dropout=0.4)\n",
    "# encoder_lstm3 = LSTM(hidden_size, return_state=True, return_sequences=True, dropout=0.4)\n",
    "encoder_outputs, state_h, state_c= encoder_lstm3(encoder_output2)\n",
    "\n",
    "# 임베딩 벡터의 차원은 128로 정의하고, hidden state의 크기를 256으로 정의했어요.\n",
    "# hidden state는 LSTM에서 얼만큼의 수용력(capacity)를 가질지를 정하는 파라미터에요.\n",
    "# 이 파라미터는 LSTM의 용량의 크기나, LSTM에서의 뉴런의 개수라고 이해하면 돼요.\n",
    "# 다른 신경망과 마찬가지로, 무조건 용량을 많이 준다고 해서 성능이 반드시 올라가는 것은 아니에요.\n",
    "\n",
    "# 인코더의 LSTM은 총 3개의 층으로 구성해서 모델의 복잡도를 높였어요.\n",
    "# hidden state의 크기를 늘리는 것이 LSTM 층 1개의 용량을 늘린다면, 3개의 층을 사용하는 것은 모델의 용량을 늘린다고 볼 수 있죠.\n",
    "# 3개의 층을 지나서 인코더로부터 나온 출력 벡터는 디코더로 보내줘야겠죠?\n",
    "\n",
    "# 또한 LSTM은 dropout 뿐 아니라 recurrent dropout까지 사용할 수 있어요.\n",
    "# 일반적인 dropout은 레이어의 weight를 랜덤으로 생략하여 모델의 과적합(overfitting)을 해결해주는 방법이에요.\n",
    "\n",
    "# 반면 recurrent dropout은 dropout을 레이어가 아닌 time step마다 해주는 방식이에요.\n",
    "# 즉 time step의 입력을 랜덤으로 생략해 주는 거죠.\n",
    "# recurrent dropout은 일반적인 dropout와 같이 regularization을 해주는 효과가 있고, 과적합을 방지할 수 있다고 해요.\n",
    "\n",
    "# 아래 그림은 일반적인 dropout과, dropout과 recurrent dropout을 동시에 사용한 것을 시각적으로 표현한 것입니다.\n",
    "# 색이 있는 화살표는 dropout을 나타낸 것이에요.\n",
    "# (색이 다른 것은 다른 dropout mask를 사용했다는 표시인데, 지금은 그냥 넘어가셔도 됩니다.)\n",
    "# 코드를 수정해서 LSTM에 dropout과 recurrent dropout을 모두 사용할 수 있습니다.그렇게 되면 오른쪽 그림과 같은 형태가 되겠군요.\n",
    "# 참고로 dropout과 recurrent dropout을 모두 사용한 것을 Variational Dropout이라고도 해요.\n",
    "\n",
    "# recurrent dropout을 사용할 시 cuDNN을 사용할 수 없어서 recurrent dropout을 사용하지 않을 때보다 학습 시간이 오래 걸립니다."
   ]
  },
  {
   "cell_type": "code",
   "execution_count": 40,
   "id": "9ddde7c0",
   "metadata": {},
   "outputs": [
    {
     "name": "stdout",
     "output_type": "stream",
     "text": [
      "WARNING:tensorflow:Layer lstm_3 will not use cuDNN kernels since it doesn't meet the criteria. It will use a generic GPU kernel as fallback when running on GPU.\n"
     ]
    }
   ],
   "source": [
    "# 이제 디코더를 설계해볼게요!\n",
    "\n",
    "# 디코더 설계\n",
    "decoder_inputs = Input(shape=(None,))\n",
    "\n",
    "# 디코더의 임베딩 층\n",
    "dec_emb_layer = Embedding(tar_vocab, embedding_dim)\n",
    "dec_emb = dec_emb_layer(decoder_inputs)\n",
    "\n",
    "# 디코더의 LSTM\n",
    "decoder_lstm = LSTM(hidden_size, return_sequences=True, return_state=True, dropout=0.4, recurrent_dropout=0.2)\n",
    "# decoder_lstm = LSTM(hidden_size, return_sequences=True, return_state=True, dropout=0.4)\n",
    "decoder_outputs, _, _ = decoder_lstm(dec_emb, initial_state=[state_h, state_c])"
   ]
  },
  {
   "cell_type": "code",
   "execution_count": 41,
   "id": "71e10328",
   "metadata": {},
   "outputs": [
    {
     "name": "stdout",
     "output_type": "stream",
     "text": [
      "Model: \"model\"\n",
      "__________________________________________________________________________________________________\n",
      "Layer (type)                    Output Shape         Param #     Connected to                     \n",
      "==================================================================================================\n",
      "input_1 (InputLayer)            [(None, 50)]         0                                            \n",
      "__________________________________________________________________________________________________\n",
      "embedding (Embedding)           (None, 50, 128)      2048000     input_1[0][0]                    \n",
      "__________________________________________________________________________________________________\n",
      "lstm (LSTM)                     [(None, 50, 256), (N 394240      embedding[0][0]                  \n",
      "__________________________________________________________________________________________________\n",
      "input_2 (InputLayer)            [(None, None)]       0                                            \n",
      "__________________________________________________________________________________________________\n",
      "lstm_1 (LSTM)                   [(None, 50, 256), (N 525312      lstm[0][0]                       \n",
      "__________________________________________________________________________________________________\n",
      "embedding_1 (Embedding)         (None, None, 128)    1024000     input_2[0][0]                    \n",
      "__________________________________________________________________________________________________\n",
      "lstm_2 (LSTM)                   [(None, 50, 256), (N 525312      lstm_1[0][0]                     \n",
      "__________________________________________________________________________________________________\n",
      "lstm_3 (LSTM)                   [(None, None, 256),  394240      embedding_1[0][0]                \n",
      "                                                                 lstm_2[0][1]                     \n",
      "                                                                 lstm_2[0][2]                     \n",
      "__________________________________________________________________________________________________\n",
      "dense (Dense)                   (None, None, 8000)   2056000     lstm_3[0][0]                     \n",
      "==================================================================================================\n",
      "Total params: 6,967,104\n",
      "Trainable params: 6,967,104\n",
      "Non-trainable params: 0\n",
      "__________________________________________________________________________________________________\n"
     ]
    }
   ],
   "source": [
    "# 디코더의 출력층을 설계해볼게요.\n",
    "\n",
    "# 디코더의 출력층\n",
    "decoder_softmax_layer = Dense(tar_vocab, activation='softmax')\n",
    "decoder_softmax_outputs = decoder_softmax_layer(decoder_outputs) \n",
    "\n",
    "# 모델 정의\n",
    "model = Model([encoder_inputs, decoder_inputs], decoder_softmax_outputs)\n",
    "model.summary()"
   ]
  },
  {
   "cell_type": "code",
   "execution_count": 42,
   "id": "83bcf6ef",
   "metadata": {},
   "outputs": [
    {
     "name": "stdout",
     "output_type": "stream",
     "text": [
      "Model: \"model_1\"\n",
      "__________________________________________________________________________________________________\n",
      "Layer (type)                    Output Shape         Param #     Connected to                     \n",
      "==================================================================================================\n",
      "input_1 (InputLayer)            [(None, 50)]         0                                            \n",
      "__________________________________________________________________________________________________\n",
      "embedding (Embedding)           (None, 50, 128)      2048000     input_1[0][0]                    \n",
      "__________________________________________________________________________________________________\n",
      "lstm (LSTM)                     [(None, 50, 256), (N 394240      embedding[0][0]                  \n",
      "__________________________________________________________________________________________________\n",
      "input_2 (InputLayer)            [(None, None)]       0                                            \n",
      "__________________________________________________________________________________________________\n",
      "lstm_1 (LSTM)                   [(None, 50, 256), (N 525312      lstm[0][0]                       \n",
      "__________________________________________________________________________________________________\n",
      "embedding_1 (Embedding)         (None, None, 128)    1024000     input_2[0][0]                    \n",
      "__________________________________________________________________________________________________\n",
      "lstm_2 (LSTM)                   [(None, 50, 256), (N 525312      lstm_1[0][0]                     \n",
      "__________________________________________________________________________________________________\n",
      "lstm_3 (LSTM)                   [(None, None, 256),  394240      embedding_1[0][0]                \n",
      "                                                                 lstm_2[0][1]                     \n",
      "                                                                 lstm_2[0][2]                     \n",
      "__________________________________________________________________________________________________\n",
      "attention_layer (AdditiveAttent (None, None, 256)    256         lstm_3[0][0]                     \n",
      "                                                                 lstm_2[0][0]                     \n",
      "__________________________________________________________________________________________________\n",
      "concat_layer (Concatenate)      (None, None, 512)    0           lstm_3[0][0]                     \n",
      "                                                                 attention_layer[0][0]            \n",
      "__________________________________________________________________________________________________\n",
      "dense_1 (Dense)                 (None, None, 8000)   4104000     concat_layer[0][0]               \n",
      "==================================================================================================\n",
      "Total params: 9,015,360\n",
      "Trainable params: 9,015,360\n",
      "Non-trainable params: 0\n",
      "__________________________________________________________________________________________________\n"
     ]
    }
   ],
   "source": [
    "# 아래와 같이 어텐션 층을 만들고, 위에서 설계한 디코더의 출력층을 수정해 봅시다.\n",
    "\n",
    "# 어텐션 층(어텐션 함수)\n",
    "attn_layer = AdditiveAttention(name='attention_layer')\n",
    "\n",
    "# 인코더와 디코더의 모든 time step의 hidden state를 어텐션 층에 전달하고 결과를 리턴\n",
    "attn_out = attn_layer([decoder_outputs, encoder_outputs])\n",
    "\n",
    "\n",
    "# 어텐션의 결과와 디코더의 hidden state들을 연결\n",
    "decoder_concat_input = Concatenate(axis=-1, name='concat_layer')([decoder_outputs, attn_out])\n",
    "\n",
    "# 디코더의 출력층\n",
    "decoder_softmax_layer = Dense(tar_vocab, activation='softmax')\n",
    "decoder_softmax_outputs = decoder_softmax_layer(decoder_concat_input)\n",
    "\n",
    "# 모델 정의\n",
    "model = Model([encoder_inputs, decoder_inputs], decoder_softmax_outputs)\n",
    "model.summary()"
   ]
  },
  {
   "cell_type": "code",
   "execution_count": 43,
   "id": "200e2223",
   "metadata": {},
   "outputs": [
    {
     "name": "stdout",
     "output_type": "stream",
     "text": [
      "Epoch 1/50\n",
      "85/85 [==============================] - 66s 683ms/step - loss: 6.8466 - val_loss: 6.3301\n",
      "Epoch 2/50\n",
      "85/85 [==============================] - 57s 672ms/step - loss: 6.3493 - val_loss: 6.0420\n",
      "Epoch 3/50\n",
      "85/85 [==============================] - 57s 674ms/step - loss: 6.1026 - val_loss: 5.9069\n",
      "Epoch 4/50\n",
      "85/85 [==============================] - 57s 668ms/step - loss: 5.9190 - val_loss: 5.7760\n",
      "Epoch 5/50\n",
      "85/85 [==============================] - 57s 673ms/step - loss: 5.7529 - val_loss: 5.6800\n",
      "Epoch 6/50\n",
      "85/85 [==============================] - 57s 673ms/step - loss: 5.5994 - val_loss: 5.5858\n",
      "Epoch 7/50\n",
      "85/85 [==============================] - 57s 673ms/step - loss: 5.4304 - val_loss: 5.4597\n",
      "Epoch 8/50\n",
      "85/85 [==============================] - 57s 670ms/step - loss: 5.2571 - val_loss: 5.3614\n",
      "Epoch 9/50\n",
      "85/85 [==============================] - 57s 672ms/step - loss: 5.0952 - val_loss: 5.2981\n",
      "Epoch 10/50\n",
      "85/85 [==============================] - 57s 668ms/step - loss: 4.9455 - val_loss: 5.2444\n",
      "Epoch 11/50\n",
      "85/85 [==============================] - 57s 669ms/step - loss: 4.8055 - val_loss: 5.1764\n",
      "Epoch 12/50\n",
      "85/85 [==============================] - 57s 668ms/step - loss: 4.6724 - val_loss: 5.1399\n",
      "Epoch 13/50\n",
      "85/85 [==============================] - 57s 670ms/step - loss: 4.5408 - val_loss: 5.1057\n",
      "Epoch 14/50\n",
      "85/85 [==============================] - 57s 670ms/step - loss: 4.4134 - val_loss: 5.0949\n",
      "Epoch 15/50\n",
      "85/85 [==============================] - 56s 664ms/step - loss: 4.2927 - val_loss: 5.0484\n",
      "Epoch 16/50\n",
      "85/85 [==============================] - 57s 667ms/step - loss: 4.1779 - val_loss: 5.0282\n",
      "Epoch 17/50\n",
      "85/85 [==============================] - 57s 668ms/step - loss: 4.0661 - val_loss: 5.0241\n",
      "Epoch 18/50\n",
      "85/85 [==============================] - 56s 664ms/step - loss: 3.9578 - val_loss: 5.0012\n",
      "Epoch 19/50\n",
      "85/85 [==============================] - 56s 660ms/step - loss: 3.8520 - val_loss: 4.9978\n",
      "Epoch 20/50\n",
      "85/85 [==============================] - 56s 661ms/step - loss: 3.7519 - val_loss: 5.0096\n",
      "Epoch 21/50\n",
      "85/85 [==============================] - 57s 667ms/step - loss: 3.6518 - val_loss: 4.9937\n",
      "Epoch 22/50\n",
      "85/85 [==============================] - 56s 662ms/step - loss: 3.5586 - val_loss: 4.9749\n",
      "Epoch 23/50\n",
      "85/85 [==============================] - 56s 661ms/step - loss: 3.4623 - val_loss: 4.9946\n",
      "Epoch 24/50\n",
      "85/85 [==============================] - 57s 667ms/step - loss: 3.3736 - val_loss: 4.9906\n",
      "Epoch 00024: early stopping\n"
     ]
    }
   ],
   "source": [
    "# compile and train model\n",
    "model.compile(optimizer='rmsprop', loss='sparse_categorical_crossentropy')\n",
    "es = EarlyStopping(monitor='val_loss', patience=2, verbose=1)\n",
    "history = model.fit(x=[encoder_input_train, decoder_input_train], y=decoder_target_train, \\\n",
    "          validation_data=([encoder_input_test, decoder_input_test], decoder_target_test), \\\n",
    "          batch_size=256, callbacks=[es], epochs=50)"
   ]
  },
  {
   "cell_type": "code",
   "execution_count": 44,
   "id": "58e9fa60",
   "metadata": {},
   "outputs": [
    {
     "data": {
      "image/png": "[encoded data removed]",
      "text/plain": [
       "<Figure size 432x288 with 1 Axes>"
      ]
     },
     "metadata": {
      "needs_background": "light"
     },
     "output_type": "display_data"
    }
   ],
   "source": [
    "# 이제 훈련 데이터의 손실과 검증 데이터의 손실이 줄어드는 과정을 시각화 해봐요.\n",
    "plt.plot(history.history['loss'], label='train')\n",
    "plt.plot(history.history['val_loss'], label='test')\n",
    "plt.legend()\n",
    "plt.show()"
   ]
  },
  {
   "cell_type": "code",
   "execution_count": 45,
   "id": "9a7a1ae3",
   "metadata": {},
   "outputs": [],
   "source": [
    "# 테스트 단계에서는 정수 인덱스 행렬로 존재하던 텍스트 데이터를 실제 데이터로 복원해야 하므로,\n",
    "# 필요한 3개의 사전을 아래와 같이 미리 준비해 둡니다.\n",
    "src_index_to_word = src_tokenizer.index_word # 원문 단어 집합에서 정수 -> 단어를 얻음\n",
    "tar_word_to_index = tar_tokenizer.word_index # 요약 단어 집합에서 단어 -> 정수를 얻음\n",
    "tar_index_to_word = tar_tokenizer.index_word # 요약 단어 집합에서 정수 -> 단어를 얻음"
   ]
  },
  {
   "cell_type": "code",
   "execution_count": 46,
   "id": "54ba264d",
   "metadata": {},
   "outputs": [],
   "source": [
    "# seq2seq는 훈련할 때와 실제 동작할 때(인퍼런스 단계)의 방식이 다르므로 그에 맞게 모델 설계를 별개로 진행해야 한다는 것, 알고 계시나요?\n",
    "\n",
    "# 훈련 단계에서는 디코더의 입력부에 정답이 되는 문장 전체를 한꺼번에 넣고 디코더의 출력과 한 번에 비교할 수 있으므로,\n",
    "# 인코더와 디코더를 엮은 통짜 모델 하나만 준비했습니다.\n",
    "\n",
    "# 그러나 정답 문장이 없는 인퍼런스 단계에서는 만들어야 할 문장의 길이만큼 디코더가 반복 구조로 동작해야 하기 때문에\n",
    "# 부득이하게 인퍼런스를 위한 모델 설계를 별도로 해주어야 합니다. 이때는 인코더 모델과 디코더 모델을 분리해서 설계합니다.\n",
    "\n",
    "# 인코더 설계\n",
    "encoder_model = Model(inputs=encoder_inputs, outputs=[encoder_outputs, state_h, state_c])\n",
    "\n",
    "# 이전 시점의 상태들을 저장하는 텐서\n",
    "decoder_state_input_h = Input(shape=(hidden_size,))\n",
    "decoder_state_input_c = Input(shape=(hidden_size,))\n",
    "\n",
    "dec_emb2 = dec_emb_layer(decoder_inputs)\n",
    "\n",
    "# 문장의 다음 단어를 예측하기 위해서 초기 상태(initial_state)를 이전 시점의 상태로 사용. 이는 뒤의 함수 decode_sequence()에 구현\n",
    "# 훈련 과정에서와 달리 LSTM의 리턴하는 은닉 상태와 셀 상태인 state_h와 state_c를 버리지 않음.\n",
    "decoder_outputs2, state_h2, state_c2 = decoder_lstm(dec_emb2, initial_state=[decoder_state_input_h, decoder_state_input_c])"
   ]
  },
  {
   "cell_type": "code",
   "execution_count": 47,
   "id": "5adbdc87",
   "metadata": {},
   "outputs": [],
   "source": [
    "# 어텐션 메커니즘을 사용하는 출력층을 설계해 주세요.\n",
    "\n",
    "# 어텐션 함수\n",
    "decoder_hidden_state_input = Input(shape=(text_max_len, hidden_size))\n",
    "attn_out_inf = attn_layer([decoder_outputs2, decoder_hidden_state_input])\n",
    "decoder_inf_concat = Concatenate(axis=-1, name='concat')([decoder_outputs2, attn_out_inf])\n",
    "\n",
    "# 디코더의 출력층\n",
    "decoder_outputs2 = decoder_softmax_layer(decoder_inf_concat) \n",
    "\n",
    "# 최종 디코더 모델\n",
    "decoder_model = Model(\n",
    "    [decoder_inputs] + [decoder_hidden_state_input,decoder_state_input_h, decoder_state_input_c],\n",
    "    [decoder_outputs2] + [state_h2, state_c2])"
   ]
  },
  {
   "cell_type": "code",
   "execution_count": 48,
   "id": "af8fdc63",
   "metadata": {},
   "outputs": [],
   "source": [
    "# 인퍼런스 단계에서 단어 시퀀스를 완성하는 함수를 만들어주세요.\n",
    "\n",
    "def decode_sequence(input_seq):\n",
    "    # 입력으로부터 인코더의 상태를 얻음\n",
    "    e_out, e_h, e_c = encoder_model.predict(input_seq)\n",
    "\n",
    "     # <SOS>에 해당하는 토큰 생성\n",
    "    target_seq = np.zeros((1,1))\n",
    "    target_seq[0, 0] = tar_word_to_index['sostoken']\n",
    "\n",
    "    stop_condition = False\n",
    "    decoded_sentence = ''\n",
    "    while not stop_condition: # stop_condition이 True가 될 때까지 루프 반복\n",
    "\n",
    "        output_tokens, h, c = decoder_model.predict([target_seq] + [e_out, e_h, e_c])\n",
    "        sampled_token_index = np.argmax(output_tokens[0, -1, :])\n",
    "        sampled_token = tar_index_to_word[sampled_token_index]\n",
    "\n",
    "        if (sampled_token!='eostoken'):\n",
    "            decoded_sentence += ' '+sampled_token\n",
    "\n",
    "        #  <eos>에 도달하거나 최대 길이를 넘으면 중단.\n",
    "        if (sampled_token == 'eostoken'  or len(decoded_sentence.split()) >= (headlines_max_len-1)):\n",
    "            stop_condition = True\n",
    "\n",
    "        # 길이가 1인 타겟 시퀀스를 업데이트\n",
    "        target_seq = np.zeros((1,1))\n",
    "        target_seq[0, 0] = sampled_token_index\n",
    "\n",
    "        # 상태를 업데이트 합니다.\n",
    "        e_h, e_c = h, c\n",
    "\n",
    "    return decoded_sentence"
   ]
  },
  {
   "cell_type": "code",
   "execution_count": 49,
   "id": "46c66d0b",
   "metadata": {},
   "outputs": [],
   "source": [
    "# 테스트 단계에서는 정수 시퀀스를 텍스트 시퀀스로 변환하여 결과를 확인하는 것이 편하겠죠.\n",
    "# 주어진 정수 시퀀스를 텍스트 시퀀스로 변환하는 함수를 만들어볼게요.\n",
    "# 함수를 만들 때, Text의 정수 시퀀스에서는 패딩을 위해 사용되는 숫자 0을 제외하고\n",
    "# Summary의 정수 시퀀스에서는 숫자 0, 시작 토큰의 인덱스, 종료 토큰의 인덱스를 출력에서 제외하도록 만들 거예요.\n",
    "\n",
    "# 원문의 정수 시퀀스를 텍스트 시퀀스로 변환\n",
    "def seq2text(input_seq):\n",
    "    temp=''\n",
    "    for i in input_seq:\n",
    "        if (i!=0):\n",
    "            temp = temp + src_index_to_word[i]+' '\n",
    "    return temp\n",
    "\n",
    "# 요약문의 정수 시퀀스를 텍스트 시퀀스로 변환\n",
    "def seq2summary(input_seq):\n",
    "    temp=''\n",
    "    for i in input_seq:\n",
    "        if ((i!=0 and i!=tar_word_to_index['sostoken']) and i!=tar_word_to_index['eostoken']):\n",
    "            temp = temp + tar_index_to_word[i] + ' '\n",
    "    return temp"
   ]
  },
  {
   "cell_type": "code",
   "execution_count": 50,
   "id": "2c9f5a80",
   "metadata": {
    "scrolled": false
   },
   "outputs": [
    {
     "name": "stdout",
     "output_type": "stream",
     "text": [
      "원문 : us tennis player serena williams spoke perceived compared russian maria sharapova since dark people think mean maria sharapova might talk anybody might perceived public black look mean society live said serena \n",
      "실제 요약 : black and so look mean claims serena williams \n",
      "예측 요약 :  player apologises for racist racist\n",
      "\n",
      "\n",
      "원문 : rajasthan chief minister vasundhara raje taken early leads congress leader singh per initial trends bjp always two terms early trends show rajasthan congress chief sachin pilot leading congress general secretary ashok gehlot leading \n",
      "실제 요약 : early trends show leading in raj \n",
      "예측 요약 :  bjp cm resigns from bjp\n",
      "\n",
      "\n",
      "원문 : former world number one tennis player andy murray embraced mother murray announcing retirement press conference ahead australian open murray broke tears announcement wrote instagram post best way feel better tough day big \n",
      "실제 요약 : murray mother after retirement \n",
      "예측 요약 :  england player apologises for running for celebration\n",
      "\n",
      "\n",
      "원문 : pregnant woman gave birth baby outside government hospital jaipur rajasthan doctors allegedly refused admit next day woman severe pain doctors without even checking properly asked come next day forced leave said \n",
      "실제 요약 : refused hospital admission woman delivers baby on road \n",
      "예측 요약 :  woman gangraped for days in mumbai\n",
      "\n",
      "\n",
      "원문 : china friday called us withdraw sanctions imposed military warning bear consequences failed calling sanctions mistake china said us action violated basic principles international relations us imposed sanctions china purchasing russian sukhoi su fighter jets missiles \n",
      "실제 요약 : withdraw sanctions or bear china warns us \n",
      "예측 요약 :  us imposes us war against un\n",
      "\n",
      "\n",
      "원문 : describing security across loc united nations official said un military observer group india pakistan investigating alleged ceasefire violations pok un continues need parties find peaceful solution engagement dialogue added \n",
      "실제 요약 : un group probing ceasefire violations in pok official \n",
      "예측 요약 :  pakistan to launch military weapons\n",
      "\n",
      "\n",
      "원문 : thousands people kashmir attended funeral two suspected militants wednesday bodies dug near loc bodies taken two families approached police claiming two five suspected militants killed may sons bodies handed families legal proceedings \n",
      "실제 요약 : thousands attend funeral of suspected militants in kashmir \n",
      "예측 요약 :  terrorists killed in encounter in kashmir\n",
      "\n",
      "\n",
      "원문 : calling nuclear weapons greatest threat humanity us president donald trump expressed desire de world trump also urged nations including russia china pakistan get rid nuclear weapons however trump said nations united states finest nuclear arsenal \n",
      "실제 요약 : trump expresses to de the world \n",
      "예측 요약 :  us calls trump against iran\n",
      "\n",
      "\n",
      "원문 : competition commission india ordered probe aditya birla group industries alleged abuse dominant position regard sale fibre allegations pertained imposing discriminatory conditions sale monitoring customers collecting details consumption among others \n",
      "실제 요약 : regulator orders probe against aditya birla group \n",
      "예측 요약 :  jio challenges fine for misleading\n",
      "\n",
      "\n",
      "원문 : tribal dominated village jharkhand organised kissing competition couples two day annual fair couples took part contest aimed strengthening relationship husband wife initiative check growing cases differences tribal couples jharkhand morcha legislator simon said \n",
      "실제 요약 : jharkhand village holds kissing competition for couples \n",
      "예측 요약 :  kerala school to have child\n",
      "\n",
      "\n",
      "원문 : padma bhushan awardee historian irfan said rani padmavati character though alauddin khilji period mention character padmavati added discussing controversy film padmavati said film producer makes movie historical facts fail entertaining audience \n",
      "실제 요약 : rani padmavati is character irfan \n",
      "예측 요약 :  padmavati should be khilji in padmavati\n",
      "\n",
      "\n",
      "원문 : colombian president juan tuesday declared country year conflict farc rebels handed weapons nearly million pieces ammunition un disarmament part deal reached rebels government last year farc officially transform political party \n",
      "실제 요약 : ends with final of weapons \n",
      "예측 요약 :  venezuela prez declares venezuela prez\n",
      "\n",
      "\n",
      "원문 : google parent alphabet thursday reported year year increase revenues million quarter ended september alphabet net income also rose million million last year alphabet shares surged hours trading since company reported third quarter results \n",
      "실제 요약 : google parent alphabet revenues up in \n",
      "예측 요약 :  amazon revenue rises to crore in fy\n",
      "\n",
      "\n",
      "원문 : members european parliament voted favour proposal ban single use plastics bid curb marine pollution proposal called complete ban plastic cotton buds drink reduction use food drink containers like plastic cups ban likely take effect \n",
      "실제 요약 : european parliament votes to ban single use plastics \n",
      "예측 요약 :  bill to launch bill to stop\n",
      "\n",
      "\n",
      "원문 : minister punjab cm amarinder singh cabinet singh caught camera threatening suspend school principal found name third spot inauguration stone suspend immediately mistake aware chief guest allegedly said video \n",
      "실제 요약 : minister principal over name on inauguration stone \n",
      "예측 요약 :  cm announces lakh for cash\n",
      "\n",
      "\n",
      "원문 : india needs cut red tape reduce tax rate boost tourism sector country international asia pacific chief smith said said objective gst good tax rate high takes many permits anything every level added \n",
      "실제 요약 : gst rate is very high asia chief \n",
      "예측 요약 :  india to cut in india\n",
      "\n",
      "\n",
      "원문 : report released indian council medical research stated household air pollution india reduced pradhan mantri yojana scheme aims provide every household liquid petroleum gas replacing polluting cooking fuel report attributed residential burning solid cooking main reason household air pollution \n",
      "실제 요약 : govt lpg scheme reduced household air pollution \n",
      "예측 요약 :  air india to reduce pollution\n",
      "\n",
      "\n",
      "원문 : delhi cm aap convenor arvind kejriwal said sunday charges levelled kapil mishra baseless unless would jail would centre would ensured jail even truth charges levelled said \n",
      "실제 요약 : arvind kejriwal speaks on kapil mishra allegations \n",
      "예측 요약 :  kejriwal kejriwal for kejriwal for kejriwal\n",
      "\n",
      "\n",
      "원문 : indian super league franchise fc head coach john suspended three matches fined lakh immediate effect offensive remarks made offensive remarks referee fc fixture jamshedpur football club tata sports complex december \n",
      "실제 요약 : coach fined lakh for misconduct against \n",
      "예측 요약 :  player apologises for racist racist\n",
      "\n",
      "\n",
      "원문 : us president donald trump tuesday mocked testimony christine ford accused supreme court nominee brett sexual misconduct man life man life shattered trump said ford admitted senate judiciary committee unable recall time place assault \n",
      "실제 요약 : trump mocks alleged sexual assault victim testimony \n",
      "예측 요약 :  trump not clinton sexual assault allegations\n",
      "\n",
      "\n",
      "원문 : indian american author dinesh souza mocked survivors florida school shooting people killed worst news since parents told get summer jobs souza tweeted response image survivors reacting lawmakers voted bill ban assault weapons earlier called survivors grief \n",
      "실제 요약 : indian american author mocks florida shooting survivors \n",
      "예측 요약 :  video cricketer kills players in kolkata\n",
      "\n",
      "\n",
      "원문 : american canadian governments agreed contribute million experiment search dark matter particles constructed kilometres deep inside nickel mine operated experiment would least times sensitive predecessor protected high energy cosmic radiation creates background noise \n",
      "실제 요약 : most sensitive dark matter hunt gets million boost \n",
      "예측 요약 :  startup makes crore for crore\n",
      "\n",
      "\n",
      "원문 : bag owned used princess diana sold auction us silver bag passed kensington palace discarded diana bag item diana style taste said \n",
      "실제 요약 : princess diana bag auctioned for over lakh \n",
      "예측 요약 :  man wins crore for auction\n",
      "\n",
      "\n",
      "원문 : nearly million cash stolen former zimbabwe president mugabe house allegedly relatives employees court papers released friday showed three suspects arrested earlier month initial allegations stole mugabe rural house allegedly spent money cars houses among others \n",
      "실제 요약 : million stolen from ex zimbabwe president mugabe house \n",
      "예측 요약 :  snapdeal worth crore seized in\n",
      "\n",
      "\n",
      "원문 : american startup shares surged nearly monday company announced healthcare collaboration technology giant google however shares shed half gain later day announced intention use google cloud healthcare help company integrate healthcare system connecting user data electronic medical records \n",
      "실제 요약 : shares rise after google partnership \n"
     ]
    },
    {
     "name": "stdout",
     "output_type": "stream",
     "text": [
      "예측 요약 :  apple acquires startup\n",
      "\n",
      "\n",
      "원문 : police station established deal alleged corruption cases delhi police officers arrested accused personnel without able convict anyone senior officer vigilance unit said unless person caught red handed arrested arrests made evidence recordings forensic laboratories \n",
      "실제 요약 : accused convicted delhi police action on corrupt cops \n",
      "예측 요약 :  arrested for blackmailing police arrested in maharashtra\n",
      "\n",
      "\n",
      "원문 : series suicides maharashtra secretariat building state government installed safety net building second floor prevent incidents future four suicide attempts around secretariat building since january resulting death three meanwhile opposition dubbed building suicide point \n",
      "실제 요약 : maha secretariat gets safety net after multiple suicides \n",
      "예측 요약 :  killed in south africa train crash\n",
      "\n",
      "\n",
      "원문 : study claimed north korea acquired engines icbm tests conducted last month russian ukrainian sources stated missiles appeared powered modified version engine previously used soviet engines probably acquired illicit channels operating russia ukraine report added \n",
      "실제 요약 : korea missiles used russian or ukrainian engines reports \n",
      "예측 요약 :  us nuclear growing missile\n",
      "\n",
      "\n",
      "원문 : office former rbi governor raghuram rajan issued statement clarifying rajan plans leave full time academic job university chicago comes reports said aap offered rajan one three seats rajya sabha aap leaders claimed rajan considering offer \n",
      "실제 요약 : raghuram rajan rejects aap rajya sabha offer \n",
      "예측 요약 :  supreme court appointed of anti harassment\n",
      "\n",
      "\n",
      "원문 : jammu kashmir police monday said militants surrender accepted mainstream even surrendered middle encounter security forces go hundred steps rehabilitate take care future ensure safety inspector general police hasan said \n",
      "실제 요약 : militants who surrender will be accepted police \n",
      "예측 요약 :  isis was isis in kashmir\n",
      "\n",
      "\n",
      "원문 : maoist couple carrying lakh reward heads surrendered odisha police tuesday couple reportedly facing opposition relationship senior leaders become maoist ideology witnessed women exploitation group notably state provides assistance surrendered maoists want get married \n",
      "실제 요약 : maoist couple surrenders after leaders oppose relationship \n",
      "예측 요약 :  police arrests police for police\n",
      "\n",
      "\n",
      "원문 : india ranks th overall mobile internet speeds average download speed mbps less pakistan according data speed list comprising countries qatar ranked first list mbps average download speed norway stood second list mbps download speed \n",
      "실제 요약 : india ranks th stands behind pakistan in \n",
      "예측 요약 :  india first space observatory completes the india\n",
      "\n",
      "\n",
      "원문 : labour day observed may every year commemorate struggles working class labour movement achieve eight hour observed public holiday across countries india observed labour day first time chennai communist leaders raised red flag first time country \n",
      "실제 요약 : why is labour day or may day observed \n",
      "예측 요약 :  india to open flights from\n",
      "\n",
      "\n",
      "원문 : pirates freed oil tanker gone missing gulf guinea friday indian sailors onboard ship management company eastern said crew members reported safe well cargo remains board company added oil tanker carrying tonnes \n",
      "실제 요약 : pirates free oil tanker with indian sailors onboard \n",
      "예측 요약 :  russian navy evacuated after missing bridge collapse\n",
      "\n",
      "\n",
      "원문 : indian spinner harbhajan singh chat show csk rounder shane watson revealed rounder yuvraj singh played cricket together got yuvraj continued play cricket like afridi joked like three years watson added \n",
      "실제 요약 : got yuvraj to play harbhajan \n",
      "예측 요약 :  kohli cannot be me me pujara\n",
      "\n",
      "\n",
      "원문 : rajasthan education department directed schools state hold third saturday every month part co activities students also stated first saturday well renowned personalities read students moral value stories second saturday \n",
      "실제 요약 : made mandatory in rajasthan schools \n",
      "예측 요약 :  schools to be compulsory in schools\n",
      "\n",
      "\n",
      "원문 : us president donald trump appeared acknowledge russian meddling last year us presidential election tweet accused predecessor barack obama inaction known russian interference cia gave information russia long time election trump claimed currently trump team investigated fbi ties russia \n",
      "실제 요약 : trump admits russian election meddling blames obama \n",
      "예측 요약 :  trump putin to be putin putin putin\n",
      "\n",
      "\n",
      "원문 : andrew executive producer shows like arrow flash accused engaging sexual harassment inappropriate physical contact period years women men suspended warner allegations however denied allegations said inappropriate touching never occurred \n",
      "실제 요약 : women men accuse producer of sexual harassment \n",
      "예측 요약 :  sexual harassment claims sexual harassment allegations\n",
      "\n",
      "\n",
      "원문 : captain virat kohli become first indian fastest overall reach runs men cricket achieving feat th innings england tuesday kohli overtook ex new zealand captain brendon mccullum reached landmark th innings new zealand martin holds record scoring runs \n",
      "실제 요약 : kohli becomes fastest to reach runs in cricket \n",
      "예측 요약 :  india fastest becomes fastest to international century\n",
      "\n",
      "\n",
      "원문 : rebel aiadmk leader panneerselvam said sasikala faction party formed committee conduct talks merger meanwhile tamil nadu minister raju said core issue us remains symbol two leaves retrieve symbol factions must work brothers family added \n",
      "실제 요약 : sasikala forms panel for aiadmk merger \n",
      "예측 요약 :  pranab mukherjee appointed of sasikala from\n",
      "\n",
      "\n",
      "원문 : madhya pradesh police seized kg beef two men state district thursday two persons later arrested allegedly carrying meat cow legs plastic bags car cops seized meat following tip right wing organisation thursday night \n",
      "실제 요약 : over kg beef seized in mp two arrested \n",
      "예측 요약 :  men found in bihar temple in bihar\n",
      "\n",
      "\n",
      "원문 : journalist cameroon slapped forced dog former transport minister home ngo reporters without borders said wednesday reporter cameroon daily le accused espionage former minister guards cameroon ranked world press freedom index \n",
      "실제 요약 : journalist stripped forced into dog \n",
      "예측 요약 :  hindu muslims should be hindu muslim\n",
      "\n",
      "\n",
      "원문 : facebook monday said local news news feed globally help users discover happening local area update announced january along changes prioritise posts friends high quality news sources also help local publishers cover multiple nearby cities reach audiences cities facebook said \n",
      "실제 요약 : facebook introduces its local news feature globally \n",
      "예측 요약 :  facebook launches app for global\n",
      "\n",
      "\n",
      "원문 : condemning north korea highest ever intercontinental ballistic missile test wednesday russia said another missile launch provocative action increase tensions russia urged relevant sides keep calm situation north korea claimed icbm capable striking us mainland \n",
      "실제 요약 : north korea missile test action russia \n",
      "예측 요약 :  north korea missile fires missile\n",
      "\n",
      "\n",
      "원문 : fashion designer showcased condom shaped dresses rubber seemed resemble united states president donald trump head london fashion week meanwhile designs collection seemingly inspired inflatable swimming pools collection gone viral instagram \n",
      "실제 요약 : condom shaped at london fashion week \n",
      "예측 요약 :  trump called for the first time\n",
      "\n",
      "\n",
      "원문 : south central railway installed plastic bottle telangana andhra pradesh vijayawada stations order promote environmental protection machines size refrigerator crush bottles day bottles come fine plastic pieces make bags shirts \n",
      "실제 요약 : railways installs plastic bottle at stations \n",
      "예측 요약 :  delhi civic body to get dengue\n",
      "\n",
      "\n",
      "원문 : speaking upcoming film manikarnika queen jhansi kangana ranaut revealed direct manikarnika lot people said like committing suicide think head think heart film needed actress said explaining decision co direct film film release january \n",
      "실제 요약 : people said manikarnika is like suicide kangana \n",
      "예측 요약 :  kangana ranaut to be ranaut manikarnika\n",
      "\n",
      "\n",
      "원문 : giant mushroom weighing eight kg metres found china southwestern province officials said half covered leaves half air officials added mushroom biggest ever discovered region however deemed edible \n",
      "실제 요약 : giant mushroom weighing kg discovered in china \n",
      "예측 요약 :  video shows world biggest restaurant\n",
      "\n",
      "\n",
      "원문 : bangladesh government reportedly warned india entered india border bangladesh hiding west bengal assam tripura certainly increase terrorist activity last six months arrested operatives additional dgp assam reportedly said \n",
      "실제 요약 : over have entered india bangladesh govt \n"
     ]
    },
    {
     "name": "stdout",
     "output_type": "stream",
     "text": [
      "예측 요약 :  indian lanka lifts death toll in bangladesh\n",
      "\n",
      "\n",
      "원문 : bollywood actor amitabh bachchan hailed indian women cricket team captain mithali raj response journalist asked favourite men cricketer mithali snapped reporter saying ask question male cricketer ask favourite female cricketer amitabh reacted response tweeting \n",
      "실제 요약 : big hails mithali for favourite men cricketer reply \n",
      "예측 요약 :  sachin shows me like sachin\n",
      "\n",
      "\n"
     ]
    }
   ],
   "source": [
    "# 테스트 데이터 약 50개의 샘플에 대해서 실제 요약과 예측된 요약을 비교해보세요.\n",
    "for i in range(50, 100):\n",
    "    print(\"원문 :\", seq2text(encoder_input_test[i]))\n",
    "    print(\"실제 요약 :\", seq2summary(decoder_input_test[i]))\n",
    "    print(\"예측 요약 :\", decode_sequence(encoder_input_test[i].reshape(1, text_max_len)))\n",
    "    print(\"\\n\")\n",
    "    \n",
    "# 많은 결과가 출력이 되는데, 기존의 요약과는 다른 요약을 출력하면서도 원문의 내용을 담고 있는 의미 있는 요약들이 보이네요.\n",
    "# 심지어 일부 요약의 경우에는 원문에 없던 단어를 사용해서 요약을 하기도 하고 있어요.\n",
    "# 워드 임베딩과 RNN의 콜라보로 이뤄낸 신기한 성과네요!\n",
    "\n",
    "# 물론 슬프게도 그다지 좋지 않은 요약의 예도 꽤나 보이기도 하네요.\n",
    "# 성능을 개선하기 위해서는 seq2seq와 어텐션의 자체의 조합을 좀 더 좋게 수정하는 방법도 있고,\n",
    "# 빔 서치(beam search), 사전 훈련된 워드 임베딩(pre-trained word embedding),\n",
    "# 또는 인코더 - 디코더 자체의 구조를 새로이 변경한 하는 트랜스포머(Transformer)와 같은 여러 개선 방안들이 존재합니다.\n",
    "# 이런 방안들에 대해서도 향후 살펴보게 될 것입니다."
   ]
  },
  {
   "cell_type": "markdown",
   "id": "376a4193",
   "metadata": {},
   "source": [
    "# Extractive Summarization"
   ]
  },
  {
   "cell_type": "code",
   "execution_count": 51,
   "id": "ac47c2e0",
   "metadata": {},
   "outputs": [],
   "source": [
    "# 앞서 seq2seq를 통해서 추상적 요약을 진행해봤어요.\n",
    "# 그런데 텍스트 요약에는 추상적 요약 외에도 이미 본문에 존재하는 단어구, 문장을 뽑아서 요약으로 삼는 추출적 요약 방법도 있었죠.\n",
    "\n",
    "# 패키지 Summa에서는 추출적 요약을 위한 모듈인 summarize를 제공하고 있어 아주 간단하게 실습을 해볼 수 있어요.\n",
    "# 영화 매트릭스 시놉시스를 요약해보면서 summarize 사용법을 익혀볼까요?\n"
   ]
  },
  {
   "cell_type": "code",
   "execution_count": 52,
   "id": "447cc9a7",
   "metadata": {},
   "outputs": [
    {
     "data": {
      "text/plain": [
       "0        Saurav Kant, an alumnus of upGrad and IIIT-B's...\n",
       "1        Kunal Shah's credit card bill payment platform...\n",
       "2        New Zealand defeated India by 8 wickets in the...\n",
       "3        With Aegon Life iTerm Insurance plan, customer...\n",
       "4        Speaking about the sexual harassment allegatio...\n",
       "                               ...                        \n",
       "98396    A CRPF jawan was on Tuesday axed to death with...\n",
       "98397    'Uff Yeh', the first song from the Sonakshi Si...\n",
       "98398    According to reports, a new version of the 199...\n",
       "98399    A new music video shows rapper Snoop Dogg aimi...\n",
       "98400    Madhesi Morcha, an alliance of seven political...\n",
       "Name: text, Length: 98401, dtype: object"
      ]
     },
     "execution_count": 52,
     "metadata": {},
     "output_type": "execute_result"
    }
   ],
   "source": [
    "# 매트릭스 시놉시스를 다운로드 해주세요.\n",
    "data = pd.read_csv('news_summary_more.csv')\n",
    "text = data['text']\n",
    "text"
   ]
  },
  {
   "cell_type": "code",
   "execution_count": 53,
   "id": "04a62c9e",
   "metadata": {
    "scrolled": true
   },
   "outputs": [],
   "source": [
    "# pandas.Series.str.cat\n",
    "# text = text[50:100].str.cat(sep='\\n')"
   ]
  },
  {
   "cell_type": "code",
   "execution_count": 54,
   "id": "48c9ecab",
   "metadata": {},
   "outputs": [
    {
     "name": "stdout",
     "output_type": "stream",
     "text": [
      "50    Former Finance Minister Yashwant Sinha on Tues...\n",
      "51    US-based Boeing on Wednesday reported annual s...\n",
      "52                                                 text\n",
      "53    OnePlus has emerged as India's best-selling pr...\n",
      "54    Filmmaker Pooja Bhatt, while talking about the...\n",
      "55    Actress Mishti, who has featured in 'Manikarni...\n",
      "56    The high-powered committee led by PM Narendra ...\n",
      "57    Nevada State Athletic Commission has banned MM...\n",
      "58    Pakistan captain Sarfaraz Ahmed, who has been ...\n",
      "59    Banned cricketer Sreesanth has told Supreme Co...\n",
      "60    The Finance Ministry on Wednesday said the gov...\n",
      "61    US President Donald Trump on Wednesday called ...\n",
      "62    A senior priest at the Vatican who handled cas...\n",
      "63    A 22-year-old writer turned down a job offer, ...\n",
      "64    Noida Police has arrested Sector 20 station in...\n",
      "65    Airtel on Wednesday said that Qatar's sovereig...\n",
      "66    Actor Shreyas Talpade said that 'Golmaal' film...\n",
      "67    A 72-year-old man named Terry Sanderson has su...\n",
      "68    Yami Gautam was felicitated by Border Security...\n",
      "69    Social media giant Facebook has hired privacy ...\n",
      "70    Apple CEO Tim Cook said the company plans to l...\n",
      "71    Scientists in Australia's Flinders University ...\n",
      "72    BJP National Secretary Rahul Sinha on Wednesda...\n",
      "73    BJP President Amit Shah on Wednesday took a di...\n",
      "74    German automaker Volkswagen Group has retained...\n",
      "75    Ousted Nissan Chairman Carlos Ghosn has said h...\n",
      "76    The government has cut down customs duty on im...\n",
      "77    Government officials on Wednesday said that a ...\n",
      "78    North Korea is \"unlikely to completely give up...\n",
      "79    Jet Airways on Wednesday denied it was directe...\n",
      "80    Retired Justice Srikrishna's enquiry panel has...\n",
      "81    Ex-India cricketer Jacob Martin has been shift...\n",
      "82    Sri Lanka all-rounder Thisara Perera has writt...\n",
      "83    Goa CM and ex-Defence Minister Manohar Parrika...\n",
      "84    Prime Minister Narendra Modi stopped his speec...\n",
      "85    A couple got divorced minutes after their wedd...\n",
      "86    Gujarat Education Minister Bhupendrasinh Chuda...\n",
      "87    Venezuelan President NicolÃ¡s Maduro has claim...\n",
      "88    Eight Asian billionaires aged 90 or above on t...\n",
      "89    Tamil Nadu food safety officials on Wednesday ...\n",
      "90    Actress Shamita Shetty was verbally abused and...\n",
      "91    Actress Vaani Kapoor said that trolling has be...\n",
      "92    Actress Sushmita Sen took to Instagram to shar...\n",
      "93    Television actor Karanvir Bohra, who flew to R...\n",
      "94    While speaking about winning awards for his fi...\n",
      "95    Actress Patralekhaa will make her debut in the...\n",
      "96    Gmail on Tuesday faced a global outage, which ...\n",
      "97    Shiv Sena chief Uddhav Thackeray has asked the...\n",
      "98    BJP President Amit Shah on Wednesday took a di...\n",
      "99    Prime Minister Narendra Modi on Wednesday said...\n",
      "Name: text, dtype: object\n"
     ]
    }
   ],
   "source": [
    "# 이제 text에는 매트릭스 시놉시스가 문자열로 저장돼 있어요.\n",
    "# 출력 결과가 아주 길기 때문에 일부만 출력해보고, 잘 저장이 되었는지 확인해볼게요.\n",
    "print(text[50:100])"
   ]
  },
  {
   "cell_type": "code",
   "execution_count": 55,
   "id": "eed5ed9a",
   "metadata": {
    "scrolled": false
   },
   "outputs": [
    {
     "name": "stdout",
     "output_type": "stream",
     "text": [
      "Former Finance Minister Yashwant Sinha on Tuesday demanded a probe into the alleged diversion of loans worth â¹31,000 crore by Dewan Housing Finance (DHFL).\n",
      "Boeing retained its position as the world's largest planemaker for the seventh straight year, delivering 806 aircraft in 2018.\n",
      "\n",
      "Further, its OnePlus 6 emerged as the highest selling premium smartphone of 2018 followed by OnePlus 6T.\n",
      "\n",
      "\n",
      "\n",
      "Nevada State Athletic Commission has banned MMA fighters Conor McGregor and Khabib Nurmagomedov for six months and nine months respectively over their roles in the mass brawl that occurred after their fight at UFC 229 last October.\n",
      "Pakistan captain Sarfaraz Ahmed, who has been banned for four matches over racist remarks, took an apparent dig at his critics by sharing a video of a child reciting 'log hai na' poem on Twitter.\n",
      "Sreesanth further said the bookie tried dragging him into spot-fixing but he didn't fall for it.\n",
      "The Finance Ministry on Wednesday said the government will present an Interim Budget on February 1.\n",
      "US President Donald Trump on Wednesday called his country's top intelligence chiefs \"naive\" and \"wrong\" on Iran and added that they should perhaps \"go back to school\".\n",
      "A senior priest at the Vatican who handled cases of sexual abuse has quit after being accused of sexual abuse by a former nun.\n",
      "A 22-year-old writer turned down a job offer, claiming she was bullied to the point of tears during her two-hour interview by a UK company's CEO.\n",
      "Noida Police has arrested Sector 20 station in-charge Manoj Pant and three journalists for allegedly extorting money from a call centre owner for removing his name from an FIR.\n",
      "Airtel Africa, the holding company for Airtel's operations in 14 African countries, is preparing for an initial public offering.\n",
      "Actor Shreyas Talpade said that 'Golmaal' filmmaker Rohit Shetty is still working on the script for the fifth instalment of the 'Golmaal' film franchise.\n",
      "A 72-year-old man named Terry Sanderson has sued 'Avengers' actress Gwyneth Paltrow for allegedly crashing into him while skiing, and is seeking $3.1 million (over â¹22 crore) in damages.\n",
      "Yami Gautam was felicitated by Border Security Force (BSF) in Amritsar for her performance in 'Uri: The Surgical Strike'.\n",
      "\n",
      "\"Weâve decided to go back to (iPhone prices) more commensurate with...local prices...a year ago,\" Cook added.\n",
      "\"The majority of fatalities from shark bites is due to blood loss...shock from blood loss,\" a scientist said.\n",
      "BJP National Secretary Rahul Sinha on Wednesday asked the party workers in West Bengal to come armed with sticks to PM Narendra Modi's rally in the state on February 2.\n",
      "BJP President Amit Shah on Wednesday took a dig at the Opposition parties saying that the 'mahagathbandhan' for the Opposition is 4B - \"Bua-Bhatija-Bhai-Behen\".\n",
      "Volkswagen's sales, including its MAN and Scania heavy trucks and buses, rose 0.9% to 10.83 million in 2018, the company had said.\n",
      "Ousted Nissan Chairman Carlos Ghosn has said his arrest over alleged financial misconduct was led by \"plot and treason\" by the Japanese carmaker's executives who opposed its deeper integration with Renault and Mitsubishi.\n",
      "The government has cut down customs duty on import of parts and components for electric vehicles to 10-15%, down from the previous 15-30%.\n",
      "Government officials on Wednesday said that a swine flu outbreak has killed 76 people this year in Rajasthan.\n",
      "\"North Korean leaders view nuclear arms as critical to regime survival,\" he added.\n",
      "Further, three aircraft have been temporarily grounded to carry out an engine normalisation exercise, it added.\n",
      "Retired Justice Srikrishna's enquiry panel has found that ex-CEO Chanda Kochhar violated ICICI Bank's code of conduct.\n",
      "Ex-India cricketer Jacob Martin has been shifted to general ward from the ICU after being on a ventilator for nearly a month following a road accident, wherein he severely injured his lungs.\n",
      "Tanya accused Perera of meeting country's Sports Minister to secure his place in the team.\n",
      "\n",
      "PM Modi then asked his officers to urgently arrange for an ambulance for the cameraman.\n",
      "A couple got divorced minutes after their wedding ceremony got over in Gujarat's Gondal as a disagreement broke out and relatives from both sides started throwing dishes at each other during lunch.\n",
      "\n",
      "Venezuelan President NicolÃ¡s Maduro has claimed that his American counterpart Donald Trump ordered the Colombian government and the Colombian mafia to kill him.\n",
      "The richest among them is Hong Kong's Li Ka Shing with a net worth of $30.5 billion.\n",
      "Tamil Nadu food safety officials on Wednesday raided and seized 1,000 kgs of banned plastic items from Hotel Saravana Bhavan in Chennai's Vadapalani.\n",
      "Actress Shamita Shetty was verbally abused and her driver was slapped in an incident of road rage in Mumbai on Tuesday, as per reports.\n",
      "\n",
      "\"This is an insult to [the] beauty of marriage,\" an Instagram user commented on her post.\n",
      "Television actor Karanvir Bohra, who flew to Russia on Tuesday to attend a film festival, has been detained in Moscow due to passport damage.\n",
      "\n",
      "\n",
      "Gmail on Tuesday faced a global outage, which also affected India, wherein certain users complained they faced a '404 error' message while trying to sign-in to their accounts.\n",
      "Shiv Sena chief Uddhav Thackeray has asked the BJP to decide about the alliance with the Sena within 15 days and said the BJP should make a concrete proposal on the alliance.\n",
      "He said the Opposition is thinking about leading the country but does not have a leader.\n",
      "He added decisions like demonetisation and RERA have put a check on black money that used to be \"parked in the real estate sector\".\n"
     ]
    }
   ],
   "source": [
    "for i in range(50,100):\n",
    "    print(summarize(text[i], ratio=0.4))"
   ]
  },
  {
   "cell_type": "code",
   "execution_count": 56,
   "id": "165cc707",
   "metadata": {},
   "outputs": [
    {
     "name": "stdout",
     "output_type": "stream",
     "text": [
      "['Former Finance Minister Yashwant Sinha on Tuesday demanded a probe into the alleged diversion of loans worth â\\x82¹31,000 crore by Dewan Housing Finance (DHFL).']\n",
      "[\"Boeing retained its position as the world's largest planemaker for the seventh straight year, delivering 806 aircraft in 2018.\"]\n",
      "[]\n",
      "['Further, its OnePlus 6 emerged as the highest selling premium smartphone of 2018 followed by OnePlus 6T.']\n",
      "[]\n",
      "[]\n",
      "[]\n",
      "['Nevada State Athletic Commission has banned MMA fighters Conor McGregor and Khabib Nurmagomedov for six months and nine months respectively over their roles in the mass brawl that occurred after their fight at UFC 229 last October.']\n",
      "[\"Pakistan captain Sarfaraz Ahmed, who has been banned for four matches over racist remarks, took an apparent dig at his critics by sharing a video of a child reciting 'log hai na' poem on Twitter.\"]\n",
      "[\"Sreesanth further said the bookie tried dragging him into spot-fixing but he didn't fall for it.\"]\n",
      "['The Finance Ministry on Wednesday said the government will present an Interim Budget on February 1.']\n",
      "['US President Donald Trump on Wednesday called his country\\'s top intelligence chiefs \"naive\" and \"wrong\" on Iran and added that they should perhaps \"go back to school\".']\n",
      "['A senior priest at the Vatican who handled cases of sexual abuse has quit after being accused of sexual abuse by a former nun.']\n",
      "[\"A 22-year-old writer turned down a job offer, claiming she was bullied to the point of tears during her two-hour interview by a UK company's CEO.\"]\n",
      "['Noida Police has arrested Sector 20 station in-charge Manoj Pant and three journalists for allegedly extorting money from a call centre owner for removing his name from an FIR.']\n",
      "[\"Airtel Africa, the holding company for Airtel's operations in 14 African countries, is preparing for an initial public offering.\"]\n",
      "[\"Actor Shreyas Talpade said that 'Golmaal' filmmaker Rohit Shetty is still working on the script for the fifth instalment of the 'Golmaal' film franchise.\"]\n",
      "[\"A 72-year-old man named Terry Sanderson has sued 'Avengers' actress Gwyneth Paltrow for allegedly crashing into him while skiing, and is seeking $3.1 million (over â\\x82¹22 crore) in damages.\"]\n",
      "[\"Yami Gautam was felicitated by Border Security Force (BSF) in Amritsar for her performance in 'Uri: The Surgical Strike'.\"]\n",
      "[]\n",
      "['\"Weâ\\x80\\x99ve decided to go back to (iPhone prices) more commensurate with...local prices...a year ago,\" Cook added.']\n",
      "['\"The majority of fatalities from shark bites is due to blood loss...shock from blood loss,\" a scientist said.']\n",
      "[\"BJP National Secretary Rahul Sinha on Wednesday asked the party workers in West Bengal to come armed with sticks to PM Narendra Modi's rally in the state on February 2.\"]\n",
      "['BJP President Amit Shah on Wednesday took a dig at the Opposition parties saying that the \\'mahagathbandhan\\' for the Opposition is 4B - \"Bua-Bhatija-Bhai-Behen\".']\n",
      "[\"Volkswagen's sales, including its MAN and Scania heavy trucks and buses, rose 0.9% to 10.83 million in 2018, the company had said.\"]\n",
      "['Ousted Nissan Chairman Carlos Ghosn has said his arrest over alleged financial misconduct was led by \"plot and treason\" by the Japanese carmaker\\'s executives who opposed its deeper integration with Renault and Mitsubishi.']\n",
      "['The government has cut down customs duty on import of parts and components for electric vehicles to 10-15%, down from the previous 15-30%.']\n",
      "['Government officials on Wednesday said that a swine flu outbreak has killed 76 people this year in Rajasthan.']\n",
      "['\"North Korean leaders view nuclear arms as critical to regime survival,\" he added.']\n",
      "['Further, three aircraft have been temporarily grounded to carry out an engine normalisation exercise, it added.']\n",
      "[\"Retired Justice Srikrishna's enquiry panel has found that ex-CEO Chanda Kochhar violated ICICI Bank's code of conduct.\"]\n",
      "['Ex-India cricketer Jacob Martin has been shifted to general ward from the ICU after being on a ventilator for nearly a month following a road accident, wherein he severely injured his lungs.']\n",
      "[\"Tanya accused Perera of meeting country's Sports Minister to secure his place in the team.\"]\n",
      "[]\n",
      "['PM Modi then asked his officers to urgently arrange for an ambulance for the cameraman.']\n",
      "[\"A couple got divorced minutes after their wedding ceremony got over in Gujarat's Gondal as a disagreement broke out and relatives from both sides started throwing dishes at each other during lunch.\"]\n",
      "[]\n",
      "['Venezuelan President NicolÃ¡s Maduro has claimed that his American counterpart Donald Trump ordered the Colombian government and the Colombian mafia to kill him.']\n",
      "[\"The richest among them is Hong Kong's Li Ka Shing with a net worth of $30.5 billion.\"]\n",
      "[\"Tamil Nadu food safety officials on Wednesday raided and seized 1,000 kgs of banned plastic items from Hotel Saravana Bhavan in Chennai's Vadapalani.\"]\n",
      "['Actress Shamita Shetty was verbally abused and her driver was slapped in an incident of road rage in Mumbai on Tuesday, as per reports.']\n",
      "[]\n",
      "['\"This is an insult to [the] beauty of marriage,\" an Instagram user commented on her post.']\n",
      "['Television actor Karanvir Bohra, who flew to Russia on Tuesday to attend a film festival, has been detained in Moscow due to passport damage.']\n",
      "[]\n",
      "[]\n",
      "[\"Gmail on Tuesday faced a global outage, which also affected India, wherein certain users complained they faced a '404 error' message while trying to sign-in to their accounts.\"]\n",
      "['Shiv Sena chief Uddhav Thackeray has asked the BJP to decide about the alliance with the Sena within 15 days and said the BJP should make a concrete proposal on the alliance.']\n",
      "['He said the Opposition is thinking about leading the country but does not have a leader.']\n",
      "['He added decisions like demonetisation and RERA have put a check on black money that used to be \"parked in the real estate sector\".']\n"
     ]
    }
   ],
   "source": [
    "for i in range(50,100):\n",
    "    print(summarize(text[i], ratio=0.4, split=True))"
   ]
  },
  {
   "cell_type": "code",
   "execution_count": 57,
   "id": "695b5822",
   "metadata": {},
   "outputs": [
    {
     "ename": "NameError",
     "evalue": "name 'max_' is not defined",
     "output_type": "error",
     "traceback": [
      "\u001b[0;31m---------------------------------------------------------------------------\u001b[0m",
      "\u001b[0;31mNameError\u001b[0m                                 Traceback (most recent call last)",
      "\u001b[0;32m/tmp/ipykernel_2915/2222536333.py\u001b[0m in \u001b[0;36m<module>\u001b[0;34m\u001b[0m\n\u001b[1;32m      1\u001b[0m \u001b[0;32mfor\u001b[0m \u001b[0mi\u001b[0m \u001b[0;32min\u001b[0m \u001b[0mrange\u001b[0m\u001b[0;34m(\u001b[0m\u001b[0;36m50\u001b[0m\u001b[0;34m,\u001b[0m\u001b[0;36m100\u001b[0m\u001b[0;34m)\u001b[0m\u001b[0;34m:\u001b[0m\u001b[0;34m\u001b[0m\u001b[0;34m\u001b[0m\u001b[0m\n\u001b[0;32m----> 2\u001b[0;31m     \u001b[0mprint\u001b[0m\u001b[0;34m(\u001b[0m\u001b[0msummarize\u001b[0m\u001b[0;34m(\u001b[0m\u001b[0mtext\u001b[0m\u001b[0;34m[\u001b[0m\u001b[0mi\u001b[0m\u001b[0;34m]\u001b[0m\u001b[0;34m,\u001b[0m \u001b[0mwords\u001b[0m\u001b[0;34m=\u001b[0m\u001b[0mmax_\u001b[0m\u001b[0;34m)\u001b[0m\u001b[0;34m)\u001b[0m\u001b[0;34m\u001b[0m\u001b[0;34m\u001b[0m\u001b[0m\n\u001b[0m",
      "\u001b[0;31mNameError\u001b[0m: name 'max_' is not defined"
     ]
    }
   ],
   "source": [
    "for i in range(50,100):\n",
    "    print(summarize(text[i], words=max_))"
   ]
  },
  {
   "cell_type": "code",
   "execution_count": null,
   "id": "4dad90ed",
   "metadata": {},
   "outputs": [],
   "source": [
    "# Summa의 summarize()의 인자로 사용되는 값들에 대해서 알아볼게요.\n",
    "\n",
    "# text (str) : 요약할 테스트.\n",
    "# ratio (float, optional) – 요약문에서 원본에서 선택되는 문장 비율. 0~1 사이값\n",
    "# words (int or None, optional) – 출력에 포함할 단어 수.\n",
    "# 만약, ratio와 함께 두 파라미터가 모두 제공되는 경우 ratio는 무시한다.\n",
    "# split (bool, optional) – True면 문장 list / False는 조인(join)된 문자열을 반환\n",
    "\n",
    "# Summa의 summarize는 문장 토큰화를 별도로 하지 않더라도 내부적으로 문장 토큰화를 수행해요.\n",
    "# 그렇기 때문에 문장 구분이 되어있지 않은 원문을 바로 입력으로 넣을 수 있어요.\n",
    "# 비율을 적게 주어서 요약문으로 선택되는 문장의 개수를 줄여볼게요. 원문의 0.005%만을 출력하도록 설정했어요.\n",
    "\n",
    "print('Summary:')\n",
    "print(summarize(text, ratio=0.005)) # increase ratio"
   ]
  },
  {
   "cell_type": "code",
   "execution_count": null,
   "id": "5cb534cb",
   "metadata": {},
   "outputs": [],
   "source": [
    "# 만약 리스트로 출력 결과를 받고 싶다면 split 인자의 값을 True로 하면 돼요.\n",
    "print('Summary:')\n",
    "print(summarize(text, ratio=0.005, split=True)) # increase ratio"
   ]
  },
  {
   "cell_type": "code",
   "execution_count": null,
   "id": "05044f95",
   "metadata": {},
   "outputs": [],
   "source": [
    "# 단어의 수로 요약문의 크기를 조절할 수도 있어요. 단어를 50개만 선택하도록 해보세요.\n",
    "print('Summary:')\n",
    "print(summarize(text, words=5))"
   ]
  },
  {
   "cell_type": "markdown",
   "id": "b747d932",
   "metadata": {},
   "source": [
    "Step 2. 데이터 전처리하기 (추상적 요약)\n",
    "\n",
    "실습에서 사용된 전처리를 참고하여 각자 필요하다고 생각하는 전처리를 추가 사용하여 텍스트를 정규화 또는 정제해 보세요. 만약, 불용어 제거를 선택한다면 상대적으로 길이가 짧은 요약 데이터에 대해서도 불용어를 제거하는 것이 좋을지 고민해 보세요."
   ]
  },
  {
   "cell_type": "markdown",
   "id": "f42ed60b",
   "metadata": {},
   "source": [
    "Step 3. 어텐션 메커니즘 사용하기 (추상적 요약)\n",
    "\n",
    "일반적인 seq2seq보다는 어텐션 메커니즘을 사용한 seq2seq를 사용하는 것이 더 나은 성능을 얻을 수 있어요. 실습 내용을 참고하여 어텐션 메커니즘을 사용한 seq2seq를 설계해 보세요."
   ]
  },
  {
   "cell_type": "markdown",
   "id": "3b6a2995",
   "metadata": {},
   "source": [
    "Step 4. 실제 결과와 요약문 비교하기 (추상적 요약)\n",
    "\n",
    "원래의 요약문(headlines 열)과 학습을 통해 얻은 추상적 요약의 결과를 비교해 보세요."
   ]
  },
  {
   "cell_type": "markdown",
   "id": "3e62c537",
   "metadata": {},
   "source": [
    "Step 5. Summa을 이용해서 추출적 요약해보기\n",
    "\n",
    "추상적 요약은 추출적 요약과는 달리 문장의 표현력을 다양하게 가져갈 수 있지만, 추출적 요약에 비해서 난이도가 높아요. 반대로 말하면 추출적 요약은 추상적 요약에 비해 난이도가 낮고 기존 문장에서 문장을 꺼내오는 것이므로 잘못된 요약이 나올 가능성이 낮아요."
   ]
  },
  {
   "cell_type": "markdown",
   "id": "bca99d25",
   "metadata": {},
   "source": [
    "Summa의 summarize를 사용하여 추출적 요약을 해보세요."
   ]
  },
  {
   "cell_type": "markdown",
   "id": "fb5456d8",
   "metadata": {},
   "source": [
    "# 회고\n",
    "\n",
    "1회차\n",
    "- regex를 이용한 전처리 부분에서 너무 오랜 시간이 걸리기에 다른 방식으로 구현해 보기로 하였다.\n",
    "\n",
    "2회차\n",
    "- "
   ]
  },
  {
   "cell_type": "code",
   "execution_count": null,
   "id": "7fc7e3ab",
   "metadata": {},
   "outputs": [],
   "source": []
  }
 ],
 "metadata": {
  "kernelspec": {
   "display_name": "Python 3 (ipykernel)",
   "language": "python",
   "name": "python3"
  },
  "language_info": {
   "codemirror_mode": {
    "name": "ipython",
    "version": 3
   },
   "file_extension": ".py",
   "mimetype": "text/x-python",
   "name": "python",
   "nbconvert_exporter": "python",
   "pygments_lexer": "ipython3",
   "version": "3.9.7"
  }
 },
 "nbformat": 4,
 "nbformat_minor": 5
}
