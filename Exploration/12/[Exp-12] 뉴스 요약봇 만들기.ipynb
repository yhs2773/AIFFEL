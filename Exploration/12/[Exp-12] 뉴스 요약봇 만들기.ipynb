{
 "cells": [
  {
   "cell_type": "markdown",
   "id": "e44adc62",
   "metadata": {},
   "source": [
    "# Preprocessing"
   ]
  },
  {
   "cell_type": "code",
   "execution_count": 1,
   "id": "ab4e2658",
   "metadata": {},
   "outputs": [
    {
     "name": "stderr",
     "output_type": "stream",
     "text": [
      "[nltk_data] Downloading package stopwords to /aiffel/nltk_data...\n",
      "[nltk_data]   Unzipping corpora/stopwords.zip.\n"
     ]
    }
   ],
   "source": [
    "# NLTK, stands for Natural Language Toolkit, is a library for English punctuations, statistics, and NLP\n",
    "# NLTK contains 100 words like I, my, me, over, postposition, suffix, but not needed/necessary for abstraction\n",
    "# use NLTK to remove stopwords from dataset\n",
    "import nltk\n",
    "nltk.download('stopwords')\n",
    "import warnings\n",
    "warnings.filterwarnings(\"ignore\", category=UserWarning, module='bs4')\n",
    "import urllib.request\n",
    "import numpy as np\n",
    "import pandas as pd\n",
    "import os, re\n",
    "import matplotlib.pyplot as plt\n",
    "import requests\n",
    "import summa\n",
    "\n",
    "from summa.summarizer import summarize\n",
    "from nltk.corpus import stopwords\n",
    "from bs4 import BeautifulSoup \n",
    "from tensorflow.keras.preprocessing.text import Tokenizer \n",
    "from tensorflow.keras.preprocessing.sequence import pad_sequences\n",
    "from tensorflow.keras.layers import Input, LSTM, Embedding, Dense, Concatenate, TimeDistributed\n",
    "from tensorflow.keras.models import Model\n",
    "from tensorflow.keras.callbacks import EarlyStopping, ModelCheckpoint\n",
    "from tensorflow.keras.layers import AdditiveAttention"
   ]
  },
  {
   "cell_type": "code",
   "execution_count": 2,
   "id": "6dab5c25",
   "metadata": {},
   "outputs": [],
   "source": [
    "# load data from url\n",
    "urllib.request.urlretrieve(\"https://raw.githubusercontent.com/sunnysai12345/News_Summary/master/news_summary_more.csv\", filename=\"news_summary_more.csv\")\n",
    "data = pd.read_csv('news_summary_more.csv', encoding='iso-8859-1')"
   ]
  },
  {
   "cell_type": "code",
   "execution_count": 3,
   "id": "3feba4b0",
   "metadata": {},
   "outputs": [
    {
     "data": {
      "text/html": [
       "<div>\n",
       "<style scoped>\n",
       "    .dataframe tbody tr th:only-of-type {\n",
       "        vertical-align: middle;\n",
       "    }\n",
       "\n",
       "    .dataframe tbody tr th {\n",
       "        vertical-align: top;\n",
       "    }\n",
       "\n",
       "    .dataframe thead th {\n",
       "        text-align: right;\n",
       "    }\n",
       "</style>\n",
       "<table border=\"1\" class=\"dataframe\">\n",
       "  <thead>\n",
       "    <tr style=\"text-align: right;\">\n",
       "      <th></th>\n",
       "      <th>headlines</th>\n",
       "      <th>text</th>\n",
       "    </tr>\n",
       "  </thead>\n",
       "  <tbody>\n",
       "    <tr>\n",
       "      <th>0</th>\n",
       "      <td>upGrad learner switches to career in ML &amp; Al w...</td>\n",
       "      <td>Saurav Kant, an alumnus of upGrad and IIIT-B's...</td>\n",
       "    </tr>\n",
       "    <tr>\n",
       "      <th>1</th>\n",
       "      <td>Delhi techie wins free food from Swiggy for on...</td>\n",
       "      <td>Kunal Shah's credit card bill payment platform...</td>\n",
       "    </tr>\n",
       "    <tr>\n",
       "      <th>2</th>\n",
       "      <td>New Zealand end Rohit Sharma-led India's 12-ma...</td>\n",
       "      <td>New Zealand defeated India by 8 wickets in the...</td>\n",
       "    </tr>\n",
       "    <tr>\n",
       "      <th>3</th>\n",
       "      <td>Aegon life iTerm insurance plan helps customer...</td>\n",
       "      <td>With Aegon Life iTerm Insurance plan, customer...</td>\n",
       "    </tr>\n",
       "    <tr>\n",
       "      <th>4</th>\n",
       "      <td>Have known Hirani for yrs, what if MeToo claim...</td>\n",
       "      <td>Speaking about the sexual harassment allegatio...</td>\n",
       "    </tr>\n",
       "  </tbody>\n",
       "</table>\n",
       "</div>"
      ],
      "text/plain": [
       "                                           headlines  \\\n",
       "0  upGrad learner switches to career in ML & Al w...   \n",
       "1  Delhi techie wins free food from Swiggy for on...   \n",
       "2  New Zealand end Rohit Sharma-led India's 12-ma...   \n",
       "3  Aegon life iTerm insurance plan helps customer...   \n",
       "4  Have known Hirani for yrs, what if MeToo claim...   \n",
       "\n",
       "                                                text  \n",
       "0  Saurav Kant, an alumnus of upGrad and IIIT-B's...  \n",
       "1  Kunal Shah's credit card bill payment platform...  \n",
       "2  New Zealand defeated India by 8 wickets in the...  \n",
       "3  With Aegon Life iTerm Insurance plan, customer...  \n",
       "4  Speaking about the sexual harassment allegatio...  "
      ]
     },
     "execution_count": 3,
     "metadata": {},
     "output_type": "execute_result"
    }
   ],
   "source": [
    "data.head()\n",
    "# 이 데이터는 기사의 본문에 해당되는 text와 headlines 두 가지 열로 구성되어져 있습니다.\n",
    "\n",
    "# 추상적 요약을 하는 경우에는 text를 본문, headlines를 이미 요약된 데이터로 삼아서 모델을 학습할 수 있어요.\n",
    "# 추출적 요약을 하는 경우에는 오직 text열만을 사용하세요."
   ]
  },
  {
   "cell_type": "code",
   "execution_count": 4,
   "id": "56ada3a5",
   "metadata": {},
   "outputs": [
    {
     "data": {
      "text/html": [
       "<div>\n",
       "<style scoped>\n",
       "    .dataframe tbody tr th:only-of-type {\n",
       "        vertical-align: middle;\n",
       "    }\n",
       "\n",
       "    .dataframe tbody tr th {\n",
       "        vertical-align: top;\n",
       "    }\n",
       "\n",
       "    .dataframe thead th {\n",
       "        text-align: right;\n",
       "    }\n",
       "</style>\n",
       "<table border=\"1\" class=\"dataframe\">\n",
       "  <thead>\n",
       "    <tr style=\"text-align: right;\">\n",
       "      <th></th>\n",
       "      <th>headlines</th>\n",
       "      <th>text</th>\n",
       "    </tr>\n",
       "  </thead>\n",
       "  <tbody>\n",
       "    <tr>\n",
       "      <th>0</th>\n",
       "      <td>upGrad learner switches to career in ML &amp; Al w...</td>\n",
       "      <td>Saurav Kant, an alumnus of upGrad and IIIT-B's...</td>\n",
       "    </tr>\n",
       "    <tr>\n",
       "      <th>1</th>\n",
       "      <td>Delhi techie wins free food from Swiggy for on...</td>\n",
       "      <td>Kunal Shah's credit card bill payment platform...</td>\n",
       "    </tr>\n",
       "    <tr>\n",
       "      <th>2</th>\n",
       "      <td>New Zealand end Rohit Sharma-led India's 12-ma...</td>\n",
       "      <td>New Zealand defeated India by 8 wickets in the...</td>\n",
       "    </tr>\n",
       "    <tr>\n",
       "      <th>3</th>\n",
       "      <td>Aegon life iTerm insurance plan helps customer...</td>\n",
       "      <td>With Aegon Life iTerm Insurance plan, customer...</td>\n",
       "    </tr>\n",
       "    <tr>\n",
       "      <th>4</th>\n",
       "      <td>Have known Hirani for yrs, what if MeToo claim...</td>\n",
       "      <td>Speaking about the sexual harassment allegatio...</td>\n",
       "    </tr>\n",
       "  </tbody>\n",
       "</table>\n",
       "</div>"
      ],
      "text/plain": [
       "                                           headlines  \\\n",
       "0  upGrad learner switches to career in ML & Al w...   \n",
       "1  Delhi techie wins free food from Swiggy for on...   \n",
       "2  New Zealand end Rohit Sharma-led India's 12-ma...   \n",
       "3  Aegon life iTerm insurance plan helps customer...   \n",
       "4  Have known Hirani for yrs, what if MeToo claim...   \n",
       "\n",
       "                                                text  \n",
       "0  Saurav Kant, an alumnus of upGrad and IIIT-B's...  \n",
       "1  Kunal Shah's credit card bill payment platform...  \n",
       "2  New Zealand defeated India by 8 wickets in the...  \n",
       "3  With Aegon Life iTerm Insurance plan, customer...  \n",
       "4  Speaking about the sexual harassment allegatio...  "
      ]
     },
     "execution_count": 4,
     "metadata": {},
     "output_type": "execute_result"
    }
   ],
   "source": [
    "# slicing to use only text and summary cols\n",
    "data = data[['headlines','text']]\n",
    "data.head()"
   ]
  },
  {
   "cell_type": "code",
   "execution_count": 5,
   "id": "ef42c6df",
   "metadata": {
    "scrolled": false
   },
   "outputs": [
    {
     "data": {
      "text/html": [
       "<div>\n",
       "<style scoped>\n",
       "    .dataframe tbody tr th:only-of-type {\n",
       "        vertical-align: middle;\n",
       "    }\n",
       "\n",
       "    .dataframe tbody tr th {\n",
       "        vertical-align: top;\n",
       "    }\n",
       "\n",
       "    .dataframe thead th {\n",
       "        text-align: right;\n",
       "    }\n",
       "</style>\n",
       "<table border=\"1\" class=\"dataframe\">\n",
       "  <thead>\n",
       "    <tr style=\"text-align: right;\">\n",
       "      <th></th>\n",
       "      <th>headlines</th>\n",
       "      <th>text</th>\n",
       "    </tr>\n",
       "  </thead>\n",
       "  <tbody>\n",
       "    <tr>\n",
       "      <th>31103</th>\n",
       "      <td>Deadpool actor goes on South Korean show disgu...</td>\n",
       "      <td>Actor Ryan Reynolds, who portrays the superher...</td>\n",
       "    </tr>\n",
       "    <tr>\n",
       "      <th>82014</th>\n",
       "      <td>Lalu Yadav is Bihar's Robert Vadra: BJP's Sush...</td>\n",
       "      <td>BJP leader Sushil Modi on Wednesday called RJD...</td>\n",
       "    </tr>\n",
       "    <tr>\n",
       "      <th>56971</th>\n",
       "      <td>Ready to support Pakistan in eliminating terro...</td>\n",
       "      <td>Russian Foreign Minister Sergey Lavrov on Mond...</td>\n",
       "    </tr>\n",
       "    <tr>\n",
       "      <th>73529</th>\n",
       "      <td>Smartphone maker HTC considers selling itself:...</td>\n",
       "      <td>Taiwanese smartphone manufacturer HTC has repo...</td>\n",
       "    </tr>\n",
       "    <tr>\n",
       "      <th>75569</th>\n",
       "      <td>Will try utmost to strike a fine balance: Cens...</td>\n",
       "      <td>Newly inducted Censor Board chief Prasoon Josh...</td>\n",
       "    </tr>\n",
       "    <tr>\n",
       "      <th>16443</th>\n",
       "      <td>30-week pregnant woman allowed abortion over f...</td>\n",
       "      <td>Bombay High Court has allowed a woman, who is ...</td>\n",
       "    </tr>\n",
       "    <tr>\n",
       "      <th>59585</th>\n",
       "      <td>FSSAI to curb misleading ads claiming food ite...</td>\n",
       "      <td>The Food Safety and Standards Authority of Ind...</td>\n",
       "    </tr>\n",
       "    <tr>\n",
       "      <th>12899</th>\n",
       "      <td>Punjab to give Ã¢ÂÂ¹5L to family of each dead...</td>\n",
       "      <td>Punjab CM Captain Amarinder Singh has announce...</td>\n",
       "    </tr>\n",
       "    <tr>\n",
       "      <th>41740</th>\n",
       "      <td>Being successful is a double-edged sword: Varu...</td>\n",
       "      <td>Actor Varun Dhawan has said being successful i...</td>\n",
       "    </tr>\n",
       "    <tr>\n",
       "      <th>4028</th>\n",
       "      <td>Full marks to Bharat Arun: Shastri praises bow...</td>\n",
       "      <td>Praising the Indian cricket team's bowling coa...</td>\n",
       "    </tr>\n",
       "    <tr>\n",
       "      <th>1869</th>\n",
       "      <td>Australian bowler took hat-trick in his 3rd OD...</td>\n",
       "      <td>Australia's Anthony Stuart took a hat-trick in...</td>\n",
       "    </tr>\n",
       "    <tr>\n",
       "      <th>65725</th>\n",
       "      <td>Kejriwal's stolen blue WagonR recovered with s...</td>\n",
       "      <td>Delhi CM Arvind Kejriwal's blue WagonR that wa...</td>\n",
       "    </tr>\n",
       "    <tr>\n",
       "      <th>25288</th>\n",
       "      <td>I'm shocked: Bhatt on Mallika being fired for ...</td>\n",
       "      <td>Reacting to Mallika Sherawat's revelation that...</td>\n",
       "    </tr>\n",
       "    <tr>\n",
       "      <th>11467</th>\n",
       "      <td>Qatar Airways plane hits water tanker in Kolka...</td>\n",
       "      <td>A Qatar Airways flight with 103 passengers onb...</td>\n",
       "    </tr>\n",
       "    <tr>\n",
       "      <th>30454</th>\n",
       "      <td>Apple pays Ireland $1.76 billion in first back...</td>\n",
       "      <td>Technology giant Apple has paid $1.76 billion ...</td>\n",
       "    </tr>\n",
       "  </tbody>\n",
       "</table>\n",
       "</div>"
      ],
      "text/plain": [
       "                                               headlines  \\\n",
       "31103  Deadpool actor goes on South Korean show disgu...   \n",
       "82014  Lalu Yadav is Bihar's Robert Vadra: BJP's Sush...   \n",
       "56971  Ready to support Pakistan in eliminating terro...   \n",
       "73529  Smartphone maker HTC considers selling itself:...   \n",
       "75569  Will try utmost to strike a fine balance: Cens...   \n",
       "16443  30-week pregnant woman allowed abortion over f...   \n",
       "59585  FSSAI to curb misleading ads claiming food ite...   \n",
       "12899  Punjab to give Ã¢ÂÂ¹5L to family of each dead...   \n",
       "41740  Being successful is a double-edged sword: Varu...   \n",
       "4028   Full marks to Bharat Arun: Shastri praises bow...   \n",
       "1869   Australian bowler took hat-trick in his 3rd OD...   \n",
       "65725  Kejriwal's stolen blue WagonR recovered with s...   \n",
       "25288  I'm shocked: Bhatt on Mallika being fired for ...   \n",
       "11467  Qatar Airways plane hits water tanker in Kolka...   \n",
       "30454  Apple pays Ireland $1.76 billion in first back...   \n",
       "\n",
       "                                                    text  \n",
       "31103  Actor Ryan Reynolds, who portrays the superher...  \n",
       "82014  BJP leader Sushil Modi on Wednesday called RJD...  \n",
       "56971  Russian Foreign Minister Sergey Lavrov on Mond...  \n",
       "73529  Taiwanese smartphone manufacturer HTC has repo...  \n",
       "75569  Newly inducted Censor Board chief Prasoon Josh...  \n",
       "16443  Bombay High Court has allowed a woman, who is ...  \n",
       "59585  The Food Safety and Standards Authority of Ind...  \n",
       "12899  Punjab CM Captain Amarinder Singh has announce...  \n",
       "41740  Actor Varun Dhawan has said being successful i...  \n",
       "4028   Praising the Indian cricket team's bowling coa...  \n",
       "1869   Australia's Anthony Stuart took a hat-trick in...  \n",
       "65725  Delhi CM Arvind Kejriwal's blue WagonR that wa...  \n",
       "25288  Reacting to Mallika Sherawat's revelation that...  \n",
       "11467  A Qatar Airways flight with 103 passengers onb...  \n",
       "30454  Technology giant Apple has paid $1.76 billion ...  "
      ]
     },
     "execution_count": 5,
     "metadata": {},
     "output_type": "execute_result"
    }
   ],
   "source": [
    "# print 15 random samples\n",
    "data.sample(15)"
   ]
  },
  {
   "cell_type": "code",
   "execution_count": 6,
   "id": "4014661c",
   "metadata": {},
   "outputs": [
    {
     "name": "stdout",
     "output_type": "stream",
     "text": [
      "Text 열에서 중복을 배제한 유일한 샘플의 수 : 98360\n",
      "Headlines 열에서 중복을 배제한 유일한 샘플의 수 : 98280\n"
     ]
    }
   ],
   "source": [
    "# pandas.DataFrame.nunique: count num of unique elements\n",
    "# checking for duplicates\n",
    "print('Text 열에서 중복을 배제한 유일한 샘플의 수 :', data['text'].nunique())\n",
    "print('Headlines 열에서 중복을 배제한 유일한 샘플의 수 :', data['headlines'].nunique())"
   ]
  },
  {
   "cell_type": "code",
   "execution_count": 7,
   "id": "85fb871c",
   "metadata": {
    "scrolled": false
   },
   "outputs": [
    {
     "name": "stdout",
     "output_type": "stream",
     "text": [
      "전체 샘플수 : 98360\n"
     ]
    }
   ],
   "source": [
    "# use drop_duplicates to remove any duplicates\n",
    "data.drop_duplicates(subset = ['text'], inplace=True)\n",
    "print('전체 샘플수 :', (len(data)))"
   ]
  },
  {
   "cell_type": "code",
   "execution_count": 8,
   "id": "bd192730",
   "metadata": {},
   "outputs": [
    {
     "name": "stdout",
     "output_type": "stream",
     "text": [
      "headlines    0\n",
      "text         0\n",
      "dtype: int64\n"
     ]
    }
   ],
   "source": [
    "# check for any null vals\n",
    "print(data.isnull().sum())"
   ]
  },
  {
   "cell_type": "code",
   "execution_count": 9,
   "id": "992eba94",
   "metadata": {},
   "outputs": [
    {
     "name": "stdout",
     "output_type": "stream",
     "text": [
      "전체 샘플수 : 98360\n"
     ]
    }
   ],
   "source": [
    "# dropna to remove any null vals rows\n",
    "data.dropna(axis=0, inplace=True)\n",
    "print('전체 샘플수 :', (len(data)))"
   ]
  },
  {
   "cell_type": "code",
   "execution_count": 10,
   "id": "d4800a0a",
   "metadata": {},
   "outputs": [
    {
     "name": "stdout",
     "output_type": "stream",
     "text": [
      "정규화 사전의 수:  120\n"
     ]
    }
   ],
   "source": [
    "# dictionary for text normalization\n",
    "# text normalization: process of transforming text into a single canonical form that it might not have had before\n",
    "# canonical form: standard way of presenting that object as a mathematical expression\n",
    "# mathematical expression: finite combination of symbols that is well-formed according to rules that depend on the context\n",
    "# contraction: words or combinations of words that are shortened by dropping letters and\n",
    "# replacing them by an apostrophe, and removing them contributes to text standardization\n",
    "contractions = {\"ain't\": \"is not\", \"aren't\": \"are not\",\"can't\": \"cannot\", \"'cause\": \"because\", \"could've\": \"could have\", \"couldn't\": \"could not\",\n",
    "               \"didn't\": \"did not\",  \"doesn't\": \"does not\", \"don't\": \"do not\", \"hadn't\": \"had not\", \"hasn't\": \"has not\", \"haven't\": \"have not\",\n",
    "               \"he'd\": \"he would\",\"he'll\": \"he will\", \"he's\": \"he is\", \"how'd\": \"how did\", \"how'd'y\": \"how do you\", \"how'll\": \"how will\", \"how's\": \"how is\",\n",
    "               \"I'd\": \"I would\", \"I'd've\": \"I would have\", \"I'll\": \"I will\", \"I'll've\": \"I will have\",\"I'm\": \"I am\", \"I've\": \"I have\", \"i'd\": \"i would\",\n",
    "               \"i'd've\": \"i would have\", \"i'll\": \"i will\",  \"i'll've\": \"i will have\",\"i'm\": \"i am\", \"i've\": \"i have\", \"isn't\": \"is not\", \"it'd\": \"it would\",\n",
    "               \"it'd've\": \"it would have\", \"it'll\": \"it will\", \"it'll've\": \"it will have\",\"it's\": \"it is\", \"let's\": \"let us\", \"ma'am\": \"madam\",\n",
    "               \"mayn't\": \"may not\", \"might've\": \"might have\",\"mightn't\": \"might not\",\"mightn't've\": \"might not have\", \"must've\": \"must have\",\n",
    "               \"mustn't\": \"must not\", \"mustn't've\": \"must not have\", \"needn't\": \"need not\", \"needn't've\": \"need not have\",\"o'clock\": \"of the clock\",\n",
    "               \"oughtn't\": \"ought not\", \"oughtn't've\": \"ought not have\", \"shan't\": \"shall not\", \"sha'n't\": \"shall not\", \"shan't've\": \"shall not have\",\n",
    "               \"she'd\": \"she would\", \"she'd've\": \"she would have\", \"she'll\": \"she will\", \"she'll've\": \"she will have\", \"she's\": \"she is\",\n",
    "               \"should've\": \"should have\", \"shouldn't\": \"should not\", \"shouldn't've\": \"should not have\", \"so've\": \"so have\",\"so's\": \"so as\",\n",
    "               \"this's\": \"this is\",\"that'd\": \"that would\", \"that'd've\": \"that would have\", \"that's\": \"that is\", \"there'd\": \"there would\",\n",
    "               \"there'd've\": \"there would have\", \"there's\": \"there is\", \"here's\": \"here is\",\"they'd\": \"they would\", \"they'd've\": \"they would have\",\n",
    "               \"they'll\": \"they will\", \"they'll've\": \"they will have\", \"they're\": \"they are\", \"they've\": \"they have\", \"to've\": \"to have\",\n",
    "               \"wasn't\": \"was not\", \"we'd\": \"we would\", \"we'd've\": \"we would have\", \"we'll\": \"we will\", \"we'll've\": \"we will have\", \"we're\": \"we are\",\n",
    "               \"we've\": \"we have\", \"weren't\": \"were not\", \"what'll\": \"what will\", \"what'll've\": \"what will have\", \"what're\": \"what are\",\n",
    "               \"what's\": \"what is\", \"what've\": \"what have\", \"when's\": \"when is\", \"when've\": \"when have\", \"where'd\": \"where did\", \"where's\": \"where is\",\n",
    "               \"where've\": \"where have\", \"who'll\": \"who will\", \"who'll've\": \"who will have\", \"who's\": \"who is\", \"who've\": \"who have\",\n",
    "               \"why's\": \"why is\", \"why've\": \"why have\", \"will've\": \"will have\", \"won't\": \"will not\", \"won't've\": \"will not have\",\n",
    "               \"would've\": \"would have\", \"wouldn't\": \"would not\", \"wouldn't've\": \"would not have\", \"y'all\": \"you all\",\n",
    "               \"y'all'd\": \"you all would\",\"y'all'd've\": \"you all would have\",\"y'all're\": \"you all are\",\"y'all've\": \"you all have\",\n",
    "               \"you'd\": \"you would\", \"you'd've\": \"you would have\", \"you'll\": \"you will\", \"you'll've\": \"you will have\",\n",
    "               \"you're\": \"you are\", \"you've\": \"you have\"}\n",
    "\n",
    "print(\"정규화 사전의 수: \", len(contractions))"
   ]
  },
  {
   "cell_type": "code",
   "execution_count": 11,
   "id": "f79efe77",
   "metadata": {},
   "outputs": [
    {
     "name": "stdout",
     "output_type": "stream",
     "text": [
      "불용어 개수 : 179\n",
      "['i', 'me', 'my', 'myself', 'we', 'our', 'ours', 'ourselves', 'you', \"you're\", \"you've\", \"you'll\", \"you'd\", 'your', 'yours', 'yourself', 'yourselves', 'he', 'him', 'his', 'himself', 'she', \"she's\", 'her', 'hers', 'herself', 'it', \"it's\", 'its', 'itself', 'they', 'them', 'their', 'theirs', 'themselves', 'what', 'which', 'who', 'whom', 'this', 'that', \"that'll\", 'these', 'those', 'am', 'is', 'are', 'was', 'were', 'be', 'been', 'being', 'have', 'has', 'had', 'having', 'do', 'does', 'did', 'doing', 'a', 'an', 'the', 'and', 'but', 'if', 'or', 'because', 'as', 'until', 'while', 'of', 'at', 'by', 'for', 'with', 'about', 'against', 'between', 'into', 'through', 'during', 'before', 'after', 'above', 'below', 'to', 'from', 'up', 'down', 'in', 'out', 'on', 'off', 'over', 'under', 'again', 'further', 'then', 'once', 'here', 'there', 'when', 'where', 'why', 'how', 'all', 'any', 'both', 'each', 'few', 'more', 'most', 'other', 'some', 'such', 'no', 'nor', 'not', 'only', 'own', 'same', 'so', 'than', 'too', 'very', 's', 't', 'can', 'will', 'just', 'don', \"don't\", 'should', \"should've\", 'now', 'd', 'll', 'm', 'o', 're', 've', 'y', 'ain', 'aren', \"aren't\", 'couldn', \"couldn't\", 'didn', \"didn't\", 'doesn', \"doesn't\", 'hadn', \"hadn't\", 'hasn', \"hasn't\", 'haven', \"haven't\", 'isn', \"isn't\", 'ma', 'mightn', \"mightn't\", 'mustn', \"mustn't\", 'needn', \"needn't\", 'shan', \"shan't\", 'shouldn', \"shouldn't\", 'wasn', \"wasn't\", 'weren', \"weren't\", 'won', \"won't\", 'wouldn', \"wouldn't\"]\n"
     ]
    }
   ],
   "source": [
    "# 일반적으로 텍스트에는 자주 등장하지만 자연어 처리를 할 때 실질적으로 별 도움이 되지 않는 단어들이 존재해요.\n",
    "# 이를 불용어(stopwords)라고 불러요. 때로는 불용어를 제거하는 것이 자연어 처리의 성능을 높이는 방법일 수 있어요.\n",
    "# 여기서는 NLTK에서 제공하는 불용어 리스트를 참조해, 샘플에서 불용어를 제거할 거예요.\n",
    "print('불용어 개수 :', len(stopwords.words('english') ))\n",
    "print(stopwords.words('english'))"
   ]
  },
  {
   "cell_type": "code",
   "execution_count": 12,
   "id": "9c5e2f4f",
   "metadata": {},
   "outputs": [],
   "source": [
    "# 모든 영어 문자는 소문자로 만들고, 섞여있는 html 태그를 제거하고,\n",
    "# 정규 표현식을 통해 각종 특수문자를 제거해서 정말 필요한 내용만 잘 학습할 수 있도록 처리할 거예요.\n",
    "\n",
    "# 함수의 하단을 보면, NLTK를 이용해 불용어를 제거하는 파트가 있는데,\n",
    "# 이는 Text 전처리 시에서만 호출하고 이미 상대적으로 문장 길이가 짧은 Summary 전처리할 때는 호출하지 않을 예정이에요.\n",
    "# Abstractive한 문장 요약 결과문이 자연스러운 문장이 되려면 이 불용어들이 Summary에는 남아 있는 게 더 좋을 것 같습니다.\n",
    "# 이 처리를 위해서 함수의 인자로 remove_stopwords를 추가하고, if문을 추가했어요.\n",
    "# 데이터 전처리 함수\n",
    "def preprocess_sentence(sentence, remove_stopwords=True):\n",
    "    sentence = sentence.lower() # 텍스트 소문자화\n",
    "    sentence = BeautifulSoup(sentence, \"lxml\").text # <br />, <a href = ...> 등의 html 태그 제거\n",
    "    sentence = re.sub(r'\\([^)]*\\)', '', sentence) # 괄호로 닫힌 문자열 (...) 제거 Ex) my husband (and myself!) for => my husband for\n",
    "    sentence = re.sub('\"','', sentence) # 쌍따옴표 \" 제거\n",
    "    sentence = ' '.join([contractions[t] if t in contractions else t for t in sentence.split(\" \")]) # 약어 정규화\n",
    "    sentence = re.sub(r\"'s\\b\",\"\", sentence) # 소유격 제거. Ex) roland's -> roland\n",
    "    sentence = re.sub(\"[^a-zA-Z]\", \" \", sentence) # 영어 외 문자(숫자, 특수문자 등) 공백으로 변환\n",
    "    sentence = re.sub('[m]{2,}', 'mm', sentence) # m이 3개 이상이면 2개로 변경. Ex) ummmmmmm yeah -> umm yeah\n",
    "    \n",
    "    # 불용어 제거 (Text)\n",
    "    if remove_stopwords:\n",
    "        tokens = ' '.join(word for word in sentence.split() if not word in stopwords.words('english') if len(word) > 1)\n",
    "    # 불용어 미제거 (Summary)\n",
    "    else:\n",
    "        tokens = ' '.join(word for word in sentence.split() if len(word) > 1)\n",
    "    return tokens"
   ]
  },
  {
   "cell_type": "code",
   "execution_count": 13,
   "id": "c90f4240",
   "metadata": {},
   "outputs": [
    {
     "name": "stdout",
     "output_type": "stream",
     "text": [
      "text:  everything bought great infact ordered twice third ordered wasfor mother father\n",
      "summary: great way to start the day\n"
     ]
    }
   ],
   "source": [
    "# 전처리 전, 후의 결과를 확인하기 위해서 임의의 text와 summary를 만들어 함수를 호출해 볼까요.\n",
    "temp_text = 'Everything I bought was great, infact I ordered twice and the third ordered was<br />for my mother and father.'\n",
    "temp_headlines = 'Great way to start (or finish) the day!!!'\n",
    "\n",
    "print(\"text: \", preprocess_sentence(temp_text))\n",
    "print(\"summary:\", preprocess_sentence(temp_headlines, False))  # 불용어를 제거하지 않습니다."
   ]
  },
  {
   "cell_type": "code",
   "execution_count": 14,
   "id": "be19dfee",
   "metadata": {},
   "outputs": [
    {
     "name": "stdout",
     "output_type": "stream",
     "text": [
      "Text 전처리 후 결과:  ['saurav kant alumnus upgrad iiit pg program machine learning artificial intelligence sr systems engineer infosys almost years work experience program upgrad degree career support helped transition data scientist tech mahindra salary hike upgrad online power learning powered lakh careers', 'kunal shah credit card bill payment platform cred gave users chance win free food swiggy one year pranav kaushik delhi techie bagged reward spending cred coins users get one cred coin per rupee bill paid used avail rewards brands like ixigo bookmyshow ubereats cult fit', 'new zealand defeated india wickets fourth odi hamilton thursday win first match five match odi series india lost international match rohit sharma captaincy consecutive victories dating back march match witnessed india getting seventh lowest total odi cricket history', 'aegon life iterm insurance plan customers enjoy tax benefits premiums paid save taxes plan provides life cover age years also customers options insure critical illnesses disability accidental death benefit rider life cover age years', 'speaking sexual harassment allegations rajkumar hirani sonam kapoor said known hirani many years true metoo movement get derailed metoo movement always believe woman case need reserve judgment added hirani accused assistant worked sanju']\n"
     ]
    }
   ],
   "source": [
    "# 결과를 보면 기본적으로 모든 알파벳이 소문자로 변환되고, <br />과 같은 html 태그가 제거되었죠.\n",
    "# (or finish)와 같은 괄호로 묶였던 단어 시퀀스가 제거된 것도 확인할 수 있어요. 또한 특수문자가 제거되면서 영어만 남았어요.\n",
    "\n",
    "# 이제 함수가 잘 작동하는 것을 확인했으니, 훈련 데이터 전체에 대해서 전처리를 수행해볼게요.\n",
    "# 이때, Text의 경우에는 불용어를 제거하고, Summary의 경우에는 불용어를 제거하지 않을 것이므로 따로 호출해서 진행해야 해요.\n",
    "# 먼저 Text를 전처리하고, 결과를 확인하기 위해서 상위 5개의 줄을 출력해볼게요.\n",
    "clean_text = []\n",
    "# 전체 Text 데이터에 대한 전처리 : 10분 이상 시간이 걸릴 수 있습니다. \n",
    "for s in data['text']:\n",
    "    clean_text.append(preprocess_sentence(s))\n",
    "\n",
    "# 전처리 후 출력\n",
    "print(\"Text 전처리 후 결과: \", clean_text[:5])"
   ]
  },
  {
   "cell_type": "code",
   "execution_count": 15,
   "id": "4ab20ab4",
   "metadata": {},
   "outputs": [
    {
     "name": "stdout",
     "output_type": "stream",
     "text": [
      "Headlines 전처리 후 결과:  ['upgrad learner switches to career in ml al with salary hike', 'delhi techie wins free food from swiggy for one year on cred', 'new zealand end rohit sharma led india match winning streak', 'aegon life iterm insurance plan helps customers save tax', 'have known hirani for yrs what if metoo claims are not true sonam']\n"
     ]
    }
   ],
   "source": [
    "# 이제 Summary에 대해서 전처리 함수를 호출해 줄 때는, 불용어 제거를 수행하지 않는다는 의미에서 두 번째 인자로 False를 넣어줄게요.\n",
    "clean_headlines = []\n",
    "# 전체 Summary 데이터에 대한 전처리 : 5분 이상 시간이 걸릴 수 있습니다. \n",
    "for s in data['headlines']:\n",
    "    clean_headlines.append(preprocess_sentence(s, False))\n",
    "\n",
    "print(\"Headlines 전처리 후 결과: \", clean_headlines[:5])"
   ]
  },
  {
   "cell_type": "code",
   "execution_count": 16,
   "id": "09aeaf14",
   "metadata": {},
   "outputs": [],
   "source": [
    "# 이렇게 텍스트 정제의 과정을 거친 후에는 다시 한번 빈(empty) 샘플이 생겼는지 확인해보는 것이 좋아요.\n",
    "# 정제 전에는 데이터가 존재했지만, 정제 과정에서 문장의 모든 단어가 사라지는 경우가 있을 수 있어요.\n",
    "# 이렇게 되면 샘플 자체가 빈 값을 가지게 되겠죠.\n",
    "\n",
    "# 보다 쉽게 확인하기 위해 데이터들을 데이터프레임에 재저장할게요.\n",
    "# 빈(empty) 값을 가진 샘플들이 있다면, 모두 Null 값을 가진 샘플로 대체해요.\n",
    "\n",
    "data['text'] = clean_text\n",
    "data['headlines'] = clean_headlines\n",
    "\n",
    "# 빈 값을 Null 값으로 변환\n",
    "data.replace('', np.nan, inplace=True)"
   ]
  },
  {
   "cell_type": "code",
   "execution_count": 17,
   "id": "1e61ac5e",
   "metadata": {},
   "outputs": [
    {
     "data": {
      "text/plain": [
       "headlines    0\n",
       "text         0\n",
       "dtype: int64"
      ]
     },
     "execution_count": 17,
     "metadata": {},
     "output_type": "execute_result"
    }
   ],
   "source": [
    "# 이전과 같이 .isnull().sum()을 사용해서 Null 값이 생겼는지 해볼게요.\n",
    "data.isnull().sum()"
   ]
  },
  {
   "cell_type": "code",
   "execution_count": 18,
   "id": "617a12d9",
   "metadata": {},
   "outputs": [
    {
     "name": "stdout",
     "output_type": "stream",
     "text": [
      "전체 샘플수 : 98360\n"
     ]
    }
   ],
   "source": [
    "# Summary 열에서 70개의 Null 값이 생겼네요.\n",
    "# 원래는 단어가 있었는데, 정제 과정에서 모든 단어가 제거되어 빈 샘플이 70개나 생겼다는 의미예요. 이 샘플들은 모두 제거해줄게요.\n",
    "\n",
    "data.dropna(axis=0, inplace=True)\n",
    "print('전체 샘플수 :', (len(data)))"
   ]
  },
  {
   "cell_type": "code",
   "execution_count": 19,
   "id": "f14837e3",
   "metadata": {},
   "outputs": [
    {
     "name": "stdout",
     "output_type": "stream",
     "text": [
      "텍스트의 최소 길이 : 1\n",
      "텍스트의 최대 길이 : 60\n",
      "텍스트의 평균 길이 : 35.09968483123221\n",
      "요약의 최소 길이 : 1\n",
      "요약의 최대 길이 : 16\n",
      "요약의 평균 길이 : 9.299532330215534\n"
     ]
    },
    {
     "data": {
      "image/png": "[encoded data removed]",
      "text/plain": [
       "<Figure size 432x288 with 2 Axes>"
      ]
     },
     "metadata": {
      "needs_background": "light"
     },
     "output_type": "display_data"
    },
    {
     "data": {
      "image/png": "[encoded data removed]",
      "text/plain": [
       "<Figure size 432x288 with 1 Axes>"
      ]
     },
     "metadata": {
      "needs_background": "light"
     },
     "output_type": "display_data"
    },
    {
     "data": {
      "image/png": "[encoded data removed]",
      "text/plain": [
       "<Figure size 432x288 with 1 Axes>"
      ]
     },
     "metadata": {
      "needs_background": "light"
     },
     "output_type": "display_data"
    }
   ],
   "source": [
    "# 필요 없는 단어를 모두 솎아낸 데이터를 가지게 되었으니, 이제 훈련에 사용할 샘플의 최대 길이를 정해줄 차례에요.\n",
    "\n",
    "# Text와 Headlines의 최소, 최대, 평균 길이를 구하고 또한 길이 분포를 시각화해서 볼게요.\n",
    "# 길이 분포 출력\n",
    "import matplotlib.pyplot as plt\n",
    "\n",
    "text_len = [len(s.split()) for s in data['text']]\n",
    "headlines_len = [len(s.split()) for s in data['headlines']]\n",
    "\n",
    "print('텍스트의 최소 길이 : {}'.format(np.min(text_len)))\n",
    "print('텍스트의 최대 길이 : {}'.format(np.max(text_len)))\n",
    "print('텍스트의 평균 길이 : {}'.format(np.mean(text_len)))\n",
    "print('요약의 최소 길이 : {}'.format(np.min(headlines_len)))\n",
    "print('요약의 최대 길이 : {}'.format(np.max(headlines_len)))\n",
    "print('요약의 평균 길이 : {}'.format(np.mean(headlines_len)))\n",
    "\n",
    "plt.subplot(1,2,1)\n",
    "plt.boxplot(text_len)\n",
    "plt.title('Text')\n",
    "plt.subplot(1,2,2)\n",
    "plt.boxplot(headlines_len)\n",
    "plt.title('Headlines')\n",
    "plt.tight_layout()\n",
    "plt.show()\n",
    "\n",
    "plt.title('Text')\n",
    "plt.hist(text_len, bins = 40)\n",
    "plt.xlabel('length of samples')\n",
    "plt.ylabel('number of samples')\n",
    "plt.show()\n",
    "\n",
    "plt.title('Headlines')\n",
    "plt.hist(headlines_len, bins = 40)\n",
    "plt.xlabel('length of samples')\n",
    "plt.ylabel('number of samples')\n",
    "plt.show()"
   ]
  },
  {
   "cell_type": "code",
   "execution_count": 20,
   "id": "4a53e7c0",
   "metadata": {},
   "outputs": [],
   "source": [
    "# 이로부터 Text의 최대 길이와 Summary의 적절한 최대 길이를 임의로 정해볼게요.\n",
    "text_max_len = 50\n",
    "headlines_max_len = 8"
   ]
  },
  {
   "cell_type": "code",
   "execution_count": 21,
   "id": "bc9a9bef",
   "metadata": {},
   "outputs": [],
   "source": [
    "# 각각 50과 8로 정했는데 이 길이를 선택했을 때,\n",
    "# 얼마나 많은 샘플들을 자르지 않고 포함할 수 있는지 통계로 확인하는 편이 객관적으로 길이를 결정하는 데 도움이 될거예요.\n",
    "# 훈련 데이터와 샘플의 길이를 입력하면, 데이터의 몇 %가 해당하는지 계산하는 함수를 만들어서 좀 더 정확하게 판단해볼게요.\n",
    "def below_threshold_len(max_len, nested_list):\n",
    "    cnt = 0\n",
    "    for s in nested_list:\n",
    "        if(len(s.split()) <= max_len):\n",
    "            cnt = cnt + 1\n",
    "    print('전체 샘플 중 길이가 %s 이하인 샘플의 비율: %s'%(max_len, (cnt / len(nested_list))))"
   ]
  },
  {
   "cell_type": "code",
   "execution_count": 22,
   "id": "90fe979f",
   "metadata": {},
   "outputs": [
    {
     "name": "stdout",
     "output_type": "stream",
     "text": [
      "전체 샘플 중 길이가 50 이하인 샘플의 비율: 0.9998576657177715\n",
      "전체 샘플 중 길이가 8 이하인 샘플의 비율: 0.2755693371289142\n"
     ]
    }
   ],
   "source": [
    "# 이렇게 만든 함수를 Text와 Summary에 적용해 우리가 결정한 임의의 길이가 몇%의 샘플까지 포함하는지 볼 수 있겠죠.\n",
    "below_threshold_len(text_max_len, data['text'])\n",
    "below_threshold_len(headlines_max_len,  data['headlines'])"
   ]
  },
  {
   "cell_type": "code",
   "execution_count": 23,
   "id": "b9b0bc27",
   "metadata": {},
   "outputs": [
    {
     "name": "stdout",
     "output_type": "stream",
     "text": [
      "전체 샘플수 : 27105\n"
     ]
    }
   ],
   "source": [
    "# 각각 50과 8로 패딩을 하게 되면 해당 길이보다 긴 샘플들은 내용이 잘리게 되는데,\n",
    "# Text 열의 경우에는 약 23%의 샘플들이 내용이 망가지게 된다고 하네요.\n",
    "\n",
    "# 우리는 정해진 길이에 맞춰 자르는 것이 아니라, 정해진 길이보다 길면 제외하는 방법으로 데이터를 정제할게요.\n",
    "data = data[data['text'].apply(lambda x: len(x.split()) <= text_max_len)]\n",
    "data = data[data['headlines'].apply(lambda x: len(x.split()) <= headlines_max_len)]\n",
    "print('전체 샘플수 :', (len(data)))"
   ]
  },
  {
   "cell_type": "code",
   "execution_count": 24,
   "id": "0ba71781",
   "metadata": {},
   "outputs": [
    {
     "data": {
      "text/html": [
       "<div>\n",
       "<style scoped>\n",
       "    .dataframe tbody tr th:only-of-type {\n",
       "        vertical-align: middle;\n",
       "    }\n",
       "\n",
       "    .dataframe tbody tr th {\n",
       "        vertical-align: top;\n",
       "    }\n",
       "\n",
       "    .dataframe thead th {\n",
       "        text-align: right;\n",
       "    }\n",
       "</style>\n",
       "<table border=\"1\" class=\"dataframe\">\n",
       "  <thead>\n",
       "    <tr style=\"text-align: right;\">\n",
       "      <th></th>\n",
       "      <th>headlines</th>\n",
       "      <th>text</th>\n",
       "      <th>decoder_input</th>\n",
       "      <th>decoder_target</th>\n",
       "    </tr>\n",
       "  </thead>\n",
       "  <tbody>\n",
       "    <tr>\n",
       "      <th>19</th>\n",
       "      <td>odisha cm patnaik controls mining mafia union ...</td>\n",
       "      <td>union minister dharmendra pradhan wednesday cl...</td>\n",
       "      <td>sostoken odisha cm patnaik controls mining maf...</td>\n",
       "      <td>odisha cm patnaik controls mining mafia union ...</td>\n",
       "    </tr>\n",
       "    <tr>\n",
       "      <th>21</th>\n",
       "      <td>isro unveils bengaluru centre for manned space...</td>\n",
       "      <td>indian space research organisation wednesday u...</td>\n",
       "      <td>sostoken isro unveils bengaluru centre for man...</td>\n",
       "      <td>isro unveils bengaluru centre for manned space...</td>\n",
       "    </tr>\n",
       "    <tr>\n",
       "      <th>22</th>\n",
       "      <td>killed injured in saudi arabia floods</td>\n",
       "      <td>least people killed others injured saudi arabi...</td>\n",
       "      <td>sostoken killed injured in saudi arabia floods</td>\n",
       "      <td>killed injured in saudi arabia floods eostoken</td>\n",
       "    </tr>\n",
       "    <tr>\n",
       "      <th>29</th>\n",
       "      <td>seat cushions from missing plane carrying foot...</td>\n",
       "      <td>investigators searching lost plane carrying ar...</td>\n",
       "      <td>sostoken seat cushions from missing plane carr...</td>\n",
       "      <td>seat cushions from missing plane carrying foot...</td>\n",
       "    </tr>\n",
       "    <tr>\n",
       "      <th>36</th>\n",
       "      <td>agustawestland scam accused rajiv saxena extra...</td>\n",
       "      <td>agustawestland chopper scam co accused rajiv s...</td>\n",
       "      <td>sostoken agustawestland scam accused rajiv sax...</td>\n",
       "      <td>agustawestland scam accused rajiv saxena extra...</td>\n",
       "    </tr>\n",
       "  </tbody>\n",
       "</table>\n",
       "</div>"
      ],
      "text/plain": [
       "                                            headlines  \\\n",
       "19  odisha cm patnaik controls mining mafia union ...   \n",
       "21  isro unveils bengaluru centre for manned space...   \n",
       "22              killed injured in saudi arabia floods   \n",
       "29  seat cushions from missing plane carrying foot...   \n",
       "36  agustawestland scam accused rajiv saxena extra...   \n",
       "\n",
       "                                                 text  \\\n",
       "19  union minister dharmendra pradhan wednesday cl...   \n",
       "21  indian space research organisation wednesday u...   \n",
       "22  least people killed others injured saudi arabi...   \n",
       "29  investigators searching lost plane carrying ar...   \n",
       "36  agustawestland chopper scam co accused rajiv s...   \n",
       "\n",
       "                                        decoder_input  \\\n",
       "19  sostoken odisha cm patnaik controls mining maf...   \n",
       "21  sostoken isro unveils bengaluru centre for man...   \n",
       "22     sostoken killed injured in saudi arabia floods   \n",
       "29  sostoken seat cushions from missing plane carr...   \n",
       "36  sostoken agustawestland scam accused rajiv sax...   \n",
       "\n",
       "                                       decoder_target  \n",
       "19  odisha cm patnaik controls mining mafia union ...  \n",
       "21  isro unveils bengaluru centre for manned space...  \n",
       "22     killed injured in saudi arabia floods eostoken  \n",
       "29  seat cushions from missing plane carrying foot...  \n",
       "36  agustawestland scam accused rajiv saxena extra...  "
      ]
     },
     "execution_count": 24,
     "metadata": {},
     "output_type": "execute_result"
    }
   ],
   "source": [
    "# seq2seq 훈련을 위해서는 디코더의 입력과 레이블에 시작 토큰과 종료 토큰을 추가할 필요가 있어요.\n",
    "# 이번 실습에서는 시작 토큰은 sostoken, 종료 토큰은 eostoken이라 임의로 명명하고 앞, 뒤로 추가할 거예요.\n",
    "# 디코더의 입력에 해당하면서 시작 토큰이 맨 앞에 있는 문장의 이름을 decoder_input,\n",
    "# 디코더의 출력 또는 레이블에 해당되면서 종료 토큰이 맨 뒤에 붙는 문장의 이름을 decoder_target이라고 이름을 정했어요.\n",
    "# 두 개의 문장 모두 Summary 열로부터 만들 거예요.\n",
    "# 요약 데이터에는 시작 토큰과 종료 토큰을 추가한다.\n",
    "data['decoder_input'] = data['headlines'].apply(lambda x : 'sostoken '+ x)\n",
    "data['decoder_target'] = data['headlines'].apply(lambda x : x + ' eostoken')\n",
    "data.head()"
   ]
  },
  {
   "cell_type": "code",
   "execution_count": 25,
   "id": "ed2c080b",
   "metadata": {},
   "outputs": [],
   "source": [
    "# 앞뒤로 토큰이 잘 붙었죠? 인코더의 입력, 디코더의 입력과 레이블을 각각 다시 Numpy 타입으로 저장해 줄게요.\n",
    "encoder_input = np.array(data['text']) # 인코더의 입력\n",
    "decoder_input = np.array(data['decoder_input']) # 디코더의 입력\n",
    "decoder_target = np.array(data['decoder_target']) # 디코더의 레이블"
   ]
  },
  {
   "cell_type": "code",
   "execution_count": 26,
   "id": "8d87c3ee",
   "metadata": {},
   "outputs": [
    {
     "name": "stdout",
     "output_type": "stream",
     "text": [
      "union minister dharmendra pradhan wednesday claimed illegal mining mafia odisha operates control cm naveen patnaik state congress chief niranjan patnaik added time come people odisha put full stop activities time come us ask explanation corrupt government\n",
      "27105\n",
      "[11804  4067 23945 ... 16125  5231 25073]\n"
     ]
    }
   ],
   "source": [
    "# 이제 훈련 데이터와 테스트 데이터를 분리할거에요.\n",
    "\n",
    "# 훈련 데이터와 테스트 데이터를 분리하는 방법은 분리 패키지를 사용하는 방법,\n",
    "# 또는 직접 코딩을 통해서 분리하는 방법 등 여러 가지 방법이 있을 텐데 여기서는 직접 해볼게요.\n",
    "# 우선, encoder_input과 크기와 형태가 같은 순서가 섞인 정수 시퀀스를 만들어줄게요.\n",
    "indices = np.arange(encoder_input.shape[0]) # indices = np.arange(27105)\n",
    "np.random.shuffle(indices) # shuffle 27105\n",
    "print(encoder_input[0])\n",
    "print(encoder_input.shape[0])\n",
    "print(indices)"
   ]
  },
  {
   "cell_type": "code",
   "execution_count": 27,
   "id": "94f54b62",
   "metadata": {},
   "outputs": [
    {
     "name": "stdout",
     "output_type": "stream",
     "text": [
      "pre ['union minister dharmendra pradhan wednesday claimed illegal mining mafia odisha operates control cm naveen patnaik state congress chief niranjan patnaik added time come people odisha put full stop activities time come us ask explanation corrupt government'\n",
      " 'indian space research organisation wednesday unveiled human space flight centre bengaluru crore manned space mission gaganyaan scheduled isro said centre responsible development engineering systems crew survival space crew selection training also pursue activities sustained human space flight missions isro added'\n",
      " 'least people killed others injured saudi arabia week due flooding heavy rain emergency services rescued people flooded areas half tabuk heavy rains hit mainly western northwestern parts saudi arabia near border jordan'\n",
      " ...\n",
      " 'pakistan started building nearly kilometer fence along border afghanistan according reports comes afghan militants reportedly killed six pakistani soldiers stationed security checkpoints earlier month pakistan new fence aimed enhancing aerial surveillance border prevent future terror attacks transfer weapons ammunition'\n",
      " 'according reports new version science fiction film matrix development michael jordan reportedly play lead role film screenwriter zak penn talks write script film reports added actor keanu reeves starred original film followed two sequels'\n",
      " 'madhesi morcha alliance seven political parties withdrawn support pm pushpa kamal dahal led nepal government failed meet seven day ultimatum fulfil demands including endorsement revised constitution amendment bill morcha seats parliament despite withdrawal support immediate threat government']\n",
      "\n",
      "post ['madurai district administration thursday made aadhaar registration mandatory bull tamers participate bull taming sport jallikattu administration said new rule help effectively managing large crowds event previously photo identity proof bull owners players valid register event'\n",
      " 'sports minister rajyavardhan singh rathore called indian athletes officials behave responsibly upcoming asian games whatever field field please remember one thing representing billion strong nation said send ceremony asked athletes worry results much'\n",
      " 'us man named children various nazi personalities officially changed name isidore heath campbell isidore heath hitler anniversary end second world war europe adding initials stand hail hitler self proclaimed neo nazi said great new hitler'\n",
      " ...\n",
      " 'researchers massachusetts institute technology developed ingestible sensor sticks stomach lining monitor contractions digestive tract meal ingestion centimetre sensor placed capsule dissolves swallowed powered mechanical energy stretch along skin owing flexibility'\n",
      " 'china embassy washington issued advisory citizens travelling us highly frequent mass shootings robberies china also warned citizens expensive medical services us urged purchase health insurance beforehand citizens warned searches seizures customs agents telecommunications fraud natural disasters'\n",
      " 'madras high court passed verdict favour dhanush paternity case filed elderly couple madurai based couple approached court claiming son also sought maintenance could produce evidence favour leading court dismiss case']\n"
     ]
    }
   ],
   "source": [
    "# 이 정수 시퀀스를 이용해 다시 데이터의 샘플 순서를 정의해 주면 잘 섞인 샘플이 되겠죠.\n",
    "print('pre', encoder_input)\n",
    "encoder_input = encoder_input[indices]\n",
    "decoder_input = decoder_input[indices]\n",
    "decoder_target = decoder_target[indices]\n",
    "print()\n",
    "print('post', encoder_input)"
   ]
  },
  {
   "cell_type": "code",
   "execution_count": 28,
   "id": "756bcaa3",
   "metadata": {},
   "outputs": [
    {
     "name": "stdout",
     "output_type": "stream",
     "text": [
      "테스트 데이터의 수 : 5421\n"
     ]
    }
   ],
   "source": [
    "# 이제 섞인 데이터를 8:2의 비율로 훈련 데이터와 테스트 데이터로 분리해 줄게요.\n",
    "# 전체 데이터의 크기에서 0.2를 곱해서 테스트 데이터의 크기를 정의해 줄게요.\n",
    "n_of_val = int(len(encoder_input)*0.2)\n",
    "print('테스트 데이터의 수 :', n_of_val)"
   ]
  },
  {
   "cell_type": "code",
   "execution_count": 29,
   "id": "69749d66",
   "metadata": {},
   "outputs": [
    {
     "name": "stdout",
     "output_type": "stream",
     "text": [
      "훈련 데이터의 개수 : 21684\n",
      "훈련 레이블의 개수 : 21684\n",
      "테스트 데이터의 개수 : 5421\n",
      "테스트 레이블의 개수 : 5421\n"
     ]
    }
   ],
   "source": [
    "# 이렇게 정의한 테스트 데이터의 개수를 이용해 전체 데이터를 양분할게요. :표시의 위치에 주의해 주세요.\n",
    "encoder_input_train = encoder_input[:-n_of_val]\n",
    "decoder_input_train = decoder_input[:-n_of_val]\n",
    "decoder_target_train = decoder_target[:-n_of_val]\n",
    "\n",
    "encoder_input_test = encoder_input[-n_of_val:]\n",
    "decoder_input_test = decoder_input[-n_of_val:]\n",
    "decoder_target_test = decoder_target[-n_of_val:]\n",
    "\n",
    "print('훈련 데이터의 개수 :', len(encoder_input_train))\n",
    "print('훈련 레이블의 개수 :', len(decoder_input_train))\n",
    "print('테스트 데이터의 개수 :', len(encoder_input_test))\n",
    "print('테스트 레이블의 개수 :', len(decoder_input_test))"
   ]
  },
  {
   "cell_type": "code",
   "execution_count": 30,
   "id": "6f966275",
   "metadata": {},
   "outputs": [],
   "source": [
    "# Keras의 토크나이저를 사용하면, 입력된 훈련 데이터로부터 단어 집합을 만들 수 있어요.\n",
    "src_tokenizer = Tokenizer() # 토크나이저 정의\n",
    "src_tokenizer.fit_on_texts(encoder_input_train) # 입력된 데이터로부터 단어 집합 생성"
   ]
  },
  {
   "cell_type": "code",
   "execution_count": 31,
   "id": "4aa9b3c6",
   "metadata": {},
   "outputs": [
    {
     "name": "stdout",
     "output_type": "stream",
     "text": [
      "단어 집합(vocabulary)의 크기 : 42574\n",
      "등장 빈도가 4번 이하인 희귀 단어의 수: 28007\n",
      "단어 집합에서 희귀 단어를 제외시킬 경우의 단어 집합의 크기: 14567\n",
      "단어 집합에서 희귀 단어의 비율: 65.78428148635317\n",
      "전체 등장 빈도에서 희귀 단어 등장 빈도 비율: 6.284425554061674\n"
     ]
    }
   ],
   "source": [
    "# 등장 빈도수가 7회 미만인 단어들이 이 데이터에서 얼만큼의 비중을 차지하는지 확인해볼게요.\n",
    "# src_tokenizer.word_counts.items()에는 단어와 각 단어의 등장 빈도수가 저장돼 있는데, 이를 통해서 통계적인 정보를 얻을 수 있어요.\n",
    "\n",
    "threshold = 5\n",
    "total_cnt = len(src_tokenizer.word_index) # 단어의 수\n",
    "rare_cnt = 0 # 등장 빈도수가 threshold보다 작은 단어의 개수를 카운트\n",
    "total_freq = 0 # 훈련 데이터의 전체 단어 빈도수 총 합\n",
    "rare_freq = 0 # 등장 빈도수가 threshold보다 작은 단어의 등장 빈도수의 총 합\n",
    "\n",
    "# 단어와 빈도수의 쌍(pair)을 key와 value로 받는다.\n",
    "for key, value in src_tokenizer.word_counts.items():\n",
    "    total_freq = total_freq + value\n",
    "\n",
    "    # 단어의 등장 빈도수가 threshold보다 작으면\n",
    "    if(value < threshold):\n",
    "        rare_cnt = rare_cnt + 1\n",
    "        rare_freq = rare_freq + value\n",
    "\n",
    "print('단어 집합(vocabulary)의 크기 :', total_cnt)\n",
    "print('등장 빈도가 %s번 이하인 희귀 단어의 수: %s'%(threshold - 1, rare_cnt))\n",
    "print('단어 집합에서 희귀 단어를 제외시킬 경우의 단어 집합의 크기: %s'%(total_cnt - rare_cnt))\n",
    "print(\"단어 집합에서 희귀 단어의 비율:\", (rare_cnt / total_cnt)*100)\n",
    "print(\"전체 등장 빈도에서 희귀 단어 등장 빈도 비율:\", (rare_freq / total_freq)*100)\n",
    "\n",
    "# encoder_input_train에는 3만여 개의 단어가 있네요. 그 아래의 통계 정보들을 해석해볼까요?\n",
    "\n",
    "# 등장 빈도가 threshold 값인 7회 미만, 즉 6회 이하인 단어들은 단어 집합에서 무려 70% 이상을 차지하네요.\n",
    "# 하지만 실제로 훈련 데이터에서 등장 빈도로 차지하는 비중은 상대적으로 적은 수치인 3.39%밖에 되지 않아요."
   ]
  },
  {
   "cell_type": "code",
   "execution_count": 32,
   "id": "8a2fb04c",
   "metadata": {},
   "outputs": [],
   "source": [
    "# 그래서 등장 빈도가 6회 이하인 단어들은 정수 인코딩 과정에서 빼고, 훈련 데이터에서 제거하고자 합니다.\n",
    "# 위에서 이를 제외한 단어 집합의 크기를 8천여 개로 계산했는데, 이와 비슷한 값으로 어림잡아 단어 집합의 크기를 8,000으로 제한해볼게요.\n",
    "# 토크나이저를 정의할 때 num_words의 값을 정해주면, 단어 집합의 크기를 제한할 수 있어요.\n",
    "src_vocab = 14000\n",
    "src_tokenizer = Tokenizer(num_words=src_vocab) # 단어 집합의 크기를 8,000으로 제한\n",
    "src_tokenizer.fit_on_texts(encoder_input_train) # 단어 집합 재생성"
   ]
  },
  {
   "cell_type": "code",
   "execution_count": 33,
   "id": "d1d61e8b",
   "metadata": {},
   "outputs": [
    {
     "name": "stdout",
     "output_type": "stream",
     "text": [
      "[[11762, 181, 797, 55, 57, 563, 2823, 1789, 5573, 3075, 5573, 3190, 13018, 797, 1, 20, 1923, 148, 5388, 1809, 1015, 322, 833, 708, 1833, 3617, 5573, 1810, 579, 3861, 1811, 322], [980, 15, 6212, 60, 4523, 53, 14, 2188, 49, 11763, 216, 1196, 648, 4917, 1167, 1167, 2915, 3770, 19, 2021, 3330, 44, 1339, 580, 1, 1465, 802, 166, 2188, 6213, 1040, 507], [5, 86, 179, 187, 551, 4771, 4644, 1975, 1790, 384, 10782, 10782, 2694, 1068, 319, 99, 21, 337, 1116, 161, 1399, 8721, 2694, 699, 6459, 5055, 4771, 1, 727, 20, 2694]]\n"
     ]
    }
   ],
   "source": [
    "# texts_to_sequences는 생성된 단어 집합에 기반하여 입력으로 주어진 텍스트 데이터의 단어들을 모두 정수로 변환하는 정수 인코딩을 수행해요.\n",
    "# 현재 단어 집합의 크기를 8,000으로 제한했으니까 이제 8,000이 넘는 숫자들은 정수 인코딩 후에는 데이터에 존재하지 않아요.\n",
    "\n",
    "# 텍스트 시퀀스를 정수 시퀀스로 변환\n",
    "encoder_input_train = src_tokenizer.texts_to_sequences(encoder_input_train) \n",
    "encoder_input_test = src_tokenizer.texts_to_sequences(encoder_input_test)\n",
    "\n",
    "# 잘 진행되었는지 샘플 출력\n",
    "print(encoder_input_train[:3])"
   ]
  },
  {
   "cell_type": "code",
   "execution_count": 34,
   "id": "0704a58f",
   "metadata": {},
   "outputs": [],
   "source": [
    "# Summary 데이터에 대해서도 동일한 작업을 수행할게요.\n",
    "# 케라스의 토크나이저를 사용하여 decoder_input_train을 입력으로 전체 단어 집합과 각 단어에 대한 빈도수를 계산해요.\n",
    "tar_tokenizer = Tokenizer()\n",
    "tar_tokenizer.fit_on_texts(decoder_input_train)"
   ]
  },
  {
   "cell_type": "code",
   "execution_count": 35,
   "id": "11cefb27",
   "metadata": {},
   "outputs": [
    {
     "name": "stdout",
     "output_type": "stream",
     "text": [
      "단어 집합(vocabulary)의 크기 : 18938\n",
      "등장 빈도가 2번 이하인 희귀 단어의 수: 10906\n",
      "단어 집합에서 희귀 단어를 제외시킬 경우의 단어 집합의 크기 8032\n",
      "단어 집합에서 희귀 단어의 비율: 57.58791847079945\n",
      "전체 등장 빈도에서 희귀 단어 등장 빈도 비율: 7.403472054522525\n"
     ]
    }
   ],
   "source": [
    "# 이제 단어 집합이 생성되는 동시에 각 단어에 고유한 정수가 부여되었어요. 이는 tar_tokenizer.word_index에 저장되어 있어요.\n",
    "# tar_tokenizer.word_counts.items()에는 단어와 각 단어의 등장 빈도수가 저장돼 있는데,\n",
    "# 이를 통해서 통계적인 정보를 얻어서, 등장 빈도수가 6회 미만인 단어들이 이 데이터에서 얼만큼의 비중을 차지하는지 확인해볼게요.\n",
    "threshold = 3\n",
    "total_cnt = len(tar_tokenizer.word_index) # 단어의 수\n",
    "rare_cnt = 0 # 등장 빈도수가 threshold보다 작은 단어의 개수를 카운트\n",
    "total_freq = 0 # 훈련 데이터의 전체 단어 빈도수 총 합\n",
    "rare_freq = 0 # 등장 빈도수가 threshold보다 작은 단어의 등장 빈도수의 총 합\n",
    "\n",
    "# 단어와 빈도수의 쌍(pair)을 key와 value로 받는다.\n",
    "for key, value in tar_tokenizer.word_counts.items():\n",
    "    total_freq = total_freq + value\n",
    "\n",
    "    # 단어의 등장 빈도수가 threshold보다 작으면\n",
    "    if(value < threshold):\n",
    "        rare_cnt = rare_cnt + 1\n",
    "        rare_freq = rare_freq + value\n",
    "\n",
    "print('단어 집합(vocabulary)의 크기 :', total_cnt)\n",
    "print('등장 빈도가 %s번 이하인 희귀 단어의 수: %s'%(threshold - 1, rare_cnt))\n",
    "print('단어 집합에서 희귀 단어를 제외시킬 경우의 단어 집합의 크기 %s'%(total_cnt - rare_cnt))\n",
    "print(\"단어 집합에서 희귀 단어의 비율:\", (rare_cnt / total_cnt)*100)\n",
    "print(\"전체 등장 빈도에서 희귀 단어 등장 빈도 비율:\", (rare_freq / total_freq)*100)"
   ]
  },
  {
   "cell_type": "code",
   "execution_count": 36,
   "id": "8c4dfc32",
   "metadata": {},
   "outputs": [
    {
     "name": "stdout",
     "output_type": "stream",
     "text": [
      "input\n",
      "input  [[1, 179, 790, 4, 1809, 5, 5363, 3, 5364], [1, 14, 3029, 4644, 4, 24, 1620], [1, 609, 4100, 2192, 989, 89, 521, 4, 1455], [1, 2193, 1456, 190, 646, 3695, 3, 91], [1, 685, 2194, 104, 1333, 1113, 6, 107, 3]]\n",
      "target\n",
      "decoder  [[179, 790, 4, 1809, 5, 5363, 3, 5364, 2], [14, 3029, 4644, 4, 24, 1620, 2], [609, 4100, 2192, 989, 89, 521, 4, 1455, 2], [2193, 1456, 190, 646, 3695, 3, 91, 2], [685, 2194, 104, 1333, 1113, 6, 107, 3, 2]]\n"
     ]
    }
   ],
   "source": [
    "# 등장 빈도가 5회 이하인 단어들은 단어 집합에서 약 77%를 차지하고 있네요.\n",
    "# 하지만 실제로 훈련 데이터에서 등장 빈도로 차지하는 비중은 상대적으로 매우 적은 수치인 5.87%밖에 되지 않아요.\n",
    "# 아까 했던 것과 동일하게 이 단어들은 모두 제거할게요. 어림잡아 2,000을 단어 집합의 크기로 제한할게요.\n",
    "tar_vocab = 8000\n",
    "tar_tokenizer = Tokenizer(num_words=tar_vocab) \n",
    "tar_tokenizer.fit_on_texts(decoder_input_train)\n",
    "tar_tokenizer.fit_on_texts(decoder_target_train)\n",
    "\n",
    "# 텍스트 시퀀스를 정수 시퀀스로 변환\n",
    "decoder_input_train = tar_tokenizer.texts_to_sequences(decoder_input_train) \n",
    "decoder_target_train = tar_tokenizer.texts_to_sequences(decoder_target_train)\n",
    "decoder_input_test = tar_tokenizer.texts_to_sequences(decoder_input_test)\n",
    "decoder_target_test = tar_tokenizer.texts_to_sequences(decoder_target_test)\n",
    "\n",
    "# 잘 변환되었는지 확인\n",
    "print('input')\n",
    "print('input ',decoder_input_train[:5])\n",
    "print('target')\n",
    "print('decoder ',decoder_target_train[:5])"
   ]
  },
  {
   "cell_type": "code",
   "execution_count": 37,
   "id": "33bc13fa",
   "metadata": {},
   "outputs": [
    {
     "name": "stdout",
     "output_type": "stream",
     "text": [
      "삭제할 훈련 데이터의 개수 : 0\n",
      "삭제할 테스트 데이터의 개수 : 0\n",
      "훈련 데이터의 개수 : 21684\n",
      "훈련 레이블의 개수 : 21684\n",
      "테스트 데이터의 개수 : 5421\n",
      "테스트 레이블의 개수 : 5421\n"
     ]
    }
   ],
   "source": [
    "# 정상적으로 정수 인코딩 작업이 끝났어요.\n",
    "# 현재 decoder_input_train과 decoder_target_train에는 더 이상 숫자 2,000이 넘는 숫자들은 존재하지 않아요.\n",
    "# 그런데 다음 작업인 패딩 하기로 넘어가기 전에 한 가지 점검해야 할 것이 있어요.\n",
    "\n",
    "# 전체 데이터에서 빈도수가 낮은 단어가 삭제되었다는 것은\n",
    "# 빈도수가 낮은 단어만으로 구성되었던 샘플들은 이제 빈(empty) 샘플이 되었을 가능성이 있어요.\n",
    "# 이 현상은 길이가 상대적으로 길었던 원문(Text)의 경우에는 문제가 별로 없겠지만,\n",
    "# 애초에 평균 길이가 4밖에 되지 않았던 요약문(Summary)의 경우에는 이 현상이 굉장히 두드러졌을 가능성이 높겠죠.\n",
    "\n",
    "# 요약문에서 길이가 0이 된 샘플들의 인덱스를 받아와볼게요.\n",
    "# 여기서 주의할 점은 요약문인 decoder_input에는 sostoken 또는 decoder_target에는 eostoken이 추가된 상태이고,\n",
    "# 이 두 토큰은 모든 샘플에서 등장하므로 빈도수가 샘플 수와 동일하게 매우 높으므로 단어 집합 제한에도 삭제되지 않아요.\n",
    "# 그래서 이제 길이가 0이 된 요약문의 실제 길이는 1로 나올 거예요.\n",
    "# 길이가 0이 된 decoder_input에는 sostoken, decoder_target에는 eostoken만 남아 있을 테니까요.\n",
    "\n",
    "# 훈련 데이터와 테스트 데이터에 대해서 요약문의 길이가 1인 경우의 인덱스를 각각 drop_train과 drop_test에 라는 변수에 저장해볼게요.\n",
    "# 이 샘플들은 모두 삭제할 거예요.\n",
    "\n",
    "\n",
    "drop_train = [index for index, sentence in enumerate(decoder_input_train) if len(sentence) == 1]\n",
    "drop_test = [index for index, sentence in enumerate(decoder_input_test) if len(sentence) == 1]\n",
    "\n",
    "print('삭제할 훈련 데이터의 개수 :', len(drop_train))\n",
    "print('삭제할 테스트 데이터의 개수 :', len(drop_test))\n",
    "\n",
    "encoder_input_train = [sentence for index, sentence in enumerate(encoder_input_train) if index not in drop_train]\n",
    "decoder_input_train = [sentence for index, sentence in enumerate(decoder_input_train) if index not in drop_train]\n",
    "decoder_target_train = [sentence for index, sentence in enumerate(decoder_target_train) if index not in drop_train]\n",
    "\n",
    "encoder_input_test = [sentence for index, sentence in enumerate(encoder_input_test) if index not in drop_test]\n",
    "decoder_input_test = [sentence for index, sentence in enumerate(decoder_input_test) if index not in drop_test]\n",
    "decoder_target_test = [sentence for index, sentence in enumerate(decoder_target_test) if index not in drop_test]\n",
    "\n",
    "print('훈련 데이터의 개수 :', len(encoder_input_train))\n",
    "print('훈련 레이블의 개수 :', len(decoder_input_train))\n",
    "print('테스트 데이터의 개수 :', len(encoder_input_test))\n",
    "print('테스트 레이블의 개수 :', len(decoder_input_test))"
   ]
  },
  {
   "cell_type": "code",
   "execution_count": 38,
   "id": "7fed927d",
   "metadata": {},
   "outputs": [],
   "source": [
    "# add padding sequence\n",
    "encoder_input_train = pad_sequences(encoder_input_train, maxlen=text_max_len, padding='post')\n",
    "encoder_input_test = pad_sequences(encoder_input_test, maxlen=text_max_len, padding='post')\n",
    "decoder_input_train = pad_sequences(decoder_input_train, maxlen=headlines_max_len, padding='post')\n",
    "decoder_target_train = pad_sequences(decoder_target_train, maxlen=headlines_max_len, padding='post')\n",
    "decoder_input_test = pad_sequences(decoder_input_test, maxlen=headlines_max_len, padding='post')\n",
    "decoder_target_test = pad_sequences(decoder_target_test, maxlen=headlines_max_len, padding='post')"
   ]
  },
  {
   "cell_type": "code",
   "execution_count": 39,
   "id": "e6281fa5",
   "metadata": {},
   "outputs": [
    {
     "name": "stdout",
     "output_type": "stream",
     "text": [
      "WARNING:tensorflow:Layer lstm will not use cuDNN kernels since it doesn't meet the criteria. It will use a generic GPU kernel as fallback when running on GPU.\n",
      "WARNING:tensorflow:Layer lstm_1 will not use cuDNN kernels since it doesn't meet the criteria. It will use a generic GPU kernel as fallback when running on GPU.\n",
      "WARNING:tensorflow:Layer lstm_2 will not use cuDNN kernels since it doesn't meet the criteria. It will use a generic GPU kernel as fallback when running on GPU.\n"
     ]
    }
   ],
   "source": [
    "# 이제는 모델을 설계할 시간이에요. 우선 함수형 API를 이용해서 인코더를 설계해 볼게요.\n",
    "\n",
    "# 인코더 설계 시작\n",
    "embedding_dim = 128\n",
    "hidden_size = 256\n",
    "\n",
    "# 인코더\n",
    "encoder_inputs = Input(shape=(text_max_len,))\n",
    "\n",
    "# 인코더의 임베딩 층\n",
    "enc_emb = Embedding(src_vocab, embedding_dim)(encoder_inputs)\n",
    "\n",
    "# 인코더의 LSTM 1\n",
    "encoder_lstm1 = LSTM(hidden_size, return_sequences=True, return_state=True ,dropout = 0.4, recurrent_dropout = 0.4)\n",
    "# encoder_lstm1 = LSTM(hidden_size, return_sequences=True, return_state=True ,dropout = 0.4)\n",
    "encoder_output1, state_h1, state_c1 = encoder_lstm1(enc_emb)\n",
    "\n",
    "# 인코더의 LSTM 2\n",
    "encoder_lstm2 = LSTM(hidden_size, return_sequences=True, return_state=True, dropout=0.4, recurrent_dropout=0.4)\n",
    "# encoder_lstm2 = LSTM(hidden_size, return_sequences=True, return_state=True, dropout=0.4)\n",
    "encoder_output2, state_h2, state_c2 = encoder_lstm2(encoder_output1)\n",
    "\n",
    "# 인코더의 LSTM 3\n",
    "encoder_lstm3 = LSTM(hidden_size, return_state=True, return_sequences=True, dropout=0.4, recurrent_dropout=0.4)\n",
    "# encoder_lstm3 = LSTM(hidden_size, return_state=True, return_sequences=True, dropout=0.4)\n",
    "encoder_outputs, state_h, state_c= encoder_lstm3(encoder_output2)\n",
    "\n",
    "# 임베딩 벡터의 차원은 128로 정의하고, hidden state의 크기를 256으로 정의했어요.\n",
    "# hidden state는 LSTM에서 얼만큼의 수용력(capacity)를 가질지를 정하는 파라미터에요.\n",
    "# 이 파라미터는 LSTM의 용량의 크기나, LSTM에서의 뉴런의 개수라고 이해하면 돼요.\n",
    "# 다른 신경망과 마찬가지로, 무조건 용량을 많이 준다고 해서 성능이 반드시 올라가는 것은 아니에요.\n",
    "\n",
    "# 인코더의 LSTM은 총 3개의 층으로 구성해서 모델의 복잡도를 높였어요.\n",
    "# hidden state의 크기를 늘리는 것이 LSTM 층 1개의 용량을 늘린다면, 3개의 층을 사용하는 것은 모델의 용량을 늘린다고 볼 수 있죠.\n",
    "# 3개의 층을 지나서 인코더로부터 나온 출력 벡터는 디코더로 보내줘야겠죠?\n",
    "\n",
    "# 또한 LSTM은 dropout 뿐 아니라 recurrent dropout까지 사용할 수 있어요.\n",
    "# 일반적인 dropout은 레이어의 weight를 랜덤으로 생략하여 모델의 과적합(overfitting)을 해결해주는 방법이에요.\n",
    "\n",
    "# 반면 recurrent dropout은 dropout을 레이어가 아닌 time step마다 해주는 방식이에요.\n",
    "# 즉 time step의 입력을 랜덤으로 생략해 주는 거죠.\n",
    "# recurrent dropout은 일반적인 dropout와 같이 regularization을 해주는 효과가 있고, 과적합을 방지할 수 있다고 해요.\n",
    "\n",
    "# 아래 그림은 일반적인 dropout과, dropout과 recurrent dropout을 동시에 사용한 것을 시각적으로 표현한 것입니다.\n",
    "# 색이 있는 화살표는 dropout을 나타낸 것이에요.\n",
    "# (색이 다른 것은 다른 dropout mask를 사용했다는 표시인데, 지금은 그냥 넘어가셔도 됩니다.)\n",
    "# 코드를 수정해서 LSTM에 dropout과 recurrent dropout을 모두 사용할 수 있습니다.그렇게 되면 오른쪽 그림과 같은 형태가 되겠군요.\n",
    "# 참고로 dropout과 recurrent dropout을 모두 사용한 것을 Variational Dropout이라고도 해요.\n",
    "\n",
    "# recurrent dropout을 사용할 시 cuDNN을 사용할 수 없어서 recurrent dropout을 사용하지 않을 때보다 학습 시간이 오래 걸립니다."
   ]
  },
  {
   "cell_type": "code",
   "execution_count": 40,
   "id": "7b2e2316",
   "metadata": {},
   "outputs": [
    {
     "name": "stdout",
     "output_type": "stream",
     "text": [
      "WARNING:tensorflow:Layer lstm_3 will not use cuDNN kernels since it doesn't meet the criteria. It will use a generic GPU kernel as fallback when running on GPU.\n"
     ]
    }
   ],
   "source": [
    "# 이제 디코더를 설계해볼게요!\n",
    "\n",
    "# 디코더 설계\n",
    "decoder_inputs = Input(shape=(None,))\n",
    "\n",
    "# 디코더의 임베딩 층\n",
    "dec_emb_layer = Embedding(tar_vocab, embedding_dim)\n",
    "dec_emb = dec_emb_layer(decoder_inputs)\n",
    "\n",
    "# 디코더의 LSTM\n",
    "decoder_lstm = LSTM(hidden_size, return_sequences=True, return_state=True, dropout=0.4, recurrent_dropout=0.2)\n",
    "# decoder_lstm = LSTM(hidden_size, return_sequences=True, return_state=True, dropout=0.4)\n",
    "decoder_outputs, _, _ = decoder_lstm(dec_emb, initial_state=[state_h, state_c])"
   ]
  },
  {
   "cell_type": "code",
   "execution_count": 41,
   "id": "2b01a35e",
   "metadata": {},
   "outputs": [
    {
     "name": "stdout",
     "output_type": "stream",
     "text": [
      "Model: \"model\"\n",
      "__________________________________________________________________________________________________\n",
      "Layer (type)                    Output Shape         Param #     Connected to                     \n",
      "==================================================================================================\n",
      "input_1 (InputLayer)            [(None, 50)]         0                                            \n",
      "__________________________________________________________________________________________________\n",
      "embedding (Embedding)           (None, 50, 128)      1792000     input_1[0][0]                    \n",
      "__________________________________________________________________________________________________\n",
      "lstm (LSTM)                     [(None, 50, 256), (N 394240      embedding[0][0]                  \n",
      "__________________________________________________________________________________________________\n",
      "input_2 (InputLayer)            [(None, None)]       0                                            \n",
      "__________________________________________________________________________________________________\n",
      "lstm_1 (LSTM)                   [(None, 50, 256), (N 525312      lstm[0][0]                       \n",
      "__________________________________________________________________________________________________\n",
      "embedding_1 (Embedding)         (None, None, 128)    1024000     input_2[0][0]                    \n",
      "__________________________________________________________________________________________________\n",
      "lstm_2 (LSTM)                   [(None, 50, 256), (N 525312      lstm_1[0][0]                     \n",
      "__________________________________________________________________________________________________\n",
      "lstm_3 (LSTM)                   [(None, None, 256),  394240      embedding_1[0][0]                \n",
      "                                                                 lstm_2[0][1]                     \n",
      "                                                                 lstm_2[0][2]                     \n",
      "__________________________________________________________________________________________________\n",
      "dense (Dense)                   (None, None, 8000)   2056000     lstm_3[0][0]                     \n",
      "==================================================================================================\n",
      "Total params: 6,711,104\n",
      "Trainable params: 6,711,104\n",
      "Non-trainable params: 0\n",
      "__________________________________________________________________________________________________\n"
     ]
    }
   ],
   "source": [
    "# 디코더의 출력층을 설계해볼게요.\n",
    "\n",
    "# 디코더의 출력층\n",
    "decoder_softmax_layer = Dense(tar_vocab, activation='softmax')\n",
    "decoder_softmax_outputs = decoder_softmax_layer(decoder_outputs) \n",
    "\n",
    "# 모델 정의\n",
    "model = Model([encoder_inputs, decoder_inputs], decoder_softmax_outputs)\n",
    "model.summary()"
   ]
  },
  {
   "cell_type": "code",
   "execution_count": 42,
   "id": "32c781be",
   "metadata": {},
   "outputs": [
    {
     "name": "stdout",
     "output_type": "stream",
     "text": [
      "Model: \"model_1\"\n",
      "__________________________________________________________________________________________________\n",
      "Layer (type)                    Output Shape         Param #     Connected to                     \n",
      "==================================================================================================\n",
      "input_1 (InputLayer)            [(None, 50)]         0                                            \n",
      "__________________________________________________________________________________________________\n",
      "embedding (Embedding)           (None, 50, 128)      1792000     input_1[0][0]                    \n",
      "__________________________________________________________________________________________________\n",
      "lstm (LSTM)                     [(None, 50, 256), (N 394240      embedding[0][0]                  \n",
      "__________________________________________________________________________________________________\n",
      "input_2 (InputLayer)            [(None, None)]       0                                            \n",
      "__________________________________________________________________________________________________\n",
      "lstm_1 (LSTM)                   [(None, 50, 256), (N 525312      lstm[0][0]                       \n",
      "__________________________________________________________________________________________________\n",
      "embedding_1 (Embedding)         (None, None, 128)    1024000     input_2[0][0]                    \n",
      "__________________________________________________________________________________________________\n",
      "lstm_2 (LSTM)                   [(None, 50, 256), (N 525312      lstm_1[0][0]                     \n",
      "__________________________________________________________________________________________________\n",
      "lstm_3 (LSTM)                   [(None, None, 256),  394240      embedding_1[0][0]                \n",
      "                                                                 lstm_2[0][1]                     \n",
      "                                                                 lstm_2[0][2]                     \n",
      "__________________________________________________________________________________________________\n",
      "attention_layer (AdditiveAttent (None, None, 256)    256         lstm_3[0][0]                     \n",
      "                                                                 lstm_2[0][0]                     \n",
      "__________________________________________________________________________________________________\n",
      "concat_layer (Concatenate)      (None, None, 512)    0           lstm_3[0][0]                     \n",
      "                                                                 attention_layer[0][0]            \n",
      "__________________________________________________________________________________________________\n",
      "dense_1 (Dense)                 (None, None, 8000)   4104000     concat_layer[0][0]               \n",
      "==================================================================================================\n",
      "Total params: 8,759,360\n",
      "Trainable params: 8,759,360\n",
      "Non-trainable params: 0\n",
      "__________________________________________________________________________________________________\n"
     ]
    }
   ],
   "source": [
    "# 아래와 같이 어텐션 층을 만들고, 위에서 설계한 디코더의 출력층을 수정해 봅시다.\n",
    "\n",
    "# 어텐션 층(어텐션 함수)\n",
    "attn_layer = AdditiveAttention(name='attention_layer')\n",
    "\n",
    "# 인코더와 디코더의 모든 time step의 hidden state를 어텐션 층에 전달하고 결과를 리턴\n",
    "attn_out = attn_layer([decoder_outputs, encoder_outputs])\n",
    "\n",
    "\n",
    "# 어텐션의 결과와 디코더의 hidden state들을 연결\n",
    "decoder_concat_input = Concatenate(axis=-1, name='concat_layer')([decoder_outputs, attn_out])\n",
    "\n",
    "# 디코더의 출력층\n",
    "decoder_softmax_layer = Dense(tar_vocab, activation='softmax')\n",
    "decoder_softmax_outputs = decoder_softmax_layer(decoder_concat_input)\n",
    "\n",
    "# 모델 정의\n",
    "model = Model([encoder_inputs, decoder_inputs], decoder_softmax_outputs)\n",
    "model.summary()"
   ]
  },
  {
   "cell_type": "code",
   "execution_count": 43,
   "id": "6b3109d5",
   "metadata": {},
   "outputs": [
    {
     "name": "stdout",
     "output_type": "stream",
     "text": [
      "Epoch 1/50\n",
      "85/85 [==============================] - 67s 678ms/step - loss: 6.8399 - val_loss: 6.3102\n",
      "Epoch 2/50\n",
      "85/85 [==============================] - 57s 668ms/step - loss: 6.3629 - val_loss: 6.0382\n",
      "Epoch 3/50\n",
      "85/85 [==============================] - 57s 667ms/step - loss: 6.1213 - val_loss: 5.9384\n",
      "Epoch 4/50\n",
      "85/85 [==============================] - 57s 667ms/step - loss: 5.9497 - val_loss: 5.8120\n",
      "Epoch 5/50\n",
      "85/85 [==============================] - 56s 661ms/step - loss: 5.7853 - val_loss: 5.6899\n",
      "Epoch 6/50\n",
      "85/85 [==============================] - 57s 669ms/step - loss: 5.6188 - val_loss: 5.6312\n",
      "Epoch 7/50\n",
      "85/85 [==============================] - 57s 666ms/step - loss: 5.4409 - val_loss: 5.4882\n",
      "Epoch 8/50\n",
      "85/85 [==============================] - 56s 664ms/step - loss: 5.2584 - val_loss: 5.3562\n",
      "Epoch 9/50\n",
      "85/85 [==============================] - 57s 665ms/step - loss: 5.0883 - val_loss: 5.2860\n",
      "Epoch 10/50\n",
      "85/85 [==============================] - 57s 667ms/step - loss: 4.9325 - val_loss: 5.2457\n",
      "Epoch 11/50\n",
      "85/85 [==============================] - 59s 694ms/step - loss: 4.7866 - val_loss: 5.1687\n",
      "Epoch 12/50\n",
      "85/85 [==============================] - 56s 662ms/step - loss: 4.6471 - val_loss: 5.1219\n",
      "Epoch 13/50\n",
      "85/85 [==============================] - 56s 664ms/step - loss: 4.5165 - val_loss: 5.1054\n",
      "Epoch 14/50\n",
      "85/85 [==============================] - 56s 663ms/step - loss: 4.3914 - val_loss: 5.0758\n",
      "Epoch 15/50\n",
      "85/85 [==============================] - 56s 658ms/step - loss: 4.2737 - val_loss: 5.0475\n",
      "Epoch 16/50\n",
      "85/85 [==============================] - 56s 662ms/step - loss: 4.1592 - val_loss: 5.0578\n",
      "Epoch 17/50\n",
      "85/85 [==============================] - 57s 667ms/step - loss: 4.0494 - val_loss: 5.0210\n",
      "Epoch 18/50\n",
      "85/85 [==============================] - 56s 663ms/step - loss: 3.9416 - val_loss: 5.0089\n",
      "Epoch 19/50\n",
      "85/85 [==============================] - 57s 665ms/step - loss: 3.8398 - val_loss: 5.0053\n",
      "Epoch 20/50\n",
      "85/85 [==============================] - 57s 666ms/step - loss: 3.7409 - val_loss: 4.9952\n",
      "Epoch 21/50\n",
      "85/85 [==============================] - 56s 657ms/step - loss: 3.6450 - val_loss: 5.0025\n",
      "Epoch 22/50\n",
      "85/85 [==============================] - 56s 663ms/step - loss: 3.5518 - val_loss: 5.0103\n",
      "Epoch 00022: early stopping\n"
     ]
    }
   ],
   "source": [
    "# compile and train model\n",
    "model.compile(optimizer='rmsprop', loss='sparse_categorical_crossentropy')\n",
    "es = EarlyStopping(monitor='val_loss', patience=2, verbose=1)\n",
    "history = model.fit(x=[encoder_input_train, decoder_input_train], y=decoder_target_train, \\\n",
    "          validation_data=([encoder_input_test, decoder_input_test], decoder_target_test), \\\n",
    "          batch_size=256, callbacks=[es], epochs=50)"
   ]
  },
  {
   "cell_type": "code",
   "execution_count": 44,
   "id": "0908681b",
   "metadata": {},
   "outputs": [
    {
     "data": {
      "image/png": "[encoded data removed]",
      "text/plain": [
       "<Figure size 432x288 with 1 Axes>"
      ]
     },
     "metadata": {
      "needs_background": "light"
     },
     "output_type": "display_data"
    }
   ],
   "source": [
    "# 이제 훈련 데이터의 손실과 검증 데이터의 손실이 줄어드는 과정을 시각화 해봐요.\n",
    "plt.plot(history.history['loss'], label='train')\n",
    "plt.plot(history.history['val_loss'], label='test')\n",
    "plt.legend()\n",
    "plt.show()"
   ]
  },
  {
   "cell_type": "code",
   "execution_count": 45,
   "id": "fe78521c",
   "metadata": {},
   "outputs": [],
   "source": [
    "# 테스트 단계에서는 정수 인덱스 행렬로 존재하던 텍스트 데이터를 실제 데이터로 복원해야 하므로,\n",
    "# 필요한 3개의 사전을 아래와 같이 미리 준비해 둡니다.\n",
    "src_index_to_word = src_tokenizer.index_word # 원문 단어 집합에서 정수 -> 단어를 얻음\n",
    "tar_word_to_index = tar_tokenizer.word_index # 요약 단어 집합에서 단어 -> 정수를 얻음\n",
    "tar_index_to_word = tar_tokenizer.index_word # 요약 단어 집합에서 정수 -> 단어를 얻음"
   ]
  },
  {
   "cell_type": "code",
   "execution_count": 46,
   "id": "66eab8b1",
   "metadata": {},
   "outputs": [],
   "source": [
    "# seq2seq는 훈련할 때와 실제 동작할 때(인퍼런스 단계)의 방식이 다르므로 그에 맞게 모델 설계를 별개로 진행해야 한다는 것, 알고 계시나요?\n",
    "\n",
    "# 훈련 단계에서는 디코더의 입력부에 정답이 되는 문장 전체를 한꺼번에 넣고 디코더의 출력과 한 번에 비교할 수 있으므로,\n",
    "# 인코더와 디코더를 엮은 통짜 모델 하나만 준비했습니다.\n",
    "\n",
    "# 그러나 정답 문장이 없는 인퍼런스 단계에서는 만들어야 할 문장의 길이만큼 디코더가 반복 구조로 동작해야 하기 때문에\n",
    "# 부득이하게 인퍼런스를 위한 모델 설계를 별도로 해주어야 합니다. 이때는 인코더 모델과 디코더 모델을 분리해서 설계합니다.\n",
    "\n",
    "# 인코더 설계\n",
    "encoder_model = Model(inputs=encoder_inputs, outputs=[encoder_outputs, state_h, state_c])\n",
    "\n",
    "# 이전 시점의 상태들을 저장하는 텐서\n",
    "decoder_state_input_h = Input(shape=(hidden_size,))\n",
    "decoder_state_input_c = Input(shape=(hidden_size,))\n",
    "\n",
    "dec_emb2 = dec_emb_layer(decoder_inputs)\n",
    "\n",
    "# 문장의 다음 단어를 예측하기 위해서 초기 상태(initial_state)를 이전 시점의 상태로 사용. 이는 뒤의 함수 decode_sequence()에 구현\n",
    "# 훈련 과정에서와 달리 LSTM의 리턴하는 은닉 상태와 셀 상태인 state_h와 state_c를 버리지 않음.\n",
    "decoder_outputs2, state_h2, state_c2 = decoder_lstm(dec_emb2, initial_state=[decoder_state_input_h, decoder_state_input_c])"
   ]
  },
  {
   "cell_type": "code",
   "execution_count": 47,
   "id": "1e6ea5dc",
   "metadata": {},
   "outputs": [],
   "source": [
    "# 어텐션 메커니즘을 사용하는 출력층을 설계해 주세요.\n",
    "\n",
    "# 어텐션 함수\n",
    "decoder_hidden_state_input = Input(shape=(text_max_len, hidden_size))\n",
    "attn_out_inf = attn_layer([decoder_outputs2, decoder_hidden_state_input])\n",
    "decoder_inf_concat = Concatenate(axis=-1, name='concat')([decoder_outputs2, attn_out_inf])\n",
    "\n",
    "# 디코더의 출력층\n",
    "decoder_outputs2 = decoder_softmax_layer(decoder_inf_concat) \n",
    "\n",
    "# 최종 디코더 모델\n",
    "decoder_model = Model(\n",
    "    [decoder_inputs] + [decoder_hidden_state_input,decoder_state_input_h, decoder_state_input_c],\n",
    "    [decoder_outputs2] + [state_h2, state_c2])"
   ]
  },
  {
   "cell_type": "code",
   "execution_count": 48,
   "id": "ca6dfeea",
   "metadata": {},
   "outputs": [],
   "source": [
    "# 인퍼런스 단계에서 단어 시퀀스를 완성하는 함수를 만들어주세요.\n",
    "\n",
    "def decode_sequence(input_seq):\n",
    "    # 입력으로부터 인코더의 상태를 얻음\n",
    "    e_out, e_h, e_c = encoder_model.predict(input_seq)\n",
    "\n",
    "     # <SOS>에 해당하는 토큰 생성\n",
    "    target_seq = np.zeros((1,1))\n",
    "    target_seq[0, 0] = tar_word_to_index['sostoken']\n",
    "\n",
    "    stop_condition = False\n",
    "    decoded_sentence = ''\n",
    "    while not stop_condition: # stop_condition이 True가 될 때까지 루프 반복\n",
    "\n",
    "        output_tokens, h, c = decoder_model.predict([target_seq] + [e_out, e_h, e_c])\n",
    "        sampled_token_index = np.argmax(output_tokens[0, -1, :])\n",
    "        sampled_token = tar_index_to_word[sampled_token_index]\n",
    "\n",
    "        if (sampled_token!='eostoken'):\n",
    "            decoded_sentence += ' '+sampled_token\n",
    "\n",
    "        #  <eos>에 도달하거나 최대 길이를 넘으면 중단.\n",
    "        if (sampled_token == 'eostoken'  or len(decoded_sentence.split()) >= (headlines_max_len-1)):\n",
    "            stop_condition = True\n",
    "\n",
    "        # 길이가 1인 타겟 시퀀스를 업데이트\n",
    "        target_seq = np.zeros((1,1))\n",
    "        target_seq[0, 0] = sampled_token_index\n",
    "\n",
    "        # 상태를 업데이트 합니다.\n",
    "        e_h, e_c = h, c\n",
    "\n",
    "    return decoded_sentence"
   ]
  },
  {
   "cell_type": "code",
   "execution_count": 49,
   "id": "80c67556",
   "metadata": {},
   "outputs": [],
   "source": [
    "# 테스트 단계에서는 정수 시퀀스를 텍스트 시퀀스로 변환하여 결과를 확인하는 것이 편하겠죠.\n",
    "# 주어진 정수 시퀀스를 텍스트 시퀀스로 변환하는 함수를 만들어볼게요.\n",
    "# 함수를 만들 때, Text의 정수 시퀀스에서는 패딩을 위해 사용되는 숫자 0을 제외하고\n",
    "# Summary의 정수 시퀀스에서는 숫자 0, 시작 토큰의 인덱스, 종료 토큰의 인덱스를 출력에서 제외하도록 만들 거예요.\n",
    "\n",
    "# 원문의 정수 시퀀스를 텍스트 시퀀스로 변환\n",
    "def seq2text(input_seq):\n",
    "    temp=''\n",
    "    for i in input_seq:\n",
    "        if (i!=0):\n",
    "            temp = temp + src_index_to_word[i]+' '\n",
    "    return temp\n",
    "\n",
    "# 요약문의 정수 시퀀스를 텍스트 시퀀스로 변환\n",
    "def seq2summary(input_seq):\n",
    "    temp=''\n",
    "    for i in input_seq:\n",
    "        if ((i!=0 and i!=tar_word_to_index['sostoken']) and i!=tar_word_to_index['eostoken']):\n",
    "            temp = temp + tar_index_to_word[i] + ' '\n",
    "    return temp"
   ]
  },
  {
   "cell_type": "code",
   "execution_count": 85,
   "id": "1a84c456",
   "metadata": {
    "scrolled": false
   },
   "outputs": [
    {
     "name": "stdout",
     "output_type": "stream",
     "text": [
      "원문 : least eight people injured sunday small iron bridge collapsed near maharashtra district injured admitted hospital treatment incident happened villagers passing bridge reach crematorium near river reports said \n",
      "실제 요약 : injured as bridge collapses in maharashtra \n",
      "예측 요약 :  dead injured after boat collapses in\n",
      "추출 요약 : \n",
      "\n",
      "\n",
      "원문 : mizoram congress mla showed increase assets mla five years shown immovable assets lakh showed assets crore legislator called saying include details crore residence \n",
      "실제 요약 : mla assets grow in yrs calls it \n",
      "예측 요약 :  congress mlas demands into congress mlas\n",
      "추출 요약 : \n",
      "\n",
      "\n",
      "원문 : pakistani pacer hasan ali top ranked bowler odis celebrates wickets mimicking bomb explosion ali highest wicket taker year wickets matches mechanism leads blast claiming victims ali said one childhood dreams top ranked bowler \n",
      "실제 요약 : pakistani bowler mimics bomb explosion on taking wicket \n",
      "예측 요약 :  india beat pakistan of champions trophy\n",
      "추출 요약 : \n",
      "\n",
      "\n",
      "원문 : facebook ceo mark zuckerberg plans integrate whatsapp instagram facebook messenger new york times report claimed changes facebook user instance able send encrypted messages someone whatsapp account according report three services however continue stand alone apps report added \n",
      "실제 요약 : zuckerberg may whatsapp instagram messenger \n",
      "예측 요약 :  facebook facebook users users users facebook\n",
      "추출 요약 : \n",
      "\n",
      "\n",
      "원문 : actor arnold schwarzenegger accused us president donald trump robbing children blind criticising proposed billion cut school programs president trump promised us wants make america great make america great schwarzenegger said going go washington going take lying schwarzenegger added \n",
      "실제 요약 : schwarzenegger accuses trump of children blind \n",
      "예측 요약 :  trump calls trump donald trump\n",
      "추출 요약 : \n",
      "\n",
      "\n",
      "원문 : delhi based healthcare firm thursday said raised million series round funding led mumbai based venture growth fund iron pillar funding round saw participation existing investors kalaari capital advisors capital company revealed use funds advance lead molecule fight antibiotic resistant \n",
      "실제 요약 : delhi healthcare firm raises million in series \n",
      "예측 요약 :  bengaluru startup raises million from series\n",
      "추출 요약 : \n",
      "\n",
      "\n",
      "원문 : following meeting pm narendra modi jammu kashmir cm mehbooba mufti asserted talks option cannot happen amid stone pelting bullets also asserted stone pelters kashmir systematically comes amid fresh street protests valley students alleged high security forces \n",
      "실제 요약 : bullets stones cannot go together in mufti \n",
      "예측 요약 :  pm modi inaugurates pm modi for corruption\n",
      "추출 요약 : \n",
      "\n",
      "\n",
      "원문 : us based reporter sun caught production control room accidentally put air weather segment house weather segment saying looks little later said camera calm tonight might caught \n",
      "실제 요약 : reporter caught when accidentally put on air \n",
      "예측 요약 :  man found from eggs in us\n",
      "추출 요약 : \n",
      "\n",
      "\n",
      "원문 : norway bound female passenger denied boarding delhi airport sunday unusual abnormal behaviour said authorities created ruckus following handed police taken hospital medical test fellow witnessed ruckus said psychiatric lying floor \n",
      "실제 요약 : woman denied boarding at airport over behaviour \n",
      "예측 요약 :  passenger attendant pilot flight makes passengers landing\n",
      "추출 요약 : \n",
      "\n",
      "\n",
      "원문 : bharatiya janata party friday decided retain vijay rupani gujarat chief minister second term rupani rajkot west margin votes party managed win total seats member state assembly meanwhile nitin patel named post deputy chief minister \n",
      "실제 요약 : vijay as gujarat chief minister \n",
      "예측 요약 :  pakistan cm candidate resolution to contest\n",
      "추출 요약 : \n",
      "\n",
      "\n",
      "원문 : us based developer charles developed bracelet called bolt charging bracelet also works phone charger device turns thin usb lightning cable light pull allowing users charge devices convenience however device apple devices including iphone ipad \n",
      "실제 요약 : which also works as phone made \n",
      "예측 요약 :  smart lets users phone developed\n",
      "추출 요약 : \n",
      "\n",
      "\n",
      "원문 : creator website hunt released database million leaked passwords website allows people search email address appeared breach reveal associated password particular service email providers use database warn people address compromised \n",
      "실제 요약 : website releases database of mn leaked passwords \n",
      "예측 요약 :  us startup offers million\n",
      "추출 요약 : \n",
      "\n",
      "\n",
      "원문 : civilians held hostage isis linked militants philippine city marawi forced loot homes fight government troops serve sex slaves philippine army said citing accounts recent military added hostages also forced convert islam carry wounded fighters mosques marry militants \n",
      "실제 요약 : isis using philippines hostages as sex army \n",
      "예측 요약 :  isis claims isis syrian mosul\n",
      "추출 요약 : \n",
      "\n",
      "\n",
      "원문 : ex world number one ronnie pulled one million shot players championship final sunday blue right middle white narrow gap came back gap could stand never commentator said \n",
      "실제 요약 : player pulls off one in million shot \n",
      "예측 요약 :  crore winning auctioned for crore\n",
      "추출 요약 : \n",
      "\n",
      "\n",
      "원문 : union defence minister nirmala sitharaman husband andhra pradesh government communications advisor prabhakar tuesday resigned post claiming opposition using existence government mock government letter cm chandrababu naidu wrote today chief mohan reddy reduced struggle commitment hurt lot \n",
      "실제 요약 : nirmala sitharaman husband quits as andhra govt advisor \n",
      "예측 요약 :  congress cabinet nath disqualification from assembly\n",
      "추출 요약 : \n",
      "\n",
      "\n",
      "원문 : least people killed others injured suicide bomber blew afghanistan nangarhar province tuesday spokesperson governor nangarhar said group yet claimed responsibility attack came hours double bombing killed one person injured four others \n",
      "실제 요약 : killed injured in suicide attack in afghanistan \n",
      "예측 요약 :  killed injured in twin attack in afghanistan\n",
      "추출 요약 : \n",
      "\n",
      "\n",
      "원문 : new zealand post started delivering kfc city stem major revenue losses number people using postal service continues fall nz post spokesperson mike stewart said want survive another years need business kfc may start delivering food across half country \n",
      "실제 요약 : new zealand postal service starts delivering kfc \n",
      "예측 요약 :  china launches new cryptocurrency services\n",
      "추출 요약 : \n",
      "\n",
      "\n",
      "원문 : veteran singer asha honoured yash chopra memorial award friday fifth recipient award felicitated actress rekha ceremony previous recipients award amitabh bachchan rekha shah rukh khan \n",
      "실제 요약 : asha honoured with chopra memorial award \n",
      "예측 요약 :  am with pic with karan\n",
      "추출 요약 : \n",
      "\n",
      "\n",
      "원문 : students tata institute social sciences protesting management decision withdraw fee waivers provided students government pre scholarship scheme protests started february across including mumbai hyderabad give demands met student leaders said \n",
      "실제 요약 : students protest as varsity withdraws fee waiver \n",
      "예측 요약 :  delhi hc bans students over illegal\n",
      "추출 요약 : \n",
      "\n",
      "\n",
      "원문 : condemning recent instances vandalism leaders statues various states vice president venkaiah naidu wednesday termed incidents mad shameful told rajya sabha appropriate authorities take firm action guilty two statues communist icon lenin toppled tripura leader statue vandalised tamil nadu \n",
      "실제 요약 : statues of leaders shameful vice president \n",
      "예측 요약 :  president kovind kovind kovind passes away aged\n",
      "추출 요약 : \n",
      "\n",
      "\n",
      "원문 : release date kangana ranaut starrer manikarnika queen jhansi hrithik roshan starrer super per reports earlier release date kangana film announced january similar hrithik film reports added new release date kangana film decided yet \n",
      "실제 요약 : manikarnika to not clash with hrithik super report \n",
      "예측 요약 :  kangana ranaut starrer manikarnika hits the theatres\n",
      "추출 요약 : \n",
      "\n",
      "\n",
      "원문 : recently shut startup stayzilla co founder arrested unpaid dues client accused unpaid dues founder sameer addressing arrested co founder yogendra vasupal tweeted yogi tell paying us comes stayzilla founders claimed threatened client dues \n",
      "실제 요약 : stayzilla accused of unpaid dues by \n",
      "예측 요약 :  uber sues sexual harassment over sexual harassment\n",
      "추출 요약 : \n",
      "\n",
      "\n",
      "원문 : russia imposed minimum fine google tuesday telecom watchdog warned may ban technology giant fine came google failure comply state registry banned websites banned content search results russia may change legislation help block google deputy head said \n",
      "실제 요약 : may ban google over violations russian telecom watchdog \n",
      "예측 요약 :  whatsapp bans facial outage from aadhaar\n",
      "추출 요약 : \n",
      "\n",
      "\n",
      "원문 : russian world champion died sustaining head injuries street brawl russia brawl caught cctv reportedly started men argued sporting discipline better effective killer identified fled scene placed wanted list \n",
      "실제 요약 : russian champion killed in street brawl \n"
     ]
    },
    {
     "name": "stdout",
     "output_type": "stream",
     "text": [
      "예측 요약 :  world longest dies in china\n",
      "추출 요약 : \n",
      "\n",
      "\n",
      "원문 : former indian captain sunil gavaskar said according former captain ms dhoni play domestic cricket whenever gets opportunity gavaskar said dhoni playing limited overs domestic cricket also four day domestic cricket play four day game great feet gavaskar added \n",
      "실제 요약 : ms dhoni should play domestic cricket gavaskar \n",
      "예측 요약 :  dhoni has dhoni in cricket cricket\n",
      "추출 요약 : \n",
      "\n",
      "\n",
      "원문 : india men archery team gold medal men compound event asia cup stage bangkok saturday third seeded trio robert singh saini top seeded iran final champions meanwhile india women team silver competition \n",
      "실제 요약 : india wins team gold at asia cup \n",
      "예측 요약 :  india wins world first web\n",
      "추출 요약 : \n",
      "\n",
      "\n",
      "원문 : union health minister jp nadda presented new mental healthcare bill lok sabha attempted suicide since person step extreme mental stress means triggered mental illness minister said features bill include banning electric shock therapy mentally ill children \n",
      "실제 요약 : health minister bill to suicide attempt \n",
      "예측 요약 :  saudi arabia inaugurates setting of corruption\n",
      "추출 요약 : \n",
      "\n",
      "\n",
      "원문 : students kashmir valley clashed security forces resorted stone pelting colleges universities reopened monday officials said stone pelting students local college caused blockade one busiest roads srinagar added educational institutions remained closed week following protests students \n",
      "실제 요약 : clashes in as educational institutions reopen \n",
      "예측 요약 :  darjeeling schools agitation thunderstorm thunderstorm in lucknow\n",
      "추출 요약 : \n",
      "\n",
      "\n",
      "원문 : former cricketer sachin tendulkar actors including shah rukh khan ranbir kapoor priyanka chopra kangana ranaut aishwarya rai amitabh bachchan attended wedding reception virat kohli anushka sharma mumbai others attended reception included sridevi madhuri dixit karan johar sidharth malhotra rekha varun dhawan katrina kaif sister \n",
      "실제 요약 : sachin srk ranbir attend virat anushka mumbai reception \n",
      "예측 요약 :  deepika ranveer attend deepika attend varun birthday\n",
      "추출 요약 : \n",
      "\n",
      "\n",
      "원문 : former indian cricketer sachin tendulkar met indian wwe wrestler mahal alongside son arjun tendulkar mahal invited sachin wwe match scheduled held december sachin later tweeted make us proud thanks inviting us delhi wwe fans see th \n",
      "실제 요약 : sachin meets indian wwe wrestler mahal \n",
      "예측 요약 :  sachin tendulkar named sachin tendulkar with tendulkar\n",
      "추출 요약 : \n",
      "\n",
      "\n",
      "원문 : congress president rahul gandhi reportedly called congress party muslims union minister prakash javadekar said congress worst communal party always done communal politics added rahul gandhi said spirit constitution every principle democracy \n",
      "실제 요약 : javadekar slams rahul calls congress worst communal party \n",
      "예측 요약 :  congress is gujarat congress candidate\n",
      "추출 요약 : \n",
      "\n",
      "\n",
      "원문 : american technology company dell unveiled jewellery made gold recovered computer collected recycling programs collection unveiled ces designed collaboration american actress nikki reed dell gold process less harmful environment mining gold earth reed claimed \n",
      "실제 요약 : makes jewellery using gold recovered from \n",
      "예측 요약 :  tesla unveils limited edition priced at\n",
      "추출 요약 : \n",
      "\n",
      "\n",
      "원문 : bjp worker four family members found murdered residence maharashtra nagpur sunday incident came light failed respond several calls following locals barged home police suspect murders could committed due personal \n",
      "실제 요약 : bjp worker family members found murdered in nagpur \n",
      "예측 요약 :  bjp leader arrested for assaulting assaulting violence\n",
      "추출 요약 : \n",
      "\n",
      "\n",
      "원문 : french court upheld ruling denying citizenship muslim woman refused shake hands official woman said religious beliefs allow shake hands male official government claimed behaviour showed french community denied citizenship \n",
      "실제 요약 : muslim woman who refused handshake denied french citizenship \n",
      "예측 요약 :  muslim students to sex abuse in\n",
      "추출 요약 : \n",
      "\n",
      "\n",
      "원문 : number students scored marks year cbse class board exams rose last year girls boys year notably government schools saw pass percentage year results beating private schools whose pass percentage \n",
      "실제 요약 : students scoring above in cbse class rose in \n",
      "예측 요약 :  mumbai university to get students\n",
      "추출 요약 : \n",
      "\n",
      "\n",
      "원문 : bengaluru based lifestyle brand posted net loss crore fiscal year according filings net sales year rose crore total expenditure also saw rise crore founded sells designer shirts coffee shot glasses mouse pads posters among others \n",
      "실제 요약 : posts loss of crore for fiscal year \n",
      "예측 요약 :  profit rises to crore in revenue\n",
      "추출 요약 : \n",
      "\n",
      "\n",
      "원문 : raabta released friday lacks required pull theme like definitely good look wrote hindustan times missing raw passion required sell love story said toi watch raabta sushant jim wrote india today rated \n",
      "실제 요약 : kriti sanon sushant singh rajput hits theatres \n",
      "예측 요약 :  baahubali actor pagla deewana hits the theatres\n",
      "추출 요약 : \n",
      "\n",
      "\n",
      "원문 : shares south african lender bank holdings gained since specialises providing loans backed assets seen profit jump almost times since million february expanded faster nation four biggest banks adding million customers last fiscal alone \n",
      "실제 요약 : shares of south african bank since \n",
      "예측 요약 :  amazon shares crore in india\n",
      "추출 요약 : \n",
      "\n",
      "\n",
      "원문 : delhi based smart parking startup get parking tuesday raised million funding beenext ian fund indian angel network february startup raised million investors including hero corporate services chairman sunil munjal founded get parking lets users search book navigate legal parking lots particular area \n",
      "실제 요약 : smart parking platform get my parking raises million \n",
      "예측 요약 :  iit alumni tech startup raises million\n",
      "추출 요약 : \n",
      "\n",
      "\n",
      "원문 : terror outfit hizbul mujahideen monday claimed responsibility attack cash van jammu kashmir kulgam district outfit claimed two bank employees died attack killed crpf personnel attack vehicle intent loot cash enough cash hizbul mujahideen added \n",
      "실제 요약 : hizbul mujahideen claims responsibility of van attack \n",
      "예측 요약 :  militants killed in encounter in pulwama\n",
      "추출 요약 : \n",
      "\n",
      "\n",
      "원문 : former american baseball player singer jennifer boyfriend alex making notes birth control making debut major league baseball game written child birth control baby pull stuff statement talking spoken \n",
      "실제 요약 : boyfriend makes birth control notes while \n",
      "예측 요약 :  singer chris punches engaged to be auctioned\n",
      "추출 요약 : \n",
      "\n",
      "\n",
      "원문 : electric carmaker tesla rival faraday future reportedly raised billion startup investor jia yueting claimed yueting also taking startup chief executive officer reports added investors funding round unknown investment valued company billion reports highlighted \n",
      "실제 요약 : tesla rival faraday future raises billion reports \n",
      "예측 요약 :  bengaluru based startup raises million\n",
      "추출 요약 : \n",
      "\n",
      "\n",
      "원문 : years communal riots muzaffarnagar claimed least lives people hindus muslims prayers together unity meetings city hindus chant allah akbar muslims chant per reports last year victims communities agreed withdraw cases connection violence \n",
      "실제 요약 : hindus muslims prayers together in muzaffarnagar \n",
      "예측 요약 :  gorkhaland arrests policemen in chhattisgarh\n",
      "추출 요약 : \n",
      "\n",
      "\n",
      "원문 : british prime minister theresa may friday said form government supported northern ireland democratic party ruling conservative party failed retain majority snap general elections adding government provide stability lead britain eu may said continue work friends allies \n",
      "실제 요약 : will form new government uk pm theresa may \n",
      "예측 요약 :  venezuela imposes new sanctions against venezuela\n",
      "추출 요약 : \n",
      "\n",
      "\n",
      "원문 : tennis player roger federer revealed video scared dogs video federer seen court surrounded puppies swiss tennis player puppy jumped chest travelling impossible pets dog day said federer \n",
      "실제 요약 : roger federer reveals he is scared of dogs \n",
      "예측 요약 :  federer wins his open with serena federer\n",
      "추출 요약 : \n",
      "\n",
      "\n",
      "원문 : loan related frauds accounted pnb frauds according data rbi crore lost bank frauds crore related loan related frauds notably pnb accused billionaire jeweller nirav modi uncle mehul choksi fraudulent transactions worth billion \n",
      "실제 요약 : of all pnb frauds in related to loans \n",
      "예측 요약 :  crore crore income in rbi\n",
      "추출 요약 : \n",
      "\n",
      "\n",
      "원문 : income tax department attached seven properties gitanjali group promoter mehul choksi mumbai tax evasion probe department said action taken recover outstanding tax demands earlier attached banks accounts gitanjali group choksi \n",
      "실제 요약 : dept attaches properties of choksi gitanjali \n"
     ]
    },
    {
     "name": "stdout",
     "output_type": "stream",
     "text": [
      "예측 요약 :  dept raids probe for lakh lakh\n",
      "추출 요약 : \n",
      "\n",
      "\n",
      "원문 : kerala government temporarily banned trekking forest areas nine people killed forest fire trekking hills tamil nadu state forest department also directed take necessary prevent forest fires tour operators directed undertake activities \n",
      "실제 요약 : kerala temporarily bans after tn fire kills \n",
      "예측 요약 :  maharashtra police to get liquor\n",
      "추출 요약 : \n",
      "\n",
      "\n",
      "원문 : one man commission set tamil nadu government circumstances leading hospitalisation late cm jayalalithaa assumed charge friday assuming office commission headed retired high court justice would followed notification calling information agenda one man inquiry commission \n",
      "실제 요약 : commission into jayalalithaa death takes charge \n",
      "예측 요약 :  iit nadu hc gets online marriage\n",
      "추출 요약 : \n",
      "\n",
      "\n",
      "원문 : flyover bengaluru outer ring road construction eight years construction flyover completed within months commencement work flyover taken bangalore development authority halted owing problems land acquisition \n",
      "실제 요약 : flyover in bengaluru under construction for over years \n",
      "예측 요약 :  bengaluru lake to get kg in bengaluru\n",
      "추출 요약 : \n",
      "\n",
      "\n"
     ]
    }
   ],
   "source": [
    "# 테스트 데이터 약 50개의 샘플에 대해서 실제 요약과 예측된 요약을 비교해보세요.\n",
    "for i in range(50, 100):\n",
    "    print(\"원문 :\", seq2text(encoder_input_test[i]))\n",
    "    print(\"실제 요약 :\", seq2summary(decoder_input_test[i]))\n",
    "    print(\"예측 요약 :\", decode_sequence(encoder_input_test[i].reshape(1, text_max_len)))\n",
    "    print(\"추출 요약 :\", summarize(data['text'].iloc[i], ratio=1))\n",
    "    print(\"\\n\")\n",
    "    \n",
    "# 많은 결과가 출력이 되는데, 기존의 요약과는 다른 요약을 출력하면서도 원문의 내용을 담고 있는 의미 있는 요약들이 보이네요.\n",
    "# 심지어 일부 요약의 경우에는 원문에 없던 단어를 사용해서 요약을 하기도 하고 있어요.\n",
    "# 워드 임베딩과 RNN의 콜라보로 이뤄낸 신기한 성과네요!\n",
    "\n",
    "# 물론 슬프게도 그다지 좋지 않은 요약의 예도 꽤나 보이기도 하네요.\n",
    "# 성능을 개선하기 위해서는 seq2seq와 어텐션의 자체의 조합을 좀 더 좋게 수정하는 방법도 있고,\n",
    "# 빔 서치(beam search), 사전 훈련된 워드 임베딩(pre-trained word embedding),\n",
    "# 또는 인코더 - 디코더 자체의 구조를 새로이 변경한 하는 트랜스포머(Transformer)와 같은 여러 개선 방안들이 존재합니다.\n",
    "# 이런 방안들에 대해서도 향후 살펴보게 될 것입니다."
   ]
  },
  {
   "cell_type": "markdown",
   "id": "375984e2",
   "metadata": {},
   "source": [
    "# Extractive Summarization"
   ]
  },
  {
   "cell_type": "code",
   "execution_count": 88,
   "id": "b470f459",
   "metadata": {},
   "outputs": [
    {
     "data": {
      "text/plain": [
       "0        Saurav Kant, an alumnus of upGrad and IIIT-B's...\n",
       "1        Kunal Shah's credit card bill payment platform...\n",
       "2        New Zealand defeated India by 8 wickets in the...\n",
       "3        With Aegon Life iTerm Insurance plan, customer...\n",
       "4        Speaking about the sexual harassment allegatio...\n",
       "                               ...                        \n",
       "98396    A CRPF jawan was on Tuesday axed to death with...\n",
       "98397    'Uff Yeh', the first song from the Sonakshi Si...\n",
       "98398    According to reports, a new version of the 199...\n",
       "98399    A new music video shows rapper Snoop Dogg aimi...\n",
       "98400    Madhesi Morcha, an alliance of seven political...\n",
       "Name: text, Length: 98401, dtype: object"
      ]
     },
     "execution_count": 88,
     "metadata": {},
     "output_type": "execute_result"
    }
   ],
   "source": [
    "# 매트릭스 시놉시스를 다운로드 해주세요.\n",
    "data = pd.read_csv('news_summary_more.csv')\n",
    "text = data['text']\n",
    "text"
   ]
  },
  {
   "cell_type": "code",
   "execution_count": null,
   "id": "f1efd02f",
   "metadata": {
    "scrolled": true
   },
   "outputs": [],
   "source": [
    "# pandas.Series.str.cat\n",
    "# text = text[50:100].str.cat(sep='\\n')"
   ]
  },
  {
   "cell_type": "code",
   "execution_count": 89,
   "id": "0412325c",
   "metadata": {},
   "outputs": [
    {
     "name": "stdout",
     "output_type": "stream",
     "text": [
      "50    Former Finance Minister Yashwant Sinha on Tues...\n",
      "51    US-based Boeing on Wednesday reported annual s...\n",
      "52                                                 text\n",
      "53    OnePlus has emerged as India's best-selling pr...\n",
      "54    Filmmaker Pooja Bhatt, while talking about the...\n",
      "55    Actress Mishti, who has featured in 'Manikarni...\n",
      "56    The high-powered committee led by PM Narendra ...\n",
      "57    Nevada State Athletic Commission has banned MM...\n",
      "58    Pakistan captain Sarfaraz Ahmed, who has been ...\n",
      "59    Banned cricketer Sreesanth has told Supreme Co...\n",
      "60    The Finance Ministry on Wednesday said the gov...\n",
      "61    US President Donald Trump on Wednesday called ...\n",
      "62    A senior priest at the Vatican who handled cas...\n",
      "63    A 22-year-old writer turned down a job offer, ...\n",
      "64    Noida Police has arrested Sector 20 station in...\n",
      "65    Airtel on Wednesday said that Qatar's sovereig...\n",
      "66    Actor Shreyas Talpade said that 'Golmaal' film...\n",
      "67    A 72-year-old man named Terry Sanderson has su...\n",
      "68    Yami Gautam was felicitated by Border Security...\n",
      "69    Social media giant Facebook has hired privacy ...\n",
      "70    Apple CEO Tim Cook said the company plans to l...\n",
      "71    Scientists in Australia's Flinders University ...\n",
      "72    BJP National Secretary Rahul Sinha on Wednesda...\n",
      "73    BJP President Amit Shah on Wednesday took a di...\n",
      "74    German automaker Volkswagen Group has retained...\n",
      "75    Ousted Nissan Chairman Carlos Ghosn has said h...\n",
      "76    The government has cut down customs duty on im...\n",
      "77    Government officials on Wednesday said that a ...\n",
      "78    North Korea is \"unlikely to completely give up...\n",
      "79    Jet Airways on Wednesday denied it was directe...\n",
      "80    Retired Justice Srikrishna's enquiry panel has...\n",
      "81    Ex-India cricketer Jacob Martin has been shift...\n",
      "82    Sri Lanka all-rounder Thisara Perera has writt...\n",
      "83    Goa CM and ex-Defence Minister Manohar Parrika...\n",
      "84    Prime Minister Narendra Modi stopped his speec...\n",
      "85    A couple got divorced minutes after their wedd...\n",
      "86    Gujarat Education Minister Bhupendrasinh Chuda...\n",
      "87    Venezuelan President NicolÃ¡s Maduro has claim...\n",
      "88    Eight Asian billionaires aged 90 or above on t...\n",
      "89    Tamil Nadu food safety officials on Wednesday ...\n",
      "90    Actress Shamita Shetty was verbally abused and...\n",
      "91    Actress Vaani Kapoor said that trolling has be...\n",
      "92    Actress Sushmita Sen took to Instagram to shar...\n",
      "93    Television actor Karanvir Bohra, who flew to R...\n",
      "94    While speaking about winning awards for his fi...\n",
      "95    Actress Patralekhaa will make her debut in the...\n",
      "96    Gmail on Tuesday faced a global outage, which ...\n",
      "97    Shiv Sena chief Uddhav Thackeray has asked the...\n",
      "98    BJP President Amit Shah on Wednesday took a di...\n",
      "99    Prime Minister Narendra Modi on Wednesday said...\n",
      "Name: text, dtype: object\n"
     ]
    }
   ],
   "source": [
    "# 이제 text에는 매트릭스 시놉시스가 문자열로 저장돼 있어요.\n",
    "# 출력 결과가 아주 길기 때문에 일부만 출력해보고, 잘 저장이 되었는지 확인해볼게요.\n",
    "print(text[50:100])"
   ]
  },
  {
   "cell_type": "code",
   "execution_count": 90,
   "id": "fa6cc5e2",
   "metadata": {
    "scrolled": false
   },
   "outputs": [
    {
     "name": "stdout",
     "output_type": "stream",
     "text": [
      "Former Finance Minister Yashwant Sinha on Tuesday demanded a probe into the alleged diversion of loans worth â¹31,000 crore by Dewan Housing Finance (DHFL).\n",
      "Boeing retained its position as the world's largest planemaker for the seventh straight year, delivering 806 aircraft in 2018.\n",
      "\n",
      "Further, its OnePlus 6 emerged as the highest selling premium smartphone of 2018 followed by OnePlus 6T.\n",
      "\n",
      "\n",
      "\n",
      "Nevada State Athletic Commission has banned MMA fighters Conor McGregor and Khabib Nurmagomedov for six months and nine months respectively over their roles in the mass brawl that occurred after their fight at UFC 229 last October.\n",
      "Pakistan captain Sarfaraz Ahmed, who has been banned for four matches over racist remarks, took an apparent dig at his critics by sharing a video of a child reciting 'log hai na' poem on Twitter.\n",
      "Sreesanth further said the bookie tried dragging him into spot-fixing but he didn't fall for it.\n",
      "The Finance Ministry on Wednesday said the government will present an Interim Budget on February 1.\n",
      "US President Donald Trump on Wednesday called his country's top intelligence chiefs \"naive\" and \"wrong\" on Iran and added that they should perhaps \"go back to school\".\n",
      "A senior priest at the Vatican who handled cases of sexual abuse has quit after being accused of sexual abuse by a former nun.\n",
      "A 22-year-old writer turned down a job offer, claiming she was bullied to the point of tears during her two-hour interview by a UK company's CEO.\n",
      "Noida Police has arrested Sector 20 station in-charge Manoj Pant and three journalists for allegedly extorting money from a call centre owner for removing his name from an FIR.\n",
      "Airtel Africa, the holding company for Airtel's operations in 14 African countries, is preparing for an initial public offering.\n",
      "Actor Shreyas Talpade said that 'Golmaal' filmmaker Rohit Shetty is still working on the script for the fifth instalment of the 'Golmaal' film franchise.\n",
      "A 72-year-old man named Terry Sanderson has sued 'Avengers' actress Gwyneth Paltrow for allegedly crashing into him while skiing, and is seeking $3.1 million (over â¹22 crore) in damages.\n",
      "Yami Gautam was felicitated by Border Security Force (BSF) in Amritsar for her performance in 'Uri: The Surgical Strike'.\n",
      "\n",
      "\"Weâve decided to go back to (iPhone prices) more commensurate with...local prices...a year ago,\" Cook added.\n",
      "\"The majority of fatalities from shark bites is due to blood loss...shock from blood loss,\" a scientist said.\n",
      "BJP National Secretary Rahul Sinha on Wednesday asked the party workers in West Bengal to come armed with sticks to PM Narendra Modi's rally in the state on February 2.\n",
      "BJP President Amit Shah on Wednesday took a dig at the Opposition parties saying that the 'mahagathbandhan' for the Opposition is 4B - \"Bua-Bhatija-Bhai-Behen\".\n",
      "Volkswagen's sales, including its MAN and Scania heavy trucks and buses, rose 0.9% to 10.83 million in 2018, the company had said.\n",
      "Ousted Nissan Chairman Carlos Ghosn has said his arrest over alleged financial misconduct was led by \"plot and treason\" by the Japanese carmaker's executives who opposed its deeper integration with Renault and Mitsubishi.\n",
      "The government has cut down customs duty on import of parts and components for electric vehicles to 10-15%, down from the previous 15-30%.\n",
      "Government officials on Wednesday said that a swine flu outbreak has killed 76 people this year in Rajasthan.\n",
      "\"North Korean leaders view nuclear arms as critical to regime survival,\" he added.\n",
      "Further, three aircraft have been temporarily grounded to carry out an engine normalisation exercise, it added.\n",
      "Retired Justice Srikrishna's enquiry panel has found that ex-CEO Chanda Kochhar violated ICICI Bank's code of conduct.\n",
      "Ex-India cricketer Jacob Martin has been shifted to general ward from the ICU after being on a ventilator for nearly a month following a road accident, wherein he severely injured his lungs.\n",
      "Tanya accused Perera of meeting country's Sports Minister to secure his place in the team.\n",
      "\n",
      "PM Modi then asked his officers to urgently arrange for an ambulance for the cameraman.\n",
      "A couple got divorced minutes after their wedding ceremony got over in Gujarat's Gondal as a disagreement broke out and relatives from both sides started throwing dishes at each other during lunch.\n",
      "\n",
      "Venezuelan President NicolÃ¡s Maduro has claimed that his American counterpart Donald Trump ordered the Colombian government and the Colombian mafia to kill him.\n",
      "The richest among them is Hong Kong's Li Ka Shing with a net worth of $30.5 billion.\n",
      "Tamil Nadu food safety officials on Wednesday raided and seized 1,000 kgs of banned plastic items from Hotel Saravana Bhavan in Chennai's Vadapalani.\n",
      "Actress Shamita Shetty was verbally abused and her driver was slapped in an incident of road rage in Mumbai on Tuesday, as per reports.\n",
      "\n",
      "\"This is an insult to [the] beauty of marriage,\" an Instagram user commented on her post.\n",
      "Television actor Karanvir Bohra, who flew to Russia on Tuesday to attend a film festival, has been detained in Moscow due to passport damage.\n",
      "\n",
      "\n",
      "Gmail on Tuesday faced a global outage, which also affected India, wherein certain users complained they faced a '404 error' message while trying to sign-in to their accounts.\n",
      "Shiv Sena chief Uddhav Thackeray has asked the BJP to decide about the alliance with the Sena within 15 days and said the BJP should make a concrete proposal on the alliance.\n",
      "He said the Opposition is thinking about leading the country but does not have a leader.\n",
      "He added decisions like demonetisation and RERA have put a check on black money that used to be \"parked in the real estate sector\".\n"
     ]
    }
   ],
   "source": [
    "for i in range(50,100):\n",
    "    print(summarize(text[i], ratio=0.4))"
   ]
  },
  {
   "cell_type": "code",
   "execution_count": 91,
   "id": "126025f8",
   "metadata": {},
   "outputs": [
    {
     "name": "stdout",
     "output_type": "stream",
     "text": [
      "['Former Finance Minister Yashwant Sinha on Tuesday demanded a probe into the alleged diversion of loans worth â\\x82¹31,000 crore by Dewan Housing Finance (DHFL).']\n",
      "[\"Boeing retained its position as the world's largest planemaker for the seventh straight year, delivering 806 aircraft in 2018.\"]\n",
      "[]\n",
      "['Further, its OnePlus 6 emerged as the highest selling premium smartphone of 2018 followed by OnePlus 6T.']\n",
      "[]\n",
      "[]\n",
      "[]\n",
      "['Nevada State Athletic Commission has banned MMA fighters Conor McGregor and Khabib Nurmagomedov for six months and nine months respectively over their roles in the mass brawl that occurred after their fight at UFC 229 last October.']\n",
      "[\"Pakistan captain Sarfaraz Ahmed, who has been banned for four matches over racist remarks, took an apparent dig at his critics by sharing a video of a child reciting 'log hai na' poem on Twitter.\"]\n",
      "[\"Sreesanth further said the bookie tried dragging him into spot-fixing but he didn't fall for it.\"]\n",
      "['The Finance Ministry on Wednesday said the government will present an Interim Budget on February 1.']\n",
      "['US President Donald Trump on Wednesday called his country\\'s top intelligence chiefs \"naive\" and \"wrong\" on Iran and added that they should perhaps \"go back to school\".']\n",
      "['A senior priest at the Vatican who handled cases of sexual abuse has quit after being accused of sexual abuse by a former nun.']\n",
      "[\"A 22-year-old writer turned down a job offer, claiming she was bullied to the point of tears during her two-hour interview by a UK company's CEO.\"]\n",
      "['Noida Police has arrested Sector 20 station in-charge Manoj Pant and three journalists for allegedly extorting money from a call centre owner for removing his name from an FIR.']\n",
      "[\"Airtel Africa, the holding company for Airtel's operations in 14 African countries, is preparing for an initial public offering.\"]\n",
      "[\"Actor Shreyas Talpade said that 'Golmaal' filmmaker Rohit Shetty is still working on the script for the fifth instalment of the 'Golmaal' film franchise.\"]\n",
      "[\"A 72-year-old man named Terry Sanderson has sued 'Avengers' actress Gwyneth Paltrow for allegedly crashing into him while skiing, and is seeking $3.1 million (over â\\x82¹22 crore) in damages.\"]\n",
      "[\"Yami Gautam was felicitated by Border Security Force (BSF) in Amritsar for her performance in 'Uri: The Surgical Strike'.\"]\n",
      "[]\n",
      "['\"Weâ\\x80\\x99ve decided to go back to (iPhone prices) more commensurate with...local prices...a year ago,\" Cook added.']\n",
      "['\"The majority of fatalities from shark bites is due to blood loss...shock from blood loss,\" a scientist said.']\n",
      "[\"BJP National Secretary Rahul Sinha on Wednesday asked the party workers in West Bengal to come armed with sticks to PM Narendra Modi's rally in the state on February 2.\"]\n",
      "['BJP President Amit Shah on Wednesday took a dig at the Opposition parties saying that the \\'mahagathbandhan\\' for the Opposition is 4B - \"Bua-Bhatija-Bhai-Behen\".']\n",
      "[\"Volkswagen's sales, including its MAN and Scania heavy trucks and buses, rose 0.9% to 10.83 million in 2018, the company had said.\"]\n",
      "['Ousted Nissan Chairman Carlos Ghosn has said his arrest over alleged financial misconduct was led by \"plot and treason\" by the Japanese carmaker\\'s executives who opposed its deeper integration with Renault and Mitsubishi.']\n",
      "['The government has cut down customs duty on import of parts and components for electric vehicles to 10-15%, down from the previous 15-30%.']\n",
      "['Government officials on Wednesday said that a swine flu outbreak has killed 76 people this year in Rajasthan.']\n",
      "['\"North Korean leaders view nuclear arms as critical to regime survival,\" he added.']\n",
      "['Further, three aircraft have been temporarily grounded to carry out an engine normalisation exercise, it added.']\n",
      "[\"Retired Justice Srikrishna's enquiry panel has found that ex-CEO Chanda Kochhar violated ICICI Bank's code of conduct.\"]\n",
      "['Ex-India cricketer Jacob Martin has been shifted to general ward from the ICU after being on a ventilator for nearly a month following a road accident, wherein he severely injured his lungs.']\n",
      "[\"Tanya accused Perera of meeting country's Sports Minister to secure his place in the team.\"]\n",
      "[]\n",
      "['PM Modi then asked his officers to urgently arrange for an ambulance for the cameraman.']\n",
      "[\"A couple got divorced minutes after their wedding ceremony got over in Gujarat's Gondal as a disagreement broke out and relatives from both sides started throwing dishes at each other during lunch.\"]\n",
      "[]\n",
      "['Venezuelan President NicolÃ¡s Maduro has claimed that his American counterpart Donald Trump ordered the Colombian government and the Colombian mafia to kill him.']\n",
      "[\"The richest among them is Hong Kong's Li Ka Shing with a net worth of $30.5 billion.\"]\n",
      "[\"Tamil Nadu food safety officials on Wednesday raided and seized 1,000 kgs of banned plastic items from Hotel Saravana Bhavan in Chennai's Vadapalani.\"]\n",
      "['Actress Shamita Shetty was verbally abused and her driver was slapped in an incident of road rage in Mumbai on Tuesday, as per reports.']\n",
      "[]\n",
      "['\"This is an insult to [the] beauty of marriage,\" an Instagram user commented on her post.']\n",
      "['Television actor Karanvir Bohra, who flew to Russia on Tuesday to attend a film festival, has been detained in Moscow due to passport damage.']\n",
      "[]\n",
      "[]\n",
      "[\"Gmail on Tuesday faced a global outage, which also affected India, wherein certain users complained they faced a '404 error' message while trying to sign-in to their accounts.\"]\n",
      "['Shiv Sena chief Uddhav Thackeray has asked the BJP to decide about the alliance with the Sena within 15 days and said the BJP should make a concrete proposal on the alliance.']\n",
      "['He said the Opposition is thinking about leading the country but does not have a leader.']\n",
      "['He added decisions like demonetisation and RERA have put a check on black money that used to be \"parked in the real estate sector\".']\n"
     ]
    }
   ],
   "source": [
    "for i in range(50,100):\n",
    "    print(summarize(text[i], ratio=0.4, split=True))"
   ]
  },
  {
   "cell_type": "code",
   "execution_count": 92,
   "id": "3166e473",
   "metadata": {},
   "outputs": [
    {
     "name": "stdout",
     "output_type": "stream",
     "text": [
      "\n",
      "\n",
      "\n",
      "\n",
      "\n",
      "\n",
      "\n",
      "\n",
      "\n",
      "Sreesanth further said the bookie tried dragging him into spot-fixing but he didn't fall for it.\n",
      "The Finance Ministry on Wednesday said the government will present an Interim Budget on February 1.\n",
      "\n",
      "\n",
      "\n",
      "\n",
      "\n",
      "\n",
      "\n",
      "\n",
      "\n",
      "\"Weâve decided to go back to (iPhone prices) more commensurate with...local prices...a year ago,\" Cook added.\n",
      "\n",
      "\n",
      "\n",
      "\n",
      "\n",
      "\n",
      "\n",
      "\"North Korean leaders view nuclear arms as critical to regime survival,\" he added.\n",
      "Further, three aircraft have been temporarily grounded to carry out an engine normalisation exercise, it added.\n",
      "\n",
      "\n",
      "Tanya accused Perera of meeting country's Sports Minister to secure his place in the team.\n",
      "\n",
      "PM Modi then asked his officers to urgently arrange for an ambulance for the cameraman.\n",
      "\n",
      "\n",
      "\n",
      "\n",
      "\n",
      "\n",
      "\n",
      "\"This is an insult to [the] beauty of marriage,\" an Instagram user commented on her post.\n",
      "\n",
      "\n",
      "\n",
      "\n",
      "\n",
      "He said the Opposition is thinking about leading the country but does not have a leader.\n",
      "\n"
     ]
    }
   ],
   "source": [
    "for i in range(50,100):\n",
    "    print(summarize(text[i], words=headlines_max_len))"
   ]
  },
  {
   "cell_type": "code",
   "execution_count": null,
   "id": "9c204848",
   "metadata": {},
   "outputs": [],
   "source": [
    "# Summa의 summarize()의 인자로 사용되는 값들에 대해서 알아볼게요.\n",
    "\n",
    "# text (str) : 요약할 테스트.\n",
    "# ratio (float, optional) – 요약문에서 원본에서 선택되는 문장 비율. 0~1 사이값\n",
    "# words (int or None, optional) – 출력에 포함할 단어 수.\n",
    "# 만약, ratio와 함께 두 파라미터가 모두 제공되는 경우 ratio는 무시한다.\n",
    "# split (bool, optional) – True면 문장 list / False는 조인(join)된 문자열을 반환\n",
    "\n",
    "# Summa의 summarize는 문장 토큰화를 별도로 하지 않더라도 내부적으로 문장 토큰화를 수행해요.\n",
    "# 그렇기 때문에 문장 구분이 되어있지 않은 원문을 바로 입력으로 넣을 수 있어요.\n",
    "# 비율을 적게 주어서 요약문으로 선택되는 문장의 개수를 줄여볼게요. 원문의 0.005%만을 출력하도록 설정했어요.\n",
    "\n",
    "print('Summary:')\n",
    "print(summarize(text, ratio=0.005)) # increase ratio"
   ]
  },
  {
   "cell_type": "code",
   "execution_count": null,
   "id": "c822a878",
   "metadata": {},
   "outputs": [],
   "source": [
    "# 만약 리스트로 출력 결과를 받고 싶다면 split 인자의 값을 True로 하면 돼요.\n",
    "print('Summary:')\n",
    "print(summarize(text, ratio=0.005, split=True)) # increase ratio"
   ]
  },
  {
   "cell_type": "code",
   "execution_count": null,
   "id": "513c4059",
   "metadata": {},
   "outputs": [],
   "source": [
    "# 단어의 수로 요약문의 크기를 조절할 수도 있어요. 단어를 50개만 선택하도록 해보세요.\n",
    "print('Summary:')\n",
    "print(summarize(text, words=5))"
   ]
  },
  {
   "cell_type": "markdown",
   "id": "e280890a",
   "metadata": {},
   "source": [
    "# 회고\n",
    "\n",
    "1회차\n",
    "- regex를 이용한 전처리 부분에서 너무 오랜 시간이 걸리기에 다른 방식으로 구현해 보기로 하였다.\n",
    "\n",
    "2회차\n",
    "- "
   ]
  },
  {
   "cell_type": "code",
   "execution_count": null,
   "id": "4c017b39",
   "metadata": {},
   "outputs": [],
   "source": []
  }
 ],
 "metadata": {
  "kernelspec": {
   "display_name": "Python 3 (ipykernel)",
   "language": "python",
   "name": "python3"
  },
  "language_info": {
   "codemirror_mode": {
    "name": "ipython",
    "version": 3
   },
   "file_extension": ".py",
   "mimetype": "text/x-python",
   "name": "python",
   "nbconvert_exporter": "python",
   "pygments_lexer": "ipython3",
   "version": "3.9.7"
  }
 },
 "nbformat": 4,
 "nbformat_minor": 5
}
