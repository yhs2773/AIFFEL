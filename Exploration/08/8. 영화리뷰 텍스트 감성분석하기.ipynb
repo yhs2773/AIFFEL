{
 "cells": [
  {
   "cell_type": "markdown",
   "id": "c102f802",
   "metadata": {},
   "source": [
    "# Preprocessing"
   ]
  },
  {
   "cell_type": "code",
   "execution_count": 1,
   "id": "c0b7c9c8",
   "metadata": {},
   "outputs": [],
   "source": [
    "import pandas\n",
    "import konlpy\n",
    "import gensim\n",
    "import os\n",
    "import pandas as pd\n",
    "import numpy as np\n",
    "import tensorflow as tf\n",
    "import matplotlib.pyplot as plt\n",
    "\n",
    "from konlpy.tag import Mecab\n",
    "from collections import Counter"
   ]
  },
  {
   "cell_type": "code",
   "execution_count": 2,
   "id": "7b2f0541",
   "metadata": {},
   "outputs": [
    {
     "data": {
      "text/html": [
       "<div>\n",
       "<style scoped>\n",
       "    .dataframe tbody tr th:only-of-type {\n",
       "        vertical-align: middle;\n",
       "    }\n",
       "\n",
       "    .dataframe tbody tr th {\n",
       "        vertical-align: top;\n",
       "    }\n",
       "\n",
       "    .dataframe thead th {\n",
       "        text-align: right;\n",
       "    }\n",
       "</style>\n",
       "<table border=\"1\" class=\"dataframe\">\n",
       "  <thead>\n",
       "    <tr style=\"text-align: right;\">\n",
       "      <th></th>\n",
       "      <th>id</th>\n",
       "      <th>document</th>\n",
       "      <th>label</th>\n",
       "    </tr>\n",
       "  </thead>\n",
       "  <tbody>\n",
       "    <tr>\n",
       "      <th>0</th>\n",
       "      <td>6270596</td>\n",
       "      <td>굳 ㅋ</td>\n",
       "      <td>1</td>\n",
       "    </tr>\n",
       "    <tr>\n",
       "      <th>1</th>\n",
       "      <td>9274899</td>\n",
       "      <td>GDNTOPCLASSINTHECLUB</td>\n",
       "      <td>0</td>\n",
       "    </tr>\n",
       "    <tr>\n",
       "      <th>2</th>\n",
       "      <td>8544678</td>\n",
       "      <td>뭐야 이 평점들은.... 나쁘진 않지만 10점 짜리는 더더욱 아니잖아</td>\n",
       "      <td>0</td>\n",
       "    </tr>\n",
       "    <tr>\n",
       "      <th>3</th>\n",
       "      <td>6825595</td>\n",
       "      <td>지루하지는 않은데 완전 막장임... 돈주고 보기에는....</td>\n",
       "      <td>0</td>\n",
       "    </tr>\n",
       "    <tr>\n",
       "      <th>4</th>\n",
       "      <td>6723715</td>\n",
       "      <td>3D만 아니었어도 별 다섯 개 줬을텐데.. 왜 3D로 나와서 제 심기를 불편하게 하죠??</td>\n",
       "      <td>0</td>\n",
       "    </tr>\n",
       "  </tbody>\n",
       "</table>\n",
       "</div>"
      ],
      "text/plain": [
       "        id                                           document  label\n",
       "0  6270596                                                굳 ㅋ      1\n",
       "1  9274899                               GDNTOPCLASSINTHECLUB      0\n",
       "2  8544678             뭐야 이 평점들은.... 나쁘진 않지만 10점 짜리는 더더욱 아니잖아      0\n",
       "3  6825595                   지루하지는 않은데 완전 막장임... 돈주고 보기에는....      0\n",
       "4  6723715  3D만 아니었어도 별 다섯 개 줬을텐데.. 왜 3D로 나와서 제 심기를 불편하게 하죠??      0"
      ]
     },
     "execution_count": 2,
     "metadata": {},
     "output_type": "execute_result"
    }
   ],
   "source": [
    "# 데이터를 읽어봅시다. \n",
    "train_data = pd.read_table('~/aiffel/sentiment_classification/data/ratings_train.txt')\n",
    "test_data = pd.read_table('~/aiffel/sentiment_classification/data/ratings_test.txt')\n",
    "\n",
    "train_data.head()\n",
    "test_data.head()"
   ]
  },
  {
   "cell_type": "markdown",
   "id": "4d0278a0",
   "metadata": {},
   "source": [
    "# Tokenization"
   ]
  },
  {
   "cell_type": "code",
   "execution_count": 3,
   "id": "86220326",
   "metadata": {},
   "outputs": [],
   "source": [
    "# tokenizing Korean\n",
    "tokenizer = Mecab()\n",
    "stopwords = ['의','가','이','은','들','는','좀','잘','걍','과','도','를','으로','자','에','와','한','하다']\n",
    "\n",
    "def load_data(train_data, test_data, num_words=10000):\n",
    "    train_data.drop_duplicates(subset=['document'], inplace=True)\n",
    "    train_data = train_data.dropna(how = 'any') \n",
    "    test_data.drop_duplicates(subset=['document'], inplace=True)\n",
    "    test_data = test_data.dropna(how = 'any') \n",
    "    \n",
    "    X_train = []\n",
    "    for sentence in train_data['document']:\n",
    "        temp_X = tokenizer.morphs(sentence) # 토큰화\n",
    "        temp_X = [word for word in temp_X if not word in stopwords] # 불용어 제거\n",
    "        X_train.append(temp_X)\n",
    "\n",
    "    X_test = []\n",
    "    for sentence in test_data['document']:\n",
    "        temp_X = tokenizer.morphs(sentence) # 토큰화\n",
    "        temp_X = [word for word in temp_X if not word in stopwords] # 불용어 제거\n",
    "        X_test.append(temp_X)\n",
    "    \n",
    "    words = np.concatenate(X_train).tolist()\n",
    "    counter = Counter(words)\n",
    "    counter = counter.most_common(10000-4)\n",
    "    vocab = ['<PAD>', '<BOS>', '<UNK>', ''] + [key for key, _ in counter]\n",
    "    word_to_index = {word:index for index, word in enumerate(vocab)} # word to index dict\n",
    "        \n",
    "    def wordlist_to_indexlist(wordlist):\n",
    "        return [word_to_index[word] if word in word_to_index else word_to_index[''] for word in wordlist]\n",
    "        \n",
    "    X_train = list(map(wordlist_to_indexlist, X_train))\n",
    "    X_test = list(map(wordlist_to_indexlist, X_test))\n",
    "        \n",
    "    return X_train, np.array(list(train_data['label'])), X_test, np.array(list(test_data['label'])), word_to_index\n",
    "    \n",
    "X_train, y_train, X_test, y_test, word_to_index = load_data(train_data, test_data)"
   ]
  },
  {
   "cell_type": "code",
   "execution_count": 4,
   "id": "70573b12",
   "metadata": {},
   "outputs": [],
   "source": [
    "# index to word dict\n",
    "index_to_word = {index:word for word, index in word_to_index.items()}"
   ]
  },
  {
   "cell_type": "code",
   "execution_count": 5,
   "id": "9d14532d",
   "metadata": {},
   "outputs": [],
   "source": [
    "# 문장 1개를 활용할 딕셔너리와 함께 주면, 단어 인덱스 리스트 벡터로 변환해 주는 함수입니다. \n",
    "# 단, 모든 문장은 <BOS>로 시작하는 것으로 합니다. \n",
    "def get_encoded_sentence(sentence, word_to_index):\n",
    "    return [word_to_index['<BOS>']]+[word_to_index[word] if word in word_to_index else word_to_index['<UNK>'] for word in sentence]\n",
    "\n",
    "# 여러 개의 문장 리스트를 한꺼번에 단어 인덱스 리스트 벡터로 encode해 주는 함수입니다. \n",
    "def get_encoded_sentences(sentences, word_to_index):\n",
    "    return [get_encoded_sentence(sentence, word_to_index) for sentence in sentences]\n",
    "\n",
    "# 숫자 벡터로 encode된 문장을 원래대로 decode하는 함수입니다. \n",
    "def get_decoded_sentence(encoded_sentence, index_to_word):\n",
    "    return ' '.join(index_to_word[index] if index in index_to_word else '<UNK>' for index in encoded_sentence[1:])  #[1:]를 통해 <BOS>를 제외\n",
    "\n",
    "# 여러 개의 숫자 벡터로 encode된 문장을 한꺼번에 원래대로 decode하는 함수입니다. \n",
    "def get_decoded_sentences(encoded_sentences, index_to_word):\n",
    "    return [get_decoded_sentence(encoded_sentence, index_to_word) for encoded_sentence in encoded_sentences]"
   ]
  },
  {
   "cell_type": "code",
   "execution_count": 6,
   "id": "3fd533b3",
   "metadata": {},
   "outputs": [
    {
     "name": "stdout",
     "output_type": "stream",
     "text": [
      "문장길이 평균 :  15.96940191154864\n",
      "문장길이 최대 :  116\n",
      "문장길이 표준편차 :  12.843571191092\n",
      "pad_sequences maxlen :  41\n",
      "전체 문장의 0.9342988343341575%가 maxlen 설정값 이내에 포함됩니다. \n"
     ]
    }
   ],
   "source": [
    "total_data_text = list(X_train) + list(X_test)\n",
    "# 텍스트데이터 문장길이의 리스트를 생성한 후\n",
    "num_tokens = [len(tokens) for tokens in total_data_text]\n",
    "num_tokens = np.array(num_tokens)\n",
    "# 문장길이의 평균값, 최대값, 표준편차를 계산해 본다. \n",
    "print('문장길이 평균 : ', np.mean(num_tokens))\n",
    "print('문장길이 최대 : ', np.max(num_tokens))\n",
    "print('문장길이 표준편차 : ', np.std(num_tokens))\n",
    "\n",
    "# 예를들어, 최대 길이를 (평균 + 2*표준편차)로 한다면,  \n",
    "max_tokens = np.mean(num_tokens) + 2 * np.std(num_tokens)\n",
    "maxlen = int(max_tokens)\n",
    "print('pad_sequences maxlen : ', maxlen)\n",
    "print('전체 문장의 {}%가 maxlen 설정값 이내에 포함됩니다. '.format(np.sum(num_tokens < max_tokens) / len(num_tokens)))"
   ]
  },
  {
   "cell_type": "code",
   "execution_count": 7,
   "id": "aa8b23fb",
   "metadata": {},
   "outputs": [],
   "source": [
    "# change both types from list to ndarray\n",
    "X_train = np.array(get_encoded_sentences(X_train, word_to_index), dtype='object')\n",
    "X_test = np.array(get_encoded_sentences(X_test, word_to_index), dtype='object')"
   ]
  },
  {
   "cell_type": "code",
   "execution_count": 8,
   "id": "2b9a536a",
   "metadata": {},
   "outputs": [],
   "source": [
    "# add padding upto the length of the longest sentence\n",
    "X_train = tf.keras.preprocessing.sequence.pad_sequences(X_train, maxlen=maxlen)\n",
    "X_test = tf.keras.preprocessing.sequence.pad_sequences(X_test, maxlen=maxlen)"
   ]
  },
  {
   "cell_type": "code",
   "execution_count": null,
   "id": "da4f8196",
   "metadata": {},
   "outputs": [],
   "source": []
  },
  {
   "cell_type": "markdown",
   "id": "74d228dd",
   "metadata": {},
   "source": [
    "# Text classification"
   ]
  },
  {
   "cell_type": "markdown",
   "id": "da4f1296",
   "metadata": {},
   "source": [
    "### RNN"
   ]
  },
  {
   "cell_type": "code",
   "execution_count": 9,
   "id": "d83f89c0",
   "metadata": {},
   "outputs": [],
   "source": [
    "# vocab_size = len(word_to_index)  # 위 예시에서 딕셔너리에 포함된 단어 개수는 10\n",
    "# word_vector_dim = 4    # 그림과 같이 4차원의 워드 벡터를 가정합니다.\n",
    "\n",
    "# embedding = tf.keras.layers.Embedding(input_dim=vocab_size, output_dim=word_vector_dim, mask_zero=True)\n",
    "\n",
    "# # tf.keras.preprocessing.sequence.pad_sequences를 통해 word vector를 모두 일정 길이로 맞춰주어야 \n",
    "# # embedding 레이어의 input이 될 수 있음에 주의해 주세요. \n",
    "# raw_inputs = np.array(get_encoded_sentences(sentences, word_to_index), dtype=object)\n",
    "# raw_inputs = tf.keras.preprocessing.sequence.pad_sequences(raw_inputs,\n",
    "#                                                        value=word_to_index['<PAD>'],\n",
    "#                                                        padding='pre',\n",
    "#                                                        maxlen=max_len)\n",
    "# output = embedding(raw_inputs)\n",
    "# print(output)"
   ]
  },
  {
   "cell_type": "code",
   "execution_count": 10,
   "id": "d8c8ddec",
   "metadata": {},
   "outputs": [
    {
     "name": "stdout",
     "output_type": "stream",
     "text": [
      "Model: \"sequential\"\n",
      "_________________________________________________________________\n",
      "Layer (type)                 Output Shape              Param #   \n",
      "=================================================================\n",
      "embedding (Embedding)        (None, None, 4)           40        \n",
      "_________________________________________________________________\n",
      "lstm (LSTM)                  (None, 16)                1344      \n",
      "_________________________________________________________________\n",
      "dense (Dense)                (None, 8)                 136       \n",
      "_________________________________________________________________\n",
      "dense_1 (Dense)              (None, 1)                 9         \n",
      "=================================================================\n",
      "Total params: 1,529\n",
      "Trainable params: 1,529\n",
      "Non-trainable params: 0\n",
      "_________________________________________________________________\n"
     ]
    }
   ],
   "source": [
    "vocab_size = 10  # 어휘 사전의 크기입니다(10개의 단어)\n",
    "word_vector_dim = 4  # 단어 하나를 표현하는 임베딩 벡터의 차원수입니다. \n",
    "\n",
    "model = tf.keras.Sequential()\n",
    "model.add(tf.keras.layers.Embedding(vocab_size, word_vector_dim, input_shape=(None,)))\n",
    "model.add(tf.keras.layers.LSTM(16))   # 가장 널리 쓰이는 RNN인 LSTM 레이어를 사용하였습니다. 이때 LSTM state 벡터의 차원수는 8로 하였습니다. (변경 가능)\n",
    "model.add(tf.keras.layers.Dense(8, activation='relu'))\n",
    "model.add(tf.keras.layers.Dense(1, activation='sigmoid'))  # 최종 출력은 긍정/부정을 나타내는 1dim 입니다.\n",
    "\n",
    "model.summary()"
   ]
  },
  {
   "cell_type": "code",
   "execution_count": 11,
   "id": "73a36a9d",
   "metadata": {},
   "outputs": [
    {
     "name": "stdout",
     "output_type": "stream",
     "text": [
      "Epoch 1/20\n",
      "286/286 [==============================] - 5s 8ms/step - loss: 0.6931 - accuracy: 0.5023 - val_loss: 0.6928 - val_accuracy: 0.5105\n",
      "Epoch 2/20\n",
      "286/286 [==============================] - 2s 6ms/step - loss: 0.6929 - accuracy: 0.5060 - val_loss: 0.6928 - val_accuracy: 0.5105\n",
      "Epoch 3/20\n",
      "286/286 [==============================] - 2s 6ms/step - loss: 0.6928 - accuracy: 0.5061 - val_loss: 0.6927 - val_accuracy: 0.5104\n",
      "Epoch 4/20\n",
      "286/286 [==============================] - 2s 6ms/step - loss: 0.6928 - accuracy: 0.5074 - val_loss: 0.6927 - val_accuracy: 0.5105\n",
      "Epoch 5/20\n",
      "286/286 [==============================] - 2s 6ms/step - loss: 0.6928 - accuracy: 0.5051 - val_loss: 0.6927 - val_accuracy: 0.5102\n",
      "Epoch 6/20\n",
      "286/286 [==============================] - 2s 6ms/step - loss: 0.6928 - accuracy: 0.5054 - val_loss: 0.6927 - val_accuracy: 0.5103\n",
      "Epoch 7/20\n",
      "286/286 [==============================] - 2s 6ms/step - loss: 0.6928 - accuracy: 0.5068 - val_loss: 0.6928 - val_accuracy: 0.5096\n",
      "Epoch 8/20\n",
      "286/286 [==============================] - 2s 6ms/step - loss: 0.6928 - accuracy: 0.5059 - val_loss: 0.6927 - val_accuracy: 0.5101\n",
      "Epoch 9/20\n",
      "286/286 [==============================] - 2s 6ms/step - loss: 0.6928 - accuracy: 0.5075 - val_loss: 0.6927 - val_accuracy: 0.5096\n",
      "Epoch 10/20\n",
      "286/286 [==============================] - 2s 6ms/step - loss: 0.6928 - accuracy: 0.5068 - val_loss: 0.6927 - val_accuracy: 0.5104\n",
      "Epoch 11/20\n",
      "286/286 [==============================] - 2s 6ms/step - loss: 0.6927 - accuracy: 0.5070 - val_loss: 0.6927 - val_accuracy: 0.5083\n",
      "Epoch 12/20\n",
      "286/286 [==============================] - 2s 6ms/step - loss: 0.6928 - accuracy: 0.5075 - val_loss: 0.6927 - val_accuracy: 0.5096\n",
      "Epoch 13/20\n",
      "286/286 [==============================] - 2s 6ms/step - loss: 0.6928 - accuracy: 0.5058 - val_loss: 0.6927 - val_accuracy: 0.5082\n",
      "Epoch 14/20\n",
      "286/286 [==============================] - 2s 6ms/step - loss: 0.6927 - accuracy: 0.5066 - val_loss: 0.6927 - val_accuracy: 0.5117\n",
      "Epoch 15/20\n",
      "286/286 [==============================] - 2s 6ms/step - loss: 0.6927 - accuracy: 0.5079 - val_loss: 0.6927 - val_accuracy: 0.5074\n",
      "Epoch 16/20\n",
      "286/286 [==============================] - 2s 6ms/step - loss: 0.6927 - accuracy: 0.5069 - val_loss: 0.6927 - val_accuracy: 0.5117\n",
      "Epoch 17/20\n",
      "286/286 [==============================] - 2s 6ms/step - loss: 0.6927 - accuracy: 0.5067 - val_loss: 0.6927 - val_accuracy: 0.5096\n",
      "Epoch 18/20\n",
      "286/286 [==============================] - 2s 6ms/step - loss: 0.6927 - accuracy: 0.5077 - val_loss: 0.6927 - val_accuracy: 0.5053\n",
      "Epoch 19/20\n",
      "286/286 [==============================] - 2s 6ms/step - loss: 0.6927 - accuracy: 0.5072 - val_loss: 0.6927 - val_accuracy: 0.5055\n",
      "Epoch 20/20\n",
      "286/286 [==============================] - 2s 6ms/step - loss: 0.6927 - accuracy: 0.5067 - val_loss: 0.6926 - val_accuracy: 0.5100\n"
     ]
    }
   ],
   "source": [
    "model.compile(optimizer='adam', loss='binary_crossentropy', metrics=['accuracy'])\n",
    "\n",
    "history = model.fit(X_train,\n",
    "                    y_train,\n",
    "                    epochs=20,\n",
    "                    batch_size=512,\n",
    "                    validation_data=(X_test, y_test),\n",
    "                    verbose=1)"
   ]
  },
  {
   "cell_type": "code",
   "execution_count": 12,
   "id": "216f143d",
   "metadata": {},
   "outputs": [
    {
     "name": "stdout",
     "output_type": "stream",
     "text": [
      "dict_keys(['loss', 'accuracy', 'val_loss', 'val_accuracy'])\n"
     ]
    },
    {
     "data": {
      "image/png": "[encoded data removed]",
      "text/plain": [
       "<Figure size 432x288 with 1 Axes>"
      ]
     },
     "metadata": {
      "needs_background": "light"
     },
     "output_type": "display_data"
    }
   ],
   "source": [
    "history_dict = history.history\n",
    "print(history_dict.keys()) # epoch에 따른 그래프를 그려볼 수 있는 항목들\n",
    "\n",
    "acc = history_dict['accuracy']\n",
    "val_acc = history_dict['val_accuracy']\n",
    "loss = history_dict['loss']\n",
    "val_loss = history_dict['val_loss']\n",
    "\n",
    "epochs = range(1, len(acc) + 1)\n",
    "\n",
    "# \"bo\"는 \"파란색 점\"입니다\n",
    "plt.plot(epochs, loss, 'bo', label='Training loss')\n",
    "# b는 \"파란 실선\"입니다\n",
    "plt.plot(epochs, val_loss, 'b', label='Validation loss')\n",
    "plt.title('Training and validation loss')\n",
    "plt.xlabel('Epochs')\n",
    "plt.ylabel('Loss')\n",
    "plt.legend()\n",
    "\n",
    "plt.show()"
   ]
  },
  {
   "cell_type": "code",
   "execution_count": 13,
   "id": "66b58fce",
   "metadata": {},
   "outputs": [
    {
     "data": {
      "image/png": "[encoded data removed]",
      "text/plain": [
       "<Figure size 432x288 with 1 Axes>"
      ]
     },
     "metadata": {
      "needs_background": "light"
     },
     "output_type": "display_data"
    }
   ],
   "source": [
    "plt.clf()   # 그림을 초기화합니다\n",
    "\n",
    "plt.plot(epochs, acc, 'bo', label='Training acc')\n",
    "plt.plot(epochs, val_acc, 'b', label='Validation acc')\n",
    "plt.title('Training and validation accuracy')\n",
    "plt.xlabel('Epochs')\n",
    "plt.ylabel('Accuracy')\n",
    "plt.legend()\n",
    "\n",
    "plt.show()"
   ]
  },
  {
   "cell_type": "markdown",
   "id": "a6732963",
   "metadata": {},
   "source": [
    "### 1-D CNN"
   ]
  },
  {
   "cell_type": "code",
   "execution_count": 14,
   "id": "acc3f6c7",
   "metadata": {},
   "outputs": [
    {
     "name": "stdout",
     "output_type": "stream",
     "text": [
      "Model: \"sequential_1\"\n",
      "_________________________________________________________________\n",
      "Layer (type)                 Output Shape              Param #   \n",
      "=================================================================\n",
      "embedding_1 (Embedding)      (None, None, 4)           40        \n",
      "_________________________________________________________________\n",
      "conv1d (Conv1D)              (None, None, 16)          464       \n",
      "_________________________________________________________________\n",
      "max_pooling1d (MaxPooling1D) (None, None, 16)          0         \n",
      "_________________________________________________________________\n",
      "conv1d_1 (Conv1D)            (None, None, 16)          1808      \n",
      "_________________________________________________________________\n",
      "global_max_pooling1d (Global (None, 16)                0         \n",
      "_________________________________________________________________\n",
      "dense_2 (Dense)              (None, 8)                 136       \n",
      "_________________________________________________________________\n",
      "dense_3 (Dense)              (None, 1)                 9         \n",
      "=================================================================\n",
      "Total params: 2,457\n",
      "Trainable params: 2,457\n",
      "Non-trainable params: 0\n",
      "_________________________________________________________________\n"
     ]
    }
   ],
   "source": [
    "vocab_size = 10  # 어휘 사전의 크기입니다(10개의 단어)\n",
    "word_vector_dim = 4   # 단어 하나를 표현하는 임베딩 벡터의 차원 수입니다. \n",
    "\n",
    "model = tf.keras.Sequential()\n",
    "model.add(tf.keras.layers.Embedding(vocab_size, word_vector_dim, input_shape=(None,)))\n",
    "model.add(tf.keras.layers.Conv1D(16, 7, activation='relu'))\n",
    "model.add(tf.keras.layers.MaxPooling1D(5))\n",
    "model.add(tf.keras.layers.Conv1D(16, 7, activation='relu'))\n",
    "model.add(tf.keras.layers.GlobalMaxPooling1D())\n",
    "model.add(tf.keras.layers.Dense(8, activation='relu'))\n",
    "model.add(tf.keras.layers.Dense(1, activation='sigmoid'))  # 최종 출력은 긍정/부정을 나타내는 1dim 입니다.\n",
    "\n",
    "model.summary()"
   ]
  },
  {
   "cell_type": "code",
   "execution_count": 15,
   "id": "8060f0e2",
   "metadata": {},
   "outputs": [
    {
     "name": "stdout",
     "output_type": "stream",
     "text": [
      "Epoch 1/20\n",
      "286/286 [==============================] - 3s 6ms/step - loss: 0.6929 - accuracy: 0.5055 - val_loss: 0.6928 - val_accuracy: 0.5095\n",
      "Epoch 2/20\n",
      "286/286 [==============================] - 1s 5ms/step - loss: 0.6928 - accuracy: 0.5071 - val_loss: 0.6928 - val_accuracy: 0.5095\n",
      "Epoch 3/20\n",
      "286/286 [==============================] - 1s 5ms/step - loss: 0.6928 - accuracy: 0.5076 - val_loss: 0.6927 - val_accuracy: 0.5095\n",
      "Epoch 4/20\n",
      "286/286 [==============================] - 1s 5ms/step - loss: 0.6928 - accuracy: 0.5072 - val_loss: 0.6928 - val_accuracy: 0.5104\n",
      "Epoch 5/20\n",
      "286/286 [==============================] - 1s 5ms/step - loss: 0.6928 - accuracy: 0.5082 - val_loss: 0.6927 - val_accuracy: 0.5095\n",
      "Epoch 6/20\n",
      "286/286 [==============================] - 1s 5ms/step - loss: 0.6927 - accuracy: 0.5092 - val_loss: 0.6929 - val_accuracy: 0.5023\n",
      "Epoch 7/20\n",
      "286/286 [==============================] - 1s 5ms/step - loss: 0.6927 - accuracy: 0.5086 - val_loss: 0.6927 - val_accuracy: 0.5105\n",
      "Epoch 8/20\n",
      "286/286 [==============================] - 1s 5ms/step - loss: 0.6927 - accuracy: 0.5085 - val_loss: 0.6928 - val_accuracy: 0.5087\n",
      "Epoch 9/20\n",
      "286/286 [==============================] - 1s 5ms/step - loss: 0.6927 - accuracy: 0.5083 - val_loss: 0.6927 - val_accuracy: 0.5075\n",
      "Epoch 10/20\n",
      "286/286 [==============================] - 1s 5ms/step - loss: 0.6927 - accuracy: 0.5096 - val_loss: 0.6926 - val_accuracy: 0.5103\n",
      "Epoch 11/20\n",
      "286/286 [==============================] - 1s 5ms/step - loss: 0.6927 - accuracy: 0.5076 - val_loss: 0.6927 - val_accuracy: 0.5105\n",
      "Epoch 12/20\n",
      "286/286 [==============================] - 1s 5ms/step - loss: 0.6927 - accuracy: 0.5074 - val_loss: 0.6926 - val_accuracy: 0.5113\n",
      "Epoch 13/20\n",
      "286/286 [==============================] - 1s 5ms/step - loss: 0.6927 - accuracy: 0.5083 - val_loss: 0.6928 - val_accuracy: 0.5087\n",
      "Epoch 14/20\n",
      "286/286 [==============================] - 1s 5ms/step - loss: 0.6927 - accuracy: 0.5079 - val_loss: 0.6926 - val_accuracy: 0.5113\n",
      "Epoch 15/20\n",
      "286/286 [==============================] - 1s 5ms/step - loss: 0.6927 - accuracy: 0.5084 - val_loss: 0.6926 - val_accuracy: 0.5113\n",
      "Epoch 16/20\n",
      "286/286 [==============================] - 1s 5ms/step - loss: 0.6927 - accuracy: 0.5097 - val_loss: 0.6929 - val_accuracy: 0.5005\n",
      "Epoch 17/20\n",
      "286/286 [==============================] - 1s 5ms/step - loss: 0.6927 - accuracy: 0.5072 - val_loss: 0.6926 - val_accuracy: 0.5113\n",
      "Epoch 18/20\n",
      "286/286 [==============================] - 1s 5ms/step - loss: 0.6927 - accuracy: 0.5090 - val_loss: 0.6926 - val_accuracy: 0.5125\n",
      "Epoch 19/20\n",
      "286/286 [==============================] - 1s 5ms/step - loss: 0.6927 - accuracy: 0.5091 - val_loss: 0.6926 - val_accuracy: 0.5095\n",
      "Epoch 20/20\n",
      "286/286 [==============================] - 1s 5ms/step - loss: 0.6927 - accuracy: 0.5094 - val_loss: 0.6927 - val_accuracy: 0.5095\n"
     ]
    }
   ],
   "source": [
    "model.compile(optimizer='adam', loss='binary_crossentropy', metrics=['accuracy'])\n",
    "\n",
    "history = model.fit(X_train,\n",
    "                    y_train,\n",
    "                    epochs=20,\n",
    "                    batch_size=512,\n",
    "                    validation_data=(X_test, y_test),\n",
    "                    verbose=1)"
   ]
  },
  {
   "cell_type": "markdown",
   "id": "5479b886",
   "metadata": {},
   "source": [
    "### GlobalMaxPooling1D"
   ]
  },
  {
   "cell_type": "code",
   "execution_count": 16,
   "id": "3f93e82d",
   "metadata": {},
   "outputs": [
    {
     "name": "stdout",
     "output_type": "stream",
     "text": [
      "Model: \"sequential_2\"\n",
      "_________________________________________________________________\n",
      "Layer (type)                 Output Shape              Param #   \n",
      "=================================================================\n",
      "embedding_2 (Embedding)      (None, None, 4)           40        \n",
      "_________________________________________________________________\n",
      "global_max_pooling1d_1 (Glob (None, 4)                 0         \n",
      "_________________________________________________________________\n",
      "dense_4 (Dense)              (None, 8)                 40        \n",
      "_________________________________________________________________\n",
      "dense_5 (Dense)              (None, 1)                 9         \n",
      "=================================================================\n",
      "Total params: 89\n",
      "Trainable params: 89\n",
      "Non-trainable params: 0\n",
      "_________________________________________________________________\n"
     ]
    }
   ],
   "source": [
    "vocab_size = 10  # 어휘 사전의 크기입니다(10개의 단어)\n",
    "word_vector_dim = 4   # 단어 하나를 표현하는 임베딩 벡터의 차원 수입니다. \n",
    "\n",
    "model = tf.keras.Sequential()\n",
    "model.add(tf.keras.layers.Embedding(vocab_size, word_vector_dim, input_shape=(None,)))\n",
    "model.add(tf.keras.layers.GlobalMaxPooling1D())\n",
    "model.add(tf.keras.layers.Dense(8, activation='relu'))\n",
    "model.add(tf.keras.layers.Dense(1, activation='sigmoid'))  # 최종 출력은 긍정/부정을 나타내는 1dim 입니다.\n",
    "\n",
    "model.summary()"
   ]
  },
  {
   "cell_type": "code",
   "execution_count": 17,
   "id": "f66ebfb0",
   "metadata": {},
   "outputs": [
    {
     "name": "stdout",
     "output_type": "stream",
     "text": [
      "Epoch 1/20\n",
      "286/286 [==============================] - 2s 4ms/step - loss: 0.6931 - accuracy: 0.5038 - val_loss: 0.6930 - val_accuracy: 0.4973\n",
      "Epoch 2/20\n",
      "286/286 [==============================] - 1s 4ms/step - loss: 0.6929 - accuracy: 0.5013 - val_loss: 0.6927 - val_accuracy: 0.5101\n",
      "Epoch 3/20\n",
      "286/286 [==============================] - 1s 4ms/step - loss: 0.6928 - accuracy: 0.5047 - val_loss: 0.6927 - val_accuracy: 0.5101\n",
      "Epoch 4/20\n",
      "286/286 [==============================] - 1s 4ms/step - loss: 0.6927 - accuracy: 0.5035 - val_loss: 0.6927 - val_accuracy: 0.5101\n",
      "Epoch 5/20\n",
      "286/286 [==============================] - 1s 4ms/step - loss: 0.6928 - accuracy: 0.5040 - val_loss: 0.6927 - val_accuracy: 0.5101\n",
      "Epoch 6/20\n",
      "286/286 [==============================] - 1s 4ms/step - loss: 0.6927 - accuracy: 0.5064 - val_loss: 0.6927 - val_accuracy: 0.5101\n",
      "Epoch 7/20\n",
      "286/286 [==============================] - 1s 4ms/step - loss: 0.6927 - accuracy: 0.5025 - val_loss: 0.6927 - val_accuracy: 0.5101\n",
      "Epoch 8/20\n",
      "286/286 [==============================] - 1s 4ms/step - loss: 0.6927 - accuracy: 0.5052 - val_loss: 0.6929 - val_accuracy: 0.4973\n",
      "Epoch 9/20\n",
      "286/286 [==============================] - 1s 4ms/step - loss: 0.6927 - accuracy: 0.5039 - val_loss: 0.6927 - val_accuracy: 0.5101\n",
      "Epoch 10/20\n",
      "286/286 [==============================] - 1s 4ms/step - loss: 0.6927 - accuracy: 0.5066 - val_loss: 0.6930 - val_accuracy: 0.4973\n",
      "Epoch 11/20\n",
      "286/286 [==============================] - 1s 4ms/step - loss: 0.6928 - accuracy: 0.5037 - val_loss: 0.6927 - val_accuracy: 0.5101\n",
      "Epoch 12/20\n",
      "286/286 [==============================] - 1s 4ms/step - loss: 0.6927 - accuracy: 0.5057 - val_loss: 0.6928 - val_accuracy: 0.4973\n",
      "Epoch 13/20\n",
      "286/286 [==============================] - 1s 4ms/step - loss: 0.6927 - accuracy: 0.5025 - val_loss: 0.6927 - val_accuracy: 0.5101\n",
      "Epoch 14/20\n",
      "286/286 [==============================] - 1s 4ms/step - loss: 0.6927 - accuracy: 0.5051 - val_loss: 0.6927 - val_accuracy: 0.5101\n",
      "Epoch 15/20\n",
      "286/286 [==============================] - 1s 4ms/step - loss: 0.6927 - accuracy: 0.5041 - val_loss: 0.6927 - val_accuracy: 0.5101\n",
      "Epoch 16/20\n",
      "286/286 [==============================] - 1s 4ms/step - loss: 0.6927 - accuracy: 0.5050 - val_loss: 0.6927 - val_accuracy: 0.5101\n",
      "Epoch 17/20\n",
      "286/286 [==============================] - 1s 4ms/step - loss: 0.6927 - accuracy: 0.5043 - val_loss: 0.6927 - val_accuracy: 0.5101\n",
      "Epoch 18/20\n",
      "286/286 [==============================] - 1s 4ms/step - loss: 0.6927 - accuracy: 0.5045 - val_loss: 0.6927 - val_accuracy: 0.5101\n",
      "Epoch 19/20\n",
      "286/286 [==============================] - 1s 4ms/step - loss: 0.6927 - accuracy: 0.5045 - val_loss: 0.6927 - val_accuracy: 0.5101\n",
      "Epoch 20/20\n",
      "286/286 [==============================] - 1s 4ms/step - loss: 0.6927 - accuracy: 0.5036 - val_loss: 0.6927 - val_accuracy: 0.5101\n"
     ]
    }
   ],
   "source": [
    "model.compile(optimizer='adam', loss='binary_crossentropy', metrics=['accuracy'])\n",
    "\n",
    "history = model.fit(X_train,\n",
    "                    y_train,\n",
    "                    epochs=20,\n",
    "                    batch_size=512,\n",
    "                    validation_data=(X_test, y_test),\n",
    "                    verbose=1)"
   ]
  },
  {
   "cell_type": "markdown",
   "id": "c4d9b5d8",
   "metadata": {},
   "source": [
    "# 회고\n",
    "\n",
    "1회차\n",
    "- 이번 프로젝트를 진행하며 3가지 방식으로 모델을 구축하였다.\n",
    "    - RNN, 1-D CNN, 그리고 Globalmaxpooling 1D\n",
    "- 처음에는 데이터 전처리 흐름이 잘 이해하기 힘들어서 여러번 노드를 보며 진행하였다.\n",
    "- 시각화를 해본 결과, loss가 0.6 이하로 내려가지 않았고 accuracy도 50% 이상으로 올라가지 않았다"
   ]
  },
  {
   "cell_type": "code",
   "execution_count": null,
   "id": "5db0be1e",
   "metadata": {},
   "outputs": [],
   "source": []
  }
 ],
 "metadata": {
  "kernelspec": {
   "display_name": "Python 3 (ipykernel)",
   "language": "python",
   "name": "python3"
  },
  "language_info": {
   "codemirror_mode": {
    "name": "ipython",
    "version": 3
   },
   "file_extension": ".py",
   "mimetype": "text/x-python",
   "name": "python",
   "nbconvert_exporter": "python",
   "pygments_lexer": "ipython3",
   "version": "3.9.7"
  }
 },
 "nbformat": 4,
 "nbformat_minor": 5
}
