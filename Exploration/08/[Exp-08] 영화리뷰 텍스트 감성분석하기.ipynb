{
 "cells": [
  {
   "cell_type": "markdown",
   "id": "729265e5",
   "metadata": {},
   "source": [
    "# Preprocessing"
   ]
  },
  {
   "cell_type": "code",
   "execution_count": 1,
   "id": "287c2ba2",
   "metadata": {},
   "outputs": [],
   "source": [
    "import pandas\n",
    "import konlpy # Korean NLP library\n",
    "import gensim # \n",
    "import os\n",
    "import pandas as pd\n",
    "import numpy as np\n",
    "import tensorflow as tf\n",
    "import matplotlib.pyplot as plt\n",
    "\n",
    "from konlpy.tag import Mecab # \n",
    "from collections import Counter # \n",
    "from gensim.models.keyedvectors import Word2VecKeyedVectors # \n",
    "from tensorflow.keras.callbacks import EarlyStopping # \n",
    "from tensorflow.keras.initializers import Constant # "
   ]
  },
  {
   "cell_type": "code",
   "execution_count": 2,
   "id": "88e593eb",
   "metadata": {},
   "outputs": [
    {
     "data": {
      "text/html": [
       "<div>\n",
       "<style scoped>\n",
       "    .dataframe tbody tr th:only-of-type {\n",
       "        vertical-align: middle;\n",
       "    }\n",
       "\n",
       "    .dataframe tbody tr th {\n",
       "        vertical-align: top;\n",
       "    }\n",
       "\n",
       "    .dataframe thead th {\n",
       "        text-align: right;\n",
       "    }\n",
       "</style>\n",
       "<table border=\"1\" class=\"dataframe\">\n",
       "  <thead>\n",
       "    <tr style=\"text-align: right;\">\n",
       "      <th></th>\n",
       "      <th>id</th>\n",
       "      <th>document</th>\n",
       "      <th>label</th>\n",
       "    </tr>\n",
       "  </thead>\n",
       "  <tbody>\n",
       "    <tr>\n",
       "      <th>0</th>\n",
       "      <td>6270596</td>\n",
       "      <td>굳 ㅋ</td>\n",
       "      <td>1</td>\n",
       "    </tr>\n",
       "    <tr>\n",
       "      <th>1</th>\n",
       "      <td>9274899</td>\n",
       "      <td>GDNTOPCLASSINTHECLUB</td>\n",
       "      <td>0</td>\n",
       "    </tr>\n",
       "    <tr>\n",
       "      <th>2</th>\n",
       "      <td>8544678</td>\n",
       "      <td>뭐야 이 평점들은.... 나쁘진 않지만 10점 짜리는 더더욱 아니잖아</td>\n",
       "      <td>0</td>\n",
       "    </tr>\n",
       "    <tr>\n",
       "      <th>3</th>\n",
       "      <td>6825595</td>\n",
       "      <td>지루하지는 않은데 완전 막장임... 돈주고 보기에는....</td>\n",
       "      <td>0</td>\n",
       "    </tr>\n",
       "    <tr>\n",
       "      <th>4</th>\n",
       "      <td>6723715</td>\n",
       "      <td>3D만 아니었어도 별 다섯 개 줬을텐데.. 왜 3D로 나와서 제 심기를 불편하게 하죠??</td>\n",
       "      <td>0</td>\n",
       "    </tr>\n",
       "  </tbody>\n",
       "</table>\n",
       "</div>"
      ],
      "text/plain": [
       "        id                                           document  label\n",
       "0  6270596                                                굳 ㅋ      1\n",
       "1  9274899                               GDNTOPCLASSINTHECLUB      0\n",
       "2  8544678             뭐야 이 평점들은.... 나쁘진 않지만 10점 짜리는 더더욱 아니잖아      0\n",
       "3  6825595                   지루하지는 않은데 완전 막장임... 돈주고 보기에는....      0\n",
       "4  6723715  3D만 아니었어도 별 다섯 개 줬을텐데.. 왜 3D로 나와서 제 심기를 불편하게 하죠??      0"
      ]
     },
     "execution_count": 2,
     "metadata": {},
     "output_type": "execute_result"
    }
   ],
   "source": [
    "# 데이터를 읽어봅시다. \n",
    "train_data = pd.read_table('~/aiffel/sentiment_classification/data/ratings_train.txt')\n",
    "test_data = pd.read_table('~/aiffel/sentiment_classification/data/ratings_test.txt')\n",
    "\n",
    "train_data.head()\n",
    "test_data.head()"
   ]
  },
  {
   "cell_type": "markdown",
   "id": "3e9e4b22",
   "metadata": {},
   "source": [
    "# Tokenization"
   ]
  },
  {
   "cell_type": "code",
   "execution_count": 3,
   "id": "bf5bc03e",
   "metadata": {},
   "outputs": [],
   "source": [
    "# tokenizing Korean\n",
    "tokenizer = Mecab()\n",
    "stopwords = ['의','가','이','은','들','는','좀','잘','걍','과','도','를','으로','자','에','와','한','하다']\n",
    "\n",
    "def load_data(train_data, test_data, num_words=10000):\n",
    "    train_data.drop_duplicates(subset=['document'], inplace=True)\n",
    "    train_data = train_data.dropna(how = 'any') \n",
    "    test_data.drop_duplicates(subset=['document'], inplace=True)\n",
    "    test_data = test_data.dropna(how = 'any') \n",
    "    \n",
    "    X_train = []\n",
    "    for sentence in train_data['document']:\n",
    "        temp_X = tokenizer.morphs(sentence) # 토큰화\n",
    "        temp_X = [word for word in temp_X if not word in stopwords] # 불용어 제거\n",
    "        X_train.append(temp_X)\n",
    "\n",
    "    X_test = []\n",
    "    for sentence in test_data['document']:\n",
    "        temp_X = tokenizer.morphs(sentence) # 토큰화\n",
    "        temp_X = [word for word in temp_X if not word in stopwords] # 불용어 제거\n",
    "        X_test.append(temp_X)\n",
    "    \n",
    "    words = np.concatenate(X_train).tolist()\n",
    "    counter = Counter(words)\n",
    "    counter = counter.most_common(10000-4)\n",
    "    vocab = ['<PAD>', '<BOS>', '<UNK>', ''] + [key for key, _ in counter]\n",
    "    word_to_index = {word:index for index, word in enumerate(vocab)} # word to index dict\n",
    "        \n",
    "    def wordlist_to_indexlist(wordlist):\n",
    "        return [word_to_index[word] if word in word_to_index else word_to_index[''] for word in wordlist]\n",
    "        \n",
    "    X_train = list(map(wordlist_to_indexlist, X_train))\n",
    "    X_test = list(map(wordlist_to_indexlist, X_test))\n",
    "        \n",
    "    return X_train, np.array(list(train_data['label'])), X_test, np.array(list(test_data['label'])), word_to_index\n",
    "    \n",
    "X_train, y_train, X_test, y_test, word_to_index = load_data(train_data, test_data)"
   ]
  },
  {
   "cell_type": "code",
   "execution_count": 4,
   "id": "201ad35d",
   "metadata": {},
   "outputs": [],
   "source": [
    "# index to word dict\n",
    "index_to_word = {index:word for word, index in word_to_index.items()}"
   ]
  },
  {
   "cell_type": "code",
   "execution_count": 5,
   "id": "8e70a141",
   "metadata": {},
   "outputs": [
    {
     "name": "stdout",
     "output_type": "stream",
     "text": [
      "문장길이 평균 :  15.96940191154864\n",
      "문장길이 최대 :  116\n",
      "문장길이 표준편차 :  12.843571191092\n",
      "pad_sequences maxlen :  41\n",
      "전체 문장의 0.9342988343341575%가 maxlen 설정값 이내에 포함됩니다. \n"
     ]
    }
   ],
   "source": [
    "total_data_text = list(X_train) + list(X_test)\n",
    "# 텍스트데이터 문장길이의 리스트를 생성한 후\n",
    "num_tokens = [len(tokens) for tokens in total_data_text]\n",
    "num_tokens = np.array(num_tokens)\n",
    "# 문장길이의 평균값, 최대값, 표준편차를 계산해 본다. \n",
    "print('문장길이 평균 : ', np.mean(num_tokens))\n",
    "print('문장길이 최대 : ', np.max(num_tokens))\n",
    "print('문장길이 표준편차 : ', np.std(num_tokens))\n",
    "\n",
    "# 예를들어, 최대 길이를 (평균 + 2*표준편차)로 한다면,  \n",
    "max_tokens = np.mean(num_tokens) + 2 * np.std(num_tokens)\n",
    "maxlen = int(max_tokens)\n",
    "print('pad_sequences maxlen : ', maxlen)\n",
    "print('전체 문장의 {}%가 maxlen 설정값 이내에 포함됩니다. '.format(np.sum(num_tokens < max_tokens) / len(num_tokens)))"
   ]
  },
  {
   "cell_type": "code",
   "execution_count": 6,
   "id": "dee5f3d1",
   "metadata": {},
   "outputs": [],
   "source": [
    "# add padding upto the length of the longest sentence\n",
    "X_train = tf.keras.preprocessing.sequence.pad_sequences(X_train, maxlen=maxlen, value=word_to_index['<PAD>'])\n",
    "X_test = tf.keras.preprocessing.sequence.pad_sequences(X_test, maxlen=maxlen, value=word_to_index['<PAD>'])"
   ]
  },
  {
   "cell_type": "markdown",
   "id": "957ea8fc",
   "metadata": {},
   "source": [
    "# Text classification models"
   ]
  },
  {
   "cell_type": "markdown",
   "id": "0ee8cef1",
   "metadata": {},
   "source": [
    "### Common parameters"
   ]
  },
  {
   "cell_type": "code",
   "execution_count": 7,
   "id": "8acb7532",
   "metadata": {},
   "outputs": [],
   "source": [
    "vocab_size = 10000    # 어휘 사전의 크기입니다(10,000개의 단어)\n",
    "word_vector_dim = 100  # 워드 벡터의 차원 수 (변경 가능한 하이퍼파라미터)\n",
    "\n",
    "epoch = 50\n",
    "\n",
    "early_stopping = EarlyStopping(monitor='val_accuracy', patience=2)"
   ]
  },
  {
   "cell_type": "markdown",
   "id": "5355edeb",
   "metadata": {},
   "source": [
    "### Embedding layer spec"
   ]
  },
  {
   "cell_type": "code",
   "execution_count": 8,
   "id": "7a84ea8f",
   "metadata": {},
   "outputs": [
    {
     "name": "stdout",
     "output_type": "stream",
     "text": [
      "tf.Tensor(\n",
      "[[[-0.01387556 -0.00558873  0.0145742  ... -0.02274987 -0.01888369\n",
      "   -0.04464037]\n",
      "  [-0.01387556 -0.00558873  0.0145742  ... -0.02274987 -0.01888369\n",
      "   -0.04464037]\n",
      "  [-0.01387556 -0.00558873  0.0145742  ... -0.02274987 -0.01888369\n",
      "   -0.04464037]\n",
      "  ...\n",
      "  [ 0.01576035 -0.03380444 -0.03234608 ... -0.00783336 -0.01774006\n",
      "   -0.01156574]\n",
      "  [-0.00286037  0.04439576  0.0343877  ... -0.04172302 -0.01801141\n",
      "   -0.02184668]\n",
      "  [ 0.04055263 -0.02594866  0.02415298 ... -0.0375546   0.01934165\n",
      "    0.04300183]]\n",
      "\n",
      " [[-0.01387556 -0.00558873  0.0145742  ... -0.02274987 -0.01888369\n",
      "   -0.04464037]\n",
      "  [-0.01387556 -0.00558873  0.0145742  ... -0.02274987 -0.01888369\n",
      "   -0.04464037]\n",
      "  [-0.01387556 -0.00558873  0.0145742  ... -0.02274987 -0.01888369\n",
      "   -0.04464037]\n",
      "  ...\n",
      "  [ 0.02010343 -0.03793452  0.00408244 ...  0.04294416  0.02667006\n",
      "    0.00472768]\n",
      "  [ 0.01221018 -0.04886832  0.01500894 ... -0.0349434  -0.02511175\n",
      "    0.01658148]\n",
      "  [-0.0484641   0.0301564  -0.03164834 ... -0.04217627  0.02777776\n",
      "    0.02562932]]\n",
      "\n",
      " [[-0.01387556 -0.00558873  0.0145742  ... -0.02274987 -0.01888369\n",
      "   -0.04464037]\n",
      "  [-0.01387556 -0.00558873  0.0145742  ... -0.02274987 -0.01888369\n",
      "   -0.04464037]\n",
      "  [-0.01387556 -0.00558873  0.0145742  ... -0.02274987 -0.01888369\n",
      "   -0.04464037]\n",
      "  ...\n",
      "  [-0.00916757 -0.0299992   0.03294264 ... -0.00986375 -0.02497841\n",
      "   -0.03547169]\n",
      "  [-0.00172999  0.00029372  0.03427107 ... -0.01865475 -0.04179633\n",
      "   -0.01045857]\n",
      "  [-0.04261967  0.02310525  0.00553472 ... -0.04453265  0.02422914\n",
      "    0.03408178]]\n",
      "\n",
      " ...\n",
      "\n",
      " [[-0.01387556 -0.00558873  0.0145742  ... -0.02274987 -0.01888369\n",
      "   -0.04464037]\n",
      "  [-0.01387556 -0.00558873  0.0145742  ... -0.02274987 -0.01888369\n",
      "   -0.04464037]\n",
      "  [-0.01387556 -0.00558873  0.0145742  ... -0.02274987 -0.01888369\n",
      "   -0.04464037]\n",
      "  ...\n",
      "  [-0.03856038 -0.01929289  0.02519008 ... -0.01801949 -0.00358127\n",
      "   -0.03627478]\n",
      "  [-0.0229462  -0.01779946  0.02350819 ...  0.03920517  0.00824677\n",
      "   -0.0121636 ]\n",
      "  [-0.02474037  0.01291598  0.04208468 ... -0.03843514 -0.03300314\n",
      "   -0.02272954]]\n",
      "\n",
      " [[-0.01387556 -0.00558873  0.0145742  ... -0.02274987 -0.01888369\n",
      "   -0.04464037]\n",
      "  [-0.01387556 -0.00558873  0.0145742  ... -0.02274987 -0.01888369\n",
      "   -0.04464037]\n",
      "  [-0.01387556 -0.00558873  0.0145742  ... -0.02274987 -0.01888369\n",
      "   -0.04464037]\n",
      "  ...\n",
      "  [ 0.0385688   0.02202685  0.03180151 ... -0.02701448 -0.03721362\n",
      "   -0.00519936]\n",
      "  [-0.00139692  0.01754833 -0.03006404 ... -0.0052055  -0.0083987\n",
      "    0.03059678]\n",
      "  [ 0.03049644 -0.01716219 -0.02176408 ...  0.02064817 -0.03491026\n",
      "   -0.02481409]]\n",
      "\n",
      " [[-0.01387556 -0.00558873  0.0145742  ... -0.02274987 -0.01888369\n",
      "   -0.04464037]\n",
      "  [-0.01387556 -0.00558873  0.0145742  ... -0.02274987 -0.01888369\n",
      "   -0.04464037]\n",
      "  [-0.01387556 -0.00558873  0.0145742  ... -0.02274987 -0.01888369\n",
      "   -0.04464037]\n",
      "  ...\n",
      "  [-0.03359278  0.03288144 -0.01053166 ...  0.03815507 -0.03882941\n",
      "   -0.02695187]\n",
      "  [-0.04500917 -0.02293449  0.00576745 ... -0.03351049 -0.0430197\n",
      "    0.00779954]\n",
      "  [ 0.02005592  0.04392086 -0.0206004  ...  0.03454348 -0.03310453\n",
      "    0.03150189]]], shape=(146182, 41, 100), dtype=float32)\n"
     ]
    }
   ],
   "source": [
    "embedding = tf.keras.layers.Embedding(input_dim=vocab_size, output_dim=word_vector_dim, mask_zero=True)\n",
    "\n",
    "# tf.keras.preprocessing.sequence.pad_sequences를 통해 word vector를 모두 일정 길이로 맞춰주어야 \n",
    "# embedding 레이어의 input이 될 수 있음에 주의해 주세요. \n",
    "raw_inputs = tf.keras.preprocessing.sequence.pad_sequences(X_train, value=word_to_index['<PAD>'], padding='pre', maxlen=maxlen)\n",
    "output = embedding(raw_inputs)\n",
    "print(output) # shape=(146182, 41, 100) = (Num of sentences, length of a sentence, word_vector dimension)"
   ]
  },
  {
   "cell_type": "markdown",
   "id": "395e9090",
   "metadata": {},
   "source": [
    "## RNN"
   ]
  },
  {
   "cell_type": "code",
   "execution_count": 9,
   "id": "1a9c6d6b",
   "metadata": {},
   "outputs": [
    {
     "name": "stdout",
     "output_type": "stream",
     "text": [
      "Model: \"sequential\"\n",
      "_________________________________________________________________\n",
      "Layer (type)                 Output Shape              Param #   \n",
      "=================================================================\n",
      "embedding_1 (Embedding)      (None, None, 100)         1000000   \n",
      "_________________________________________________________________\n",
      "dropout (Dropout)            (None, None, 100)         0         \n",
      "_________________________________________________________________\n",
      "lstm (LSTM)                  (None, 64)                42240     \n",
      "_________________________________________________________________\n",
      "dropout_1 (Dropout)          (None, 64)                0         \n",
      "_________________________________________________________________\n",
      "dense (Dense)                (None, 8)                 520       \n",
      "_________________________________________________________________\n",
      "dropout_2 (Dropout)          (None, 8)                 0         \n",
      "_________________________________________________________________\n",
      "dense_1 (Dense)              (None, 1)                 9         \n",
      "=================================================================\n",
      "Total params: 1,042,769\n",
      "Trainable params: 1,042,769\n",
      "Non-trainable params: 0\n",
      "_________________________________________________________________\n"
     ]
    }
   ],
   "source": [
    "# model 설계 - 딥러닝 모델 코드를 직접 작성해 주세요.\n",
    "model = tf.keras.Sequential()\n",
    "model.add(tf.keras.layers.Embedding(vocab_size, word_vector_dim, input_shape=(None,)))\n",
    "model.add(tf.keras.layers.Dropout(0.2))\n",
    "model.add(tf.keras.layers.LSTM(64))   # 가장 널리 쓰이는 RNN인 LSTM 레이어를 사용하였습니다. 이때 LSTM state 벡터의 차원수는 16로 하였습니다. (변경 가능)\n",
    "model.add(tf.keras.layers.Dropout(0.2))\n",
    "model.add(tf.keras.layers.Dense(8, activation='relu'))\n",
    "model.add(tf.keras.layers.Dropout(0.2))\n",
    "model.add(tf.keras.layers.Dense(1, activation='sigmoid'))  # 최종 출력은 긍정/부정을 나타내는 1dim 입니다.\n",
    "\n",
    "model.summary()"
   ]
  },
  {
   "cell_type": "code",
   "execution_count": 10,
   "id": "09d464df",
   "metadata": {
    "scrolled": true
   },
   "outputs": [
    {
     "name": "stdout",
     "output_type": "stream",
     "text": [
      "Epoch 1/50\n",
      "229/229 [==============================] - 5s 9ms/step - loss: 0.4518 - accuracy: 0.7956 - val_loss: 0.3580 - val_accuracy: 0.8451\n",
      "Epoch 2/50\n",
      "229/229 [==============================] - 2s 7ms/step - loss: 0.3439 - accuracy: 0.8584 - val_loss: 0.3414 - val_accuracy: 0.8533\n",
      "Epoch 3/50\n",
      "229/229 [==============================] - 2s 7ms/step - loss: 0.3158 - accuracy: 0.8714 - val_loss: 0.3337 - val_accuracy: 0.8552\n",
      "Epoch 4/50\n",
      "229/229 [==============================] - 2s 7ms/step - loss: 0.2919 - accuracy: 0.8803 - val_loss: 0.3413 - val_accuracy: 0.8557\n",
      "Epoch 5/50\n",
      "229/229 [==============================] - 2s 7ms/step - loss: 0.2704 - accuracy: 0.8898 - val_loss: 0.3407 - val_accuracy: 0.8580\n",
      "Epoch 6/50\n",
      "229/229 [==============================] - 2s 7ms/step - loss: 0.2524 - accuracy: 0.8976 - val_loss: 0.3526 - val_accuracy: 0.8569\n",
      "Epoch 7/50\n",
      "229/229 [==============================] - 2s 7ms/step - loss: 0.2358 - accuracy: 0.9052 - val_loss: 0.3767 - val_accuracy: 0.8550\n"
     ]
    }
   ],
   "source": [
    "model.compile(optimizer='adam', loss='binary_crossentropy', metrics=['accuracy'])\n",
    "# changing optimizer learning rate : optimizer=tf.keras.optimizer.Adam(learning_rate=1e-3)\n",
    "\n",
    "history = model.fit(X_train,\n",
    "                    y_train,\n",
    "                    epochs=epoch,\n",
    "                    batch_size=512,\n",
    "                    validation_split=0.2,\n",
    "                    callbacks=early_stopping,\n",
    "                    verbose=1)"
   ]
  },
  {
   "cell_type": "code",
   "execution_count": 11,
   "id": "8ed2aa26",
   "metadata": {},
   "outputs": [
    {
     "name": "stdout",
     "output_type": "stream",
     "text": [
      "dict_keys(['loss', 'accuracy', 'val_loss', 'val_accuracy'])\n"
     ]
    },
    {
     "data": {
      "image/png": "[encoded data removed]",
      "text/plain": [
       "<Figure size 432x288 with 1 Axes>"
      ]
     },
     "metadata": {
      "needs_background": "light"
     },
     "output_type": "display_data"
    }
   ],
   "source": [
    "history_dict = history.history\n",
    "print(history_dict.keys()) # epoch에 따른 그래프를 그려볼 수 있는 항목들\n",
    "\n",
    "acc = history_dict['accuracy']\n",
    "val_acc = history_dict['val_accuracy']\n",
    "loss = history_dict['loss']\n",
    "val_loss = history_dict['val_loss']\n",
    "\n",
    "epochs = range(1, len(acc) + 1)\n",
    "\n",
    "# \"bo\"는 \"파란색 점\"입니다\n",
    "plt.plot(epochs, loss, 'bo', label='Training loss')\n",
    "# b는 \"파란 실선\"입니다\n",
    "plt.plot(epochs, val_loss, 'b', label='Validation loss')\n",
    "plt.title('Training and validation loss')\n",
    "plt.xlabel('Epochs')\n",
    "plt.ylabel('Loss')\n",
    "plt.legend()\n",
    "\n",
    "plt.show()"
   ]
  },
  {
   "cell_type": "code",
   "execution_count": 12,
   "id": "c65e0b3b",
   "metadata": {},
   "outputs": [
    {
     "data": {
      "image/png": "[encoded data removed]",
      "text/plain": [
       "<Figure size 432x288 with 1 Axes>"
      ]
     },
     "metadata": {
      "needs_background": "light"
     },
     "output_type": "display_data"
    }
   ],
   "source": [
    "plt.clf()   # 그림을 초기화합니다\n",
    "\n",
    "plt.plot(epochs, acc, 'bo', label='Training acc')\n",
    "plt.plot(epochs, val_acc, 'b', label='Validation acc')\n",
    "plt.title('Training and validation accuracy')\n",
    "plt.xlabel('Epochs')\n",
    "plt.ylabel('Accuracy')\n",
    "plt.legend()\n",
    "\n",
    "plt.show()"
   ]
  },
  {
   "cell_type": "code",
   "execution_count": 13,
   "id": "062081b8",
   "metadata": {},
   "outputs": [
    {
     "name": "stdout",
     "output_type": "stream",
     "text": [
      "1537/1537 - 3s - loss: 0.3852 - accuracy: 0.8524\n"
     ]
    }
   ],
   "source": [
    "result = model.evaluate(X_test, y_test, verbose=2) #0.8528"
   ]
  },
  {
   "cell_type": "code",
   "execution_count": 14,
   "id": "8c75b7bc",
   "metadata": {},
   "outputs": [],
   "source": [
    "# 학습한 Embedding 파라미터를 파일에 써서 저장합니다. \n",
    "word2vec_file_path = os.getenv('HOME')+'/aiffel/sentiment_classification/data/word2vec.txt'\n",
    "f = open(word2vec_file_path, 'w')\n",
    "f.write('{} {}\\n'.format(vocab_size-4, word_vector_dim))  # 몇개의 벡터를 얼마 사이즈로 기재할지 타이틀을 씁니다.\n",
    "\n",
    "# 단어 개수(에서 특수문자 4개는 제외하고)만큼의 워드 벡터를 파일에 기록합니다. \n",
    "vectors = model.get_weights()[0]\n",
    "for i in range(4,vocab_size):\n",
    "    f.write('{} {}\\n'.format(index_to_word[i], ' '.join(map(str, list(vectors[i, :])))))\n",
    "f.close()"
   ]
  },
  {
   "cell_type": "code",
   "execution_count": 15,
   "id": "bf0a1db0",
   "metadata": {},
   "outputs": [
    {
     "data": {
      "text/plain": [
       "array([ 0.00862932,  0.00382527, -0.02454075, -0.02738672, -0.00023841,\n",
       "        0.0393791 ,  0.02099113, -0.04400657, -0.01516986, -0.02572815,\n",
       "        0.02472456, -0.03767864,  0.01690352,  0.00999326,  0.00303446,\n",
       "        0.03358005, -0.00066241,  0.0251575 , -0.03844195,  0.04278289,\n",
       "        0.03664502,  0.01198151,  0.01046567,  0.06346107,  0.02749393,\n",
       "        0.06911409,  0.00826817, -0.02907338,  0.02047427,  0.01396889,\n",
       "        0.02436075, -0.01356985,  0.00036071,  0.00103915, -0.03208962,\n",
       "       -0.01379264, -0.009419  , -0.07853662, -0.0665009 ,  0.00862132,\n",
       "       -0.0181667 ,  0.01575329,  0.02137785, -0.09932426, -0.04213199,\n",
       "       -0.02438075,  0.03304642,  0.02887282,  0.01710106, -0.02178356,\n",
       "        0.00942248,  0.11753008,  0.01374671,  0.01516029, -0.03732124,\n",
       "        0.05095434, -0.02865424,  0.05458427,  0.00212903, -0.0240443 ,\n",
       "       -0.03437179,  0.02530649, -0.03318037, -0.00138281, -0.01673776,\n",
       "       -0.0289829 , -0.02455091, -0.0575919 , -0.03129423,  0.00611341,\n",
       "        0.01433109,  0.00021119, -0.00529038,  0.01413423, -0.072464  ,\n",
       "        0.0916255 ,  0.02264324,  0.02626376,  0.02020935, -0.04638084,\n",
       "       -0.02877669, -0.03374541, -0.08118419,  0.0690778 ,  0.0406709 ,\n",
       "       -0.04538907,  0.00995896,  0.01341463, -0.03157465,  0.01986323,\n",
       "        0.00655066, -0.02615928, -0.01166302, -0.00483498, -0.05162385,\n",
       "       -0.03079899,  0.0063613 ,  0.08143128,  0.02941879, -0.03443824],\n",
       "      dtype=float32)"
      ]
     },
     "execution_count": 15,
     "metadata": {},
     "output_type": "execute_result"
    }
   ],
   "source": [
    "word_vectors = Word2VecKeyedVectors.load_word2vec_format(word2vec_file_path, binary=False)\n",
    "vector = word_vectors['영화']\n",
    "vector"
   ]
  },
  {
   "cell_type": "code",
   "execution_count": 16,
   "id": "e4f8ca00",
   "metadata": {},
   "outputs": [
    {
     "name": "stdout",
     "output_type": "stream",
     "text": [
      "[('점', 0.5917784571647644), ('...!', 0.5821252465248108), ('..!!', 0.5630610585212708), ('욥', 0.5475978851318359), ('그려진', 0.5467716455459595), ('줌', 0.5421820282936096), ('던데', 0.5412024259567261), ('드', 0.5356253981590271), ('!!!', 0.5346950888633728), ('........', 0.5299351811408997)]\n",
      "[('로드', 0.34039101004600525), ('이룬', 0.3365635275840759), ('컷', 0.33534595370292664), ('지키', 0.3331010639667511), ('You', 0.3280898928642273), ('기준', 0.31166133284568787), ('완성도', 0.31138721108436584), ('파격', 0.31092017889022827), ('하하', 0.30743399262428284), ('이장우', 0.3052905201911926)]\n"
     ]
    }
   ],
   "source": [
    "print(word_vectors.similar_by_word(\"영화\"))\n",
    "print(word_vectors.similar_by_word(\"나\"))"
   ]
  },
  {
   "cell_type": "code",
   "execution_count": 17,
   "id": "df418eff",
   "metadata": {},
   "outputs": [
    {
     "data": {
      "text/plain": [
       "array([ 1.038851  , -1.1634965 ,  2.2386286 ,  0.8971453 , -2.088168  ,\n",
       "       -4.1942534 , -0.02519768, -0.69813883, -0.2908033 , -1.4651134 ,\n",
       "       -2.6863668 ,  0.7999443 , -0.6957915 , -0.5018775 ,  3.5025773 ,\n",
       "        0.21326113, -0.6588098 , -1.1900496 ,  0.61399573,  2.1247969 ,\n",
       "        0.1549463 ,  3.0840218 ,  3.1680267 , -3.9143991 ,  3.6073153 ,\n",
       "        0.5315545 , -0.3511633 , -1.107248  ,  1.7767181 , -0.95981866,\n",
       "        2.6072454 , -0.00697957, -3.27628   ,  1.558644  ,  0.81922376,\n",
       "        1.9231955 ,  3.7026553 , -0.53824735, -0.4920138 ,  2.4657123 ,\n",
       "       -2.620749  , -0.08950733,  0.61453176,  1.8866426 ,  0.257866  ,\n",
       "       -2.7827141 ,  2.9129577 , -0.6313133 ,  2.0387425 , -4.222685  ,\n",
       "       -2.7560544 ,  1.7903243 , -1.3080189 , -2.5531402 , -0.43849912,\n",
       "       -3.1073573 , -0.29090825,  5.1817617 ,  1.9604833 , -5.1421604 ,\n",
       "       -0.71431434,  4.5624633 , -0.55525815, -3.3019137 ,  1.6761336 ,\n",
       "       -1.9606539 , -0.2726863 ,  0.2465995 ,  1.2685091 ,  1.6055685 ,\n",
       "        1.8344896 ,  1.2752469 ,  0.99503314, -2.3348706 , -0.9290329 ,\n",
       "       -1.5920266 ,  5.693834  ,  1.1132814 , -0.9603875 , -1.970055  ,\n",
       "       -1.0120267 , -2.7289615 , -2.7759619 ,  3.214084  ,  1.8573734 ,\n",
       "       -1.3495721 , -0.10321241,  3.434593  , -2.8573685 , -1.9004927 ,\n",
       "       -1.6801298 , -2.805677  ,  1.7723105 , -0.41865307, -2.310913  ,\n",
       "       -6.2761464 , -0.8376036 ,  2.4590037 ,  2.1697695 , -4.440443  ],\n",
       "      dtype=float32)"
      ]
     },
     "execution_count": 17,
     "metadata": {},
     "output_type": "execute_result"
    }
   ],
   "source": [
    "word2vec_file_path = os.getenv('HOME') + '/aiffel/sentiment_classification/data/word2vec_ko.model'\n",
    "word2vec = Word2VecKeyedVectors.load(word2vec_file_path)\n",
    "vector = word2vec.wv['끝']\n",
    "vector"
   ]
  },
  {
   "cell_type": "code",
   "execution_count": 18,
   "id": "a074248e",
   "metadata": {},
   "outputs": [
    {
     "name": "stdout",
     "output_type": "stream",
     "text": [
      "[('드라마', 0.8418774008750916), ('뮤지컬', 0.7775140404701233), ('코미디', 0.7489107251167297), ('다큐멘터리', 0.7401294708251953), ('헐리우드', 0.7397844195365906), ('애니메이션', 0.7170552015304565), ('독립영화', 0.7113528251647949), ('로맨틱', 0.7107657194137573), ('장편', 0.7101576924324036), ('극영화', 0.7045413255691528)]\n",
      "[('마지막', 0.6325399875640869), ('결판', 0.5526015758514404), ('발목', 0.5465342402458191), ('산산조각', 0.5418900847434998), ('막바지', 0.5412753820419312), ('싫증', 0.5256820917129517), ('양쪽', 0.5253474116325378), ('무릎', 0.5246764421463013), ('후', 0.5051813721656799), ('이어진', 0.5038793087005615)]\n"
     ]
    }
   ],
   "source": [
    "print(word2vec.wv.most_similar('영화'))\n",
    "print(word2vec.wv.most_similar('끝'))"
   ]
  },
  {
   "cell_type": "code",
   "execution_count": 19,
   "id": "5632a563",
   "metadata": {},
   "outputs": [],
   "source": [
    "embedding_matrix = np.random.rand(vocab_size, word_vector_dim)\n",
    "\n",
    "# embedding_matrix에 Word2Vec 워드 벡터를 단어 하나씩마다 차례차례 카피한다.\n",
    "for i in range(4,vocab_size):\n",
    "    if index_to_word[i] in word2vec.wv:\n",
    "        embedding_matrix[i] = word2vec.wv[index_to_word[i]]"
   ]
  },
  {
   "cell_type": "code",
   "execution_count": 20,
   "id": "536addc9",
   "metadata": {},
   "outputs": [
    {
     "name": "stdout",
     "output_type": "stream",
     "text": [
      "Model: \"sequential_1\"\n",
      "_________________________________________________________________\n",
      "Layer (type)                 Output Shape              Param #   \n",
      "=================================================================\n",
      "embedding_2 (Embedding)      (None, 41, 100)           1000000   \n",
      "_________________________________________________________________\n",
      "dropout_3 (Dropout)          (None, 41, 100)           0         \n",
      "_________________________________________________________________\n",
      "lstm_1 (LSTM)                (None, 64)                42240     \n",
      "_________________________________________________________________\n",
      "dropout_4 (Dropout)          (None, 64)                0         \n",
      "_________________________________________________________________\n",
      "dense_2 (Dense)              (None, 8)                 520       \n",
      "_________________________________________________________________\n",
      "dropout_5 (Dropout)          (None, 8)                 0         \n",
      "_________________________________________________________________\n",
      "dense_3 (Dense)              (None, 1)                 9         \n",
      "=================================================================\n",
      "Total params: 1,042,769\n",
      "Trainable params: 1,042,769\n",
      "Non-trainable params: 0\n",
      "_________________________________________________________________\n"
     ]
    }
   ],
   "source": [
    "# model 설계 - 딥러닝 모델 코드를 직접 작성해 주세요.\n",
    "model = tf.keras.Sequential()\n",
    "model.add(tf.keras.layers.Embedding(vocab_size, word_vector_dim,\n",
    "                                 embeddings_initializer=Constant(embedding_matrix),  # 카피한 임베딩을 여기서 활용\n",
    "                                 input_length=maxlen, \n",
    "                                 trainable=True))   # trainable을 True로 주면 Fine-tuning\n",
    "model.add(tf.keras.layers.Dropout(0.2))\n",
    "model.add(tf.keras.layers.LSTM(64))   # 가장 널리 쓰이는 RNN인 LSTM 레이어를 사용하였습니다. 이때 LSTM state 벡터의 차원수는 16로 하였습니다. (변경 가능)\n",
    "model.add(tf.keras.layers.Dropout(0.2))\n",
    "model.add(tf.keras.layers.Dense(8, activation='relu'))\n",
    "model.add(tf.keras.layers.Dropout(0.2))\n",
    "model.add(tf.keras.layers.Dense(1, activation='sigmoid'))  # 최종 출력은 긍정/부정을 나타내는 1dim 입니다.\n",
    "\n",
    "model.summary()"
   ]
  },
  {
   "cell_type": "code",
   "execution_count": 21,
   "id": "20fd4e0c",
   "metadata": {},
   "outputs": [
    {
     "name": "stdout",
     "output_type": "stream",
     "text": [
      "Epoch 1/50\n",
      "229/229 [==============================] - 4s 9ms/step - loss: 0.5753 - accuracy: 0.6889 - val_loss: 0.4458 - val_accuracy: 0.7931\n",
      "Epoch 2/50\n",
      "229/229 [==============================] - 2s 7ms/step - loss: 0.4507 - accuracy: 0.7939 - val_loss: 0.3838 - val_accuracy: 0.8264\n",
      "Epoch 3/50\n",
      "229/229 [==============================] - 2s 7ms/step - loss: 0.4015 - accuracy: 0.8220 - val_loss: 0.3582 - val_accuracy: 0.8405\n",
      "Epoch 4/50\n",
      "229/229 [==============================] - 2s 7ms/step - loss: 0.3720 - accuracy: 0.8371 - val_loss: 0.3417 - val_accuracy: 0.8517\n",
      "Epoch 5/50\n",
      "229/229 [==============================] - 2s 7ms/step - loss: 0.3545 - accuracy: 0.8468 - val_loss: 0.3368 - val_accuracy: 0.8539\n",
      "Epoch 6/50\n",
      "229/229 [==============================] - 2s 7ms/step - loss: 0.3395 - accuracy: 0.8542 - val_loss: 0.3269 - val_accuracy: 0.8589\n",
      "Epoch 7/50\n",
      "229/229 [==============================] - 2s 7ms/step - loss: 0.3300 - accuracy: 0.8582 - val_loss: 0.3268 - val_accuracy: 0.8601\n",
      "Epoch 8/50\n",
      "229/229 [==============================] - 2s 7ms/step - loss: 0.3190 - accuracy: 0.8656 - val_loss: 0.3224 - val_accuracy: 0.8631\n",
      "Epoch 9/50\n",
      "229/229 [==============================] - 2s 8ms/step - loss: 0.3129 - accuracy: 0.8673 - val_loss: 0.3242 - val_accuracy: 0.8637\n",
      "Epoch 10/50\n",
      "229/229 [==============================] - 2s 8ms/step - loss: 0.3046 - accuracy: 0.8707 - val_loss: 0.3179 - val_accuracy: 0.8678\n",
      "Epoch 11/50\n",
      "229/229 [==============================] - 2s 8ms/step - loss: 0.2980 - accuracy: 0.8760 - val_loss: 0.3245 - val_accuracy: 0.8688\n",
      "Epoch 12/50\n",
      "229/229 [==============================] - 2s 7ms/step - loss: 0.2914 - accuracy: 0.8775 - val_loss: 0.3226 - val_accuracy: 0.8684\n",
      "Epoch 13/50\n",
      "229/229 [==============================] - 2s 7ms/step - loss: 0.2865 - accuracy: 0.8804 - val_loss: 0.3257 - val_accuracy: 0.8673\n"
     ]
    }
   ],
   "source": [
    "# 학습의 진행\n",
    "model.compile(optimizer='adam', # changing optimizer learning rate : optimizer=tf.keras.optimizer.Adam(learning_rate=1e-3)\n",
    "              loss='binary_crossentropy',\n",
    "              metrics=['accuracy'],)\n",
    "              \n",
    "history = model.fit(X_train,\n",
    "                    y_train,\n",
    "                    epochs=epoch,\n",
    "                    batch_size=512,\n",
    "                    validation_split=0.2,\n",
    "                    callbacks=early_stopping,\n",
    "                    verbose=1)"
   ]
  },
  {
   "cell_type": "code",
   "execution_count": 22,
   "id": "06b27884",
   "metadata": {},
   "outputs": [
    {
     "name": "stdout",
     "output_type": "stream",
     "text": [
      "1537/1537 - 3s - loss: 0.3390 - accuracy: 0.8621\n",
      "[0.33903250098228455, 0.8621152639389038]\n"
     ]
    }
   ],
   "source": [
    "# 테스트셋을 통한 모델 평가\n",
    "results = model.evaluate(X_test,  y_test, verbose=2)\n",
    "\n",
    "print(results)"
   ]
  },
  {
   "cell_type": "markdown",
   "id": "1211d312",
   "metadata": {},
   "source": [
    "## 1-D CNN"
   ]
  },
  {
   "cell_type": "code",
   "execution_count": 23,
   "id": "41004ca6",
   "metadata": {},
   "outputs": [
    {
     "name": "stdout",
     "output_type": "stream",
     "text": [
      "Model: \"sequential_2\"\n",
      "_________________________________________________________________\n",
      "Layer (type)                 Output Shape              Param #   \n",
      "=================================================================\n",
      "embedding_3 (Embedding)      (None, None, 100)         1000000   \n",
      "_________________________________________________________________\n",
      "dropout_6 (Dropout)          (None, None, 100)         0         \n",
      "_________________________________________________________________\n",
      "conv1d (Conv1D)              (None, None, 16)          11216     \n",
      "_________________________________________________________________\n",
      "dropout_7 (Dropout)          (None, None, 16)          0         \n",
      "_________________________________________________________________\n",
      "max_pooling1d (MaxPooling1D) (None, None, 16)          0         \n",
      "_________________________________________________________________\n",
      "dropout_8 (Dropout)          (None, None, 16)          0         \n",
      "_________________________________________________________________\n",
      "conv1d_1 (Conv1D)            (None, None, 16)          1808      \n",
      "_________________________________________________________________\n",
      "dropout_9 (Dropout)          (None, None, 16)          0         \n",
      "_________________________________________________________________\n",
      "global_max_pooling1d (Global (None, 16)                0         \n",
      "_________________________________________________________________\n",
      "dropout_10 (Dropout)         (None, 16)                0         \n",
      "_________________________________________________________________\n",
      "dense_4 (Dense)              (None, 8)                 136       \n",
      "_________________________________________________________________\n",
      "dropout_11 (Dropout)         (None, 8)                 0         \n",
      "_________________________________________________________________\n",
      "dense_5 (Dense)              (None, 1)                 9         \n",
      "=================================================================\n",
      "Total params: 1,013,169\n",
      "Trainable params: 1,013,169\n",
      "Non-trainable params: 0\n",
      "_________________________________________________________________\n"
     ]
    }
   ],
   "source": [
    "model = tf.keras.Sequential()\n",
    "model.add(tf.keras.layers.Embedding(vocab_size, word_vector_dim, input_shape=(None,)))\n",
    "model.add(tf.keras.layers.Dropout(0.2))\n",
    "model.add(tf.keras.layers.Conv1D(16, 7, activation='relu'))\n",
    "model.add(tf.keras.layers.Dropout(0.2))\n",
    "model.add(tf.keras.layers.MaxPooling1D(5))\n",
    "model.add(tf.keras.layers.Dropout(0.2))\n",
    "model.add(tf.keras.layers.Conv1D(16, 7, activation='relu'))\n",
    "model.add(tf.keras.layers.Dropout(0.2))\n",
    "model.add(tf.keras.layers.GlobalMaxPooling1D())\n",
    "model.add(tf.keras.layers.Dropout(0.2))\n",
    "model.add(tf.keras.layers.Dense(8, activation='relu'))\n",
    "model.add(tf.keras.layers.Dropout(0.2))\n",
    "model.add(tf.keras.layers.Dense(1, activation='sigmoid'))  # 최종 출력은 긍정/부정을 나타내는 1dim 입니다.\n",
    "\n",
    "model.summary()"
   ]
  },
  {
   "cell_type": "code",
   "execution_count": 24,
   "id": "96cd4a03",
   "metadata": {},
   "outputs": [
    {
     "name": "stdout",
     "output_type": "stream",
     "text": [
      "Epoch 1/50\n",
      "229/229 [==============================] - 3s 7ms/step - loss: 0.5289 - accuracy: 0.7276 - val_loss: 0.3657 - val_accuracy: 0.8422\n",
      "Epoch 2/50\n",
      "229/229 [==============================] - 1s 6ms/step - loss: 0.3682 - accuracy: 0.8497 - val_loss: 0.3394 - val_accuracy: 0.8528\n",
      "Epoch 3/50\n",
      "229/229 [==============================] - 1s 6ms/step - loss: 0.3272 - accuracy: 0.8682 - val_loss: 0.3326 - val_accuracy: 0.8568\n",
      "Epoch 4/50\n",
      "229/229 [==============================] - 1s 6ms/step - loss: 0.2960 - accuracy: 0.8811 - val_loss: 0.3359 - val_accuracy: 0.8556\n",
      "Epoch 5/50\n",
      "229/229 [==============================] - 1s 6ms/step - loss: 0.2663 - accuracy: 0.8969 - val_loss: 0.3495 - val_accuracy: 0.8528\n"
     ]
    }
   ],
   "source": [
    "model.compile(optimizer='adam', loss='binary_crossentropy', metrics=['accuracy'])\n",
    "# changing optimizer learning rate : optimizer=tf.keras.optimizer.Adam(learning_rate=1e-3)\n",
    "\n",
    "history = model.fit(X_train,\n",
    "                    y_train,\n",
    "                    epochs=epoch,\n",
    "                    batch_size=512,\n",
    "                    validation_split=0.2,\n",
    "                    callbacks=early_stopping,\n",
    "                    verbose=1)"
   ]
  },
  {
   "cell_type": "code",
   "execution_count": 25,
   "id": "0ecd3a6f",
   "metadata": {},
   "outputs": [
    {
     "name": "stdout",
     "output_type": "stream",
     "text": [
      "dict_keys(['loss', 'accuracy', 'val_loss', 'val_accuracy'])\n"
     ]
    },
    {
     "data": {
      "image/png": "[encoded data removed]",
      "text/plain": [
       "<Figure size 432x288 with 1 Axes>"
      ]
     },
     "metadata": {
      "needs_background": "light"
     },
     "output_type": "display_data"
    }
   ],
   "source": [
    "history_dict = history.history\n",
    "print(history_dict.keys()) # epoch에 따른 그래프를 그려볼 수 있는 항목들\n",
    "\n",
    "acc = history_dict['accuracy']\n",
    "val_acc = history_dict['val_accuracy']\n",
    "loss = history_dict['loss']\n",
    "val_loss = history_dict['val_loss']\n",
    "\n",
    "epochs = range(1, len(acc) + 1)\n",
    "\n",
    "# \"bo\"는 \"파란색 점\"입니다\n",
    "plt.plot(epochs, loss, 'bo', label='Training loss')\n",
    "# b는 \"파란 실선\"입니다\n",
    "plt.plot(epochs, val_loss, 'b', label='Validation loss')\n",
    "plt.title('Training and validation loss')\n",
    "plt.xlabel('Epochs')\n",
    "plt.ylabel('Loss')\n",
    "plt.legend()\n",
    "\n",
    "plt.show()"
   ]
  },
  {
   "cell_type": "code",
   "execution_count": 26,
   "id": "3e0eea8b",
   "metadata": {},
   "outputs": [
    {
     "data": {
      "image/png": "[encoded data removed]",
      "text/plain": [
       "<Figure size 432x288 with 1 Axes>"
      ]
     },
     "metadata": {
      "needs_background": "light"
     },
     "output_type": "display_data"
    }
   ],
   "source": [
    "plt.clf()   # 그림을 초기화합니다\n",
    "\n",
    "plt.plot(epochs, acc, 'bo', label='Training acc')\n",
    "plt.plot(epochs, val_acc, 'b', label='Validation acc')\n",
    "plt.title('Training and validation accuracy')\n",
    "plt.xlabel('Epochs')\n",
    "plt.ylabel('Accuracy')\n",
    "plt.legend()\n",
    "\n",
    "plt.show()"
   ]
  },
  {
   "cell_type": "code",
   "execution_count": 27,
   "id": "2d703480",
   "metadata": {},
   "outputs": [
    {
     "name": "stdout",
     "output_type": "stream",
     "text": [
      "1537/1537 - 3s - loss: 0.3536 - accuracy: 0.8502\n"
     ]
    }
   ],
   "source": [
    "result = model.evaluate(X_test, y_test, verbose=2) #0.8528"
   ]
  },
  {
   "cell_type": "code",
   "execution_count": 28,
   "id": "13fe9406",
   "metadata": {},
   "outputs": [],
   "source": [
    "# 학습한 Embedding 파라미터를 파일에 써서 저장합니다. \n",
    "word2vec_file_path = os.getenv('HOME')+'/aiffel/sentiment_classification/data/word2vec.txt'\n",
    "f = open(word2vec_file_path, 'w')\n",
    "f.write('{} {}\\n'.format(vocab_size-4, word_vector_dim))  # 몇개의 벡터를 얼마 사이즈로 기재할지 타이틀을 씁니다.\n",
    "\n",
    "# 단어 개수(에서 특수문자 4개는 제외하고)만큼의 워드 벡터를 파일에 기록합니다. \n",
    "vectors = model.get_weights()[0]\n",
    "for i in range(4,vocab_size):\n",
    "    f.write('{} {}\\n'.format(index_to_word[i], ' '.join(map(str, list(vectors[i, :])))))\n",
    "f.close()"
   ]
  },
  {
   "cell_type": "code",
   "execution_count": 29,
   "id": "55c21a60",
   "metadata": {},
   "outputs": [
    {
     "data": {
      "text/plain": [
       "array([-0.01099372,  0.00360892, -0.00205192,  0.01665706, -0.01386241,\n",
       "        0.01959182,  0.01178118,  0.02230112,  0.04301004,  0.00203041,\n",
       "       -0.00651331,  0.00463925,  0.0452404 ,  0.05368001,  0.02464261,\n",
       "        0.00806881,  0.00445313,  0.02292169, -0.01685156, -0.00567405,\n",
       "       -0.03833687,  0.02049153, -0.0071995 , -0.00902289, -0.03263934,\n",
       "       -0.01069261,  0.02170811, -0.00709436, -0.02576612,  0.02122753,\n",
       "       -0.02008373,  0.00030319,  0.00883347,  0.04265922,  0.05256716,\n",
       "       -0.00668952,  0.04407386, -0.02304407, -0.00605355,  0.00653796,\n",
       "       -0.0517576 ,  0.03886561,  0.01854204,  0.03345982, -0.03688717,\n",
       "        0.01100003,  0.02135065, -0.05302712, -0.00053081,  0.01813706,\n",
       "        0.05944268,  0.00835326,  0.04232287,  0.02656437,  0.00120489,\n",
       "        0.00876114, -0.04819718, -0.05345993, -0.03743309,  0.01436577,\n",
       "        0.0132713 ,  0.01647734,  0.0026471 ,  0.03832681, -0.05481616,\n",
       "        0.01075026, -0.01905985, -0.00317194, -0.00526653,  0.0187866 ,\n",
       "       -0.03202635, -0.06114409,  0.0221142 , -0.05134948, -0.03405726,\n",
       "       -0.0447369 , -0.04051227, -0.03478142,  0.02395862,  0.00639024,\n",
       "        0.01783683, -0.05428882, -0.03698428,  0.03451398,  0.02298937,\n",
       "       -0.00357311, -0.0240975 , -0.01338901, -0.00600728,  0.00643261,\n",
       "        0.03773651,  0.00118808,  0.00111033,  0.02236506,  0.08125386,\n",
       "       -0.00450231,  0.05763932, -0.02145053, -0.06565274, -0.00787268],\n",
       "      dtype=float32)"
      ]
     },
     "execution_count": 29,
     "metadata": {},
     "output_type": "execute_result"
    }
   ],
   "source": [
    "word_vectors = Word2VecKeyedVectors.load_word2vec_format(word2vec_file_path, binary=False)\n",
    "vector = word_vectors['영화']\n",
    "vector"
   ]
  },
  {
   "cell_type": "code",
   "execution_count": 30,
   "id": "e2cf09ad",
   "metadata": {},
   "outputs": [
    {
     "name": "stdout",
     "output_type": "stream",
     "text": [
      "[('쩐', 0.41241028904914856), ('습니다', 0.4002785384654999), ('d', 0.3942773938179016), ('신성', 0.3872101604938507), ('드리', 0.3799425959587097), ('명복', 0.36757543683052063), ('시네마', 0.3662514090538025), ('리라', 0.3649052381515503), ('라이토', 0.36346304416656494), ('애정', 0.3581434190273285)]\n",
      "[('했어도', 0.40517327189445496), ('정말', 0.40096110105514526), ('보통', 0.4005664885044098), ('필수', 0.39494574069976807), ('본성', 0.386637419462204), ('라라', 0.3776002824306488), ('갱스터', 0.3738860785961151), ('공격', 0.36497634649276733), ('냐구', 0.36432650685310364), ('금물', 0.3548336327075958)]\n"
     ]
    }
   ],
   "source": [
    "print(word_vectors.similar_by_word(\"영화\"))\n",
    "print(word_vectors.similar_by_word(\"나\"))"
   ]
  },
  {
   "cell_type": "code",
   "execution_count": 31,
   "id": "d337b4df",
   "metadata": {},
   "outputs": [
    {
     "data": {
      "text/plain": [
       "array([ 1.038851  , -1.1634965 ,  2.2386286 ,  0.8971453 , -2.088168  ,\n",
       "       -4.1942534 , -0.02519768, -0.69813883, -0.2908033 , -1.4651134 ,\n",
       "       -2.6863668 ,  0.7999443 , -0.6957915 , -0.5018775 ,  3.5025773 ,\n",
       "        0.21326113, -0.6588098 , -1.1900496 ,  0.61399573,  2.1247969 ,\n",
       "        0.1549463 ,  3.0840218 ,  3.1680267 , -3.9143991 ,  3.6073153 ,\n",
       "        0.5315545 , -0.3511633 , -1.107248  ,  1.7767181 , -0.95981866,\n",
       "        2.6072454 , -0.00697957, -3.27628   ,  1.558644  ,  0.81922376,\n",
       "        1.9231955 ,  3.7026553 , -0.53824735, -0.4920138 ,  2.4657123 ,\n",
       "       -2.620749  , -0.08950733,  0.61453176,  1.8866426 ,  0.257866  ,\n",
       "       -2.7827141 ,  2.9129577 , -0.6313133 ,  2.0387425 , -4.222685  ,\n",
       "       -2.7560544 ,  1.7903243 , -1.3080189 , -2.5531402 , -0.43849912,\n",
       "       -3.1073573 , -0.29090825,  5.1817617 ,  1.9604833 , -5.1421604 ,\n",
       "       -0.71431434,  4.5624633 , -0.55525815, -3.3019137 ,  1.6761336 ,\n",
       "       -1.9606539 , -0.2726863 ,  0.2465995 ,  1.2685091 ,  1.6055685 ,\n",
       "        1.8344896 ,  1.2752469 ,  0.99503314, -2.3348706 , -0.9290329 ,\n",
       "       -1.5920266 ,  5.693834  ,  1.1132814 , -0.9603875 , -1.970055  ,\n",
       "       -1.0120267 , -2.7289615 , -2.7759619 ,  3.214084  ,  1.8573734 ,\n",
       "       -1.3495721 , -0.10321241,  3.434593  , -2.8573685 , -1.9004927 ,\n",
       "       -1.6801298 , -2.805677  ,  1.7723105 , -0.41865307, -2.310913  ,\n",
       "       -6.2761464 , -0.8376036 ,  2.4590037 ,  2.1697695 , -4.440443  ],\n",
       "      dtype=float32)"
      ]
     },
     "execution_count": 31,
     "metadata": {},
     "output_type": "execute_result"
    }
   ],
   "source": [
    "word2vec_file_path = os.getenv('HOME') + '/aiffel/sentiment_classification/data/word2vec_ko.model'\n",
    "word2vec = Word2VecKeyedVectors.load(word2vec_file_path)\n",
    "vector = word2vec.wv['끝']\n",
    "vector"
   ]
  },
  {
   "cell_type": "code",
   "execution_count": 32,
   "id": "be4fdbf7",
   "metadata": {},
   "outputs": [
    {
     "name": "stdout",
     "output_type": "stream",
     "text": [
      "[('드라마', 0.8418774008750916), ('뮤지컬', 0.7775140404701233), ('코미디', 0.7489107251167297), ('다큐멘터리', 0.7401294708251953), ('헐리우드', 0.7397844195365906), ('애니메이션', 0.7170552015304565), ('독립영화', 0.7113528251647949), ('로맨틱', 0.7107657194137573), ('장편', 0.7101576924324036), ('극영화', 0.7045413255691528)]\n",
      "[('든', 0.546347975730896), ('와', 0.5454912781715393), ('똥', 0.5381466150283813), ('항상', 0.5252891778945923), ('가', 0.5160491466522217), ('누에', 0.5154241919517517), ('목욕', 0.5139148235321045), ('성게', 0.5074856281280518), ('내', 0.5045832991600037), ('미역', 0.5039044618606567)]\n"
     ]
    }
   ],
   "source": [
    "print(word2vec.wv.most_similar(\"영화\"))\n",
    "print(word2vec.wv.most_similar(\"나\"))"
   ]
  },
  {
   "cell_type": "code",
   "execution_count": 33,
   "id": "1aa90d74",
   "metadata": {},
   "outputs": [],
   "source": [
    "embedding_matrix = np.random.rand(vocab_size, word_vector_dim)\n",
    "\n",
    "# embedding_matrix에 Word2Vec 워드 벡터를 단어 하나씩마다 차례차례 카피한다.\n",
    "for i in range(4,vocab_size):\n",
    "    if index_to_word[i] in word2vec.wv:\n",
    "        embedding_matrix[i] = word2vec.wv[index_to_word[i]]"
   ]
  },
  {
   "cell_type": "code",
   "execution_count": 34,
   "id": "8925e140",
   "metadata": {},
   "outputs": [
    {
     "name": "stdout",
     "output_type": "stream",
     "text": [
      "Model: \"sequential_3\"\n",
      "_________________________________________________________________\n",
      "Layer (type)                 Output Shape              Param #   \n",
      "=================================================================\n",
      "embedding_4 (Embedding)      (None, 41, 100)           1000000   \n",
      "_________________________________________________________________\n",
      "dropout_12 (Dropout)         (None, 41, 100)           0         \n",
      "_________________________________________________________________\n",
      "conv1d_2 (Conv1D)            (None, 35, 16)            11216     \n",
      "_________________________________________________________________\n",
      "dropout_13 (Dropout)         (None, 35, 16)            0         \n",
      "_________________________________________________________________\n",
      "max_pooling1d_1 (MaxPooling1 (None, 7, 16)             0         \n",
      "_________________________________________________________________\n",
      "dropout_14 (Dropout)         (None, 7, 16)             0         \n",
      "_________________________________________________________________\n",
      "conv1d_3 (Conv1D)            (None, 1, 16)             1808      \n",
      "_________________________________________________________________\n",
      "dropout_15 (Dropout)         (None, 1, 16)             0         \n",
      "_________________________________________________________________\n",
      "global_max_pooling1d_1 (Glob (None, 16)                0         \n",
      "_________________________________________________________________\n",
      "dropout_16 (Dropout)         (None, 16)                0         \n",
      "_________________________________________________________________\n",
      "dense_6 (Dense)              (None, 8)                 136       \n",
      "_________________________________________________________________\n",
      "dropout_17 (Dropout)         (None, 8)                 0         \n",
      "_________________________________________________________________\n",
      "dense_7 (Dense)              (None, 1)                 9         \n",
      "=================================================================\n",
      "Total params: 1,013,169\n",
      "Trainable params: 1,013,169\n",
      "Non-trainable params: 0\n",
      "_________________________________________________________________\n"
     ]
    }
   ],
   "source": [
    "# 모델 구성\n",
    "model = tf.keras.Sequential()\n",
    "model.add(tf.keras.layers.Embedding(vocab_size, word_vector_dim,\n",
    "                                 embeddings_initializer=Constant(embedding_matrix),  # 카피한 임베딩을 여기서 활용\n",
    "                                 input_length=maxlen, \n",
    "                                 trainable=True))   # trainable을 True로 주면 Fine-tuning\n",
    "model.add(tf.keras.layers.Dropout(0.2))\n",
    "model.add(tf.keras.layers.Conv1D(16, 7, activation='relu'))\n",
    "model.add(tf.keras.layers.Dropout(0.2))\n",
    "model.add(tf.keras.layers.MaxPooling1D(5))\n",
    "model.add(tf.keras.layers.Dropout(0.2))\n",
    "model.add(tf.keras.layers.Conv1D(16, 7, activation='relu'))\n",
    "model.add(tf.keras.layers.Dropout(0.2))\n",
    "model.add(tf.keras.layers.GlobalMaxPooling1D())\n",
    "model.add(tf.keras.layers.Dropout(0.2))\n",
    "model.add(tf.keras.layers.Dense(8, activation='relu'))\n",
    "model.add(tf.keras.layers.Dropout(0.2))\n",
    "model.add(tf.keras.layers.Dense(1, activation='sigmoid')) \n",
    "\n",
    "model.summary()"
   ]
  },
  {
   "cell_type": "code",
   "execution_count": 35,
   "id": "be3819d1",
   "metadata": {},
   "outputs": [
    {
     "name": "stdout",
     "output_type": "stream",
     "text": [
      "Epoch 1/50\n",
      "229/229 [==============================] - 2s 7ms/step - loss: 0.7102 - accuracy: 0.5113 - val_loss: 0.6879 - val_accuracy: 0.5724\n",
      "Epoch 2/50\n",
      "229/229 [==============================] - 1s 6ms/step - loss: 0.6523 - accuracy: 0.6053 - val_loss: 0.5742 - val_accuracy: 0.7283\n",
      "Epoch 3/50\n",
      "229/229 [==============================] - 1s 6ms/step - loss: 0.5736 - accuracy: 0.7079 - val_loss: 0.5054 - val_accuracy: 0.7796\n",
      "Epoch 4/50\n",
      "229/229 [==============================] - 1s 6ms/step - loss: 0.5220 - accuracy: 0.7498 - val_loss: 0.4590 - val_accuracy: 0.8032\n",
      "Epoch 5/50\n",
      "229/229 [==============================] - 1s 6ms/step - loss: 0.4869 - accuracy: 0.7763 - val_loss: 0.4324 - val_accuracy: 0.8173\n",
      "Epoch 6/50\n",
      "229/229 [==============================] - 1s 6ms/step - loss: 0.4616 - accuracy: 0.7926 - val_loss: 0.4096 - val_accuracy: 0.8263\n",
      "Epoch 7/50\n",
      "229/229 [==============================] - 1s 6ms/step - loss: 0.4449 - accuracy: 0.8032 - val_loss: 0.4038 - val_accuracy: 0.8306\n",
      "Epoch 8/50\n",
      "229/229 [==============================] - 1s 6ms/step - loss: 0.4317 - accuracy: 0.8110 - val_loss: 0.3856 - val_accuracy: 0.8350\n",
      "Epoch 9/50\n",
      "229/229 [==============================] - 1s 6ms/step - loss: 0.4196 - accuracy: 0.8188 - val_loss: 0.3826 - val_accuracy: 0.8384\n",
      "Epoch 10/50\n",
      "229/229 [==============================] - 1s 6ms/step - loss: 0.4114 - accuracy: 0.8216 - val_loss: 0.3711 - val_accuracy: 0.8400\n",
      "Epoch 11/50\n",
      "229/229 [==============================] - 1s 6ms/step - loss: 0.4024 - accuracy: 0.8279 - val_loss: 0.3666 - val_accuracy: 0.8430\n",
      "Epoch 12/50\n",
      "229/229 [==============================] - 1s 6ms/step - loss: 0.3954 - accuracy: 0.8297 - val_loss: 0.3655 - val_accuracy: 0.8444\n",
      "Epoch 13/50\n",
      "229/229 [==============================] - 1s 6ms/step - loss: 0.3916 - accuracy: 0.8339 - val_loss: 0.3593 - val_accuracy: 0.8463\n",
      "Epoch 14/50\n",
      "229/229 [==============================] - 1s 6ms/step - loss: 0.3853 - accuracy: 0.8367 - val_loss: 0.3556 - val_accuracy: 0.8455\n",
      "Epoch 15/50\n",
      "229/229 [==============================] - 1s 6ms/step - loss: 0.3783 - accuracy: 0.8403 - val_loss: 0.3511 - val_accuracy: 0.8482\n",
      "Epoch 16/50\n",
      "229/229 [==============================] - 1s 6ms/step - loss: 0.3749 - accuracy: 0.8409 - val_loss: 0.3486 - val_accuracy: 0.8484\n",
      "Epoch 17/50\n",
      "229/229 [==============================] - 1s 6ms/step - loss: 0.3696 - accuracy: 0.8445 - val_loss: 0.3504 - val_accuracy: 0.8486\n",
      "Epoch 18/50\n",
      "229/229 [==============================] - 1s 6ms/step - loss: 0.3680 - accuracy: 0.8439 - val_loss: 0.3462 - val_accuracy: 0.8476\n",
      "Epoch 19/50\n",
      "229/229 [==============================] - 1s 6ms/step - loss: 0.3632 - accuracy: 0.8470 - val_loss: 0.3460 - val_accuracy: 0.8498\n",
      "Epoch 20/50\n",
      "229/229 [==============================] - 1s 6ms/step - loss: 0.3605 - accuracy: 0.8489 - val_loss: 0.3409 - val_accuracy: 0.8514\n",
      "Epoch 21/50\n",
      "229/229 [==============================] - 1s 6ms/step - loss: 0.3564 - accuracy: 0.8510 - val_loss: 0.3392 - val_accuracy: 0.8518\n",
      "Epoch 22/50\n",
      "229/229 [==============================] - 1s 6ms/step - loss: 0.3530 - accuracy: 0.8524 - val_loss: 0.3384 - val_accuracy: 0.8534\n",
      "Epoch 23/50\n",
      "229/229 [==============================] - 1s 6ms/step - loss: 0.3483 - accuracy: 0.8550 - val_loss: 0.3368 - val_accuracy: 0.8535\n",
      "Epoch 24/50\n",
      "229/229 [==============================] - 1s 6ms/step - loss: 0.3468 - accuracy: 0.8541 - val_loss: 0.3367 - val_accuracy: 0.8529\n",
      "Epoch 25/50\n",
      "229/229 [==============================] - 1s 6ms/step - loss: 0.3431 - accuracy: 0.8556 - val_loss: 0.3345 - val_accuracy: 0.8533\n"
     ]
    }
   ],
   "source": [
    "model.compile(optimizer='adam', loss='binary_crossentropy', metrics=['accuracy'])\n",
    "# changing optimizer learning rate : optimizer=tf.keras.optimizer.Adam(learning_rate=1e-3)\n",
    "\n",
    "history = model.fit(X_train,\n",
    "                    y_train,\n",
    "                    epochs=epoch,\n",
    "                    batch_size=512,\n",
    "                    validation_split=0.2,\n",
    "                    callbacks=early_stopping,\n",
    "                    verbose=1)"
   ]
  },
  {
   "cell_type": "code",
   "execution_count": 36,
   "id": "584bbd37",
   "metadata": {},
   "outputs": [
    {
     "name": "stdout",
     "output_type": "stream",
     "text": [
      "1537/1537 - 2s - loss: 0.3396 - accuracy: 0.8518\n"
     ]
    }
   ],
   "source": [
    "result = model.evaluate(X_test, y_test, verbose=2) #0.8528"
   ]
  },
  {
   "cell_type": "markdown",
   "id": "25064c0e",
   "metadata": {},
   "source": [
    "### GlobalMaxPooling1D"
   ]
  },
  {
   "cell_type": "code",
   "execution_count": 37,
   "id": "ce5bc1c1",
   "metadata": {},
   "outputs": [
    {
     "name": "stdout",
     "output_type": "stream",
     "text": [
      "Model: \"sequential_4\"\n",
      "_________________________________________________________________\n",
      "Layer (type)                 Output Shape              Param #   \n",
      "=================================================================\n",
      "embedding_5 (Embedding)      (None, None, 100)         1000000   \n",
      "_________________________________________________________________\n",
      "dropout_18 (Dropout)         (None, None, 100)         0         \n",
      "_________________________________________________________________\n",
      "global_max_pooling1d_2 (Glob (None, 100)               0         \n",
      "_________________________________________________________________\n",
      "dropout_19 (Dropout)         (None, 100)               0         \n",
      "_________________________________________________________________\n",
      "dense_8 (Dense)              (None, 8)                 808       \n",
      "_________________________________________________________________\n",
      "dropout_20 (Dropout)         (None, 8)                 0         \n",
      "_________________________________________________________________\n",
      "dense_9 (Dense)              (None, 1)                 9         \n",
      "=================================================================\n",
      "Total params: 1,000,817\n",
      "Trainable params: 1,000,817\n",
      "Non-trainable params: 0\n",
      "_________________________________________________________________\n"
     ]
    }
   ],
   "source": [
    "model = tf.keras.Sequential()\n",
    "model.add(tf.keras.layers.Embedding(vocab_size, word_vector_dim, input_shape=(None,)))\n",
    "model.add(tf.keras.layers.Dropout(0.2))\n",
    "model.add(tf.keras.layers.GlobalMaxPooling1D())\n",
    "model.add(tf.keras.layers.Dropout(0.2))\n",
    "model.add(tf.keras.layers.Dense(8, activation='relu'))\n",
    "model.add(tf.keras.layers.Dropout(0.2))\n",
    "model.add(tf.keras.layers.Dense(1, activation='sigmoid'))  # 최종 출력은 긍정/부정을 나타내는 1dim 입니다.\n",
    "\n",
    "model.summary()"
   ]
  },
  {
   "cell_type": "code",
   "execution_count": 38,
   "id": "229dabbd",
   "metadata": {},
   "outputs": [
    {
     "name": "stdout",
     "output_type": "stream",
     "text": [
      "Epoch 1/50\n",
      "229/229 [==============================] - 2s 5ms/step - loss: 0.5303 - accuracy: 0.7483 - val_loss: 0.3891 - val_accuracy: 0.8354\n",
      "Epoch 2/50\n",
      "229/229 [==============================] - 1s 4ms/step - loss: 0.3753 - accuracy: 0.8408 - val_loss: 0.3547 - val_accuracy: 0.8487\n",
      "Epoch 3/50\n",
      "229/229 [==============================] - 1s 4ms/step - loss: 0.3453 - accuracy: 0.8583 - val_loss: 0.3460 - val_accuracy: 0.8513\n",
      "Epoch 4/50\n",
      "229/229 [==============================] - 1s 4ms/step - loss: 0.3256 - accuracy: 0.8679 - val_loss: 0.3444 - val_accuracy: 0.8520\n",
      "Epoch 5/50\n",
      "229/229 [==============================] - 1s 4ms/step - loss: 0.3134 - accuracy: 0.8741 - val_loss: 0.3441 - val_accuracy: 0.8509\n",
      "Epoch 6/50\n",
      "229/229 [==============================] - 1s 4ms/step - loss: 0.3045 - accuracy: 0.8788 - val_loss: 0.3446 - val_accuracy: 0.8516\n"
     ]
    }
   ],
   "source": [
    "model.compile(optimizer='adam', loss='binary_crossentropy', metrics=['accuracy'])\n",
    "# changing optimizer learning rate : optimizer=tf.keras.optimizer.Adam(learning_rate=1e-3)\n",
    "\n",
    "history = model.fit(X_train,\n",
    "                    y_train,\n",
    "                    epochs=epoch,\n",
    "                    batch_size=512,\n",
    "                    validation_split=0.2,\n",
    "                    callbacks=early_stopping,\n",
    "                    verbose=1)"
   ]
  },
  {
   "cell_type": "code",
   "execution_count": 39,
   "id": "e8d136a1",
   "metadata": {},
   "outputs": [
    {
     "name": "stdout",
     "output_type": "stream",
     "text": [
      "dict_keys(['loss', 'accuracy', 'val_loss', 'val_accuracy'])\n"
     ]
    },
    {
     "data": {
      "image/png": "[encoded data removed]",
      "text/plain": [
       "<Figure size 432x288 with 1 Axes>"
      ]
     },
     "metadata": {
      "needs_background": "light"
     },
     "output_type": "display_data"
    }
   ],
   "source": [
    "history_dict = history.history\n",
    "print(history_dict.keys()) # epoch에 따른 그래프를 그려볼 수 있는 항목들\n",
    "\n",
    "acc = history_dict['accuracy']\n",
    "val_acc = history_dict['val_accuracy']\n",
    "loss = history_dict['loss']\n",
    "val_loss = history_dict['val_loss']\n",
    "\n",
    "epochs = range(1, len(acc) + 1)\n",
    "\n",
    "# \"bo\"는 \"파란색 점\"입니다\n",
    "plt.plot(epochs, loss, 'bo', label='Training loss')\n",
    "# b는 \"파란 실선\"입니다\n",
    "plt.plot(epochs, val_loss, 'b', label='Validation loss')\n",
    "plt.title('Training and validation loss')\n",
    "plt.xlabel('Epochs')\n",
    "plt.ylabel('Loss')\n",
    "plt.legend()\n",
    "\n",
    "plt.show()"
   ]
  },
  {
   "cell_type": "code",
   "execution_count": 40,
   "id": "717b39e2",
   "metadata": {},
   "outputs": [
    {
     "data": {
      "image/png": "[encoded data removed]",
      "text/plain": [
       "<Figure size 432x288 with 1 Axes>"
      ]
     },
     "metadata": {
      "needs_background": "light"
     },
     "output_type": "display_data"
    }
   ],
   "source": [
    "plt.clf()   # 그림을 초기화합니다\n",
    "\n",
    "plt.plot(epochs, acc, 'bo', label='Training acc')\n",
    "plt.plot(epochs, val_acc, 'b', label='Validation acc')\n",
    "plt.title('Training and validation accuracy')\n",
    "plt.xlabel('Epochs')\n",
    "plt.ylabel('Accuracy')\n",
    "plt.legend()\n",
    "\n",
    "plt.show()"
   ]
  },
  {
   "cell_type": "code",
   "execution_count": 41,
   "id": "8ee5e475",
   "metadata": {},
   "outputs": [
    {
     "name": "stdout",
     "output_type": "stream",
     "text": [
      "1537/1537 - 2s - loss: 0.3523 - accuracy: 0.8465\n"
     ]
    }
   ],
   "source": [
    "result = model.evaluate(X_test, y_test, verbose=2) #0.8528"
   ]
  },
  {
   "cell_type": "code",
   "execution_count": 42,
   "id": "c9e4aed8",
   "metadata": {},
   "outputs": [],
   "source": [
    "# 학습한 Embedding 파라미터를 파일에 써서 저장합니다. \n",
    "word2vec_file_path = os.getenv('HOME')+'/aiffel/sentiment_classification/data/word2vec.txt'\n",
    "f = open(word2vec_file_path, 'w')\n",
    "f.write('{} {}\\n'.format(vocab_size-4, word_vector_dim))  # 몇개의 벡터를 얼마 사이즈로 기재할지 타이틀을 씁니다.\n",
    "\n",
    "# 단어 개수(에서 특수문자 4개는 제외하고)만큼의 워드 벡터를 파일에 기록합니다. \n",
    "vectors = model.get_weights()[0]\n",
    "for i in range(4,vocab_size):\n",
    "    f.write('{} {}\\n'.format(index_to_word[i], ' '.join(map(str, list(vectors[i, :])))))\n",
    "f.close()"
   ]
  },
  {
   "cell_type": "code",
   "execution_count": 43,
   "id": "7c407b33",
   "metadata": {},
   "outputs": [
    {
     "data": {
      "text/plain": [
       "array([-0.00909607, -0.00412592, -0.01204597, -0.00322462, -0.04804758,\n",
       "        0.00778334, -0.04098774, -0.02723762, -0.00260816, -0.00406305,\n",
       "       -0.00255359, -0.0052585 , -0.00327519, -0.04622067, -0.04508838,\n",
       "       -0.00251254, -0.02979277, -0.02346618, -0.01283307, -0.04261519,\n",
       "       -0.00390274, -0.00425251, -0.00993877, -0.00760305, -0.00324748,\n",
       "        0.00536722, -0.04519489, -0.03820354, -0.00312719, -0.0017163 ,\n",
       "       -0.04684147, -0.04621753, -0.00444323,  0.02901006, -0.00340378,\n",
       "       -0.03174254, -0.0053081 ,  0.05522755, -0.00470962, -0.04884449,\n",
       "        0.05075246, -0.00920505, -0.00098384, -0.00574633, -0.01672866,\n",
       "       -0.00518666, -0.02201864, -0.00410079, -0.01106229, -0.01047765,\n",
       "       -0.00539248, -0.00979506, -0.02699096, -0.01867846, -0.01846895,\n",
       "       -0.00858642, -0.04489883, -0.02742648, -0.03135455, -0.01405588,\n",
       "       -0.01717361, -0.00369471, -0.00280083, -0.00558889, -0.03122239,\n",
       "       -0.03235247, -0.02222031, -0.00402722, -0.04886702, -0.00261805,\n",
       "       -0.0023426 , -0.00499435, -0.0056436 , -0.00634   , -0.01464499,\n",
       "       -0.0082156 , -0.00465253, -0.00974699, -0.00546422, -0.00448741,\n",
       "       -0.04383064, -0.01559249, -0.00645819, -0.01236848, -0.00552819,\n",
       "        0.02984288, -0.00457373, -0.04304936, -0.04399323, -0.02674021,\n",
       "       -0.02938971, -0.00937392, -0.0017072 , -0.00529115, -0.01078612,\n",
       "       -0.02433914, -0.00387561, -0.00078192,  0.00204206, -0.00793527],\n",
       "      dtype=float32)"
      ]
     },
     "execution_count": 43,
     "metadata": {},
     "output_type": "execute_result"
    }
   ],
   "source": [
    "word_vectors = Word2VecKeyedVectors.load_word2vec_format(word2vec_file_path, binary=False)\n",
    "vector = word_vectors['영화']\n",
    "vector"
   ]
  },
  {
   "cell_type": "code",
   "execution_count": 44,
   "id": "574a30fd",
   "metadata": {},
   "outputs": [
    {
     "name": "stdout",
     "output_type": "stream",
     "text": [
      "[('까지', 0.5503398180007935), (',', 0.5078725218772888), ('연기력', 0.49874815344810486), ('되', 0.4836415648460388), ('인', 0.469645231962204), ('이런', 0.4612053632736206), ('듬', 0.46021926403045654), ('나', 0.4573058784008026), ('아', 0.4503738582134247), ('존재감', 0.448356568813324)]\n",
      "[('인', 0.5479284524917603), ('다', 0.4824025630950928), ('것', 0.47672370076179504), ('일', 0.4642624258995056), ('을', 0.4609019458293915), (',', 0.4602898061275482), ('영화', 0.4573058784008026), ('도움', 0.4541778862476349), ('고', 0.44915440678596497), ('같이', 0.4486711919307709)]\n"
     ]
    }
   ],
   "source": [
    "print(word_vectors.similar_by_word(\"영화\"))\n",
    "print(word_vectors.similar_by_word(\"나\"))"
   ]
  },
  {
   "cell_type": "code",
   "execution_count": 45,
   "id": "1f3e0f18",
   "metadata": {},
   "outputs": [
    {
     "data": {
      "text/plain": [
       "array([ 1.038851  , -1.1634965 ,  2.2386286 ,  0.8971453 , -2.088168  ,\n",
       "       -4.1942534 , -0.02519768, -0.69813883, -0.2908033 , -1.4651134 ,\n",
       "       -2.6863668 ,  0.7999443 , -0.6957915 , -0.5018775 ,  3.5025773 ,\n",
       "        0.21326113, -0.6588098 , -1.1900496 ,  0.61399573,  2.1247969 ,\n",
       "        0.1549463 ,  3.0840218 ,  3.1680267 , -3.9143991 ,  3.6073153 ,\n",
       "        0.5315545 , -0.3511633 , -1.107248  ,  1.7767181 , -0.95981866,\n",
       "        2.6072454 , -0.00697957, -3.27628   ,  1.558644  ,  0.81922376,\n",
       "        1.9231955 ,  3.7026553 , -0.53824735, -0.4920138 ,  2.4657123 ,\n",
       "       -2.620749  , -0.08950733,  0.61453176,  1.8866426 ,  0.257866  ,\n",
       "       -2.7827141 ,  2.9129577 , -0.6313133 ,  2.0387425 , -4.222685  ,\n",
       "       -2.7560544 ,  1.7903243 , -1.3080189 , -2.5531402 , -0.43849912,\n",
       "       -3.1073573 , -0.29090825,  5.1817617 ,  1.9604833 , -5.1421604 ,\n",
       "       -0.71431434,  4.5624633 , -0.55525815, -3.3019137 ,  1.6761336 ,\n",
       "       -1.9606539 , -0.2726863 ,  0.2465995 ,  1.2685091 ,  1.6055685 ,\n",
       "        1.8344896 ,  1.2752469 ,  0.99503314, -2.3348706 , -0.9290329 ,\n",
       "       -1.5920266 ,  5.693834  ,  1.1132814 , -0.9603875 , -1.970055  ,\n",
       "       -1.0120267 , -2.7289615 , -2.7759619 ,  3.214084  ,  1.8573734 ,\n",
       "       -1.3495721 , -0.10321241,  3.434593  , -2.8573685 , -1.9004927 ,\n",
       "       -1.6801298 , -2.805677  ,  1.7723105 , -0.41865307, -2.310913  ,\n",
       "       -6.2761464 , -0.8376036 ,  2.4590037 ,  2.1697695 , -4.440443  ],\n",
       "      dtype=float32)"
      ]
     },
     "execution_count": 45,
     "metadata": {},
     "output_type": "execute_result"
    }
   ],
   "source": [
    "word2vec_file_path = os.getenv('HOME') + '/aiffel/sentiment_classification/data/word2vec_ko.model'\n",
    "word2vec = Word2VecKeyedVectors.load(word2vec_file_path)\n",
    "vector = word2vec.wv['끝']\n",
    "vector"
   ]
  },
  {
   "cell_type": "code",
   "execution_count": 46,
   "id": "e005de78",
   "metadata": {},
   "outputs": [
    {
     "name": "stdout",
     "output_type": "stream",
     "text": [
      "[('드라마', 0.8418774008750916), ('뮤지컬', 0.7775140404701233), ('코미디', 0.7489107251167297), ('다큐멘터리', 0.7401294708251953), ('헐리우드', 0.7397844195365906), ('애니메이션', 0.7170552015304565), ('독립영화', 0.7113528251647949), ('로맨틱', 0.7107657194137573), ('장편', 0.7101576924324036), ('극영화', 0.7045413255691528)]\n",
      "[('든', 0.546347975730896), ('와', 0.5454912781715393), ('똥', 0.5381466150283813), ('항상', 0.5252891778945923), ('가', 0.5160491466522217), ('누에', 0.5154241919517517), ('목욕', 0.5139148235321045), ('성게', 0.5074856281280518), ('내', 0.5045832991600037), ('미역', 0.5039044618606567)]\n"
     ]
    }
   ],
   "source": [
    "print(word2vec.wv.most_similar(\"영화\"))\n",
    "print(word2vec.wv.most_similar(\"나\"))"
   ]
  },
  {
   "cell_type": "code",
   "execution_count": 47,
   "id": "7da2a417",
   "metadata": {},
   "outputs": [],
   "source": [
    "embedding_matrix = np.random.rand(vocab_size, word_vector_dim)\n",
    "\n",
    "# embedding_matrix에 Word2Vec 워드 벡터를 단어 하나씩마다 차례차례 카피한다.\n",
    "for i in range(4,vocab_size):\n",
    "    if index_to_word[i] in word2vec.wv:\n",
    "        embedding_matrix[i] = word2vec.wv[index_to_word[i]]"
   ]
  },
  {
   "cell_type": "code",
   "execution_count": 48,
   "id": "079fb32b",
   "metadata": {},
   "outputs": [
    {
     "name": "stdout",
     "output_type": "stream",
     "text": [
      "Model: \"sequential_5\"\n",
      "_________________________________________________________________\n",
      "Layer (type)                 Output Shape              Param #   \n",
      "=================================================================\n",
      "embedding_6 (Embedding)      (None, 41, 100)           1000000   \n",
      "_________________________________________________________________\n",
      "dropout_21 (Dropout)         (None, 41, 100)           0         \n",
      "_________________________________________________________________\n",
      "conv1d_4 (Conv1D)            (None, 35, 16)            11216     \n",
      "_________________________________________________________________\n",
      "dropout_22 (Dropout)         (None, 35, 16)            0         \n",
      "_________________________________________________________________\n",
      "max_pooling1d_2 (MaxPooling1 (None, 7, 16)             0         \n",
      "_________________________________________________________________\n",
      "dropout_23 (Dropout)         (None, 7, 16)             0         \n",
      "_________________________________________________________________\n",
      "conv1d_5 (Conv1D)            (None, 1, 16)             1808      \n",
      "_________________________________________________________________\n",
      "dropout_24 (Dropout)         (None, 1, 16)             0         \n",
      "_________________________________________________________________\n",
      "global_max_pooling1d_3 (Glob (None, 16)                0         \n",
      "_________________________________________________________________\n",
      "dropout_25 (Dropout)         (None, 16)                0         \n",
      "_________________________________________________________________\n",
      "dense_10 (Dense)             (None, 8)                 136       \n",
      "_________________________________________________________________\n",
      "dropout_26 (Dropout)         (None, 8)                 0         \n",
      "_________________________________________________________________\n",
      "dense_11 (Dense)             (None, 1)                 9         \n",
      "=================================================================\n",
      "Total params: 1,013,169\n",
      "Trainable params: 1,013,169\n",
      "Non-trainable params: 0\n",
      "_________________________________________________________________\n"
     ]
    }
   ],
   "source": [
    "# 모델 구성\n",
    "model = tf.keras.Sequential()\n",
    "model.add(tf.keras.layers.Embedding(vocab_size, word_vector_dim,\n",
    "                                 embeddings_initializer=Constant(embedding_matrix),  # 카피한 임베딩을 여기서 활용\n",
    "                                 input_length=maxlen, \n",
    "                                 trainable=True))   # trainable을 True로 주면 Fine-tuning\n",
    "model.add(tf.keras.layers.Dropout(0.2))\n",
    "model.add(tf.keras.layers.Conv1D(16, 7, activation='relu'))\n",
    "model.add(tf.keras.layers.Dropout(0.2))\n",
    "model.add(tf.keras.layers.MaxPooling1D(5))\n",
    "model.add(tf.keras.layers.Dropout(0.2))\n",
    "model.add(tf.keras.layers.Conv1D(16, 7, activation='relu'))\n",
    "model.add(tf.keras.layers.Dropout(0.2))\n",
    "model.add(tf.keras.layers.GlobalMaxPooling1D())\n",
    "model.add(tf.keras.layers.Dropout(0.2))\n",
    "model.add(tf.keras.layers.Dense(8, activation='relu'))\n",
    "model.add(tf.keras.layers.Dropout(0.2))\n",
    "model.add(tf.keras.layers.Dense(1, activation='sigmoid')) \n",
    "\n",
    "model.summary()"
   ]
  },
  {
   "cell_type": "code",
   "execution_count": 49,
   "id": "d71d952a",
   "metadata": {},
   "outputs": [
    {
     "name": "stdout",
     "output_type": "stream",
     "text": [
      "Epoch 1/50\n",
      "229/229 [==============================] - 2s 7ms/step - loss: 0.6883 - accuracy: 0.5515 - val_loss: 0.6209 - val_accuracy: 0.6977\n",
      "Epoch 2/50\n",
      "229/229 [==============================] - 1s 6ms/step - loss: 0.6027 - accuracy: 0.6812 - val_loss: 0.5240 - val_accuracy: 0.7624\n",
      "Epoch 3/50\n",
      "229/229 [==============================] - 1s 6ms/step - loss: 0.5398 - accuracy: 0.7402 - val_loss: 0.4735 - val_accuracy: 0.7916\n",
      "Epoch 4/50\n",
      "229/229 [==============================] - 1s 6ms/step - loss: 0.4990 - accuracy: 0.7694 - val_loss: 0.4390 - val_accuracy: 0.8110\n",
      "Epoch 5/50\n",
      "229/229 [==============================] - 1s 6ms/step - loss: 0.4656 - accuracy: 0.7904 - val_loss: 0.4143 - val_accuracy: 0.8230\n",
      "Epoch 6/50\n",
      "229/229 [==============================] - 1s 6ms/step - loss: 0.4434 - accuracy: 0.8042 - val_loss: 0.3946 - val_accuracy: 0.8306\n",
      "Epoch 7/50\n",
      "229/229 [==============================] - 1s 6ms/step - loss: 0.4281 - accuracy: 0.8127 - val_loss: 0.3824 - val_accuracy: 0.8341\n",
      "Epoch 8/50\n",
      "229/229 [==============================] - 1s 6ms/step - loss: 0.4143 - accuracy: 0.8196 - val_loss: 0.3724 - val_accuracy: 0.8379\n",
      "Epoch 9/50\n",
      "229/229 [==============================] - 1s 6ms/step - loss: 0.4044 - accuracy: 0.8256 - val_loss: 0.3651 - val_accuracy: 0.8405\n",
      "Epoch 10/50\n",
      "229/229 [==============================] - 1s 6ms/step - loss: 0.3947 - accuracy: 0.8304 - val_loss: 0.3624 - val_accuracy: 0.8435\n",
      "Epoch 11/50\n",
      "229/229 [==============================] - 1s 6ms/step - loss: 0.3866 - accuracy: 0.8337 - val_loss: 0.3587 - val_accuracy: 0.8447\n",
      "Epoch 12/50\n",
      "229/229 [==============================] - 1s 6ms/step - loss: 0.3789 - accuracy: 0.8370 - val_loss: 0.3525 - val_accuracy: 0.8468\n",
      "Epoch 13/50\n",
      "229/229 [==============================] - 1s 6ms/step - loss: 0.3732 - accuracy: 0.8390 - val_loss: 0.3503 - val_accuracy: 0.8479\n",
      "Epoch 14/50\n",
      "229/229 [==============================] - 1s 6ms/step - loss: 0.3676 - accuracy: 0.8427 - val_loss: 0.3498 - val_accuracy: 0.8498\n",
      "Epoch 15/50\n",
      "229/229 [==============================] - 1s 6ms/step - loss: 0.3640 - accuracy: 0.8443 - val_loss: 0.3431 - val_accuracy: 0.8513\n",
      "Epoch 16/50\n",
      "229/229 [==============================] - 1s 6ms/step - loss: 0.3598 - accuracy: 0.8473 - val_loss: 0.3431 - val_accuracy: 0.8515\n",
      "Epoch 17/50\n",
      "229/229 [==============================] - 1s 6ms/step - loss: 0.3544 - accuracy: 0.8496 - val_loss: 0.3470 - val_accuracy: 0.8526\n",
      "Epoch 18/50\n",
      "229/229 [==============================] - 1s 6ms/step - loss: 0.3506 - accuracy: 0.8520 - val_loss: 0.3403 - val_accuracy: 0.8524\n",
      "Epoch 19/50\n",
      "229/229 [==============================] - 1s 6ms/step - loss: 0.3507 - accuracy: 0.8511 - val_loss: 0.3392 - val_accuracy: 0.8533\n",
      "Epoch 20/50\n",
      "229/229 [==============================] - 1s 6ms/step - loss: 0.3450 - accuracy: 0.8546 - val_loss: 0.3362 - val_accuracy: 0.8541\n",
      "Epoch 21/50\n",
      "229/229 [==============================] - 1s 6ms/step - loss: 0.3434 - accuracy: 0.8555 - val_loss: 0.3405 - val_accuracy: 0.8536\n",
      "Epoch 22/50\n",
      "229/229 [==============================] - 1s 6ms/step - loss: 0.3418 - accuracy: 0.8565 - val_loss: 0.3360 - val_accuracy: 0.8535\n"
     ]
    }
   ],
   "source": [
    "model.compile(optimizer='adam', loss='binary_crossentropy', metrics=['accuracy'])\n",
    "# changing optimizer learning rate : optimizer=tf.keras.optimizer.Adam(learning_rate=1e-3)\n",
    "\n",
    "history = model.fit(X_train,\n",
    "                    y_train,\n",
    "                    epochs=epoch,\n",
    "                    batch_size=512,\n",
    "                    validation_split=0.2,\n",
    "                    callbacks=early_stopping,\n",
    "                    verbose=1)"
   ]
  },
  {
   "cell_type": "code",
   "execution_count": 50,
   "id": "e19a189c",
   "metadata": {},
   "outputs": [
    {
     "name": "stdout",
     "output_type": "stream",
     "text": [
      "1537/1537 - 2s - loss: 0.3396 - accuracy: 0.8533\n"
     ]
    }
   ],
   "source": [
    "result = model.evaluate(X_test, y_test, verbose=2) #0.8528"
   ]
  },
  {
   "attachments": {
    "image-2.png": {
     "image/png": "[encoded data removed]"
    },
    "image.png": {
     "image/png": "[encoded data removed]"
    }
   },
   "cell_type": "markdown",
   "id": "5affa1fa",
   "metadata": {},
   "source": [
    "# 회고\n",
    "\n",
    "1회차\n",
    "- 이번 프로젝트를 진행하며 3가지 방식으로 모델을 구축하였다.\n",
    "    - RNN, 1-D CNN, 그리고 Globalmaxpooling 1D\n",
    "- 처음에는 데이터 전처리 흐름이 잘 이해하기 힘들어서 여러번 노드를 보며 진행하였다.\n",
    "    - IMDB의 데이터셋은 인코딩부터 word_to_index까지 다 이미 모듈이 있어서 다운을 받음으로 해결이 되었지만, Naver Sentiment Movie Corpus (NSMC)는 전혀 가공되지 않은 파일이어서 전처리 과정이 힘들었다.\n",
    "- 시각화를 해본 결과, loss가 0.6 이하로 내려가지 않았고 accuracy도 50% 이상으로 올라가지 않았다\n",
    "\n",
    "2회차\n",
    "- 1회차 때 모델 학습결과가 크게 바뀌지 않는것에 의문이 들었고, 자세히 살펴본 결과 단어사전의 크기를 10으로 두었다는 것을 알게됐다.\n",
    "- 또한 벡터 차원의 수도 4로 둔것을 찾아냈다.\n",
    "- 단어사전 크기를 10000으로 그리고 벡터 차원의 수는 16으로 바꿔주니 loss값과 accuracy값이 올라가는 것을 확인할 수 있었다.\n",
    "- 다만 val_accuracy가 기대치에 못 미치는 경향을 보였다.\n",
    "- 그 이유가 그래프에서 볼 수 있듯이 학습을 하면 할수록 overfitting 되는 상황이 발생하기 때문이었다.\n",
    "- epoch을 20으로 할 때나 50으로 할 때 비슷한 경향을 보였다.\n",
    "\n",
    "![image.png](attachment:image.png)\n",
    "\n",
    "![image-2.png](attachment:image-2.png)\n",
    "\n",
    "- 과적합을 방지하기 위해 early stopping을 추가해 주었고, model blueprint에 dropout도 추가해 주었고, 기대치에 맞는 정확도를 보였다.\n",
    "- 정확도는 맞췄지만, 단어 '영화'와 '나'의 유사단어들을 보니 비슷한 느낌을 주는 단어들이 나오지 않았다.\n",
    "\n",
    "3회차\n",
    "- 단어의 유사도를 맞추기 위해 `word2vec_ko.model`를 사용했다.\n",
    "    - `FileNotFoundError: [Errno 2] No such file or directory: '/aiffel/aiffel/sentiment_classification/data/word2vec_ko.model.wv.vectors.npy'` 에러가 났다\n",
    "    - 파일이 없다는 에러라는 걸 알았지만, `word2vec_ko.model`모델을 돌리면 `.wv` `wv.vectors.npy`등등 나오는 것으로 처음엔 생각해서 많이 헤맸다.\n",
    "- `word2vec_ko.model`을 불러오는 문제가 무사히 해결되고 나서 generator cannot be iterated라는 문제가 word2vec에서 embedding matrix에 덮어씌우고 새로 학습하려는 과정에서 생겼다.\n",
    "    - 결국에는 word2vec 뒤에 `.wv`를 안 붙여서 생기는 문제라는 것을 알아서 고쳤다.\n",
    "- Google vocab dataset처럼 단어장을 불러오고 덮어씌우고 과정에서 5% 정확도의 상승률을 기대했지만, 1%이하로 상승했었다.\n"
   ]
  },
  {
   "cell_type": "code",
   "execution_count": null,
   "id": "9868b10d",
   "metadata": {},
   "outputs": [],
   "source": []
  }
 ],
 "metadata": {
  "kernelspec": {
   "display_name": "Python 3 (ipykernel)",
   "language": "python",
   "name": "python3"
  },
  "language_info": {
   "codemirror_mode": {
    "name": "ipython",
    "version": 3
   },
   "file_extension": ".py",
   "mimetype": "text/x-python",
   "name": "python",
   "nbconvert_exporter": "python",
   "pygments_lexer": "ipython3",
   "version": "3.9.7"
  }
 },
 "nbformat": 4,
 "nbformat_minor": 5
}
