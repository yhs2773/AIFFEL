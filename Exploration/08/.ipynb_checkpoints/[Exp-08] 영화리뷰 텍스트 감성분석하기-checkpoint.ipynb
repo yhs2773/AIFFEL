{
 "cells": [
  {
   "cell_type": "markdown",
   "id": "dda34346",
   "metadata": {},
   "source": [
    "# Preprocessing"
   ]
  },
  {
   "cell_type": "code",
   "execution_count": 1,
   "id": "e41fbde6",
   "metadata": {},
   "outputs": [],
   "source": [
    "import pandas\n",
    "import os\n",
    "import pandas as pd\n",
    "import numpy as np\n",
    "import tensorflow as tf\n",
    "import matplotlib.pyplot as plt\n",
    "import konlpy # KoNLPy: Korean language processing package that consists of kolaw (Korean constitution) corpus and\n",
    "              # kobill (Korean national assembly bill) corpus. Can check file name with 'fields' method and read with 'open' method\n",
    "import gensim # library for training large-scale semantic NLP models, representing text as semantic vectors,\n",
    "               # and finding sementically related documents. Includes word 2 vector\n",
    "\n",
    "from konlpy.tag import Mecab # originally a Japanese morphological analyzer and a POS tagger developed by the\n",
    "                              # Graduate School of Informatics in Kyoto University, was modified to MeCab-ko by the\n",
    "                              # Eunjeon Project to adapt to the Korean language\n",
    "from collections import Counter # dict subclass for counting hashable objects\n",
    "from gensim.models.keyedvectors import Word2VecKeyedVectors # implements word vectors, and more generally\n",
    "                                                             # sets of vectors keyed by lookup tokens/ints\n",
    "from tensorflow.keras.callbacks import EarlyStopping\n",
    "from tensorflow.keras.initializers import Constant # initializer that generates tensors with constant values"
   ]
  },
  {
   "cell_type": "code",
   "execution_count": 2,
   "id": "ecbe3199",
   "metadata": {},
   "outputs": [
    {
     "data": {
      "text/html": [
       "<div>\n",
       "<style scoped>\n",
       "    .dataframe tbody tr th:only-of-type {\n",
       "        vertical-align: middle;\n",
       "    }\n",
       "\n",
       "    .dataframe tbody tr th {\n",
       "        vertical-align: top;\n",
       "    }\n",
       "\n",
       "    .dataframe thead th {\n",
       "        text-align: right;\n",
       "    }\n",
       "</style>\n",
       "<table border=\"1\" class=\"dataframe\">\n",
       "  <thead>\n",
       "    <tr style=\"text-align: right;\">\n",
       "      <th></th>\n",
       "      <th>id</th>\n",
       "      <th>document</th>\n",
       "      <th>label</th>\n",
       "    </tr>\n",
       "  </thead>\n",
       "  <tbody>\n",
       "    <tr>\n",
       "      <th>0</th>\n",
       "      <td>6270596</td>\n",
       "      <td>굳 ㅋ</td>\n",
       "      <td>1</td>\n",
       "    </tr>\n",
       "    <tr>\n",
       "      <th>1</th>\n",
       "      <td>9274899</td>\n",
       "      <td>GDNTOPCLASSINTHECLUB</td>\n",
       "      <td>0</td>\n",
       "    </tr>\n",
       "    <tr>\n",
       "      <th>2</th>\n",
       "      <td>8544678</td>\n",
       "      <td>뭐야 이 평점들은.... 나쁘진 않지만 10점 짜리는 더더욱 아니잖아</td>\n",
       "      <td>0</td>\n",
       "    </tr>\n",
       "    <tr>\n",
       "      <th>3</th>\n",
       "      <td>6825595</td>\n",
       "      <td>지루하지는 않은데 완전 막장임... 돈주고 보기에는....</td>\n",
       "      <td>0</td>\n",
       "    </tr>\n",
       "    <tr>\n",
       "      <th>4</th>\n",
       "      <td>6723715</td>\n",
       "      <td>3D만 아니었어도 별 다섯 개 줬을텐데.. 왜 3D로 나와서 제 심기를 불편하게 하죠??</td>\n",
       "      <td>0</td>\n",
       "    </tr>\n",
       "  </tbody>\n",
       "</table>\n",
       "</div>"
      ],
      "text/plain": [
       "        id                                           document  label\n",
       "0  6270596                                                굳 ㅋ      1\n",
       "1  9274899                               GDNTOPCLASSINTHECLUB      0\n",
       "2  8544678             뭐야 이 평점들은.... 나쁘진 않지만 10점 짜리는 더더욱 아니잖아      0\n",
       "3  6825595                   지루하지는 않은데 완전 막장임... 돈주고 보기에는....      0\n",
       "4  6723715  3D만 아니었어도 별 다섯 개 줬을텐데.. 왜 3D로 나와서 제 심기를 불편하게 하죠??      0"
      ]
     },
     "execution_count": 2,
     "metadata": {},
     "output_type": "execute_result"
    }
   ],
   "source": [
    "# loading data\n",
    "train_data = pd.read_table('~/aiffel/sentiment_classification/data/ratings_train.txt')\n",
    "test_data = pd.read_table('~/aiffel/sentiment_classification/data/ratings_test.txt')\n",
    "\n",
    "train_data.head()\n",
    "test_data.head()"
   ]
  },
  {
   "cell_type": "markdown",
   "id": "a305bab2",
   "metadata": {},
   "source": [
    "# Tokenization"
   ]
  },
  {
   "cell_type": "code",
   "execution_count": 3,
   "id": "68e93f6f",
   "metadata": {},
   "outputs": [],
   "source": [
    "# tokenizing Korean\n",
    "tokenizer = Mecab()\n",
    "stopwords = ['의','가','이','은','들','는','좀','잘','걍','과','도','를','으로','자','에','와','한','하다']\n",
    "\n",
    "def load_data(train_data, test_data, num_words=10000):\n",
    "    train_data.drop_duplicates(subset=['document'], inplace=True)\n",
    "    train_data = train_data.dropna(how = 'any') \n",
    "    test_data.drop_duplicates(subset=['document'], inplace=True)\n",
    "    test_data = test_data.dropna(how = 'any') \n",
    "    \n",
    "    X_train = []\n",
    "    for sentence in train_data['document']:\n",
    "        temp_X = tokenizer.morphs(sentence) # tokenizing\n",
    "        temp_X = [word for word in temp_X if not word in stopwords] # removing stopwords\n",
    "        X_train.append(temp_X)\n",
    "\n",
    "    X_test = []\n",
    "    for sentence in test_data['document']:\n",
    "        temp_X = tokenizer.morphs(sentence) # tokenizing\n",
    "        temp_X = [word for word in temp_X if not word in stopwords] # removing stopwords\n",
    "        X_test.append(temp_X)\n",
    "    \n",
    "    words = np.concatenate(X_train).tolist() # making into a list\n",
    "    counter = Counter(words) # counting words\n",
    "    counter = counter.most_common(10000-4) # sorting words by appearance/count from highest to lowest\n",
    "    vocab = ['<PAD>', '<BOS>', '<UNK>', ''] + [key for key, _ in counter] # total vocab\n",
    "    word_to_index = {word:index for index, word in enumerate(vocab)} # word to index dict\n",
    "        \n",
    "    def wordlist_to_indexlist(wordlist):\n",
    "        return [word_to_index[word] if word in word_to_index else word_to_index[''] for word in wordlist]\n",
    "        \n",
    "    X_train = list(map(wordlist_to_indexlist, X_train))\n",
    "    X_test = list(map(wordlist_to_indexlist, X_test))\n",
    "        \n",
    "    return X_train, np.array(list(train_data['label'])), X_test, np.array(list(test_data['label'])), word_to_index\n",
    "    \n",
    "X_train, y_train, X_test, y_test, word_to_index = load_data(train_data, test_data)"
   ]
  },
  {
   "cell_type": "code",
   "execution_count": 4,
   "id": "4cda4a71",
   "metadata": {},
   "outputs": [],
   "source": [
    "# index to word dict\n",
    "index_to_word = {index:word for word, index in word_to_index.items()}"
   ]
  },
  {
   "cell_type": "code",
   "execution_count": 5,
   "id": "9cfb856c",
   "metadata": {},
   "outputs": [
    {
     "name": "stdout",
     "output_type": "stream",
     "text": [
      "문장길이 평균 :  15.96940191154864\n",
      "문장길이 최대 :  116\n",
      "문장길이 표준편차 :  12.843571191092\n",
      "pad_sequences maxlen :  41\n",
      "전체 문장의 0.9342988343341575%가 maxlen 설정값 이내에 포함됩니다. \n"
     ]
    }
   ],
   "source": [
    "# making total data from train and test lists\n",
    "total_data_text = list(X_train) + list(X_test)\n",
    "# 텍스트데이터 문장길이의 리스트를 생성한 후\n",
    "num_tokens = [len(tokens) for tokens in total_data_text] # length of text data\n",
    "num_tokens = np.array(num_tokens)\n",
    "\n",
    "# calculating mean, max, and std of the length\n",
    "print('문장길이 평균 : ', np.mean(num_tokens))\n",
    "print('문장길이 최대 : ', np.max(num_tokens))\n",
    "print('문장길이 표준편차 : ', np.std(num_tokens))\n",
    "\n",
    "# setting max length to be mean + std * 2 for padding purposes\n",
    "max_tokens = np.mean(num_tokens) + 2 * np.std(num_tokens)\n",
    "maxlen = int(max_tokens)\n",
    "print('pad_sequences maxlen : ', maxlen)\n",
    "print('전체 문장의 {}%가 maxlen 설정값 이내에 포함됩니다. '.format(np.sum(num_tokens < max_tokens) / len(num_tokens)))"
   ]
  },
  {
   "cell_type": "code",
   "execution_count": 6,
   "id": "c9c6b264",
   "metadata": {},
   "outputs": [],
   "source": [
    "# add padding upto the length of the set max length (41)\n",
    "X_train = tf.keras.preprocessing.sequence.pad_sequences(X_train, maxlen=maxlen, value=word_to_index['<PAD>'])\n",
    "X_test = tf.keras.preprocessing.sequence.pad_sequences(X_test, maxlen=maxlen, value=word_to_index['<PAD>'])"
   ]
  },
  {
   "cell_type": "markdown",
   "id": "77875f0f",
   "metadata": {},
   "source": [
    "# Text classification models"
   ]
  },
  {
   "cell_type": "markdown",
   "id": "8ed80044",
   "metadata": {},
   "source": [
    "### Common parameters"
   ]
  },
  {
   "cell_type": "code",
   "execution_count": 7,
   "id": "bf4d7266",
   "metadata": {},
   "outputs": [],
   "source": [
    "vocab_size = 10000    # total size of vocab\n",
    "word_vector_dim = 100  # word vector dimension\n",
    "\n",
    "epoch = 150\n",
    "\n",
    "early_stopping = EarlyStopping(monitor='val_accuracy', patience=3)"
   ]
  },
  {
   "cell_type": "markdown",
   "id": "028190a5",
   "metadata": {},
   "source": [
    "## RNN"
   ]
  },
  {
   "cell_type": "code",
   "execution_count": 8,
   "id": "0c62bccb",
   "metadata": {},
   "outputs": [
    {
     "name": "stdout",
     "output_type": "stream",
     "text": [
      "Model: \"sequential\"\n",
      "_________________________________________________________________\n",
      "Layer (type)                 Output Shape              Param #   \n",
      "=================================================================\n",
      "embedding (Embedding)        (None, None, 100)         1000000   \n",
      "_________________________________________________________________\n",
      "dropout (Dropout)            (None, None, 100)         0         \n",
      "_________________________________________________________________\n",
      "lstm (LSTM)                  (None, 16)                7488      \n",
      "_________________________________________________________________\n",
      "dropout_1 (Dropout)          (None, 16)                0         \n",
      "_________________________________________________________________\n",
      "dense (Dense)                (None, 8)                 136       \n",
      "_________________________________________________________________\n",
      "dropout_2 (Dropout)          (None, 8)                 0         \n",
      "_________________________________________________________________\n",
      "dense_1 (Dense)              (None, 1)                 9         \n",
      "=================================================================\n",
      "Total params: 1,007,633\n",
      "Trainable params: 1,007,633\n",
      "Non-trainable params: 0\n",
      "_________________________________________________________________\n"
     ]
    }
   ],
   "source": [
    "# build a model\n",
    "model = tf.keras.Sequential()\n",
    "model.add(tf.keras.layers.Embedding(vocab_size, word_vector_dim, input_shape=(None,)))\n",
    "model.add(tf.keras.layers.Dropout(0.2)) # adding dropout\n",
    "model.add(tf.keras.layers.LSTM(16))     # use most used RNN, LSTM layer, set state vector dimension as 16\n",
    "model.add(tf.keras.layers.Dropout(0.2))\n",
    "model.add(tf.keras.layers.Dense(8, activation='relu'))\n",
    "model.add(tf.keras.layers.Dropout(0.2))\n",
    "model.add(tf.keras.layers.Dense(1, activation='sigmoid'))  # use sigmoid as output to be 1 dim of 1/0 (positive/negative)\n",
    "\n",
    "model.summary()"
   ]
  },
  {
   "cell_type": "code",
   "execution_count": 9,
   "id": "738966d6",
   "metadata": {
    "scrolled": true
   },
   "outputs": [
    {
     "name": "stdout",
     "output_type": "stream",
     "text": [
      "Epoch 1/150\n",
      "229/229 [==============================] - 5s 8ms/step - loss: 0.4618 - accuracy: 0.7879 - val_loss: 0.3525 - val_accuracy: 0.8469\n",
      "Epoch 2/150\n",
      "229/229 [==============================] - 1s 6ms/step - loss: 0.3437 - accuracy: 0.8591 - val_loss: 0.3411 - val_accuracy: 0.8531\n",
      "Epoch 3/150\n",
      "229/229 [==============================] - 1s 6ms/step - loss: 0.3132 - accuracy: 0.8723 - val_loss: 0.3410 - val_accuracy: 0.8548\n",
      "Epoch 4/150\n",
      "229/229 [==============================] - 1s 6ms/step - loss: 0.2898 - accuracy: 0.8818 - val_loss: 0.3470 - val_accuracy: 0.8545\n",
      "Epoch 5/150\n",
      "229/229 [==============================] - 1s 6ms/step - loss: 0.2704 - accuracy: 0.8895 - val_loss: 0.3543 - val_accuracy: 0.8545\n",
      "Epoch 6/150\n",
      "229/229 [==============================] - 1s 6ms/step - loss: 0.2523 - accuracy: 0.8963 - val_loss: 0.3614 - val_accuracy: 0.8542\n"
     ]
    }
   ],
   "source": [
    "# compile and train a model\n",
    "model.compile(optimizer='adam', loss='binary_crossentropy', metrics=['accuracy'])\n",
    "# changing optimizer learning rate : optimizer=tf.keras.optimizer.Adam(learning_rate=1e-3)\n",
    "\n",
    "history = model.fit(X_train,\n",
    "                    y_train,\n",
    "                    epochs=epoch,\n",
    "                    batch_size=512,\n",
    "                    validation_split=0.2,\n",
    "                    callbacks=early_stopping,\n",
    "                    verbose=1)"
   ]
  },
  {
   "cell_type": "code",
   "execution_count": 10,
   "id": "46190f2e",
   "metadata": {},
   "outputs": [
    {
     "name": "stdout",
     "output_type": "stream",
     "text": [
      "dict_keys(['loss', 'accuracy', 'val_loss', 'val_accuracy'])\n"
     ]
    },
    {
     "data": {
      "image/png": "[encoded data removed]",
      "text/plain": [
       "<Figure size 432x288 with 1 Axes>"
      ]
     },
     "metadata": {
      "needs_background": "light"
     },
     "output_type": "display_data"
    }
   ],
   "source": [
    "# plot accuracy and loss\n",
    "history_dict = history.history\n",
    "print(history_dict.keys()) # keys to check parameters for plotting\n",
    "\n",
    "acc = history_dict['accuracy']\n",
    "val_acc = history_dict['val_accuracy']\n",
    "loss = history_dict['loss']\n",
    "val_loss = history_dict['val_loss']\n",
    "\n",
    "epochs = range(1, len(acc) + 1)\n",
    "\n",
    "# \"bo\" is \"dotted blue\"\n",
    "plt.plot(epochs, loss, 'bo', label='Training loss')\n",
    "# \"b\" is \"blue line\"\n",
    "plt.plot(epochs, val_loss, 'b', label='Validation loss')\n",
    "plt.title('Training and validation loss')\n",
    "plt.xlabel('Epochs')\n",
    "plt.ylabel('Loss')\n",
    "plt.legend()\n",
    "\n",
    "plt.show()"
   ]
  },
  {
   "cell_type": "code",
   "execution_count": 11,
   "id": "6d646129",
   "metadata": {},
   "outputs": [
    {
     "data": {
      "image/png": "[encoded data removed]",
      "text/plain": [
       "<Figure size 432x288 with 1 Axes>"
      ]
     },
     "metadata": {
      "needs_background": "light"
     },
     "output_type": "display_data"
    }
   ],
   "source": [
    "plt.clf()   # reset plot\n",
    "\n",
    "plt.plot(epochs, acc, 'bo', label='Training acc')\n",
    "plt.plot(epochs, val_acc, 'b', label='Validation acc')\n",
    "plt.title('Training and validation accuracy')\n",
    "plt.xlabel('Epochs')\n",
    "plt.ylabel('Accuracy')\n",
    "plt.legend()\n",
    "\n",
    "plt.show()"
   ]
  },
  {
   "cell_type": "code",
   "execution_count": 12,
   "id": "df79dd64",
   "metadata": {},
   "outputs": [
    {
     "name": "stdout",
     "output_type": "stream",
     "text": [
      "1537/1537 - 3s - loss: 0.3676 - accuracy: 0.8531\n"
     ]
    }
   ],
   "source": [
    "# test a model\n",
    "result = model.evaluate(X_test, y_test, verbose=2) #0.8528"
   ]
  },
  {
   "cell_type": "markdown",
   "id": "b7e60c99",
   "metadata": {},
   "source": [
    "### Find similarity (word)"
   ]
  },
  {
   "cell_type": "code",
   "execution_count": 13,
   "id": "ca1507f7",
   "metadata": {},
   "outputs": [],
   "source": [
    "# write and save an embedding parameter to a file\n",
    "word2vec_file_path = os.getenv('HOME')+'/aiffel/sentiment_classification/data/word2vec.txt'\n",
    "f = open(word2vec_file_path, 'w')\n",
    "f.write('{} {}\\n'.format(vocab_size-4, word_vector_dim))  # first row: how many vectors and what size\n",
    "\n",
    "# write total vocab - 4(special words)\n",
    "vectors = model.get_weights()[0]\n",
    "for i in range(4,vocab_size):\n",
    "    f.write('{} {}\\n'.format(index_to_word[i], ' '.join(map(str, list(vectors[i, :])))))\n",
    "f.close()"
   ]
  },
  {
   "cell_type": "code",
   "execution_count": 14,
   "id": "6c318fdf",
   "metadata": {},
   "outputs": [
    {
     "data": {
      "text/plain": [
       "array([ 0.02769281, -0.02286968,  0.07057881, -0.0145745 ,  0.04096938,\n",
       "       -0.01939238,  0.00154902, -0.03184697,  0.01914019,  0.00581525,\n",
       "        0.04955957,  0.06991664, -0.01434061,  0.03461813, -0.04884297,\n",
       "        0.02588298,  0.01214279, -0.00581441, -0.00988685,  0.05055924,\n",
       "        0.00821359, -0.04690196, -0.01186571, -0.07732267,  0.05680833,\n",
       "       -0.04509639,  0.00280839, -0.00928252,  0.0653333 ,  0.06943366,\n",
       "       -0.00400237,  0.03798841, -0.02337482,  0.02420599, -0.02462566,\n",
       "        0.07452894, -0.03288647, -0.01688725,  0.13324095,  0.01519225,\n",
       "        0.04813405,  0.03194123,  0.03269434,  0.00844811, -0.01972679,\n",
       "        0.02939131,  0.00551485,  0.01567172,  0.05159706,  0.01333688,\n",
       "        0.00476515,  0.06102472,  0.00869068,  0.01856978, -0.0080997 ,\n",
       "        0.00577432,  0.0228922 ,  0.00646329,  0.02239572,  0.05724565,\n",
       "        0.01095906,  0.04765663,  0.02304149,  0.02710408, -0.00573805,\n",
       "        0.03849537, -0.08906547, -0.1116825 ,  0.03153827, -0.0278605 ,\n",
       "        0.0178063 ,  0.01585245, -0.00048109,  0.00151215,  0.07887071,\n",
       "       -0.11642428,  0.00433316,  0.06652241, -0.1029438 , -0.01444751,\n",
       "       -0.00961932,  0.0347155 , -0.03167326,  0.04066672,  0.02569964,\n",
       "       -0.00192284, -0.00219108, -0.06368259, -0.04248451, -0.07571232,\n",
       "       -0.00915437,  0.04400908,  0.04927484, -0.04089905,  0.05889672,\n",
       "        0.02861613,  0.00722536,  0.02481896,  0.01351212,  0.00716859],\n",
       "      dtype=float32)"
      ]
     },
     "execution_count": 14,
     "metadata": {},
     "output_type": "execute_result"
    }
   ],
   "source": [
    "# check loaded word vector\n",
    "word_vectors = Word2VecKeyedVectors.load_word2vec_format(word2vec_file_path, binary=False)\n",
    "vector = word_vectors['영화']\n",
    "vector"
   ]
  },
  {
   "cell_type": "code",
   "execution_count": 15,
   "id": "8813b09f",
   "metadata": {},
   "outputs": [
    {
     "name": "stdout",
     "output_type": "stream",
     "text": [
      "[('준다', 0.7206042408943176), ('점', 0.6509143114089966), ('♡', 0.6348606944084167), ('~!!!!', 0.6224493980407715), ('애요', 0.6126333475112915), ('던데', 0.6081879734992981), ('드라마', 0.5932518243789673), ('..??', 0.5839820504188538), ('!!!', 0.5769800543785095), ('에다가', 0.5711916089057922)]\n",
      "[('아파', 0.3693991005420685), ('김명민', 0.36715665459632874), ('영웅', 0.3555789887905121), ('보호', 0.34188535809516907), ('할지', 0.3364603817462921), ('창문', 0.33362647891044617), ('내요', 0.3276388943195343), ('법', 0.327504962682724), ('블록버스터', 0.32637831568717957), ('받아들이', 0.3252285420894623)]\n"
     ]
    }
   ],
   "source": [
    "# check similarity of the word\n",
    "print(word_vectors.similar_by_word(\"영화\"))\n",
    "print(word_vectors.similar_by_word(\"나\"))"
   ]
  },
  {
   "cell_type": "code",
   "execution_count": 16,
   "id": "f694d44a",
   "metadata": {},
   "outputs": [
    {
     "data": {
      "text/plain": [
       "array([ 1.038851  , -1.1634965 ,  2.2386286 ,  0.8971453 , -2.088168  ,\n",
       "       -4.1942534 , -0.02519768, -0.69813883, -0.2908033 , -1.4651134 ,\n",
       "       -2.6863668 ,  0.7999443 , -0.6957915 , -0.5018775 ,  3.5025773 ,\n",
       "        0.21326113, -0.6588098 , -1.1900496 ,  0.61399573,  2.1247969 ,\n",
       "        0.1549463 ,  3.0840218 ,  3.1680267 , -3.9143991 ,  3.6073153 ,\n",
       "        0.5315545 , -0.3511633 , -1.107248  ,  1.7767181 , -0.95981866,\n",
       "        2.6072454 , -0.00697957, -3.27628   ,  1.558644  ,  0.81922376,\n",
       "        1.9231955 ,  3.7026553 , -0.53824735, -0.4920138 ,  2.4657123 ,\n",
       "       -2.620749  , -0.08950733,  0.61453176,  1.8866426 ,  0.257866  ,\n",
       "       -2.7827141 ,  2.9129577 , -0.6313133 ,  2.0387425 , -4.222685  ,\n",
       "       -2.7560544 ,  1.7903243 , -1.3080189 , -2.5531402 , -0.43849912,\n",
       "       -3.1073573 , -0.29090825,  5.1817617 ,  1.9604833 , -5.1421604 ,\n",
       "       -0.71431434,  4.5624633 , -0.55525815, -3.3019137 ,  1.6761336 ,\n",
       "       -1.9606539 , -0.2726863 ,  0.2465995 ,  1.2685091 ,  1.6055685 ,\n",
       "        1.8344896 ,  1.2752469 ,  0.99503314, -2.3348706 , -0.9290329 ,\n",
       "       -1.5920266 ,  5.693834  ,  1.1132814 , -0.9603875 , -1.970055  ,\n",
       "       -1.0120267 , -2.7289615 , -2.7759619 ,  3.214084  ,  1.8573734 ,\n",
       "       -1.3495721 , -0.10321241,  3.434593  , -2.8573685 , -1.9004927 ,\n",
       "       -1.6801298 , -2.805677  ,  1.7723105 , -0.41865307, -2.310913  ,\n",
       "       -6.2761464 , -0.8376036 ,  2.4590037 ,  2.1697695 , -4.440443  ],\n",
       "      dtype=float32)"
      ]
     },
     "execution_count": 16,
     "metadata": {},
     "output_type": "execute_result"
    }
   ],
   "source": [
    "# load word2vec Korean model\n",
    "# ensure to add '.wv' at the end\n",
    "word2vec_file_path = os.getenv('HOME') + '/aiffel/sentiment_classification/data/word2vec_ko.model'\n",
    "word2vec = Word2VecKeyedVectors.load(word2vec_file_path)\n",
    "vector = word2vec.wv['끝'] \n",
    "vector"
   ]
  },
  {
   "cell_type": "code",
   "execution_count": 17,
   "id": "1c3040fb",
   "metadata": {},
   "outputs": [
    {
     "name": "stdout",
     "output_type": "stream",
     "text": [
      "[('드라마', 0.8418774008750916), ('뮤지컬', 0.7775140404701233), ('코미디', 0.7489107251167297), ('다큐멘터리', 0.7401294708251953), ('헐리우드', 0.7397844195365906), ('애니메이션', 0.7170552015304565), ('독립영화', 0.7113528251647949), ('로맨틱', 0.7107657194137573), ('장편', 0.7101576924324036), ('극영화', 0.7045413255691528)]\n",
      "[('마지막', 0.6325399875640869), ('결판', 0.5526015758514404), ('발목', 0.5465342402458191), ('산산조각', 0.5418900847434998), ('막바지', 0.5412753820419312), ('싫증', 0.5256820917129517), ('양쪽', 0.5253474116325378), ('무릎', 0.5246764421463013), ('후', 0.5051813721656799), ('이어진', 0.5038793087005615)]\n"
     ]
    }
   ],
   "source": [
    "# find similarity\n",
    "print(word2vec.wv.most_similar('영화'))\n",
    "print(word2vec.wv.most_similar('끝'))"
   ]
  },
  {
   "cell_type": "code",
   "execution_count": 18,
   "id": "8243aa54",
   "metadata": {},
   "outputs": [],
   "source": [
    "# create a random matrix with vocab size and word vector dimension\n",
    "embedding_matrix = np.random.rand(vocab_size, word_vector_dim)\n",
    "\n",
    "# copy words from word2vec Korean word to embedding_matrix\n",
    "for i in range(4,vocab_size):\n",
    "    if index_to_word[i] in word2vec.wv:\n",
    "        embedding_matrix[i] = word2vec.wv[index_to_word[i]]"
   ]
  },
  {
   "cell_type": "code",
   "execution_count": 19,
   "id": "10413a13",
   "metadata": {},
   "outputs": [
    {
     "name": "stdout",
     "output_type": "stream",
     "text": [
      "Model: \"sequential_1\"\n",
      "_________________________________________________________________\n",
      "Layer (type)                 Output Shape              Param #   \n",
      "=================================================================\n",
      "embedding_1 (Embedding)      (None, 41, 100)           1000000   \n",
      "_________________________________________________________________\n",
      "dropout_3 (Dropout)          (None, 41, 100)           0         \n",
      "_________________________________________________________________\n",
      "lstm_1 (LSTM)                (None, 64)                42240     \n",
      "_________________________________________________________________\n",
      "dropout_4 (Dropout)          (None, 64)                0         \n",
      "_________________________________________________________________\n",
      "dense_2 (Dense)              (None, 8)                 520       \n",
      "_________________________________________________________________\n",
      "dropout_5 (Dropout)          (None, 8)                 0         \n",
      "_________________________________________________________________\n",
      "dense_3 (Dense)              (None, 1)                 9         \n",
      "=================================================================\n",
      "Total params: 1,042,769\n",
      "Trainable params: 1,042,769\n",
      "Non-trainable params: 0\n",
      "_________________________________________________________________\n"
     ]
    }
   ],
   "source": [
    "# build model\n",
    "model = tf.keras.Sequential()\n",
    "model.add(tf.keras.layers.Embedding(vocab_size, word_vector_dim,\n",
    "                                 embeddings_initializer=Constant(embedding_matrix),  # use copied embedding matrix\n",
    "                                 input_length=maxlen, \n",
    "                                 trainable=True))   # fine-tuning: trainable = True\n",
    "model.add(tf.keras.layers.Dropout(0.2))\n",
    "model.add(tf.keras.layers.LSTM(64))   # use most used RNN, LSTM layer, set state vector dimension as 16\n",
    "model.add(tf.keras.layers.Dropout(0.2))\n",
    "model.add(tf.keras.layers.Dense(8, activation='relu'))\n",
    "model.add(tf.keras.layers.Dropout(0.2))\n",
    "model.add(tf.keras.layers.Dense(1, activation='sigmoid'))  # use sigmoid as output to be 1 dim of 1/0 (positive/negative)\n",
    "\n",
    "model.summary()"
   ]
  },
  {
   "cell_type": "code",
   "execution_count": 20,
   "id": "95f31ec6",
   "metadata": {},
   "outputs": [
    {
     "name": "stdout",
     "output_type": "stream",
     "text": [
      "Epoch 1/150\n",
      "229/229 [==============================] - 3s 9ms/step - loss: 0.5751 - accuracy: 0.6929 - val_loss: 0.4480 - val_accuracy: 0.7939\n",
      "Epoch 2/150\n",
      "229/229 [==============================] - 2s 7ms/step - loss: 0.4491 - accuracy: 0.7972 - val_loss: 0.3824 - val_accuracy: 0.8287\n",
      "Epoch 3/150\n",
      "229/229 [==============================] - 2s 7ms/step - loss: 0.3999 - accuracy: 0.8234 - val_loss: 0.3562 - val_accuracy: 0.8436\n",
      "Epoch 4/150\n",
      "229/229 [==============================] - 2s 7ms/step - loss: 0.3713 - accuracy: 0.8395 - val_loss: 0.3412 - val_accuracy: 0.8508\n",
      "Epoch 5/150\n",
      "229/229 [==============================] - 2s 7ms/step - loss: 0.3529 - accuracy: 0.8493 - val_loss: 0.3332 - val_accuracy: 0.8560\n",
      "Epoch 6/150\n",
      "229/229 [==============================] - 2s 7ms/step - loss: 0.3389 - accuracy: 0.8548 - val_loss: 0.3278 - val_accuracy: 0.8592\n",
      "Epoch 7/150\n",
      "229/229 [==============================] - 2s 7ms/step - loss: 0.3261 - accuracy: 0.8632 - val_loss: 0.3269 - val_accuracy: 0.8622\n",
      "Epoch 8/150\n",
      "229/229 [==============================] - 2s 7ms/step - loss: 0.3189 - accuracy: 0.8662 - val_loss: 0.3284 - val_accuracy: 0.8623\n",
      "Epoch 9/150\n",
      "229/229 [==============================] - 2s 7ms/step - loss: 0.3093 - accuracy: 0.8698 - val_loss: 0.3257 - val_accuracy: 0.8627\n",
      "Epoch 10/150\n",
      "229/229 [==============================] - 2s 7ms/step - loss: 0.3024 - accuracy: 0.8726 - val_loss: 0.3195 - val_accuracy: 0.8661\n",
      "Epoch 11/150\n",
      "229/229 [==============================] - 2s 7ms/step - loss: 0.2945 - accuracy: 0.8778 - val_loss: 0.3227 - val_accuracy: 0.8658\n",
      "Epoch 12/150\n",
      "229/229 [==============================] - 2s 7ms/step - loss: 0.2885 - accuracy: 0.8806 - val_loss: 0.3213 - val_accuracy: 0.8688\n",
      "Epoch 13/150\n",
      "229/229 [==============================] - 2s 7ms/step - loss: 0.2835 - accuracy: 0.8829 - val_loss: 0.3228 - val_accuracy: 0.8679\n",
      "Epoch 14/150\n",
      "229/229 [==============================] - 2s 8ms/step - loss: 0.2777 - accuracy: 0.8850 - val_loss: 0.3196 - val_accuracy: 0.8709\n",
      "Epoch 15/150\n",
      "229/229 [==============================] - 2s 7ms/step - loss: 0.2730 - accuracy: 0.8875 - val_loss: 0.3237 - val_accuracy: 0.8677\n",
      "Epoch 16/150\n",
      "229/229 [==============================] - 2s 8ms/step - loss: 0.2682 - accuracy: 0.8901 - val_loss: 0.3198 - val_accuracy: 0.8693\n",
      "Epoch 17/150\n",
      "229/229 [==============================] - 2s 8ms/step - loss: 0.2618 - accuracy: 0.8919 - val_loss: 0.3292 - val_accuracy: 0.8689\n"
     ]
    }
   ],
   "source": [
    "# compile and train a model\n",
    "model.compile(optimizer='adam', # changing optimizer learning rate : optimizer=tf.keras.optimizer.Adam(learning_rate=1e-3)\n",
    "              loss='binary_crossentropy',\n",
    "              metrics=['accuracy'],)\n",
    "              \n",
    "history = model.fit(X_train,\n",
    "                    y_train,\n",
    "                    epochs=epoch,\n",
    "                    batch_size=512,\n",
    "                    validation_split=0.2,\n",
    "                    callbacks=early_stopping,\n",
    "                    verbose=1)"
   ]
  },
  {
   "cell_type": "code",
   "execution_count": 21,
   "id": "0a6f2ea4",
   "metadata": {},
   "outputs": [
    {
     "name": "stdout",
     "output_type": "stream",
     "text": [
      "1537/1537 - 3s - loss: 0.3390 - accuracy: 0.8651\n",
      "[0.3390202224254608, 0.8651463389396667]\n"
     ]
    }
   ],
   "source": [
    "# test a model\n",
    "results = model.evaluate(X_test,  y_test, verbose=2)\n",
    "\n",
    "print(results)"
   ]
  },
  {
   "cell_type": "markdown",
   "id": "dd784117",
   "metadata": {},
   "source": [
    "## 1-D CNN"
   ]
  },
  {
   "cell_type": "code",
   "execution_count": 22,
   "id": "a54c3bbc",
   "metadata": {},
   "outputs": [
    {
     "name": "stdout",
     "output_type": "stream",
     "text": [
      "Model: \"sequential_2\"\n",
      "_________________________________________________________________\n",
      "Layer (type)                 Output Shape              Param #   \n",
      "=================================================================\n",
      "embedding_2 (Embedding)      (None, None, 100)         1000000   \n",
      "_________________________________________________________________\n",
      "dropout_6 (Dropout)          (None, None, 100)         0         \n",
      "_________________________________________________________________\n",
      "conv1d (Conv1D)              (None, None, 16)          11216     \n",
      "_________________________________________________________________\n",
      "dropout_7 (Dropout)          (None, None, 16)          0         \n",
      "_________________________________________________________________\n",
      "max_pooling1d (MaxPooling1D) (None, None, 16)          0         \n",
      "_________________________________________________________________\n",
      "dropout_8 (Dropout)          (None, None, 16)          0         \n",
      "_________________________________________________________________\n",
      "conv1d_1 (Conv1D)            (None, None, 16)          1808      \n",
      "_________________________________________________________________\n",
      "dropout_9 (Dropout)          (None, None, 16)          0         \n",
      "_________________________________________________________________\n",
      "global_max_pooling1d (Global (None, 16)                0         \n",
      "_________________________________________________________________\n",
      "dropout_10 (Dropout)         (None, 16)                0         \n",
      "_________________________________________________________________\n",
      "dense_4 (Dense)              (None, 8)                 136       \n",
      "_________________________________________________________________\n",
      "dropout_11 (Dropout)         (None, 8)                 0         \n",
      "_________________________________________________________________\n",
      "dense_5 (Dense)              (None, 1)                 9         \n",
      "=================================================================\n",
      "Total params: 1,013,169\n",
      "Trainable params: 1,013,169\n",
      "Non-trainable params: 0\n",
      "_________________________________________________________________\n"
     ]
    }
   ],
   "source": [
    "# build a model\n",
    "model = tf.keras.Sequential()\n",
    "model.add(tf.keras.layers.Embedding(vocab_size, word_vector_dim, input_shape=(None,)))\n",
    "model.add(tf.keras.layers.Dropout(0.2)) # add dropout\n",
    "model.add(tf.keras.layers.Conv1D(16, 7, activation='relu'))\n",
    "model.add(tf.keras.layers.Dropout(0.2))\n",
    "model.add(tf.keras.layers.MaxPooling1D(5))\n",
    "model.add(tf.keras.layers.Dropout(0.2))\n",
    "model.add(tf.keras.layers.Conv1D(16, 7, activation='relu'))\n",
    "model.add(tf.keras.layers.Dropout(0.2))\n",
    "model.add(tf.keras.layers.GlobalMaxPooling1D())\n",
    "model.add(tf.keras.layers.Dropout(0.2))\n",
    "model.add(tf.keras.layers.Dense(8, activation='relu'))\n",
    "model.add(tf.keras.layers.Dropout(0.2))\n",
    "model.add(tf.keras.layers.Dense(1, activation='sigmoid')) # use sigmoid as output to be 1 dim of 1/0 (positive/negative)\n",
    "\n",
    "model.summary()"
   ]
  },
  {
   "cell_type": "code",
   "execution_count": 23,
   "id": "f2f962cb",
   "metadata": {},
   "outputs": [
    {
     "name": "stdout",
     "output_type": "stream",
     "text": [
      "Epoch 1/150\n",
      "229/229 [==============================] - 3s 7ms/step - loss: 0.5443 - accuracy: 0.7087 - val_loss: 0.3736 - val_accuracy: 0.8414\n",
      "Epoch 2/150\n",
      "229/229 [==============================] - 1s 6ms/step - loss: 0.3691 - accuracy: 0.8502 - val_loss: 0.3440 - val_accuracy: 0.8509\n",
      "Epoch 3/150\n",
      "229/229 [==============================] - 1s 6ms/step - loss: 0.3270 - accuracy: 0.8700 - val_loss: 0.3336 - val_accuracy: 0.8563\n",
      "Epoch 4/150\n",
      "229/229 [==============================] - 1s 6ms/step - loss: 0.2982 - accuracy: 0.8832 - val_loss: 0.3366 - val_accuracy: 0.8558\n",
      "Epoch 5/150\n",
      "229/229 [==============================] - 1s 6ms/step - loss: 0.2715 - accuracy: 0.8950 - val_loss: 0.3418 - val_accuracy: 0.8561\n",
      "Epoch 6/150\n",
      "229/229 [==============================] - 1s 6ms/step - loss: 0.2481 - accuracy: 0.9062 - val_loss: 0.3615 - val_accuracy: 0.8519\n"
     ]
    }
   ],
   "source": [
    "model.compile(optimizer='adam', loss='binary_crossentropy', metrics=['accuracy'])\n",
    "# changing optimizer learning rate : optimizer=tf.keras.optimizer.Adam(learning_rate=1e-3)\n",
    "\n",
    "history = model.fit(X_train,\n",
    "                    y_train,\n",
    "                    epochs=epoch,\n",
    "                    batch_size=512,\n",
    "                    validation_split=0.2,\n",
    "                    callbacks=early_stopping,\n",
    "                    verbose=1)"
   ]
  },
  {
   "cell_type": "code",
   "execution_count": 24,
   "id": "9aaabf2e",
   "metadata": {},
   "outputs": [
    {
     "name": "stdout",
     "output_type": "stream",
     "text": [
      "dict_keys(['loss', 'accuracy', 'val_loss', 'val_accuracy'])\n"
     ]
    },
    {
     "data": {
      "image/png": "[encoded data removed]",
      "text/plain": [
       "<Figure size 432x288 with 1 Axes>"
      ]
     },
     "metadata": {
      "needs_background": "light"
     },
     "output_type": "display_data"
    }
   ],
   "source": [
    "# plot accuracy and loss\n",
    "history_dict = history.history\n",
    "print(history_dict.keys()) # keys to check parameters for plotting\n",
    "\n",
    "acc = history_dict['accuracy']\n",
    "val_acc = history_dict['val_accuracy']\n",
    "loss = history_dict['loss']\n",
    "val_loss = history_dict['val_loss']\n",
    "\n",
    "epochs = range(1, len(acc) + 1)\n",
    "\n",
    "# \"bo\" is \"dotted blue\"\n",
    "plt.plot(epochs, loss, 'bo', label='Training loss')\n",
    "# \"b\" is \"blue line\"\n",
    "plt.plot(epochs, val_loss, 'b', label='Validation loss')\n",
    "plt.title('Training and validation loss')\n",
    "plt.xlabel('Epochs')\n",
    "plt.ylabel('Loss')\n",
    "plt.legend()\n",
    "\n",
    "plt.show()"
   ]
  },
  {
   "cell_type": "code",
   "execution_count": 25,
   "id": "37349654",
   "metadata": {},
   "outputs": [
    {
     "data": {
      "image/png": "[encoded data removed]",
      "text/plain": [
       "<Figure size 432x288 with 1 Axes>"
      ]
     },
     "metadata": {
      "needs_background": "light"
     },
     "output_type": "display_data"
    }
   ],
   "source": [
    "plt.clf()   # reset plot\n",
    "\n",
    "plt.plot(epochs, acc, 'bo', label='Training acc')\n",
    "plt.plot(epochs, val_acc, 'b', label='Validation acc')\n",
    "plt.title('Training and validation accuracy')\n",
    "plt.xlabel('Epochs')\n",
    "plt.ylabel('Accuracy')\n",
    "plt.legend()\n",
    "\n",
    "plt.show()"
   ]
  },
  {
   "cell_type": "code",
   "execution_count": 26,
   "id": "19156211",
   "metadata": {},
   "outputs": [
    {
     "name": "stdout",
     "output_type": "stream",
     "text": [
      "1537/1537 - 3s - loss: 0.3668 - accuracy: 0.8495\n"
     ]
    }
   ],
   "source": [
    "result = model.evaluate(X_test, y_test, verbose=2)"
   ]
  },
  {
   "cell_type": "markdown",
   "id": "d543eeac",
   "metadata": {},
   "source": [
    "### Find similarity (word)"
   ]
  },
  {
   "cell_type": "code",
   "execution_count": 27,
   "id": "8f0c246c",
   "metadata": {},
   "outputs": [],
   "source": [
    "# write and save an embedding parameter to a file\n",
    "word2vec_file_path = os.getenv('HOME')+'/aiffel/sentiment_classification/data/word2vec.txt'\n",
    "f = open(word2vec_file_path, 'w')\n",
    "f.write('{} {}\\n'.format(vocab_size-4, word_vector_dim))  # first row: how many vectors and what size\n",
    "\n",
    "# write total vocab - 4(special words)\n",
    "vectors = model.get_weights()[0]\n",
    "for i in range(4,vocab_size):\n",
    "    f.write('{} {}\\n'.format(index_to_word[i], ' '.join(map(str, list(vectors[i, :])))))\n",
    "f.close()"
   ]
  },
  {
   "cell_type": "code",
   "execution_count": 28,
   "id": "0eea3411",
   "metadata": {},
   "outputs": [],
   "source": [
    "word_vectors = Word2VecKeyedVectors.load_word2vec_format(word2vec_file_path, binary=False)\n",
    "vector = word_vectors['영화']"
   ]
  },
  {
   "cell_type": "code",
   "execution_count": 29,
   "id": "065403e7",
   "metadata": {},
   "outputs": [
    {
     "name": "stdout",
     "output_type": "stream",
     "text": [
      "[('로봇', 0.5093813538551331), ('빨라서', 0.46354854106903076), ('음모론', 0.4622480273246765), ('따', 0.4587060809135437), ('선수', 0.43917316198349), ('렸', 0.43027955293655396), ('버디', 0.42820659279823303), ('음', 0.4280402660369873), ('방송국', 0.4237833023071289), ('색히', 0.42252060770988464)]\n",
      "[('지', 0.4675409197807312), ('아', 0.4580107033252716), ('더이다', 0.45219671726226807), ('줄', 0.4517518877983093), ('다는', 0.4488714337348938), ('첨가', 0.4334007203578949), ('내', 0.42845436930656433), ('목소리', 0.42774972319602966), ('닥터', 0.425148069858551), ('것', 0.4208025634288788)]\n"
     ]
    }
   ],
   "source": [
    "# find similarity\n",
    "print(word_vectors.similar_by_word(\"영화\"))\n",
    "print(word_vectors.similar_by_word(\"나\"))"
   ]
  },
  {
   "cell_type": "code",
   "execution_count": 30,
   "id": "4d8b49bf",
   "metadata": {},
   "outputs": [
    {
     "data": {
      "text/plain": [
       "array([ 1.038851  , -1.1634965 ,  2.2386286 ,  0.8971453 , -2.088168  ,\n",
       "       -4.1942534 , -0.02519768, -0.69813883, -0.2908033 , -1.4651134 ,\n",
       "       -2.6863668 ,  0.7999443 , -0.6957915 , -0.5018775 ,  3.5025773 ,\n",
       "        0.21326113, -0.6588098 , -1.1900496 ,  0.61399573,  2.1247969 ,\n",
       "        0.1549463 ,  3.0840218 ,  3.1680267 , -3.9143991 ,  3.6073153 ,\n",
       "        0.5315545 , -0.3511633 , -1.107248  ,  1.7767181 , -0.95981866,\n",
       "        2.6072454 , -0.00697957, -3.27628   ,  1.558644  ,  0.81922376,\n",
       "        1.9231955 ,  3.7026553 , -0.53824735, -0.4920138 ,  2.4657123 ,\n",
       "       -2.620749  , -0.08950733,  0.61453176,  1.8866426 ,  0.257866  ,\n",
       "       -2.7827141 ,  2.9129577 , -0.6313133 ,  2.0387425 , -4.222685  ,\n",
       "       -2.7560544 ,  1.7903243 , -1.3080189 , -2.5531402 , -0.43849912,\n",
       "       -3.1073573 , -0.29090825,  5.1817617 ,  1.9604833 , -5.1421604 ,\n",
       "       -0.71431434,  4.5624633 , -0.55525815, -3.3019137 ,  1.6761336 ,\n",
       "       -1.9606539 , -0.2726863 ,  0.2465995 ,  1.2685091 ,  1.6055685 ,\n",
       "        1.8344896 ,  1.2752469 ,  0.99503314, -2.3348706 , -0.9290329 ,\n",
       "       -1.5920266 ,  5.693834  ,  1.1132814 , -0.9603875 , -1.970055  ,\n",
       "       -1.0120267 , -2.7289615 , -2.7759619 ,  3.214084  ,  1.8573734 ,\n",
       "       -1.3495721 , -0.10321241,  3.434593  , -2.8573685 , -1.9004927 ,\n",
       "       -1.6801298 , -2.805677  ,  1.7723105 , -0.41865307, -2.310913  ,\n",
       "       -6.2761464 , -0.8376036 ,  2.4590037 ,  2.1697695 , -4.440443  ],\n",
       "      dtype=float32)"
      ]
     },
     "execution_count": 30,
     "metadata": {},
     "output_type": "execute_result"
    }
   ],
   "source": [
    "# load word2vec Korean model\n",
    "# ensure to add '.wv' at the end\n",
    "word2vec_file_path = os.getenv('HOME') + '/aiffel/sentiment_classification/data/word2vec_ko.model'\n",
    "word2vec = Word2VecKeyedVectors.load(word2vec_file_path)\n",
    "vector = word2vec.wv['끝'] \n",
    "vector"
   ]
  },
  {
   "cell_type": "code",
   "execution_count": 31,
   "id": "65c1a6b7",
   "metadata": {},
   "outputs": [
    {
     "name": "stdout",
     "output_type": "stream",
     "text": [
      "[('드라마', 0.8418774008750916), ('뮤지컬', 0.7775140404701233), ('코미디', 0.7489107251167297), ('다큐멘터리', 0.7401294708251953), ('헐리우드', 0.7397844195365906), ('애니메이션', 0.7170552015304565), ('독립영화', 0.7113528251647949), ('로맨틱', 0.7107657194137573), ('장편', 0.7101576924324036), ('극영화', 0.7045413255691528)]\n",
      "[('든', 0.546347975730896), ('와', 0.5454912781715393), ('똥', 0.5381466150283813), ('항상', 0.5252891778945923), ('가', 0.5160491466522217), ('누에', 0.5154241919517517), ('목욕', 0.5139148235321045), ('성게', 0.5074856281280518), ('내', 0.5045832991600037), ('미역', 0.5039044618606567)]\n"
     ]
    }
   ],
   "source": [
    "# find similarity\n",
    "print(word2vec.wv.most_similar(\"영화\"))\n",
    "print(word2vec.wv.most_similar(\"나\"))"
   ]
  },
  {
   "cell_type": "code",
   "execution_count": 32,
   "id": "a8103446",
   "metadata": {},
   "outputs": [],
   "source": [
    "# create a random matrix with vocab size and word vector dimension\n",
    "embedding_matrix = np.random.rand(vocab_size, word_vector_dim)\n",
    "\n",
    "# copy words from word2vec Korean word to embedding_matrix\n",
    "for i in range(4,vocab_size):\n",
    "    if index_to_word[i] in word2vec.wv:\n",
    "        embedding_matrix[i] = word2vec.wv[index_to_word[i]]"
   ]
  },
  {
   "cell_type": "code",
   "execution_count": 33,
   "id": "ade56e5d",
   "metadata": {},
   "outputs": [
    {
     "name": "stdout",
     "output_type": "stream",
     "text": [
      "Model: \"sequential_3\"\n",
      "_________________________________________________________________\n",
      "Layer (type)                 Output Shape              Param #   \n",
      "=================================================================\n",
      "embedding_3 (Embedding)      (None, 41, 100)           1000000   \n",
      "_________________________________________________________________\n",
      "dropout_12 (Dropout)         (None, 41, 100)           0         \n",
      "_________________________________________________________________\n",
      "conv1d_2 (Conv1D)            (None, 35, 16)            11216     \n",
      "_________________________________________________________________\n",
      "dropout_13 (Dropout)         (None, 35, 16)            0         \n",
      "_________________________________________________________________\n",
      "max_pooling1d_1 (MaxPooling1 (None, 7, 16)             0         \n",
      "_________________________________________________________________\n",
      "dropout_14 (Dropout)         (None, 7, 16)             0         \n",
      "_________________________________________________________________\n",
      "conv1d_3 (Conv1D)            (None, 1, 16)             1808      \n",
      "_________________________________________________________________\n",
      "dropout_15 (Dropout)         (None, 1, 16)             0         \n",
      "_________________________________________________________________\n",
      "global_max_pooling1d_1 (Glob (None, 16)                0         \n",
      "_________________________________________________________________\n",
      "dropout_16 (Dropout)         (None, 16)                0         \n",
      "_________________________________________________________________\n",
      "dense_6 (Dense)              (None, 8)                 136       \n",
      "_________________________________________________________________\n",
      "dropout_17 (Dropout)         (None, 8)                 0         \n",
      "_________________________________________________________________\n",
      "dense_7 (Dense)              (None, 1)                 9         \n",
      "=================================================================\n",
      "Total params: 1,013,169\n",
      "Trainable params: 1,013,169\n",
      "Non-trainable params: 0\n",
      "_________________________________________________________________\n"
     ]
    }
   ],
   "source": [
    "# build model\n",
    "model = tf.keras.Sequential()\n",
    "model.add(tf.keras.layers.Embedding(vocab_size, word_vector_dim,\n",
    "                                 embeddings_initializer=Constant(embedding_matrix),  # use copied embedding matrix\n",
    "                                 input_length=maxlen, \n",
    "                                 trainable=True))   # fine-tuning: trainable = True\n",
    "model.add(tf.keras.layers.Dropout(0.2))\n",
    "model.add(tf.keras.layers.Conv1D(16, 7, activation='relu'))\n",
    "model.add(tf.keras.layers.Dropout(0.2))\n",
    "model.add(tf.keras.layers.MaxPooling1D(5))\n",
    "model.add(tf.keras.layers.Dropout(0.2))\n",
    "model.add(tf.keras.layers.Conv1D(16, 7, activation='relu'))\n",
    "model.add(tf.keras.layers.Dropout(0.2))\n",
    "model.add(tf.keras.layers.GlobalMaxPooling1D())\n",
    "model.add(tf.keras.layers.Dropout(0.2))\n",
    "model.add(tf.keras.layers.Dense(8, activation='relu'))\n",
    "model.add(tf.keras.layers.Dropout(0.2))\n",
    "model.add(tf.keras.layers.Dense(1, activation='sigmoid')) # use sigmoid as output to be 1 dim of 1/0 (positive/negative)\n",
    "\n",
    "model.summary()"
   ]
  },
  {
   "cell_type": "code",
   "execution_count": 34,
   "id": "bd92eac0",
   "metadata": {},
   "outputs": [
    {
     "name": "stdout",
     "output_type": "stream",
     "text": [
      "Epoch 1/150\n",
      "229/229 [==============================] - 2s 6ms/step - loss: 0.7148 - accuracy: 0.5056 - val_loss: 0.6931 - val_accuracy: 0.5036\n",
      "Epoch 2/150\n",
      "229/229 [==============================] - 1s 6ms/step - loss: 0.6933 - accuracy: 0.5094 - val_loss: 0.6925 - val_accuracy: 0.5354\n",
      "Epoch 3/150\n",
      "229/229 [==============================] - 1s 6ms/step - loss: 0.6778 - accuracy: 0.5531 - val_loss: 0.6208 - val_accuracy: 0.7104\n",
      "Epoch 4/150\n",
      "229/229 [==============================] - 1s 6ms/step - loss: 0.5938 - accuracy: 0.6730 - val_loss: 0.5352 - val_accuracy: 0.7782\n",
      "Epoch 5/150\n",
      "229/229 [==============================] - 1s 6ms/step - loss: 0.5285 - accuracy: 0.7489 - val_loss: 0.4841 - val_accuracy: 0.8033\n",
      "Epoch 6/150\n",
      "229/229 [==============================] - 1s 6ms/step - loss: 0.4930 - accuracy: 0.7761 - val_loss: 0.4405 - val_accuracy: 0.8163\n",
      "Epoch 7/150\n",
      "229/229 [==============================] - 1s 6ms/step - loss: 0.4613 - accuracy: 0.7932 - val_loss: 0.4262 - val_accuracy: 0.8239\n",
      "Epoch 8/150\n",
      "229/229 [==============================] - 1s 6ms/step - loss: 0.4417 - accuracy: 0.8049 - val_loss: 0.4000 - val_accuracy: 0.8330\n",
      "Epoch 9/150\n",
      "229/229 [==============================] - 1s 6ms/step - loss: 0.4260 - accuracy: 0.8126 - val_loss: 0.3902 - val_accuracy: 0.8379\n",
      "Epoch 10/150\n",
      "229/229 [==============================] - 1s 6ms/step - loss: 0.4142 - accuracy: 0.8204 - val_loss: 0.3807 - val_accuracy: 0.8396\n",
      "Epoch 11/150\n",
      "229/229 [==============================] - 1s 6ms/step - loss: 0.4013 - accuracy: 0.8253 - val_loss: 0.3749 - val_accuracy: 0.8432\n",
      "Epoch 12/150\n",
      "229/229 [==============================] - 1s 6ms/step - loss: 0.3920 - accuracy: 0.8300 - val_loss: 0.3651 - val_accuracy: 0.8464\n",
      "Epoch 13/150\n",
      "229/229 [==============================] - 1s 6ms/step - loss: 0.3859 - accuracy: 0.8346 - val_loss: 0.3583 - val_accuracy: 0.8475\n",
      "Epoch 14/150\n",
      "229/229 [==============================] - 1s 6ms/step - loss: 0.3780 - accuracy: 0.8379 - val_loss: 0.3572 - val_accuracy: 0.8506\n",
      "Epoch 15/150\n",
      "229/229 [==============================] - 1s 6ms/step - loss: 0.3718 - accuracy: 0.8408 - val_loss: 0.3459 - val_accuracy: 0.8508\n",
      "Epoch 16/150\n",
      "229/229 [==============================] - 1s 6ms/step - loss: 0.3654 - accuracy: 0.8443 - val_loss: 0.3426 - val_accuracy: 0.8540\n",
      "Epoch 17/150\n",
      "229/229 [==============================] - 1s 6ms/step - loss: 0.3642 - accuracy: 0.8453 - val_loss: 0.3451 - val_accuracy: 0.8539\n",
      "Epoch 18/150\n",
      "229/229 [==============================] - 1s 6ms/step - loss: 0.3590 - accuracy: 0.8485 - val_loss: 0.3402 - val_accuracy: 0.8544\n",
      "Epoch 19/150\n",
      "229/229 [==============================] - 1s 6ms/step - loss: 0.3547 - accuracy: 0.8509 - val_loss: 0.3379 - val_accuracy: 0.8557\n",
      "Epoch 20/150\n",
      "229/229 [==============================] - 1s 6ms/step - loss: 0.3520 - accuracy: 0.8523 - val_loss: 0.3330 - val_accuracy: 0.8574\n",
      "Epoch 21/150\n",
      "229/229 [==============================] - 1s 6ms/step - loss: 0.3489 - accuracy: 0.8539 - val_loss: 0.3357 - val_accuracy: 0.8561\n",
      "Epoch 22/150\n",
      "229/229 [==============================] - 1s 6ms/step - loss: 0.3441 - accuracy: 0.8562 - val_loss: 0.3328 - val_accuracy: 0.8572\n",
      "Epoch 23/150\n",
      "229/229 [==============================] - 1s 6ms/step - loss: 0.3421 - accuracy: 0.8567 - val_loss: 0.3320 - val_accuracy: 0.8575\n",
      "Epoch 24/150\n",
      "229/229 [==============================] - 1s 6ms/step - loss: 0.3385 - accuracy: 0.8576 - val_loss: 0.3300 - val_accuracy: 0.8575\n",
      "Epoch 25/150\n",
      "229/229 [==============================] - 1s 6ms/step - loss: 0.3370 - accuracy: 0.8592 - val_loss: 0.3318 - val_accuracy: 0.8575\n",
      "Epoch 26/150\n",
      "229/229 [==============================] - 1s 6ms/step - loss: 0.3353 - accuracy: 0.8610 - val_loss: 0.3293 - val_accuracy: 0.8584\n",
      "Epoch 27/150\n",
      "229/229 [==============================] - 1s 6ms/step - loss: 0.3325 - accuracy: 0.8618 - val_loss: 0.3303 - val_accuracy: 0.8577\n",
      "Epoch 28/150\n",
      "229/229 [==============================] - 1s 6ms/step - loss: 0.3297 - accuracy: 0.8629 - val_loss: 0.3283 - val_accuracy: 0.8576\n",
      "Epoch 29/150\n",
      "229/229 [==============================] - 1s 6ms/step - loss: 0.3269 - accuracy: 0.8644 - val_loss: 0.3292 - val_accuracy: 0.8568\n"
     ]
    }
   ],
   "source": [
    "# compile and train a model\n",
    "model.compile(optimizer='adam', loss='binary_crossentropy', metrics=['accuracy'])\n",
    "# changing optimizer learning rate : optimizer=tf.keras.optimizer.Adam(learning_rate=1e-3)\n",
    "\n",
    "history = model.fit(X_train,\n",
    "                    y_train,\n",
    "                    epochs=epoch,\n",
    "                    batch_size=512,\n",
    "                    validation_split=0.2,\n",
    "                    callbacks=early_stopping,\n",
    "                    verbose=1)"
   ]
  },
  {
   "cell_type": "code",
   "execution_count": 35,
   "id": "77b36e5b",
   "metadata": {},
   "outputs": [
    {
     "name": "stdout",
     "output_type": "stream",
     "text": [
      "1537/1537 - 3s - loss: 0.3352 - accuracy: 0.8557\n"
     ]
    }
   ],
   "source": [
    "# test a model\n",
    "result = model.evaluate(X_test, y_test, verbose=2)"
   ]
  },
  {
   "cell_type": "markdown",
   "id": "c6f06412",
   "metadata": {},
   "source": [
    "## GlobalMaxPooling1D"
   ]
  },
  {
   "cell_type": "code",
   "execution_count": 36,
   "id": "74999dc9",
   "metadata": {},
   "outputs": [
    {
     "name": "stdout",
     "output_type": "stream",
     "text": [
      "Model: \"sequential_4\"\n",
      "_________________________________________________________________\n",
      "Layer (type)                 Output Shape              Param #   \n",
      "=================================================================\n",
      "embedding_4 (Embedding)      (None, None, 100)         1000000   \n",
      "_________________________________________________________________\n",
      "dropout_18 (Dropout)         (None, None, 100)         0         \n",
      "_________________________________________________________________\n",
      "global_max_pooling1d_2 (Glob (None, 100)               0         \n",
      "_________________________________________________________________\n",
      "dropout_19 (Dropout)         (None, 100)               0         \n",
      "_________________________________________________________________\n",
      "dense_8 (Dense)              (None, 8)                 808       \n",
      "_________________________________________________________________\n",
      "dropout_20 (Dropout)         (None, 8)                 0         \n",
      "_________________________________________________________________\n",
      "dense_9 (Dense)              (None, 1)                 9         \n",
      "=================================================================\n",
      "Total params: 1,000,817\n",
      "Trainable params: 1,000,817\n",
      "Non-trainable params: 0\n",
      "_________________________________________________________________\n"
     ]
    }
   ],
   "source": [
    "# build a model\n",
    "model = tf.keras.Sequential()\n",
    "model.add(tf.keras.layers.Embedding(vocab_size, word_vector_dim, input_shape=(None,)))\n",
    "model.add(tf.keras.layers.Dropout(0.2)) # add dropout\n",
    "model.add(tf.keras.layers.GlobalMaxPooling1D())\n",
    "model.add(tf.keras.layers.Dropout(0.2))\n",
    "model.add(tf.keras.layers.Dense(8, activation='relu'))\n",
    "model.add(tf.keras.layers.Dropout(0.2))\n",
    "model.add(tf.keras.layers.Dense(1, activation='sigmoid'))  # use sigmoid as output to be 1 dim of 1/0 (positive/negative)\n",
    "\n",
    "model.summary()"
   ]
  },
  {
   "cell_type": "code",
   "execution_count": 37,
   "id": "0a9edf75",
   "metadata": {},
   "outputs": [
    {
     "name": "stdout",
     "output_type": "stream",
     "text": [
      "Epoch 1/150\n",
      "229/229 [==============================] - 1s 5ms/step - loss: 0.5349 - accuracy: 0.7459 - val_loss: 0.3898 - val_accuracy: 0.8362\n",
      "Epoch 2/150\n",
      "229/229 [==============================] - 1s 4ms/step - loss: 0.3761 - accuracy: 0.8405 - val_loss: 0.3552 - val_accuracy: 0.8474\n",
      "Epoch 3/150\n",
      "229/229 [==============================] - 1s 4ms/step - loss: 0.3437 - accuracy: 0.8591 - val_loss: 0.3469 - val_accuracy: 0.8521\n",
      "Epoch 4/150\n",
      "229/229 [==============================] - 1s 4ms/step - loss: 0.3256 - accuracy: 0.8695 - val_loss: 0.3435 - val_accuracy: 0.8525\n",
      "Epoch 5/150\n",
      "229/229 [==============================] - 1s 4ms/step - loss: 0.3140 - accuracy: 0.8741 - val_loss: 0.3437 - val_accuracy: 0.8515\n",
      "Epoch 6/150\n",
      "229/229 [==============================] - 1s 4ms/step - loss: 0.3052 - accuracy: 0.8792 - val_loss: 0.3440 - val_accuracy: 0.8506\n",
      "Epoch 7/150\n",
      "229/229 [==============================] - 1s 4ms/step - loss: 0.2986 - accuracy: 0.8821 - val_loss: 0.3462 - val_accuracy: 0.8504\n"
     ]
    }
   ],
   "source": [
    "# build and train a model\n",
    "model.compile(optimizer='adam', loss='binary_crossentropy', metrics=['accuracy'])\n",
    "# changing optimizer learning rate : optimizer=tf.keras.optimizer.Adam(learning_rate=1e-3)\n",
    "\n",
    "history = model.fit(X_train,\n",
    "                    y_train,\n",
    "                    epochs=epoch,\n",
    "                    batch_size=512,\n",
    "                    validation_split=0.2,\n",
    "                    callbacks=early_stopping,\n",
    "                    verbose=1)"
   ]
  },
  {
   "cell_type": "code",
   "execution_count": 38,
   "id": "ce5c9854",
   "metadata": {},
   "outputs": [
    {
     "name": "stdout",
     "output_type": "stream",
     "text": [
      "dict_keys(['loss', 'accuracy', 'val_loss', 'val_accuracy'])\n"
     ]
    },
    {
     "data": {
      "image/png": "[encoded data removed]",
      "text/plain": [
       "<Figure size 432x288 with 1 Axes>"
      ]
     },
     "metadata": {
      "needs_background": "light"
     },
     "output_type": "display_data"
    }
   ],
   "source": [
    "# plot accuracy and loss\n",
    "history_dict = history.history\n",
    "print(history_dict.keys()) # keys to check parameters for plotting\n",
    "\n",
    "acc = history_dict['accuracy']\n",
    "val_acc = history_dict['val_accuracy']\n",
    "loss = history_dict['loss']\n",
    "val_loss = history_dict['val_loss']\n",
    "\n",
    "epochs = range(1, len(acc) + 1)\n",
    "\n",
    "# \"bo\" is \"dotted blue\"\n",
    "plt.plot(epochs, loss, 'bo', label='Training loss')\n",
    "# \"b\" is \"blue line\"\n",
    "plt.plot(epochs, val_loss, 'b', label='Validation loss')\n",
    "plt.title('Training and validation loss')\n",
    "plt.xlabel('Epochs')\n",
    "plt.ylabel('Loss')\n",
    "plt.legend()\n",
    "\n",
    "plt.show()"
   ]
  },
  {
   "cell_type": "code",
   "execution_count": 39,
   "id": "b6befaac",
   "metadata": {},
   "outputs": [
    {
     "data": {
      "image/png": "[encoded data removed]",
      "text/plain": [
       "<Figure size 432x288 with 1 Axes>"
      ]
     },
     "metadata": {
      "needs_background": "light"
     },
     "output_type": "display_data"
    }
   ],
   "source": [
    "plt.clf()   # reset plot\n",
    "\n",
    "plt.plot(epochs, acc, 'bo', label='Training acc')\n",
    "plt.plot(epochs, val_acc, 'b', label='Validation acc')\n",
    "plt.title('Training and validation accuracy')\n",
    "plt.xlabel('Epochs')\n",
    "plt.ylabel('Accuracy')\n",
    "plt.legend()\n",
    "\n",
    "plt.show()"
   ]
  },
  {
   "cell_type": "code",
   "execution_count": 40,
   "id": "3dfb20da",
   "metadata": {},
   "outputs": [
    {
     "name": "stdout",
     "output_type": "stream",
     "text": [
      "1537/1537 - 2s - loss: 0.3548 - accuracy: 0.8454\n"
     ]
    }
   ],
   "source": [
    "# test a model\n",
    "result = model.evaluate(X_test, y_test, verbose=2)"
   ]
  },
  {
   "cell_type": "markdown",
   "id": "df24195e",
   "metadata": {},
   "source": [
    "### Find similarity (word)"
   ]
  },
  {
   "cell_type": "code",
   "execution_count": 41,
   "id": "9f574615",
   "metadata": {},
   "outputs": [],
   "source": [
    "# write and save an embedding parameter to a file\n",
    "word2vec_file_path = os.getenv('HOME')+'/aiffel/sentiment_classification/data/word2vec.txt'\n",
    "f = open(word2vec_file_path, 'w')\n",
    "f.write('{} {}\\n'.format(vocab_size-4, word_vector_dim))  # first row: how many vectors and what size\n",
    "\n",
    "# write total vocab - 4(special words)\n",
    "vectors = model.get_weights()[0]\n",
    "for i in range(4,vocab_size):\n",
    "    f.write('{} {}\\n'.format(index_to_word[i], ' '.join(map(str, list(vectors[i, :])))))\n",
    "f.close()"
   ]
  },
  {
   "cell_type": "code",
   "execution_count": 42,
   "id": "f1b3c086",
   "metadata": {},
   "outputs": [
    {
     "data": {
      "text/plain": [
       "array([-3.9957047e-02, -8.5944161e-03, -3.4310666e-03, -4.5485566e-03,\n",
       "       -4.6436870e-03, -7.4192905e-03, -2.8987074e-02, -4.9396646e-03,\n",
       "       -5.7413182e-03, -2.1388102e-02, -4.1838456e-02, -3.9327047e-03,\n",
       "       -2.9738357e-03, -1.8871093e-02, -1.5455268e-02, -4.8042857e-03,\n",
       "       -4.2644306e-03, -5.3136423e-04, -6.9508986e-03, -1.0236238e-02,\n",
       "       -1.6052566e-02,  7.3070087e-02, -3.6236741e-02, -3.8118385e-02,\n",
       "       -4.0751707e-02, -8.8571683e-03, -1.4205180e-02, -4.4004386e-03,\n",
       "       -2.4182713e-02, -1.8131532e-02, -2.6406694e-02, -4.1899728e-03,\n",
       "       -5.9016938e-03, -4.5408607e-02, -3.0682683e-02, -4.0420912e-02,\n",
       "       -2.8137064e-02, -1.0155536e-02, -2.0627923e-02, -2.0815009e-02,\n",
       "       -6.9313580e-03, -3.3073381e-02, -7.5662383e-03, -8.7714326e-03,\n",
       "       -1.0618188e-02, -6.1113350e-03, -3.8502775e-02, -3.7925433e-02,\n",
       "       -4.4996630e-02, -2.1995797e-03, -3.6920808e-02, -4.0982808e-03,\n",
       "       -1.6303902e-03, -2.2643674e-02, -4.6818972e-02, -4.0102457e-03,\n",
       "       -4.5375850e-02, -2.6562891e-03, -4.0644873e-03, -4.5777705e-02,\n",
       "       -8.6613735e-03, -9.9092722e-07, -6.1593698e-03, -3.4768858e-03,\n",
       "       -1.1179946e-02, -3.7061009e-03,  9.7602963e-02, -3.4003323e-03,\n",
       "       -4.2091835e-02, -2.4489487e-02, -4.0517878e-02, -4.3849289e-02,\n",
       "       -2.4215614e-02, -3.2563917e-03, -5.7014604e-03, -2.2582173e-02,\n",
       "       -3.8080278e-03, -1.2553416e-02, -1.9817984e-02, -1.3957273e-02,\n",
       "       -4.9081672e-02, -6.4977142e-03, -4.7999907e-02, -2.0478262e-02,\n",
       "       -2.8310001e-02, -4.0013768e-02, -1.3013579e-02, -5.2466020e-03,\n",
       "        4.1499112e-02, -2.4715042e-02, -6.6201114e-03, -1.2544741e-02,\n",
       "       -1.9192433e-02, -1.4607847e-02, -3.3407125e-03, -4.2005360e-02,\n",
       "       -9.4679259e-03, -4.9316980e-02, -3.4348607e-02, -9.8044984e-03],\n",
       "      dtype=float32)"
      ]
     },
     "execution_count": 42,
     "metadata": {},
     "output_type": "execute_result"
    }
   ],
   "source": [
    "word_vectors = Word2VecKeyedVectors.load_word2vec_format(word2vec_file_path, binary=False)\n",
    "vector = word_vectors['영화']\n",
    "vector"
   ]
  },
  {
   "cell_type": "code",
   "execution_count": 43,
   "id": "5cedcf1d",
   "metadata": {},
   "outputs": [
    {
     "name": "stdout",
     "output_type": "stream",
     "text": [
      "[('음', 0.614648163318634), ('까지', 0.5591128468513489), ('서', 0.5398938059806824), ('게', 0.5375556945800781), ('두', 0.5246056914329529), ('인', 0.5195581912994385), ('만든', 0.5136723518371582), ('대화', 0.5073970556259155), ('할', 0.5057383179664612), ('막', 0.5051164627075195)]\n",
      "[('했', 0.5978773236274719), ('행동', 0.5562528371810913), ('보다', 0.5264633893966675), ('오', 0.5256088972091675), ('을', 0.5175932049751282), ('어', 0.5026543736457825), ('어서', 0.49983155727386475), ('스릴러', 0.4910099506378174), ('더', 0.4903288185596466), ('다', 0.4831547737121582)]\n"
     ]
    }
   ],
   "source": [
    "# find similarity\n",
    "print(word_vectors.similar_by_word(\"영화\"))\n",
    "print(word_vectors.similar_by_word(\"나\"))"
   ]
  },
  {
   "cell_type": "code",
   "execution_count": 44,
   "id": "4b5e60cb",
   "metadata": {},
   "outputs": [
    {
     "data": {
      "text/plain": [
       "array([ 1.038851  , -1.1634965 ,  2.2386286 ,  0.8971453 , -2.088168  ,\n",
       "       -4.1942534 , -0.02519768, -0.69813883, -0.2908033 , -1.4651134 ,\n",
       "       -2.6863668 ,  0.7999443 , -0.6957915 , -0.5018775 ,  3.5025773 ,\n",
       "        0.21326113, -0.6588098 , -1.1900496 ,  0.61399573,  2.1247969 ,\n",
       "        0.1549463 ,  3.0840218 ,  3.1680267 , -3.9143991 ,  3.6073153 ,\n",
       "        0.5315545 , -0.3511633 , -1.107248  ,  1.7767181 , -0.95981866,\n",
       "        2.6072454 , -0.00697957, -3.27628   ,  1.558644  ,  0.81922376,\n",
       "        1.9231955 ,  3.7026553 , -0.53824735, -0.4920138 ,  2.4657123 ,\n",
       "       -2.620749  , -0.08950733,  0.61453176,  1.8866426 ,  0.257866  ,\n",
       "       -2.7827141 ,  2.9129577 , -0.6313133 ,  2.0387425 , -4.222685  ,\n",
       "       -2.7560544 ,  1.7903243 , -1.3080189 , -2.5531402 , -0.43849912,\n",
       "       -3.1073573 , -0.29090825,  5.1817617 ,  1.9604833 , -5.1421604 ,\n",
       "       -0.71431434,  4.5624633 , -0.55525815, -3.3019137 ,  1.6761336 ,\n",
       "       -1.9606539 , -0.2726863 ,  0.2465995 ,  1.2685091 ,  1.6055685 ,\n",
       "        1.8344896 ,  1.2752469 ,  0.99503314, -2.3348706 , -0.9290329 ,\n",
       "       -1.5920266 ,  5.693834  ,  1.1132814 , -0.9603875 , -1.970055  ,\n",
       "       -1.0120267 , -2.7289615 , -2.7759619 ,  3.214084  ,  1.8573734 ,\n",
       "       -1.3495721 , -0.10321241,  3.434593  , -2.8573685 , -1.9004927 ,\n",
       "       -1.6801298 , -2.805677  ,  1.7723105 , -0.41865307, -2.310913  ,\n",
       "       -6.2761464 , -0.8376036 ,  2.4590037 ,  2.1697695 , -4.440443  ],\n",
       "      dtype=float32)"
      ]
     },
     "execution_count": 44,
     "metadata": {},
     "output_type": "execute_result"
    }
   ],
   "source": [
    "# load word2vec Korean model\n",
    "# ensure to add '.wv' at the end\n",
    "word2vec_file_path = os.getenv('HOME') + '/aiffel/sentiment_classification/data/word2vec_ko.model'\n",
    "word2vec = Word2VecKeyedVectors.load(word2vec_file_path)\n",
    "vector = word2vec.wv['끝'] \n",
    "vector"
   ]
  },
  {
   "cell_type": "code",
   "execution_count": 45,
   "id": "1e37f1b0",
   "metadata": {},
   "outputs": [
    {
     "name": "stdout",
     "output_type": "stream",
     "text": [
      "[('드라마', 0.8418774008750916), ('뮤지컬', 0.7775140404701233), ('코미디', 0.7489107251167297), ('다큐멘터리', 0.7401294708251953), ('헐리우드', 0.7397844195365906), ('애니메이션', 0.7170552015304565), ('독립영화', 0.7113528251647949), ('로맨틱', 0.7107657194137573), ('장편', 0.7101576924324036), ('극영화', 0.7045413255691528)]\n",
      "[('든', 0.546347975730896), ('와', 0.5454912781715393), ('똥', 0.5381466150283813), ('항상', 0.5252891778945923), ('가', 0.5160491466522217), ('누에', 0.5154241919517517), ('목욕', 0.5139148235321045), ('성게', 0.5074856281280518), ('내', 0.5045832991600037), ('미역', 0.5039044618606567)]\n"
     ]
    }
   ],
   "source": [
    "# find similarity\n",
    "print(word2vec.wv.most_similar(\"영화\"))\n",
    "print(word2vec.wv.most_similar(\"나\"))"
   ]
  },
  {
   "cell_type": "code",
   "execution_count": 46,
   "id": "c74f0d9e",
   "metadata": {},
   "outputs": [],
   "source": [
    "# create a random matrix with vocab size and word vector dimension\n",
    "embedding_matrix = np.random.rand(vocab_size, word_vector_dim)\n",
    "\n",
    "# copy words from word2vec Korean word to embedding_matrix\n",
    "for i in range(4,vocab_size):\n",
    "    if index_to_word[i] in word2vec.wv:\n",
    "        embedding_matrix[i] = word2vec.wv[index_to_word[i]]"
   ]
  },
  {
   "cell_type": "code",
   "execution_count": 47,
   "id": "74b49b09",
   "metadata": {},
   "outputs": [
    {
     "name": "stdout",
     "output_type": "stream",
     "text": [
      "Model: \"sequential_5\"\n",
      "_________________________________________________________________\n",
      "Layer (type)                 Output Shape              Param #   \n",
      "=================================================================\n",
      "embedding_5 (Embedding)      (None, 41, 100)           1000000   \n",
      "_________________________________________________________________\n",
      "dropout_21 (Dropout)         (None, 41, 100)           0         \n",
      "_________________________________________________________________\n",
      "global_max_pooling1d_3 (Glob (None, 100)               0         \n",
      "_________________________________________________________________\n",
      "dropout_22 (Dropout)         (None, 100)               0         \n",
      "_________________________________________________________________\n",
      "dense_10 (Dense)             (None, 8)                 808       \n",
      "_________________________________________________________________\n",
      "dropout_23 (Dropout)         (None, 8)                 0         \n",
      "_________________________________________________________________\n",
      "dense_11 (Dense)             (None, 1)                 9         \n",
      "=================================================================\n",
      "Total params: 1,000,817\n",
      "Trainable params: 1,000,817\n",
      "Non-trainable params: 0\n",
      "_________________________________________________________________\n"
     ]
    }
   ],
   "source": [
    "# build a model\n",
    "model = tf.keras.Sequential()\n",
    "model.add(tf.keras.layers.Embedding(vocab_size, word_vector_dim,\n",
    "                                 embeddings_initializer=Constant(embedding_matrix),  # use copied embedding matrix\n",
    "                                 input_length=maxlen, \n",
    "                                 trainable=True))   # fine-tuning: trainable = True\n",
    "model.add(tf.keras.layers.Dropout(0.2)) # add dropout\n",
    "model.add(tf.keras.layers.GlobalMaxPooling1D())\n",
    "model.add(tf.keras.layers.Dropout(0.2))\n",
    "model.add(tf.keras.layers.Dense(8, activation='relu'))\n",
    "model.add(tf.keras.layers.Dropout(0.2))\n",
    "model.add(tf.keras.layers.Dense(1, activation='sigmoid'))  # use sigmoid as output to be 1 dim of 1/0 (positive/negative)\n",
    "\n",
    "model.summary()"
   ]
  },
  {
   "cell_type": "code",
   "execution_count": 48,
   "id": "a6d392ed",
   "metadata": {},
   "outputs": [
    {
     "name": "stdout",
     "output_type": "stream",
     "text": [
      "Epoch 1/150\n",
      "229/229 [==============================] - 2s 5ms/step - loss: 1.0542 - accuracy: 0.5217 - val_loss: 0.6896 - val_accuracy: 0.5602\n",
      "Epoch 2/150\n",
      "229/229 [==============================] - 1s 4ms/step - loss: 0.6911 - accuracy: 0.5437 - val_loss: 0.6828 - val_accuracy: 0.5964\n",
      "Epoch 3/150\n",
      "229/229 [==============================] - 1s 4ms/step - loss: 0.6815 - accuracy: 0.5667 - val_loss: 0.6673 - val_accuracy: 0.6335\n",
      "Epoch 4/150\n",
      "229/229 [==============================] - 1s 4ms/step - loss: 0.6713 - accuracy: 0.5833 - val_loss: 0.6533 - val_accuracy: 0.6503\n",
      "Epoch 5/150\n",
      "229/229 [==============================] - 1s 4ms/step - loss: 0.6616 - accuracy: 0.5976 - val_loss: 0.6405 - val_accuracy: 0.6674\n",
      "Epoch 6/150\n",
      "229/229 [==============================] - 1s 4ms/step - loss: 0.6516 - accuracy: 0.6123 - val_loss: 0.6407 - val_accuracy: 0.6666\n",
      "Epoch 7/150\n",
      "229/229 [==============================] - 1s 4ms/step - loss: 0.6430 - accuracy: 0.6242 - val_loss: 0.6158 - val_accuracy: 0.6947\n",
      "Epoch 8/150\n",
      "229/229 [==============================] - 1s 4ms/step - loss: 0.6328 - accuracy: 0.6384 - val_loss: 0.6036 - val_accuracy: 0.7025\n",
      "Epoch 9/150\n",
      "229/229 [==============================] - 1s 4ms/step - loss: 0.6216 - accuracy: 0.6521 - val_loss: 0.5894 - val_accuracy: 0.7171\n",
      "Epoch 10/150\n",
      "229/229 [==============================] - 1s 4ms/step - loss: 0.6099 - accuracy: 0.6663 - val_loss: 0.5811 - val_accuracy: 0.7165\n",
      "Epoch 11/150\n",
      "229/229 [==============================] - 1s 4ms/step - loss: 0.6004 - accuracy: 0.6753 - val_loss: 0.5672 - val_accuracy: 0.7304\n",
      "Epoch 12/150\n",
      "229/229 [==============================] - 1s 4ms/step - loss: 0.5881 - accuracy: 0.6884 - val_loss: 0.5581 - val_accuracy: 0.7357\n",
      "Epoch 13/150\n",
      "229/229 [==============================] - 1s 4ms/step - loss: 0.5790 - accuracy: 0.6973 - val_loss: 0.5437 - val_accuracy: 0.7478\n",
      "Epoch 14/150\n",
      "229/229 [==============================] - 1s 4ms/step - loss: 0.5691 - accuracy: 0.7069 - val_loss: 0.5339 - val_accuracy: 0.7524\n",
      "Epoch 15/150\n",
      "229/229 [==============================] - 1s 4ms/step - loss: 0.5609 - accuracy: 0.7133 - val_loss: 0.5187 - val_accuracy: 0.7593\n",
      "Epoch 16/150\n",
      "229/229 [==============================] - 1s 4ms/step - loss: 0.5537 - accuracy: 0.7191 - val_loss: 0.5098 - val_accuracy: 0.7692\n",
      "Epoch 17/150\n",
      "229/229 [==============================] - 1s 4ms/step - loss: 0.5458 - accuracy: 0.7253 - val_loss: 0.5106 - val_accuracy: 0.7705\n",
      "Epoch 18/150\n",
      "229/229 [==============================] - 1s 4ms/step - loss: 0.5391 - accuracy: 0.7306 - val_loss: 0.5014 - val_accuracy: 0.7744\n",
      "Epoch 19/150\n",
      "229/229 [==============================] - 1s 4ms/step - loss: 0.5326 - accuracy: 0.7348 - val_loss: 0.4951 - val_accuracy: 0.7773\n",
      "Epoch 20/150\n",
      "229/229 [==============================] - 1s 4ms/step - loss: 0.5279 - accuracy: 0.7403 - val_loss: 0.4788 - val_accuracy: 0.7828\n",
      "Epoch 21/150\n",
      "229/229 [==============================] - 1s 4ms/step - loss: 0.5210 - accuracy: 0.7438 - val_loss: 0.4812 - val_accuracy: 0.7837\n",
      "Epoch 22/150\n",
      "229/229 [==============================] - 1s 4ms/step - loss: 0.5172 - accuracy: 0.7467 - val_loss: 0.4789 - val_accuracy: 0.7839\n",
      "Epoch 23/150\n",
      "229/229 [==============================] - 1s 4ms/step - loss: 0.5120 - accuracy: 0.7520 - val_loss: 0.4751 - val_accuracy: 0.7877\n",
      "Epoch 24/150\n",
      "229/229 [==============================] - 1s 4ms/step - loss: 0.5091 - accuracy: 0.7544 - val_loss: 0.4676 - val_accuracy: 0.7919\n",
      "Epoch 25/150\n",
      "229/229 [==============================] - 1s 4ms/step - loss: 0.5038 - accuracy: 0.7562 - val_loss: 0.4579 - val_accuracy: 0.7977\n",
      "Epoch 26/150\n",
      "229/229 [==============================] - 1s 4ms/step - loss: 0.4994 - accuracy: 0.7601 - val_loss: 0.4483 - val_accuracy: 0.7999\n",
      "Epoch 27/150\n",
      "229/229 [==============================] - 1s 4ms/step - loss: 0.4951 - accuracy: 0.7631 - val_loss: 0.4533 - val_accuracy: 0.8017\n",
      "Epoch 28/150\n",
      "229/229 [==============================] - 1s 4ms/step - loss: 0.4925 - accuracy: 0.7647 - val_loss: 0.4442 - val_accuracy: 0.8039\n",
      "Epoch 29/150\n",
      "229/229 [==============================] - 1s 4ms/step - loss: 0.4881 - accuracy: 0.7691 - val_loss: 0.4415 - val_accuracy: 0.8061\n",
      "Epoch 30/150\n",
      "229/229 [==============================] - 1s 4ms/step - loss: 0.4827 - accuracy: 0.7721 - val_loss: 0.4438 - val_accuracy: 0.8041\n",
      "Epoch 31/150\n",
      "229/229 [==============================] - 1s 4ms/step - loss: 0.4809 - accuracy: 0.7740 - val_loss: 0.4489 - val_accuracy: 0.8056\n",
      "Epoch 32/150\n",
      "229/229 [==============================] - 1s 4ms/step - loss: 0.4780 - accuracy: 0.7744 - val_loss: 0.4364 - val_accuracy: 0.8094\n",
      "Epoch 33/150\n",
      "229/229 [==============================] - 1s 4ms/step - loss: 0.4738 - accuracy: 0.7784 - val_loss: 0.4361 - val_accuracy: 0.8090\n",
      "Epoch 34/150\n",
      "229/229 [==============================] - 1s 4ms/step - loss: 0.4717 - accuracy: 0.7780 - val_loss: 0.4262 - val_accuracy: 0.8124\n",
      "Epoch 35/150\n",
      "229/229 [==============================] - 1s 4ms/step - loss: 0.4667 - accuracy: 0.7816 - val_loss: 0.4349 - val_accuracy: 0.8124\n",
      "Epoch 36/150\n",
      "229/229 [==============================] - 1s 4ms/step - loss: 0.4649 - accuracy: 0.7840 - val_loss: 0.4305 - val_accuracy: 0.8127\n",
      "Epoch 37/150\n",
      "229/229 [==============================] - 1s 4ms/step - loss: 0.4602 - accuracy: 0.7854 - val_loss: 0.4244 - val_accuracy: 0.8148\n",
      "Epoch 38/150\n",
      "229/229 [==============================] - 1s 4ms/step - loss: 0.4562 - accuracy: 0.7879 - val_loss: 0.4281 - val_accuracy: 0.8136\n",
      "Epoch 39/150\n",
      "229/229 [==============================] - 1s 4ms/step - loss: 0.4501 - accuracy: 0.7882 - val_loss: 0.4202 - val_accuracy: 0.8164\n",
      "Epoch 40/150\n",
      "229/229 [==============================] - 1s 4ms/step - loss: 0.4497 - accuracy: 0.7898 - val_loss: 0.4160 - val_accuracy: 0.8180\n",
      "Epoch 41/150\n",
      "229/229 [==============================] - 1s 4ms/step - loss: 0.4468 - accuracy: 0.7918 - val_loss: 0.4135 - val_accuracy: 0.8192\n",
      "Epoch 42/150\n",
      "229/229 [==============================] - 1s 4ms/step - loss: 0.4426 - accuracy: 0.7930 - val_loss: 0.4099 - val_accuracy: 0.8222\n",
      "Epoch 43/150\n",
      "229/229 [==============================] - 1s 4ms/step - loss: 0.4395 - accuracy: 0.7960 - val_loss: 0.4045 - val_accuracy: 0.8225\n",
      "Epoch 44/150\n",
      "229/229 [==============================] - 1s 4ms/step - loss: 0.4372 - accuracy: 0.7962 - val_loss: 0.4029 - val_accuracy: 0.8225\n",
      "Epoch 45/150\n",
      "229/229 [==============================] - 1s 4ms/step - loss: 0.4350 - accuracy: 0.7973 - val_loss: 0.4056 - val_accuracy: 0.8239\n",
      "Epoch 46/150\n",
      "229/229 [==============================] - 1s 4ms/step - loss: 0.4305 - accuracy: 0.7986 - val_loss: 0.4067 - val_accuracy: 0.8236\n",
      "Epoch 47/150\n",
      "229/229 [==============================] - 1s 4ms/step - loss: 0.4296 - accuracy: 0.8001 - val_loss: 0.3995 - val_accuracy: 0.8250\n",
      "Epoch 48/150\n",
      "229/229 [==============================] - 1s 4ms/step - loss: 0.4264 - accuracy: 0.8004 - val_loss: 0.3989 - val_accuracy: 0.8246\n",
      "Epoch 49/150\n",
      "229/229 [==============================] - 1s 4ms/step - loss: 0.4232 - accuracy: 0.8021 - val_loss: 0.3950 - val_accuracy: 0.8264\n",
      "Epoch 50/150\n",
      "229/229 [==============================] - 1s 4ms/step - loss: 0.4206 - accuracy: 0.8102 - val_loss: 0.4012 - val_accuracy: 0.8270\n",
      "Epoch 51/150\n",
      "229/229 [==============================] - 1s 4ms/step - loss: 0.4196 - accuracy: 0.8126 - val_loss: 0.3946 - val_accuracy: 0.8281\n",
      "Epoch 52/150\n",
      "229/229 [==============================] - 1s 4ms/step - loss: 0.4173 - accuracy: 0.8157 - val_loss: 0.3923 - val_accuracy: 0.8287\n",
      "Epoch 53/150\n",
      "229/229 [==============================] - 1s 4ms/step - loss: 0.4164 - accuracy: 0.8161 - val_loss: 0.3978 - val_accuracy: 0.8266\n",
      "Epoch 54/150\n",
      "229/229 [==============================] - 1s 4ms/step - loss: 0.4155 - accuracy: 0.8172 - val_loss: 0.3952 - val_accuracy: 0.8307\n",
      "Epoch 55/150\n",
      "229/229 [==============================] - 1s 4ms/step - loss: 0.4126 - accuracy: 0.8185 - val_loss: 0.3892 - val_accuracy: 0.8304\n",
      "Epoch 56/150\n",
      "229/229 [==============================] - 1s 4ms/step - loss: 0.4123 - accuracy: 0.8177 - val_loss: 0.3921 - val_accuracy: 0.8289\n",
      "Epoch 57/150\n",
      "229/229 [==============================] - 1s 4ms/step - loss: 0.4092 - accuracy: 0.8198 - val_loss: 0.3925 - val_accuracy: 0.8307\n"
     ]
    },
    {
     "name": "stdout",
     "output_type": "stream",
     "text": [
      "Epoch 58/150\n",
      "229/229 [==============================] - 1s 4ms/step - loss: 0.4055 - accuracy: 0.8229 - val_loss: 0.3875 - val_accuracy: 0.8302\n",
      "Epoch 59/150\n",
      "229/229 [==============================] - 1s 4ms/step - loss: 0.4072 - accuracy: 0.8205 - val_loss: 0.3862 - val_accuracy: 0.8326\n",
      "Epoch 60/150\n",
      "229/229 [==============================] - 1s 4ms/step - loss: 0.4034 - accuracy: 0.8240 - val_loss: 0.3792 - val_accuracy: 0.8323\n",
      "Epoch 61/150\n",
      "229/229 [==============================] - 1s 4ms/step - loss: 0.4030 - accuracy: 0.8231 - val_loss: 0.3825 - val_accuracy: 0.8343\n",
      "Epoch 62/150\n",
      "229/229 [==============================] - 1s 4ms/step - loss: 0.4014 - accuracy: 0.8257 - val_loss: 0.3876 - val_accuracy: 0.8349\n",
      "Epoch 63/150\n",
      "229/229 [==============================] - 1s 4ms/step - loss: 0.3991 - accuracy: 0.8253 - val_loss: 0.3810 - val_accuracy: 0.8337\n",
      "Epoch 64/150\n",
      "229/229 [==============================] - 1s 4ms/step - loss: 0.3985 - accuracy: 0.8260 - val_loss: 0.3825 - val_accuracy: 0.8348\n",
      "Epoch 65/150\n",
      "229/229 [==============================] - 1s 4ms/step - loss: 0.3960 - accuracy: 0.8274 - val_loss: 0.3825 - val_accuracy: 0.8346\n"
     ]
    }
   ],
   "source": [
    "# compile and train and model\n",
    "model.compile(optimizer='adam', loss='binary_crossentropy', metrics=['accuracy'])\n",
    "# changing optimizer learning rate : optimizer=tf.keras.optimizer.Adam(learning_rate=1e-3)\n",
    "\n",
    "history = model.fit(X_train,\n",
    "                    y_train,\n",
    "                    epochs=epoch,\n",
    "                    batch_size=512,\n",
    "                    validation_split=0.2,\n",
    "                    callbacks=early_stopping,\n",
    "                    verbose=1)"
   ]
  },
  {
   "cell_type": "code",
   "execution_count": 49,
   "id": "6dfce00d",
   "metadata": {},
   "outputs": [
    {
     "name": "stdout",
     "output_type": "stream",
     "text": [
      "1537/1537 - 2s - loss: 0.3824 - accuracy: 0.8335\n"
     ]
    }
   ],
   "source": [
    "# test a model\n",
    "result = model.evaluate(X_test, y_test, verbose=2)"
   ]
  },
  {
   "attachments": {
    "image-2.png": {
     "image/png": "[encoded data removed]"
    },
    "image.png": {
     "image/png": "[encoded data removed]"
    }
   },
   "cell_type": "markdown",
   "id": "e198854a",
   "metadata": {},
   "source": [
    "# 회고\n",
    "\n",
    "1회차\n",
    "- 이번 프로젝트를 진행하며 3가지 방식으로 모델을 구축하였다.\n",
    "    - RNN, 1-D CNN, 그리고 Globalmaxpooling 1D\n",
    "- 이번 모델은 many to one 형태로 앞에 들어가는 단어보다 뒤에 오는 단어가 더 중요하기에 padding sequence는 'pre'로 맞춰놓았다.\n",
    "- 처음에는 데이터 전처리 흐름이 잘 이해하기 힘들어서 여러번 노드를 보며 진행하였다.\n",
    "    - IMDB의 데이터셋은 인코딩부터 word_to_index까지 다 이미 모듈이 있어서 다운을 받음으로 해결이 되었지만, Naver Sentiment Movie Corpus (NSMC)는 전혀 가공되지 않은 파일이어서 전처리 과정이 힘들었다.\n",
    "- 시각화를 해본 결과, loss가 0.6 이하로 내려가지 않았고 accuracy도 50% 이상으로 올라가지 않았다\n",
    "\n",
    "2회차\n",
    "- 1회차 때 모델 학습결과가 크게 바뀌지 않는것에 의문이 들었고, 자세히 살펴본 결과 단어사전의 크기를 10으로 두었다는 것을 알게됐다.\n",
    "- 또한 벡터 차원의 수도 4로 둔것을 찾아냈다.\n",
    "- 단어사전 크기를 10000으로 그리고 벡터 차원의 수는 16으로 바꿔주니 loss값과 accuracy값이 올라가는 것을 확인할 수 있었다.\n",
    "- 다만 val_accuracy가 기대치에 못 미치는 경향을 보였다.\n",
    "- 그 이유가 그래프에서 볼 수 있듯이 학습을 하면 할수록 overfitting 되는 상황이 발생하기 때문이었다.\n",
    "- epoch을 20으로 할 때나 50으로 할 때 비슷한 경향을 보였다.\n",
    "\n",
    "![image.png](attachment:image.png)\n",
    "\n",
    "![image-2.png](attachment:image-2.png)\n",
    "\n",
    "- 과적합을 방지하기 위해 early stopping을 추가해 주었고, model blueprint에 dropout도 추가해 주었고, 기대치에 맞는 정확도를 보였다.\n",
    "- 정확도는 맞췄지만, 단어 '영화'와 '나'의 유사단어들의 결과가 좋지 않았다.\n",
    "\n",
    "3회차\n",
    "- 단어의 유사도를 맞추기 위해 `word2vec_ko.model`를 사용했다.\n",
    "    - `FileNotFoundError: [Errno 2] No such file or directory: '/aiffel/aiffel/sentiment_classification/data/word2vec_ko.model.wv.vectors.npy'` 에러가 났다\n",
    "    - 파일이 없다는 에러라는 걸 알았지만, `word2vec_ko.model`모델을 돌리면 `.wv` `wv.vectors.npy`등등 나오는 것으로 처음엔 생각해서 많이 헤맸다.\n",
    "- `word2vec_ko.model`을 불러오는 문제가 무사히 해결되고 나서 generator cannot be iterated라는 문제가 word2vec에서 embedding matrix에 덮어씌우고 새로 학습하려는 과정에서 생겼다.\n",
    "    - 결국에는 word2vec 뒤에 `.wv`를 안 붙여서 생기는 문제라는 것을 알아내서 고쳤다.\n",
    "- 해결한 후에 단어 유사도를 확인해 보니 유사단어를 훨씬 잘 나타내었다.\n",
    "- 노드 8-10, Google word2vec 때 처럼 단어장을 불러오고 덮어씌우고 과정에서 3개의 모델 다 5% 이상의 정확도의 상승률을 기대했지만, 2% 이하로 미미한 상승률을 보였다.\n",
    "- 3개의 모델 중 RNN는 가장 높은 정확도로 `word2vec_ko.model`을 적용하기 전에도 항상 85% 이상의 정확도를 보였다. `word2vec_ko.model`을 적용하고 난 후에는 86-87% 대의 정확도를 보였다.\n",
    "- 1-D CNN은 `word2vec_ko.model`을 사용하기 전에는 보통 84% 대의 정확도를 보였고 가끔 85% 이상의 정확도를 보였다. `word2vec_ko.model`을 적용하고 난 후에는 항상 85% 이상의 정확도를 보였다.\n",
    "- GlobalMaxPooling1D는 `word2vec_ko.model`을 사용하기 전에는 84% 대의 정확도를 보였고 `word2vec_ko.model`을 적용한 후에는 오히려 82-83% 대로 떨어지는 경향을 보였다.\n",
    "- 노드 8-7에서는 GlobalMaxPooling1D으로 전체 문장 중 가장 중요한 단어만 피처를 선택 후 긍정/부정을 평가하는 방식으로 성능이 잘 나올 수 있다고 했지만, 내 경우엔 아니었다.\n",
    "    - 인터넷에 찾아보려고 했지만 결과가 나오지도 않았다. 다른 사람들이랑 토론을 해봐야 할 것 같다."
   ]
  },
  {
   "cell_type": "code",
   "execution_count": null,
   "id": "6e877bc0",
   "metadata": {},
   "outputs": [],
   "source": []
  }
 ],
 "metadata": {
  "kernelspec": {
   "display_name": "Python 3 (ipykernel)",
   "language": "python",
   "name": "python3"
  },
  "language_info": {
   "codemirror_mode": {
    "name": "ipython",
    "version": 3
   },
   "file_extension": ".py",
   "mimetype": "text/x-python",
   "name": "python",
   "nbconvert_exporter": "python",
   "pygments_lexer": "ipython3",
   "version": "3.9.7"
  }
 },
 "nbformat": 4,
 "nbformat_minor": 5
}
